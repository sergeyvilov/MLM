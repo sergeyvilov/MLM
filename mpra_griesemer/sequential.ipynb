{
 "cells": [
  {
   "cell_type": "code",
   "execution_count": null,
   "id": "2f03e8bb-e534-4836-9702-11275bc430a3",
   "metadata": {
    "tags": []
   },
   "outputs": [],
   "source": [
    "import pandas as pd\n",
    "import numpy as np"
   ]
  },
  {
   "cell_type": "code",
   "execution_count": null,
   "id": "ff3055cd-5d4f-4464-8da8-a305ece5e4f9",
   "metadata": {
    "tags": []
   },
   "outputs": [],
   "source": [
    "cell_type = 'HEPG2' #HMEC,HEK293FT,HEPG2,K562,GM12878,SKNSH"
   ]
  },
  {
   "cell_type": "code",
   "execution_count": null,
   "id": "a5eb4614-5114-4f9d-8815-d00a98ac4029",
   "metadata": {
    "tags": []
   },
   "outputs": [],
   "source": [
    "data_dir = '/s/project/mll/sergey/effect_prediction/MLM/griesemer/'\n",
    "\n",
    "mpra_df = pd.read_csv(data_dir + 'mpra_df.tsv', sep='\\t')\n",
    "emb_mlm = np.load(data_dir + \"embeddings/seq_len_5000/embeddings.npy\")\n",
    "\n",
    "mpra_df['Expression'] = mpra_df.apply(lambda x: x[f'log2FoldChange_Alt_{cell_type}'] if x.oligo_id.endswith('_alt') else x[f'log2FoldChange_Ref_{cell_type}'], axis=1)  \n",
    "mpra_df.Expression = mpra_df.Expression.apply(lambda x:x.replace(',','.') if type(x)==str else x).astype(float)"
   ]
  },
  {
   "cell_type": "code",
   "execution_count": null,
   "id": "5eea7d0c-3643-4351-840f-f58d9d47f1de",
   "metadata": {
    "tags": []
   },
   "outputs": [],
   "source": [
    "is_snp = mpra_df.ref_allele.str.len() == mpra_df.alt_allele.str.len()\n",
    "\n",
    "flt = mpra_df[f'log2FoldChange_Skew_{cell_type}'].isna()  | (~is_snp) | (mpra_df.stop_codon_dist>5000) #| mpra_df.oligo_id.str.contains('_ref$')\n",
    "\n",
    "mpra_df = mpra_df[~flt]\n",
    "emb_mlm = emb_mlm[~flt]"
   ]
  },
  {
   "cell_type": "code",
   "execution_count": null,
   "id": "dac83b08-4f86-43b9-9c9a-dc2635caf2cd",
   "metadata": {
    "tags": []
   },
   "outputs": [],
   "source": [
    "X = emb_mlm\n",
    "y = mpra_df.Expression.values\n",
    "groups = mpra_df.group.values"
   ]
  },
  {
   "cell_type": "code",
   "execution_count": null,
   "id": "08fd0807-53ea-47dd-867b-1b74d03fcd59",
   "metadata": {
    "tags": []
   },
   "outputs": [],
   "source": [
    "def pearson_r2(y_true,y_pred):\n",
    "    y_true = y_true.detach().numpy()[:,0]\n",
    "    y_pred = y_pred.detach().numpy()[:,0]\n",
    "    return scipy.stats.pearsonr(y_true, y_pred)[0] ** 2"
   ]
  },
  {
   "cell_type": "code",
   "execution_count": null,
   "id": "8577c501-3cd4-4064-bd50-88645f652793",
   "metadata": {
    "tags": []
   },
   "outputs": [],
   "source": [
    "import copy\n",
    "import torch\n",
    "import torch.nn as nn\n",
    "import scipy\n",
    "#from tqdm.notebook import tqdm\n",
    "import tqdm\n",
    "from sklearn.model_selection import GroupShuffleSplit\n",
    "import torch.optim as optim\n",
    " \n",
    "# loss function and optimizer\n",
    "loss_fn = nn.MSELoss()  # mean square error\n"
   ]
  },
  {
   "cell_type": "code",
   "execution_count": 128,
   "id": "a23284a6-05d6-4074-91bd-faa404c1e17c",
   "metadata": {
    "tags": []
   },
   "outputs": [],
   "source": [
    "def pearson_r(x,y):\n",
    "    '''\n",
    "    Compute Pearson r coefficient between samples x and y\n",
    "    '''\n",
    "    x = np.array(x)\n",
    "    y = np.array(y)\n",
    "    cov_xy = np.mean((x - x.mean()) * (y - y.mean()))\n",
    "    r = cov_xy / (x.std() * y.std())\n",
    "    return r"
   ]
  },
  {
   "cell_type": "code",
   "execution_count": 133,
   "id": "c0539477-fe09-4b65-8f6e-5944f0e0b0ef",
   "metadata": {},
   "outputs": [],
   "source": [
    "from torch import nn\n",
    "from torch.optim import AdamW\n",
    "\n",
    "class MLPRegressor():\n",
    "    def __init__(self, hidden_layer_sizes=(64,32,16,), \n",
    "                 p_dropout=0, weight_decay=0, lr=0.0005,\n",
    "                batch_size = 1000, N_epochs = 500, **kwargs):\n",
    "                \n",
    "        self.hidden_layer_sizes = hidden_layer_sizes\n",
    "        self.p_dropout = p_dropout\n",
    "        self.weight_decay = weight_decay\n",
    "        self.lr = lr\n",
    "        \n",
    "        self.batch_size = batch_size\n",
    "        self.N_epochs = N_epochs\n",
    "        \n",
    "        self.loss_fn = nn.MSELoss()\n",
    "\n",
    "    def init_model(self):\n",
    "        \n",
    "        #define model architecture\n",
    "        model_layers = []\n",
    "        for layer_size in self.hidden_layer_sizes:\n",
    "            model_layers.extend((nn.LazyLinear(layer_size), nn.Dropout(self.p_dropout), nn.ReLU(),))\n",
    "        model_layers.append(nn.LazyLinear(1))\n",
    "        self.model = nn.Sequential(*model_layers)\n",
    "        \n",
    "        #initialize optimizer\n",
    "        self.optimizer = AdamW(self.model.parameters(), weight_decay=self.weight_decay, lr=self.lr)\n",
    "    \n",
    "    def scorer(self, y_true, y_pred):\n",
    "        y_true = y_true.detach().numpy()[:,0]\n",
    "        y_pred = y_pred.detach().numpy()[:,0]\n",
    "        return pearson_r(y_true, y_pred) ** 2 \n",
    "    \n",
    "    def fit(self, X_train, y_train, X_val=None, y_val=None):\n",
    "        \n",
    "        self.init_model()\n",
    "        \n",
    "        self.history = [] #history for train and validation metrics\n",
    "        \n",
    "        batches_per_epoch = int(np.ceil(len(X_train)//self.batch_size))\n",
    "        \n",
    "        self.model.train()\n",
    "        \n",
    "        for epoch in range(self.N_epochs):\n",
    "            train_score, val_score = 0, 0\n",
    "            for batch_idx in range(batches_per_epoch):\n",
    "                # take a batch\n",
    "                X_batch = X_train[batch_idx*self.batch_size:(batch_idx+1)*self.batch_size]\n",
    "                y_batch = y_train[batch_idx*self.batch_size:(batch_idx+1)*self.batch_size]\n",
    "                # forward pass\n",
    "                y_pred = self.model(X_batch)\n",
    "                loss = self.loss_fn(y_pred, y_batch)\n",
    "                # backward pass\n",
    "                self.optimizer.zero_grad()\n",
    "                loss.backward()\n",
    "                # update weights\n",
    "                self.optimizer.step()\n",
    "                train_score += self.scorer(y_batch, y_pred)/batches_per_epoch\n",
    "            if X_val!=None:\n",
    "                self.model.eval()\n",
    "                y_pred = self.model(X_val)\n",
    "                val_score = self.scorer(y_val, y_pred)\n",
    "            self.history.append((train_score,val_score))\n",
    "        \n",
    "    def predict(self, X):\n",
    "        \n",
    "        self.model.eval()\n",
    "        \n",
    "        y_pred = self.model(X)\n",
    "        y_pred = y_pred.detach().numpy()\n",
    "        return y_pred\n",
    "        \n",
    "    def set_params(self, **kwargs):\n",
    "        \n",
    "        self.__dict__.update(kwargs)\n",
    "        \n",
    "    def score(self, X, y_true):\n",
    "        \n",
    "        y_pred = self.predict(X)\n",
    "        return self.scorer(y_true,y_pred)\n",
    "    \n",
    "M = MLPRegressor(p_dropout=0.1,weight_decay=1e-3,batch_size=1000)\n",
    "M.set_params(N_epochs=500)\n",
    "M.fit(X_train,y_train,X_test,y_test)"
   ]
  },
  {
   "cell_type": "code",
   "execution_count": 134,
   "id": "662517a3-7b6e-4111-9cba-cb8ea84017d2",
   "metadata": {
    "tags": []
   },
   "outputs": [
    {
     "data": {
      "text/plain": [
       "torch.Size([2818, 1])"
      ]
     },
     "execution_count": 134,
     "metadata": {},
     "output_type": "execute_result"
    }
   ],
   "source": [
    "y_test.shape"
   ]
  },
  {
   "cell_type": "code",
   "execution_count": 130,
   "id": "3655aacb-a5f6-4f06-86d1-1aad4f476e95",
   "metadata": {
    "tags": []
   },
   "outputs": [],
   "source": [
    "import matplotlib.pyplot as plt"
   ]
  },
  {
   "cell_type": "code",
   "execution_count": 131,
   "id": "5cb63e96-a8e0-44a5-931c-02480f2e6812",
   "metadata": {
    "tags": []
   },
   "outputs": [],
   "source": [
    "t,v = zip(*M.history)"
   ]
  },
  {
   "cell_type": "code",
   "execution_count": 132,
   "id": "efd9f2e7-4dfa-4d87-9c61-1091ed0485e3",
   "metadata": {
    "tags": []
   },
   "outputs": [
    {
     "data": {
      "image/png": "[encoded data removed]",
      "text/plain": [
       "<Figure size 640x480 with 1 Axes>"
      ]
     },
     "metadata": {},
     "output_type": "display_data"
    }
   ],
   "source": [
    "fig, ax = plt.subplots()\n",
    "ax.plot(v)\n",
    "ax.plot(t)\n",
    "ax.grid()"
   ]
  },
  {
   "cell_type": "code",
   "execution_count": null,
   "id": "aca121d3-2c78-4aab-aece-8f8350446cd7",
   "metadata": {
    "tags": []
   },
   "outputs": [],
   "source": []
  },
  {
   "cell_type": "code",
   "execution_count": null,
   "id": "41aaa258-dc51-4ae5-9a70-6cb091b79f74",
   "metadata": {
    "tags": []
   },
   "outputs": [],
   "source": [
    "list(range(0,105,10))"
   ]
  },
  {
   "cell_type": "code",
   "execution_count": null,
   "id": "be5e63ce-bd56-4e0b-8f84-43e4d657fc1d",
   "metadata": {
    "tags": []
   },
   "outputs": [],
   "source": [
    "# Define the model\n",
    "p_dropout = 0.\n",
    "\n",
    "model = nn.Sequential(\n",
    "    nn.Linear(128, 64),\n",
    "    nn.Dropout(p_dropout),\n",
    "    nn.ReLU(),\n",
    "    nn.Linear(64, 32),\n",
    "    nn.Dropout(p_dropout),\n",
    "    nn.ReLU(),\n",
    "    nn.Linear(32, 16),\n",
    "    nn.Dropout(p_dropout),\n",
    "    nn.ReLU(),\n",
    "    nn.Linear(16, 1)\n",
    ")\n",
    "\n",
    "optimizer = optim.Adam(model.parameters(), lr=0.0005)\n",
    "\n",
    "# train-test split of the dataset\n",
    "gss = GroupShuffleSplit(n_splits=1, train_size=.8, random_state=1)\n",
    "train_index, test_index = next(iter(gss.split(X, y, groups)))\n",
    "X_train, X_test, y_train, y_test = X[train_index,:],X[test_index,:],y[train_index],y[test_index]\n",
    "X_train = torch.tensor(X_train, dtype=torch.float32)\n",
    "y_train = torch.tensor(y_train, dtype=torch.float32).reshape(-1, 1)\n",
    "X_test = torch.tensor(X_test, dtype=torch.float32)\n",
    "y_test = torch.tensor(y_test, dtype=torch.float32).reshape(-1, 1)\n",
    " \n",
    "# training parameters\n",
    "n_epochs = 1000   # number of epochs to run\n",
    "batch_size = 1000  # size of each batch\n",
    "batch_start = torch.arange(0, len(X_train), batch_size)\n",
    " \n",
    "# Hold the best model\n",
    "best_score = -np.inf   # init to infinity\n",
    "best_weights = None\n",
    "history = []\n",
    " \n",
    "# training loop\n",
    "for epoch in range(n_epochs):\n",
    "    model.train()\n",
    "    with tqdm.tqdm(batch_start, unit=\"batch\", mininterval=0, disable=False) as bar:\n",
    "        bar.set_description(f\"Epoch {epoch}\")\n",
    "        for start in bar:\n",
    "            # take a batch\n",
    "            X_batch = X_train[start:start+batch_size]\n",
    "            y_batch = y_train[start:start+batch_size]\n",
    "            # forward pass\n",
    "            y_pred = model(X_batch)\n",
    "            loss = loss_fn(y_pred, y_batch)\n",
    "            # backward pass\n",
    "            optimizer.zero_grad()\n",
    "            loss.backward()\n",
    "            # update weights\n",
    "            optimizer.step()\n",
    "            # print progress\n",
    "            train_score = pearson_r2(y_batch, y_pred)\n",
    "    # evaluate accuracy at end of each epoch\n",
    "    model.eval()\n",
    "    y_pred = model(X_test)\n",
    "    test_score = pearson_r2(y_test, y_pred)\n",
    "    bar.set_postfix(r2_train=train_score)\n",
    "    print(train_score,test_score)\n",
    "    history.append(test_score)\n",
    "    if test_score < best_score:\n",
    "        best_mse = test_score\n",
    "        best_weights = copy.deepcopy(model.state_dict())"
   ]
  },
  {
   "cell_type": "code",
   "execution_count": null,
   "id": "fb5b47ca-8ed4-4016-a094-7f738ceb1364",
   "metadata": {
    "tags": []
   },
   "outputs": [],
   "source": [
    "y_pred.detach().numpy().shape"
   ]
  },
  {
   "cell_type": "code",
   "execution_count": null,
   "id": "4184e477-4f94-4eb1-8052-6f4cfa0ed552",
   "metadata": {
    "tags": []
   },
   "outputs": [],
   "source": [
    "y"
   ]
  },
  {
   "cell_type": "code",
   "execution_count": null,
   "id": "06e62c43-c054-46b0-af8e-993e153338e6",
   "metadata": {},
   "outputs": [],
   "source": []
  }
 ],
 "metadata": {
  "kernelspec": {
   "display_name": "Python [conda env:miniconda3-svilov-spade]",
   "language": "python",
   "name": "conda-env-miniconda3-svilov-spade-py"
  },
  "language_info": {
   "codemirror_mode": {
    "name": "ipython",
    "version": 3
   },
   "file_extension": ".py",
   "mimetype": "text/x-python",
   "name": "python",
   "nbconvert_exporter": "python",
   "pygments_lexer": "ipython3",
   "version": "3.10.9"
  }
 },
 "nbformat": 4,
 "nbformat_minor": 5
}
