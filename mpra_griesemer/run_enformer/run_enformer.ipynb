{
 "cells": [
  {
   "cell_type": "code",
   "execution_count": 1,
   "id": "3c4c7f20-668d-4673-b92f-9e95c63e42d8",
   "metadata": {
    "tags": []
   },
   "outputs": [
    {
     "name": "stderr",
     "output_type": "stream",
     "text": [
      "2023-06-08 12:06:58.370188: I tensorflow/stream_executor/platform/default/dso_loader.cc:53] Successfully opened dynamic library libcudart.so.11.0\n"
     ]
    }
   ],
   "source": [
    "import pandas as pd\n",
    "import numpy as np\n",
    "import pysam\n",
    "import tensorflow.compat.v2 as tf\n",
    "import os\n",
    "import pickle"
   ]
  },
  {
   "cell_type": "code",
   "execution_count": 2,
   "id": "9f7a593b-6a6a-4516-810f-1e36023bcc9e",
   "metadata": {
    "tags": []
   },
   "outputs": [],
   "source": [
    "#import tensorflow_hub as hub\n",
    "#enformer_model = hub.load(\"https://tfhub.dev/deepmind/enformer/1\").model"
   ]
  },
  {
   "cell_type": "code",
   "execution_count": 3,
   "id": "b004bd0c-464e-4940-9b77-35d47e995ccc",
   "metadata": {
    "tags": []
   },
   "outputs": [],
   "source": [
    "SEQ_LENGTH = 393216 #Enformer input sequences length\n",
    "N_bins = 896 #Number of Enformer output bins"
   ]
  },
  {
   "cell_type": "code",
   "execution_count": 4,
   "id": "fa2c549a-5330-430a-b58d-e653af11633d",
   "metadata": {
    "tags": []
   },
   "outputs": [],
   "source": [
    "start_row = 50\n",
    "stop_row = 150"
   ]
  },
  {
   "cell_type": "code",
   "execution_count": 5,
   "id": "459f02f3-e476-4aa5-9142-25cc6a3ef1a2",
   "metadata": {},
   "outputs": [
    {
     "name": "stdout",
     "output_type": "stream",
     "text": [
      "Start row: 50\n",
      "Stop row: 150\n"
     ]
    }
   ],
   "source": [
    "print(f'Start row: {start_row}')\n",
    "print(f'Stop row: {stop_row}')"
   ]
  },
  {
   "cell_type": "code",
   "execution_count": 6,
   "id": "47b4fb7e-1ddd-4740-9d16-4074f628a260",
   "metadata": {
    "tags": []
   },
   "outputs": [],
   "source": [
    "enformer_model_dir = '/s/project/mll/sergey/effect_prediction/tools/enformer/model/'\n",
    "fasta_fa = '/s/project/mll/sergey/ref_genomes/hg38.fa.gz'"
   ]
  },
  {
   "cell_type": "code",
   "execution_count": 7,
   "id": "fbe4c66d-f4e0-4fbf-b71f-8a31ef4e720b",
   "metadata": {
    "tags": []
   },
   "outputs": [],
   "source": [
    "datadir = '/s/project/mll/sergey/effect_prediction/MLM/'"
   ]
  },
  {
   "cell_type": "code",
   "execution_count": 8,
   "id": "f6888e2a-9ce6-4a88-80dd-5c4c40d72e86",
   "metadata": {
    "tags": []
   },
   "outputs": [],
   "source": [
    "variants_tsv = datadir + 'griesemer/GRCh38_UTR_variants.tsv' #all positions are 0-based [start, end)\n",
    "output_dir = datadir + 'griesemer/enformer/predictions/'"
   ]
  },
  {
   "cell_type": "code",
   "execution_count": 9,
   "id": "f0832065-4c50-4d42-9047-1bb78e5e0da0",
   "metadata": {
    "tags": []
   },
   "outputs": [],
   "source": [
    "#targets_idx = np.array(np.arange(0,674)) #DNASE"
   ]
  },
  {
   "cell_type": "code",
   "execution_count": 10,
   "id": "72d57fd9-3775-4085-8abe-4290c9bb5405",
   "metadata": {
    "tags": []
   },
   "outputs": [],
   "source": [
    "variants_df = pd.read_csv(variants_tsv, sep='\\t')\n",
    "\n",
    "variants_df = variants_df[variants_df.other_var_in_oligo_window.isna()] #seeding multiple variants into oligo sequence isn't currently supported\n",
    "\n",
    "variants_df['vartype'] = variants_df.apply(lambda x: 'SNP' if len(x.ref)==len(x.alt) else\n",
    "                                            'DEL' if len(x.ref)>len(x.alt) else 'INS', axis=1)\n",
    "\n",
    "variants_df = variants_df.sort_values(by='oligo_id')\n",
    "\n",
    "variants_df = variants_df[variants_df.tag == 'alt'] #take only one row pro variant (ref or alt)\n",
    "\n",
    "#change ref and alt for non-standard delection\n",
    "variants_df.loc[variants_df.mpra_variant_id=='chr4.4:56297874i','ref'] = 'CAG'\n",
    "variants_df.loc[variants_df.mpra_variant_id=='chr4.4:56297874i', 'alt'] = 'C'\n",
    "\n",
    "variants_df = variants_df.iloc[start_row:stop_row]"
   ]
  },
  {
   "cell_type": "code",
   "execution_count": 11,
   "id": "ea5c1622-c62d-46d9-80dc-3d4e9610b7c2",
   "metadata": {
    "tags": []
   },
   "outputs": [
    {
     "data": {
      "text/plain": [
       "100"
      ]
     },
     "execution_count": 11,
     "metadata": {},
     "output_type": "execute_result"
    }
   ],
   "source": [
    "len(variants_df)"
   ]
  },
  {
   "cell_type": "code",
   "execution_count": 12,
   "id": "24b70f97-ac1f-46fa-b7d6-531baffdc1ad",
   "metadata": {
    "tags": []
   },
   "outputs": [],
   "source": [
    "def check_ref(seq, variant, varpos):\n",
    "    '''\n",
    "    Detect reference mismatches\n",
    "    '''\n",
    "    if variant.vartype != 'DEL' and seq[varpos] != variant.ref:\n",
    "        return False\n",
    "    elif variant.vartype == 'DEL' and ''.join(seq[varpos:varpos+len(variant.ref)]) != variant.ref:\n",
    "        return False\n",
    "    \n",
    "    return True\n",
    "\n",
    "def insert_variant(ref, alt, pos, seq, seq_pos):\n",
    "    '''\n",
    "    insert a variant into an existing sequence\n",
    "    seq - array of 'A', 'T', 'C', 'G' or 'N'\n",
    "    seq_pos - absolute positions of sequence bp in the genome\n",
    "    '''\n",
    "    varpos = seq_pos.index(pos) #index inside the sequence of variant position (relative position)\n",
    "    if len(alt)==len(ref):\n",
    "        assert seq[varpos]==ref, 'Wrong reference allele'\n",
    "        seq[varpos] = alt\n",
    "    elif len(alt)>len(ref): #insertion\n",
    "        assert seq[varpos]==ref, 'Wrong reference allele'\n",
    "        seq = seq[:varpos] + list(alt) + seq[varpos+1:]\n",
    "        seq_pos = seq_pos[:varpos] + [seq_pos[varpos]]*len(alt) + seq_pos[varpos+1:] #assign all inserted bases the same position\n",
    "    else: #deletion\n",
    "        assert seq[varpos:varpos+len(ref)]==list(ref), 'Wrong reference allele'\n",
    "        seq = seq[:varpos+1] + seq[varpos+len(ref):]\n",
    "        seq_pos = seq_pos[:varpos+1] + seq_pos[varpos+len(ref):]\n",
    "    return seq, seq_pos\n",
    "\n",
    "def center_around_tss(seq, seq_pos, tss_pos):\n",
    "    '''\n",
    "    center the sequence around the TSS\n",
    "    seq - array of 'A', 'T', 'C', 'G' or 'N'\n",
    "    seq_pos - absolute positions of sequence bp in the genome\n",
    "    tss_pos - absolute position of TSS in the genome\n",
    "    '''\n",
    "\n",
    "    centered_seq = ['N']*SEQ_LENGTH #initialize centered sequence\n",
    "\n",
    "    tss_idx = seq_pos.index(tss_pos) #TSS index in the input sequence\n",
    "\n",
    "    left_seq = seq[max(0,tss_idx-SEQ_LENGTH//2):tss_idx] #part of the input sequence to the left of TSS\n",
    "    right_seq = seq[tss_idx:tss_idx+SEQ_LENGTH//2] #part of the input sequence to the right of TSS\n",
    "    \n",
    "    #insert left and right parts of the input sequence to the centered sequence\n",
    "    centered_seq[SEQ_LENGTH//2:SEQ_LENGTH//2+len(right_seq)] =  right_seq\n",
    "    centered_seq[SEQ_LENGTH//2-len(left_seq):SEQ_LENGTH//2] = left_seq\n",
    "\n",
    "    return centered_seq\n",
    "\n",
    "def reverse_complement(seq):\n",
    "    '''\n",
    "    reverse complement of a given sequence\n",
    "    '''\n",
    "    s = list(map(lambda x:{'A':'T','C':'G','T':'A','G':'C'}.get(x,'N'),seq))\n",
    "    return s[::-1]\n",
    "\n",
    "def roll_seq(seq, shift):\n",
    "    '''\n",
    "    shift a sequence to right (positive shift) or to left (negative shift)\n",
    "    pad with 'N'\n",
    "    '''\n",
    "    if shift>0:\n",
    "        return ['N']*shift + seq[:-shift]\n",
    "    else:\n",
    "        return seq[-shift:] + ['N']*(-shift)\n",
    "    \n",
    "def one_hot(seq):\n",
    "    '''\n",
    "    One-hot encoding in order 'ACGT'\n",
    "    '''\n",
    "    seq = np.array(seq)\n",
    "    s = np.vstack((seq=='A',seq=='C',seq=='G',seq=='T')).astype(int).T\n",
    "    return np.expand_dims(s,0)\n",
    "\n",
    "def enformer_predict(refseq_c, altseq_c):\n",
    "    '''\n",
    "    get enformer predictions for centered reference and alternative sequences\n",
    "    '''\n",
    "    #all_pred = []\n",
    "    \n",
    "    sequences = []\n",
    "    for seq in refseq_c, reverse_complement(refseq_c), altseq_c, reverse_complement(altseq_c):\n",
    "        for subseq in one_hot(seq), one_hot(roll_seq(seq,47)),one_hot(roll_seq(seq,-47)): \n",
    "            sequences.append(subseq[0,:])\n",
    "            #pred = enformer_model.predict_on_batch(subseq)['human'].numpy()\n",
    "            #all_pred.append(pred[:,N_bins//2,:]) #only the central bin\n",
    "\n",
    "    #all_pred = np.vstack(all_pred)\n",
    "    \n",
    "    all_pred = enformer_model.predict_on_batch(sequences)['human'].numpy()\n",
    "    \n",
    "    all_pred = all_pred[:,N_bins//2,:]#only the central bin\n",
    "\n",
    "    ref_pred = all_pred[:6,:].mean(axis=0) #average for seq, shifted seq (right), shifted seq (left) and reverse complement \n",
    "    alt_pred = all_pred[6:,:].mean(axis=0)\n",
    "\n",
    "    #log2fc = np.log2(alt_pred[targets_idx]/ref_pred[targets_idx]).mean()\n",
    "    \n",
    "    return ref_pred, alt_pred"
   ]
  },
  {
   "cell_type": "code",
   "execution_count": 13,
   "id": "82acf60f-45e6-4dfa-9e62-d204dff36916",
   "metadata": {
    "tags": []
   },
   "outputs": [
    {
     "name": "stdout",
     "output_type": "stream",
     "text": [
      "WARNING:tensorflow:SavedModel saved prior to TF 2.5 detected when loading Keras model. Please ensure that you are saving the model with model.save() or tf.keras.models.save_model(), *NOT* tf.saved_model.save(). To confirm, there should be a file named \"keras_metadata.pb\" in the SavedModel directory.\n"
     ]
    },
    {
     "name": "stderr",
     "output_type": "stream",
     "text": [
      "2023-06-08 12:07:02.562691: I tensorflow/stream_executor/platform/default/dso_loader.cc:53] Successfully opened dynamic library libcuda.so.1\n",
      "2023-06-08 12:07:06.464931: I tensorflow/stream_executor/cuda/cuda_gpu_executor.cc:937] successful NUMA node read from SysFS had negative value (-1), but there must be at least one NUMA node, so returning NUMA node zero\n",
      "2023-06-08 12:07:06.465750: I tensorflow/core/common_runtime/gpu/gpu_device.cc:1733] Found device 0 with properties: \n",
      "pciBusID: 0000:07:00.0 name: NVIDIA A40 computeCapability: 8.6\n",
      "coreClock: 1.74GHz coreCount: 84 deviceMemorySize: 44.38GiB deviceMemoryBandwidth: 648.29GiB/s\n",
      "2023-06-08 12:07:06.465792: I tensorflow/stream_executor/platform/default/dso_loader.cc:53] Successfully opened dynamic library libcudart.so.11.0\n",
      "2023-06-08 12:07:06.473936: I tensorflow/stream_executor/platform/default/dso_loader.cc:53] Successfully opened dynamic library libcublas.so.11\n",
      "2023-06-08 12:07:06.474003: I tensorflow/stream_executor/platform/default/dso_loader.cc:53] Successfully opened dynamic library libcublasLt.so.11\n",
      "2023-06-08 12:07:06.475926: I tensorflow/stream_executor/platform/default/dso_loader.cc:53] Successfully opened dynamic library libcufft.so.10\n",
      "2023-06-08 12:07:06.477058: I tensorflow/stream_executor/platform/default/dso_loader.cc:53] Successfully opened dynamic library libcurand.so.10\n",
      "2023-06-08 12:07:06.478663: I tensorflow/stream_executor/platform/default/dso_loader.cc:53] Successfully opened dynamic library libcusolver.so.11\n",
      "2023-06-08 12:07:06.480013: I tensorflow/stream_executor/platform/default/dso_loader.cc:53] Successfully opened dynamic library libcusparse.so.11\n",
      "2023-06-08 12:07:06.480844: I tensorflow/stream_executor/platform/default/dso_loader.cc:53] Successfully opened dynamic library libcudnn.so.8\n",
      "2023-06-08 12:07:06.481007: I tensorflow/stream_executor/cuda/cuda_gpu_executor.cc:937] successful NUMA node read from SysFS had negative value (-1), but there must be at least one NUMA node, so returning NUMA node zero\n",
      "2023-06-08 12:07:06.481753: I tensorflow/stream_executor/cuda/cuda_gpu_executor.cc:937] successful NUMA node read from SysFS had negative value (-1), but there must be at least one NUMA node, so returning NUMA node zero\n",
      "2023-06-08 12:07:06.482426: I tensorflow/core/common_runtime/gpu/gpu_device.cc:1871] Adding visible gpu devices: 0\n",
      "2023-06-08 12:07:06.483022: I tensorflow/core/platform/cpu_feature_guard.cc:142] This TensorFlow binary is optimized with oneAPI Deep Neural Network Library (oneDNN) to use the following CPU instructions in performance-critical operations:  AVX2 FMA\n",
      "To enable them in other operations, rebuild TensorFlow with the appropriate compiler flags.\n",
      "2023-06-08 12:07:06.484154: I tensorflow/stream_executor/cuda/cuda_gpu_executor.cc:937] successful NUMA node read from SysFS had negative value (-1), but there must be at least one NUMA node, so returning NUMA node zero\n",
      "2023-06-08 12:07:06.484839: I tensorflow/core/common_runtime/gpu/gpu_device.cc:1733] Found device 0 with properties: \n",
      "pciBusID: 0000:07:00.0 name: NVIDIA A40 computeCapability: 8.6\n",
      "coreClock: 1.74GHz coreCount: 84 deviceMemorySize: 44.38GiB deviceMemoryBandwidth: 648.29GiB/s\n",
      "2023-06-08 12:07:06.484915: I tensorflow/stream_executor/cuda/cuda_gpu_executor.cc:937] successful NUMA node read from SysFS had negative value (-1), but there must be at least one NUMA node, so returning NUMA node zero\n",
      "2023-06-08 12:07:06.485625: I tensorflow/stream_executor/cuda/cuda_gpu_executor.cc:937] successful NUMA node read from SysFS had negative value (-1), but there must be at least one NUMA node, so returning NUMA node zero\n",
      "2023-06-08 12:07:06.486289: I tensorflow/core/common_runtime/gpu/gpu_device.cc:1871] Adding visible gpu devices: 0\n",
      "2023-06-08 12:07:06.486329: I tensorflow/stream_executor/platform/default/dso_loader.cc:53] Successfully opened dynamic library libcudart.so.11.0\n",
      "2023-06-08 12:07:06.978575: I tensorflow/core/common_runtime/gpu/gpu_device.cc:1258] Device interconnect StreamExecutor with strength 1 edge matrix:\n",
      "2023-06-08 12:07:06.978637: I tensorflow/core/common_runtime/gpu/gpu_device.cc:1264]      0 \n",
      "2023-06-08 12:07:06.978646: I tensorflow/core/common_runtime/gpu/gpu_device.cc:1277] 0:   N \n",
      "2023-06-08 12:07:06.978977: I tensorflow/stream_executor/cuda/cuda_gpu_executor.cc:937] successful NUMA node read from SysFS had negative value (-1), but there must be at least one NUMA node, so returning NUMA node zero\n",
      "2023-06-08 12:07:06.979897: I tensorflow/stream_executor/cuda/cuda_gpu_executor.cc:937] successful NUMA node read from SysFS had negative value (-1), but there must be at least one NUMA node, so returning NUMA node zero\n",
      "2023-06-08 12:07:06.980645: I tensorflow/stream_executor/cuda/cuda_gpu_executor.cc:937] successful NUMA node read from SysFS had negative value (-1), but there must be at least one NUMA node, so returning NUMA node zero\n",
      "2023-06-08 12:07:06.981365: I tensorflow/core/common_runtime/gpu/gpu_device.cc:1418] Created TensorFlow device (/job:localhost/replica:0/task:0/device:GPU:0 with 43493 MB memory) -> physical GPU (device: 0, name: NVIDIA A40, pci bus id: 0000:07:00.0, compute capability: 8.6)\n"
     ]
    }
   ],
   "source": [
    "os.makedirs(output_dir, exist_ok=True)\n",
    "\n",
    "fasta = pysam.FastaFile(fasta_fa)\n",
    "\n",
    "enformer_model = tf.keras.models.load_model(enformer_model_dir).model"
   ]
  },
  {
   "cell_type": "code",
   "execution_count": 14,
   "id": "77c26259-94fe-4d40-9500-22d04f217e4f",
   "metadata": {
    "tags": []
   },
   "outputs": [
    {
     "name": "stdout",
     "output_type": "stream",
     "text": [
      "predicting for variant 7550: 16_17196622_TTC (1/100)\n"
     ]
    },
    {
     "name": "stderr",
     "output_type": "stream",
     "text": [
      "2023-06-08 12:07:16.918456: I tensorflow/compiler/mlir/mlir_graph_optimization_pass.cc:176] None of the MLIR Optimization Passes are enabled (registered 2)\n",
      "2023-06-08 12:07:17.023037: I tensorflow/core/platform/profile_utils/cpu_utils.cc:114] CPU Frequency: 2000065000 Hz\n",
      "2023-06-08 12:07:17.548503: I tensorflow/stream_executor/platform/default/dso_loader.cc:53] Successfully opened dynamic library libcublas.so.11\n",
      "2023-06-08 12:07:18.109663: I tensorflow/stream_executor/platform/default/dso_loader.cc:53] Successfully opened dynamic library libcublasLt.so.11\n",
      "2023-06-08 12:07:18.109758: I tensorflow/stream_executor/cuda/cuda_blas.cc:1838] TensorFloat-32 will be used for the matrix multiplication. This will only be logged once.\n",
      "2023-06-08 12:07:18.111064: I tensorflow/stream_executor/platform/default/dso_loader.cc:53] Successfully opened dynamic library libcudnn.so.8\n",
      "2023-06-08 12:07:18.602724: I tensorflow/stream_executor/cuda/cuda_dnn.cc:359] Loaded cuDNN version 8100\n",
      "2023-06-08 12:07:19.236399: W tensorflow/core/kernels/gpu_utils.cc:49] Failed to allocate memory for convolution redzone checking; skipping this check. This is benign and only means that we won't check cudnn for out-of-bounds reads and writes. This message will only be printed once.\n",
      "2023-06-08 12:07:19.289652: E tensorflow/core/platform/default/subprocess.cc:304] Start cannot spawn child process: No such file or directory\n",
      "2023-06-08 12:07:19.289678: W tensorflow/stream_executor/gpu/asm_compiler.cc:56] Couldn't invoke ptxas --version\n",
      "2023-06-08 12:07:19.291503: E tensorflow/core/platform/default/subprocess.cc:304] Start cannot spawn child process: No such file or directory\n",
      "2023-06-08 12:07:19.291570: W tensorflow/stream_executor/gpu/redzone_allocator.cc:314] Internal: Failed to launch ptxas\n",
      "Relying on driver to perform ptx compilation. \n",
      "Modify $PATH to customize ptxas location.\n",
      "This message will be only logged once.\n"
     ]
    },
    {
     "name": "stdout",
     "output_type": "stream",
     "text": [
      "predicting for variant 7555: 16_77316795_C (2/100)\n",
      "predicting for variant 7558: 16_835002_G_3'_End (3/100)\n",
      "predicting for variant 7560: 16_835045_A (4/100)\n",
      "predicting for variant 7562: 16_835104_A (5/100)\n",
      "predicting for variant 7565: 16_835113_A (6/100)\n",
      "predicting for variant 7566: 16_835147_T (7/100)\n",
      "predicting for variant 7568: 16_835303_G (8/100)\n",
      "predicting for variant 7570: 16_835382_T (9/100)\n",
      "predicting for variant 7572: 16_835597_G (10/100)\n",
      "predicting for variant 7574: 16_835679_T (11/100)\n",
      "predicting for variant 7577: 16_835765_T (12/100)\n",
      "predicting for variant 9009: 17_15622164_C (13/100)\n",
      "predicting for variant 9010: 17_15622684_G (14/100)\n",
      "predicting for variant 9013: 17_15623675_C (15/100)\n",
      "predicting for variant 9014: 17_15624052_G_3'_End (16/100)\n"
     ]
    },
    {
     "ename": "KeyboardInterrupt",
     "evalue": "",
     "output_type": "error",
     "traceback": [
      "\u001b[0;31m---------------------------------------------------------------------------\u001b[0m",
      "\u001b[0;31mKeyboardInterrupt\u001b[0m                         Traceback (most recent call last)",
      "Cell \u001b[0;32mIn[14], line 40\u001b[0m\n\u001b[1;32m     35\u001b[0m altseq_c \u001b[38;5;241m=\u001b[39m center_around_tss(altseq, altseq_pos, variant\u001b[38;5;241m.\u001b[39mvar_start) \u001b[38;5;66;03m#center around variant position\u001b[39;00m\n\u001b[1;32m     37\u001b[0m \u001b[38;5;66;03m#assert ''.join(refseq_c[SEQ_LENGTH//2:SEQ_LENGTH//2+len(variant.ref)])==variant.ref\u001b[39;00m\n\u001b[1;32m     38\u001b[0m \u001b[38;5;66;03m#assert ''.join(altseq_c[SEQ_LENGTH//2:SEQ_LENGTH//2+len(variant.alt)])==variant.alt\u001b[39;00m\n\u001b[0;32m---> 40\u001b[0m ref_pred, alt_pred \u001b[38;5;241m=\u001b[39m  \u001b[43menformer_predict\u001b[49m\u001b[43m(\u001b[49m\u001b[43mrefseq_c\u001b[49m\u001b[43m,\u001b[49m\u001b[43m \u001b[49m\u001b[43maltseq_c\u001b[49m\u001b[43m)\u001b[49m\n\u001b[1;32m     42\u001b[0m enformer_preds[(variant\u001b[38;5;241m.\u001b[39mmpra_variant_id,\u001b[38;5;124m'\u001b[39m\u001b[38;5;124mref\u001b[39m\u001b[38;5;124m'\u001b[39m)] \u001b[38;5;241m=\u001b[39m ref_pred\n\u001b[1;32m     43\u001b[0m enformer_preds[(variant\u001b[38;5;241m.\u001b[39mmpra_variant_id,\u001b[38;5;124m'\u001b[39m\u001b[38;5;124malt\u001b[39m\u001b[38;5;124m'\u001b[39m)] \u001b[38;5;241m=\u001b[39m alt_pred\n",
      "Cell \u001b[0;32mIn[12], line 93\u001b[0m, in \u001b[0;36menformer_predict\u001b[0;34m(refseq_c, altseq_c)\u001b[0m\n\u001b[1;32m     87\u001b[0m         sequences\u001b[38;5;241m.\u001b[39mappend(subseq[\u001b[38;5;241m0\u001b[39m,:])\n\u001b[1;32m     88\u001b[0m         \u001b[38;5;66;03m#pred = enformer_model.predict_on_batch(subseq)['human'].numpy()\u001b[39;00m\n\u001b[1;32m     89\u001b[0m         \u001b[38;5;66;03m#all_pred.append(pred[:,N_bins//2,:]) #only the central bin\u001b[39;00m\n\u001b[1;32m     90\u001b[0m \n\u001b[1;32m     91\u001b[0m \u001b[38;5;66;03m#all_pred = np.vstack(all_pred)\u001b[39;00m\n\u001b[0;32m---> 93\u001b[0m all_pred \u001b[38;5;241m=\u001b[39m \u001b[43menformer_model\u001b[49m\u001b[38;5;241;43m.\u001b[39;49m\u001b[43mpredict_on_batch\u001b[49m\u001b[43m(\u001b[49m\u001b[43msequences\u001b[49m\u001b[43m)\u001b[49m[\u001b[38;5;124m'\u001b[39m\u001b[38;5;124mhuman\u001b[39m\u001b[38;5;124m'\u001b[39m]\u001b[38;5;241m.\u001b[39mnumpy()\n\u001b[1;32m     95\u001b[0m all_pred \u001b[38;5;241m=\u001b[39m all_pred[:,N_bins\u001b[38;5;241m/\u001b[39m\u001b[38;5;241m/\u001b[39m\u001b[38;5;241m2\u001b[39m,:]\u001b[38;5;66;03m#only the central bin\u001b[39;00m\n\u001b[1;32m     97\u001b[0m ref_pred \u001b[38;5;241m=\u001b[39m all_pred[:\u001b[38;5;241m6\u001b[39m,:]\u001b[38;5;241m.\u001b[39mmean(axis\u001b[38;5;241m=\u001b[39m\u001b[38;5;241m0\u001b[39m) \u001b[38;5;66;03m#average for seq, shifted seq (right), shifted seq (left) and reverse complement \u001b[39;00m\n",
      "File \u001b[0;32m~/miniconda3/envs/svilov-enformer/lib/python3.8/site-packages/tensorflow/python/eager/def_function.py:889\u001b[0m, in \u001b[0;36mFunction.__call__\u001b[0;34m(self, *args, **kwds)\u001b[0m\n\u001b[1;32m    886\u001b[0m compiler \u001b[38;5;241m=\u001b[39m \u001b[38;5;124m\"\u001b[39m\u001b[38;5;124mxla\u001b[39m\u001b[38;5;124m\"\u001b[39m \u001b[38;5;28;01mif\u001b[39;00m \u001b[38;5;28mself\u001b[39m\u001b[38;5;241m.\u001b[39m_jit_compile \u001b[38;5;28;01melse\u001b[39;00m \u001b[38;5;124m\"\u001b[39m\u001b[38;5;124mnonXla\u001b[39m\u001b[38;5;124m\"\u001b[39m\n\u001b[1;32m    888\u001b[0m \u001b[38;5;28;01mwith\u001b[39;00m OptionalXlaContext(\u001b[38;5;28mself\u001b[39m\u001b[38;5;241m.\u001b[39m_jit_compile):\n\u001b[0;32m--> 889\u001b[0m   result \u001b[38;5;241m=\u001b[39m \u001b[38;5;28;43mself\u001b[39;49m\u001b[38;5;241;43m.\u001b[39;49m\u001b[43m_call\u001b[49m\u001b[43m(\u001b[49m\u001b[38;5;241;43m*\u001b[39;49m\u001b[43margs\u001b[49m\u001b[43m,\u001b[49m\u001b[43m \u001b[49m\u001b[38;5;241;43m*\u001b[39;49m\u001b[38;5;241;43m*\u001b[39;49m\u001b[43mkwds\u001b[49m\u001b[43m)\u001b[49m\n\u001b[1;32m    891\u001b[0m new_tracing_count \u001b[38;5;241m=\u001b[39m \u001b[38;5;28mself\u001b[39m\u001b[38;5;241m.\u001b[39mexperimental_get_tracing_count()\n\u001b[1;32m    892\u001b[0m without_tracing \u001b[38;5;241m=\u001b[39m (tracing_count \u001b[38;5;241m==\u001b[39m new_tracing_count)\n",
      "File \u001b[0;32m~/miniconda3/envs/svilov-enformer/lib/python3.8/site-packages/tensorflow/python/eager/def_function.py:924\u001b[0m, in \u001b[0;36mFunction._call\u001b[0;34m(self, *args, **kwds)\u001b[0m\n\u001b[1;32m    921\u001b[0m \u001b[38;5;28mself\u001b[39m\u001b[38;5;241m.\u001b[39m_lock\u001b[38;5;241m.\u001b[39mrelease()\n\u001b[1;32m    922\u001b[0m \u001b[38;5;66;03m# In this case we have not created variables on the first call. So we can\u001b[39;00m\n\u001b[1;32m    923\u001b[0m \u001b[38;5;66;03m# run the first trace but we should fail if variables are created.\u001b[39;00m\n\u001b[0;32m--> 924\u001b[0m results \u001b[38;5;241m=\u001b[39m \u001b[38;5;28;43mself\u001b[39;49m\u001b[38;5;241;43m.\u001b[39;49m\u001b[43m_stateful_fn\u001b[49m\u001b[43m(\u001b[49m\u001b[38;5;241;43m*\u001b[39;49m\u001b[43margs\u001b[49m\u001b[43m,\u001b[49m\u001b[43m \u001b[49m\u001b[38;5;241;43m*\u001b[39;49m\u001b[38;5;241;43m*\u001b[39;49m\u001b[43mkwds\u001b[49m\u001b[43m)\u001b[49m\n\u001b[1;32m    925\u001b[0m \u001b[38;5;28;01mif\u001b[39;00m \u001b[38;5;28mself\u001b[39m\u001b[38;5;241m.\u001b[39m_created_variables:\n\u001b[1;32m    926\u001b[0m   \u001b[38;5;28;01mraise\u001b[39;00m \u001b[38;5;167;01mValueError\u001b[39;00m(\u001b[38;5;124m\"\u001b[39m\u001b[38;5;124mCreating variables on a non-first call to a function\u001b[39m\u001b[38;5;124m\"\u001b[39m\n\u001b[1;32m    927\u001b[0m                    \u001b[38;5;124m\"\u001b[39m\u001b[38;5;124m decorated with tf.function.\u001b[39m\u001b[38;5;124m\"\u001b[39m)\n",
      "File \u001b[0;32m~/miniconda3/envs/svilov-enformer/lib/python3.8/site-packages/tensorflow/python/eager/function.py:3023\u001b[0m, in \u001b[0;36mFunction.__call__\u001b[0;34m(self, *args, **kwargs)\u001b[0m\n\u001b[1;32m   3020\u001b[0m \u001b[38;5;28;01mwith\u001b[39;00m \u001b[38;5;28mself\u001b[39m\u001b[38;5;241m.\u001b[39m_lock:\n\u001b[1;32m   3021\u001b[0m   (graph_function,\n\u001b[1;32m   3022\u001b[0m    filtered_flat_args) \u001b[38;5;241m=\u001b[39m \u001b[38;5;28mself\u001b[39m\u001b[38;5;241m.\u001b[39m_maybe_define_function(args, kwargs)\n\u001b[0;32m-> 3023\u001b[0m \u001b[38;5;28;01mreturn\u001b[39;00m \u001b[43mgraph_function\u001b[49m\u001b[38;5;241;43m.\u001b[39;49m\u001b[43m_call_flat\u001b[49m\u001b[43m(\u001b[49m\n\u001b[1;32m   3024\u001b[0m \u001b[43m    \u001b[49m\u001b[43mfiltered_flat_args\u001b[49m\u001b[43m,\u001b[49m\u001b[43m \u001b[49m\u001b[43mcaptured_inputs\u001b[49m\u001b[38;5;241;43m=\u001b[39;49m\u001b[43mgraph_function\u001b[49m\u001b[38;5;241;43m.\u001b[39;49m\u001b[43mcaptured_inputs\u001b[49m\u001b[43m)\u001b[49m\n",
      "File \u001b[0;32m~/miniconda3/envs/svilov-enformer/lib/python3.8/site-packages/tensorflow/python/eager/function.py:1960\u001b[0m, in \u001b[0;36mConcreteFunction._call_flat\u001b[0;34m(self, args, captured_inputs, cancellation_manager)\u001b[0m\n\u001b[1;32m   1956\u001b[0m possible_gradient_type \u001b[38;5;241m=\u001b[39m gradients_util\u001b[38;5;241m.\u001b[39mPossibleTapeGradientTypes(args)\n\u001b[1;32m   1957\u001b[0m \u001b[38;5;28;01mif\u001b[39;00m (possible_gradient_type \u001b[38;5;241m==\u001b[39m gradients_util\u001b[38;5;241m.\u001b[39mPOSSIBLE_GRADIENT_TYPES_NONE\n\u001b[1;32m   1958\u001b[0m     \u001b[38;5;129;01mand\u001b[39;00m executing_eagerly):\n\u001b[1;32m   1959\u001b[0m   \u001b[38;5;66;03m# No tape is watching; skip to running the function.\u001b[39;00m\n\u001b[0;32m-> 1960\u001b[0m   \u001b[38;5;28;01mreturn\u001b[39;00m \u001b[38;5;28mself\u001b[39m\u001b[38;5;241m.\u001b[39m_build_call_outputs(\u001b[38;5;28;43mself\u001b[39;49m\u001b[38;5;241;43m.\u001b[39;49m\u001b[43m_inference_function\u001b[49m\u001b[38;5;241;43m.\u001b[39;49m\u001b[43mcall\u001b[49m\u001b[43m(\u001b[49m\n\u001b[1;32m   1961\u001b[0m \u001b[43m      \u001b[49m\u001b[43mctx\u001b[49m\u001b[43m,\u001b[49m\u001b[43m \u001b[49m\u001b[43margs\u001b[49m\u001b[43m,\u001b[49m\u001b[43m \u001b[49m\u001b[43mcancellation_manager\u001b[49m\u001b[38;5;241;43m=\u001b[39;49m\u001b[43mcancellation_manager\u001b[49m\u001b[43m)\u001b[49m)\n\u001b[1;32m   1962\u001b[0m forward_backward \u001b[38;5;241m=\u001b[39m \u001b[38;5;28mself\u001b[39m\u001b[38;5;241m.\u001b[39m_select_forward_and_backward_functions(\n\u001b[1;32m   1963\u001b[0m     args,\n\u001b[1;32m   1964\u001b[0m     possible_gradient_type,\n\u001b[1;32m   1965\u001b[0m     executing_eagerly)\n\u001b[1;32m   1966\u001b[0m forward_function, args_with_tangents \u001b[38;5;241m=\u001b[39m forward_backward\u001b[38;5;241m.\u001b[39mforward()\n",
      "File \u001b[0;32m~/miniconda3/envs/svilov-enformer/lib/python3.8/site-packages/tensorflow/python/eager/function.py:591\u001b[0m, in \u001b[0;36m_EagerDefinedFunction.call\u001b[0;34m(self, ctx, args, cancellation_manager)\u001b[0m\n\u001b[1;32m    589\u001b[0m \u001b[38;5;28;01mwith\u001b[39;00m _InterpolateFunctionError(\u001b[38;5;28mself\u001b[39m):\n\u001b[1;32m    590\u001b[0m   \u001b[38;5;28;01mif\u001b[39;00m cancellation_manager \u001b[38;5;129;01mis\u001b[39;00m \u001b[38;5;28;01mNone\u001b[39;00m:\n\u001b[0;32m--> 591\u001b[0m     outputs \u001b[38;5;241m=\u001b[39m \u001b[43mexecute\u001b[49m\u001b[38;5;241;43m.\u001b[39;49m\u001b[43mexecute\u001b[49m\u001b[43m(\u001b[49m\n\u001b[1;32m    592\u001b[0m \u001b[43m        \u001b[49m\u001b[38;5;28;43mstr\u001b[39;49m\u001b[43m(\u001b[49m\u001b[38;5;28;43mself\u001b[39;49m\u001b[38;5;241;43m.\u001b[39;49m\u001b[43msignature\u001b[49m\u001b[38;5;241;43m.\u001b[39;49m\u001b[43mname\u001b[49m\u001b[43m)\u001b[49m\u001b[43m,\u001b[49m\n\u001b[1;32m    593\u001b[0m \u001b[43m        \u001b[49m\u001b[43mnum_outputs\u001b[49m\u001b[38;5;241;43m=\u001b[39;49m\u001b[38;5;28;43mself\u001b[39;49m\u001b[38;5;241;43m.\u001b[39;49m\u001b[43m_num_outputs\u001b[49m\u001b[43m,\u001b[49m\n\u001b[1;32m    594\u001b[0m \u001b[43m        \u001b[49m\u001b[43minputs\u001b[49m\u001b[38;5;241;43m=\u001b[39;49m\u001b[43margs\u001b[49m\u001b[43m,\u001b[49m\n\u001b[1;32m    595\u001b[0m \u001b[43m        \u001b[49m\u001b[43mattrs\u001b[49m\u001b[38;5;241;43m=\u001b[39;49m\u001b[43mattrs\u001b[49m\u001b[43m,\u001b[49m\n\u001b[1;32m    596\u001b[0m \u001b[43m        \u001b[49m\u001b[43mctx\u001b[49m\u001b[38;5;241;43m=\u001b[39;49m\u001b[43mctx\u001b[49m\u001b[43m)\u001b[49m\n\u001b[1;32m    597\u001b[0m   \u001b[38;5;28;01melse\u001b[39;00m:\n\u001b[1;32m    598\u001b[0m     outputs \u001b[38;5;241m=\u001b[39m execute\u001b[38;5;241m.\u001b[39mexecute_with_cancellation(\n\u001b[1;32m    599\u001b[0m         \u001b[38;5;28mstr\u001b[39m(\u001b[38;5;28mself\u001b[39m\u001b[38;5;241m.\u001b[39msignature\u001b[38;5;241m.\u001b[39mname),\n\u001b[1;32m    600\u001b[0m         num_outputs\u001b[38;5;241m=\u001b[39m\u001b[38;5;28mself\u001b[39m\u001b[38;5;241m.\u001b[39m_num_outputs,\n\u001b[0;32m   (...)\u001b[0m\n\u001b[1;32m    603\u001b[0m         ctx\u001b[38;5;241m=\u001b[39mctx,\n\u001b[1;32m    604\u001b[0m         cancellation_manager\u001b[38;5;241m=\u001b[39mcancellation_manager)\n",
      "File \u001b[0;32m~/miniconda3/envs/svilov-enformer/lib/python3.8/site-packages/tensorflow/python/eager/execute.py:59\u001b[0m, in \u001b[0;36mquick_execute\u001b[0;34m(op_name, num_outputs, inputs, attrs, ctx, name)\u001b[0m\n\u001b[1;32m     57\u001b[0m \u001b[38;5;28;01mtry\u001b[39;00m:\n\u001b[1;32m     58\u001b[0m   ctx\u001b[38;5;241m.\u001b[39mensure_initialized()\n\u001b[0;32m---> 59\u001b[0m   tensors \u001b[38;5;241m=\u001b[39m \u001b[43mpywrap_tfe\u001b[49m\u001b[38;5;241;43m.\u001b[39;49m\u001b[43mTFE_Py_Execute\u001b[49m\u001b[43m(\u001b[49m\u001b[43mctx\u001b[49m\u001b[38;5;241;43m.\u001b[39;49m\u001b[43m_handle\u001b[49m\u001b[43m,\u001b[49m\u001b[43m \u001b[49m\u001b[43mdevice_name\u001b[49m\u001b[43m,\u001b[49m\u001b[43m \u001b[49m\u001b[43mop_name\u001b[49m\u001b[43m,\u001b[49m\n\u001b[1;32m     60\u001b[0m \u001b[43m                                      \u001b[49m\u001b[43minputs\u001b[49m\u001b[43m,\u001b[49m\u001b[43m \u001b[49m\u001b[43mattrs\u001b[49m\u001b[43m,\u001b[49m\u001b[43m \u001b[49m\u001b[43mnum_outputs\u001b[49m\u001b[43m)\u001b[49m\n\u001b[1;32m     61\u001b[0m \u001b[38;5;28;01mexcept\u001b[39;00m core\u001b[38;5;241m.\u001b[39m_NotOkStatusException \u001b[38;5;28;01mas\u001b[39;00m e:\n\u001b[1;32m     62\u001b[0m   \u001b[38;5;28;01mif\u001b[39;00m name \u001b[38;5;129;01mis\u001b[39;00m \u001b[38;5;129;01mnot\u001b[39;00m \u001b[38;5;28;01mNone\u001b[39;00m:\n",
      "\u001b[0;31mKeyboardInterrupt\u001b[0m: "
     ]
    }
   ],
   "source": [
    "n_mismatches = 0\n",
    "\n",
    "ref_pred, alt_pred = None,None\n",
    "\n",
    "row_idx = 1\n",
    "\n",
    "enformer_preds = {}\n",
    "\n",
    "for var_idx, variant in variants_df.iterrows():\n",
    "    \n",
    "    print(f'predicting for variant {var_idx}: {variant.mpra_variant_id} ({row_idx}/{len(variants_df)})')\n",
    "    \n",
    "    refseq = fasta.fetch(variant.chrom, max(variant.var_start-SEQ_LENGTH//2,0), variant.var_start+SEQ_LENGTH//2) #fetch a region of SEQ_LENGTH around the variant\n",
    "    \n",
    "    refseq = list(refseq.upper())\n",
    "    \n",
    "    refseq_left_pos = max(int(variant.var_start-SEQ_LENGTH//2),0) #actual absolute left position in the fetched sequence\n",
    "    refseq_right_pos = refseq_left_pos+len(refseq) #actual absolute right position in the fetched sequence\n",
    "    \n",
    "    refseq_pos = list(range(refseq_left_pos,refseq_right_pos)) #all absolute positions in refseq\n",
    "    \n",
    "    varpos = int(variant.var_start - refseq_left_pos) #relative variant position in the sequence\n",
    "\n",
    "    if not check_ref(refseq, variant, varpos):\n",
    "        #check if reference allele is correct\n",
    "        print('Wrong reference allele!')\n",
    "        n_mismatches += 1\n",
    "        continue\n",
    "    \n",
    "    altseq, altseq_pos = list(refseq), list(refseq_pos)\n",
    "    \n",
    "    altseq, altseq_pos = insert_variant(variant.ref, variant.alt, variant.var_start, altseq, altseq_pos)\n",
    "    \n",
    "    refseq_c = center_around_tss(refseq, refseq_pos, variant.var_start) #center around variant position\n",
    "    altseq_c = center_around_tss(altseq, altseq_pos, variant.var_start) #center around variant position\n",
    "    \n",
    "    #assert ''.join(refseq_c[SEQ_LENGTH//2:SEQ_LENGTH//2+len(variant.ref)])==variant.ref\n",
    "    #assert ''.join(altseq_c[SEQ_LENGTH//2:SEQ_LENGTH//2+len(variant.alt)])==variant.alt\n",
    "    \n",
    "    ref_pred, alt_pred =  enformer_predict(refseq_c, altseq_c)\n",
    "        \n",
    "    enformer_preds[(variant.mpra_variant_id,'ref')] = ref_pred\n",
    "    enformer_preds[(variant.mpra_variant_id,'alt')] = alt_pred\n",
    "\n",
    "    row_idx += 1\n",
    "\n",
    "print(f'{n_mismatches} reference mismatches detected')\n",
    "\n",
    "with open(output_dir + f'{start_row}-{stop_row}.pickle', 'wb') as f:\n",
    "    pickle.dump(enformer_preds, f)"
   ]
  },
  {
   "cell_type": "code",
   "execution_count": null,
   "id": "9023f043-7c75-4ce0-8f31-dc59a21f4764",
   "metadata": {},
   "outputs": [],
   "source": []
  }
 ],
 "metadata": {
  "kernelspec": {
   "display_name": "Python [conda env:miniconda3-svilov-enformer]",
   "language": "python",
   "name": "conda-env-miniconda3-svilov-enformer-py"
  },
  "language_info": {
   "codemirror_mode": {
    "name": "ipython",
    "version": 3
   },
   "file_extension": ".py",
   "mimetype": "text/x-python",
   "name": "python",
   "nbconvert_exporter": "python",
   "pygments_lexer": "ipython3",
   "version": "3.8.16"
  }
 },
 "nbformat": 4,
 "nbformat_minor": 5
}
