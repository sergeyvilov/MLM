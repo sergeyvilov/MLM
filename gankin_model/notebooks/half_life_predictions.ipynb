{
 "cells": [
  {
   "cell_type": "code",
   "execution_count": 1,
   "id": "9ef08229-5db6-424e-8cc6-54bf176a8dc0",
   "metadata": {
    "tags": []
   },
   "outputs": [
    {
     "ename": "ModuleNotFoundError",
     "evalue": "No module named 'statannotations'",
     "output_type": "error",
     "traceback": [
      "\u001b[0;31m---------------------------------------------------------------------------\u001b[0m",
      "\u001b[0;31mModuleNotFoundError\u001b[0m                       Traceback (most recent call last)",
      "Cell \u001b[0;32mIn[1], line 26\u001b[0m\n\u001b[1;32m     24\u001b[0m \u001b[38;5;28;01mimport\u001b[39;00m \u001b[38;5;21;01mseaborn\u001b[39;00m \u001b[38;5;28;01mas\u001b[39;00m \u001b[38;5;21;01msns\u001b[39;00m\n\u001b[1;32m     25\u001b[0m \u001b[38;5;66;03m#import statannot\u001b[39;00m\n\u001b[0;32m---> 26\u001b[0m \u001b[38;5;28;01mimport\u001b[39;00m \u001b[38;5;21;01mstatannotations\u001b[39;00m\n\u001b[1;32m     27\u001b[0m \u001b[38;5;28;01mfrom\u001b[39;00m \u001b[38;5;21;01mstatannotations\u001b[39;00m\u001b[38;5;21;01m.\u001b[39;00m\u001b[38;5;21;01mAnnotator\u001b[39;00m \u001b[38;5;28;01mimport\u001b[39;00m Annotator\n\u001b[1;32m     28\u001b[0m \u001b[38;5;28;01mfrom\u001b[39;00m \u001b[38;5;21;01mstatannotations\u001b[39;00m\u001b[38;5;21;01m.\u001b[39;00m\u001b[38;5;21;01mstats\u001b[39;00m\u001b[38;5;21;01m.\u001b[39;00m\u001b[38;5;21;01mStatTest\u001b[39;00m \u001b[38;5;28;01mimport\u001b[39;00m StatTest\n",
      "\u001b[0;31mModuleNotFoundError\u001b[0m: No module named 'statannotations'"
     ]
    }
   ],
   "source": [
    "import math\n",
    "import itertools\n",
    "\n",
    "import numpy as np\n",
    "import pandas as pd\n",
    "import scipy\n",
    "\n",
    "import statsmodels\n",
    "import statsmodels.api as sm\n",
    "import statsmodels.formula.api as smf\n",
    "\n",
    "import sklearn\n",
    "from sklearn import ensemble\n",
    "from sklearn import pipeline\n",
    "from sklearn.model_selection import cross_val_score, cross_validate, cross_val_predict\n",
    "from sklearn.cross_decomposition import PLSRegression\n",
    "from sklearn.metrics.pairwise import cosine_similarity\n",
    "import patsy\n",
    "\n",
    "import matplotlib.pyplot as plt\n",
    "import matplotlib as mpl\n",
    "from matplotlib import cm\n",
    "from matplotlib.colors import ListedColormap, LinearSegmentedColormap\n",
    "import seaborn as sns\n",
    "#import statannot\n",
    "import statannotations\n",
    "from statannotations.Annotator import Annotator\n",
    "from statannotations.stats.StatTest import StatTest\n",
    "#import plotnine as p9\n",
    "\n",
    "import Bio.motifs as motifs"
   ]
  },
  {
   "cell_type": "code",
   "execution_count": 16,
   "id": "e9be9d0c-c1d7-41c6-a784-b469314e6f3c",
   "metadata": {
    "tags": []
   },
   "outputs": [],
   "source": [
    "import gensim\n",
    "\n",
    "from gensim.test.utils import common_texts\n",
    "\n",
    "from gensim.models import Word2Vec\n",
    "from gensim.models import Doc2Vec\n",
    "from gensim.models.doc2vec import TaggedDocument"
   ]
  },
  {
   "cell_type": "code",
   "execution_count": 8,
   "id": "9a77ab9b-1af3-41f7-8b6a-1c568c3e09d7",
   "metadata": {
    "tags": []
   },
   "outputs": [],
   "source": [
    "# paths \n",
    "data_dir = \"/s/project/mll/sergey/effect_prediction/MLM/Gankin_data/\""
   ]
  },
  {
   "cell_type": "code",
   "execution_count": 6,
   "id": "b987aaec-e884-40dd-87cb-d33437c046b8",
   "metadata": {
    "tags": []
   },
   "outputs": [],
   "source": [
    "halflife_df = pd.read_csv(data_dir + \"Scer_half_life.csv\")\n",
    "halflife_pombe_df = pd.read_csv(data_dir + \"Pombe_half_life.csv\")\n",
    "puf3_binding = pd.read_csv(data_dir + \"puf3_clip_targets.tsv\", sep=\"\\t\")"
   ]
  },
  {
   "cell_type": "code",
   "execution_count": 7,
   "id": "9ffb240e-74b9-44cf-9992-3d9e0f581ef5",
   "metadata": {
    "tags": []
   },
   "outputs": [],
   "source": [
    "#[x for x in halflife_pombe_df.columns]"
   ]
  },
  {
   "cell_type": "code",
   "execution_count": 8,
   "id": "730ed10a-f6d4-412a-ba02-905faccb018b",
   "metadata": {
    "tags": []
   },
   "outputs": [],
   "source": [
    "emb = np.load(data_dir + 'results/embeddings/scer_seq_embeddings.npy')\n",
    "emb_pombe = np.load(data_dir + \"results/embeddings/embeddings_s_pombe.npy\") "
   ]
  },
  {
   "cell_type": "markdown",
   "id": "8653a513-c32b-4355-8acb-ccbdb3fd7738",
   "metadata": {},
   "source": [
    "# Utility Functions"
   ]
  },
  {
   "cell_type": "code",
   "execution_count": 4,
   "id": "c5ce82f2-6fd9-4deb-b0a6-f850efafe743",
   "metadata": {
    "tags": []
   },
   "outputs": [],
   "source": [
    "class Kmerizer:\n",
    "    \n",
    "    def __init__(self, k, log=False, divide=False, leave_one_out=False):\n",
    "        self.k = k\n",
    "        if leave_one_out:\n",
    "            self.kmers = {\"\".join(x):i for i,x in zip(range(4**k), [x for x in itertools.product(\"ACGT\",repeat=k)][:-1])}\n",
    "        else:\n",
    "            self.kmers = {\"\".join(x):i for i,x in zip(range(4**k), itertools.product(\"ACGT\",repeat=k))}\n",
    "        self.log = log\n",
    "        self.divide = divide\n",
    "        \n",
    "    def kmerize(self, seq):\n",
    "        counts = np.zeros(4**self.k)\n",
    "        i = 0\n",
    "        while i < len(seq) - self.k + 1: \n",
    "            kmer = seq[i:i+self.k]\n",
    "            counts[self.kmers[kmer]] += 1\n",
    "            i += 1\n",
    "        if self.divide:\n",
    "            counts = counts/len(seq)\n",
    "        if self.log:\n",
    "            counts = np.log(counts + 1)\n",
    "        return counts\n",
    "    \n",
    "    def tokenize(self, seq, jump=False):\n",
    "        kmers = []\n",
    "        i = 0\n",
    "        while i < len(seq) - self.k + 1: \n",
    "            kmer = seq[i:i+self.k]\n",
    "            kmers.append(kmer)\n",
    "            if jump:\n",
    "                i += self.k\n",
    "            else:\n",
    "                i += 1\n",
    "        return kmers\n",
    "    \n",
    "kmerizer2 = Kmerizer(k=2)\n",
    "kmerizer3 = Kmerizer(k=3)\n",
    "kmerizer4 = Kmerizer(k=4)\n",
    "kmerizer5 = Kmerizer(k=5)\n",
    "kmerizer6 = Kmerizer(k=6)\n",
    "kmerizer7 = Kmerizer(k=7)"
   ]
  },
  {
   "cell_type": "code",
   "execution_count": 5,
   "id": "4a9f9e2c-9054-491d-ab03-a1dc49d8ce56",
   "metadata": {
    "tags": []
   },
   "outputs": [
    {
     "ename": "NameError",
     "evalue": "name 'StatTest' is not defined",
     "output_type": "error",
     "traceback": [
      "\u001b[0;31m---------------------------------------------------------------------------\u001b[0m",
      "\u001b[0;31mNameError\u001b[0m                                 Traceback (most recent call last)",
      "Cell \u001b[0;32mIn[5], line 25\u001b[0m\n\u001b[1;32m     23\u001b[0m custom_short_name \u001b[38;5;241m=\u001b[39m \u001b[38;5;124m'\u001b[39m\u001b[38;5;124mNormal\u001b[39m\u001b[38;5;124m'\u001b[39m\n\u001b[1;32m     24\u001b[0m custom_func \u001b[38;5;241m=\u001b[39m bootstrap_normal\n\u001b[0;32m---> 25\u001b[0m bstrap_normal_test \u001b[38;5;241m=\u001b[39m \u001b[43mStatTest\u001b[49m(custom_func, custom_long_name, custom_short_name)\n\u001b[1;32m     27\u001b[0m \u001b[38;5;28;01mdef\u001b[39;00m \u001b[38;5;21mbootstrap_empirical\u001b[39m(x, y):\n\u001b[1;32m     28\u001b[0m     x, y \u001b[38;5;241m=\u001b[39m np\u001b[38;5;241m.\u001b[39marray(x), np\u001b[38;5;241m.\u001b[39marray(y)\n",
      "\u001b[0;31mNameError\u001b[0m: name 'StatTest' is not defined"
     ]
    }
   ],
   "source": [
    "def pearson_scorer(estimator, X, y):\n",
    "    y_pred = estimator.predict(X)\n",
    "    if len(y_pred.shape) == 2:\n",
    "        y_pred = y_pred.reshape(-1)\n",
    "    return scipy.stats.pearsonr(y, y_pred)[0]\n",
    "\n",
    "def pearson_r2(estimator, X, y):\n",
    "    y_pred = estimator.predict(X)\n",
    "    #print(estimator[1].alpha_)\n",
    "    if len(y_pred.shape) == 2:\n",
    "        y_pred = y_pred.reshape(-1)\n",
    "    return scipy.stats.pearsonr(y, y_pred)[0] ** 2\n",
    "\n",
    "def pearson_r2_metric(y_true, y_pred):\n",
    "    return scipy.stats.pearsonr(y_true, y_pred)[0] ** 2\n",
    "\n",
    "def bootstrap_normal(x, y):\n",
    "    x, y = np.array(x), np.array(y)\n",
    "    z_val = np.abs(((x - y).mean())/((x - y).std()))\n",
    "    return z_val, (1 - scipy.stats.norm.cdf(z_val) + scipy.stats.norm.cdf(-z_val))\n",
    "\n",
    "custom_long_name = 'Bootstrap Normal'\n",
    "custom_short_name = 'Normal'\n",
    "custom_func = bootstrap_normal\n",
    "bstrap_normal_test = StatTest(custom_func, custom_long_name, custom_short_name)\n",
    "\n",
    "def bootstrap_empirical(x, y):\n",
    "    x, y = np.array(x), np.array(y)\n",
    "    diffs = (x - y)\n",
    "    stat = np.sum(diffs < 0) \n",
    "    p = (stat + 1)/(len(x) + 1)\n",
    "    #if np.median(diffs) > 0:\n",
    "    #    stat = np.sum(diffs < 0) \n",
    "    #    p = 2*(stat + 1)/(len(x) + 1)\n",
    "    #else:\n",
    "    #    stat = np.sum(diffs > 0) \n",
    "    #    p = 2*(stat + 1)/(len(x) + 1)\n",
    "    return stat, p\n",
    "\n",
    "custom_long_name = 'Bootstrap Empirical'\n",
    "custom_short_name = 'Empirical'\n",
    "custom_func = bootstrap_empirical\n",
    "bstrap_empirical_test = StatTest(custom_func, custom_long_name, custom_short_name)"
   ]
  },
  {
   "cell_type": "markdown",
   "id": "79af4b26-bd54-4b81-95d4-8f9a8bbe355d",
   "metadata": {},
   "source": [
    "# S. cerevisiae Half Life"
   ]
  },
  {
   "cell_type": "markdown",
   "id": "8d7e7884-5027-4126-ac7d-05d120739b54",
   "metadata": {},
   "source": [
    "## Prepare data"
   ]
  },
  {
   "cell_type": "code",
   "execution_count": 11,
   "id": "b21052bc-4b26-4cb7-ac09-65c5bc86f3de",
   "metadata": {},
   "outputs": [],
   "source": [
    "codon_vars = ['TTC','TTA', 'TTG', 'TCT', 'TCC', 'TCA', 'TCG', 'TAT', 'TAC', 'TGT', 'TGC',\n",
    "       'TGG', 'CTT', 'CTC', 'CTA', 'CTG', 'CCT', 'CCC', 'CCA', 'CCG', 'CAT',\n",
    "       'CAC', 'CAA', 'CAG', 'CGT', 'CGC', 'CGA', 'CGG', 'ATT', 'ATC', 'ATA',\n",
    "       'ATG', 'ACT', 'ACC', 'ACA', 'ACG', 'AAT', 'AAC', 'AAA', 'AAG', 'AGT',\n",
    "       'AGC', 'AGA', 'AGG', 'GTT', 'GTC', 'GTA', 'GTG', 'GCT', 'GCC', 'GCA',\n",
    "       'GCG', 'GAT', 'GAC', 'GAA', 'GAG', 'GGT', 'GGC', 'GGA', 'GGG', 'TTT']\n",
    "\n",
    "signif_vars = [\"UTR5_length_log\",\"GC_content_UTR5\",\"CDS_deltaG\",\"num_uAUG\",\"UTR3_length_log\",\"TGTAAATA\",\"TGCAT\",\"ATATTC\",\"TTTTTTA\"]"
   ]
  },
  {
   "cell_type": "code",
   "execution_count": 12,
   "id": "f6370250-2559-43e3-b829-9de3b60c7178",
   "metadata": {},
   "outputs": [],
   "source": [
    "# recompute GC content\n",
    "halflife_df['GC_content_UTR5'] = (halflife_df['UTR5_seq'].str.count('G') + halflife_df['UTR5_seq'].str.count('C'))/halflife_df['UTR5_seq'].str.len()\n",
    "halflife_df['GC_content_UTR3'] = (halflife_df['UTR3_seq'].str.count('G') + halflife_df['UTR3_seq'].str.count('C'))/halflife_df['UTR3_seq'].str.len()\n",
    "halflife_df['GC_content_CDS'] = (halflife_df['CDS_seq'].str.count('G') + halflife_df['CDS_seq'].str.count('C'))/halflife_df['CDS_seq'].str.len()\n",
    "# make uAUG an indicator\n",
    "halflife_df['num_uAUG'] = halflife_df['num_uAUG'] > 0\n",
    "# make codons into ratios\n",
    "for codon in codon_vars[:-1]:\n",
    "    halflife_df[codon] = halflife_df[codon]/halflife_df['CDS_length']\n",
    "    #halflife_df[codon] = np.log2(halflife_df[codon]/halflife_df['CDS_length'] + 1)\n",
    "# finally log the length\n",
    "halflife_df['UTR5_length_log'] = np.log2(halflife_df['UTR5_length'])\n",
    "halflife_df['UTR3_length_log'] = np.log2(halflife_df['UTR3_length'])\n",
    "halflife_df['CDS_length_log'] = np.log2(halflife_df['CDS_length'])"
   ]
  },
  {
   "cell_type": "code",
   "execution_count": 13,
   "id": "adeed7cc-be2c-4f11-99d4-d7881365d401",
   "metadata": {},
   "outputs": [],
   "source": [
    "halflife_df[\"log_hl\"] = np.log2(halflife_df[\"hlt.wt\"])"
   ]
  },
  {
   "cell_type": "code",
   "execution_count": 15,
   "id": "695d8a50-2f3e-4b65-af7c-5e070ae30f4b",
   "metadata": {},
   "outputs": [],
   "source": [
    "# Optimal: 4 20 64 True\n",
    "#rows = []\n",
    "#for k in [3,4,5,6]:\n",
    "#    for window in [5,10,20]:\n",
    "#        for vector_size in [32, 64, 128]:\n",
    "#            for overlap in [True, False]:\n",
    "#                print(k,window,vector_size,overlap)\n",
    "#                kmerizer_w2v = Kmerizer(k=4)\n",
    "#                w2v_model = Word2Vec(sentences=halflife_df['UTR3_seq'].apply(lambda x: kmerizer_w2v.tokenize(x, jump=False)), \n",
    "#                                     vector_size=128, window=5, min_count=1, workers=4, sg=1)\n",
    "#                word2vec_emb = halflife_df['UTR3_seq'].apply(lambda x: np.mean([w2v_model.wv[x]  for x in kmerizer_w2v.tokenize(x, jump=False)],axis=0))\n",
    "#                word2vec_emb = [x if len(x.shape) > 0 else np.zeros(128) for x in word2vec_emb]\n",
    "#                X_w2v = np.stack(word2vec_emb,axis=0)#np.stack(doc2vec_emb,axis=0)\n",
    "#                y = y_obs\n",
    "#                pipe = pipeline.make_pipeline(sklearn.preprocessing.StandardScaler(), sklearn.linear_model.Ridge(alpha=10))\n",
    "#                r2 = cross_val_score(pipe,X_w2v,y,scoring=pearson_r2,cv=3, n_jobs=-1).mean()\n",
    "#                print(r2)\n",
    "#                rows.append({\"k\":k, \"window\":window, \"vector_size\":vector_size, \"overlap\":overlap , \"r2\":r2})"
   ]
  },
  {
   "cell_type": "code",
   "execution_count": 14,
   "id": "04429ba4-d241-404c-b646-fd3468a556cc",
   "metadata": {},
   "outputs": [
    {
     "name": "stderr",
     "output_type": "stream",
     "text": [
      "/opt/modules/i12g/anaconda/envs/motifs/lib/python3.9/site-packages/numpy/core/fromnumeric.py:3432: RuntimeWarning: Mean of empty slice.\n",
      "  return _methods._mean(a, axis=axis, dtype=dtype,\n"
     ]
    }
   ],
   "source": [
    "y_obs = np.array(halflife_df[\"log_hl\"])\n",
    "\n",
    "X_base = np.array(halflife_df[codon_vars[:-1] + signif_vars[:-4]])\n",
    "\n",
    "X_jun = np.array(halflife_df[codon_vars[:-1] + signif_vars])\n",
    "X_emb = np.concatenate([X_base, emb],axis=1)\n",
    "X_gc = np.array(halflife_df[codon_vars[:-1] + signif_vars[:-4] + ['GC_content_UTR3']])\n",
    "\n",
    "X_2mer = np.concatenate([X_base, np.stack(halflife_df['UTR3_seq'].apply(lambda x: kmerizer2.kmerize(x)))],axis=1)\n",
    "X_3mer = np.concatenate([X_base, np.stack(halflife_df['UTR3_seq'].apply(lambda x: kmerizer3.kmerize(x)))],axis=1)\n",
    "X_4mer = np.concatenate([X_base, np.stack(halflife_df['UTR3_seq'].apply(lambda x: kmerizer4.kmerize(x)))],axis=1)\n",
    "X_5mer = np.concatenate([X_base, np.stack(halflife_df['UTR3_seq'].apply(lambda x: kmerizer5.kmerize(x)))],axis=1)\n",
    "X_6mer = np.concatenate([X_base, np.stack(halflife_df['UTR3_seq'].apply(lambda x: kmerizer6.kmerize(x)))],axis=1)\n",
    "\n",
    "kmerizer_w2v = Kmerizer(k=4)\n",
    "w2v_model = Word2Vec(sentences=halflife_df['UTR3_seq'].apply(lambda x: kmerizer_w2v.tokenize(x, jump=True)), \n",
    "                     vector_size=64, window=20, min_count=1, workers=4, sg=1)\n",
    "word2vec_emb = halflife_df['UTR3_seq'].apply(lambda x: np.mean([w2v_model.wv[x]  for x in kmerizer_w2v.tokenize(x, jump=False)],axis=0))\n",
    "word2vec_emb = [x if len(x.shape) > 0 else np.zeros(64) for x in word2vec_emb]\n",
    "X_w2v = np.stack(word2vec_emb,axis=0)#np.stack(doc2vec_emb,axis=0)"
   ]
  },
  {
   "cell_type": "markdown",
   "id": "b9049453-ade7-484b-b500-08da8e356e35",
   "metadata": {},
   "source": [
    "## Predict Half Life"
   ]
  },
  {
   "cell_type": "code",
   "execution_count": 15,
   "id": "60c48602-edd7-42d3-a867-190932ce2bf1",
   "metadata": {},
   "outputs": [
    {
     "name": "stderr",
     "output_type": "stream",
     "text": [
      "<frozen importlib._bootstrap>:228: RuntimeWarning: scipy._lib.messagestream.MessageStream size changed, may indicate binary incompatibility. Expected 56 from C header, got 64 from PyObject\n",
      "<frozen importlib._bootstrap>:228: RuntimeWarning: scipy._lib.messagestream.MessageStream size changed, may indicate binary incompatibility. Expected 56 from C header, got 64 from PyObject\n",
      "<frozen importlib._bootstrap>:228: RuntimeWarning: scipy._lib.messagestream.MessageStream size changed, may indicate binary incompatibility. Expected 56 from C header, got 64 from PyObject\n",
      "<frozen importlib._bootstrap>:228: RuntimeWarning: scipy._lib.messagestream.MessageStream size changed, may indicate binary incompatibility. Expected 56 from C header, got 64 from PyObject\n",
      "<frozen importlib._bootstrap>:228: RuntimeWarning: scipy._lib.messagestream.MessageStream size changed, may indicate binary incompatibility. Expected 56 from C header, got 64 from PyObject\n",
      "<frozen importlib._bootstrap>:228: RuntimeWarning: scipy._lib.messagestream.MessageStream size changed, may indicate binary incompatibility. Expected 56 from C header, got 64 from PyObject\n",
      "<frozen importlib._bootstrap>:228: RuntimeWarning: scipy._lib.messagestream.MessageStream size changed, may indicate binary incompatibility. Expected 56 from C header, got 64 from PyObject\n",
      "<frozen importlib._bootstrap>:228: RuntimeWarning: scipy._lib.messagestream.MessageStream size changed, may indicate binary incompatibility. Expected 56 from C header, got 64 from PyObject\n",
      "<frozen importlib._bootstrap>:228: RuntimeWarning: scipy._lib.messagestream.MessageStream size changed, may indicate binary incompatibility. Expected 56 from C header, got 64 from PyObject\n",
      "<frozen importlib._bootstrap>:228: RuntimeWarning: scipy._lib.messagestream.MessageStream size changed, may indicate binary incompatibility. Expected 56 from C header, got 64 from PyObject\n",
      "<frozen importlib._bootstrap>:228: RuntimeWarning: scipy._lib.messagestream.MessageStream size changed, may indicate binary incompatibility. Expected 56 from C header, got 64 from PyObject\n",
      "<frozen importlib._bootstrap>:228: RuntimeWarning: scipy._lib.messagestream.MessageStream size changed, may indicate binary incompatibility. Expected 56 from C header, got 64 from PyObject\n",
      "<frozen importlib._bootstrap>:228: RuntimeWarning: scipy._lib.messagestream.MessageStream size changed, may indicate binary incompatibility. Expected 56 from C header, got 64 from PyObject\n",
      "<frozen importlib._bootstrap>:228: RuntimeWarning: scipy._lib.messagestream.MessageStream size changed, may indicate binary incompatibility. Expected 56 from C header, got 64 from PyObject\n",
      "<frozen importlib._bootstrap>:228: RuntimeWarning: scipy._lib.messagestream.MessageStream size changed, may indicate binary incompatibility. Expected 56 from C header, got 64 from PyObject\n",
      "<frozen importlib._bootstrap>:228: RuntimeWarning: scipy._lib.messagestream.MessageStream size changed, may indicate binary incompatibility. Expected 56 from C header, got 64 from PyObject\n",
      "<frozen importlib._bootstrap>:228: RuntimeWarning: scipy._lib.messagestream.MessageStream size changed, may indicate binary incompatibility. Expected 56 from C header, got 64 from PyObject\n",
      "<frozen importlib._bootstrap>:228: RuntimeWarning: scipy._lib.messagestream.MessageStream size changed, may indicate binary incompatibility. Expected 56 from C header, got 64 from PyObject\n",
      "<frozen importlib._bootstrap>:228: RuntimeWarning: scipy._lib.messagestream.MessageStream size changed, may indicate binary incompatibility. Expected 56 from C header, got 64 from PyObject\n",
      "<frozen importlib._bootstrap>:228: RuntimeWarning: scipy._lib.messagestream.MessageStream size changed, may indicate binary incompatibility. Expected 56 from C header, got 64 from PyObject\n",
      "<frozen importlib._bootstrap>:228: RuntimeWarning: scipy._lib.messagestream.MessageStream size changed, may indicate binary incompatibility. Expected 56 from C header, got 64 from PyObject\n",
      "<frozen importlib._bootstrap>:228: RuntimeWarning: scipy._lib.messagestream.MessageStream size changed, may indicate binary incompatibility. Expected 56 from C header, got 64 from PyObject\n",
      "<frozen importlib._bootstrap>:228: RuntimeWarning: scipy._lib.messagestream.MessageStream size changed, may indicate binary incompatibility. Expected 56 from C header, got 64 from PyObject\n",
      "<frozen importlib._bootstrap>:228: RuntimeWarning: scipy._lib.messagestream.MessageStream size changed, may indicate binary incompatibility. Expected 56 from C header, got 64 from PyObject\n",
      "<frozen importlib._bootstrap>:228: RuntimeWarning: scipy._lib.messagestream.MessageStream size changed, may indicate binary incompatibility. Expected 56 from C header, got 64 from PyObject\n",
      "<frozen importlib._bootstrap>:228: RuntimeWarning: scipy._lib.messagestream.MessageStream size changed, may indicate binary incompatibility. Expected 56 from C header, got 64 from PyObject\n",
      "<frozen importlib._bootstrap>:228: RuntimeWarning: scipy._lib.messagestream.MessageStream size changed, may indicate binary incompatibility. Expected 56 from C header, got 64 from PyObject\n",
      "<frozen importlib._bootstrap>:228: RuntimeWarning: scipy._lib.messagestream.MessageStream size changed, may indicate binary incompatibility. Expected 56 from C header, got 64 from PyObject\n",
      "<frozen importlib._bootstrap>:228: RuntimeWarning: scipy._lib.messagestream.MessageStream size changed, may indicate binary incompatibility. Expected 56 from C header, got 64 from PyObject\n",
      "<frozen importlib._bootstrap>:228: RuntimeWarning: scipy._lib.messagestream.MessageStream size changed, may indicate binary incompatibility. Expected 56 from C header, got 64 from PyObject\n",
      "<frozen importlib._bootstrap>:228: RuntimeWarning: scipy._lib.messagestream.MessageStream size changed, may indicate binary incompatibility. Expected 56 from C header, got 64 from PyObject\n",
      "<frozen importlib._bootstrap>:228: RuntimeWarning: scipy._lib.messagestream.MessageStream size changed, may indicate binary incompatibility. Expected 56 from C header, got 64 from PyObject\n",
      "<frozen importlib._bootstrap>:228: RuntimeWarning: scipy._lib.messagestream.MessageStream size changed, may indicate binary incompatibility. Expected 56 from C header, got 64 from PyObject\n",
      "<frozen importlib._bootstrap>:228: RuntimeWarning: scipy._lib.messagestream.MessageStream size changed, may indicate binary incompatibility. Expected 56 from C header, got 64 from PyObject\n",
      "<frozen importlib._bootstrap>:228: RuntimeWarning: scipy._lib.messagestream.MessageStream size changed, may indicate binary incompatibility. Expected 56 from C header, got 64 from PyObject\n",
      "<frozen importlib._bootstrap>:228: RuntimeWarning: scipy._lib.messagestream.MessageStream size changed, may indicate binary incompatibility. Expected 56 from C header, got 64 from PyObject\n",
      "<frozen importlib._bootstrap>:228: RuntimeWarning: scipy._lib.messagestream.MessageStream size changed, may indicate binary incompatibility. Expected 56 from C header, got 64 from PyObject\n",
      "<frozen importlib._bootstrap>:228: RuntimeWarning: scipy._lib.messagestream.MessageStream size changed, may indicate binary incompatibility. Expected 56 from C header, got 64 from PyObject\n",
      "<frozen importlib._bootstrap>:228: RuntimeWarning: scipy._lib.messagestream.MessageStream size changed, may indicate binary incompatibility. Expected 56 from C header, got 64 from PyObject\n",
      "<frozen importlib._bootstrap>:228: RuntimeWarning: scipy._lib.messagestream.MessageStream size changed, may indicate binary incompatibility. Expected 56 from C header, got 64 from PyObject\n",
      "<frozen importlib._bootstrap>:228: RuntimeWarning: scipy._lib.messagestream.MessageStream size changed, may indicate binary incompatibility. Expected 56 from C header, got 64 from PyObject\n",
      "<frozen importlib._bootstrap>:228: RuntimeWarning: scipy._lib.messagestream.MessageStream size changed, may indicate binary incompatibility. Expected 56 from C header, got 64 from PyObject\n",
      "<frozen importlib._bootstrap>:228: RuntimeWarning: scipy._lib.messagestream.MessageStream size changed, may indicate binary incompatibility. Expected 56 from C header, got 64 from PyObject\n",
      "<frozen importlib._bootstrap>:228: RuntimeWarning: scipy._lib.messagestream.MessageStream size changed, may indicate binary incompatibility. Expected 56 from C header, got 64 from PyObject\n",
      "<frozen importlib._bootstrap>:228: RuntimeWarning: scipy._lib.messagestream.MessageStream size changed, may indicate binary incompatibility. Expected 56 from C header, got 64 from PyObject\n",
      "<frozen importlib._bootstrap>:228: RuntimeWarning: scipy._lib.messagestream.MessageStream size changed, may indicate binary incompatibility. Expected 56 from C header, got 64 from PyObject\n",
      "<frozen importlib._bootstrap>:228: RuntimeWarning: scipy._lib.messagestream.MessageStream size changed, may indicate binary incompatibility. Expected 56 from C header, got 64 from PyObject\n",
      "<frozen importlib._bootstrap>:228: RuntimeWarning: scipy._lib.messagestream.MessageStream size changed, may indicate binary incompatibility. Expected 56 from C header, got 64 from PyObject\n",
      "<frozen importlib._bootstrap>:228: RuntimeWarning: scipy._lib.messagestream.MessageStream size changed, may indicate binary incompatibility. Expected 56 from C header, got 64 from PyObject\n",
      "<frozen importlib._bootstrap>:228: RuntimeWarning: scipy._lib.messagestream.MessageStream size changed, may indicate binary incompatibility. Expected 56 from C header, got 64 from PyObject\n",
      "<frozen importlib._bootstrap>:228: RuntimeWarning: scipy._lib.messagestream.MessageStream size changed, may indicate binary incompatibility. Expected 56 from C header, got 64 from PyObject\n",
      "<frozen importlib._bootstrap>:228: RuntimeWarning: scipy._lib.messagestream.MessageStream size changed, may indicate binary incompatibility. Expected 56 from C header, got 64 from PyObject\n",
      "<frozen importlib._bootstrap>:228: RuntimeWarning: scipy._lib.messagestream.MessageStream size changed, may indicate binary incompatibility. Expected 56 from C header, got 64 from PyObject\n",
      "<frozen importlib._bootstrap>:228: RuntimeWarning: scipy._lib.messagestream.MessageStream size changed, may indicate binary incompatibility. Expected 56 from C header, got 64 from PyObject\n",
      "<frozen importlib._bootstrap>:228: RuntimeWarning: scipy._lib.messagestream.MessageStream size changed, may indicate binary incompatibility. Expected 56 from C header, got 64 from PyObject\n",
      "<frozen importlib._bootstrap>:228: RuntimeWarning: scipy._lib.messagestream.MessageStream size changed, may indicate binary incompatibility. Expected 56 from C header, got 64 from PyObject\n",
      "<frozen importlib._bootstrap>:228: RuntimeWarning: scipy._lib.messagestream.MessageStream size changed, may indicate binary incompatibility. Expected 56 from C header, got 64 from PyObject\n",
      "<frozen importlib._bootstrap>:228: RuntimeWarning: scipy._lib.messagestream.MessageStream size changed, may indicate binary incompatibility. Expected 56 from C header, got 64 from PyObject\n",
      "<frozen importlib._bootstrap>:228: RuntimeWarning: scipy._lib.messagestream.MessageStream size changed, may indicate binary incompatibility. Expected 56 from C header, got 64 from PyObject\n",
      "<frozen importlib._bootstrap>:228: RuntimeWarning: scipy._lib.messagestream.MessageStream size changed, may indicate binary incompatibility. Expected 56 from C header, got 64 from PyObject\n",
      "<frozen importlib._bootstrap>:228: RuntimeWarning: scipy._lib.messagestream.MessageStream size changed, may indicate binary incompatibility. Expected 56 from C header, got 64 from PyObject\n",
      "<frozen importlib._bootstrap>:228: RuntimeWarning: scipy._lib.messagestream.MessageStream size changed, may indicate binary incompatibility. Expected 56 from C header, got 64 from PyObject\n",
      "<frozen importlib._bootstrap>:228: RuntimeWarning: scipy._lib.messagestream.MessageStream size changed, may indicate binary incompatibility. Expected 56 from C header, got 64 from PyObject\n",
      "<frozen importlib._bootstrap>:228: RuntimeWarning: scipy._lib.messagestream.MessageStream size changed, may indicate binary incompatibility. Expected 56 from C header, got 64 from PyObject\n"
     ]
    }
   ],
   "source": [
    "data_matrices = {\"Embedding\":X_emb, \n",
    "                 \"GC Content\":X_gc,\n",
    "                 \"2-mer counts\":X_2mer, \n",
    "                 \"3-mer counts\":X_3mer, \n",
    "                 \"4-mer counts\":X_4mer,\n",
    "                 \"5-mer counts\":X_5mer, \n",
    "                 \"6-mer counts\":X_6mer,\n",
    "                 \"Word2Vec\": X_w2v,\n",
    "                 \"Cheng Features\":X_jun}\n",
    "\n",
    "rows = []\n",
    "df_list = []\n",
    "total_len = X_base.shape[0]\n",
    "n_splits = 10\n",
    "\n",
    "np.random.seed(42)\n",
    "\n",
    "for key in data_matrices:\n",
    "    y = y_obs\n",
    "    X = data_matrices[key]\n",
    "    pipe = pipeline.make_pipeline(sklearn.preprocessing.StandardScaler(), sklearn.linear_model.RidgeCV(cv=10))\n",
    "    #rmse = -cross_val_score(pipe,X,y,scoring=\"neg_root_mean_squared_error\",cv=10).mean()\n",
    "    r2 = cross_val_score(pipe,X,y,scoring=pearson_r2,cv=n_splits, n_jobs=-1)\n",
    "    for r2_val in r2:\n",
    "        rows.append({\"model\":key, \"r2\":r2_val})\n",
    "    #rows.append({\"model\":key, \"rmse\":rmse, \"r2\":r2})\n",
    "\n",
    "#for smpl in range(100):\n",
    "#    if smpl % 10 == 0:\n",
    "#        print(smpl)\n",
    "#    train = np.random.choice(list(range(total_len)),total_len)\n",
    "#    test = list(set(range(total_len)) - set(train))\n",
    "#    for key in data_matrices:\n",
    "#        y_train = y_obs[train]\n",
    "#        X_train = data_matrices[key][train]\n",
    "#        y_test = y_obs[test]\n",
    "#        X_test = data_matrices[key][test]\n",
    "#        pipe = pipeline.make_pipeline(sklearn.preprocessing.StandardScaler(), sklearn.linear_model.Ridge(alpha=10))\n",
    "#        pipe.fit(X_train, y_train)\n",
    "#        y_pred = pipe.predict(X_test)\n",
    "#        rmse = sklearn.metrics.mean_squared_error(y_test, y_pred, squared=False)\n",
    "#        r2 = pearson_r2_metric(y_test, y_pred)\n",
    "#        rows.append({\"model\":key, \"rmse\":rmse, \"r2\":r2})\n",
    "        \n",
    "metrics_scer = pd.DataFrame(rows)"
   ]
  },
  {
   "cell_type": "code",
   "execution_count": 16,
   "id": "96e120bc-5f1e-4cdf-bf88-6c9e01334715",
   "metadata": {},
   "outputs": [
    {
     "data": {
      "text/html": [
       "<div>\n",
       "<style scoped>\n",
       "    .dataframe tbody tr th:only-of-type {\n",
       "        vertical-align: middle;\n",
       "    }\n",
       "\n",
       "    .dataframe tbody tr th {\n",
       "        vertical-align: top;\n",
       "    }\n",
       "\n",
       "    .dataframe thead th {\n",
       "        text-align: right;\n",
       "    }\n",
       "</style>\n",
       "<table border=\"1\" class=\"dataframe\">\n",
       "  <thead>\n",
       "    <tr style=\"text-align: right;\">\n",
       "      <th></th>\n",
       "      <th>r2</th>\n",
       "    </tr>\n",
       "    <tr>\n",
       "      <th>model</th>\n",
       "      <th></th>\n",
       "    </tr>\n",
       "  </thead>\n",
       "  <tbody>\n",
       "    <tr>\n",
       "      <th>2-mer counts</th>\n",
       "      <td>0.581943</td>\n",
       "    </tr>\n",
       "    <tr>\n",
       "      <th>3-mer counts</th>\n",
       "      <td>0.583559</td>\n",
       "    </tr>\n",
       "    <tr>\n",
       "      <th>4-mer counts</th>\n",
       "      <td>0.567678</td>\n",
       "    </tr>\n",
       "    <tr>\n",
       "      <th>5-mer counts</th>\n",
       "      <td>0.483933</td>\n",
       "    </tr>\n",
       "    <tr>\n",
       "      <th>6-mer counts</th>\n",
       "      <td>0.154707</td>\n",
       "    </tr>\n",
       "    <tr>\n",
       "      <th>Cheng Features</th>\n",
       "      <td>0.588730</td>\n",
       "    </tr>\n",
       "    <tr>\n",
       "      <th>Embedding</th>\n",
       "      <td>0.593907</td>\n",
       "    </tr>\n",
       "    <tr>\n",
       "      <th>GC Content</th>\n",
       "      <td>0.576784</td>\n",
       "    </tr>\n",
       "    <tr>\n",
       "      <th>Word2Vec</th>\n",
       "      <td>0.073923</td>\n",
       "    </tr>\n",
       "  </tbody>\n",
       "</table>\n",
       "</div>"
      ],
      "text/plain": [
       "                      r2\n",
       "model                   \n",
       "2-mer counts    0.581943\n",
       "3-mer counts    0.583559\n",
       "4-mer counts    0.567678\n",
       "5-mer counts    0.483933\n",
       "6-mer counts    0.154707\n",
       "Cheng Features  0.588730\n",
       "Embedding       0.593907\n",
       "GC Content      0.576784\n",
       "Word2Vec        0.073923"
      ]
     },
     "execution_count": 16,
     "metadata": {},
     "output_type": "execute_result"
    }
   ],
   "source": [
    "metrics_scer.groupby('model').mean()"
   ]
  },
  {
   "cell_type": "code",
   "execution_count": 17,
   "id": "2a1db7ab-c014-401f-920f-7a2be4315bb8",
   "metadata": {},
   "outputs": [
    {
     "data": {
      "text/html": [
       "<div>\n",
       "<style scoped>\n",
       "    .dataframe tbody tr th:only-of-type {\n",
       "        vertical-align: middle;\n",
       "    }\n",
       "\n",
       "    .dataframe tbody tr th {\n",
       "        vertical-align: top;\n",
       "    }\n",
       "\n",
       "    .dataframe thead th {\n",
       "        text-align: right;\n",
       "    }\n",
       "</style>\n",
       "<table border=\"1\" class=\"dataframe\">\n",
       "  <thead>\n",
       "    <tr style=\"text-align: right;\">\n",
       "      <th></th>\n",
       "      <th>r2</th>\n",
       "    </tr>\n",
       "    <tr>\n",
       "      <th>model</th>\n",
       "      <th></th>\n",
       "    </tr>\n",
       "  </thead>\n",
       "  <tbody>\n",
       "    <tr>\n",
       "      <th>2-mer counts</th>\n",
       "      <td>0.014285</td>\n",
       "    </tr>\n",
       "    <tr>\n",
       "      <th>3-mer counts</th>\n",
       "      <td>0.015341</td>\n",
       "    </tr>\n",
       "    <tr>\n",
       "      <th>4-mer counts</th>\n",
       "      <td>0.016964</td>\n",
       "    </tr>\n",
       "    <tr>\n",
       "      <th>5-mer counts</th>\n",
       "      <td>0.015773</td>\n",
       "    </tr>\n",
       "    <tr>\n",
       "      <th>6-mer counts</th>\n",
       "      <td>0.012223</td>\n",
       "    </tr>\n",
       "    <tr>\n",
       "      <th>Cheng Features</th>\n",
       "      <td>0.013871</td>\n",
       "    </tr>\n",
       "    <tr>\n",
       "      <th>Embedding</th>\n",
       "      <td>0.014660</td>\n",
       "    </tr>\n",
       "    <tr>\n",
       "      <th>GC Content</th>\n",
       "      <td>0.012971</td>\n",
       "    </tr>\n",
       "    <tr>\n",
       "      <th>Word2Vec</th>\n",
       "      <td>0.009495</td>\n",
       "    </tr>\n",
       "  </tbody>\n",
       "</table>\n",
       "</div>"
      ],
      "text/plain": [
       "                      r2\n",
       "model                   \n",
       "2-mer counts    0.014285\n",
       "3-mer counts    0.015341\n",
       "4-mer counts    0.016964\n",
       "5-mer counts    0.015773\n",
       "6-mer counts    0.012223\n",
       "Cheng Features  0.013871\n",
       "Embedding       0.014660\n",
       "GC Content      0.012971\n",
       "Word2Vec        0.009495"
      ]
     },
     "execution_count": 17,
     "metadata": {},
     "output_type": "execute_result"
    }
   ],
   "source": [
    "metrics_scer.groupby('model').sem()"
   ]
  },
  {
   "cell_type": "code",
   "execution_count": 18,
   "id": "568236d6-caa9-4ac2-8d15-bf12540354e0",
   "metadata": {},
   "outputs": [
    {
     "name": "stdout",
     "output_type": "stream",
     "text": [
      "p-value annotation legend:\n",
      "      ns: p <= 1.00e+00\n",
      "       *: 1.00e-02 < p <= 5.00e-02\n",
      "      **: 1.00e-03 < p <= 1.00e-02\n",
      "     ***: 1.00e-04 < p <= 1.00e-03\n",
      "    ****: p <= 1.00e-04\n",
      "\n",
      "Embedding vs. GC Content: Wilcoxon test (paired samples) with Benjamini-Hochberg correction, P_val:1.953e-03 Stat=0.000e+00\n",
      "Embedding vs. 2-mer counts: Wilcoxon test (paired samples) with Benjamini-Hochberg correction, P_val:9.766e-03 Stat=3.000e+00\n",
      "Embedding vs. 3-mer counts: Wilcoxon test (paired samples) with Benjamini-Hochberg correction, P_val:3.711e-02 Stat=7.000e+00\n",
      "Embedding vs. 4-mer counts: Wilcoxon test (paired samples) with Benjamini-Hochberg correction, P_val:3.906e-03 Stat=1.000e+00\n",
      "Embedding vs. 5-mer counts: Wilcoxon test (paired samples) with Benjamini-Hochberg correction, P_val:1.953e-03 Stat=0.000e+00\n",
      "Embedding vs. 6-mer counts: Wilcoxon test (paired samples) with Benjamini-Hochberg correction, P_val:1.953e-03 Stat=0.000e+00\n",
      "Embedding vs. Word2Vec: Wilcoxon test (paired samples) with Benjamini-Hochberg correction, P_val:1.953e-03 Stat=0.000e+00\n",
      "Embedding vs. Cheng Features: Wilcoxon test (paired samples) with Benjamini-Hochberg correction, P_val:1.055e-01 Stat=1.100e+01\n"
     ]
    },
    {
     "data": {
      "image/png": "[encoded data removed]",
      "text/plain": [
       "<Figure size 640x600 with 1 Axes>"
      ]
     },
     "metadata": {
      "needs_background": "light"
     },
     "output_type": "display_data"
    }
   ],
   "source": [
    "dims = (6.4, 6)\n",
    "\n",
    "statplot_df = metrics_scer.query('model not in [\"GC + 2,3-mers\", \"GC + 2,3,4-mers\"]')\n",
    "x = \"model\"\n",
    "y = \"r2\"\n",
    "y_lab = \"Pearson R-squared\"\n",
    "\n",
    "box_pairs=[\n",
    "    (\"Embedding\", \"GC Content\"),\n",
    "    (\"Embedding\", \"2-mer counts\"),\n",
    "    (\"Embedding\", \"3-mer counts\"),\n",
    "    (\"Embedding\", \"4-mer counts\"),\n",
    "    (\"Embedding\", \"5-mer counts\"),\n",
    "    (\"Embedding\", \"6-mer counts\"),\n",
    "    (\"Embedding\", \"Word2Vec\"),\n",
    "    (\"Embedding\", \"Cheng Features\"),\n",
    "    ]\n",
    "fig, ax = plt.subplots(figsize=dims, dpi=100)\n",
    "ax = sns.boxplot(data=statplot_df, x=x, y=y, boxprops={'facecolor':'None'})\n",
    "ax = sns.swarmplot(data=statplot_df, x=x, y=y)\n",
    "\n",
    "annotator = Annotator(ax, box_pairs, data=statplot_df, x=x, y=y)\n",
    "annotator.configure(test=\"Wilcoxon\", text_format='star', loc='outside', comparisons_correction=\"BH\")\n",
    "annotator.apply_and_annotate()\n",
    "\n",
    "ax.set_xlabel(\"\",fontsize=10, color=\"black\")\n",
    "ax.set_ylabel(y_lab,fontsize=10, color=\"black\")\n",
    "\n",
    "ax.tick_params(labelsize=10, rotation=20)\n",
    "plt.tight_layout()\n",
    "\n"
   ]
  },
  {
   "cell_type": "markdown",
   "id": "5d8bb887-5d60-47ce-8118-932bc89a143c",
   "metadata": {},
   "source": [
    "# S. pombe Half Life"
   ]
  },
  {
   "cell_type": "markdown",
   "id": "e593c817-a582-4267-9e79-caf6363f0dfb",
   "metadata": {},
   "source": [
    "## Prepare data"
   ]
  },
  {
   "cell_type": "code",
   "execution_count": 19,
   "id": "6c650163-5a20-418e-88b2-b9a0a821faa2",
   "metadata": {},
   "outputs": [],
   "source": [
    "codon_vars_pombe = ['TTC','TTA', 'TTG', 'TCT', 'TCC', 'TCA', 'TCG', 'TAT', 'TAC', 'TGT', 'TGC',\n",
    "       'TGG', 'CTT', 'CTC', 'CTA', 'CTG', 'CCT', 'CCC', 'CCA', 'CCG', 'CAT',\n",
    "       'CAC', 'CAA', 'CAG', 'CGT', 'CGC', 'CGA', 'CGG', 'ATT', 'ATC', 'ATA',\n",
    "       'ATG', 'ACT', 'ACC', 'ACA', 'ACG', 'AAT', 'AAC', 'AAA', 'AAG', 'AGT',\n",
    "       'AGC', 'AGA', 'AGG', 'GTT', 'GTC', 'GTA', 'GTG', 'GCT', 'GCC', 'GCA',\n",
    "       'GCG', 'GAT', 'GAC', 'GAA', 'GAG', 'GGT', 'GGC', 'GGA', 'GGG', 'TTT']\n",
    "\n",
    "signif_vars_pombe = ['UTR3_length_log','UTR5_length_log','CDS_length_log',\n",
    "               \"stopPlus1\",\n",
    "               \"num_uAUG\",\"CAACCA\",\"ACCAAC\",\n",
    "               \"GC_content_UTR5\",\"UTR5_deltaG\",\"CDS_deltaG\",\"GC_content_CDS\",\n",
    "               \"UTR3_deltaG\",\"GC_content_UTR3\",\"TATTTAT\",\"TTAATGA\",\"ACTAAT\"]\n"
   ]
  },
  {
   "cell_type": "code",
   "execution_count": 20,
   "id": "bc0f52c2-a1d0-4848-870d-d79bc11d5c7e",
   "metadata": {},
   "outputs": [],
   "source": [
    "# recompute GC content\n",
    "halflife_pombe_df['GC_content_UTR5'] = (halflife_pombe_df['UTR5_seq'].str.count('G') + halflife_pombe_df['UTR5_seq'].str.count('C'))/halflife_pombe_df['UTR5_seq'].str.len()\n",
    "halflife_pombe_df['GC_content_UTR3'] = (halflife_pombe_df['UTR3_seq'].str.count('G') + halflife_pombe_df['UTR3_seq'].str.count('C'))/halflife_pombe_df['UTR3_seq'].str.len()\n",
    "#halflife_pombe_df['GC_content_CDS'] = (halflife_pombe_df['CDS_seq'].str.count('G') + halflife_pombe_df['CDS_seq'].str.count('C'))/halflife_pombe_df['CDS_seq'].str.len()\n",
    "# make uAUG an indicator\n",
    "halflife_pombe_df['num_uAUG'] = halflife_pombe_df['num_uAUG'] > 0\n",
    "# make codons into ratios\n",
    "for codon in codon_vars_pombe[:-1]:\n",
    "    halflife_pombe_df[codon] = halflife_pombe_df[codon]/halflife_pombe_df['CDS_length']\n",
    "    #halflife_df[codon] = np.log2(halflife_df[codon]/halflife_df['CDS_length'] + 1)\n",
    "# finally log the length\n",
    "halflife_pombe_df['UTR5_length_log'] = np.log2(halflife_pombe_df['UTR5.length'])\n",
    "halflife_pombe_df['UTR3_length_log'] = np.log2(halflife_pombe_df['UTR3.length'])\n",
    "halflife_pombe_df['CDS_length_log'] = np.log2(halflife_pombe_df['CDS_length'])"
   ]
  },
  {
   "cell_type": "code",
   "execution_count": 21,
   "id": "f7baf2de-92ef-48b4-af24-0a42e9b3676c",
   "metadata": {},
   "outputs": [],
   "source": [
    "halflife_pombe_df[\"log_hl\"] = np.log2(halflife_pombe_df[\"half.life\"])"
   ]
  },
  {
   "cell_type": "code",
   "execution_count": 22,
   "id": "9008cc61-c409-4add-92d9-11eeb1a4142d",
   "metadata": {},
   "outputs": [],
   "source": [
    "ols_hl_pombe_full = (statsmodels.regression.linear_model.OLS\n",
    "                  .from_formula('log_hl ~ {}'.format(\"+\".join(codon_vars_pombe + signif_vars_pombe)),\n",
    "                                data=halflife_pombe_df))#.query('UTR5_length >= 20 and UTR3_length >= 20')))\n",
    "\n",
    "res_hl_pombe_full = ols_hl_pombe_full.fit()\n",
    "#res_hl_pombe_full.summary()"
   ]
  },
  {
   "cell_type": "code",
   "execution_count": 23,
   "id": "d33c8c9f-91d2-4ec5-931f-ef03e334c12d",
   "metadata": {},
   "outputs": [],
   "source": [
    "y_obs = np.array(halflife_pombe_df[\"log_hl\"])\n",
    "\n",
    "X_base = np.asarray(patsy.dmatrix('~ -1 + {}'.format(\"+\".join(codon_vars_pombe[:-1] + signif_vars_pombe[:-5])), \n",
    "              data=halflife_pombe_df))\n",
    "\n",
    "X_jun = np.concatenate([X_base, np.array(halflife_pombe_df[signif_vars_pombe[-5:]])],axis=1)\n",
    "X_emb = np.concatenate([X_base, emb_pombe],axis=1)\n",
    "X_gc = np.concatenate([X_base, np.array(halflife_pombe_df[['GC_content_UTR3']])],axis=1)\n",
    "\n",
    "X_2mer = np.concatenate([X_base, np.stack(halflife_pombe_df['UTR3_seq'].apply(lambda x: kmerizer2.kmerize(x)))],axis=1)\n",
    "X_3mer = np.concatenate([X_base, np.stack(halflife_pombe_df['UTR3_seq'].apply(lambda x: kmerizer3.kmerize(x)))],axis=1)\n",
    "X_4mer = np.concatenate([X_base, np.stack(halflife_pombe_df['UTR3_seq'].apply(lambda x: kmerizer4.kmerize(x)))],axis=1)\n",
    "X_5mer = np.concatenate([X_base, np.stack(halflife_pombe_df['UTR3_seq'].apply(lambda x: kmerizer5.kmerize(x)))],axis=1)\n",
    "X_6mer = np.concatenate([X_base, np.stack(halflife_pombe_df['UTR3_seq'].apply(lambda x: kmerizer6.kmerize(x)))],axis=1)\n",
    "\n",
    "kmerizer_w2v = Kmerizer(k=4)\n",
    "w2v_model = Word2Vec(sentences=halflife_pombe_df['UTR3_seq'].apply(lambda x: kmerizer_w2v.tokenize(x, jump=True)), \n",
    "                     vector_size=64, window=20, min_count=1, workers=4, sg=1)\n",
    "word2vec_emb = halflife_pombe_df['UTR3_seq'].apply(lambda x: np.mean([w2v_model.wv[x]  for x in kmerizer_w2v.tokenize(x, jump=False)],axis=0))\n",
    "word2vec_emb = [x if len(x.shape) > 0 else np.zeros(128) for x in word2vec_emb]\n",
    "X_w2v = np.stack(word2vec_emb,axis=0)#np.stack(doc2vec_emb,axis=0)"
   ]
  },
  {
   "cell_type": "markdown",
   "id": "d31d9c0c-cda5-4906-aa90-e0e51ee2671e",
   "metadata": {},
   "source": [
    "## Predict Half Life"
   ]
  },
  {
   "cell_type": "code",
   "execution_count": 24,
   "id": "f8ce6212-9fc6-4be6-8e83-b73c80d44642",
   "metadata": {},
   "outputs": [],
   "source": [
    "data_matrices = {\"Embedding\":X_emb, \n",
    "                 \"GC Content\":X_gc,\n",
    "                 \"2-mer counts\":X_2mer, \n",
    "                 \"3-mer counts\":X_3mer, \n",
    "                 \"4-mer counts\":X_4mer,\n",
    "                 \"5-mer counts\":X_5mer, \n",
    "                 \"6-mer counts\":X_6mer,\n",
    "                 \"Word2Vec\": X_w2v,\n",
    "                 \"Eser Features\":X_jun}\n",
    "\n",
    "rows = []\n",
    "df_list = []\n",
    "total_len = X_base.shape[0]\n",
    "n_splits = 10\n",
    "\n",
    "np.random.seed(42)\n",
    "\n",
    "for key in data_matrices:\n",
    "    y = y_obs\n",
    "    X = data_matrices[key]\n",
    "    pipe = pipeline.make_pipeline(sklearn.preprocessing.StandardScaler(), sklearn.linear_model.RidgeCV(cv=10))\n",
    "    #rmse = -cross_val_score(pipe,X,y,scoring=\"neg_root_mean_squared_error\",cv=10).mean()\n",
    "    r2 = cross_val_score(pipe,X,y,scoring=pearson_r2,cv=n_splits, n_jobs=-1)\n",
    "    for r2_val in r2:\n",
    "        rows.append({\"model\":key, \"r2\":r2_val})\n",
    "    #rows.append({\"model\":key, \"rmse\":rmse, \"r2\":r2})\n",
    "        \n",
    "metrics_pombe = pd.DataFrame(rows)"
   ]
  },
  {
   "cell_type": "code",
   "execution_count": 25,
   "id": "87dc6033-be22-43e1-9b1f-23780a0a0012",
   "metadata": {},
   "outputs": [
    {
     "data": {
      "text/html": [
       "<div>\n",
       "<style scoped>\n",
       "    .dataframe tbody tr th:only-of-type {\n",
       "        vertical-align: middle;\n",
       "    }\n",
       "\n",
       "    .dataframe tbody tr th {\n",
       "        vertical-align: top;\n",
       "    }\n",
       "\n",
       "    .dataframe thead th {\n",
       "        text-align: right;\n",
       "    }\n",
       "</style>\n",
       "<table border=\"1\" class=\"dataframe\">\n",
       "  <thead>\n",
       "    <tr style=\"text-align: right;\">\n",
       "      <th></th>\n",
       "      <th>r2</th>\n",
       "    </tr>\n",
       "    <tr>\n",
       "      <th>model</th>\n",
       "      <th></th>\n",
       "    </tr>\n",
       "  </thead>\n",
       "  <tbody>\n",
       "    <tr>\n",
       "      <th>2-mer counts</th>\n",
       "      <td>0.422287</td>\n",
       "    </tr>\n",
       "    <tr>\n",
       "      <th>3-mer counts</th>\n",
       "      <td>0.425365</td>\n",
       "    </tr>\n",
       "    <tr>\n",
       "      <th>4-mer counts</th>\n",
       "      <td>0.423442</td>\n",
       "    </tr>\n",
       "    <tr>\n",
       "      <th>5-mer counts</th>\n",
       "      <td>0.327978</td>\n",
       "    </tr>\n",
       "    <tr>\n",
       "      <th>6-mer counts</th>\n",
       "      <td>0.048756</td>\n",
       "    </tr>\n",
       "    <tr>\n",
       "      <th>Embedding</th>\n",
       "      <td>0.453409</td>\n",
       "    </tr>\n",
       "    <tr>\n",
       "      <th>Eser Features</th>\n",
       "      <td>0.411122</td>\n",
       "    </tr>\n",
       "    <tr>\n",
       "      <th>GC Content</th>\n",
       "      <td>0.388169</td>\n",
       "    </tr>\n",
       "    <tr>\n",
       "      <th>Word2Vec</th>\n",
       "      <td>0.068085</td>\n",
       "    </tr>\n",
       "  </tbody>\n",
       "</table>\n",
       "</div>"
      ],
      "text/plain": [
       "                     r2\n",
       "model                  \n",
       "2-mer counts   0.422287\n",
       "3-mer counts   0.425365\n",
       "4-mer counts   0.423442\n",
       "5-mer counts   0.327978\n",
       "6-mer counts   0.048756\n",
       "Embedding      0.453409\n",
       "Eser Features  0.411122\n",
       "GC Content     0.388169\n",
       "Word2Vec       0.068085"
      ]
     },
     "execution_count": 25,
     "metadata": {},
     "output_type": "execute_result"
    }
   ],
   "source": [
    "metrics_pombe.groupby('model').mean()"
   ]
  },
  {
   "cell_type": "code",
   "execution_count": 26,
   "id": "92484fca-c5a0-4b7b-a1ad-cd29a016e18d",
   "metadata": {},
   "outputs": [
    {
     "data": {
      "text/html": [
       "<div>\n",
       "<style scoped>\n",
       "    .dataframe tbody tr th:only-of-type {\n",
       "        vertical-align: middle;\n",
       "    }\n",
       "\n",
       "    .dataframe tbody tr th {\n",
       "        vertical-align: top;\n",
       "    }\n",
       "\n",
       "    .dataframe thead th {\n",
       "        text-align: right;\n",
       "    }\n",
       "</style>\n",
       "<table border=\"1\" class=\"dataframe\">\n",
       "  <thead>\n",
       "    <tr style=\"text-align: right;\">\n",
       "      <th></th>\n",
       "      <th>r2</th>\n",
       "    </tr>\n",
       "    <tr>\n",
       "      <th>model</th>\n",
       "      <th></th>\n",
       "    </tr>\n",
       "  </thead>\n",
       "  <tbody>\n",
       "    <tr>\n",
       "      <th>2-mer counts</th>\n",
       "      <td>0.015482</td>\n",
       "    </tr>\n",
       "    <tr>\n",
       "      <th>3-mer counts</th>\n",
       "      <td>0.015083</td>\n",
       "    </tr>\n",
       "    <tr>\n",
       "      <th>4-mer counts</th>\n",
       "      <td>0.014223</td>\n",
       "    </tr>\n",
       "    <tr>\n",
       "      <th>5-mer counts</th>\n",
       "      <td>0.016147</td>\n",
       "    </tr>\n",
       "    <tr>\n",
       "      <th>6-mer counts</th>\n",
       "      <td>0.006686</td>\n",
       "    </tr>\n",
       "    <tr>\n",
       "      <th>Embedding</th>\n",
       "      <td>0.018330</td>\n",
       "    </tr>\n",
       "    <tr>\n",
       "      <th>Eser Features</th>\n",
       "      <td>0.015422</td>\n",
       "    </tr>\n",
       "    <tr>\n",
       "      <th>GC Content</th>\n",
       "      <td>0.014173</td>\n",
       "    </tr>\n",
       "    <tr>\n",
       "      <th>Word2Vec</th>\n",
       "      <td>0.011120</td>\n",
       "    </tr>\n",
       "  </tbody>\n",
       "</table>\n",
       "</div>"
      ],
      "text/plain": [
       "                     r2\n",
       "model                  \n",
       "2-mer counts   0.015482\n",
       "3-mer counts   0.015083\n",
       "4-mer counts   0.014223\n",
       "5-mer counts   0.016147\n",
       "6-mer counts   0.006686\n",
       "Embedding      0.018330\n",
       "Eser Features  0.015422\n",
       "GC Content     0.014173\n",
       "Word2Vec       0.011120"
      ]
     },
     "execution_count": 26,
     "metadata": {},
     "output_type": "execute_result"
    }
   ],
   "source": [
    "metrics_pombe.groupby('model').sem()"
   ]
  },
  {
   "cell_type": "code",
   "execution_count": 27,
   "id": "59b6f063-c480-4be2-a48e-2a8d7073eeeb",
   "metadata": {},
   "outputs": [
    {
     "name": "stdout",
     "output_type": "stream",
     "text": [
      "p-value annotation legend:\n",
      "      ns: p <= 1.00e+00\n",
      "       *: 1.00e-02 < p <= 5.00e-02\n",
      "      **: 1.00e-03 < p <= 1.00e-02\n",
      "     ***: 1.00e-04 < p <= 1.00e-03\n",
      "    ****: p <= 1.00e-04\n",
      "\n",
      "Embedding vs. GC Content: Wilcoxon test (paired samples), P_val:1.953e-03 Stat=0.000e+00\n",
      "Embedding vs. 2-mer counts: Wilcoxon test (paired samples), P_val:3.906e-03 Stat=1.000e+00\n",
      "Embedding vs. 3-mer counts: Wilcoxon test (paired samples), P_val:3.906e-03 Stat=1.000e+00\n",
      "Embedding vs. 4-mer counts: Wilcoxon test (paired samples), P_val:4.883e-02 Stat=8.000e+00\n",
      "Embedding vs. 5-mer counts: Wilcoxon test (paired samples), P_val:1.953e-03 Stat=0.000e+00\n",
      "Embedding vs. 6-mer counts: Wilcoxon test (paired samples), P_val:1.953e-03 Stat=0.000e+00\n",
      "Embedding vs. Word2Vec: Wilcoxon test (paired samples), P_val:1.953e-03 Stat=0.000e+00\n",
      "Embedding vs. Eser Features: Wilcoxon test (paired samples), P_val:3.906e-03 Stat=1.000e+00\n"
     ]
    },
    {
     "data": {
      "image/png": "[encoded data removed]",
      "text/plain": [
       "<Figure size 640x600 with 1 Axes>"
      ]
     },
     "metadata": {
      "needs_background": "light"
     },
     "output_type": "display_data"
    }
   ],
   "source": [
    "dims = (6.4,6)\n",
    "#statplot_df = errors_scer.query('model not in [\"GC + 2,3-mers\", \"GC + 2,3,4-mers\"]')\n",
    "statplot_df = metrics_pombe.query('model not in [\"GC + 2,3-mers\", \"GC + 2,3,4-mers\"]')\n",
    "x = \"model\"\n",
    "y = \"r2\"\n",
    "y_lab = \"Pearson R-squared\"\n",
    "#hue = \"Motif_count\"\n",
    "box_pairs=[\n",
    "    (\"Embedding\", \"GC Content\"),\n",
    "    (\"Embedding\", \"2-mer counts\"),\n",
    "    (\"Embedding\", \"3-mer counts\"),\n",
    "    (\"Embedding\", \"4-mer counts\"),\n",
    "    (\"Embedding\", \"5-mer counts\"),\n",
    "    (\"Embedding\", \"6-mer counts\"),\n",
    "    (\"Embedding\", \"Word2Vec\"),\n",
    "    (\"Embedding\", \"Eser Features\"),\n",
    "    ]\n",
    "fig, ax = plt.subplots(figsize=dims, dpi=100)\n",
    "ax = sns.swarmplot(data=statplot_df, x=x, y=y)\n",
    "ax = sns.boxplot(data=statplot_df, x=x, y=y, boxprops={'facecolor':'None'})\n",
    "#sns.swarmplot(data = metrics_pombe.head(6), x=x, y=y)\n",
    "#plt.yscale('log')\n",
    "#plt.legend(bbox_to_anchor=(1, 0.5), title=\"Motif_count\")\n",
    "#statannot.add_stat_annotation(ax, data=statplot_df, x=x, y=y, #hue=hue, \n",
    "#                              box_pairs=box_pairs, comparisons_correction=\"bh\",\n",
    "#                    test='Wilcoxon', loc='inside',  verbose=2)\n",
    "\n",
    "annotator = Annotator(ax, box_pairs, data=statplot_df, x=x, y=y)\n",
    "annotator.configure(test=\"Wilcoxon\", text_format='star', loc='outside', comparisons_correction=None)\n",
    "annotator.apply_and_annotate()\n",
    "\n",
    "ax.set_xlabel(\"\",fontsize=10, color=\"black\")\n",
    "ax.set_ylabel(y_lab,fontsize=10, color=\"black\")\n",
    "\n",
    "\n",
    "ax.tick_params(labelsize=10, rotation=20)\n",
    "plt.tight_layout()\n"
   ]
  },
  {
   "cell_type": "markdown",
   "id": "9b681b38-e755-47f8-851c-677683f22ace",
   "metadata": {},
   "source": [
    "# MPRA"
   ]
  },
  {
   "cell_type": "code",
   "execution_count": 365,
   "id": "d55aecf5-748a-409e-85b1-6b8698db8d6a",
   "metadata": {
    "tags": []
   },
   "outputs": [],
   "source": [
    "data_dir = '/s/project/mll/sergey/effect_prediction/MLM/griesemer/'\n",
    "\n",
    "expression_df = pd.read_csv(data_dir + 'paper_supplementary/Variant_MPRAu_Results.txt', sep='\\t')\n",
    "oligo_info_df = pd.read_csv(data_dir + 'paper_supplementary/Oligo_Variant_Info.txt', sep='\\t')"
   ]
  },
  {
   "cell_type": "code",
   "execution_count": 366,
   "id": "b755af9a-04b3-4142-8fe2-53ef2eb7c56e",
   "metadata": {
    "tags": []
   },
   "outputs": [],
   "source": [
    "fasta_fa = data_dir + 'fasta/GRCh38_UTR_variants.fa'\n",
    "\n",
    "seq = {}\n",
    "\n",
    "with open(fasta_fa, 'r') as f:\n",
    "    for line in f:\n",
    "        if line.startswith('>'):\n",
    "            oligo_id = line[1:].replace(':Homo_sapiens\\n','')\n",
    "            seq[oligo_id] = ''\n",
    "        else:\n",
    "            seq[oligo_id] += line.rstrip()\n",
    "\n",
    "mpra_df = pd.DataFrame(seq.items(), columns=['oligo_id', 'Oligo Sequence'])"
   ]
  },
  {
   "cell_type": "code",
   "execution_count": 367,
   "id": "8c9eb567-727a-429b-b108-98a72f446517",
   "metadata": {
    "tags": []
   },
   "outputs": [
    {
     "data": {
      "text/plain": [
       "Index(['oligo_id', 'Oligo Sequence', 'mpra_variant_id', 'ref_allele',\n",
       "       'alt_allele', 'log2FoldChange_Skew_HEK293FT', 'lfcSE_Skew_HEK293FT',\n",
       "       'pvalue_Skew_HEK293FT', 'padj_Skew_HEK293FT',\n",
       "       'log2FoldChange_Ref_HEK293FT', 'lfcSE_Ref_HEK293FT',\n",
       "       'pvalue_Ref_HEK293FT', 'padj_Ref_HEK293FT',\n",
       "       'log2FoldChange_Alt_HEK293FT', 'lfcSE_Alt_HEK293FT',\n",
       "       'pvalue_Alt_HEK293FT', 'padj_Alt_HEK293FT', 'log2FoldChange_Skew_HEPG2',\n",
       "       'lfcSE_Skew_HEPG2', 'pvalue_Skew_HEPG2', 'padj_Skew_HEPG2',\n",
       "       'log2FoldChange_Ref_HEPG2', 'lfcSE_Ref_HEPG2', 'pvalue_Ref_HEPG2',\n",
       "       'padj_Ref_HEPG2', 'log2FoldChange_Alt_HEPG2', 'lfcSE_Alt_HEPG2',\n",
       "       'pvalue_Alt_HEPG2', 'padj_Alt_HEPG2', 'log2FoldChange_Skew_HMEC',\n",
       "       'lfcSE_Skew_HMEC', 'pvalue_Skew_HMEC', 'padj_Skew_HMEC',\n",
       "       'log2FoldChange_Ref_HMEC', 'lfcSE_Ref_HMEC', 'pvalue_Ref_HMEC',\n",
       "       'padj_Ref_HMEC', 'log2FoldChange_Alt_HMEC', 'lfcSE_Alt_HMEC',\n",
       "       'pvalue_Alt_HMEC', 'padj_Alt_HMEC', 'log2FoldChange_Skew_K562',\n",
       "       'lfcSE_Skew_K562', 'pvalue_Skew_K562', 'padj_Skew_K562',\n",
       "       'log2FoldChange_Ref_K562', 'lfcSE_Ref_K562', 'pvalue_Ref_K562',\n",
       "       'padj_Ref_K562', 'log2FoldChange_Alt_K562', 'lfcSE_Alt_K562',\n",
       "       'pvalue_Alt_K562', 'padj_Alt_K562', 'log2FoldChange_Skew_GM12878',\n",
       "       'lfcSE_Skew_GM12878', 'pvalue_Skew_GM12878', 'padj_Skew_GM12878',\n",
       "       'log2FoldChange_Ref_GM12878', 'lfcSE_Ref_GM12878', 'pvalue_Ref_GM12878',\n",
       "       'padj_Ref_GM12878', 'log2FoldChange_Alt_GM12878', 'lfcSE_Alt_GM12878',\n",
       "       'pvalue_Alt_GM12878', 'padj_Alt_GM12878', 'log2FoldChange_Skew_SKNSH',\n",
       "       'lfcSE_Skew_SKNSH', 'pvalue_Skew_SKNSH', 'padj_Skew_SKNSH',\n",
       "       'log2FoldChange_Ref_SKNSH', 'lfcSE_Ref_SKNSH', 'pvalue_Ref_SKNSH',\n",
       "       'padj_Ref_SKNSH', 'log2FoldChange_Alt_SKNSH', 'lfcSE_Alt_SKNSH',\n",
       "       'pvalue_Alt_SKNSH', 'padj_Alt_SKNSH'],\n",
       "      dtype='object')"
      ]
     },
     "execution_count": 367,
     "metadata": {},
     "output_type": "execute_result"
    }
   ],
   "source": [
    "mpra_df = mpra_df.merge(oligo_info_df[['oligo_id','mpra_variant_id','ref_allele','alt_allele']]).merge(expression_df)\n",
    "\n",
    "mpra_df.columns"
   ]
  },
  {
   "cell_type": "code",
   "execution_count": 368,
   "id": "e74e8acd-d468-43ce-9a9d-270adaa90929",
   "metadata": {
    "tags": []
   },
   "outputs": [],
   "source": [
    "expr_cols = [x for x in mpra_df.columns if 'log2FoldChange_Ref' in x]\n",
    "expr_cols = ['log2FoldChange_Alt_HMEC']\n",
    "\n",
    "mpra_df['Expression'] = mpra_df[expr_cols].applymap(lambda x:x.replace(',','.') if type(x)==str else x).astype(float).mean(axis=1)\n",
    "\n",
    "\n",
    "#mpra_df.Expression = mpra_df.Expression.str.replace(',','.').astype(float)"
   ]
  },
  {
   "cell_type": "code",
   "execution_count": 369,
   "id": "8360a6d0-f606-4ede-b477-7e5b9e704bd7",
   "metadata": {
    "tags": []
   },
   "outputs": [],
   "source": [
    "emb_mpra = np.load(data_dir + \"embeddings/seq_len_5000/embeddings.npy\")"
   ]
  },
  {
   "cell_type": "code",
   "execution_count": 370,
   "id": "e2087c04-fda8-4e65-bd42-a7b711443948",
   "metadata": {
    "tags": []
   },
   "outputs": [],
   "source": [
    "is_snp = mpra_df.ref_allele.str.len() == mpra_df.alt_allele.str.len()\n",
    "\n",
    "flt = mpra_df.Expression.isna() | mpra_df.oligo_id.str.contains('_ref$') #| (~is_snp)\n",
    "\n",
    "mpra_df = mpra_df[~flt]\n",
    "emb_mpra = emb_mpra[~flt]\n",
    "\n",
    "mpra_df['index'] = list(range(len(mpra_df)))"
   ]
  },
  {
   "cell_type": "code",
   "execution_count": 371,
   "id": "1ea17b57-0f68-490d-b8d0-8c0fd134d6f4",
   "metadata": {
    "tags": []
   },
   "outputs": [],
   "source": [
    "#data_dir = \"/s/project/mll/sergey/effect_prediction/MLM/Gankin_data/\"\n",
    "\n",
    "#mpra_df = pd.read_csv(data_dir + \"segal_2015.tsv\",sep=\"\\t\").dropna().reset_index(drop=True).reset_index()\n",
    "#emb_mpra = np.load(data_dir + \"results/embeddings/mpra_embeddings.npy\")"
   ]
  },
  {
   "cell_type": "code",
   "execution_count": 372,
   "id": "2b6ace36-4d98-46af-ab66-1e56e5be14da",
   "metadata": {
    "tags": []
   },
   "outputs": [
    {
     "data": {
      "text/plain": [
       "(9107, 79)"
      ]
     },
     "execution_count": 372,
     "metadata": {},
     "output_type": "execute_result"
    }
   ],
   "source": [
    "mpra_df.shape"
   ]
  },
  {
   "cell_type": "code",
   "execution_count": 373,
   "id": "9ba78903-c8bd-46e4-8c8c-d2ebd726508b",
   "metadata": {
    "tags": []
   },
   "outputs": [],
   "source": [
    "#mpra_df.rename(columns={'Oligo Sequence':\"sequence\"}).to_csv(data_dir + \"segal_2015.tsv\",index=None)"
   ]
  },
  {
   "cell_type": "code",
   "execution_count": 374,
   "id": "1d351f6e-f768-4c31-a6e4-0b9f7d26109c",
   "metadata": {
    "tags": []
   },
   "outputs": [],
   "source": [
    "mpra_df['TGTAAATA'] = mpra_df['Oligo Sequence'].str.count('TGTAAATA')\n",
    "mpra_df['TGCAT'] = mpra_df['Oligo Sequence'].str.count('TGCAT')\n",
    "mpra_df['ATATTC'] = mpra_df['Oligo Sequence'].str.count('ATATTC')\n",
    "mpra_df['TTTTTTA'] = mpra_df['Oligo Sequence'].str.count('TTTTTTA')\n",
    "mpra_df['GC_content_UTR3'] = (mpra_df['Oligo Sequence'].str.count('G') + mpra_df['Oligo Sequence'].str.count('C'))/mpra_df['Oligo Sequence'].str.len()\n",
    "#mpra_df['UTR3_length_log'] = np.log2(mpra_df['Oligo Sequence'].str.len()) # always the same"
   ]
  },
  {
   "cell_type": "code",
   "execution_count": 375,
   "id": "09a2cccc-e150-43b2-b0b5-9904b28de3b8",
   "metadata": {
    "tags": []
   },
   "outputs": [],
   "source": [
    "kmerizer5 = Kmerizer(k=5)\n",
    "X_5mer = np.stack(mpra_df['Oligo Sequence'].apply(lambda x: kmerizer5.kmerize(x)))\n",
    "\n",
    "X_sim = cosine_similarity(X_5mer, X_5mer)\n",
    "\n",
    "cutoff = 0.7\n",
    "unassigned = set(range(X_sim.shape[0]))\n",
    "blocks = []\n",
    "idx = 0\n",
    "while True:\n",
    "    #print(np.where(X_sim[idx] > 0.7))\n",
    "    similar = set(np.where(X_sim[idx] > cutoff)[0])\n",
    "    blocks.append(similar)\n",
    "    unassigned = unassigned - similar\n",
    "    if len(unassigned) == 0:\n",
    "        break\n",
    "    else:\n",
    "        idx = unassigned.pop()\n",
    "len(blocks)\n",
    "\n",
    "def get_block(elem, blocks):\n",
    "    for idx, block in enumerate(blocks):\n",
    "        if elem in block:\n",
    "            return idx\n",
    "    assert False\n",
    "\n",
    "mpra_df['block'] = mpra_df['index'].apply(lambda x: get_block(x, blocks))"
   ]
  },
  {
   "cell_type": "code",
   "execution_count": 376,
   "id": "75e8f6d3-c050-44bc-a44d-4db107712d0a",
   "metadata": {
    "tags": []
   },
   "outputs": [],
   "source": [
    "y_obs = np.array(mpra_df[\"Expression\"])\n",
    "groups = np.array(mpra_df['block'])\n",
    "\n",
    "X_gc = np.array(mpra_df[['GC_content_UTR3']])\n",
    "X_2mer = np.stack(mpra_df['Oligo Sequence'].apply(lambda x: kmerizer2.kmerize(x)))\n",
    "X_3mer = np.stack(mpra_df['Oligo Sequence'].apply(lambda x: kmerizer3.kmerize(x)))\n",
    "X_4mer = np.stack(mpra_df['Oligo Sequence'].apply(lambda x: kmerizer4.kmerize(x)))\n",
    "X_5mer = np.stack(mpra_df['Oligo Sequence'].apply(lambda x: kmerizer5.kmerize(x)))\n",
    "X_6mer = np.stack(mpra_df['Oligo Sequence'].apply(lambda x: kmerizer6.kmerize(x)))\n",
    "#X_7mer = np.stack(mpra_df['Oligo Sequence'].apply(lambda x: kmerizer7.kmerize(x)))\n",
    "X_jun = np.array(mpra_df[['TGTAAATA','TGCAT','ATATTC','TTTTTTA']])\n",
    "X_emb = emb_mpra\n",
    "\n",
    "kmerizer_w2v = Kmerizer(k=4)\n",
    "w2v_model = Word2Vec(sentences=mpra_df['Oligo Sequence'].apply(lambda x: kmerizer_w2v.tokenize(x, jump=False)), \n",
    "                     vector_size=128, window=5, min_count=1, workers=4, sg=1)\n",
    "word2vec_emb = mpra_df['Oligo Sequence'].apply(lambda x: np.mean([w2v_model.wv[x]  for x in kmerizer_w2v.tokenize(x, jump=False)],axis=0))\n",
    "X_w2v = np.stack(word2vec_emb,axis=0)#np.stack(doc2vec_emb,axis=0)"
   ]
  },
  {
   "cell_type": "code",
   "execution_count": 377,
   "id": "13cfca33-b026-4fe5-838a-070c63bc8896",
   "metadata": {
    "tags": []
   },
   "outputs": [],
   "source": [
    "%%capture\n",
    "data_matrices = {\"Embedding\":X_emb,\n",
    "                 \"GC Content\":X_gc,\n",
    "                 \"2-mer counts\":X_2mer, \n",
    "                 \"3-mer counts\":X_3mer, \n",
    "                 \"4-mer counts\":X_4mer,\n",
    "                 \"5-mer counts\":X_5mer,\n",
    "                 \"6-mer counts\":X_6mer,\n",
    "                 \"Word2Vec\": X_w2v,\n",
    "                }\n",
    "\n",
    "rows = []\n",
    "df_list = []\n",
    "total_len = X_emb.shape[0]\n",
    "np.random.seed(42)\n",
    "\n",
    "for key in data_matrices:\n",
    "    y = y_obs\n",
    "    X = data_matrices[key]\n",
    "    pipe = pipeline.make_pipeline(sklearn.preprocessing.StandardScaler(), sklearn.linear_model.RidgeCV(cv=3)) #limit runtime\n",
    "    #rmse = -cross_val_score(pipe,X,y,scoring=\"neg_root_mean_squared_error\",cv=sklearn.model_selection.GroupKFold(n_splits=10), groups=groups)#.mean()\n",
    "    r2 = cross_val_score(pipe,X,y,scoring=pearson_r2,cv=sklearn.model_selection.GroupKFold(n_splits=10), groups=groups, n_jobs=-1)#.mean()\n",
    "    for r2_val in r2:\n",
    "        rows.append({\"model\":key, \"r2\":r2_val})\n",
    "\n",
    "metrics_mpra = pd.DataFrame(rows)"
   ]
  },
  {
   "cell_type": "code",
   "execution_count": 378,
   "id": "79862494-5c0e-40ff-bf6c-b01be16302c6",
   "metadata": {
    "tags": []
   },
   "outputs": [
    {
     "data": {
      "text/html": [
       "<div>\n",
       "<style scoped>\n",
       "    .dataframe tbody tr th:only-of-type {\n",
       "        vertical-align: middle;\n",
       "    }\n",
       "\n",
       "    .dataframe tbody tr th {\n",
       "        vertical-align: top;\n",
       "    }\n",
       "\n",
       "    .dataframe thead th {\n",
       "        text-align: right;\n",
       "    }\n",
       "</style>\n",
       "<table border=\"1\" class=\"dataframe\">\n",
       "  <thead>\n",
       "    <tr style=\"text-align: right;\">\n",
       "      <th></th>\n",
       "      <th>r2</th>\n",
       "    </tr>\n",
       "    <tr>\n",
       "      <th>model</th>\n",
       "      <th></th>\n",
       "    </tr>\n",
       "  </thead>\n",
       "  <tbody>\n",
       "    <tr>\n",
       "      <th>2-mer counts</th>\n",
       "      <td>0.151051</td>\n",
       "    </tr>\n",
       "    <tr>\n",
       "      <th>3-mer counts</th>\n",
       "      <td>0.179739</td>\n",
       "    </tr>\n",
       "    <tr>\n",
       "      <th>4-mer counts</th>\n",
       "      <td>0.197141</td>\n",
       "    </tr>\n",
       "    <tr>\n",
       "      <th>5-mer counts</th>\n",
       "      <td>0.178244</td>\n",
       "    </tr>\n",
       "    <tr>\n",
       "      <th>6-mer counts</th>\n",
       "      <td>0.086624</td>\n",
       "    </tr>\n",
       "    <tr>\n",
       "      <th>Embedding</th>\n",
       "      <td>0.223016</td>\n",
       "    </tr>\n",
       "    <tr>\n",
       "      <th>GC Content</th>\n",
       "      <td>0.057629</td>\n",
       "    </tr>\n",
       "    <tr>\n",
       "      <th>Word2Vec</th>\n",
       "      <td>0.189552</td>\n",
       "    </tr>\n",
       "  </tbody>\n",
       "</table>\n",
       "</div>"
      ],
      "text/plain": [
       "                    r2\n",
       "model                 \n",
       "2-mer counts  0.151051\n",
       "3-mer counts  0.179739\n",
       "4-mer counts  0.197141\n",
       "5-mer counts  0.178244\n",
       "6-mer counts  0.086624\n",
       "Embedding     0.223016\n",
       "GC Content    0.057629\n",
       "Word2Vec      0.189552"
      ]
     },
     "execution_count": 378,
     "metadata": {},
     "output_type": "execute_result"
    }
   ],
   "source": [
    "metrics_mpra.groupby('model').mean()"
   ]
  },
  {
   "cell_type": "code",
   "execution_count": 19,
   "id": "abf8fff6-a0ca-45db-b5cf-5aaadb8ce501",
   "metadata": {
    "tags": []
   },
   "outputs": [
    {
     "data": {
      "text/html": [
       "<div>\n",
       "<style scoped>\n",
       "    .dataframe tbody tr th:only-of-type {\n",
       "        vertical-align: middle;\n",
       "    }\n",
       "\n",
       "    .dataframe tbody tr th {\n",
       "        vertical-align: top;\n",
       "    }\n",
       "\n",
       "    .dataframe thead th {\n",
       "        text-align: right;\n",
       "    }\n",
       "</style>\n",
       "<table border=\"1\" class=\"dataframe\">\n",
       "  <thead>\n",
       "    <tr style=\"text-align: right;\">\n",
       "      <th></th>\n",
       "      <th>r2</th>\n",
       "    </tr>\n",
       "    <tr>\n",
       "      <th>model</th>\n",
       "      <th></th>\n",
       "    </tr>\n",
       "  </thead>\n",
       "  <tbody>\n",
       "    <tr>\n",
       "      <th>2-mer counts</th>\n",
       "      <td>0.266482</td>\n",
       "    </tr>\n",
       "    <tr>\n",
       "      <th>3-mer counts</th>\n",
       "      <td>0.277097</td>\n",
       "    </tr>\n",
       "    <tr>\n",
       "      <th>4-mer counts</th>\n",
       "      <td>0.296279</td>\n",
       "    </tr>\n",
       "    <tr>\n",
       "      <th>5-mer counts</th>\n",
       "      <td>0.331042</td>\n",
       "    </tr>\n",
       "    <tr>\n",
       "      <th>6-mer counts</th>\n",
       "      <td>0.296170</td>\n",
       "    </tr>\n",
       "    <tr>\n",
       "      <th>Embedding</th>\n",
       "      <td>0.406368</td>\n",
       "    </tr>\n",
       "    <tr>\n",
       "      <th>GC Content</th>\n",
       "      <td>0.159257</td>\n",
       "    </tr>\n",
       "    <tr>\n",
       "      <th>Word2Vec</th>\n",
       "      <td>0.297515</td>\n",
       "    </tr>\n",
       "  </tbody>\n",
       "</table>\n",
       "</div>"
      ],
      "text/plain": [
       "                    r2\n",
       "model                 \n",
       "2-mer counts  0.266482\n",
       "3-mer counts  0.277097\n",
       "4-mer counts  0.296279\n",
       "5-mer counts  0.331042\n",
       "6-mer counts  0.296170\n",
       "Embedding     0.406368\n",
       "GC Content    0.159257\n",
       "Word2Vec      0.297515"
      ]
     },
     "execution_count": 19,
     "metadata": {},
     "output_type": "execute_result"
    }
   ],
   "source": [
    "metrics_mpra.groupby('model').mean()"
   ]
  },
  {
   "cell_type": "code",
   "execution_count": 53,
   "id": "bd691839-f472-4a72-b165-a7c6cbb4ceb2",
   "metadata": {},
   "outputs": [
    {
     "data": {
      "text/html": [
       "<div>\n",
       "<style scoped>\n",
       "    .dataframe tbody tr th:only-of-type {\n",
       "        vertical-align: middle;\n",
       "    }\n",
       "\n",
       "    .dataframe tbody tr th {\n",
       "        vertical-align: top;\n",
       "    }\n",
       "\n",
       "    .dataframe thead th {\n",
       "        text-align: right;\n",
       "    }\n",
       "</style>\n",
       "<table border=\"1\" class=\"dataframe\">\n",
       "  <thead>\n",
       "    <tr style=\"text-align: right;\">\n",
       "      <th></th>\n",
       "      <th>r2</th>\n",
       "    </tr>\n",
       "    <tr>\n",
       "      <th>model</th>\n",
       "      <th></th>\n",
       "    </tr>\n",
       "  </thead>\n",
       "  <tbody>\n",
       "    <tr>\n",
       "      <th>2-mer counts</th>\n",
       "      <td>0.030454</td>\n",
       "    </tr>\n",
       "    <tr>\n",
       "      <th>3-mer counts</th>\n",
       "      <td>0.032543</td>\n",
       "    </tr>\n",
       "    <tr>\n",
       "      <th>4-mer counts</th>\n",
       "      <td>0.024480</td>\n",
       "    </tr>\n",
       "    <tr>\n",
       "      <th>5-mer counts</th>\n",
       "      <td>0.026330</td>\n",
       "    </tr>\n",
       "    <tr>\n",
       "      <th>6-mer counts</th>\n",
       "      <td>0.031655</td>\n",
       "    </tr>\n",
       "    <tr>\n",
       "      <th>Embedding</th>\n",
       "      <td>0.026667</td>\n",
       "    </tr>\n",
       "    <tr>\n",
       "      <th>GC Content</th>\n",
       "      <td>0.020248</td>\n",
       "    </tr>\n",
       "    <tr>\n",
       "      <th>Word2Vec</th>\n",
       "      <td>0.028256</td>\n",
       "    </tr>\n",
       "  </tbody>\n",
       "</table>\n",
       "</div>"
      ],
      "text/plain": [
       "                    r2\n",
       "model                 \n",
       "2-mer counts  0.030454\n",
       "3-mer counts  0.032543\n",
       "4-mer counts  0.024480\n",
       "5-mer counts  0.026330\n",
       "6-mer counts  0.031655\n",
       "Embedding     0.026667\n",
       "GC Content    0.020248\n",
       "Word2Vec      0.028256"
      ]
     },
     "execution_count": 53,
     "metadata": {},
     "output_type": "execute_result"
    }
   ],
   "source": [
    "metrics_mpra.groupby('model').sem()"
   ]
  },
  {
   "cell_type": "code",
   "execution_count": 379,
   "id": "c8ac49e6-6ce9-406c-98ad-70d570aa9deb",
   "metadata": {
    "tags": []
   },
   "outputs": [
    {
     "ename": "NameError",
     "evalue": "name 'Annotator' is not defined",
     "output_type": "error",
     "traceback": [
      "\u001b[0;31m---------------------------------------------------------------------------\u001b[0m",
      "\u001b[0;31mNameError\u001b[0m                                 Traceback (most recent call last)",
      "Cell \u001b[0;32mIn[379], line 28\u001b[0m\n\u001b[1;32m     20\u001b[0m ax \u001b[38;5;241m=\u001b[39m sns\u001b[38;5;241m.\u001b[39mboxplot(data\u001b[38;5;241m=\u001b[39mstatplot_df, x\u001b[38;5;241m=\u001b[39mx, y\u001b[38;5;241m=\u001b[39my, boxprops\u001b[38;5;241m=\u001b[39m{\u001b[38;5;124m'\u001b[39m\u001b[38;5;124mfacecolor\u001b[39m\u001b[38;5;124m'\u001b[39m:\u001b[38;5;124m'\u001b[39m\u001b[38;5;124mNone\u001b[39m\u001b[38;5;124m'\u001b[39m})\n\u001b[1;32m     21\u001b[0m \u001b[38;5;66;03m#sns.swarmplot(data = metrics_mpra.tail(6), x=x, y=y)\u001b[39;00m\n\u001b[1;32m     22\u001b[0m \u001b[38;5;66;03m#plt.yscale('log')\u001b[39;00m\n\u001b[1;32m     23\u001b[0m \u001b[38;5;66;03m#plt.legend(bbox_to_anchor=(1, 0.5), title=\"Motif_count\")\u001b[39;00m\n\u001b[1;32m     24\u001b[0m \u001b[38;5;66;03m#statannot.add_stat_annotation(ax, data=statplot_df, x=x, y=y, #hue=hue, \u001b[39;00m\n\u001b[1;32m     25\u001b[0m \u001b[38;5;66;03m#                              box_pairs=box_pairs, comparisons_correction=\"bh\",\u001b[39;00m\n\u001b[1;32m     26\u001b[0m \u001b[38;5;66;03m#                    test='Wilcoxon', loc='inside',  verbose=2)\u001b[39;00m\n\u001b[0;32m---> 28\u001b[0m annotator \u001b[38;5;241m=\u001b[39m \u001b[43mAnnotator\u001b[49m(ax, box_pairs, data\u001b[38;5;241m=\u001b[39mstatplot_df, x\u001b[38;5;241m=\u001b[39mx, y\u001b[38;5;241m=\u001b[39my)\n\u001b[1;32m     29\u001b[0m annotator\u001b[38;5;241m.\u001b[39mconfigure(test\u001b[38;5;241m=\u001b[39m\u001b[38;5;124m'\u001b[39m\u001b[38;5;124mWilcoxon\u001b[39m\u001b[38;5;124m'\u001b[39m, text_format\u001b[38;5;241m=\u001b[39m\u001b[38;5;124m'\u001b[39m\u001b[38;5;124mstar\u001b[39m\u001b[38;5;124m'\u001b[39m, loc\u001b[38;5;241m=\u001b[39m\u001b[38;5;124m'\u001b[39m\u001b[38;5;124moutside\u001b[39m\u001b[38;5;124m'\u001b[39m, comparisons_correction\u001b[38;5;241m=\u001b[39m\u001b[38;5;124m\"\u001b[39m\u001b[38;5;124mBH\u001b[39m\u001b[38;5;124m\"\u001b[39m)\n\u001b[1;32m     30\u001b[0m annotator\u001b[38;5;241m.\u001b[39mapply_and_annotate()\n",
      "\u001b[0;31mNameError\u001b[0m: name 'Annotator' is not defined"
     ]
    },
    {
     "data": {
      "image/png": "[encoded data removed]",
      "text/plain": [
       "<Figure size 640x600 with 1 Axes>"
      ]
     },
     "metadata": {},
     "output_type": "display_data"
    }
   ],
   "source": [
    "dims = (6.4, 6)\n",
    "#statplot_df = errors_scer.query('model not in [\"GC + 2,3-mers\", \"GC + 2,3,4-mers\"]')\n",
    "statplot_df = metrics_mpra\n",
    "x = \"model\"\n",
    "y = \"r2\"\n",
    "y_lab = \"Pearson R-squared\"\n",
    "#hue = \"Motif_count\"\n",
    "box_pairs=[\n",
    "    (\"Embedding\", \"GC Content\"),\n",
    "    (\"Embedding\", \"2-mer counts\"),\n",
    "    (\"Embedding\", \"3-mer counts\"),\n",
    "    (\"Embedding\", \"4-mer counts\"),\n",
    "    (\"Embedding\", \"5-mer counts\"),\n",
    "    (\"Embedding\", \"6-mer counts\"),\n",
    "    (\"Embedding\", \"Word2Vec\"),\n",
    "    #(\"Embeddings\", \"Cheng Motifs\")\n",
    "    ]\n",
    "fig, ax = plt.subplots(figsize=dims, dpi=100)\n",
    "ax = sns.swarmplot(data=statplot_df, x=x, y=y)\n",
    "ax = sns.boxplot(data=statplot_df, x=x, y=y, boxprops={'facecolor':'None'})\n",
    "#sns.swarmplot(data = metrics_mpra.tail(6), x=x, y=y)\n",
    "#plt.yscale('log')\n",
    "#plt.legend(bbox_to_anchor=(1, 0.5), title=\"Motif_count\")\n",
    "#statannot.add_stat_annotation(ax, data=statplot_df, x=x, y=y, #hue=hue, \n",
    "#                              box_pairs=box_pairs, comparisons_correction=\"bh\",\n",
    "#                    test='Wilcoxon', loc='inside',  verbose=2)\n",
    "\n",
    "annotator = Annotator(ax, box_pairs, data=statplot_df, x=x, y=y)\n",
    "annotator.configure(test='Wilcoxon', text_format='star', loc='outside', comparisons_correction=\"BH\")\n",
    "annotator.apply_and_annotate()\n",
    "\n",
    "ax.set_xlabel(\"\",fontsize=10, color=\"black\")\n",
    "ax.set_ylabel(y_lab,fontsize=10, color=\"black\")\n",
    "#plt.legend(bbox_to_anchor=(1, 0.5), title=\"Motif_count\")\n",
    "#plt.setp(ax.get_legend().get_title(), fontsize='10')\n",
    "#plt.setp(ax.get_legend().get_texts(), fontsize='10')\n",
    "#plt.xticks(rotation=45, ha='right')\n",
    "ax.tick_params(labelsize=10, rotation=20)\n",
    "plt.tight_layout()\n",
    "\n",
    "\n",
    "#fig.savefig(\"../../../../Plots/Downstream_mpra.svg\") "
   ]
  },
  {
   "cell_type": "markdown",
   "id": "0679cf76-f512-44bd-bcd4-93757f69623b",
   "metadata": {},
   "source": [
    "# Combining metrics and writing result"
   ]
  },
  {
   "cell_type": "code",
   "execution_count": 46,
   "id": "2baa05bd-2088-42f5-a2ee-bb5fed9707d9",
   "metadata": {},
   "outputs": [],
   "source": [
    "metrics_scer[\"Task\"] = \"S. cerevisiae Half-life\"\n",
    "metrics_pombe[\"Task\"] = \"S. pombe Half-life\"\n",
    "metrics_mpra[\"Task\"] = \"Shalem 3'UTR designed reporter assay\""
   ]
  },
  {
   "cell_type": "code",
   "execution_count": 47,
   "id": "7535d1a3-ea1b-472c-bf3c-38c512459199",
   "metadata": {},
   "outputs": [],
   "source": [
    "metrics_df = pd.concat([metrics_scer, metrics_pombe, metrics_mpra])"
   ]
  },
  {
   "cell_type": "code",
   "execution_count": 49,
   "id": "be2f1388-392e-4280-bead-1643f64f5cd6",
   "metadata": {},
   "outputs": [],
   "source": [
    "#metrics_df.to_csv(\"../data/results/downstream_metrics.csv\", index=None)"
   ]
  },
  {
   "cell_type": "code",
   "execution_count": 71,
   "id": "4584b3d5-f6a5-4e08-bd2e-5e802bbe773e",
   "metadata": {},
   "outputs": [
    {
     "name": "stderr",
     "output_type": "stream",
     "text": [
      "/scratch/tmp/karollus/ipykernel_340261/2594415939.py:2: SettingWithCopyWarning: \n",
      "A value is trying to be set on a copy of a slice from a DataFrame.\n",
      "Try using .loc[row_indexer,col_indexer] = value instead\n",
      "\n",
      "See the caveats in the documentation: https://pandas.pydata.org/pandas-docs/stable/user_guide/indexing.html#returning-a-view-versus-a-copy\n",
      "  metrics_table[\"model\"] = metrics_table[\"model\"].apply(lambda x: \"SOTA\" if x in [\"Cheng Features\",\"Eser Features\"] else x)\n",
      "/scratch/tmp/karollus/ipykernel_340261/2594415939.py:3: SettingWithCopyWarning: \n",
      "A value is trying to be set on a copy of a slice from a DataFrame.\n",
      "Try using .loc[row_indexer,col_indexer] = value instead\n",
      "\n",
      "See the caveats in the documentation: https://pandas.pydata.org/pandas-docs/stable/user_guide/indexing.html#returning-a-view-versus-a-copy\n",
      "  metrics_table[\"model\"] = pd.Categorical(metrics_table[\"model\"],categories=[\n"
     ]
    }
   ],
   "source": [
    "metrics_table = metrics_df.query('model != \"GC Content\"')\n",
    "metrics_table[\"model\"] = metrics_table[\"model\"].apply(lambda x: \"SOTA\" if x in [\"Cheng Features\",\"Eser Features\"] else x)\n",
    "metrics_table[\"model\"] = pd.Categorical(metrics_table[\"model\"],categories=[\n",
    "    \"2-mer counts\",\n",
    "    \"3-mer counts\",\n",
    "    \"4-mer counts\",\n",
    "    \"5-mer counts\",\n",
    "    \"6-mer counts\",\n",
    "    \"Word2Vec\",\n",
    "    \"SOTA\",\n",
    "    \"Embedding\"\n",
    "])"
   ]
  },
  {
   "cell_type": "code",
   "execution_count": 74,
   "id": "07c1f94d-49b1-47c6-aba2-88885eedc73a",
   "metadata": {},
   "outputs": [],
   "source": [
    "means = metrics_table.groupby(['Task','model']).mean().round(decimals = 3).reset_index()\n",
    "#print(means.pivot(\"Task\",\"model\").to_latex())"
   ]
  },
  {
   "cell_type": "code",
   "execution_count": 75,
   "id": "17d2bcf7-5b01-4092-a8b6-84534c6a2cc9",
   "metadata": {},
   "outputs": [],
   "source": [
    "#print(means.pivot(\"model\",\"Task\").to_latex())"
   ]
  },
  {
   "cell_type": "code",
   "execution_count": 81,
   "id": "81cb257f-face-4d0b-9aab-eb9cf1b86e67",
   "metadata": {},
   "outputs": [
    {
     "name": "stderr",
     "output_type": "stream",
     "text": [
      "/scratch/tmp/karollus/ipykernel_340261/8051026.py:9: SettingWithCopyWarning: \n",
      "A value is trying to be set on a copy of a slice from a DataFrame.\n",
      "Try using .loc[row_indexer,col_indexer] = value instead\n",
      "\n",
      "See the caveats in the documentation: https://pandas.pydata.org/pandas-docs/stable/user_guide/indexing.html#returning-a-view-versus-a-copy\n",
      "  metricsplot_df[\"Task\"] = metricsplot_df[\"Task\"].apply(lambda x: \"3'UTR Designed\\nReporter Assay\" if x in [\"Shalem 3'UTR designed reporter assay\"] else x)\n",
      "/scratch/tmp/karollus/ipykernel_340261/8051026.py:10: SettingWithCopyWarning: \n",
      "A value is trying to be set on a copy of a slice from a DataFrame.\n",
      "Try using .loc[row_indexer,col_indexer] = value instead\n",
      "\n",
      "See the caveats in the documentation: https://pandas.pydata.org/pandas-docs/stable/user_guide/indexing.html#returning-a-view-versus-a-copy\n",
      "  metricsplot_df[\"model_type\"] = metricsplot_df[\"model\"].apply(lambda x: \"SOTA\" if x in [\"Cheng Features\",\"Eser Features\"] else (\"k-mer\" if \"-mer\" in x else x))\n"
     ]
    }
   ],
   "source": [
    "task_to_rep = {\n",
    "    \"S. cerevisiae Half-life\":\"3-mer counts\",\n",
    "    \"S. pombe Half-life\":\"3-mer counts\",\n",
    "    \"Shalem 3'UTR designed reporter assay\": \"5-mer counts\"\n",
    "}\n",
    "\n",
    "metricsplot_df = metrics_df.query('(model in [\"Embedding\", \"Cheng Features\", \"Eser Features\"]) or (model == \"3-mer counts\" and Task != \"Shalem 3\\'UTR designed reporter assay\") or (model == \"5-mer counts\" and Task == \"Shalem 3\\'UTR designed reporter assay\")')\n",
    "#metricsplot_df[\"model\"] = metricsplot_df[\"model\"].apply(lambda x: \"SOTA\" if x in [\"Cheng Features\",\"Eser Features\"] else x)\n",
    "metricsplot_df[\"Task\"] = metricsplot_df[\"Task\"].apply(lambda x: \"3'UTR Designed\\nReporter Assay\" if x in [\"Shalem 3'UTR designed reporter assay\"] else x)\n",
    "metricsplot_df[\"model_type\"] = metricsplot_df[\"model\"].apply(lambda x: \"SOTA\" if x in [\"Cheng Features\",\"Eser Features\"] else (\"k-mer\" if \"-mer\" in x else x))\n",
    "#metricsplot_df.to_csv(\"metricsplot.csv\",index=None)#[\"\"] = metricsplot_df.apply(lambda x: )"
   ]
  }
 ],
 "metadata": {
  "kernelspec": {
   "display_name": "Python [conda env:miniconda3-svilov-spade]",
   "language": "python",
   "name": "conda-env-miniconda3-svilov-spade-py"
  },
  "language_info": {
   "codemirror_mode": {
    "name": "ipython",
    "version": 3
   },
   "file_extension": ".py",
   "mimetype": "text/x-python",
   "name": "python",
   "nbconvert_exporter": "python",
   "pygments_lexer": "ipython3",
   "version": "3.10.9"
  }
 },
 "nbformat": 4,
 "nbformat_minor": 5
}
