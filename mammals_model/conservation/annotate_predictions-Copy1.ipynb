{
 "cells": [
  {
   "cell_type": "code",
   "execution_count": 1,
   "id": "7b51fa44-9476-4472-82c2-842bc90724ba",
   "metadata": {
    "tags": []
   },
   "outputs": [],
   "source": [
    "import os\n",
    "import pandas as pd\n",
    "import numpy as np\n",
    "from glob import glob\n",
    "import pickle\n",
    "from collections import defaultdict\n",
    "import re\n",
    "from tqdm import tqdm\n"
   ]
  },
  {
   "cell_type": "code",
   "execution_count": 2,
   "id": "53b575e4-e529-4df8-a1f9-bfb2f131ecb4",
   "metadata": {
    "tags": []
   },
   "outputs": [],
   "source": [
    "data_dir = '/s/project/mll/sergey/effect_prediction/MLM/motif_predictions/'"
   ]
  },
  {
   "cell_type": "code",
   "execution_count": 3,
   "id": "c1aef653-c894-4cab-968c-d4bf857fefd0",
   "metadata": {
    "tags": []
   },
   "outputs": [],
   "source": [
    "test_df = pd.read_csv(data_dir + 'split_75_25/test.csv').set_index('seq_name').squeeze() #compute conservation scores only on fraction of data"
   ]
  },
  {
   "cell_type": "code",
   "execution_count": 4,
   "id": "228418ad-b1c0-4bb7-82eb-dcab755ac01b",
   "metadata": {
    "tags": []
   },
   "outputs": [],
   "source": [
    "table_motifs = pd.read_csv(data_dir + 'motifs.csv') #predictions for motifs from Dominguez et al. 2018 + 10 random motifx\n",
    "table_motifs.loc[table_motifs.protein.isna(), 'protein'] = 'Random' "
   ]
  },
  {
   "cell_type": "code",
   "execution_count": 5,
   "id": "9e527eb3-9bda-49c9-9bb7-57f21df4395e",
   "metadata": {
    "tags": []
   },
   "outputs": [],
   "source": [
    "with open(data_dir + 'species_aware/probas.pickle','rb') as f:\n",
    "    probs = dict(pickle.load(f)) "
   ]
  },
  {
   "cell_type": "code",
   "execution_count": 6,
   "id": "2acd4b34-d1e6-4498-adcb-0c9d59216199",
   "metadata": {
    "tags": []
   },
   "outputs": [
    {
     "name": "stderr",
     "output_type": "stream",
     "text": [
      "100%|██████████| 4534/4534 [00:59<00:00, 75.83it/s] \n"
     ]
    }
   ],
   "source": [
    "motif_preds = []\n",
    "\n",
    "for seq_name,seq in tqdm(test_df.items(), total=len(test_df)):\n",
    "    for protein, motif in table_motifs.set_index('protein').squeeze().items():\n",
    "        for match in re.finditer(motif,seq):\n",
    "            avg_target_prob = np.mean(probs[seq_name][match.start():match.end()])\n",
    "            motif_preds.append((seq_name,match.start(),motif,avg_target_prob))\n",
    "            \n",
    "motif_preds = pd.DataFrame(motif_preds,columns = ['seq_name','motif_start','motif','avg_target_prob']).set_index('seq_name')"
   ]
  },
  {
   "cell_type": "code",
   "execution_count": 7,
   "id": "eade37a2-6518-45ff-ac8b-fca140bb8100",
   "metadata": {
    "tags": []
   },
   "outputs": [],
   "source": [
    "#3'UTR table\n",
    "\n",
    "utr_table = pd.read_csv(data_dir + '../UTR_coords/GRCh38_3_prime_UTR_clean-sorted.bed', sep='\\t',\n",
    "                       header = None, names=['seq_name','strand','seq_len'], usecols=[3,5,9]).set_index('seq_name')"
   ]
  },
  {
   "cell_type": "code",
   "execution_count": null,
   "id": "dcf2c037-7c63-44f1-aa99-f9e5322cfd64",
   "metadata": {},
   "outputs": [],
   "source": [
    "#test for some seq_idx\n",
    "\n",
    "seq_idx = 3699\n",
    "\n",
    "seq_name = seq_matching.loc[seq_idx]\n",
    "file_path = fasta_path + fasta_dirs.loc[seq_name] + '/' + seq_name + '.fa'\n",
    "file_path"
   ]
  },
  {
   "cell_type": "code",
   "execution_count": 40,
   "id": "fc9ba31e-2c22-4d24-aca7-ff18ef08296b",
   "metadata": {
    "tags": []
   },
   "outputs": [
    {
     "data": {
      "text/plain": [
       "strand        +\n",
       "seq_len    1357\n",
       "Name: ENST00000338167.10_utr3_16_0_chr11_130143449_f, dtype: object"
      ]
     },
     "execution_count": 40,
     "metadata": {},
     "output_type": "execute_result"
    }
   ],
   "source": [
    "utr_table.loc[seq_name]"
   ]
  },
  {
   "cell_type": "markdown",
   "id": "3fbcd553-b6ed-477b-8c21-e51ca60f48b0",
   "metadata": {},
   "source": [
    "# Conservation\n",
    "\n",
    "For each motif in each 3'UTR Human sequence, compute the number of sequences (species) that also have this motif"
   ]
  },
  {
   "cell_type": "code",
   "execution_count": 9,
   "id": "ec697290-b3fb-4ec6-8908-63731a13b7fc",
   "metadata": {
    "tags": []
   },
   "outputs": [],
   "source": [
    "# all 3'UTR FASTA alignments are distributed across subfolders\n",
    "# find all FASTA files and their subfolders\n",
    "\n",
    "MAX_ALIGNMENT_LEN = 5000 #length at which sequences were cut after extracting\n",
    "\n",
    "fasta_path = data_dir + '../aligned/data/3_prime_UTR/'\n",
    "\n",
    "fasta_dirs = []\n",
    "\n",
    "for file in glob(fasta_path + '**/*.fa', recursive=True):\n",
    "    relative_path = os.path.relpath(file, fasta_path)\n",
    "    folder, seq_id = relative_path.split('/')\n",
    "    seq_id = seq_id.replace('.fa','')\n",
    "    fasta_dirs.append((folder,seq_id))\n",
    "    \n",
    "fasta_dirs = pd.DataFrame(fasta_dirs, columns=['folder','seq_name']).set_index('seq_name').squeeze()"
   ]
  },
  {
   "cell_type": "code",
   "execution_count": 10,
   "id": "21676f75-5cfd-4af8-93e7-98b3ab81d974",
   "metadata": {
    "tags": []
   },
   "outputs": [],
   "source": [
    "def read_fasta(fasta_file):\n",
    "    \n",
    "    '''\n",
    "    Read FASTA file\n",
    "    sequence names are ignored\n",
    "    outputs an array of sequences\n",
    "    '''\n",
    "    \n",
    "    fasta_seqs = []\n",
    "\n",
    "    with open(fasta_file,'r') as f:\n",
    "        for line in f:\n",
    "            if line.startswith('>'):\n",
    "                fasta_seqs.append('')\n",
    "            else:\n",
    "                fasta_seqs[-1] += line.rstrip().upper()\n",
    "                \n",
    "    return fasta_seqs"
   ]
  },
  {
   "cell_type": "code",
   "execution_count": 11,
   "id": "9b39fc81-1739-4e47-9614-62a7e5a016dd",
   "metadata": {
    "tags": []
   },
   "outputs": [],
   "source": [
    "def get_matches(fasta_seqs, motif_start, motif, tol=0):\n",
    "    \n",
    "    '''\n",
    "    For fasta_seqs yield the number of strings with the given motif\n",
    "    The motif can be located anywhere between motif_start-tol and motif_start+tol within the sequence\n",
    "    '''\n",
    "    \n",
    "    motif_len = len(motif)\n",
    "\n",
    "    if motif_start<0 or motif_start>MAX_ALIGNMENT_LEN-motif_len:\n",
    "        return np.NaN\n",
    "    \n",
    "    N_matches = 0.\n",
    "    \n",
    "    if fasta_seqs[0][motif_start:motif_start+motif_len] != motif:\n",
    "        print(motif,motif_start)\n",
    "        raise Exception(\"Wrong motif on reference sequence\") \n",
    "    \n",
    "    for seq in fasta_seqs:\n",
    "        if seq[max(motif_start-tol,0):motif_start+motif_len+tol].find(motif)>-1:\n",
    "            N_matches+=1\n",
    "\n",
    "    return N_matches"
   ]
  },
  {
   "cell_type": "code",
   "execution_count": 12,
   "id": "068f6551-128e-4f5f-8877-c2866b53d0ad",
   "metadata": {
    "tags": []
   },
   "outputs": [
    {
     "name": "stdout",
     "output_type": "stream",
     "text": [
      "0\n",
      "500\n",
      "1000\n",
      "1500\n",
      "2000\n",
      "2500\n",
      "3000\n",
      "3500\n",
      "4000\n",
      "4500\n",
      "CPU times: user 1h 36min 12s, sys: 1.74 s, total: 1h 36min 14s\n",
      "Wall time: 1h 38min 48s\n"
     ]
    }
   ],
   "source": [
    "%%time\n",
    "\n",
    "#loop over all FASTA sequences\n",
    "\n",
    "for seq_idx, seq_name in enumerate(motif_preds.index.unique()):\n",
    "        \n",
    "    file_path = fasta_path + fasta_dirs.loc[seq_name] + '/' + seq_name + '.fa'\n",
    "    \n",
    "    fasta_seqs = read_fasta(file_path)\n",
    "    \n",
    "    motif_df = motif_preds.loc[seq_name,['motif','motif_start']] #motifs found within this FASTA sequence\n",
    "    \n",
    "    if utr_table.loc[seq_name].strand=='-':\n",
    "        motif_df.motif_start = motif_df.motif_start - (utr_table.loc[seq_name].seq_len - len(fasta_seqs[0])) #correct error (we cut seqeunces and then took RC when aligned)\n",
    "    \n",
    "    #compute the number of motif matches for several tolerance values\n",
    "    for tol in (0,10,50,100,200,300):\n",
    "        if type(motif_df)==pd.DataFrame:\n",
    "            motif_preds.loc[seq_name,f'Nmatches_{tol}'] = motif_df.apply(lambda x: get_matches(fasta_seqs,x.motif_start,x.motif,tol), axis=1)\n",
    "        else:\n",
    "            motif_preds.loc[seq_name,f'Nmatches_{tol}'] = get_matches(fasta_seqs,motif_df.motif_start,motif_df.motif,tol)\n",
    "            #motif_preds.loc[seq_name,f'Nmatches_ref'] = len(list(re.finditer(motif_df.motif,fasta_seqs[0])))\n",
    "    \n",
    "    #compute motif counts in the ref sequence\n",
    "    #if type(motif_df)==pd.DataFrame:\n",
    "    #    motif_preds.loc[seq_name,f'motif_counts_ref'] = motif_df.motif.apply(lambda x: len(list(re.finditer(x,fasta_seqs[0]))))\n",
    "    #else:\n",
    "    #    motif_preds.loc[seq_name,f'motif_counts_ref'] = len(list(re.finditer(motif_df.motif,fasta_seqs[0])))\n",
    "                                               \n",
    "    if (seq_idx)%500==0:\n",
    "        print(seq_idx)"
   ]
  },
  {
   "cell_type": "code",
   "execution_count": 11,
   "id": "21224888-f3b8-4637-8e9b-a5f893d7355c",
   "metadata": {
    "tags": []
   },
   "outputs": [],
   "source": [
    "def seq_entropy(seq):\n",
    "    probs = np.zeros((4,)) #probability for each base in the sequence\n",
    "    L = len(seq)\n",
    "    for base_idx, base in enumerate('ACTG'):\n",
    "        prob_base = len([True for x in seq if x==base])/L #probability of base in the sequence\n",
    "        probs[base_idx] = prob_base\n",
    "    probs = probs[probs!=0] #exclude zeros to avoid error in log\n",
    "    entropy = (-probs*np.log2(probs)).sum()\n",
    "    return entropy"
   ]
  },
  {
   "cell_type": "code",
   "execution_count": 12,
   "id": "d5376f28-db83-4a25-931e-da9169e0e09a",
   "metadata": {
    "tags": []
   },
   "outputs": [],
   "source": [
    "entropy_dict = {seq:seq_entropy(seq) for seq in motif_preds.motif.unique()}"
   ]
  },
  {
   "cell_type": "code",
   "execution_count": 13,
   "id": "32293237-8d1a-4d6c-b048-d088781dd0d1",
   "metadata": {
    "tags": []
   },
   "outputs": [],
   "source": [
    "motif_preds.to_csv(data_dir + 'species_aware/conservation_df.csv.gz')"
   ]
  },
  {
   "cell_type": "markdown",
   "id": "c4762566-1dd9-475a-b080-3f04285dae13",
   "metadata": {},
   "source": [
    "# Old"
   ]
  },
  {
   "cell_type": "code",
   "execution_count": 13,
   "id": "5f680008-bd6a-4a2e-88a5-8564f66d38ba",
   "metadata": {
    "tags": []
   },
   "outputs": [],
   "source": [
    "motif_preds['motif_entropy'] = motif_preds.motif.map(entropy_dict)"
   ]
  },
  {
   "cell_type": "code",
   "execution_count": 20,
   "id": "f0c6a4af-bae8-4762-9ec7-9d07f96883f5",
   "metadata": {
    "tags": []
   },
   "outputs": [],
   "source": [
    "human_fasta = data_dir + 'fasta/240_mammals/species/Homo_sapiens.fa'"
   ]
  },
  {
   "cell_type": "code",
   "execution_count": 21,
   "id": "663063e3-ab9c-48d2-835e-79d421958934",
   "metadata": {
    "tags": []
   },
   "outputs": [],
   "source": [
    "human_utr = defaultdict(str)\n",
    "\n",
    "with open(human_fasta, 'r') as f:\n",
    "    for line in f:\n",
    "        if line.startswith('>'):\n",
    "            seq_name = line[1:].split(':')[0]\n",
    "        else:\n",
    "            human_utr[seq_name] += line.rstrip()"
   ]
  },
  {
   "cell_type": "code",
   "execution_count": 204,
   "id": "3cf1d99a-8fa7-443a-b65c-ad3b2ac00c15",
   "metadata": {
    "tags": []
   },
   "outputs": [],
   "source": [
    "entropy_dict = {seq_idx:seq_entropy(human_utr[seq_name].upper()) for seq_idx,seq_name in  seq_matching.items()}"
   ]
  },
  {
   "cell_type": "code",
   "execution_count": 205,
   "id": "ce8d1aea-4471-49a5-964c-2ff0b7b6e4e2",
   "metadata": {
    "tags": []
   },
   "outputs": [],
   "source": [
    "motif_preds['seq_entropy'] = motif_preds.index.map(entropy_dict)"
   ]
  },
  {
   "cell_type": "code",
   "execution_count": 170,
   "id": "92123fdf-4284-49b2-bcd7-2abfede61156",
   "metadata": {
    "tags": []
   },
   "outputs": [],
   "source": [
    "seqlen_dict = {seq_idx:len(human_utr[seq_name]) for seq_idx,seq_name in  seq_matching.items()}"
   ]
  },
  {
   "cell_type": "code",
   "execution_count": 171,
   "id": "4a9fde1d-1fac-42c2-ab1d-c9df33dbd8c0",
   "metadata": {
    "tags": []
   },
   "outputs": [],
   "source": [
    "motif_preds['seq_len'] = motif_preds.index.map(seqlen_dict)"
   ]
  },
  {
   "cell_type": "code",
   "execution_count": 177,
   "id": "d0feccf0-08d9-4c15-aba8-5d29771e9645",
   "metadata": {
    "tags": []
   },
   "outputs": [],
   "source": [
    "motif_reoccurence = motif_preds.motif.value_counts().to_dict()"
   ]
  },
  {
   "cell_type": "code",
   "execution_count": 181,
   "id": "0c66dde0-b328-47c5-aa44-898e7efd07db",
   "metadata": {
    "tags": []
   },
   "outputs": [],
   "source": [
    "motif_preds['motif_counts'] = motif_preds.motif.map(motif_reoccurence)"
   ]
  },
  {
   "cell_type": "code",
   "execution_count": 207,
   "id": "b6a3e33e-f077-4628-b555-1326fbbebaba",
   "metadata": {
    "tags": []
   },
   "outputs": [],
   "source": [
    "#motif_preds.to_csv(data_dir + 'motif_predictions/species_aware/conservation_df.csv.gz')"
   ]
  },
  {
   "cell_type": "markdown",
   "id": "19878868-6112-4328-9d9f-0faef5a90f05",
   "metadata": {},
   "source": [
    "# Old"
   ]
  },
  {
   "cell_type": "code",
   "execution_count": null,
   "id": "ab851123-a4cb-4ad0-ad69-a0814a06a4a2",
   "metadata": {
    "tags": []
   },
   "outputs": [],
   "source": [
    "motif_preds.loc[seq_idx]"
   ]
  },
  {
   "cell_type": "code",
   "execution_count": null,
   "id": "464d90e8-0866-44cd-a21e-f7dbc0ac009d",
   "metadata": {},
   "outputs": [],
   "source": [
    "conservation_df = pd.read_parquet(data_dir + \"ML4RG_project/students_data/conservation/part2_full_df_70.parquet\")"
   ]
  },
  {
   "cell_type": "code",
   "execution_count": null,
   "id": "b8163f22-797d-4568-9134-1990b3793ec2",
   "metadata": {
    "tags": []
   },
   "outputs": [],
   "source": [
    "with open(data_dir + 'ML4RG_project/students_data/conservation/final_self_df_70.pickle','rb') as f:\n",
    "    indexseq_df = pickle.load(f)\n",
    "    \n",
    "debug_seq = ''.join(indexseq_df['3UTR'].tolist())"
   ]
  },
  {
   "cell_type": "code",
   "execution_count": null,
   "id": "bebb15bf-7f8b-459d-8aef-da0da88f6364",
   "metadata": {
    "tags": []
   },
   "outputs": [
    {
     "data": {
      "text/plain": [
       "22829308"
      ]
     },
     "execution_count": 205,
     "metadata": {},
     "output_type": "execute_result"
    }
   ],
   "source": [
    "len(debug_seq)"
   ]
  },
  {
   "cell_type": "code",
   "execution_count": 206,
   "id": "5cf73d05-ec01-4d71-8808-b434f938931e",
   "metadata": {
    "tags": []
   },
   "outputs": [
    {
     "data": {
      "text/plain": [
       "1024"
      ]
     },
     "execution_count": 206,
     "metadata": {},
     "output_type": "execute_result"
    }
   ],
   "source": [
    "alphabet_seq = conservation_df.motif_range.apply(lambda x:debug_seq[x[0]:x[1]])\n",
    "\n",
    "len(set(alphabet_seq))"
   ]
  },
  {
   "cell_type": "code",
   "execution_count": 5,
   "id": "7039a470-67cd-4d18-861c-2ae755818a81",
   "metadata": {
    "tags": []
   },
   "outputs": [],
   "source": [
    "nucleotides = 'ACGTN'\n",
    "\n",
    "with open(data_dir + 'ML4RG_project/students_data/conservation/final_whole_seq_70.pickle','rb') as f:\n",
    "    debug_seq = pickle.load(f)\n",
    "    debug_seq = ''.join(list(map(lambda x:nucleotides[x], debug_seq)))"
   ]
  },
  {
   "cell_type": "code",
   "execution_count": 6,
   "id": "c6b8c7f3-244c-49e6-9cd1-3d642b9423e5",
   "metadata": {
    "tags": []
   },
   "outputs": [
    {
     "data": {
      "text/plain": [
       "13114727"
      ]
     },
     "execution_count": 6,
     "metadata": {},
     "output_type": "execute_result"
    }
   ],
   "source": [
    "len(debug_seq)"
   ]
  },
  {
   "cell_type": "code",
   "execution_count": 7,
   "id": "6df7e7fc-4a92-4cbc-81b9-fdb724cbf45d",
   "metadata": {
    "tags": []
   },
   "outputs": [
    {
     "data": {
      "text/plain": [
       "283"
      ]
     },
     "execution_count": 7,
     "metadata": {},
     "output_type": "execute_result"
    }
   ],
   "source": [
    "alphabet_seq = conservation_df.motif_range.apply(lambda x:debug_seq[x[0]:x[1]])\n",
    "\n",
    "len(set(alphabet_seq))"
   ]
  },
  {
   "cell_type": "code",
   "execution_count": 8,
   "id": "9ffcc7ef-71b4-4dc2-9237-8f39d3fc4783",
   "metadata": {
    "tags": []
   },
   "outputs": [],
   "source": [
    "motifs_debugseq = set(alphabet_seq)"
   ]
  },
  {
   "cell_type": "code",
   "execution_count": 9,
   "id": "bd3e31e6-b57d-4fd7-bacb-98b37a6b067f",
   "metadata": {
    "tags": []
   },
   "outputs": [],
   "source": [
    "human_fasta = data_dir + 'fasta/240_mammals/species/Homo_sapiens.fa'"
   ]
  },
  {
   "cell_type": "code",
   "execution_count": 13,
   "id": "45608d1c-e4da-463f-b6b1-04a965c51f4f",
   "metadata": {
    "tags": []
   },
   "outputs": [],
   "source": [
    "from collections import defaultdict\n",
    "\n",
    "human_utr = defaultdict(str)\n",
    "\n",
    "with open(human_fasta, 'r') as f:\n",
    "    for line in f:\n",
    "        if line.startswith('>'):\n",
    "            fasta_id = line[1:].split(':')[0]\n",
    "        else:\n",
    "            human_utr[fasta_id] += line.rstrip()"
   ]
  },
  {
   "cell_type": "code",
   "execution_count": 43,
   "id": "09c3efad-315b-4f9e-a817-993c8e1e6f7b",
   "metadata": {
    "tags": []
   },
   "outputs": [],
   "source": [
    "seqpos = []\n",
    "\n",
    "for fasta_id,seq in human_utr.items():\n",
    "    seq_start = debug_seq.find(seq.upper())\n",
    "    if seq_start != -1:\n",
    "        seq_end = seq_start + len(seq)\n",
    "        seqpos.append((fasta_id, seq_start, seq_end))"
   ]
  },
  {
   "cell_type": "code",
   "execution_count": 33,
   "id": "56e3a3b4-642d-4473-b150-0be3212347b8",
   "metadata": {
    "tags": []
   },
   "outputs": [],
   "source": [
    "motif_df = conservation_df.motif_range.apply(lambda x:x[0]).rename('motif_start').to_frame()"
   ]
  },
  {
   "cell_type": "code",
   "execution_count": 44,
   "id": "196493b5-fa36-46a9-b73e-d85788944818",
   "metadata": {
    "tags": []
   },
   "outputs": [],
   "source": [
    "for fasta_id, seq_start, seq_end in seqpos:\n",
    "    motif_df.loc[(motif_df.motif_start>=seq_start) & (motif_df.motif_start<seq_end), 'id'] = fasta_id"
   ]
  },
  {
   "cell_type": "code",
   "execution_count": 45,
   "id": "562027fc-15b3-474a-ada1-3959d6b90daf",
   "metadata": {
    "tags": []
   },
   "outputs": [
    {
     "data": {
      "text/plain": [
       "15434"
      ]
     },
     "execution_count": 45,
     "metadata": {},
     "output_type": "execute_result"
    }
   ],
   "source": [
    "motif_df.id.isna().sum()"
   ]
  },
  {
   "cell_type": "code",
   "execution_count": 46,
   "id": "00f6ac82-1596-4ea2-89b3-e57155623d13",
   "metadata": {
    "tags": []
   },
   "outputs": [],
   "source": [
    "seqpos = pd.DataFrame(seqpos, columns=['id','seq_start','seq_end'])"
   ]
  },
  {
   "cell_type": "code",
   "execution_count": 56,
   "id": "e00bc51e-7825-427c-96a8-2ae1f9629250",
   "metadata": {
    "tags": []
   },
   "outputs": [],
   "source": [
    "seq=human_utr['ENST00000528848.3_utr3_0_0_chr11_11351942_r']"
   ]
  },
  {
   "cell_type": "code",
   "execution_count": 51,
   "id": "8727e2f1-c1f6-4b2e-b574-5744cae7444e",
   "metadata": {
    "tags": []
   },
   "outputs": [
    {
     "data": {
      "text/plain": [
       "0"
      ]
     },
     "execution_count": 51,
     "metadata": {},
     "output_type": "execute_result"
    }
   ],
   "source": [
    "debug_seq.find(seq.upper())"
   ]
  },
  {
   "cell_type": "code",
   "execution_count": 57,
   "id": "0ea501c2-7e9e-4128-acdf-1921cb814a4a",
   "metadata": {
    "tags": []
   },
   "outputs": [
    {
     "data": {
      "text/plain": [
       "'CG'"
      ]
     },
     "execution_count": 57,
     "metadata": {},
     "output_type": "execute_result"
    }
   ],
   "source": [
    "seq"
   ]
  },
  {
   "cell_type": "code",
   "execution_count": 48,
   "id": "b4c40a21-9fce-42c4-b116-442c4fb19159",
   "metadata": {
    "tags": []
   },
   "outputs": [
    {
     "data": {
      "text/html": [
       "<div>\n",
       "<style scoped>\n",
       "    .dataframe tbody tr th:only-of-type {\n",
       "        vertical-align: middle;\n",
       "    }\n",
       "\n",
       "    .dataframe tbody tr th {\n",
       "        vertical-align: top;\n",
       "    }\n",
       "\n",
       "    .dataframe thead th {\n",
       "        text-align: right;\n",
       "    }\n",
       "</style>\n",
       "<table border=\"1\" class=\"dataframe\">\n",
       "  <thead>\n",
       "    <tr style=\"text-align: right;\">\n",
       "      <th></th>\n",
       "      <th>id</th>\n",
       "      <th>seq_start</th>\n",
       "      <th>seq_end</th>\n",
       "    </tr>\n",
       "  </thead>\n",
       "  <tbody>\n",
       "    <tr>\n",
       "      <th>4504</th>\n",
       "      <td>ENST00000395343.6_utr3_15_0_chr20_62877743_r</td>\n",
       "      <td>0</td>\n",
       "      <td>1490</td>\n",
       "    </tr>\n",
       "    <tr>\n",
       "      <th>1147</th>\n",
       "      <td>ENST00000528848.3_utr3_0_0_chr11_11351942_r</td>\n",
       "      <td>1</td>\n",
       "      <td>3</td>\n",
       "    </tr>\n",
       "    <tr>\n",
       "      <th>1240</th>\n",
       "      <td>ENST00000641865.1_utr3_1_0_chr11_58402464_r</td>\n",
       "      <td>1</td>\n",
       "      <td>2</td>\n",
       "    </tr>\n",
       "    <tr>\n",
       "      <th>4649</th>\n",
       "      <td>ENST00000390318.2_utr3_1_0_chr22_22872034_f</td>\n",
       "      <td>2</td>\n",
       "      <td>4</td>\n",
       "    </tr>\n",
       "    <tr>\n",
       "      <th>4887</th>\n",
       "      <td>ENST00000545770.7_utr3_3_0_chr3_49177634_r</td>\n",
       "      <td>14</td>\n",
       "      <td>16</td>\n",
       "    </tr>\n",
       "    <tr>\n",
       "      <th>...</th>\n",
       "      <td>...</td>\n",
       "      <td>...</td>\n",
       "      <td>...</td>\n",
       "    </tr>\n",
       "    <tr>\n",
       "      <th>6011</th>\n",
       "      <td>ENST00000371117.8_utr3_66_0_chr6_51615299_r</td>\n",
       "      <td>13107115</td>\n",
       "      <td>13110897</td>\n",
       "    </tr>\n",
       "    <tr>\n",
       "      <th>5095</th>\n",
       "      <td>ENST00000475390.2_utr3_1_0_chr3_165186720_r</td>\n",
       "      <td>13110897</td>\n",
       "      <td>13112074</td>\n",
       "    </tr>\n",
       "    <tr>\n",
       "      <th>3340</th>\n",
       "      <td>ENST00000592588.7_utr3_3_0_chr19_1440463_f</td>\n",
       "      <td>13112074</td>\n",
       "      <td>13112107</td>\n",
       "    </tr>\n",
       "    <tr>\n",
       "      <th>546</th>\n",
       "      <td>ENST00000302101.6_utr3_1_0_chr1_160371134_f</td>\n",
       "      <td>13112107</td>\n",
       "      <td>13113820</td>\n",
       "    </tr>\n",
       "    <tr>\n",
       "      <th>2116</th>\n",
       "      <td>ENST00000555002.6_utr3_115_0_chr14_64225527_f</td>\n",
       "      <td>13113820</td>\n",
       "      <td>13114727</td>\n",
       "    </tr>\n",
       "  </tbody>\n",
       "</table>\n",
       "<p>7393 rows × 3 columns</p>\n",
       "</div>"
      ],
      "text/plain": [
       "                                                 id  seq_start   seq_end\n",
       "4504   ENST00000395343.6_utr3_15_0_chr20_62877743_r          0      1490\n",
       "1147    ENST00000528848.3_utr3_0_0_chr11_11351942_r          1         3\n",
       "1240    ENST00000641865.1_utr3_1_0_chr11_58402464_r          1         2\n",
       "4649    ENST00000390318.2_utr3_1_0_chr22_22872034_f          2         4\n",
       "4887     ENST00000545770.7_utr3_3_0_chr3_49177634_r         14        16\n",
       "...                                             ...        ...       ...\n",
       "6011    ENST00000371117.8_utr3_66_0_chr6_51615299_r   13107115  13110897\n",
       "5095    ENST00000475390.2_utr3_1_0_chr3_165186720_r   13110897  13112074\n",
       "3340     ENST00000592588.7_utr3_3_0_chr19_1440463_f   13112074  13112107\n",
       "546     ENST00000302101.6_utr3_1_0_chr1_160371134_f   13112107  13113820\n",
       "2116  ENST00000555002.6_utr3_115_0_chr14_64225527_f   13113820  13114727\n",
       "\n",
       "[7393 rows x 3 columns]"
      ]
     },
     "execution_count": 48,
     "metadata": {},
     "output_type": "execute_result"
    }
   ],
   "source": [
    "seqpos.sort_values(by='seq_start')"
   ]
  },
  {
   "cell_type": "code",
   "execution_count": 26,
   "id": "e85a4fe5-373c-481a-a9bc-e5cdc5df7ff0",
   "metadata": {
    "tags": []
   },
   "outputs": [],
   "source": [
    "fasta_path = data_dir + 'aligned/data/3_prime_UTR/'\n",
    "\n",
    "fasta_dirs = []\n",
    "\n",
    "for file in glob(fasta_path + '**/*.fa', recursive=True):\n",
    "    relative_path = os.path.relpath(file, fasta_path)\n",
    "    folder, seq_id = relative_path.split('/')\n",
    "    seq_id = seq_id.replace('.fa','')\n",
    "    fasta_dirs.append((folder,seq_id))\n",
    "    \n",
    "fasta_dirs = pd.DataFrame(fasta_dirs, columns=['folder','id']).set_index('id').squeeze()"
   ]
  },
  {
   "cell_type": "code",
   "execution_count": 27,
   "id": "fdc2999d-272c-49f2-9bdf-b38f5977a2f3",
   "metadata": {
    "tags": []
   },
   "outputs": [],
   "source": [
    "def read_fasta(fasta_file):\n",
    "    \n",
    "    fasta_seqs = []\n",
    "\n",
    "    with open(fasta_file,'r') as f:\n",
    "        for line in f:\n",
    "            if line.startswith('>'):\n",
    "                fasta_seqs.append('')\n",
    "            else:\n",
    "                fasta_seqs[-1] += line.rstrip().upper()\n",
    "                \n",
    "    return fasta_seqs"
   ]
  },
  {
   "cell_type": "code",
   "execution_count": 28,
   "id": "d4c204ec-2a0f-45c1-aef1-7a13ff19dd3a",
   "metadata": {
    "tags": []
   },
   "outputs": [],
   "source": [
    "def get_consv_score(fasta_seqs, start_pos, motif_len=5, norm=None):\n",
    "    \n",
    "    N_matches = 0.\n",
    "    \n",
    "    motif = fasta_seqs[0][start_pos:start_pos+motif_len]\n",
    "\n",
    "    for seq in fasta_seqs:\n",
    "        if seq[start_pos:start_pos+motif_len] == motif:\n",
    "            N_matches+=1\n",
    "\n",
    "    N_seqs = len(fasta_seqs)\n",
    "    \n",
    "    if norm=='local':\n",
    "        consv_score = N_matches/N_seqs\n",
    "    else:\n",
    "        consv_score = N_matches\n",
    "        \n",
    "    return consv_score"
   ]
  },
  {
   "cell_type": "code",
   "execution_count": 229,
   "id": "255aec7e-864a-4221-b0d9-5f60b5f91d02",
   "metadata": {
    "tags": []
   },
   "outputs": [],
   "source": [
    "conservation_df = conservation_df.sort_values(by='id').set_index('id')"
   ]
  },
  {
   "cell_type": "code",
   "execution_count": 4,
   "id": "4c985404-e979-4f42-aa23-ecf50b3bc262",
   "metadata": {
    "tags": []
   },
   "outputs": [],
   "source": [
    "motifs = pd.read_excel(data_dir + 'dominguez_2018/1-s2.0-S1097276518303514-mmc4.xlsx',\n",
    "             sheet_name =1)\n",
    "\n",
    "motifs = motifs.iloc[1:,0::2].values.flatten()\n",
    "\n",
    "motifs_table = set(filter(lambda v: v==v, motifs))"
   ]
  },
  {
   "cell_type": "code",
   "execution_count": 10,
   "id": "1af008be-0dd9-4d5b-88d7-62ba339e3d6d",
   "metadata": {
    "tags": []
   },
   "outputs": [
    {
     "data": {
      "text/plain": [
       "{'ACTCC', 'ACTTA', 'ATGTC', 'CCACA', 'TGACT', 'TTCCG', 'TTGGG'}"
      ]
     },
     "execution_count": 10,
     "metadata": {},
     "output_type": "execute_result"
    }
   ],
   "source": [
    "motifs_debugseq-motifs_table"
   ]
  },
  {
   "cell_type": "code",
   "execution_count": 117,
   "id": "22bcd7b6-0e90-46fb-9c6b-8ef2b57d1cdb",
   "metadata": {
    "tags": []
   },
   "outputs": [],
   "source": [
    "motifs_debugseq = set(alphabet_seq)"
   ]
  },
  {
   "cell_type": "code",
   "execution_count": 149,
   "id": "13ff8047-a8fd-4ce7-8463-1fa499b7cbb9",
   "metadata": {
    "tags": []
   },
   "outputs": [
    {
     "data": {
      "text/plain": [
       "1021"
      ]
     },
     "execution_count": 149,
     "metadata": {},
     "output_type": "execute_result"
    }
   ],
   "source": [
    "len(set(motifs_debugseq))"
   ]
  },
  {
   "cell_type": "code",
   "execution_count": 143,
   "id": "004b540b-9b35-426b-8266-57c845ba9ae9",
   "metadata": {
    "tags": []
   },
   "outputs": [],
   "source": [
    "def int_to_str(motif):\n",
    "    matchdict = 'ACGTN'\n",
    "    return ''.join([matchdict[x] for x in motif])"
   ]
  },
  {
   "cell_type": "code",
   "execution_count": 146,
   "id": "cce21b84-aee4-4b13-b725-15ad5f998bfd",
   "metadata": {
    "tags": []
   },
   "outputs": [],
   "source": [
    "motifs_debugseq = set(int_to_str(x.numpy()) for x in alphabet_seq)"
   ]
  },
  {
   "cell_type": "code",
   "execution_count": 126,
   "id": "16303e35-a27a-4f93-bd0c-4879f9aa4d50",
   "metadata": {
    "tags": []
   },
   "outputs": [
    {
     "ename": "ValueError",
     "evalue": "The truth value of an array with more than one element is ambiguous. Use a.any() or a.all()",
     "output_type": "error",
     "traceback": [
      "\u001b[0;31m---------------------------------------------------------------------------\u001b[0m",
      "\u001b[0;31mValueError\u001b[0m                                Traceback (most recent call last)",
      "Cell \u001b[0;32mIn[126], line 1\u001b[0m\n\u001b[0;32m----> 1\u001b[0m \u001b[38;5;28;43mlist\u001b[39;49m\u001b[43m(\u001b[49m\u001b[38;5;28;43mfilter\u001b[39;49m\u001b[43m(\u001b[49m\u001b[38;5;28;43;01mlambda\u001b[39;49;00m\u001b[43m \u001b[49m\u001b[43mx\u001b[49m\u001b[43m:\u001b[49m\u001b[43mx\u001b[49m\u001b[38;5;241;43m.\u001b[39;49m\u001b[43mnumpy\u001b[49m\u001b[43m(\u001b[49m\u001b[43m)\u001b[49m\u001b[43m,\u001b[49m\u001b[43malphabet_seq\u001b[49m\u001b[43m)\u001b[49m\u001b[43m)\u001b[49m\n",
      "\u001b[0;31mValueError\u001b[0m: The truth value of an array with more than one element is ambiguous. Use a.any() or a.all()"
     ]
    }
   ],
   "source": [
    "list(filter(lambda x:x.numpy(),alphabet_seq))"
   ]
  },
  {
   "cell_type": "code",
   "execution_count": 75,
   "id": "209cdfac-3f88-4714-ad20-974710734d80",
   "metadata": {
    "tags": []
   },
   "outputs": [
    {
     "ename": "AttributeError",
     "evalue": "'set' object has no attribute 'subtract'",
     "output_type": "error",
     "traceback": [
      "\u001b[0;31m---------------------------------------------------------------------------\u001b[0m",
      "\u001b[0;31mAttributeError\u001b[0m                            Traceback (most recent call last)",
      "Cell \u001b[0;32mIn[75], line 1\u001b[0m\n\u001b[0;32m----> 1\u001b[0m \u001b[38;5;28mlen\u001b[39m(\u001b[43mmotifs_table\u001b[49m\u001b[38;5;241;43m.\u001b[39;49m\u001b[43msubtract\u001b[49m(motifs_debugseq))\n",
      "\u001b[0;31mAttributeError\u001b[0m: 'set' object has no attribute 'subtract'"
     ]
    }
   ],
   "source": [
    "len(motifs_table.subtract(motifs_debugseq))"
   ]
  },
  {
   "cell_type": "code",
   "execution_count": 116,
   "id": "7c8cdcd4-d1d5-4034-8542-07f58a34a549",
   "metadata": {
    "tags": []
   },
   "outputs": [],
   "source": [
    "alphabet_seq = conservation_df[['motif_range','seq_range']].apply(lambda x:debug_seq[x.motif_range[0]-x.seq_range[0]:x.motif_range[1]-x.seq_range[0]], axis=1)"
   ]
  },
  {
   "cell_type": "code",
   "execution_count": 94,
   "id": "afe4775c-dac6-4c19-be0b-5d9704304ef9",
   "metadata": {
    "tags": []
   },
   "outputs": [],
   "source": [
    "motifs_debugseq = set(conservation_df.alphabet_seq)"
   ]
  },
  {
   "cell_type": "code",
   "execution_count": 133,
   "id": "fd0fc9da-4a21-41a6-b38b-7e3469720be1",
   "metadata": {
    "tags": []
   },
   "outputs": [],
   "source": [
    "conservation_df['motif_start'] = conservation_df[['motif_range','seq_range']].apply(lambda x:x.motif_range[0]-x.seq_range[0], axis=1)"
   ]
  },
  {
   "cell_type": "code",
   "execution_count": null,
   "id": "f93e5773-3464-4b08-956b-53a8767845e8",
   "metadata": {},
   "outputs": [],
   "source": [
    "for fasta_id in conservation_df.index.unique():\n",
    "    file_path = fasta_path + fasta_dirs.loc[fasta_id] + fasta_id + '.fa'\n",
    "    fasta_seqs = read_fasta(fasta_file)\n",
    "    "
   ]
  },
  {
   "cell_type": "code",
   "execution_count": 146,
   "id": "d2b97d88-f400-458c-8859-86ad3dd95661",
   "metadata": {
    "tags": []
   },
   "outputs": [
    {
     "ename": "AttributeError",
     "evalue": "'numpy.int64' object has no attribute 'apply'",
     "output_type": "error",
     "traceback": [
      "\u001b[0;31m---------------------------------------------------------------------------\u001b[0m",
      "\u001b[0;31mAttributeError\u001b[0m                            Traceback (most recent call last)",
      "Cell \u001b[0;32mIn[146], line 4\u001b[0m\n\u001b[1;32m      2\u001b[0m file_path \u001b[38;5;241m=\u001b[39m fasta_path \u001b[38;5;241m+\u001b[39m fasta_dirs\u001b[38;5;241m.\u001b[39mloc[fasta_id] \u001b[38;5;241m+\u001b[39m fasta_id \u001b[38;5;241m+\u001b[39m \u001b[38;5;124m'\u001b[39m\u001b[38;5;124m.fa\u001b[39m\u001b[38;5;124m'\u001b[39m\n\u001b[1;32m      3\u001b[0m fasta_seqs \u001b[38;5;241m=\u001b[39m read_fasta(fasta_file)\n\u001b[0;32m----> 4\u001b[0m conservation_df\u001b[38;5;241m.\u001b[39mloc[fasta_id,\u001b[38;5;124m'\u001b[39m\u001b[38;5;124mconsv_score_counts\u001b[39m\u001b[38;5;124m'\u001b[39m] \u001b[38;5;241m=\u001b[39m \u001b[43mconservation_df\u001b[49m\u001b[38;5;241;43m.\u001b[39;49m\u001b[43mloc\u001b[49m\u001b[43m[\u001b[49m\u001b[43mfasta_id\u001b[49m\u001b[43m,\u001b[49m\u001b[38;5;124;43m'\u001b[39;49m\u001b[38;5;124;43mmotif_start\u001b[39;49m\u001b[38;5;124;43m'\u001b[39;49m\u001b[43m]\u001b[49m\u001b[38;5;241;43m.\u001b[39;49m\u001b[43mapply\u001b[49m(\u001b[38;5;28;01mlambda\u001b[39;00m x: get_consv_score(fasta_seqs, x))\n\u001b[1;32m      5\u001b[0m conservation_df\u001b[38;5;241m.\u001b[39mloc[fasta_id,\u001b[38;5;124m'\u001b[39m\u001b[38;5;124mconsv_score_students\u001b[39m\u001b[38;5;124m'\u001b[39m] \u001b[38;5;241m=\u001b[39m conservation_df\u001b[38;5;241m.\u001b[39mloc[fasta_id,\u001b[38;5;124m'\u001b[39m\u001b[38;5;124mmotif_start\u001b[39m\u001b[38;5;124m'\u001b[39m]\u001b[38;5;241m.\u001b[39mapply(\u001b[38;5;28;01mlambda\u001b[39;00m x: get_consv_score(fasta_seqs, x, norm\u001b[38;5;241m=\u001b[39m\u001b[38;5;124m'\u001b[39m\u001b[38;5;124mlocal\u001b[39m\u001b[38;5;124m'\u001b[39m))\n",
      "\u001b[0;31mAttributeError\u001b[0m: 'numpy.int64' object has no attribute 'apply'"
     ]
    }
   ],
   "source": [
    "for fasta_id in conservation_df.index.unique():\n",
    "    file_path = fasta_path + fasta_dirs.loc[fasta_id] + fasta_id + '.fa'\n",
    "    fasta_seqs = read_fasta(fasta_file)\n",
    "    conservation_df.loc[fasta_id,'consv_score_counts'] = conservation_df.loc[fasta_id,'motif_start'].apply(lambda x: get_consv_score(fasta_seqs, x))\n",
    "    conservation_df.loc[fasta_id,'consv_score_students'] = conservation_df.loc[fasta_id,'motif_start'].apply(lambda x: get_consv_score(fasta_seqs, x, norm='local'))"
   ]
  },
  {
   "cell_type": "code",
   "execution_count": 105,
   "id": "4c0d20c1-7841-4cf2-9fc5-22285dda3782",
   "metadata": {
    "tags": []
   },
   "outputs": [
    {
     "ename": "FileNotFoundError",
     "evalue": "[Errno 2] No such file or directory: '/s/project/mll/sergey/effect_prediction/MLM/ML4RG_project/students_data/final_whole_seq_70.pickle'",
     "output_type": "error",
     "traceback": [
      "\u001b[0;31m---------------------------------------------------------------------------\u001b[0m",
      "\u001b[0;31mFileNotFoundError\u001b[0m                         Traceback (most recent call last)",
      "Cell \u001b[0;32mIn[105], line 1\u001b[0m\n\u001b[0;32m----> 1\u001b[0m \u001b[38;5;28;01mwith\u001b[39;00m \u001b[38;5;28;43mopen\u001b[39;49m\u001b[43m(\u001b[49m\u001b[43mdata_dir\u001b[49m\u001b[43m \u001b[49m\u001b[38;5;241;43m+\u001b[39;49m\u001b[43m \u001b[49m\u001b[38;5;124;43m'\u001b[39;49m\u001b[38;5;124;43mML4RG_project/students_data/final_whole_seq_70.pickle\u001b[39;49m\u001b[38;5;124;43m'\u001b[39;49m\u001b[43m,\u001b[49m\u001b[38;5;124;43m'\u001b[39;49m\u001b[38;5;124;43mrb\u001b[39;49m\u001b[38;5;124;43m'\u001b[39;49m\u001b[43m)\u001b[49m \u001b[38;5;28;01mas\u001b[39;00m f:\n\u001b[1;32m      2\u001b[0m     debug_seq \u001b[38;5;241m=\u001b[39m pickle\u001b[38;5;241m.\u001b[39mload(f)\n",
      "File \u001b[0;32m~/miniconda3/envs/svilov-spade/lib/python3.10/site-packages/IPython/core/interactiveshell.py:284\u001b[0m, in \u001b[0;36m_modified_open\u001b[0;34m(file, *args, **kwargs)\u001b[0m\n\u001b[1;32m    277\u001b[0m \u001b[38;5;28;01mif\u001b[39;00m file \u001b[38;5;129;01min\u001b[39;00m {\u001b[38;5;241m0\u001b[39m, \u001b[38;5;241m1\u001b[39m, \u001b[38;5;241m2\u001b[39m}:\n\u001b[1;32m    278\u001b[0m     \u001b[38;5;28;01mraise\u001b[39;00m \u001b[38;5;167;01mValueError\u001b[39;00m(\n\u001b[1;32m    279\u001b[0m         \u001b[38;5;124mf\u001b[39m\u001b[38;5;124m\"\u001b[39m\u001b[38;5;124mIPython won\u001b[39m\u001b[38;5;124m'\u001b[39m\u001b[38;5;124mt let you open fd=\u001b[39m\u001b[38;5;132;01m{\u001b[39;00mfile\u001b[38;5;132;01m}\u001b[39;00m\u001b[38;5;124m by default \u001b[39m\u001b[38;5;124m\"\u001b[39m\n\u001b[1;32m    280\u001b[0m         \u001b[38;5;124m\"\u001b[39m\u001b[38;5;124mas it is likely to crash IPython. If you know what you are doing, \u001b[39m\u001b[38;5;124m\"\u001b[39m\n\u001b[1;32m    281\u001b[0m         \u001b[38;5;124m\"\u001b[39m\u001b[38;5;124myou can use builtins\u001b[39m\u001b[38;5;124m'\u001b[39m\u001b[38;5;124m open.\u001b[39m\u001b[38;5;124m\"\u001b[39m\n\u001b[1;32m    282\u001b[0m     )\n\u001b[0;32m--> 284\u001b[0m \u001b[38;5;28;01mreturn\u001b[39;00m \u001b[43mio_open\u001b[49m\u001b[43m(\u001b[49m\u001b[43mfile\u001b[49m\u001b[43m,\u001b[49m\u001b[43m \u001b[49m\u001b[38;5;241;43m*\u001b[39;49m\u001b[43margs\u001b[49m\u001b[43m,\u001b[49m\u001b[43m \u001b[49m\u001b[38;5;241;43m*\u001b[39;49m\u001b[38;5;241;43m*\u001b[39;49m\u001b[43mkwargs\u001b[49m\u001b[43m)\u001b[49m\n",
      "\u001b[0;31mFileNotFoundError\u001b[0m: [Errno 2] No such file or directory: '/s/project/mll/sergey/effect_prediction/MLM/ML4RG_project/students_data/final_whole_seq_70.pickle'"
     ]
    }
   ],
   "source": []
  },
  {
   "cell_type": "code",
   "execution_count": 19,
   "id": "ce58d074-2cd6-4be6-9fba-6f52cc7d397b",
   "metadata": {
    "tags": []
   },
   "outputs": [
    {
     "data": {
      "text/plain": [
       "tensor([0, 1, 2,  ..., 0, 2, 0])"
      ]
     },
     "execution_count": 19,
     "metadata": {},
     "output_type": "execute_result"
    }
   ],
   "source": [
    "seq"
   ]
  },
  {
   "cell_type": "code",
   "execution_count": 18,
   "id": "16e58582-7c69-40ec-936e-a4047b0b7155",
   "metadata": {
    "tags": []
   },
   "outputs": [
    {
     "data": {
      "text/html": [
       "<div>\n",
       "<style scoped>\n",
       "    .dataframe tbody tr th:only-of-type {\n",
       "        vertical-align: middle;\n",
       "    }\n",
       "\n",
       "    .dataframe tbody tr th {\n",
       "        vertical-align: top;\n",
       "    }\n",
       "\n",
       "    .dataframe thead th {\n",
       "        text-align: right;\n",
       "    }\n",
       "</style>\n",
       "<table border=\"1\" class=\"dataframe\">\n",
       "  <thead>\n",
       "    <tr style=\"text-align: right;\">\n",
       "      <th></th>\n",
       "      <th>id</th>\n",
       "      <th>3UTR</th>\n",
       "      <th>seq_range</th>\n",
       "    </tr>\n",
       "  </thead>\n",
       "  <tbody>\n",
       "    <tr>\n",
       "      <th>0</th>\n",
       "      <td>ENST00000334600.7_utr3_3_0_chr1_13341892_r</td>\n",
       "      <td>GGAAGGCGTGCCTAGCGGGGTAGAGAAATCCAAAGTTCTCTTCCAG...</td>\n",
       "      <td>(0, 636)</td>\n",
       "    </tr>\n",
       "    <tr>\n",
       "      <th>1</th>\n",
       "      <td>ENST00000398665.8_utr3_27_0_chr19_2229793_f</td>\n",
       "      <td>GATTTCTACCTCAACCGCGAGACCTATGCAAGGACGGTGTGGACCA...</td>\n",
       "      <td>(636, 3422)</td>\n",
       "    </tr>\n",
       "    <tr>\n",
       "      <th>2</th>\n",
       "      <td>ENST00000352681.8_utr3_7_0_chr16_678053_f</td>\n",
       "      <td>CCGGCTACCTGAGGCTGCACAGGCCAGGGCTCGGGCATGTGGTGGC...</td>\n",
       "      <td>(3422, 3638)</td>\n",
       "    </tr>\n",
       "    <tr>\n",
       "      <th>3</th>\n",
       "      <td>ENST00000375341.8_utr3_14_0_chr1_18871430_r</td>\n",
       "      <td>GCCCCTCTCGGGCTCCACCGTCCAGCTGTCTGTCCGTCCAGGTGGC...</td>\n",
       "      <td>(3638, 5053)</td>\n",
       "    </tr>\n",
       "    <tr>\n",
       "      <th>4</th>\n",
       "      <td>ENST00000336985.11_utr3_7_0_chr22_44737248_f</td>\n",
       "      <td>GGCCTCACAGCTGGCCTTGAGTTTTTACTGACACGTCCCTGTGTGC...</td>\n",
       "      <td>(5053, 5487)</td>\n",
       "    </tr>\n",
       "    <tr>\n",
       "      <th>...</th>\n",
       "      <td>...</td>\n",
       "      <td>...</td>\n",
       "      <td>...</td>\n",
       "    </tr>\n",
       "    <tr>\n",
       "      <th>12688</th>\n",
       "      <td>ENST00000285896.11_utr3_6_0_chr5_154875440_f</td>\n",
       "      <td>TGGCGCCAGGCTCTGCAGGGTGGGCCTGATCCCAGAGTGGTGCTTA...</td>\n",
       "      <td>(22820103, 22821456)</td>\n",
       "    </tr>\n",
       "    <tr>\n",
       "      <th>12689</th>\n",
       "      <td>ENST00000549884.6_utr3_28_0_chr12_56595596_r</td>\n",
       "      <td>GGCAAGGGAGGTGGGGAGTCACCTTGTGGCATCTCCCCCCACCTTC...</td>\n",
       "      <td>(22821456, 22824478)</td>\n",
       "    </tr>\n",
       "    <tr>\n",
       "      <th>12690</th>\n",
       "      <td>ENST00000389532.9_utr3_16_0_chr9_135808487_r</td>\n",
       "      <td>CCCCGGTGCAGCTGGCGTCCAAAGGGTGACCCAGACTCGTAAATGA...</td>\n",
       "      <td>(22824478, 22827300)</td>\n",
       "    </tr>\n",
       "    <tr>\n",
       "      <th>12691</th>\n",
       "      <td>ENST00000340524.10_utr3_8_0_chr3_191267168_r</td>\n",
       "      <td>AGCTTTTTCTCTGGATGCAAAAAAAGATAAGAATATCAGGAAAATA...</td>\n",
       "      <td>(22827300, 22828548)</td>\n",
       "    </tr>\n",
       "    <tr>\n",
       "      <th>12692</th>\n",
       "      <td>ENST00000538490.3_utr3_2_0_chr11_47588435_f</td>\n",
       "      <td>CCCTCCTCTTTTGTTCTTTCACCTGCCATTACCCCCTCCCATCTCC...</td>\n",
       "      <td>(22828548, 22829308)</td>\n",
       "    </tr>\n",
       "  </tbody>\n",
       "</table>\n",
       "<p>12693 rows × 3 columns</p>\n",
       "</div>"
      ],
      "text/plain": [
       "                                                 id  \\\n",
       "0        ENST00000334600.7_utr3_3_0_chr1_13341892_r   \n",
       "1       ENST00000398665.8_utr3_27_0_chr19_2229793_f   \n",
       "2         ENST00000352681.8_utr3_7_0_chr16_678053_f   \n",
       "3       ENST00000375341.8_utr3_14_0_chr1_18871430_r   \n",
       "4      ENST00000336985.11_utr3_7_0_chr22_44737248_f   \n",
       "...                                             ...   \n",
       "12688  ENST00000285896.11_utr3_6_0_chr5_154875440_f   \n",
       "12689  ENST00000549884.6_utr3_28_0_chr12_56595596_r   \n",
       "12690  ENST00000389532.9_utr3_16_0_chr9_135808487_r   \n",
       "12691  ENST00000340524.10_utr3_8_0_chr3_191267168_r   \n",
       "12692   ENST00000538490.3_utr3_2_0_chr11_47588435_f   \n",
       "\n",
       "                                                    3UTR             seq_range  \n",
       "0      GGAAGGCGTGCCTAGCGGGGTAGAGAAATCCAAAGTTCTCTTCCAG...              (0, 636)  \n",
       "1      GATTTCTACCTCAACCGCGAGACCTATGCAAGGACGGTGTGGACCA...           (636, 3422)  \n",
       "2      CCGGCTACCTGAGGCTGCACAGGCCAGGGCTCGGGCATGTGGTGGC...          (3422, 3638)  \n",
       "3      GCCCCTCTCGGGCTCCACCGTCCAGCTGTCTGTCCGTCCAGGTGGC...          (3638, 5053)  \n",
       "4      GGCCTCACAGCTGGCCTTGAGTTTTTACTGACACGTCCCTGTGTGC...          (5053, 5487)  \n",
       "...                                                  ...                   ...  \n",
       "12688  TGGCGCCAGGCTCTGCAGGGTGGGCCTGATCCCAGAGTGGTGCTTA...  (22820103, 22821456)  \n",
       "12689  GGCAAGGGAGGTGGGGAGTCACCTTGTGGCATCTCCCCCCACCTTC...  (22821456, 22824478)  \n",
       "12690  CCCCGGTGCAGCTGGCGTCCAAAGGGTGACCCAGACTCGTAAATGA...  (22824478, 22827300)  \n",
       "12691  AGCTTTTTCTCTGGATGCAAAAAAAGATAAGAATATCAGGAAAATA...  (22827300, 22828548)  \n",
       "12692  CCCTCCTCTTTTGTTCTTTCACCTGCCATTACCCCCTCCCATCTCC...  (22828548, 22829308)  \n",
       "\n",
       "[12693 rows x 3 columns]"
      ]
     },
     "execution_count": 18,
     "metadata": {},
     "output_type": "execute_result"
    }
   ],
   "source": [
    "df"
   ]
  },
  {
   "cell_type": "code",
   "execution_count": 15,
   "id": "c5b028ae-eacc-4ea3-ae1c-aa1ce1756068",
   "metadata": {
    "tags": []
   },
   "outputs": [
    {
     "data": {
      "text/plain": [
       "tensor([3, 0, 3, 0, 3])"
      ]
     },
     "execution_count": 15,
     "metadata": {},
     "output_type": "execute_result"
    }
   ],
   "source": [
    "seq[8964378:8964383]"
   ]
  },
  {
   "cell_type": "code",
   "execution_count": 16,
   "id": "4e24985d-6fae-44b3-a465-4c77c20d3d02",
   "metadata": {
    "tags": []
   },
   "outputs": [
    {
     "ename": "NameError",
     "evalue": "name 'df' is not defined",
     "output_type": "error",
     "traceback": [
      "\u001b[0;31m---------------------------------------------------------------------------\u001b[0m",
      "\u001b[0;31mNameError\u001b[0m                                 Traceback (most recent call last)",
      "Cell \u001b[0;32mIn[16], line 1\u001b[0m\n\u001b[0;32m----> 1\u001b[0m \u001b[43mdf\u001b[49m\n",
      "\u001b[0;31mNameError\u001b[0m: name 'df' is not defined"
     ]
    }
   ],
   "source": [
    "df"
   ]
  },
  {
   "cell_type": "code",
   "execution_count": 157,
   "id": "2a7b7765-4a22-435c-8a9f-019b7ad1cdb3",
   "metadata": {
    "tags": []
   },
   "outputs": [],
   "source": [
    "fasta_id = 'ENST00000334600.7_utr3_3_0_chr1_13341892_r'\n",
    "\n",
    "fasta_file = fasta_path  + fasta_dirs.loc[fasta_id] +'/'+ fasta_id + '.fa'\n",
    "\n",
    "fasta_seqs = read_fasta(fasta_file)"
   ]
  },
  {
   "cell_type": "code",
   "execution_count": 10,
   "id": "a49c59bf-3649-4d47-8e02-6f07ab82efc5",
   "metadata": {
    "tags": []
   },
   "outputs": [],
   "source": [
    "model_df['start_pos'] = model_df.motif_range.apply(lambda x:x[0])"
   ]
  },
  {
   "cell_type": "code",
   "execution_count": null,
   "id": "c8d970bb-09b4-4adf-8226-feb766a16fb0",
   "metadata": {},
   "outputs": [],
   "source": [
    "for fasta_id in conservation_df.index.unique():\n",
    "    file_path = fasta_path + fasta_dirs.loc[fasta_id] + fasta_id + '.fa'\n",
    "    fasta_seqs = read_fasta(fasta_file)\n",
    "    if fasta_seqs[0][0:5]==''"
   ]
  },
  {
   "cell_type": "code",
   "execution_count": 11,
   "id": "db694704-c97b-46a3-8263-173a0ab6fe99",
   "metadata": {
    "tags": []
   },
   "outputs": [
    {
     "data": {
      "text/html": [
       "<div>\n",
       "<style scoped>\n",
       "    .dataframe tbody tr th:only-of-type {\n",
       "        vertical-align: middle;\n",
       "    }\n",
       "\n",
       "    .dataframe tbody tr th {\n",
       "        vertical-align: top;\n",
       "    }\n",
       "\n",
       "    .dataframe thead th {\n",
       "        text-align: right;\n",
       "    }\n",
       "</style>\n",
       "<table border=\"1\" class=\"dataframe\">\n",
       "  <thead>\n",
       "    <tr style=\"text-align: right;\">\n",
       "      <th></th>\n",
       "      <th>motif_range</th>\n",
       "      <th>motif</th>\n",
       "      <th>Model</th>\n",
       "      <th>avg_target_probas</th>\n",
       "      <th>start_pos</th>\n",
       "    </tr>\n",
       "  </thead>\n",
       "  <tbody>\n",
       "    <tr>\n",
       "      <th>266914</th>\n",
       "      <td>[0, 5]</td>\n",
       "      <td>PCBP2</td>\n",
       "      <td>11-mer</td>\n",
       "      <td>0.305935</td>\n",
       "      <td>0</td>\n",
       "    </tr>\n",
       "    <tr>\n",
       "      <th>127190</th>\n",
       "      <td>[281, 286]</td>\n",
       "      <td>CELF1</td>\n",
       "      <td>Species-aware</td>\n",
       "      <td>0.261089</td>\n",
       "      <td>281</td>\n",
       "    </tr>\n",
       "    <tr>\n",
       "      <th>216375</th>\n",
       "      <td>[381, 386]</td>\n",
       "      <td>KHSRP</td>\n",
       "      <td>Species-agnostic</td>\n",
       "      <td>0.314125</td>\n",
       "      <td>381</td>\n",
       "    </tr>\n",
       "    <tr>\n",
       "      <th>143399</th>\n",
       "      <td>[381, 386]</td>\n",
       "      <td>PUM1</td>\n",
       "      <td>Species-aware</td>\n",
       "      <td>0.290721</td>\n",
       "      <td>381</td>\n",
       "    </tr>\n",
       "    <tr>\n",
       "      <th>112149</th>\n",
       "      <td>[509, 514]</td>\n",
       "      <td>RBFOX2</td>\n",
       "      <td>Species-aware</td>\n",
       "      <td>0.249339</td>\n",
       "      <td>509</td>\n",
       "    </tr>\n",
       "    <tr>\n",
       "      <th>38641</th>\n",
       "      <td>[587, 592]</td>\n",
       "      <td>PTBP3</td>\n",
       "      <td>Dinucleotide distribution</td>\n",
       "      <td>0.298225</td>\n",
       "      <td>587</td>\n",
       "    </tr>\n",
       "    <tr>\n",
       "      <th>262806</th>\n",
       "      <td>[747, 752]</td>\n",
       "      <td>TRA2A</td>\n",
       "      <td>11-mer</td>\n",
       "      <td>0.298917</td>\n",
       "      <td>747</td>\n",
       "    </tr>\n",
       "    <tr>\n",
       "      <th>96131</th>\n",
       "      <td>[839, 844]</td>\n",
       "      <td>PABPN1L</td>\n",
       "      <td>Species-aware</td>\n",
       "      <td>0.341799</td>\n",
       "      <td>839</td>\n",
       "    </tr>\n",
       "    <tr>\n",
       "      <th>227689</th>\n",
       "      <td>[895, 900]</td>\n",
       "      <td>KHDRBS2</td>\n",
       "      <td>Species-agnostic</td>\n",
       "      <td>0.315431</td>\n",
       "      <td>895</td>\n",
       "    </tr>\n",
       "    <tr>\n",
       "      <th>272183</th>\n",
       "      <td>[968, 973]</td>\n",
       "      <td>TARDBP</td>\n",
       "      <td>11-mer</td>\n",
       "      <td>0.274026</td>\n",
       "      <td>968</td>\n",
       "    </tr>\n",
       "    <tr>\n",
       "      <th>89989</th>\n",
       "      <td>[1118, 1123]</td>\n",
       "      <td>TAF15</td>\n",
       "      <td>Species-aware</td>\n",
       "      <td>0.434578</td>\n",
       "      <td>1118</td>\n",
       "    </tr>\n",
       "    <tr>\n",
       "      <th>166419</th>\n",
       "      <td>[1118, 1123]</td>\n",
       "      <td>FUS</td>\n",
       "      <td>Species-agnostic</td>\n",
       "      <td>0.454341</td>\n",
       "      <td>1118</td>\n",
       "    </tr>\n",
       "    <tr>\n",
       "      <th>242849</th>\n",
       "      <td>[1118, 1123]</td>\n",
       "      <td>EWSR1</td>\n",
       "      <td>11-mer</td>\n",
       "      <td>0.342878</td>\n",
       "      <td>1118</td>\n",
       "    </tr>\n",
       "    <tr>\n",
       "      <th>13559</th>\n",
       "      <td>[1650, 1655]</td>\n",
       "      <td>HNRNPL</td>\n",
       "      <td>Dinucleotide distribution</td>\n",
       "      <td>0.261617</td>\n",
       "      <td>1650</td>\n",
       "    </tr>\n",
       "    <tr>\n",
       "      <th>210578</th>\n",
       "      <td>[2006, 2011]</td>\n",
       "      <td>FUBP3</td>\n",
       "      <td>Species-agnostic</td>\n",
       "      <td>0.204414</td>\n",
       "      <td>2006</td>\n",
       "    </tr>\n",
       "    <tr>\n",
       "      <th>689</th>\n",
       "      <td>[2097, 2102]</td>\n",
       "      <td>non_motif</td>\n",
       "      <td>Dinucleotide distribution</td>\n",
       "      <td>0.251432</td>\n",
       "      <td>2097</td>\n",
       "    </tr>\n",
       "  </tbody>\n",
       "</table>\n",
       "</div>"
      ],
      "text/plain": [
       "         motif_range      motif                      Model  avg_target_probas  \\\n",
       "266914        [0, 5]      PCBP2                     11-mer           0.305935   \n",
       "127190    [281, 286]      CELF1              Species-aware           0.261089   \n",
       "216375    [381, 386]      KHSRP           Species-agnostic           0.314125   \n",
       "143399    [381, 386]       PUM1              Species-aware           0.290721   \n",
       "112149    [509, 514]     RBFOX2              Species-aware           0.249339   \n",
       "38641     [587, 592]      PTBP3  Dinucleotide distribution           0.298225   \n",
       "262806    [747, 752]      TRA2A                     11-mer           0.298917   \n",
       "96131     [839, 844]    PABPN1L              Species-aware           0.341799   \n",
       "227689    [895, 900]    KHDRBS2           Species-agnostic           0.315431   \n",
       "272183    [968, 973]     TARDBP                     11-mer           0.274026   \n",
       "89989   [1118, 1123]      TAF15              Species-aware           0.434578   \n",
       "166419  [1118, 1123]        FUS           Species-agnostic           0.454341   \n",
       "242849  [1118, 1123]      EWSR1                     11-mer           0.342878   \n",
       "13559   [1650, 1655]     HNRNPL  Dinucleotide distribution           0.261617   \n",
       "210578  [2006, 2011]      FUBP3           Species-agnostic           0.204414   \n",
       "689     [2097, 2102]  non_motif  Dinucleotide distribution           0.251432   \n",
       "\n",
       "        start_pos  \n",
       "266914          0  \n",
       "127190        281  \n",
       "216375        381  \n",
       "143399        381  \n",
       "112149        509  \n",
       "38641         587  \n",
       "262806        747  \n",
       "96131         839  \n",
       "227689        895  \n",
       "272183        968  \n",
       "89989        1118  \n",
       "166419       1118  \n",
       "242849       1118  \n",
       "13559        1650  \n",
       "210578       2006  \n",
       "689          2097  "
      ]
     },
     "execution_count": 11,
     "metadata": {},
     "output_type": "execute_result"
    }
   ],
   "source": [
    "model_df.sort_values(by='start_pos').drop_duplicates(subset='motif')"
   ]
  },
  {
   "cell_type": "code",
   "execution_count": 151,
   "id": "b2dbab61-e4fd-4f88-b3ec-0b6d50aa1ea9",
   "metadata": {
    "tags": []
   },
   "outputs": [
    {
     "data": {
      "text/html": [
       "<div>\n",
       "<style scoped>\n",
       "    .dataframe tbody tr th:only-of-type {\n",
       "        vertical-align: middle;\n",
       "    }\n",
       "\n",
       "    .dataframe tbody tr th {\n",
       "        vertical-align: top;\n",
       "    }\n",
       "\n",
       "    .dataframe thead th {\n",
       "        text-align: right;\n",
       "    }\n",
       "</style>\n",
       "<table border=\"1\" class=\"dataframe\">\n",
       "  <thead>\n",
       "    <tr style=\"text-align: right;\">\n",
       "      <th></th>\n",
       "      <th>motif_range</th>\n",
       "      <th>motif</th>\n",
       "      <th>model</th>\n",
       "      <th>avg_target_probas</th>\n",
       "      <th>alphabet_seq</th>\n",
       "      <th>shanon_entropy</th>\n",
       "      <th>seq_range</th>\n",
       "      <th>conserv_rate</th>\n",
       "      <th>motif_start</th>\n",
       "      <th>consv_score_counts</th>\n",
       "      <th>consv_score_students</th>\n",
       "    </tr>\n",
       "    <tr>\n",
       "      <th>id</th>\n",
       "      <th></th>\n",
       "      <th></th>\n",
       "      <th></th>\n",
       "      <th></th>\n",
       "      <th></th>\n",
       "      <th></th>\n",
       "      <th></th>\n",
       "      <th></th>\n",
       "      <th></th>\n",
       "      <th></th>\n",
       "      <th></th>\n",
       "    </tr>\n",
       "  </thead>\n",
       "  <tbody>\n",
       "    <tr>\n",
       "      <th>ENST00000334600.7_utr3_3_0_chr1_13341892_r</th>\n",
       "      <td>[577, 582]</td>\n",
       "      <td>RBMS3_3</td>\n",
       "      <td>Species aware all motifs</td>\n",
       "      <td>0.238700</td>\n",
       "      <td>ATATA</td>\n",
       "      <td>0.970951</td>\n",
       "      <td>[0, 636]</td>\n",
       "      <td>0.033333</td>\n",
       "      <td>577</td>\n",
       "      <td>NaN</td>\n",
       "      <td>NaN</td>\n",
       "    </tr>\n",
       "    <tr>\n",
       "      <th>ENST00000334600.7_utr3_3_0_chr1_13341892_r</th>\n",
       "      <td>[207, 212]</td>\n",
       "      <td>TRNAU1AP_4</td>\n",
       "      <td>Species aware all motifs</td>\n",
       "      <td>0.418737</td>\n",
       "      <td>ATTTA</td>\n",
       "      <td>0.970951</td>\n",
       "      <td>[0, 636]</td>\n",
       "      <td>0.133333</td>\n",
       "      <td>207</td>\n",
       "      <td>NaN</td>\n",
       "      <td>NaN</td>\n",
       "    </tr>\n",
       "    <tr>\n",
       "      <th>ENST00000334600.7_utr3_3_0_chr1_13341892_r</th>\n",
       "      <td>[299, 304]</td>\n",
       "      <td>HNRNPF_9</td>\n",
       "      <td>Species aware all motifs</td>\n",
       "      <td>0.262675</td>\n",
       "      <td>AGGGA</td>\n",
       "      <td>0.970951</td>\n",
       "      <td>[0, 636]</td>\n",
       "      <td>0.033333</td>\n",
       "      <td>299</td>\n",
       "      <td>NaN</td>\n",
       "      <td>NaN</td>\n",
       "    </tr>\n",
       "    <tr>\n",
       "      <th>ENST00000334600.7_utr3_3_0_chr1_13341892_r</th>\n",
       "      <td>[22, 27]</td>\n",
       "      <td>RALY_5</td>\n",
       "      <td>Species aware all motifs</td>\n",
       "      <td>0.389148</td>\n",
       "      <td>CTTTT</td>\n",
       "      <td>0.721928</td>\n",
       "      <td>[0, 636]</td>\n",
       "      <td>0.066667</td>\n",
       "      <td>22</td>\n",
       "      <td>NaN</td>\n",
       "      <td>NaN</td>\n",
       "    </tr>\n",
       "    <tr>\n",
       "      <th>ENST00000334600.7_utr3_3_0_chr1_13341892_r</th>\n",
       "      <td>[284, 289]</td>\n",
       "      <td>ELAVL4_3</td>\n",
       "      <td>Species aware all motifs</td>\n",
       "      <td>0.384210</td>\n",
       "      <td>TTATT</td>\n",
       "      <td>0.721928</td>\n",
       "      <td>[0, 636]</td>\n",
       "      <td>0.033333</td>\n",
       "      <td>284</td>\n",
       "      <td>NaN</td>\n",
       "      <td>NaN</td>\n",
       "    </tr>\n",
       "    <tr>\n",
       "      <th>...</th>\n",
       "      <td>...</td>\n",
       "      <td>...</td>\n",
       "      <td>...</td>\n",
       "      <td>...</td>\n",
       "      <td>...</td>\n",
       "      <td>...</td>\n",
       "      <td>...</td>\n",
       "      <td>...</td>\n",
       "      <td>...</td>\n",
       "      <td>...</td>\n",
       "      <td>...</td>\n",
       "    </tr>\n",
       "    <tr>\n",
       "      <th>ENST00000334600.7_utr3_3_0_chr1_13341892_r</th>\n",
       "      <td>[573, 578]</td>\n",
       "      <td>TRNAU1AP_3</td>\n",
       "      <td>Species aware all motifs</td>\n",
       "      <td>0.474998</td>\n",
       "      <td>TTTTA</td>\n",
       "      <td>0.721928</td>\n",
       "      <td>[0, 636]</td>\n",
       "      <td>0.033333</td>\n",
       "      <td>573</td>\n",
       "      <td>NaN</td>\n",
       "      <td>NaN</td>\n",
       "    </tr>\n",
       "    <tr>\n",
       "      <th>ENST00000334600.7_utr3_3_0_chr1_13341892_r</th>\n",
       "      <td>[121, 126]</td>\n",
       "      <td>SFPQ_5</td>\n",
       "      <td>Species aware all motifs</td>\n",
       "      <td>0.343194</td>\n",
       "      <td>GTAAT</td>\n",
       "      <td>1.521928</td>\n",
       "      <td>[0, 636]</td>\n",
       "      <td>0.133333</td>\n",
       "      <td>121</td>\n",
       "      <td>NaN</td>\n",
       "      <td>NaN</td>\n",
       "    </tr>\n",
       "    <tr>\n",
       "      <th>ENST00000334600.7_utr3_3_0_chr1_13341892_r</th>\n",
       "      <td>[369, 374]</td>\n",
       "      <td>TRNAU1AP_3</td>\n",
       "      <td>Species aware all motifs</td>\n",
       "      <td>0.327616</td>\n",
       "      <td>TTTTA</td>\n",
       "      <td>0.721928</td>\n",
       "      <td>[0, 636]</td>\n",
       "      <td>0.033333</td>\n",
       "      <td>369</td>\n",
       "      <td>NaN</td>\n",
       "      <td>NaN</td>\n",
       "    </tr>\n",
       "    <tr>\n",
       "      <th>ENST00000334600.7_utr3_3_0_chr1_13341892_r</th>\n",
       "      <td>[593, 598]</td>\n",
       "      <td>ELAVL4_6</td>\n",
       "      <td>Species aware all motifs</td>\n",
       "      <td>0.354730</td>\n",
       "      <td>ATTTT</td>\n",
       "      <td>0.721928</td>\n",
       "      <td>[0, 636]</td>\n",
       "      <td>0.033333</td>\n",
       "      <td>593</td>\n",
       "      <td>NaN</td>\n",
       "      <td>NaN</td>\n",
       "    </tr>\n",
       "    <tr>\n",
       "      <th>ENST00000334600.7_utr3_3_0_chr1_13341892_r</th>\n",
       "      <td>[384, 389]</td>\n",
       "      <td>PCBP1_14</td>\n",
       "      <td>Species aware all motifs</td>\n",
       "      <td>0.290852</td>\n",
       "      <td>CCGCC</td>\n",
       "      <td>0.721928</td>\n",
       "      <td>[0, 636]</td>\n",
       "      <td>0.033333</td>\n",
       "      <td>384</td>\n",
       "      <td>NaN</td>\n",
       "      <td>NaN</td>\n",
       "    </tr>\n",
       "  </tbody>\n",
       "</table>\n",
       "<p>566 rows × 11 columns</p>\n",
       "</div>"
      ],
      "text/plain": [
       "                                           motif_range       motif  \\\n",
       "id                                                                   \n",
       "ENST00000334600.7_utr3_3_0_chr1_13341892_r  [577, 582]     RBMS3_3   \n",
       "ENST00000334600.7_utr3_3_0_chr1_13341892_r  [207, 212]  TRNAU1AP_4   \n",
       "ENST00000334600.7_utr3_3_0_chr1_13341892_r  [299, 304]    HNRNPF_9   \n",
       "ENST00000334600.7_utr3_3_0_chr1_13341892_r    [22, 27]      RALY_5   \n",
       "ENST00000334600.7_utr3_3_0_chr1_13341892_r  [284, 289]    ELAVL4_3   \n",
       "...                                                ...         ...   \n",
       "ENST00000334600.7_utr3_3_0_chr1_13341892_r  [573, 578]  TRNAU1AP_3   \n",
       "ENST00000334600.7_utr3_3_0_chr1_13341892_r  [121, 126]      SFPQ_5   \n",
       "ENST00000334600.7_utr3_3_0_chr1_13341892_r  [369, 374]  TRNAU1AP_3   \n",
       "ENST00000334600.7_utr3_3_0_chr1_13341892_r  [593, 598]    ELAVL4_6   \n",
       "ENST00000334600.7_utr3_3_0_chr1_13341892_r  [384, 389]    PCBP1_14   \n",
       "\n",
       "                                                               model  \\\n",
       "id                                                                     \n",
       "ENST00000334600.7_utr3_3_0_chr1_13341892_r  Species aware all motifs   \n",
       "ENST00000334600.7_utr3_3_0_chr1_13341892_r  Species aware all motifs   \n",
       "ENST00000334600.7_utr3_3_0_chr1_13341892_r  Species aware all motifs   \n",
       "ENST00000334600.7_utr3_3_0_chr1_13341892_r  Species aware all motifs   \n",
       "ENST00000334600.7_utr3_3_0_chr1_13341892_r  Species aware all motifs   \n",
       "...                                                              ...   \n",
       "ENST00000334600.7_utr3_3_0_chr1_13341892_r  Species aware all motifs   \n",
       "ENST00000334600.7_utr3_3_0_chr1_13341892_r  Species aware all motifs   \n",
       "ENST00000334600.7_utr3_3_0_chr1_13341892_r  Species aware all motifs   \n",
       "ENST00000334600.7_utr3_3_0_chr1_13341892_r  Species aware all motifs   \n",
       "ENST00000334600.7_utr3_3_0_chr1_13341892_r  Species aware all motifs   \n",
       "\n",
       "                                            avg_target_probas alphabet_seq  \\\n",
       "id                                                                           \n",
       "ENST00000334600.7_utr3_3_0_chr1_13341892_r           0.238700        ATATA   \n",
       "ENST00000334600.7_utr3_3_0_chr1_13341892_r           0.418737        ATTTA   \n",
       "ENST00000334600.7_utr3_3_0_chr1_13341892_r           0.262675        AGGGA   \n",
       "ENST00000334600.7_utr3_3_0_chr1_13341892_r           0.389148        CTTTT   \n",
       "ENST00000334600.7_utr3_3_0_chr1_13341892_r           0.384210        TTATT   \n",
       "...                                                       ...          ...   \n",
       "ENST00000334600.7_utr3_3_0_chr1_13341892_r           0.474998        TTTTA   \n",
       "ENST00000334600.7_utr3_3_0_chr1_13341892_r           0.343194        GTAAT   \n",
       "ENST00000334600.7_utr3_3_0_chr1_13341892_r           0.327616        TTTTA   \n",
       "ENST00000334600.7_utr3_3_0_chr1_13341892_r           0.354730        ATTTT   \n",
       "ENST00000334600.7_utr3_3_0_chr1_13341892_r           0.290852        CCGCC   \n",
       "\n",
       "                                            shanon_entropy seq_range  \\\n",
       "id                                                                     \n",
       "ENST00000334600.7_utr3_3_0_chr1_13341892_r        0.970951  [0, 636]   \n",
       "ENST00000334600.7_utr3_3_0_chr1_13341892_r        0.970951  [0, 636]   \n",
       "ENST00000334600.7_utr3_3_0_chr1_13341892_r        0.970951  [0, 636]   \n",
       "ENST00000334600.7_utr3_3_0_chr1_13341892_r        0.721928  [0, 636]   \n",
       "ENST00000334600.7_utr3_3_0_chr1_13341892_r        0.721928  [0, 636]   \n",
       "...                                                    ...       ...   \n",
       "ENST00000334600.7_utr3_3_0_chr1_13341892_r        0.721928  [0, 636]   \n",
       "ENST00000334600.7_utr3_3_0_chr1_13341892_r        1.521928  [0, 636]   \n",
       "ENST00000334600.7_utr3_3_0_chr1_13341892_r        0.721928  [0, 636]   \n",
       "ENST00000334600.7_utr3_3_0_chr1_13341892_r        0.721928  [0, 636]   \n",
       "ENST00000334600.7_utr3_3_0_chr1_13341892_r        0.721928  [0, 636]   \n",
       "\n",
       "                                            conserv_rate  motif_start  \\\n",
       "id                                                                      \n",
       "ENST00000334600.7_utr3_3_0_chr1_13341892_r      0.033333          577   \n",
       "ENST00000334600.7_utr3_3_0_chr1_13341892_r      0.133333          207   \n",
       "ENST00000334600.7_utr3_3_0_chr1_13341892_r      0.033333          299   \n",
       "ENST00000334600.7_utr3_3_0_chr1_13341892_r      0.066667           22   \n",
       "ENST00000334600.7_utr3_3_0_chr1_13341892_r      0.033333          284   \n",
       "...                                                  ...          ...   \n",
       "ENST00000334600.7_utr3_3_0_chr1_13341892_r      0.033333          573   \n",
       "ENST00000334600.7_utr3_3_0_chr1_13341892_r      0.133333          121   \n",
       "ENST00000334600.7_utr3_3_0_chr1_13341892_r      0.033333          369   \n",
       "ENST00000334600.7_utr3_3_0_chr1_13341892_r      0.033333          593   \n",
       "ENST00000334600.7_utr3_3_0_chr1_13341892_r      0.033333          384   \n",
       "\n",
       "                                            consv_score_counts  \\\n",
       "id                                                               \n",
       "ENST00000334600.7_utr3_3_0_chr1_13341892_r                 NaN   \n",
       "ENST00000334600.7_utr3_3_0_chr1_13341892_r                 NaN   \n",
       "ENST00000334600.7_utr3_3_0_chr1_13341892_r                 NaN   \n",
       "ENST00000334600.7_utr3_3_0_chr1_13341892_r                 NaN   \n",
       "ENST00000334600.7_utr3_3_0_chr1_13341892_r                 NaN   \n",
       "...                                                        ...   \n",
       "ENST00000334600.7_utr3_3_0_chr1_13341892_r                 NaN   \n",
       "ENST00000334600.7_utr3_3_0_chr1_13341892_r                 NaN   \n",
       "ENST00000334600.7_utr3_3_0_chr1_13341892_r                 NaN   \n",
       "ENST00000334600.7_utr3_3_0_chr1_13341892_r                 NaN   \n",
       "ENST00000334600.7_utr3_3_0_chr1_13341892_r                 NaN   \n",
       "\n",
       "                                            consv_score_students  \n",
       "id                                                                \n",
       "ENST00000334600.7_utr3_3_0_chr1_13341892_r                   NaN  \n",
       "ENST00000334600.7_utr3_3_0_chr1_13341892_r                   NaN  \n",
       "ENST00000334600.7_utr3_3_0_chr1_13341892_r                   NaN  \n",
       "ENST00000334600.7_utr3_3_0_chr1_13341892_r                   NaN  \n",
       "ENST00000334600.7_utr3_3_0_chr1_13341892_r                   NaN  \n",
       "...                                                          ...  \n",
       "ENST00000334600.7_utr3_3_0_chr1_13341892_r                   NaN  \n",
       "ENST00000334600.7_utr3_3_0_chr1_13341892_r                   NaN  \n",
       "ENST00000334600.7_utr3_3_0_chr1_13341892_r                   NaN  \n",
       "ENST00000334600.7_utr3_3_0_chr1_13341892_r                   NaN  \n",
       "ENST00000334600.7_utr3_3_0_chr1_13341892_r                   NaN  \n",
       "\n",
       "[566 rows x 11 columns]"
      ]
     },
     "execution_count": 151,
     "metadata": {},
     "output_type": "execute_result"
    }
   ],
   "source": [
    "conservation_df.loc['ENST00000334600.7_utr3_3_0_chr1_13341892_r']"
   ]
  },
  {
   "cell_type": "code",
   "execution_count": 152,
   "id": "268850c9-2755-46e6-ad1e-d8f5dbebaede",
   "metadata": {
    "tags": []
   },
   "outputs": [
    {
     "data": {
      "text/html": [
       "<div>\n",
       "<style scoped>\n",
       "    .dataframe tbody tr th:only-of-type {\n",
       "        vertical-align: middle;\n",
       "    }\n",
       "\n",
       "    .dataframe tbody tr th {\n",
       "        vertical-align: top;\n",
       "    }\n",
       "\n",
       "    .dataframe thead th {\n",
       "        text-align: right;\n",
       "    }\n",
       "</style>\n",
       "<table border=\"1\" class=\"dataframe\">\n",
       "  <thead>\n",
       "    <tr style=\"text-align: right;\">\n",
       "      <th></th>\n",
       "      <th>id</th>\n",
       "      <th>3UTR</th>\n",
       "      <th>seq_range</th>\n",
       "    </tr>\n",
       "  </thead>\n",
       "  <tbody>\n",
       "    <tr>\n",
       "      <th>0</th>\n",
       "      <td>ENST00000334600.7_utr3_3_0_chr1_13341892_r</td>\n",
       "      <td>GGAAGGCGTGCCTAGCGGGGTAGAGAAATCCAAAGTTCTCTTCCAG...</td>\n",
       "      <td>(0, 636)</td>\n",
       "    </tr>\n",
       "    <tr>\n",
       "      <th>1</th>\n",
       "      <td>ENST00000398665.8_utr3_27_0_chr19_2229793_f</td>\n",
       "      <td>GATTTCTACCTCAACCGCGAGACCTATGCAAGGACGGTGTGGACCA...</td>\n",
       "      <td>(636, 3422)</td>\n",
       "    </tr>\n",
       "    <tr>\n",
       "      <th>2</th>\n",
       "      <td>ENST00000352681.8_utr3_7_0_chr16_678053_f</td>\n",
       "      <td>CCGGCTACCTGAGGCTGCACAGGCCAGGGCTCGGGCATGTGGTGGC...</td>\n",
       "      <td>(3422, 3638)</td>\n",
       "    </tr>\n",
       "    <tr>\n",
       "      <th>3</th>\n",
       "      <td>ENST00000375341.8_utr3_14_0_chr1_18871430_r</td>\n",
       "      <td>GCCCCTCTCGGGCTCCACCGTCCAGCTGTCTGTCCGTCCAGGTGGC...</td>\n",
       "      <td>(3638, 5053)</td>\n",
       "    </tr>\n",
       "    <tr>\n",
       "      <th>4</th>\n",
       "      <td>ENST00000336985.11_utr3_7_0_chr22_44737248_f</td>\n",
       "      <td>GGCCTCACAGCTGGCCTTGAGTTTTTACTGACACGTCCCTGTGTGC...</td>\n",
       "      <td>(5053, 5487)</td>\n",
       "    </tr>\n",
       "    <tr>\n",
       "      <th>...</th>\n",
       "      <td>...</td>\n",
       "      <td>...</td>\n",
       "      <td>...</td>\n",
       "    </tr>\n",
       "    <tr>\n",
       "      <th>12688</th>\n",
       "      <td>ENST00000285896.11_utr3_6_0_chr5_154875440_f</td>\n",
       "      <td>TGGCGCCAGGCTCTGCAGGGTGGGCCTGATCCCAGAGTGGTGCTTA...</td>\n",
       "      <td>(22820103, 22821456)</td>\n",
       "    </tr>\n",
       "    <tr>\n",
       "      <th>12689</th>\n",
       "      <td>ENST00000549884.6_utr3_28_0_chr12_56595596_r</td>\n",
       "      <td>GGCAAGGGAGGTGGGGAGTCACCTTGTGGCATCTCCCCCCACCTTC...</td>\n",
       "      <td>(22821456, 22824478)</td>\n",
       "    </tr>\n",
       "    <tr>\n",
       "      <th>12690</th>\n",
       "      <td>ENST00000389532.9_utr3_16_0_chr9_135808487_r</td>\n",
       "      <td>CCCCGGTGCAGCTGGCGTCCAAAGGGTGACCCAGACTCGTAAATGA...</td>\n",
       "      <td>(22824478, 22827300)</td>\n",
       "    </tr>\n",
       "    <tr>\n",
       "      <th>12691</th>\n",
       "      <td>ENST00000340524.10_utr3_8_0_chr3_191267168_r</td>\n",
       "      <td>AGCTTTTTCTCTGGATGCAAAAAAAGATAAGAATATCAGGAAAATA...</td>\n",
       "      <td>(22827300, 22828548)</td>\n",
       "    </tr>\n",
       "    <tr>\n",
       "      <th>12692</th>\n",
       "      <td>ENST00000538490.3_utr3_2_0_chr11_47588435_f</td>\n",
       "      <td>CCCTCCTCTTTTGTTCTTTCACCTGCCATTACCCCCTCCCATCTCC...</td>\n",
       "      <td>(22828548, 22829308)</td>\n",
       "    </tr>\n",
       "  </tbody>\n",
       "</table>\n",
       "<p>12693 rows × 3 columns</p>\n",
       "</div>"
      ],
      "text/plain": [
       "                                                 id  \\\n",
       "0        ENST00000334600.7_utr3_3_0_chr1_13341892_r   \n",
       "1       ENST00000398665.8_utr3_27_0_chr19_2229793_f   \n",
       "2         ENST00000352681.8_utr3_7_0_chr16_678053_f   \n",
       "3       ENST00000375341.8_utr3_14_0_chr1_18871430_r   \n",
       "4      ENST00000336985.11_utr3_7_0_chr22_44737248_f   \n",
       "...                                             ...   \n",
       "12688  ENST00000285896.11_utr3_6_0_chr5_154875440_f   \n",
       "12689  ENST00000549884.6_utr3_28_0_chr12_56595596_r   \n",
       "12690  ENST00000389532.9_utr3_16_0_chr9_135808487_r   \n",
       "12691  ENST00000340524.10_utr3_8_0_chr3_191267168_r   \n",
       "12692   ENST00000538490.3_utr3_2_0_chr11_47588435_f   \n",
       "\n",
       "                                                    3UTR             seq_range  \n",
       "0      GGAAGGCGTGCCTAGCGGGGTAGAGAAATCCAAAGTTCTCTTCCAG...              (0, 636)  \n",
       "1      GATTTCTACCTCAACCGCGAGACCTATGCAAGGACGGTGTGGACCA...           (636, 3422)  \n",
       "2      CCGGCTACCTGAGGCTGCACAGGCCAGGGCTCGGGCATGTGGTGGC...          (3422, 3638)  \n",
       "3      GCCCCTCTCGGGCTCCACCGTCCAGCTGTCTGTCCGTCCAGGTGGC...          (3638, 5053)  \n",
       "4      GGCCTCACAGCTGGCCTTGAGTTTTTACTGACACGTCCCTGTGTGC...          (5053, 5487)  \n",
       "...                                                  ...                   ...  \n",
       "12688  TGGCGCCAGGCTCTGCAGGGTGGGCCTGATCCCAGAGTGGTGCTTA...  (22820103, 22821456)  \n",
       "12689  GGCAAGGGAGGTGGGGAGTCACCTTGTGGCATCTCCCCCCACCTTC...  (22821456, 22824478)  \n",
       "12690  CCCCGGTGCAGCTGGCGTCCAAAGGGTGACCCAGACTCGTAAATGA...  (22824478, 22827300)  \n",
       "12691  AGCTTTTTCTCTGGATGCAAAAAAAGATAAGAATATCAGGAAAATA...  (22827300, 22828548)  \n",
       "12692  CCCTCCTCTTTTGTTCTTTCACCTGCCATTACCCCCTCCCATCTCC...  (22828548, 22829308)  \n",
       "\n",
       "[12693 rows x 3 columns]"
      ]
     },
     "execution_count": 152,
     "metadata": {},
     "output_type": "execute_result"
    }
   ],
   "source": [
    "df"
   ]
  },
  {
   "cell_type": "code",
   "execution_count": null,
   "id": "9b7163dd-ee03-4d43-b00a-a3a5c14dbf21",
   "metadata": {},
   "outputs": [],
   "source": [
    "fasta_seqsfasta_seqsfasta_seqs"
   ]
  },
  {
   "cell_type": "code",
   "execution_count": 140,
   "id": "2d98b70c-ec25-4afa-a197-c1a276e2b4bb",
   "metadata": {
    "tags": []
   },
   "outputs": [
    {
     "data": {
      "text/plain": [
       "0.0"
      ]
     },
     "execution_count": 140,
     "metadata": {},
     "output_type": "execute_result"
    }
   ],
   "source": [
    "    motif_len = 5\n",
    "    start_pos = 1061\n",
    "    \n",
    "    N_matches = 0.\n",
    "\n",
    "    for seq in fasta_seqs:\n",
    "        if seq[start_pos:start_pos+motif_len] == motif:\n",
    "            N_matches+=1\n",
    "            \n",
    "    N_matches"
   ]
  },
  {
   "cell_type": "code",
   "execution_count": 76,
   "id": "036cd39c-9e00-4b6e-b2e7-48917932a346",
   "metadata": {
    "tags": []
   },
   "outputs": [
    {
     "data": {
      "text/plain": [
       "'822'"
      ]
     },
     "execution_count": 76,
     "metadata": {},
     "output_type": "execute_result"
    }
   ],
   "source": [
    "fasta_dirs.loc['ENST00000394468.7_utr3_9_0_chr7_93188534_r']"
   ]
  },
  {
   "cell_type": "code",
   "execution_count": 68,
   "id": "00901543-f934-4c62-97e3-b9f2aa4e7e23",
   "metadata": {
    "tags": []
   },
   "outputs": [
    {
     "data": {
      "text/plain": [
       "'AATGTTATTGTAATAAAGTGTGATGGAAAATCCAGGTAATTAAAAAATAAATTATAACTA'"
      ]
     },
     "execution_count": 68,
     "metadata": {},
     "output_type": "execute_result"
    }
   ],
   "source": [
    "fasta_seqs[0][12515548-12514726:]"
   ]
  },
  {
   "cell_type": "code",
   "execution_count": 88,
   "id": "64e66efb-6ea2-4ce7-82f8-12faffcc302c",
   "metadata": {
    "tags": []
   },
   "outputs": [
    {
     "data": {
      "text/plain": [
       "-1"
      ]
     },
     "execution_count": 88,
     "metadata": {},
     "output_type": "execute_result"
    }
   ],
   "source": [
    "fasta_seqs[-1].find('ACTCC')"
   ]
  },
  {
   "cell_type": "code",
   "execution_count": 74,
   "id": "5e37ec82-3e77-4b52-ac7f-1f8fdd97718e",
   "metadata": {
    "tags": []
   },
   "outputs": [
    {
     "data": {
      "text/plain": [
       "882"
      ]
     },
     "execution_count": 74,
     "metadata": {},
     "output_type": "execute_result"
    }
   ],
   "source": [
    "len(fasta_seqs[0])"
   ]
  },
  {
   "cell_type": "code",
   "execution_count": 92,
   "id": "9e278fb4-ac71-47dd-96a6-32500ac9a580",
   "metadata": {
    "tags": []
   },
   "outputs": [],
   "source": [
    "start_pos = 12515548-12514726"
   ]
  },
  {
   "cell_type": "code",
   "execution_count": 94,
   "id": "ef76c520-3776-44fa-89ca-e914d33d37b5",
   "metadata": {
    "tags": []
   },
   "outputs": [],
   "source": [
    "motif = fasta_seqs[0][start_pos:start_pos+5]"
   ]
  },
  {
   "cell_type": "code",
   "execution_count": 97,
   "id": "4028fb02-9220-4266-a942-4289f809ae91",
   "metadata": {
    "tags": []
   },
   "outputs": [],
   "source": []
  },
  {
   "cell_type": "code",
   "execution_count": 100,
   "id": "e111fa09-2164-44cf-9f76-d2408e4e14bb",
   "metadata": {
    "tags": []
   },
   "outputs": [
    {
     "data": {
      "text/plain": [
       "0.13278008298755187"
      ]
     },
     "execution_count": 100,
     "metadata": {},
     "output_type": "execute_result"
    }
   ],
   "source": [
    "n_matches/N_seqs"
   ]
  },
  {
   "cell_type": "code",
   "execution_count": 62,
   "id": "49285707-91e7-4e00-b472-795cbf4533e5",
   "metadata": {
    "tags": []
   },
   "outputs": [
    {
     "data": {
      "text/html": [
       "<div>\n",
       "<style scoped>\n",
       "    .dataframe tbody tr th:only-of-type {\n",
       "        vertical-align: middle;\n",
       "    }\n",
       "\n",
       "    .dataframe tbody tr th {\n",
       "        vertical-align: top;\n",
       "    }\n",
       "\n",
       "    .dataframe thead th {\n",
       "        text-align: right;\n",
       "    }\n",
       "</style>\n",
       "<table border=\"1\" class=\"dataframe\">\n",
       "  <thead>\n",
       "    <tr style=\"text-align: right;\">\n",
       "      <th></th>\n",
       "      <th>motif_range</th>\n",
       "      <th>motif</th>\n",
       "      <th>model</th>\n",
       "      <th>avg_target_probas</th>\n",
       "      <th>alphabet_seq</th>\n",
       "      <th>shanon_entropy</th>\n",
       "      <th>id</th>\n",
       "      <th>seq_range</th>\n",
       "      <th>conserv_rate</th>\n",
       "    </tr>\n",
       "  </thead>\n",
       "  <tbody>\n",
       "    <tr>\n",
       "      <th>0</th>\n",
       "      <td>[12515548, 12515553]</td>\n",
       "      <td>non_motif</td>\n",
       "      <td>Species aware all motifs</td>\n",
       "      <td>0.315958</td>\n",
       "      <td>ACTCC</td>\n",
       "      <td>1.370951</td>\n",
       "      <td>ENST00000298542.9_utr3_11_0_chrX_132076990_r</td>\n",
       "      <td>[12514726, 12515608]</td>\n",
       "      <td>0.132780</td>\n",
       "    </tr>\n",
       "    <tr>\n",
       "      <th>1</th>\n",
       "      <td>[7290525, 7290530]</td>\n",
       "      <td>non_motif</td>\n",
       "      <td>Species aware all motifs</td>\n",
       "      <td>0.249635</td>\n",
       "      <td>ACTCC</td>\n",
       "      <td>1.370951</td>\n",
       "      <td>ENST00000374160.8_utr3_3_0_chr10_48909480_r</td>\n",
       "      <td>[7289818, 7290575]</td>\n",
       "      <td>0.132743</td>\n",
       "    </tr>\n",
       "    <tr>\n",
       "      <th>2</th>\n",
       "      <td>[10009478, 10009483]</td>\n",
       "      <td>non_motif</td>\n",
       "      <td>Species aware all motifs</td>\n",
       "      <td>0.262820</td>\n",
       "      <td>TGACT</td>\n",
       "      <td>1.921928</td>\n",
       "      <td>ENST00000397256.5_utr3_11_0_chr3_9834822_f</td>\n",
       "      <td>[10009238, 10009818]</td>\n",
       "      <td>0.583333</td>\n",
       "    </tr>\n",
       "    <tr>\n",
       "      <th>3</th>\n",
       "      <td>[7881980, 7881985]</td>\n",
       "      <td>non_motif</td>\n",
       "      <td>Species aware all motifs</td>\n",
       "      <td>0.214460</td>\n",
       "      <td>ACTCC</td>\n",
       "      <td>1.370951</td>\n",
       "      <td>ENST00000396267.3_utr3_1_0_chr17_8358822_r</td>\n",
       "      <td>[7878900, 7889212]</td>\n",
       "      <td>0.178423</td>\n",
       "    </tr>\n",
       "    <tr>\n",
       "      <th>4</th>\n",
       "      <td>[12389715, 12389720]</td>\n",
       "      <td>non_motif</td>\n",
       "      <td>Species aware all motifs</td>\n",
       "      <td>0.215341</td>\n",
       "      <td>TTCCG</td>\n",
       "      <td>1.521928</td>\n",
       "      <td>ENST00000360280.8_utr3_71_0_chr9_77416007_f</td>\n",
       "      <td>[12388946, 12394477]</td>\n",
       "      <td>0.244813</td>\n",
       "    </tr>\n",
       "    <tr>\n",
       "      <th>...</th>\n",
       "      <td>...</td>\n",
       "      <td>...</td>\n",
       "      <td>...</td>\n",
       "      <td>...</td>\n",
       "      <td>...</td>\n",
       "      <td>...</td>\n",
       "      <td>...</td>\n",
       "      <td>...</td>\n",
       "      <td>...</td>\n",
       "    </tr>\n",
       "    <tr>\n",
       "      <th>10840718</th>\n",
       "      <td>[13108524, 13108529]</td>\n",
       "      <td>UNK_17</td>\n",
       "      <td>Species aware all motifs</td>\n",
       "      <td>0.275231</td>\n",
       "      <td>TTAGG</td>\n",
       "      <td>1.521928</td>\n",
       "      <td>ENST00000394468.7_utr3_9_0_chr7_93188534_r</td>\n",
       "      <td>[13108075, 13108808]</td>\n",
       "      <td>0.054167</td>\n",
       "    </tr>\n",
       "    <tr>\n",
       "      <th>10840719</th>\n",
       "      <td>[13108828, 13108833]</td>\n",
       "      <td>UNK_17</td>\n",
       "      <td>Species aware all motifs</td>\n",
       "      <td>0.272801</td>\n",
       "      <td>TTAGG</td>\n",
       "      <td>1.521928</td>\n",
       "      <td>ENST00000339754.11_utr3_7_0_chr12_8096091_f</td>\n",
       "      <td>[13108808, 13110599]</td>\n",
       "      <td>0.190871</td>\n",
       "    </tr>\n",
       "    <tr>\n",
       "      <th>10840720</th>\n",
       "      <td>[13109676, 13109681]</td>\n",
       "      <td>UNK_17</td>\n",
       "      <td>Species aware all motifs</td>\n",
       "      <td>0.243267</td>\n",
       "      <td>TTAGG</td>\n",
       "      <td>1.521928</td>\n",
       "      <td>ENST00000339754.11_utr3_7_0_chr12_8096091_f</td>\n",
       "      <td>[13108808, 13110599]</td>\n",
       "      <td>0.510373</td>\n",
       "    </tr>\n",
       "    <tr>\n",
       "      <th>10840721</th>\n",
       "      <td>[13112894, 13112899]</td>\n",
       "      <td>UNK_17</td>\n",
       "      <td>Species aware all motifs</td>\n",
       "      <td>0.271611</td>\n",
       "      <td>TTAGG</td>\n",
       "      <td>1.521928</td>\n",
       "      <td>ENST00000529689.6_utr3_8_0_chr11_83259081_r</td>\n",
       "      <td>[13111707, 13114537]</td>\n",
       "      <td>0.405286</td>\n",
       "    </tr>\n",
       "    <tr>\n",
       "      <th>10840722</th>\n",
       "      <td>[13114064, 13114069]</td>\n",
       "      <td>UNK_17</td>\n",
       "      <td>Species aware all motifs</td>\n",
       "      <td>0.284441</td>\n",
       "      <td>TTAGG</td>\n",
       "      <td>1.521928</td>\n",
       "      <td>ENST00000529689.6_utr3_8_0_chr11_83259081_r</td>\n",
       "      <td>[13111707, 13114537]</td>\n",
       "      <td>0.070485</td>\n",
       "    </tr>\n",
       "  </tbody>\n",
       "</table>\n",
       "<p>10840723 rows × 9 columns</p>\n",
       "</div>"
      ],
      "text/plain": [
       "                   motif_range      motif                     model  \\\n",
       "0         [12515548, 12515553]  non_motif  Species aware all motifs   \n",
       "1           [7290525, 7290530]  non_motif  Species aware all motifs   \n",
       "2         [10009478, 10009483]  non_motif  Species aware all motifs   \n",
       "3           [7881980, 7881985]  non_motif  Species aware all motifs   \n",
       "4         [12389715, 12389720]  non_motif  Species aware all motifs   \n",
       "...                        ...        ...                       ...   \n",
       "10840718  [13108524, 13108529]     UNK_17  Species aware all motifs   \n",
       "10840719  [13108828, 13108833]     UNK_17  Species aware all motifs   \n",
       "10840720  [13109676, 13109681]     UNK_17  Species aware all motifs   \n",
       "10840721  [13112894, 13112899]     UNK_17  Species aware all motifs   \n",
       "10840722  [13114064, 13114069]     UNK_17  Species aware all motifs   \n",
       "\n",
       "          avg_target_probas alphabet_seq  shanon_entropy  \\\n",
       "0                  0.315958        ACTCC        1.370951   \n",
       "1                  0.249635        ACTCC        1.370951   \n",
       "2                  0.262820        TGACT        1.921928   \n",
       "3                  0.214460        ACTCC        1.370951   \n",
       "4                  0.215341        TTCCG        1.521928   \n",
       "...                     ...          ...             ...   \n",
       "10840718           0.275231        TTAGG        1.521928   \n",
       "10840719           0.272801        TTAGG        1.521928   \n",
       "10840720           0.243267        TTAGG        1.521928   \n",
       "10840721           0.271611        TTAGG        1.521928   \n",
       "10840722           0.284441        TTAGG        1.521928   \n",
       "\n",
       "                                                    id             seq_range  \\\n",
       "0         ENST00000298542.9_utr3_11_0_chrX_132076990_r  [12514726, 12515608]   \n",
       "1          ENST00000374160.8_utr3_3_0_chr10_48909480_r    [7289818, 7290575]   \n",
       "2           ENST00000397256.5_utr3_11_0_chr3_9834822_f  [10009238, 10009818]   \n",
       "3           ENST00000396267.3_utr3_1_0_chr17_8358822_r    [7878900, 7889212]   \n",
       "4          ENST00000360280.8_utr3_71_0_chr9_77416007_f  [12388946, 12394477]   \n",
       "...                                                ...                   ...   \n",
       "10840718    ENST00000394468.7_utr3_9_0_chr7_93188534_r  [13108075, 13108808]   \n",
       "10840719   ENST00000339754.11_utr3_7_0_chr12_8096091_f  [13108808, 13110599]   \n",
       "10840720   ENST00000339754.11_utr3_7_0_chr12_8096091_f  [13108808, 13110599]   \n",
       "10840721   ENST00000529689.6_utr3_8_0_chr11_83259081_r  [13111707, 13114537]   \n",
       "10840722   ENST00000529689.6_utr3_8_0_chr11_83259081_r  [13111707, 13114537]   \n",
       "\n",
       "          conserv_rate  \n",
       "0             0.132780  \n",
       "1             0.132743  \n",
       "2             0.583333  \n",
       "3             0.178423  \n",
       "4             0.244813  \n",
       "...                ...  \n",
       "10840718      0.054167  \n",
       "10840719      0.190871  \n",
       "10840720      0.510373  \n",
       "10840721      0.405286  \n",
       "10840722      0.070485  \n",
       "\n",
       "[10840723 rows x 9 columns]"
      ]
     },
     "execution_count": 62,
     "metadata": {},
     "output_type": "execute_result"
    }
   ],
   "source": [
    "conservation_df"
   ]
  },
  {
   "cell_type": "code",
   "execution_count": null,
   "id": "68f1f16d-e1b2-425c-9090-59c2ec40172e",
   "metadata": {},
   "outputs": [],
   "source": []
  }
 ],
 "metadata": {
  "kernelspec": {
   "display_name": "Python [conda env:miniconda3-svilov-python]",
   "language": "python",
   "name": "conda-env-miniconda3-svilov-python-py"
  },
  "language_info": {
   "codemirror_mode": {
    "name": "ipython",
    "version": 3
   },
   "file_extension": ".py",
   "mimetype": "text/x-python",
   "name": "python",
   "nbconvert_exporter": "python",
   "pygments_lexer": "ipython3",
   "version": "3.11.4"
  }
 },
 "nbformat": 4,
 "nbformat_minor": 5
}
