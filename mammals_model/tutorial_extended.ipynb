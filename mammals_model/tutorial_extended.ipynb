{
 "cells": [
  {
   "cell_type": "code",
   "execution_count": 2,
   "id": "9ef08229-5db6-424e-8cc6-54bf176a8dc0",
   "metadata": {
    "tags": []
   },
   "outputs": [
    {
     "name": "stderr",
     "output_type": "stream",
     "text": [
      "Intel(R) Extension for Scikit-learn* enabled (https://github.com/intel/scikit-learn-intelex)\n"
     ]
    }
   ],
   "source": [
    "import itertools\n",
    "\n",
    "import numpy as np\n",
    "import pandas as pd\n",
    "\n",
    "import matplotlib.pyplot as plt\n",
    "import matplotlib as mpl\n",
    "import seaborn as sns\n",
    "\n",
    "from sklearnex import patch_sklearn\n",
    "patch_sklearn()\n",
    "\n",
    "import sklearn\n",
    "\n",
    "import sklearn.pipeline \n",
    "import sklearn.model_selection\n",
    "import sklearn.metrics\n",
    "import sklearn.neural_network\n",
    "\n",
    "from sklearn.preprocessing import StandardScaler\n",
    "\n",
    "import gensim.models \n",
    "\n",
    "from scipy import stats\n",
    "import statsmodels.stats.multicomp as mc\n",
    "\n",
    "from statannotations.Annotator import Annotator"
   ]
  },
  {
   "cell_type": "code",
   "execution_count": 3,
   "id": "c70c6f33-40a6-4ec3-b094-4b5c47b771d3",
   "metadata": {
    "tags": []
   },
   "outputs": [],
   "source": [
    "mpl.rcParams.update({'xtick.labelsize': 14, 'ytick.labelsize': 14, \n",
    "                     'axes.titlesize':14, 'axes.labelsize':16}) #default font sizes for plots"
   ]
  },
  {
   "cell_type": "code",
   "execution_count": 4,
   "id": "4784e76b-6108-4a98-8726-4c0ecd35c1d1",
   "metadata": {
    "tags": []
   },
   "outputs": [],
   "source": [
    "data_dir = '/s/project/mll/sergey/effect_prediction/MLM/griesemer/'"
   ]
  },
  {
   "cell_type": "markdown",
   "id": "537841f2-77be-4dd1-a6e0-00fe00bfeadf",
   "metadata": {},
   "source": [
    "# Combine all info together"
   ]
  },
  {
   "cell_type": "code",
   "execution_count": 5,
   "id": "a63b9508-7ae3-4d85-b008-9f060630cb3c",
   "metadata": {
    "tags": []
   },
   "outputs": [],
   "source": [
    "expression_df = pd.read_csv(data_dir + 'paper_supplementary/Variant_MPRAu_Results.txt', sep='\\t')\n",
    "oligo_info_df = pd.read_csv(data_dir + 'paper_supplementary/Oligo_Variant_Info.txt', sep='\\t')"
   ]
  },
  {
   "cell_type": "code",
   "execution_count": 6,
   "id": "02f2a77e-1f4f-4108-a426-7b4a679e51b9",
   "metadata": {
    "tags": []
   },
   "outputs": [],
   "source": [
    "#Add seqeunces from FASTA file\n",
    "\n",
    "fasta_fa = data_dir + 'fasta/GRCh38_UTR_variants.fa'\n",
    "\n",
    "seq = {}\n",
    "\n",
    "with open(fasta_fa, 'r') as f:\n",
    "    for line in f:\n",
    "        if line.startswith('>'):\n",
    "            oligo_id = line[1:].replace(':Homo_sapiens\\n','')\n",
    "            seq[oligo_id] = ''\n",
    "        else:\n",
    "            seq[oligo_id] += line.rstrip()\n",
    "\n",
    "mpra_df = pd.DataFrame(seq.items(), columns=['oligo_id', 'seq'])"
   ]
  },
  {
   "cell_type": "code",
   "execution_count": 7,
   "id": "a32154ba-108b-4150-97b0-1d02dd1b3d01",
   "metadata": {
    "tags": []
   },
   "outputs": [],
   "source": [
    "utr_variants = pd.read_csv(data_dir + '/GRCh38_UTR_variants.tsv', sep='\\t')"
   ]
  },
  {
   "cell_type": "code",
   "execution_count": 8,
   "id": "b6b06382-3bef-4430-84b8-fef93e86e7c7",
   "metadata": {
    "tags": []
   },
   "outputs": [],
   "source": [
    "#distance between variant and stop codon, different calculations for positive and negative genes\n",
    "\n",
    "utr_variants['stop_codon_dist'] = utr_variants.apply(lambda x: x.var_start-x.human_UTR_start if x.strand=='+' else\n",
    "                  x.human_UTR_end - x.var_start, axis=1) "
   ]
  },
  {
   "cell_type": "code",
   "execution_count": 9,
   "id": "de40c686-ce41-4865-a679-d5d07f3cdda1",
   "metadata": {
    "tags": []
   },
   "outputs": [],
   "source": [
    "#minimal free energy from RNAfold software, recalculate each time when FASTA file changes!\n",
    "\n",
    "mpra_df['min_free_energy'] = pd.read_csv(data_dir + \n",
    "'fasta/GRCh38_UTR_variants.free_energy.tsv', header=None).squeeze() "
   ]
  },
  {
   "cell_type": "code",
   "execution_count": 10,
   "id": "fa20c2f5-22df-4505-8109-87efaed0cb47",
   "metadata": {
    "tags": []
   },
   "outputs": [
    {
     "data": {
      "text/plain": [
       "Index(['oligo_id', 'seq', 'min_free_energy', 'mpra_variant_id', 'ref_allele',\n",
       "       'alt_allele', 'gene_symbols', 'chrom', 'oligo_starts', 'oligo_ends',\n",
       "       'log2FoldChange_Skew_HEK293FT', 'lfcSE_Skew_HEK293FT',\n",
       "       'pvalue_Skew_HEK293FT', 'padj_Skew_HEK293FT',\n",
       "       'log2FoldChange_Ref_HEK293FT', 'lfcSE_Ref_HEK293FT',\n",
       "       'pvalue_Ref_HEK293FT', 'padj_Ref_HEK293FT',\n",
       "       'log2FoldChange_Alt_HEK293FT', 'lfcSE_Alt_HEK293FT',\n",
       "       'pvalue_Alt_HEK293FT', 'padj_Alt_HEK293FT', 'log2FoldChange_Skew_HEPG2',\n",
       "       'lfcSE_Skew_HEPG2', 'pvalue_Skew_HEPG2', 'padj_Skew_HEPG2',\n",
       "       'log2FoldChange_Ref_HEPG2', 'lfcSE_Ref_HEPG2', 'pvalue_Ref_HEPG2',\n",
       "       'padj_Ref_HEPG2', 'log2FoldChange_Alt_HEPG2', 'lfcSE_Alt_HEPG2',\n",
       "       'pvalue_Alt_HEPG2', 'padj_Alt_HEPG2', 'log2FoldChange_Skew_HMEC',\n",
       "       'lfcSE_Skew_HMEC', 'pvalue_Skew_HMEC', 'padj_Skew_HMEC',\n",
       "       'log2FoldChange_Ref_HMEC', 'lfcSE_Ref_HMEC', 'pvalue_Ref_HMEC',\n",
       "       'padj_Ref_HMEC', 'log2FoldChange_Alt_HMEC', 'lfcSE_Alt_HMEC',\n",
       "       'pvalue_Alt_HMEC', 'padj_Alt_HMEC', 'log2FoldChange_Skew_K562',\n",
       "       'lfcSE_Skew_K562', 'pvalue_Skew_K562', 'padj_Skew_K562',\n",
       "       'log2FoldChange_Ref_K562', 'lfcSE_Ref_K562', 'pvalue_Ref_K562',\n",
       "       'padj_Ref_K562', 'log2FoldChange_Alt_K562', 'lfcSE_Alt_K562',\n",
       "       'pvalue_Alt_K562', 'padj_Alt_K562', 'log2FoldChange_Skew_GM12878',\n",
       "       'lfcSE_Skew_GM12878', 'pvalue_Skew_GM12878', 'padj_Skew_GM12878',\n",
       "       'log2FoldChange_Ref_GM12878', 'lfcSE_Ref_GM12878', 'pvalue_Ref_GM12878',\n",
       "       'padj_Ref_GM12878', 'log2FoldChange_Alt_GM12878', 'lfcSE_Alt_GM12878',\n",
       "       'pvalue_Alt_GM12878', 'padj_Alt_GM12878', 'log2FoldChange_Skew_SKNSH',\n",
       "       'lfcSE_Skew_SKNSH', 'pvalue_Skew_SKNSH', 'padj_Skew_SKNSH',\n",
       "       'log2FoldChange_Ref_SKNSH', 'lfcSE_Ref_SKNSH', 'pvalue_Ref_SKNSH',\n",
       "       'padj_Ref_SKNSH', 'log2FoldChange_Alt_SKNSH', 'lfcSE_Alt_SKNSH',\n",
       "       'pvalue_Alt_SKNSH', 'padj_Alt_SKNSH', 'stop_codon_dist'],\n",
       "      dtype='object')"
      ]
     },
     "execution_count": 10,
     "metadata": {},
     "output_type": "execute_result"
    }
   ],
   "source": [
    "#combine all information together\n",
    "\n",
    "mpra_df = mpra_df.merge(oligo_info_df[['oligo_id','mpra_variant_id','ref_allele','alt_allele', 'gene_symbols','chrom', 'oligo_starts', 'oligo_ends']]).merge(expression_df).merge(utr_variants[['mpra_variant_id','stop_codon_dist']].drop_duplicates())\n",
    "\n",
    "mpra_df.columns"
   ]
  },
  {
   "cell_type": "code",
   "execution_count": 11,
   "id": "b7014442-1e12-4c6d-aa75-f51cdb236550",
   "metadata": {
    "tags": []
   },
   "outputs": [],
   "source": [
    "# Define Groups for Group K-fold based on genes\n",
    "\n",
    "mpra_df['group'] = mpra_df['gene_symbols']"
   ]
  },
  {
   "cell_type": "code",
   "execution_count": 12,
   "id": "c96f45c0-7e3e-4cbc-b404-af7b6714b07d",
   "metadata": {
    "tags": []
   },
   "outputs": [],
   "source": [
    "#Very few 3'UTR regions are shared between genes\n",
    "#The corresponding oligos should have the same group label\n",
    "\n",
    "df = mpra_df.sort_values(by=['chrom','oligo_starts','oligo_ends']).drop_duplicates(subset=['mpra_variant_id']).reset_index(drop=True)\n",
    "\n",
    "df['other_mpra_variant_id'] = ''\n",
    "\n",
    "for row_idx in range(len(df)-1):\n",
    "    next_row_idx = row_idx+1\n",
    "    while df.loc[row_idx].chrom==df.loc[next_row_idx].chrom and df.loc[next_row_idx].oligo_starts<df.loc[row_idx].oligo_ends:\n",
    "        if df.loc[row_idx].gene_symbols != df.loc[next_row_idx].gene_symbols:\n",
    "            df.loc[row_idx,'other_mpra_variant_id'] += df.loc[next_row_idx,'mpra_variant_id'] + ','\n",
    "        next_row_idx+=1\n",
    "        \n",
    "df = df.loc[df.other_mpra_variant_id!='',['mpra_variant_id','other_mpra_variant_id']]  \n",
    "\n",
    "for mpra_variant_id, other_mpra_variant_ids in df.values.tolist():\n",
    "    for other_mpra_variant_id in other_mpra_variant_ids.rstrip(',').split(','):\n",
    "        mpra_df.loc[mpra_df.mpra_variant_id==other_mpra_variant_id,'group'] = mpra_df.loc[mpra_df.mpra_variant_id==mpra_variant_id,'group'].iloc[0]"
   ]
  },
  {
   "cell_type": "code",
   "execution_count": 13,
   "id": "81e06f71-712f-499d-8523-3ec599b18dd7",
   "metadata": {
    "tags": []
   },
   "outputs": [],
   "source": [
    "#mpra_df.to_csv(data_dir + 'mpra_df.tsv', index=None, sep='\\t')"
   ]
  },
  {
   "cell_type": "markdown",
   "id": "54f22e37-011e-4788-a038-719f49e0bb73",
   "metadata": {},
   "source": [
    "# Load data"
   ]
  },
  {
   "cell_type": "code",
   "execution_count": 64,
   "id": "7eb50e1f-bcf9-4df4-8c31-af36bc20f898",
   "metadata": {
    "tags": []
   },
   "outputs": [],
   "source": [
    "mpra_df = pd.read_csv(data_dir + 'mpra_df.tsv', sep='\\t') #sequence info"
   ]
  },
  {
   "cell_type": "code",
   "execution_count": 65,
   "id": "fa8f4b49-5648-477e-908e-d7cd3eeccbba",
   "metadata": {
    "tags": []
   },
   "outputs": [],
   "source": [
    "mlm_embeddings = np.load(data_dir + \"embeddings/seq_len_5000/embeddings.npy\") #masked language model embeddings"
   ]
  },
  {
   "cell_type": "code",
   "execution_count": 66,
   "id": "8d62a4e9-a324-4e3c-b509-38302838eaf5",
   "metadata": {
    "tags": []
   },
   "outputs": [],
   "source": [
    "cell_type = 'HEK293FT' #HMEC,HEK293FT,HEPG2,K562,GM12878,SKNSH"
   ]
  },
  {
   "cell_type": "code",
   "execution_count": 67,
   "id": "768ba937-3611-44bc-b39e-6bde62903176",
   "metadata": {
    "tags": []
   },
   "outputs": [],
   "source": [
    "#Data Cleaning\n",
    "# Take only SNP mutations\n",
    "# Remove nan values in Expression column\n",
    "\n",
    "is_snp = mpra_df.ref_allele.str.len() == mpra_df.alt_allele.str.len()\n",
    "\n",
    "flt = mpra_df[f'log2FoldChange_Skew_{cell_type}'].isna()  | (~is_snp) | (mpra_df.stop_codon_dist>5000) #| mpra_df.oligo_id.str.contains('_ref$')\n",
    "\n",
    "mpra_df = mpra_df[~flt]\n",
    "mlm_embeddings = mlm_embeddings[~flt]"
   ]
  },
  {
   "cell_type": "code",
   "execution_count": 68,
   "id": "18e26ca4-110e-4d4f-9f11-c9484453ac31",
   "metadata": {
    "tags": []
   },
   "outputs": [],
   "source": [
    "#predict Log2FC skew between Ref and Alt alleles or just treat ref and alt seqeunces equally\n",
    "\n",
    "predict_skew = False "
   ]
  },
  {
   "cell_type": "code",
   "execution_count": 69,
   "id": "b5e342f6-914f-47f5-a2d9-6cc59431f5b3",
   "metadata": {
    "tags": []
   },
   "outputs": [],
   "source": [
    "if predict_skew:\n",
    "    mpra_df['Expression'] = mpra_df[f'log2FoldChange_Skew_{cell_type}']\n",
    "    mpra_df['seqtype'] = mpra_df.apply(lambda x: 'REF' if x.oligo_id.endswith('_ref') else 'ALT',axis=1)\n",
    "    assert (mpra_df.loc[mpra_df.seqtype=='REF','mpra_variant_id'].values==\\\n",
    "         mpra_df.loc[mpra_df.seqtype=='ALT','mpra_variant_id'].values).mean()==1\n",
    "else:\n",
    "    mpra_df['Expression'] = mpra_df.apply(lambda x: x[f'log2FoldChange_Alt_{cell_type}'] if x.oligo_id.endswith('_alt') else x[f'log2FoldChange_Ref_{cell_type}'], axis=1)   "
   ]
  },
  {
   "cell_type": "code",
   "execution_count": 70,
   "id": "d157f212-6449-41ee-b001-32e8a2e2e072",
   "metadata": {
    "tags": []
   },
   "outputs": [],
   "source": [
    "# Conver Expression column to float\n",
    "\n",
    "mpra_df.Expression = mpra_df.Expression.apply(lambda x:x.replace(',','.') if type(x)==str else x).astype(float)"
   ]
  },
  {
   "cell_type": "markdown",
   "id": "a87beae0-fa72-404f-a0b7-38892e40f29e",
   "metadata": {},
   "source": [
    "# Compare regression algorithms"
   ]
  },
  {
   "cell_type": "code",
   "execution_count": 26,
   "id": "0ad2b841-8217-4a23-b0c6-8a9e3ba724cd",
   "metadata": {
    "tags": []
   },
   "outputs": [],
   "source": [
    "class GroupNestedCV():\n",
    "    \n",
    "    '''\n",
    "    Group Nested Cross-Validation\n",
    "    \n",
    "    Parameters:\n",
    "    clf: sklearn-compatible classifier\n",
    "    hpp_search_grid: dictionary of parameter values for hyperparameter search\n",
    "    \n",
    "    if hpp_search_grid is None, just perform Group k-fold CV\n",
    "    '''\n",
    "    \n",
    "    def __init__(self, clf, hpp_search_grid=None, n_splits = 10):\n",
    "        \n",
    "        self.clf = clf\n",
    "        self.hpp_search_grid = hpp_search_grid\n",
    "        self.group_kfold = sklearn.model_selection.GroupKFold(n_splits=n_splits)\n",
    "        \n",
    "    def run(self, X, y, groups):\n",
    "    \n",
    "        '''\n",
    "        Iterates over  self.group_kfold folds and performs hyperparameter search within each fold\n",
    "\n",
    "        Returns:\n",
    "        Predictions for all folds\n",
    "        '''\n",
    "\n",
    "        kfold_scores = [] #predictions in all folds\n",
    "\n",
    "        #outer loop\n",
    "        for fold_idx, (train_idx, test_idx) in enumerate(self.group_kfold.split(X, y, groups)):\n",
    "\n",
    "            X_train, y_train, groups_train = X[train_idx,:], y[train_idx], groups[train_idx]\n",
    "\n",
    "            X_test, y_test = X[test_idx,:], y[test_idx]\n",
    "\n",
    "            if self.hpp_search_grid!=None:\n",
    "\n",
    "                print(f'Hyperparameter search in fold {fold_idx}')\n",
    "\n",
    "                gs = sklearn.pipeline.make_pipeline(StandardScaler(),\n",
    "                                                sklearn.model_selection.GridSearchCV(self.clf, self.hpp_search_grid, cv=3))\n",
    "\n",
    "                gs.fit(X_train, y_train, gridsearchcv__groups = groups_train)\n",
    "\n",
    "                best_params = gs['gridsearchcv'].best_params_\n",
    "                print(f'Best hyperparameters: {best_params}')\n",
    "\n",
    "            #train \n",
    "            pipe = sklearn.pipeline.make_pipeline(StandardScaler(), self.clf)\n",
    "            pipe.fit(X_train, y_train)\n",
    "            \n",
    "            #inference\n",
    "            y_pred = pipe.predict(X_test)\n",
    "\n",
    "            kfold_scores.append(np.vstack(([fold_idx]*len(y_test),y_pred,y_test))) #add predictions for the current fold\n",
    "\n",
    "        return kfold_scores"
   ]
  },
  {
   "cell_type": "code",
   "execution_count": 24,
   "id": "c62f007a-f212-477d-9d35-0aa5d0204e9d",
   "metadata": {
    "tags": []
   },
   "outputs": [],
   "source": [
    "algs = {} #algorithms to test\n",
    "hpp_search_space = {} #hyperparameter search space for each model\n",
    "\n",
    "algs['ridge'] = sklearn.linear_model.Ridge()\n",
    "hpp_search_space['ridge'] = {'alpha':10.**np.arange(-10,10)}\n",
    "              \n",
    "algs['MLP'] = sklearn.neural_network.MLPRegressor(hidden_layer_sizes=(64,32,16,), alpha=10, \n",
    "                 batch_size=1000, learning_rate_init=5e-4, max_iter=500, shuffle=False)\n",
    "\n",
    "algs['SVR'] = sklearn.svm.SVR(C=4, epsilon=0.1)\n",
    "#hpp_search_space['SVR'] = {'C':2.**np.arange(-5,5),'epsilon':10.**np.arange(-5,1)}\n"
   ]
  },
  {
   "cell_type": "code",
   "execution_count": 25,
   "id": "2df25c32-92e9-4124-bfff-5c4a569c0709",
   "metadata": {},
   "outputs": [],
   "source": [
    "X = mlm_embeddings #MLM embeddings\n",
    "y = mpra_df['Expression'].values #dependent variable\n",
    "groups = mpra_df['group'].values #groups (genes)"
   ]
  },
  {
   "cell_type": "code",
   "execution_count": 26,
   "id": "7dffa185-b283-44e1-bb0e-b436e28ccfde",
   "metadata": {
    "tags": []
   },
   "outputs": [
    {
     "name": "stdout",
     "output_type": "stream",
     "text": [
      "MODEL: ridge\n",
      "Hyperparameter search in fold 0\n",
      "Best hyperparameters: {'alpha': 100.0}\n",
      "Hyperparameter search in fold 1\n",
      "Best hyperparameters: {'alpha': 100.0}\n",
      "Hyperparameter search in fold 2\n",
      "Best hyperparameters: {'alpha': 100.0}\n",
      "Hyperparameter search in fold 3\n",
      "Best hyperparameters: {'alpha': 100.0}\n",
      "Hyperparameter search in fold 4\n",
      "Best hyperparameters: {'alpha': 100.0}\n",
      "Hyperparameter search in fold 5\n",
      "Best hyperparameters: {'alpha': 100.0}\n",
      "Hyperparameter search in fold 6\n",
      "Best hyperparameters: {'alpha': 100.0}\n",
      "Hyperparameter search in fold 7\n",
      "Best hyperparameters: {'alpha': 100.0}\n",
      "Hyperparameter search in fold 8\n",
      "Best hyperparameters: {'alpha': 100.0}\n",
      "Hyperparameter search in fold 9\n",
      "Best hyperparameters: {'alpha': 100.0}\n",
      "MODEL: MLP\n",
      "MODEL: SVR\n"
     ]
    }
   ],
   "source": [
    "preds_mpra = []\n",
    "\n",
    "for model, alg in algs.items():\n",
    "    \n",
    "    print(f'MODEL: {model}')\n",
    "    \n",
    "    group_nested_cv = GroupNestedCV(alg, hpp_search_space.get(model,None), )\n",
    "    \n",
    "    scores = group_nested_cv.run(X, y, groups)\n",
    "    \n",
    "    scores = pd.DataFrame(np.hstack(scores).T, columns=['fold','y_pred','y_test']) #numpy array to DataFrame\n",
    "    \n",
    "    scores['model'] = model #add model column\n",
    "    \n",
    "    preds_mpra.append(scores)#stack dataframes of different models\n",
    "\n",
    "preds_mpra = pd.concat(preds_mpra)#concatenate dataframes"
   ]
  },
  {
   "cell_type": "code",
   "execution_count": 27,
   "id": "8c93bfeb-df2d-4db3-87c5-09180046521c",
   "metadata": {
    "tags": []
   },
   "outputs": [
    {
     "data": {
      "text/html": [
       "<div>\n",
       "<style scoped>\n",
       "    .dataframe tbody tr th:only-of-type {\n",
       "        vertical-align: middle;\n",
       "    }\n",
       "\n",
       "    .dataframe tbody tr th {\n",
       "        vertical-align: top;\n",
       "    }\n",
       "\n",
       "    .dataframe thead th {\n",
       "        text-align: right;\n",
       "    }\n",
       "</style>\n",
       "<table border=\"1\" class=\"dataframe\">\n",
       "  <thead>\n",
       "    <tr style=\"text-align: right;\">\n",
       "      <th></th>\n",
       "      <th>fold</th>\n",
       "      <th>y_pred</th>\n",
       "      <th>y_test</th>\n",
       "      <th>model</th>\n",
       "    </tr>\n",
       "  </thead>\n",
       "  <tbody>\n",
       "    <tr>\n",
       "      <th>0</th>\n",
       "      <td>0.0</td>\n",
       "      <td>-0.526315</td>\n",
       "      <td>0.101798</td>\n",
       "      <td>ridge</td>\n",
       "    </tr>\n",
       "    <tr>\n",
       "      <th>1</th>\n",
       "      <td>0.0</td>\n",
       "      <td>-0.475818</td>\n",
       "      <td>-0.237751</td>\n",
       "      <td>ridge</td>\n",
       "    </tr>\n",
       "    <tr>\n",
       "      <th>2</th>\n",
       "      <td>0.0</td>\n",
       "      <td>-0.461430</td>\n",
       "      <td>-0.183660</td>\n",
       "      <td>ridge</td>\n",
       "    </tr>\n",
       "    <tr>\n",
       "      <th>3</th>\n",
       "      <td>0.0</td>\n",
       "      <td>-0.525686</td>\n",
       "      <td>-0.475822</td>\n",
       "      <td>ridge</td>\n",
       "    </tr>\n",
       "    <tr>\n",
       "      <th>4</th>\n",
       "      <td>0.0</td>\n",
       "      <td>0.191575</td>\n",
       "      <td>0.693005</td>\n",
       "      <td>ridge</td>\n",
       "    </tr>\n",
       "    <tr>\n",
       "      <th>...</th>\n",
       "      <td>...</td>\n",
       "      <td>...</td>\n",
       "      <td>...</td>\n",
       "      <td>...</td>\n",
       "    </tr>\n",
       "    <tr>\n",
       "      <th>14965</th>\n",
       "      <td>9.0</td>\n",
       "      <td>-0.181854</td>\n",
       "      <td>-0.798085</td>\n",
       "      <td>SVR</td>\n",
       "    </tr>\n",
       "    <tr>\n",
       "      <th>14966</th>\n",
       "      <td>9.0</td>\n",
       "      <td>0.074127</td>\n",
       "      <td>0.029363</td>\n",
       "      <td>SVR</td>\n",
       "    </tr>\n",
       "    <tr>\n",
       "      <th>14967</th>\n",
       "      <td>9.0</td>\n",
       "      <td>0.019421</td>\n",
       "      <td>0.225314</td>\n",
       "      <td>SVR</td>\n",
       "    </tr>\n",
       "    <tr>\n",
       "      <th>14968</th>\n",
       "      <td>9.0</td>\n",
       "      <td>0.064456</td>\n",
       "      <td>-0.209163</td>\n",
       "      <td>SVR</td>\n",
       "    </tr>\n",
       "    <tr>\n",
       "      <th>14969</th>\n",
       "      <td>9.0</td>\n",
       "      <td>0.116692</td>\n",
       "      <td>-0.328683</td>\n",
       "      <td>SVR</td>\n",
       "    </tr>\n",
       "  </tbody>\n",
       "</table>\n",
       "<p>44910 rows × 4 columns</p>\n",
       "</div>"
      ],
      "text/plain": [
       "       fold    y_pred    y_test  model\n",
       "0       0.0 -0.526315  0.101798  ridge\n",
       "1       0.0 -0.475818 -0.237751  ridge\n",
       "2       0.0 -0.461430 -0.183660  ridge\n",
       "3       0.0 -0.525686 -0.475822  ridge\n",
       "4       0.0  0.191575  0.693005  ridge\n",
       "...     ...       ...       ...    ...\n",
       "14965   9.0 -0.181854 -0.798085    SVR\n",
       "14966   9.0  0.074127  0.029363    SVR\n",
       "14967   9.0  0.019421  0.225314    SVR\n",
       "14968   9.0  0.064456 -0.209163    SVR\n",
       "14969   9.0  0.116692 -0.328683    SVR\n",
       "\n",
       "[44910 rows x 4 columns]"
      ]
     },
     "execution_count": 27,
     "metadata": {},
     "output_type": "execute_result"
    }
   ],
   "source": [
    "preds_mpra"
   ]
  },
  {
   "cell_type": "code",
   "execution_count": 28,
   "id": "fa9d0ec9-fd6c-4814-a9c4-796d7c6a9202",
   "metadata": {
    "tags": []
   },
   "outputs": [],
   "source": [
    "per_fold_scores = preds_mpra.groupby(['model','fold']).apply(lambda x: sklearn.metrics.r2_score(x.y_test,x.y_pred)).rename('score').reset_index()"
   ]
  },
  {
   "cell_type": "code",
   "execution_count": 29,
   "id": "3aa56592-d7d6-4662-8d6e-6ed8b877af46",
   "metadata": {
    "tags": []
   },
   "outputs": [
    {
     "name": "stdout",
     "output_type": "stream",
     "text": [
      "p-value annotation legend:\n",
      "      ns: p <= 1.00e+00\n",
      "       *: 1.00e-02 < p <= 5.00e-02\n",
      "      **: 1.00e-03 < p <= 1.00e-02\n",
      "     ***: 1.00e-04 < p <= 1.00e-03\n",
      "    ****: p <= 1.00e-04\n",
      "\n",
      "MLP vs. SVR: Wilcoxon test (paired samples) with Benjamini-Hochberg correction, P_val:2.754e-01 Stat=1.600e+01\n",
      "SVR vs. ridge: Wilcoxon test (paired samples) with Benjamini-Hochberg correction, P_val:1.953e-03 Stat=0.000e+00\n",
      "MLP vs. ridge: Wilcoxon test (paired samples) with Benjamini-Hochberg correction, P_val:6.445e-02 Stat=9.000e+00\n"
     ]
    },
    {
     "data": {
      "image/png": "[encoded data removed]",
      "text/plain": [
       "<Figure size 400x400 with 1 Axes>"
      ]
     },
     "metadata": {},
     "output_type": "display_data"
    }
   ],
   "source": [
    "fig, ax = plt.subplots(figsize=(4,4))\n",
    "\n",
    "ax = sns.swarmplot(data=per_fold_scores, x=\"model\", y=\"score\") #scatter plot\n",
    "ax = sns.boxplot(data=per_fold_scores, x=\"model\", y=\"score\", boxprops={'facecolor':'None'})\n",
    "\n",
    "box_pairs=[ (\"MLP\", \"SVR\"), (\"MLP\", \"ridge\"), (\"SVR\", 'ridge')]\n",
    "\n",
    "annotator = Annotator(ax, box_pairs, data=per_fold_scores, x=\"model\", y=\"score\")\n",
    "annotator.configure(test='Wilcoxon', text_format='star', loc='inside', comparisons_correction=\"BH\")\n",
    "#annotator.configure(test='t-test_paired', text_format='star', loc='inside', comparisons_correction=\"BH\")\n",
    "\n",
    "annotator.apply_and_annotate()\n",
    "\n",
    "ax.set_xlabel(\"\")\n",
    "ax.set_ylabel(\"score\")\n",
    "ax.tick_params(rotation=30)\n",
    "ax.grid()"
   ]
  },
  {
   "cell_type": "markdown",
   "id": "c6ec7164-adca-4eb1-a5bd-8767976a09af",
   "metadata": {},
   "source": [
    "# Comparing with other embeddings"
   ]
  },
  {
   "cell_type": "code",
   "execution_count": 71,
   "id": "2f2c93e0-559a-434c-a65c-e4384d7f0e70",
   "metadata": {
    "tags": []
   },
   "outputs": [],
   "source": [
    "class Kmerizer:\n",
    "    '''\n",
    "    Helper class to generate k-mers and Word2Vec embeddings\n",
    "    '''\n",
    "    \n",
    "    def __init__(self, k):\n",
    "        \n",
    "        self.k = k\n",
    "        \n",
    "        #generate all possible k-mers, e.g. \n",
    "        self.kmers = {\"\".join(x):i for i,x in zip(range(4**k), itertools.product(\"ACGT\",repeat=k))} \n",
    "        \n",
    "    def kmerize(self, seq):\n",
    "        '''\n",
    "        Count all k-mers in the sequence \n",
    "        Returns:\n",
    "        A list with counts corresponding to each possible k-mer from self.kmers\n",
    "        e.g. for k=2 and seq='ACTAC'\n",
    "        > [0, 2, 0, 0, 0, 0, 0, 1, 0, 0, 0, 0, 1, 0, 0, 0]\n",
    "        '''\n",
    "        counts = [0]*4**self.k\n",
    "        for i in range(len(seq) - self.k + 1): \n",
    "            kmer = seq[i:i+self.k]\n",
    "            counts[self.kmers[kmer]] += 1\n",
    "        return counts\n",
    "    \n",
    "    def tokenize(self, seq):\n",
    "        '''\n",
    "        Get all k-mers in the sequence\n",
    "        Returns:\n",
    "        A list of all k-mers\n",
    "        e.g. for 2-mers and seq='ACTAC' \n",
    "        > ['AC', 'CT', 'TA', 'AC']\n",
    "        '''\n",
    "        kmers = []\n",
    "        for i in range(len(seq) - self.k + 1): \n",
    "            kmer = seq[i:i+self.k]\n",
    "            kmers.append(kmer)\n",
    "        return kmers"
   ]
  },
  {
   "cell_type": "code",
   "execution_count": 72,
   "id": "fbe4b708-dc85-4908-b7de-57590e89f9c9",
   "metadata": {
    "tags": []
   },
   "outputs": [],
   "source": [
    "def word2vec_model(mpra_df):\n",
    "    \n",
    "    '''\n",
    "    Word2Vec model\n",
    "    \n",
    "    k-mers are defined through their context: \n",
    "    k-mers with similar context will have similar embeddings\n",
    "    '''\n",
    "    \n",
    "    kmerizer_w2v = Kmerizer(k=4)\n",
    "    \n",
    "    w2v_model = gensim.models.Word2Vec(sentences=mpra_df.seq.apply(lambda x: kmerizer_w2v.tokenize(x)), \n",
    "                         vector_size=128, window=5, min_count=1, workers=4, sg=1) #default: CBOW\n",
    "\n",
    "    word2vec_emb = mpra_df.seq.apply(\n",
    "        lambda x: np.mean([w2v_model.wv[x]  for x in kmerizer_w2v.tokenize(x)],axis=0)) #average embedding of all 4-mers in the sequence\n",
    "\n",
    "    X = np.stack(word2vec_emb,axis=0)\n",
    "    \n",
    "    return X"
   ]
  },
  {
   "cell_type": "code",
   "execution_count": 73,
   "id": "58f93c6f-1abf-4e40-80be-b07fab4f3a9c",
   "metadata": {
    "tags": []
   },
   "outputs": [],
   "source": [
    "def minseq_model(mpra_df):\n",
    "    \n",
    "    '''\n",
    "    Minimal sequence model from Griesemer et al. 2021\n",
    "    \n",
    "    Extracts following features from mpra_df:\n",
    "    --nucleotide counts for each base (+4) and maximum among them (+1)\n",
    "    --dinucleotide counts (+16) and maximum among them (+1)\n",
    "    --maximum homopolymer length for all bases (+4)\n",
    "    --maximum dinucleotide repeat length length for all bases (+16)\n",
    "    --sequence uniformity (+1)\n",
    "    --Minimal free energy (from RNA fold Software) (+1)\n",
    "    \n",
    "    Returns:\n",
    "    Feature matrix X\n",
    "    '''\n",
    "    \n",
    "    kmerizer1 = Kmerizer(k=1)\n",
    "\n",
    "    nucl_counts = np.stack(mpra_df.seq.apply(lambda seq: kmerizer1.kmerize(seq)))\n",
    "    max_nucl_counts_all = nucl_counts.max(axis=1)\n",
    "\n",
    "    kmerizer2 = Kmerizer(k=2)\n",
    "\n",
    "    dinucl_counts = np.stack(mpra_df.seq.apply(lambda seq: kmerizer2.kmerize(seq)))\n",
    "    max_dinucl_counts_all = dinucl_counts.max(axis=1)\n",
    "    \n",
    "    max_homopol_len = np.stack(mpra_df.seq.apply(lambda seq: max_repeat_length(seq,1)))\n",
    "    max_dinucl_len = np.stack(mpra_df.seq.apply(lambda seq: max_repeat_length(seq,2)))\n",
    "\n",
    "    seq_uniformity = mpra_df.seq.apply(lambda seq: np.sum([seq[i]==seq[i-1] for i in range(1,len(seq))])).values\n",
    "    #min_free_energy = mpra_df['min_free_energy'].values\n",
    "    \n",
    "    X = np.hstack((nucl_counts,np.expand_dims(max_nucl_counts_all,axis=1),\n",
    "           dinucl_counts,np.expand_dims(max_dinucl_counts_all,axis=1),\n",
    "           max_homopol_len, max_dinucl_len,\n",
    "           np.expand_dims(seq_uniformity,axis=1),\n",
    "           ))\n",
    "    \n",
    "    return X\n",
    "\n",
    "def max_repeat_length(seq,k):\n",
    "    \n",
    "    '''\n",
    "    Get repeat lengths of all k-mers in sequence\n",
    "    Returns:\n",
    "    Array of maximal repeat lengths for all k-mers\n",
    "    '''\n",
    "\n",
    "    max_subseq_length = {\"\".join(x):0 for x in itertools.product(\"ACGT\",repeat=k)}\n",
    "\n",
    "    for start in range(k):\n",
    "        n_repeats=1 #each subsequence has at least 1 repeat\n",
    "        for seq_idx in range(start,len(seq)-k+1,k):\n",
    "            subseq = seq[seq_idx:seq_idx+k] #current subsequence\n",
    "            if subseq==seq[seq_idx+k:seq_idx+2*k]: #if repeated at the next position\n",
    "                n_repeats+=1 #increase repeats counter\n",
    "            else:\n",
    "                max_subseq_length[subseq] = max(max_subseq_length[subseq],n_repeats) #is the current subseq repeat longer?\n",
    "                n_repeats = 1 #reinitialize repeats counter\n",
    "                \n",
    "        max_subseq_length[subseq] = max(max_subseq_length[subseq],n_repeats) #end of the sequence\n",
    "       \n",
    "    repeat_length = np.array(list(max_subseq_length.values()))\n",
    "    \n",
    "    return repeat_length"
   ]
  },
  {
   "cell_type": "code",
   "execution_count": 74,
   "id": "0f3b1e5d-7a49-4892-a409-0cb9d3c504a9",
   "metadata": {
    "tags": []
   },
   "outputs": [],
   "source": [
    "data_matrices = {} #embeddings dictionary\n",
    "\n",
    "data_matrices['MLM'] = mlm_embeddings\n",
    "\n",
    "kmerizer4 = Kmerizer(k=4)\n",
    "data_matrices['4-mers'] = np.stack(mpra_df.seq.apply(lambda x: kmerizer4.kmerize(x))) \n",
    "\n",
    "data_matrices['Word2Vec'] = word2vec_model(mpra_df)\n",
    "\n",
    "data_matrices['Griesemer et al.'] = minseq_model(mpra_df)\n",
    "\n",
    "for model in data_matrices:\n",
    "    data_matrices[model] = np.hstack((data_matrices[model],np.expand_dims(mpra_df.min_free_energy.values,axis=1)))\n",
    "\n",
    "y = mpra_df['Expression'].values\n",
    "groups = mpra_df['group'].values"
   ]
  },
  {
   "cell_type": "code",
   "execution_count": null,
   "id": "1bda22aa-8595-481d-9a47-50a68b19a6da",
   "metadata": {},
   "outputs": [
    {
     "name": "stdout",
     "output_type": "stream",
     "text": [
      "MODEL: MLM\n",
      "MODEL: 4-mers\n",
      "MODEL: Word2Vec\n"
     ]
    }
   ],
   "source": [
    "#alg = sklearn.neural_network.MLPRegressor(hidden_layer_sizes=(64,32,16,), alpha=10, \n",
    "#                 batch_size=1000, learning_rate_init=5e-4, max_iter=500, shuffle=False)\n",
    "\n",
    "hpp_dict = {'MLM':{'C':4}, '4-mers':{'C':1},\n",
    "                    'Word2Vec':{'C':1},'Griesemer et al.':{'C':1}}\n",
    "    \n",
    "preds_mpra = []\n",
    "\n",
    "for model, X in data_matrices.items():\n",
    "    \n",
    "    print(f'MODEL: {model}')\n",
    "    \n",
    "    alg = sklearn.svm.SVR(epsilon=0.1, **hpp_dict[model], cache_size=2000)\n",
    "    \n",
    "    group_nested_cv = GroupNestedCV(alg, )\n",
    "    \n",
    "    scores = group_nested_cv.run(X, y, groups)\n",
    "    \n",
    "    scores = pd.DataFrame(np.hstack(scores).T, columns=['fold','y_pred','y_test']) #numpy array to DataFrame\n",
    "    \n",
    "    scores['model'] = model #add model column\n",
    "    \n",
    "    preds_mpra.append(scores)#stack dataframes of different models\n",
    "\n",
    "preds_mpra = pd.concat(preds_mpra)"
   ]
  },
  {
   "cell_type": "code",
   "execution_count": null,
   "id": "85c0f3f9-2544-4dd2-8446-f0837c787349",
   "metadata": {
    "tags": []
   },
   "outputs": [],
   "source": [
    "per_fold_scores = preds_mpra.groupby(['model','fold']).apply(lambda x: sklearn.metrics.r2_score(x.y_test,x.y_pred)).rename('score').reset_index()"
   ]
  },
  {
   "cell_type": "code",
   "execution_count": null,
   "id": "8bde2583-1b77-443f-a662-48e2dc36b373",
   "metadata": {
    "tags": []
   },
   "outputs": [],
   "source": [
    "fig, ax = plt.subplots(figsize=(4,4))\n",
    "\n",
    "ax = sns.swarmplot(data=per_fold_scores, x=\"model\", y=\"score\") #scatter plot\n",
    "ax = sns.boxplot(data=per_fold_scores, x=\"model\", y=\"score\", boxprops={'facecolor':'None'})\n",
    "\n",
    "box_pairs=[ (\"MLM\", \"4-mers\"), (\"MLM\", \"Word2Vec\"), (\"MLM\", \"Griesemer et al.\")]\n",
    "\n",
    "annotator = Annotator(ax, box_pairs, data=per_fold_scores, x=\"model\", y=\"score\")\n",
    "annotator.configure(test='Wilcoxon', text_format='star', loc='inside', comparisons_correction=\"BH\")\n",
    "#annotator.configure(test='t-test_paired', text_format='star', loc='inside', comparisons_correction=\"BH\")\n",
    "\n",
    "annotator.apply_and_annotate()\n",
    "\n",
    "ax.set_xlabel(\"\")\n",
    "ax.set_ylabel(\"score\")\n",
    "ax.tick_params(rotation=30)\n",
    "ax.grid()"
   ]
  },
  {
   "cell_type": "markdown",
   "id": "0339f16f-1dbb-4c17-9081-6e126bedf0a7",
   "metadata": {},
   "source": [
    "# Assessing model stability"
   ]
  },
  {
   "cell_type": "code",
   "execution_count": 30,
   "id": "6c8429ee-6336-4d9a-b238-c50a9c7dbf32",
   "metadata": {
    "tags": []
   },
   "outputs": [
    {
     "name": "stdout",
     "output_type": "stream",
     "text": [
      "CV round 0\n",
      "CV round 1\n",
      "CV round 2\n",
      "CV round 3\n",
      "CV round 4\n",
      "CV round 5\n",
      "CV round 6\n",
      "CV round 7\n",
      "CV round 8\n",
      "CV round 9\n",
      "CV round 10\n",
      "CV round 11\n",
      "CV round 12\n",
      "CV round 13\n",
      "CV round 14\n",
      "CV round 15\n",
      "CV round 16\n",
      "CV round 17\n",
      "CV round 18\n",
      "CV round 19\n",
      "CV round 20\n",
      "CV round 21\n",
      "CV round 22\n",
      "CV round 23\n",
      "CV round 24\n"
     ]
    }
   ],
   "source": [
    "model = 'Griesemer et al.'\n",
    "\n",
    "X = data_matrices[model]\n",
    "y = mpra_df['Expression'].values\n",
    "groups = mpra_df['group'].values\n",
    "\n",
    "pipe = sklearn.pipeline.make_pipeline(sklearn.preprocessing.StandardScaler(), \n",
    "                     sklearn.linear_model.Ridge(alpha=100)) \n",
    "\n",
    "#pipe = sklearn.pipeline.make_pipeline(sklearn.preprocessing.StandardScaler(), \n",
    "#                     sklearn.svm.SVR(C=4, epsilon=0.1))\n",
    "\n",
    "#pipe = sklearn.pipeline.make_pipeline(sklearn.preprocessing.StandardScaler(), \n",
    "#                sklearn.neural_network.MLPRegressor(hidden_layer_sizes=(64,32,16,), alpha=10, batch_size=1000, learning_rate_init=5e-4, max_iter=500, shuffle=False))\n",
    "\n",
    "N_rounds = 25 #number of CV rounds\n",
    "N_splits = 10 #number of CV splits in each round\n",
    "\n",
    "N_instances = len(y) #total number of test points equals dataset size\n",
    "\n",
    "cv_res = np.zeros((N_rounds*N_splits,N_instances)) #CV predictions for each point\n",
    "cv_res[:] = np.NaN \n",
    "\n",
    "cv_scores = [] # score for each fold in each round, N_rounds X N_splits\n",
    "\n",
    "for round_idx in range(N_rounds):\n",
    "    \n",
    "    print(f'CV round {round_idx}')\n",
    "\n",
    "    gss = sklearn.model_selection.GroupShuffleSplit(n_splits=N_splits, train_size=.9, random_state = round_idx) #10-fold CV\n",
    "\n",
    "    for fold_idx, (train_idx, test_idx) in enumerate(gss.split(X, y, groups)):\n",
    "        \n",
    "        X_train, X_test, y_train, y_test = X[train_idx,:],X[test_idx,:],y[train_idx],y[test_idx]\n",
    "        \n",
    "        pipe.fit(X_train,y_train)\n",
    "        \n",
    "        y_pred = pipe.predict(X_test)\n",
    "            \n",
    "        cv_res[round_idx*N_splits+fold_idx,test_idx] = y_pred #predictions for test instances in this fold in this round\n",
    "        \n",
    "        cv_scores.append((sklearn.metrics.r2_score(y_test,y_pred), round_idx)) #score for this fold in this round\n",
    "        \n",
    "cv_scores = pd.DataFrame(cv_scores, columns=['score', 'CV round'])"
   ]
  },
  {
   "cell_type": "code",
   "execution_count": 31,
   "id": "a88c0a09-ee62-4b59-bca9-63188f2936f2",
   "metadata": {
    "tags": []
   },
   "outputs": [
    {
     "data": {
      "image/png": "[encoded data removed]",
      "text/plain": [
       "<Figure size 400x400 with 1 Axes>"
      ]
     },
     "metadata": {},
     "output_type": "display_data"
    }
   ],
   "source": [
    "fig, ax = plt.subplots(figsize=(4,4))\n",
    "\n",
    "cv_scores['model'] = model\n",
    "\n",
    "ax = sns.swarmplot(data=cv_scores[cv_scores['CV round']<10],y='score',x='model',hue=\"CV round\", palette=\"deep\")\n",
    "ax = sns.boxplot(data=cv_scores,y='score',x='model', boxprops={'facecolor':'None'})\n",
    "sns.move_legend(ax, \"upper left\", bbox_to_anchor=(1, 1))"
   ]
  },
  {
   "cell_type": "code",
   "execution_count": 32,
   "id": "e4fa3991-f33c-42a9-97af-87b8abda54ff",
   "metadata": {
    "tags": []
   },
   "outputs": [
    {
     "data": {
      "image/png": "[encoded data removed]",
      "text/plain": [
       "<Figure size 1000x200 with 5 Axes>"
      ]
     },
     "metadata": {},
     "output_type": "display_data"
    }
   ],
   "source": [
    "fig, axes = plt.subplots(1,5, figsize=(10,2))\n",
    "\n",
    "axes = axes.flatten()\n",
    "\n",
    "samples = np.random.choice(a=range(len(y)),size=5) #choose 5 random test points\n",
    "\n",
    "for ax,sample_idx in zip(axes,samples):\n",
    "    #sns.kdeplot(x=cv_res[:,sample_idx], ax=ax)\n",
    "    sns.swarmplot(x=cv_res[:,sample_idx], ax=ax)\n",
    "    sns.boxplot(x=cv_res[:,sample_idx], ax=ax, boxprops={'facecolor':'None'})\n",
    "    ax.set_ylabel('')\n",
    "    ax.set_yticks([])\n",
    "    ax.tick_params(axis='x', which='major', labelsize=8)\n",
    "    ylims = ax.get_ylim()\n",
    "    ax.plot(y[sample_idx]*np.ones((50,)),np.linspace(*ylims), linestyle='--', color='tab:orange') #y_true\n",
    "    ax.set_title(f'sample {sample_idx}')\n",
    "    ax.set_xlabel('y_pred')\n",
    "    \n",
    "fig.tight_layout()"
   ]
  },
  {
   "cell_type": "code",
   "execution_count": 33,
   "id": "c32e8142-25f3-4b3f-bfad-5a224824f794",
   "metadata": {
    "tags": []
   },
   "outputs": [],
   "source": [
    "cv = np.nanstd(cv_res,axis=0)/np.nanmean(cv_res,axis=0) #coefficient of variation of each test point due to change in train set distribution"
   ]
  },
  {
   "cell_type": "code",
   "execution_count": 34,
   "id": "ff43a8f9-3d45-4724-951e-ef6d21562346",
   "metadata": {
    "tags": []
   },
   "outputs": [
    {
     "data": {
      "text/plain": [
       "0.3412219127820592"
      ]
     },
     "execution_count": 34,
     "metadata": {},
     "output_type": "execute_result"
    }
   ],
   "source": [
    "abs(cv).mean() #measure of model instability"
   ]
  },
  {
   "cell_type": "code",
   "execution_count": 76,
   "id": "4cb7bb10-176f-4b4f-b120-9f0b57cd3446",
   "metadata": {
    "tags": []
   },
   "outputs": [],
   "source": [
    "score_per_round = cv_scores.groupby('CV round')['score'].mean()#mean score in each round\n",
    "\n",
    "CV_rounds = np.arange(1,N_rounds+1)\n",
    "\n",
    "average_score = np.cumsum(score_per_round)/CV_rounds #cumulative average"
   ]
  },
  {
   "cell_type": "code",
   "execution_count": 77,
   "id": "cc7a48dc-44cf-439d-b729-682549d93ab2",
   "metadata": {
    "tags": []
   },
   "outputs": [
    {
     "data": {
      "image/png": "[encoded data removed]",
      "text/plain": [
       "<Figure size 640x480 with 1 Axes>"
      ]
     },
     "metadata": {},
     "output_type": "display_data"
    }
   ],
   "source": [
    "fig, ax = plt.subplots()\n",
    "\n",
    "ax.plot(CV_rounds, score_per_round, marker='o', markersize=2, linestyle='') \n",
    "\n",
    "ax.plot(CV_rounds, average_score, markersize=2) \n",
    "\n",
    "ax.set_xlabel('CV rounds')\n",
    "ax.set_ylabel('score')\n",
    "ax.grid()"
   ]
  },
  {
   "cell_type": "code",
   "execution_count": null,
   "id": "d8af9791-b1ed-48ea-9ca4-558c6f200c4a",
   "metadata": {},
   "outputs": [],
   "source": []
  }
 ],
 "metadata": {
  "kernelspec": {
   "display_name": "Python [conda env:miniconda3-svilov-spade]",
   "language": "python",
   "name": "conda-env-miniconda3-svilov-spade-py"
  },
  "language_info": {
   "codemirror_mode": {
    "name": "ipython",
    "version": 3
   },
   "file_extension": ".py",
   "mimetype": "text/x-python",
   "name": "python",
   "nbconvert_exporter": "python",
   "pygments_lexer": "ipython3",
   "version": "3.10.9"
  }
 },
 "nbformat": 4,
 "nbformat_minor": 5
}
