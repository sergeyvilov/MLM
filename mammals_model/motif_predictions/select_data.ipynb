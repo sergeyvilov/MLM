{
 "cells": [
  {
   "cell_type": "code",
   "execution_count": 1,
   "id": "9a88c23b-ee09-487c-a2c7-83f5218ae075",
   "metadata": {
    "tags": []
   },
   "outputs": [],
   "source": [
    "import pandas as pd\n",
    "import numpy as np\n",
    "\n",
    "from collections import defaultdict\n",
    "\n",
    "from sklearn.model_selection import train_test_split"
   ]
  },
  {
   "cell_type": "markdown",
   "id": "902b9408-eb1d-4072-921d-721daa881ebf",
   "metadata": {},
   "source": [
    "# Motifs"
   ]
  },
  {
   "cell_type": "code",
   "execution_count": 84,
   "id": "2488f710-c7bf-4081-9d76-dcc391ccc671",
   "metadata": {
    "tags": []
   },
   "outputs": [],
   "source": [
    "motif_len = 5 #5 or 6"
   ]
  },
  {
   "cell_type": "code",
   "execution_count": 85,
   "id": "5a042b47-a7db-453e-9688-e75e5b437a34",
   "metadata": {
    "tags": []
   },
   "outputs": [],
   "source": [
    "data_dir = '/s/project/mll/sergey/effect_prediction/MLM/'"
   ]
  },
  {
   "cell_type": "code",
   "execution_count": 86,
   "id": "cf7b9b05-7028-44a9-b651-917910dd9d80",
   "metadata": {
    "tags": []
   },
   "outputs": [],
   "source": [
    "table_motifs = pd.read_excel(data_dir + 'dominguez_2018/1-s2.0-S1097276518303514-mmc4.xlsx',\n",
    "             sheet_name = motif_len-4, skiprows=1)"
   ]
  },
  {
   "cell_type": "code",
   "execution_count": 87,
   "id": "a0c818eb-e0fa-4b08-8c79-fddf35579919",
   "metadata": {
    "tags": []
   },
   "outputs": [],
   "source": [
    "res = []\n",
    "\n",
    "for col_idx in range(0,len(table_motifs.columns),2):\n",
    "    protein_name = table_motifs.columns[col_idx]\n",
    "    protein_df = table_motifs.iloc[:,col_idx:col_idx+2]\n",
    "    protein_df.columns = ['motif','stepwise_r']\n",
    "    protein_df['protein'] = protein_name\n",
    "    protein_df = protein_df[~protein_df['motif'].isna()]\n",
    "    res.append(protein_df)"
   ]
  },
  {
   "cell_type": "code",
   "execution_count": 88,
   "id": "50ecdad0-ab27-4f85-bcbb-db637dba3422",
   "metadata": {
    "tags": []
   },
   "outputs": [],
   "source": [
    "motifs_df = pd.concat(res)[['protein','motif','stepwise_r']]"
   ]
  },
  {
   "cell_type": "code",
   "execution_count": 89,
   "id": "fff6bfb3-08c2-4f3f-9cd7-b33266597574",
   "metadata": {
    "tags": []
   },
   "outputs": [],
   "source": [
    "if motif_len==5:\n",
    "    random_motifs = {'ACTCC', 'ACTTA', 'ATGTC', 'CCACA', 'TGACT', 'TTCCG', 'TTGGG', 'GTGTA', 'ACAGG', 'TCGTA'} #motifs which don't overlap with the table\n",
    "else:\n",
    "    all_permutations = {''.join(p) for p in itertools.product('ACTG', repeat=motif_len)}\n",
    "    table_motifs = set(motifs_df.motif)\n",
    "    random_motifs = all_permutations-table_motifs\n",
    "    np.random.seed(42)\n",
    "    random_motifs = np.random.choice(list(random_motifs),10)"
   ]
  },
  {
   "cell_type": "code",
   "execution_count": 90,
   "id": "a7ae6927-83bd-4d5f-b0e7-d0b339500be3",
   "metadata": {
    "tags": []
   },
   "outputs": [],
   "source": [
    "motifs_df = pd.concat([motifs_df,pd.DataFrame(list(random_motifs),columns=['motif'])])"
   ]
  },
  {
   "cell_type": "code",
   "execution_count": 91,
   "id": "0643f42b-a49f-4f6f-8276-73b21e948804",
   "metadata": {
    "tags": []
   },
   "outputs": [],
   "source": [
    "motifs_df = pd.DataFrame(motifs_df, columns=['protein','motif'])"
   ]
  },
  {
   "cell_type": "code",
   "execution_count": 92,
   "id": "c61483a7-f807-425a-b33c-f26ba27eac46",
   "metadata": {
    "tags": []
   },
   "outputs": [],
   "source": [
    "motifs_df.to_csv(data_dir + f'motif_predictions/motifs_k{motif_len}.csv', index=None) #first motif for each protein is the top motif from the table"
   ]
  },
  {
   "cell_type": "markdown",
   "id": "443b67ae-7028-4d25-b087-1ad49a1305db",
   "metadata": {},
   "source": [
    "# Train/test split"
   ]
  },
  {
   "cell_type": "code",
   "execution_count": 41,
   "id": "a223ba35-a8d4-41b8-98c2-ae5deed95d72",
   "metadata": {
    "tags": []
   },
   "outputs": [],
   "source": [
    "#get human 3'UTR sequences\n",
    "\n",
    "human_fasta = data_dir + 'fasta/240_mammals/species/Homo_sapiens.fa'\n",
    "\n",
    "dataset = defaultdict(str)\n",
    "\n",
    "with open(human_fasta, 'r') as f:\n",
    "    for line in f:\n",
    "        if line.startswith('>'):\n",
    "            seq_name = line[1:].split(':')[0]\n",
    "        else:\n",
    "            dataset[seq_name] += line.rstrip().upper()\n",
    "            \n",
    "dataset = pd.DataFrame(list(dataset.items()), columns=['seq_name','seq'])"
   ]
  },
  {
   "cell_type": "code",
   "execution_count": 42,
   "id": "5f241e63-1d79-4916-99da-0261a9f086ec",
   "metadata": {
    "tags": []
   },
   "outputs": [],
   "source": [
    "chrom = dataset.seq_name.apply(lambda x:x.split('_')[-3])"
   ]
  },
  {
   "cell_type": "code",
   "execution_count": 43,
   "id": "793badda-9b6f-4e83-9e3e-9550ccc9e72d",
   "metadata": {
    "tags": []
   },
   "outputs": [],
   "source": [
    "#75%/25% train/test split, stratified by chromosome\n",
    "\n",
    "train_df, test_df  = train_test_split(dataset, test_size=0.25, random_state=1,stratify=chrom)"
   ]
  },
  {
   "cell_type": "code",
   "execution_count": 44,
   "id": "57b93181-1907-4746-9803-77cd1b52a54f",
   "metadata": {
    "tags": []
   },
   "outputs": [],
   "source": [
    "train_df.to_csv(data_dir + '/motif_predictions/split_75_25/train.csv', index=None)\n",
    "test_df.to_csv(data_dir + '/motif_predictions/split_75_25/test.csv', index=None)"
   ]
  },
  {
   "cell_type": "code",
   "execution_count": null,
   "id": "5be02f00-588c-4f93-bb3e-74b2bb051c59",
   "metadata": {},
   "outputs": [],
   "source": []
  }
 ],
 "metadata": {
  "kernelspec": {
   "display_name": "Python [conda env:miniconda3-svilov-python]",
   "language": "python",
   "name": "conda-env-miniconda3-svilov-python-py"
  },
  "language_info": {
   "codemirror_mode": {
    "name": "ipython",
    "version": 3
   },
   "file_extension": ".py",
   "mimetype": "text/x-python",
   "name": "python",
   "nbconvert_exporter": "python",
   "pygments_lexer": "ipython3",
   "version": "3.11.4"
  }
 },
 "nbformat": 4,
 "nbformat_minor": 5
}
