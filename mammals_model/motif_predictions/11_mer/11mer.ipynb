{
 "cells": [
  {
   "cell_type": "markdown",
   "metadata": {},
   "source": [
    "# 11-mer\n",
    "The goal of this notebook is to reproduce the 11-mer model.\n",
    "While investigating the plotting notebook in the original repository it was found that the 11-mer model actually is the best markov model. In the config file for the best markov model in the results folder it can be seen, that it is a bidirectional markov model of order 5.\n"
   ]
  },
  {
   "cell_type": "code",
   "execution_count": 26,
   "metadata": {
    "tags": []
   },
   "outputs": [
    {
     "name": "stdout",
     "output_type": "stream",
     "text": [
      "The autoreload extension is already loaded. To reload it, use:\n",
      "  %reload_ext autoreload\n"
     ]
    }
   ],
   "source": [
    "%load_ext autoreload\n",
    "%autoreload 2\n",
    "\n",
    "import pandas as pd\n",
    "import re\n",
    "\n",
    "import numpy as np\n",
    "\n",
    "from markov_model import *\n",
    "\n",
    "import pickle\n",
    "\n",
    "from tqdm import tqdm"
   ]
  },
  {
   "cell_type": "code",
   "execution_count": 35,
   "metadata": {
    "tags": []
   },
   "outputs": [],
   "source": [
    "markov_order = 5"
   ]
  },
  {
   "cell_type": "code",
   "execution_count": 27,
   "metadata": {
    "tags": []
   },
   "outputs": [],
   "source": [
    "data_dir = '/s/project/mll/sergey/effect_prediction/MLM/motif_predictions/split_75_25/'"
   ]
  },
  {
   "cell_type": "code",
   "execution_count": 28,
   "metadata": {
    "tags": []
   },
   "outputs": [],
   "source": [
    "motifs = pd.read_csv(data_dir + '../motifs.csv').motif.unique()"
   ]
  },
  {
   "cell_type": "code",
   "execution_count": 29,
   "metadata": {
    "tags": []
   },
   "outputs": [],
   "source": [
    "#see select_data.ipynb\n",
    "\n",
    "train_df = pd.read_csv(data_dir + 'train.csv')\n",
    "test_df = pd.read_csv(data_dir + 'test.csv')"
   ]
  },
  {
   "cell_type": "code",
   "execution_count": 30,
   "metadata": {
    "tags": []
   },
   "outputs": [
    {
     "name": "stderr",
     "output_type": "stream",
     "text": [
      "100%|██████████| 13600/13600 [03:28<00:00, 65.30it/s]\n"
     ]
    }
   ],
   "source": [
    "# get the frequency counts of all motifs till 11mer\n",
    "kmer_train = KmerCount(11,pseudocount=0.1)\n",
    "\n",
    "kmer_train.compute_counts(train_df.seq)"
   ]
  },
  {
   "cell_type": "code",
   "execution_count": 31,
   "metadata": {
    "tags": []
   },
   "outputs": [],
   "source": [
    "markov_model = BiMarkov(kmer_train)"
   ]
  },
  {
   "cell_type": "code",
   "execution_count": 32,
   "metadata": {
    "tags": []
   },
   "outputs": [
    {
     "name": "stderr",
     "output_type": "stream",
     "text": [
      "/data/nasif12/home_if12/l_vilov/workspace/species-aware-DNA-LM/mammals_model/motif_predictions/11_mer/markov_model.py:150: RuntimeWarning: invalid value encountered in divide\n",
      "  self.markov_matrix[order,:,:] = self.markov_matrix[order,:,:]/np.sum(self.markov_matrix[order,:,:],axis=1)[:,np.newaxis]\n"
     ]
    }
   ],
   "source": [
    "# calculate the markov matrix using the 11mer counts\n",
    "markov_model.compile_from_counts()"
   ]
  },
  {
   "cell_type": "code",
   "execution_count": 33,
   "metadata": {
    "tags": []
   },
   "outputs": [],
   "source": [
    "test_df = test_df.set_index('seq_name').seq #dataframe to series"
   ]
  },
  {
   "cell_type": "code",
   "execution_count": 43,
   "metadata": {
    "tags": []
   },
   "outputs": [
    {
     "name": "stderr",
     "output_type": "stream",
     "text": [
      "100%|██████████| 4534/4534 [00:26<00:00, 169.75it/s]\n"
     ]
    }
   ],
   "source": [
    "#inference\n",
    "\n",
    "mapping = {'A':0,'C':1,'G':2,'T':3}\n",
    "\n",
    "motif_probas = []\n",
    "\n",
    "for seq_name, seq in tqdm(test_df.items(),total = len(test_df)):\n",
    "    \n",
    "    prbs = markov_model.impute_for_seq(seq, order=markov_order)\n",
    "    \n",
    "    seq_mapping = [mapping[base] for base in seq] #motif sequence to ordinal encoding\n",
    "    \n",
    "    target_probas = [prob[seq_mapping[idx]] for idx, prob in enumerate(prbs)] #take the right base\n",
    "    \n",
    "    motif_probas.append((seq_name, target_probas))\n",
    "        \n",
    "    #for motif in motifs:\n",
    "    #    \n",
    "    #    motif_mapping = [mapping[base] for base in motif] #motif sequence to ordinal encoding\n",
    "    #\n",
    "    #    for match in re.finditer(motif, seq):\n",
    "    #\n",
    "    #        target_probas = prbs[match.start():match.end()] #probabilities for ACGT at each motif position\n",
    "    #\n",
    "    #        target_probas = [prob[motif_mapping[idx]] for idx, prob in enumerate(target_probas)] #take the right base \n",
    "    #\n",
    "    #        avg_target_probas = np.mean(target_probas)\n",
    "    #        \n",
    "    #        motif_probas.append((seq_name, motif,match.start(),avg_target_probas))"
   ]
  },
  {
   "cell_type": "code",
   "execution_count": 36,
   "metadata": {
    "tags": []
   },
   "outputs": [],
   "source": [
    "#motif_probas = pd.DataFrame(motif_probas, columns=['seq_name','motif','motif_start','avg_target_prob'])\n",
    "\n",
    "#motif_probas.to_csv(data_dir + '11_mer.tsv', sep='\\t', index=None)"
   ]
  },
  {
   "cell_type": "code",
   "execution_count": 47,
   "metadata": {
    "tags": []
   },
   "outputs": [],
   "source": [
    "with open(data_dir + '11_mer.pickle', 'wb') as f:\n",
    "    pickle.dump(motif_probas,f)"
   ]
  }
 ],
 "metadata": {
  "kernelspec": {
   "display_name": "Python [conda env:miniconda3-svilov-mlm]",
   "language": "python",
   "name": "conda-env-miniconda3-svilov-mlm-py"
  },
  "language_info": {
   "codemirror_mode": {
    "name": "ipython",
    "version": 3
   },
   "file_extension": ".py",
   "mimetype": "text/x-python",
   "name": "python",
   "nbconvert_exporter": "python",
   "pygments_lexer": "ipython3",
   "version": "3.9.16"
  },
  "vscode": {
   "interpreter": {
    "hash": "7231443d2c6613b194813e6f98d913231f722dc8bb3ac4a1397dcf3c267e4542"
   }
  }
 },
 "nbformat": 4,
 "nbformat_minor": 4
}
