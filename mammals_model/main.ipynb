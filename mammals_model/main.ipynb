{
 "cells": [
  {
   "cell_type": "code",
   "execution_count": 1,
   "id": "ae43e306-e5f1-4831-bb06-cecdb288fd12",
   "metadata": {
    "tags": []
   },
   "outputs": [],
   "source": [
    "import numpy as np\n",
    "import pandas as pd\n",
    "\n",
    "import os\n",
    "import gc\n",
    "\n",
    "import pysam\n",
    "\n",
    "import torch\n",
    "from torch.utils.data import DataLoader, Dataset\n",
    "\n",
    "from tqdm.notebook import tqdm\n",
    "\n",
    "%load_ext autoreload\n",
    "%autoreload 2"
   ]
  },
  {
   "cell_type": "code",
   "execution_count": 2,
   "id": "8be2f56b-e9fb-4abc-9339-a335bc412afa",
   "metadata": {
    "tags": []
   },
   "outputs": [],
   "source": [
    "from encoding_utils import sequence_encoders\n",
    "\n",
    "import helpers.train_eval as train_eval    #train and evaluation\n",
    "import helpers.misc as misc                #miscellaneous functions\n",
    "from helpers.metrics import MaskedAccuracy\n",
    "\n",
    "from models.spec_dss import DSSResNet, DSSResNetEmb, SpecAdd"
   ]
  },
  {
   "cell_type": "code",
   "execution_count": 3,
   "id": "597bf5fb-c432-4eec-93da-17d6f10af4e5",
   "metadata": {
    "tags": []
   },
   "outputs": [],
   "source": [
    "class SeqDataset(Dataset):\n",
    "    \n",
    "    def __init__(self, fasta_fa, seq_df, transform):\n",
    "        \n",
    "        self.fasta = pysam.FastaFile(fasta_fa)\n",
    "        \n",
    "        self.seq_df = seq_df\n",
    "        self.transform = transform\n",
    "        \n",
    "    def __len__(self):\n",
    "        \n",
    "        return len(self.seq_df)\n",
    "    \n",
    "    def __getitem__(self, idx):\n",
    "        \n",
    "        seq = self.fasta.fetch(seq_df.iloc[idx].seq_name).upper()\n",
    "                \n",
    "        species_label = seq_df.iloc[idx].species_label\n",
    "                \n",
    "        masked_sequence, target_labels_masked, target_labels, mask, _ = self.transform(seq, motifs = {})\n",
    "        \n",
    "        masked_sequence = (masked_sequence, species_label)\n",
    "        \n",
    "        return masked_sequence, target_labels_masked, target_labels\n",
    "    \n",
    "    def close(self):\n",
    "        self.fasta.close()"
   ]
  },
  {
   "cell_type": "code",
   "execution_count": 4,
   "id": "1b717766-416d-4f5d-96d2-9e8e2051e704",
   "metadata": {
    "tags": []
   },
   "outputs": [
    {
     "name": "stdout",
     "output_type": "stream",
     "text": [
      "\n",
      "CUDA device: GPU\n",
      "\n"
     ]
    }
   ],
   "source": [
    "if torch.cuda.is_available():\n",
    "    device = torch.device('cuda')\n",
    "    print('\\nCUDA device: GPU\\n')\n",
    "else:\n",
    "    device = torch.device('cpu')\n",
    "    print('\\nCUDA device: CPU\\n')\n",
    "    #raise Exception('CUDA is not found')"
   ]
  },
  {
   "cell_type": "code",
   "execution_count": 5,
   "id": "1958cd83-205c-4a97-9852-08ab25b458ef",
   "metadata": {
    "tags": []
   },
   "outputs": [],
   "source": [
    "gc.collect()\n",
    "torch.cuda.empty_cache()"
   ]
  },
  {
   "cell_type": "code",
   "execution_count": 6,
   "id": "7d758047-5757-475a-ab17-37c6014c160f",
   "metadata": {
    "tags": []
   },
   "outputs": [],
   "source": [
    "datadir = '/s/project/mll/sergey/effect_prediction/MLM/'"
   ]
  },
  {
   "cell_type": "code",
   "execution_count": 29,
   "id": "57f907e3-c581-41a5-80d1-034c93d2917f",
   "metadata": {},
   "outputs": [],
   "source": [
    "input_params = misc.dotdict({})\n",
    "\n",
    "input_params.fasta = datadir + 'fasta/240_mammals/240_mammals.shuffled.fa'\n",
    "input_params.species_list = datadir + 'fasta/240_mammals/240_species.txt'\n",
    "\n",
    "input_params.output_dir = './test'\n",
    "\n",
    "input_params.test = False\n",
    "\n",
    "input_params.seq_len = 2000\n",
    "\n",
    "input_params.tot_epochs = 50\n",
    "input_params.val_fraction = 0.1\n",
    "input_params.train_splits = 4\n",
    "\n",
    "input_params.save_at = []\n",
    "input_params.validate_every = 1\n",
    "\n",
    "input_params.d_model = 128\n",
    "input_params.n_layers = 4\n",
    "input_params.dropout = 0.\n",
    "\n",
    "input_params.batch_size = 512\n",
    "input_params.learning_rate = 1e-4\n",
    "input_params.weight_decay = 0#5e-4"
   ]
  },
  {
   "cell_type": "code",
   "execution_count": 30,
   "id": "70457bfe-704a-4ead-816f-9e8129474966",
   "metadata": {
    "tags": []
   },
   "outputs": [],
   "source": [
    "input_params.fasta = datadir + 'griesemer/fasta/GRCh38_UTR_variants.fa'\n",
    "input_params.model_weight = datadir + 'nnc_logs/seq_len_5000/weights/epoch_11_weights_model'\n",
    "\n",
    "input_params.output_dir = datadir + 'griesemer/embeddings/seq_len_5000/'\n",
    "input_params.batch_size = 1\n",
    "\n",
    "input_params.test = True\n",
    "input_params.get_embeddings = True"
   ]
  },
  {
   "cell_type": "code",
   "execution_count": 31,
   "id": "33a3e0f3-6619-4616-bd26-a0ef7a5bbd8b",
   "metadata": {
    "tags": []
   },
   "outputs": [],
   "source": [
    "seq_df = pd.read_csv(input_params.fasta + '.fai', header=None, sep='\\t', usecols=[0], names=['seq_name'])\n",
    "seq_df['species_name'] = seq_df.seq_name.apply(lambda x:x.split(':')[1])\n",
    "\n",
    "#seq_df['seq_len'] = seq_df.seq_name.apply(lambda x:int(x.split(':')[-1]))\n",
    "#seq_df = seq_df[seq_df.seq_len>60]\n",
    "\n",
    "species_encoding = pd.read_csv(input_params.species_list, header=None).squeeze().to_dict()\n",
    "species_encoding = {species:idx for idx,species in species_encoding.items()}\n",
    "species_encoding['Homo_sapiens'] = species_encoding['Pan_troglodytes']\n",
    "\n",
    "seq_df['species_label'] = seq_df.species_name.map(species_encoding)\n",
    "\n",
    "#seq_df = seq_df.sample(frac = 1., random_state = 1) #DO NOT SHUFFLE, otherwise too slow"
   ]
  },
  {
   "cell_type": "code",
   "execution_count": 32,
   "id": "be76939f-fe57-4317-9249-476c4c991c5d",
   "metadata": {
    "tags": []
   },
   "outputs": [],
   "source": [
    "#seq_df = seq_df.iloc[:100000]"
   ]
  },
  {
   "cell_type": "code",
   "execution_count": 33,
   "id": "98ce1c8b-d70c-4fe7-ac01-e86fd30a8dea",
   "metadata": {
    "tags": []
   },
   "outputs": [],
   "source": [
    "if not input_params.test:\n",
    "    \n",
    "    #Train and Validate\n",
    "    \n",
    "    seq_transform = sequence_encoders.SequenceDataEncoder(seq_len = input_params.seq_len, total_len = input_params.seq_len, \n",
    "                                                      mask_rate = 0.15, split_mask = True)\n",
    "    \n",
    "    N_train = int(len(seq_df)*(1-input_params.val_fraction))       \n",
    "    train_df, test_df = seq_df.iloc[:N_train], seq_df.iloc[N_train:]\n",
    "                  \n",
    "    train_fold = np.repeat(list(range(input_params.train_splits)),repeats = N_train // input_params.train_splits + 1 )\n",
    "    train_df['train_fold'] = train_fold[:N_train]\n",
    "\n",
    "    train_dataset = SeqDataset(input_params.fasta, train_df, transform = seq_transform)\n",
    "    train_dataloader = DataLoader(dataset = train_dataset, batch_size = input_params.batch_size, num_workers = 2, collate_fn = None, shuffle = False)\n",
    "\n",
    "    test_dataset = SeqDataset(input_params.fasta, test_df, transform = seq_transform)\n",
    "    test_dataloader = DataLoader(dataset = test_dataset, batch_size = input_params.batch_size, num_workers = 2, collate_fn = None, shuffle = False)\n",
    "\n",
    "elif input_params.get_embeddings:\n",
    "    \n",
    "    #Test and get sequence embeddings (MPRA)\n",
    "    \n",
    "    seq_transform = sequence_encoders.RollingMasker(mask_stride = 50, frame = 0)\n",
    "\n",
    "    test_dataset = SeqDataset(input_params.fasta, seq_df, transform = seq_transform)\n",
    "    test_dataloader = DataLoader(dataset = test_dataset, batch_size = 1, num_workers = 1, collate_fn = None, shuffle = False)\n",
    "    \n",
    "else:\n",
    "    \n",
    "    #Test\n",
    "    \n",
    "    seq_transform = sequence_encoders.SequenceDataEncoder(seq_len = input_params.seq_len, total_len = input_params.seq_len, \n",
    "                                                      mask_rate = 0.15, split_mask = True, frame = 0)\n",
    "    \n",
    "    test_dataset = SeqDataset(input_params.fasta, seq_df, transform = seq_transform)\n",
    "    test_dataloader = DataLoader(dataset = test_dataset, batch_size = input_params.batch_size, num_workers = 2, collate_fn = None, shuffle = False)"
   ]
  },
  {
   "cell_type": "code",
   "execution_count": 34,
   "id": "ad86179c-11e5-4b3b-a389-b8ab1b00bdbe",
   "metadata": {
    "tags": []
   },
   "outputs": [],
   "source": [
    "species_encoder = SpecAdd(embed = True, encoder = 'label', d_model = input_params.d_model)\n",
    "\n",
    "model = DSSResNetEmb(d_input = 5, d_output = 5, d_model = input_params.d_model, n_layers = input_params.n_layers, \n",
    "                     dropout = input_params.dropout, embed_before = True, species_encoder = species_encoder)\n",
    "\n",
    "model = model.to(device) \n",
    "\n",
    "model_params = [p for p in model.parameters() if p.requires_grad]\n",
    "\n",
    "optimizer = torch.optim.Adam(model_params, lr = input_params.learning_rate, weight_decay = input_params.weight_decay)"
   ]
  },
  {
   "cell_type": "code",
   "execution_count": 35,
   "id": "ec227158-c405-4dc7-8f6a-38a83009d725",
   "metadata": {},
   "outputs": [],
   "source": [
    "last_epoch = 0\n",
    "\n",
    "if input_params.model_weight:\n",
    "\n",
    "    if torch.cuda.is_available():\n",
    "        #load on gpu\n",
    "        model.load_state_dict(torch.load(input_params.model_weight))\n",
    "        if input_params.optimizer_weight:\n",
    "            optimizer.load_state_dict(torch.load(input_params.optimizer_weight))\n",
    "    else:\n",
    "        #load on cpu\n",
    "        model.load_state_dict(torch.load(input_params.model_weight, map_location=torch.device('cpu')))\n",
    "        if input_params.optimizer_weight:\n",
    "            optimizer.load_state_dict(torch.load(input_params.optimizer_weight, map_location=torch.device('cpu')))\n",
    "\n",
    "    last_epoch = int(input_params.model_weight.split('_')[-3]) #infer previous epoch from input_params.model_weight\n",
    "\n",
    "weights_dir = os.path.join(input_params.output_dir, 'weights') #dir to save model weights at save_at epochs\n",
    "\n",
    "if input_params.save_at:\n",
    "    os.makedirs(weights_dir, exist_ok = True)"
   ]
  },
  {
   "cell_type": "code",
   "execution_count": 36,
   "id": "9f68efaa-d4a6-424f-a169-6d0d9046ec9e",
   "metadata": {
    "tags": []
   },
   "outputs": [],
   "source": [
    "def metrics_to_str(metrics):\n",
    "    loss, total_acc, masked_acc = metrics\n",
    "    return f'loss: {loss:.4}, total acc: {total_acc:.3f}, masked acc: {masked_acc:.3f}'"
   ]
  },
  {
   "cell_type": "code",
   "execution_count": 37,
   "id": "fd086013-fd62-4964-8ccc-8b9d928d727d",
   "metadata": {
    "tags": []
   },
   "outputs": [
    {
     "name": "stdout",
     "output_type": "stream",
     "text": [
      "EPOCH 11: Test/Inference...\n"
     ]
    },
    {
     "data": {
      "application/vnd.jupyter.widget-view+json": {
       "model_id": "37580140689745938b72e10142aa1d46",
       "version_major": 2,
       "version_minor": 0
      },
      "text/plain": [
       "  0%|                                                                                                         …"
      ]
     },
     "metadata": {},
     "output_type": "display_data"
    },
    {
     "name": "stderr",
     "output_type": "stream",
     "text": [
      "/data/ouga/home/ag_gagneur/l_vilov/miniconda3/envs/svilov-spade/lib/python3.10/site-packages/torch/nn/functional.py:1355: UserWarning: dropout2d: Received a 3D input to dropout2d and assuming that channel-wise 1D dropout behavior is desired - input is interpreted as shape (N, C, L), where C is the channel dim. This behavior will change in a future release to interpret the input as one without a batch dimension, i.e. shape (C, H, W). To maintain the 1D channel-wise dropout behavior, please switch to using dropout1d instead.\n",
      "  warnings.warn(\"dropout2d: Received a 3D input to dropout2d and assuming that channel-wise \"\n"
     ]
    },
    {
     "name": "stdout",
     "output_type": "stream",
     "text": [
      "epoch 11 - test, loss: 1.189, total acc: 0.958, masked acc: 0.445\n",
      "\n",
      "peak GPU memory allocation: 58 Mb\n",
      "Done\n"
     ]
    }
   ],
   "source": [
    "#from utils.misc import print    #print function that displays time\n",
    "\n",
    "if not input_params.test:\n",
    "\n",
    "    for epoch in range(last_epoch+1, input_params.tot_epochs+1):\n",
    "\n",
    "        print(f'EPOCH {epoch}: Training...')\n",
    "\n",
    "        train_dataset.seq_df = train_df[train_df.train_fold == (epoch-1) % input_params.train_splits]\n",
    "        print(f'using train samples: {list(train_dataset.seq_df.index[[0,-1]])}')\n",
    "\n",
    "        train_metrics = train_eval.model_train(model, optimizer, train_dataloader, device,\n",
    "                            silent = False)\n",
    "\n",
    "        print(f'epoch {epoch} - train, {metrics_to_str(train_metrics)}')\n",
    "\n",
    "        if epoch in input_params.save_at: #save model weights\n",
    "\n",
    "            misc.save_model_weights(model, optimizer, weights_dir, epoch)\n",
    "\n",
    "        if input_params.val_fraction>0 and ( epoch==input_params.tot_epochs or\n",
    "                            (input_params.validate_every and epoch%input_params.validate_every==0)):\n",
    "\n",
    "            print(f'EPOCH {epoch}: Validating...')\n",
    "\n",
    "            val_metrics, _ =  train_eval.model_eval(model, optimizer, test_dataloader, device,\n",
    "                    silent = False)\n",
    "\n",
    "            print(f'epoch {epoch} - validation, {metrics_to_str(val_metrics)}')\n",
    "\n",
    "else:\n",
    "\n",
    "    print(f'EPOCH {last_epoch}: Test/Inference...')\n",
    "\n",
    "    test_metrics, test_embeddings =  train_eval.model_eval(model, optimizer, test_dataloader, device, \n",
    "                                                          get_embeddings = input_params.get_embeddings, silent = False)\n",
    "    \n",
    "    \n",
    "\n",
    "    print(f'epoch {last_epoch} - test, {metrics_to_str(test_metrics)}')\n",
    "\n",
    "    os.makedirs(input_params.output_dir, exist_ok = True)\n",
    "\n",
    "    with open(input_params.output_dir + '/embeddings.npy', 'wb') as f:\n",
    "        test_embeddings = np.vstack(test_embeddings)\n",
    "        np.save(f, test_embeddings)\n",
    "\n",
    "print()\n",
    "print(f'peak GPU memory allocation: {round(torch.cuda.max_memory_allocated(device)/1024/1024)} Mb')\n",
    "print('Done')"
   ]
  },
  {
   "cell_type": "code",
   "execution_count": null,
   "id": "55bec0bc-d51d-411d-ba96-9abb95a86f8a",
   "metadata": {},
   "outputs": [],
   "source": []
  }
 ],
 "metadata": {
  "kernelspec": {
   "display_name": "Python [conda env:miniconda3-svilov-spade]",
   "language": "python",
   "name": "conda-env-miniconda3-svilov-spade-py"
  },
  "language_info": {
   "codemirror_mode": {
    "name": "ipython",
    "version": 3
   },
   "file_extension": ".py",
   "mimetype": "text/x-python",
   "name": "python",
   "nbconvert_exporter": "python",
   "pygments_lexer": "ipython3",
   "version": "3.10.9"
  }
 },
 "nbformat": 4,
 "nbformat_minor": 5
}
