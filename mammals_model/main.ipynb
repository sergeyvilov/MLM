{
 "cells": [
  {
   "cell_type": "code",
   "execution_count": 1,
   "id": "ae43e306-e5f1-4831-bb06-cecdb288fd12",
   "metadata": {
    "tags": []
   },
   "outputs": [],
   "source": [
    "import numpy as np\n",
    "import pandas as pd\n",
    "import pickle\n",
    "\n",
    "import re\n",
    "\n",
    "import os\n",
    "import gc\n",
    "\n",
    "import pysam\n",
    "\n",
    "import torch\n",
    "from torch.utils.data import DataLoader, Dataset\n",
    "\n",
    "from tqdm import tqdm\n",
    "\n",
    "%load_ext autoreload\n",
    "%autoreload 2"
   ]
  },
  {
   "cell_type": "code",
   "execution_count": 2,
   "id": "8be2f56b-e9fb-4abc-9339-a335bc412afa",
   "metadata": {
    "tags": []
   },
   "outputs": [],
   "source": [
    "from encoding_utils import sequence_encoders\n",
    "\n",
    "import helpers.train_eval as train_eval    #train and evaluation\n",
    "import helpers.misc as misc                #miscellaneous functions\n",
    "from helpers.metrics import MaskedAccuracy\n",
    "from helpers.temperature_scaling import ModelWithTemperature\n",
    "\n",
    "\n",
    "from models.spec_dss import DSSResNet, DSSResNetEmb, SpecAdd"
   ]
  },
  {
   "cell_type": "code",
   "execution_count": 3,
   "id": "73f455b8-053b-47d6-9206-d09fa0d11fe7",
   "metadata": {
    "tags": []
   },
   "outputs": [],
   "source": [
    "datadir = '/s/project/mll/sergey/effect_prediction/MLM/'"
   ]
  },
  {
   "cell_type": "code",
   "execution_count": 4,
   "id": "e28fa8fa-0356-499d-871e-fa6cffd4b567",
   "metadata": {
    "tags": []
   },
   "outputs": [],
   "source": [
    "#motifs = pd.read_csv(datadir + 'motif_predictions/motifs.csv').motif.unique()\n",
    "\n",
    "#selected_motifs = {motif:motif_idx+1 for motif_idx,motif in enumerate(motifs)} #{'ACCTG':1, 'GGTAA':2}"
   ]
  },
  {
   "cell_type": "code",
   "execution_count": 5,
   "id": "597bf5fb-c432-4eec-93da-17d6f10af4e5",
   "metadata": {
    "tags": []
   },
   "outputs": [],
   "source": [
    "class SeqDataset(Dataset):\n",
    "    \n",
    "    def __init__(self, fasta_fa, seq_df, transform):\n",
    "        \n",
    "        if fasta_fa:\n",
    "            self.fasta = pysam.FastaFile(fasta_fa)\n",
    "        else:\n",
    "             self.fasta = None\n",
    "        \n",
    "        self.seq_df = seq_df\n",
    "        self.transform = transform\n",
    "        \n",
    "    def __len__(self):\n",
    "        \n",
    "        return len(self.seq_df)\n",
    "    \n",
    "    def __getitem__(self, idx):\n",
    "        \n",
    "        if self.fasta:\n",
    "            seq = self.fasta.fetch(self.seq_df.iloc[idx].seq_name).upper()\n",
    "        else:\n",
    "            seq = self.seq_df.iloc[idx].seq.upper()\n",
    "                \n",
    "        species_label = self.seq_df.iloc[idx].species_label\n",
    "        \n",
    "        seq = seq.replace('-','')\n",
    "                \n",
    "        masked_sequence, target_labels_masked, target_labels, _, _ = self.transform(seq, motifs = {})\n",
    "        \n",
    "        masked_sequence = (masked_sequence, species_label)\n",
    "        \n",
    "        #motif_ranges = []\n",
    "        \n",
    "        #for motif in selected_motifs:\n",
    "        #    for match in re.finditer(motif, seq):\n",
    "        #        motif_ranges.append((match.start(),match.end()))\n",
    "            \n",
    "        return masked_sequence, target_labels_masked, target_labels, seq\n",
    "    \n",
    "    def close(self):\n",
    "        self.fasta.close()"
   ]
  },
  {
   "cell_type": "code",
   "execution_count": 6,
   "id": "1b717766-416d-4f5d-96d2-9e8e2051e704",
   "metadata": {
    "tags": []
   },
   "outputs": [
    {
     "name": "stdout",
     "output_type": "stream",
     "text": [
      "\n",
      "CUDA device: GPU\n",
      "\n"
     ]
    }
   ],
   "source": [
    "if torch.cuda.is_available():\n",
    "    device = torch.device('cuda')\n",
    "    print('\\nCUDA device: GPU\\n')\n",
    "else:\n",
    "    device = torch.device('cpu')\n",
    "    print('\\nCUDA device: CPU\\n')\n",
    "    #raise Exception('CUDA is not found')"
   ]
  },
  {
   "cell_type": "code",
   "execution_count": 7,
   "id": "1958cd83-205c-4a97-9852-08ab25b458ef",
   "metadata": {
    "tags": []
   },
   "outputs": [],
   "source": [
    "gc.collect()\n",
    "torch.cuda.empty_cache()\n",
    "\n",
    "import os\n",
    "os.environ[\"PYTORCH_CUDA_ALLOC_CONF\"] = \"max_split_size_mb:512\""
   ]
  },
  {
   "cell_type": "code",
   "execution_count": 8,
   "id": "57f907e3-c581-41a5-80d1-034c93d2917f",
   "metadata": {},
   "outputs": [],
   "source": [
    "input_params = misc.dotdict({})\n",
    "\n",
    "input_params.fasta = datadir + 'fasta/240_mammals/240_mammals.shuffled.fa'\n",
    "input_params.species_list = datadir + 'fasta/240_mammals/240_species.txt'\n",
    "\n",
    "input_params.output_dir = './test'\n",
    "\n",
    "input_params.test = False\n",
    "input_params.get_embeddings = False\n",
    "input_params.get_motif_acc = False\n",
    "\n",
    "input_params.species_agnostic = False\n",
    "\n",
    "input_params.seq_len = 5000\n",
    "\n",
    "input_params.tot_epochs = 50\n",
    "input_params.val_fraction = 0.1\n",
    "input_params.train_splits = 4\n",
    "\n",
    "input_params.save_at = []\n",
    "input_params.validate_every = 1\n",
    "\n",
    "input_params.d_model = 128\n",
    "input_params.n_layers = 4\n",
    "input_params.dropout = 0.\n",
    "\n",
    "input_params.batch_size = 512\n",
    "input_params.learning_rate = 1e-4\n",
    "input_params.weight_decay = 0#5e-4"
   ]
  },
  {
   "cell_type": "code",
   "execution_count": 9,
   "id": "e47270de-f092-4215-ab95-6707b4c7fda2",
   "metadata": {
    "tags": []
   },
   "outputs": [],
   "source": [
    "input_params.fasta = datadir + 'aligned/data/3_prime_UTR/366/ENST00000381365.4_utr3_2_0_chr17_4900534_f.fa'\n",
    "input_params.output_dir = datadir + 'individual_3UTR/'\n",
    "input_params.train_splits = 1\n",
    "input_params.d_model = 32\n",
    "input_params.tot_epochs = 100\n",
    "input_params.batch_size = 32\n"
   ]
  },
  {
   "cell_type": "code",
   "execution_count": 10,
   "id": "4e243501-bd5d-47ef-a6b9-a54a1328a62a",
   "metadata": {
    "tags": []
   },
   "outputs": [],
   "source": [
    "input_params.batch_size = 1\n",
    "input_params.test = True\n",
    "input_params.get_embeddings = False\n",
    "input_params.get_motif_acc = True\n"
   ]
  },
  {
   "cell_type": "code",
   "execution_count": 268,
   "id": "da545561-1ba5-42db-9d19-1df8332e6bbe",
   "metadata": {
    "tags": []
   },
   "outputs": [],
   "source": [
    "input_params.fasta = datadir + 'fasta/240_mammals/species/Homo_sapiens.fa'\n",
    "#input_params.fasta = datadir + 'clinvar/clinvar.fa'\n",
    "\n",
    "input_params.model_weight = datadir + 'nnc_logs/seq_len_5000/weights/epoch_11_weights_model'\n",
    "\n",
    "input_params.output_dir = datadir + 'clinvar/species_aware_preds_tempscale/'\n",
    "\n",
    "input_params.batch_size = 1\n",
    "\n",
    "input_params.test = True\n",
    "input_params.get_embeddings = False\n",
    "input_params.get_motif_acc = True\n",
    "\n",
    "input_params.species_agnostic = False"
   ]
  },
  {
   "cell_type": "code",
   "execution_count": 25,
   "id": "05292dc6-ad95-4c55-84db-e8c319921b50",
   "metadata": {
    "tags": []
   },
   "outputs": [],
   "source": [
    "input_params.fasta = datadir + 'fasta/240_mammals/species/Homo_sapiens.fa'\n",
    "\n",
    "input_params.model_weight = datadir + 'nnc_logs/seq_len_5000/weights/epoch_11_weights_model'\n",
    "#input_params.model_weight = datadir + 'nnc_logs/species_agnostic_5000/weights/epoch_11_weights_model'\n",
    "\n",
    "input_params.output_dir = datadir + 'motif_predictions/species_aware/'\n",
    "#input_params.output_dir = datadir + 'motif_predictions/species_agnostic/'\n",
    "\n",
    "input_params.batch_size = 1\n",
    "\n",
    "input_params.test = True\n",
    "input_params.get_embeddings = False\n",
    "input_params.get_motif_acc = True\n",
    "\n",
    "input_params.species_agnostic = False"
   ]
  },
  {
   "cell_type": "code",
   "execution_count": 10,
   "id": "70457bfe-704a-4ead-816f-9e8129474966",
   "metadata": {
    "tags": []
   },
   "outputs": [],
   "source": [
    "input_params.fasta = datadir + 'griesemer/fasta/GRCh38_UTR_variants.fa'\n",
    "input_params.model_weight = datadir + 'nnc_logs/seq_len_5000/weights/epoch_11_weights_model'\n",
    "\n",
    "input_params.output_dir = datadir + 'griesemer/embeddings/seq_len_5000/'\n",
    "input_params.batch_size = 1\n",
    "\n",
    "input_params.test = True\n",
    "input_params.get_embeddings = True\n",
    "input_params.get_motif_acc = False"
   ]
  },
  {
   "cell_type": "code",
   "execution_count": 40,
   "id": "ccdda654-ad2f-4c7e-9d64-336cc59145bb",
   "metadata": {
    "tags": []
   },
   "outputs": [],
   "source": [
    "input_params.fasta = datadir + 'siegel_2022/Beas2B.fa'\n",
    "input_params.model_weight = datadir + 'nnc_logs/seq_len_5000/weights/epoch_11_weights_model'\n",
    "\n",
    "input_params.output_dir = datadir + 'siegel_2022/embeddings_strand_aware/seq_len_5000/'\n",
    "input_params.batch_size = 1\n",
    "\n",
    "input_params.test = True\n",
    "input_params.get_embeddings = True\n",
    "input_params.get_motif_acc = False"
   ]
  },
  {
   "cell_type": "code",
   "execution_count": 33,
   "id": "4b8a517b-8c91-4b24-9f7e-80f4a9ba4e8e",
   "metadata": {
    "tags": []
   },
   "outputs": [],
   "source": [
    "input_params.fasta = datadir + 'slutskin_2019/fasta_reversecompl.fa'\n",
    "input_params.model_weight = datadir + 'nnc_logs/seq_len_5000/weights/epoch_11_weights_model'\n",
    "\n",
    "input_params.output_dir = datadir + 'slutskin_2019/embeddings_reversecompl/seq_len_5000/'\n",
    "input_params.batch_size = 1\n",
    "\n",
    "input_params.test = True\n",
    "input_params.get_embeddings = True\n",
    "input_params.get_motif_acc = False"
   ]
  },
  {
   "cell_type": "code",
   "execution_count": 26,
   "id": "33a3e0f3-6619-4616-bd26-a0ef7a5bbd8b",
   "metadata": {
    "tags": []
   },
   "outputs": [],
   "source": [
    "seq_df = pd.read_csv(input_params.fasta + '.fai', header=None, sep='\\t', usecols=[0], names=['seq_name'])\n",
    "\n",
    "seq_df['species_name'] = seq_df.seq_name.apply(lambda x:x.split(':')[1])\n",
    "\n",
    "if input_params.test:\n",
    "    seq_df = seq_df[seq_df.species_name=='Homo_sapiens']\n",
    "else:\n",
    "    seq_df = seq_df[seq_df.species_name!='Homo_sapiens']\n",
    "\n",
    "species_encoding = pd.read_csv(input_params.species_list, header=None).squeeze().to_dict()\n",
    "\n",
    "if not input_params.species_agnostic:\n",
    "    species_encoding = {species:idx for idx,species in species_encoding.items()}\n",
    "else:\n",
    "    species_encoding = {species:0 for _,species in species_encoding.items()}\n",
    "    \n",
    "species_encoding['Homo_sapiens'] = species_encoding['Pan_troglodytes']\n",
    "\n",
    "seq_df['species_label'] = seq_df.species_name.map(species_encoding)\n",
    "\n",
    "#seq_df = seq_df.sample(frac = 1., random_state = 1) #DO NOT SHUFFLE, otherwise too slow"
   ]
  },
  {
   "cell_type": "code",
   "execution_count": 11,
   "id": "8ab767db-1b19-492d-a8d2-65681d2c33c4",
   "metadata": {
    "tags": []
   },
   "outputs": [],
   "source": [
    "refseq = pysam.FastaFile(input_params.fasta).fetch(seq_df.seq_name.iloc[0]).upper()"
   ]
  },
  {
   "cell_type": "code",
   "execution_count": 134,
   "id": "8e2693df-3f6a-49c0-a366-6dbbb5f39a82",
   "metadata": {
    "tags": []
   },
   "outputs": [],
   "source": [
    "utr_name = seq_df.iloc[0].seq_name.split(':')[0]\n",
    "\n",
    "seqs = [(f'{utr_name}:ref',refseq)]\n",
    "\n",
    "for seq_idx,ref in enumerate(refseq):\n",
    "    for alt in 'ACGT':\n",
    "        if alt!=ref:\n",
    "            altseq = list(refseq)\n",
    "            altseq[seq_idx] = alt\n",
    "            seqs.append((f'{utr_name}:{seq_idx}:{ref}:{alt}',''.join(altseq)))"
   ]
  },
  {
   "cell_type": "code",
   "execution_count": 135,
   "id": "c11594c3-aba8-4145-8671-7e41e32df79d",
   "metadata": {
    "tags": []
   },
   "outputs": [],
   "source": [
    "seq_df = pd.DataFrame(seqs,columns=['seq_name','seq'])\n",
    "seq_df['species_label'] = species_encoding['Pan_troglodytes']\n",
    "seq_df['species_name'] = 'Homo_sapiens'"
   ]
  },
  {
   "cell_type": "code",
   "execution_count": 136,
   "id": "564087d5-c915-4b46-863f-76c62fff0e68",
   "metadata": {
    "tags": []
   },
   "outputs": [],
   "source": [
    "input_params.fasta = None"
   ]
  },
  {
   "cell_type": "code",
   "execution_count": 185,
   "id": "be76939f-fe57-4317-9249-476c4c991c5d",
   "metadata": {
    "tags": []
   },
   "outputs": [],
   "source": [
    "#seq_df = seq_df.iloc[:100]\n",
    "seq_df = seq_df.sample(n=1000,random_state=1)"
   ]
  },
  {
   "cell_type": "code",
   "execution_count": 27,
   "id": "98ce1c8b-d70c-4fe7-ac01-e86fd30a8dea",
   "metadata": {
    "tags": []
   },
   "outputs": [],
   "source": [
    "if not input_params.test:\n",
    "    \n",
    "    #Train and Validate\n",
    "    \n",
    "    seq_transform = sequence_encoders.SequenceDataEncoder(seq_len = input_params.seq_len, total_len = input_params.seq_len, \n",
    "                                                      mask_rate = 0.15, split_mask = True)\n",
    "    \n",
    "    N_train = int(len(seq_df)*(1-input_params.val_fraction))       \n",
    "    train_df, test_df = seq_df.iloc[:N_train], seq_df.iloc[N_train:]\n",
    "                  \n",
    "    train_fold = np.repeat(list(range(input_params.train_splits)),repeats = N_train // input_params.train_splits + 1 )\n",
    "    train_df['train_fold'] = train_fold[:N_train]\n",
    "\n",
    "    train_dataset = SeqDataset(input_params.fasta, train_df, transform = seq_transform)\n",
    "    train_dataloader = DataLoader(dataset = train_dataset, batch_size = input_params.batch_size, num_workers = 2, collate_fn = None, shuffle = False)\n",
    "\n",
    "    test_dataset = SeqDataset(input_params.fasta, test_df, transform = seq_transform)\n",
    "    test_dataloader = DataLoader(dataset = test_dataset, batch_size = input_params.batch_size, num_workers = 2, collate_fn = None, shuffle = False)\n",
    "\n",
    "elif input_params.get_embeddings or input_params.get_motif_acc:\n",
    "    \n",
    "    #Test and get sequence embeddings (MPRA)\n",
    "    \n",
    "    seq_transform = sequence_encoders.RollingMasker(mask_stride = 50, frame = 0)\n",
    "        \n",
    "    test_dataset = SeqDataset(input_params.fasta, seq_df, transform = seq_transform)\n",
    "    test_dataloader = DataLoader(dataset = test_dataset, batch_size = 1, num_workers = 1, collate_fn = None, shuffle = False)\n",
    "    \n",
    "else:\n",
    "    \n",
    "    #Test\n",
    "    \n",
    "    seq_transform = sequence_encoders.SequenceDataEncoder(seq_len = input_params.seq_len, total_len = input_params.seq_len, \n",
    "                                                      mask_rate = 0.15, split_mask = True, frame = 0)\n",
    "    \n",
    "    test_dataset = SeqDataset(input_params.fasta, seq_df, transform = seq_transform)\n",
    "    test_dataloader = DataLoader(dataset = test_dataset, batch_size = input_params.batch_size, num_workers = 2, collate_fn = None, shuffle = False)"
   ]
  },
  {
   "cell_type": "code",
   "execution_count": 28,
   "id": "ad86179c-11e5-4b3b-a389-b8ab1b00bdbe",
   "metadata": {
    "tags": []
   },
   "outputs": [],
   "source": [
    "species_encoder = SpecAdd(embed = True, encoder = 'label', d_model = input_params.d_model)\n",
    "\n",
    "model = DSSResNetEmb(d_input = 5, d_output = 5, d_model = input_params.d_model, n_layers = input_params.n_layers, \n",
    "                     dropout = input_params.dropout, embed_before = True, species_encoder = species_encoder)\n",
    "\n",
    "model = model.to(device) \n",
    "\n",
    "model_params = [p for p in model.parameters() if p.requires_grad]\n",
    "\n",
    "optimizer = torch.optim.Adam(model_params, lr = input_params.learning_rate, weight_decay = input_params.weight_decay)"
   ]
  },
  {
   "cell_type": "code",
   "execution_count": 29,
   "id": "ec227158-c405-4dc7-8f6a-38a83009d725",
   "metadata": {},
   "outputs": [],
   "source": [
    "last_epoch = 0\n",
    "\n",
    "if input_params.model_weight:\n",
    "\n",
    "    if torch.cuda.is_available():\n",
    "        #load on gpu\n",
    "        model.load_state_dict(torch.load(input_params.model_weight))\n",
    "        if input_params.optimizer_weight:\n",
    "            optimizer.load_state_dict(torch.load(input_params.optimizer_weight))\n",
    "    else:\n",
    "        #load on cpu\n",
    "        model.load_state_dict(torch.load(input_params.model_weight, map_location=torch.device('cpu')))\n",
    "        if input_params.optimizer_weight:\n",
    "            optimizer.load_state_dict(torch.load(input_params.optimizer_weight, map_location=torch.device('cpu')))\n",
    "\n",
    "    last_epoch = int(input_params.model_weight.split('_')[-3]) #infer previous epoch from input_params.model_weight\n",
    "\n",
    "weights_dir = os.path.join(input_params.output_dir, 'weights') #dir to save model weights at save_at epochs\n",
    "\n",
    "if input_params.save_at:\n",
    "    os.makedirs(weights_dir, exist_ok = True)"
   ]
  },
  {
   "cell_type": "code",
   "execution_count": 30,
   "id": "9f68efaa-d4a6-424f-a169-6d0d9046ec9e",
   "metadata": {
    "tags": []
   },
   "outputs": [],
   "source": [
    "def metrics_to_str(metrics):\n",
    "    loss, total_acc, masked_acc = metrics\n",
    "    return f'loss: {loss:.4}, total acc: {total_acc:.3f}, masked acc: {masked_acc:.3f}'"
   ]
  },
  {
   "cell_type": "code",
   "execution_count": 31,
   "id": "fd086013-fd62-4964-8ccc-8b9d928d727d",
   "metadata": {
    "tags": []
   },
   "outputs": [
    {
     "name": "stdout",
     "output_type": "stream",
     "text": [
      "EPOCH 11: Test/Inference...\n",
      "epoch 11 - test, loss: 1.192, total acc: 0.961, masked acc: 0.445\n",
      "\n",
      "peak GPU memory allocation: 15669 Mb\n",
      "Done\n"
     ]
    }
   ],
   "source": [
    "from IPython.display import clear_output\n",
    "\n",
    "clear_output()\n",
    "\n",
    "#from utils.misc import print    #print function that displays time\n",
    "\n",
    "if not input_params.test:\n",
    "\n",
    "    for epoch in range(last_epoch+1, input_params.tot_epochs+1):\n",
    "\n",
    "        print(f'EPOCH {epoch}: Training...')\n",
    "\n",
    "        train_dataset.seq_df = train_df[train_df.train_fold == (epoch-1) % input_params.train_splits]\n",
    "        print(f'using train samples: {list(train_dataset.seq_df.index[[0,-1]])}')\n",
    "\n",
    "        train_metrics = train_eval.model_train(model, optimizer, train_dataloader, device,\n",
    "                            silent = False)\n",
    "\n",
    "        print(f'epoch {epoch} - train, {metrics_to_str(train_metrics)}')\n",
    "\n",
    "        if epoch in input_params.save_at: #save model weights\n",
    "\n",
    "            misc.save_model_weights(model, optimizer, weights_dir, epoch)\n",
    "\n",
    "        if input_params.val_fraction>0 and ( epoch==input_params.tot_epochs or\n",
    "                            (input_params.validate_every and epoch%input_params.validate_every==0)):\n",
    "\n",
    "            print(f'EPOCH {epoch}: Validating...')\n",
    "\n",
    "            val_metrics, *_ =  train_eval.model_eval(model, optimizer, test_dataloader, device,\n",
    "                    silent = False)\n",
    "\n",
    "            print(f'epoch {epoch} - validation, {metrics_to_str(val_metrics)}')\n",
    "            \n",
    "else:\n",
    "\n",
    "    print(f'EPOCH {last_epoch}: Test/Inference...')\n",
    "\n",
    "    test_metrics, test_embeddings, motif_probas =  train_eval.model_eval(model, optimizer, test_dataloader, device, \n",
    "                                                          get_embeddings = input_params.get_embeddings, \n",
    "                                                          get_motif_acc = input_params.get_motif_acc,\n",
    "                                                          silent = True)\n",
    "    \n",
    "    \n",
    "\n",
    "    print(f'epoch {last_epoch} - test, {metrics_to_str(test_metrics)}')\n",
    "\n",
    "    if input_params.get_embeddings:\n",
    "        \n",
    "        os.makedirs(input_params.output_dir, exist_ok = True)\n",
    "\n",
    "        with open(input_params.output_dir + '/embeddings.pickle', 'wb') as f:\n",
    "            #test_embeddings = np.vstack(test_embeddings)\n",
    "            pickle.dump(test_embeddings,f)\n",
    "            pickle.dump(seq_df.seq_name.tolist(),f)\n",
    "            \n",
    "    if input_params.get_motif_acc:\n",
    "        \n",
    "        os.makedirs(input_params.output_dir, exist_ok = True)\n",
    "\n",
    "        with open(input_params.output_dir + '/probas.pickle', 'wb') as f:\n",
    "            pickle.dump(motif_probas, f) #seq_index,motif,motif_start,avg_target_proba\n",
    "\n",
    "print()\n",
    "print(f'peak GPU memory allocation: {round(torch.cuda.max_memory_allocated(device)/1024/1024)} Mb')\n",
    "print('Done')"
   ]
  },
  {
   "cell_type": "code",
   "execution_count": null,
   "id": "c5b81f5c-05ea-40af-8fb8-188767a21030",
   "metadata": {},
   "outputs": [],
   "source": []
  },
  {
   "cell_type": "code",
   "execution_count": null,
   "id": "4c5b8d77-e350-4955-b59a-b6f6760762c8",
   "metadata": {},
   "outputs": [],
   "source": []
  },
  {
   "cell_type": "code",
   "execution_count": null,
   "id": "7f628736-c0d4-4bf1-8322-344911e2e69f",
   "metadata": {},
   "outputs": [],
   "source": []
  },
  {
   "cell_type": "code",
   "execution_count": null,
   "id": "c389ecc6-0c85-4d77-a04f-14d8eb1192bf",
   "metadata": {},
   "outputs": [],
   "source": []
  },
  {
   "cell_type": "code",
   "execution_count": 18,
   "id": "424e2751-991e-48dc-9a8c-fbe0d673bad2",
   "metadata": {
    "tags": []
   },
   "outputs": [],
   "source": [
    "seq_transform = sequence_encoders.RollingMasker(mask_stride = 50, frame = 0)\n",
    "     \n",
    "val_fasta = datadir + 'fasta/240_mammals/240_mammals.shuffled.fa'\n",
    "val_df = pd.read_csv(val_fasta + '.fai', header=None, sep='\\t', usecols=[0], names=['seq_name'])\n",
    "val_df['species_name'] = val_df.seq_name.apply(lambda x:x.split(':')[1])\n",
    "val_df['species_label'] = 181\n",
    "\n",
    "val_df = val_df[val_df.species_name=='Pan_troglodytes'].sample(n=1000, random_state=1)\n",
    "\n",
    "val_dataset = SeqDataset(val_fasta, val_df, transform = seq_transform)\n",
    "val_dataloader = DataLoader(dataset = val_dataset, batch_size = 1, num_workers = 1, collate_fn = None, shuffle = False)"
   ]
  },
  {
   "cell_type": "code",
   "execution_count": 19,
   "id": "7bb3411d-4df5-4195-ae33-0501c595e593",
   "metadata": {
    "tags": []
   },
   "outputs": [
    {
     "name": "stderr",
     "output_type": "stream",
     "text": [
      "/data/nasif12/home_if12/l_vilov/workspace/species-aware-DNA-LM/mammals_model/models/dss.py:335: UserWarning: Casting complex values to real discards the imaginary part (Triggered internally at  /opt/conda/conda-bld/pytorch_1639180487213/work/aten/src/ATen/native/Copy.cpp:244.)\n",
      "  return einsum('chn,hnl->chl', W, S).float(), state                   # [C H L]\n"
     ]
    },
    {
     "name": "stdout",
     "output_type": "stream",
     "text": [
      "Before temperature - NLL: 1.664, ECE: 0.248\n",
      "Optimal temperature: 2.710\n",
      "After temperature - NLL: 1.414, ECE: 0.041\n"
     ]
    }
   ],
   "source": [
    "from helpers.temperature_scaling import ModelWithTemperature\n",
    "\n",
    "scaled_model = ModelWithTemperature(model)\n",
    "scaled_model.set_temperature(val_dataloader);"
   ]
  },
  {
   "cell_type": "code",
   "execution_count": 22,
   "id": "e5c892ef-80b4-4399-ad98-5fa715d2f155",
   "metadata": {
    "tags": []
   },
   "outputs": [],
   "source": [
    "input_params.temperature = scaled_model.temperature"
   ]
  },
  {
   "cell_type": "code",
   "execution_count": null,
   "id": "97fa34f8-7f27-4be4-b562-5b684365ee02",
   "metadata": {},
   "outputs": [],
   "source": []
  }
 ],
 "metadata": {
  "kernelspec": {
   "display_name": "Python [conda env:miniconda3-svilov-mlm]",
   "language": "python",
   "name": "conda-env-miniconda3-svilov-mlm-py"
  },
  "language_info": {
   "codemirror_mode": {
    "name": "ipython",
    "version": 3
   },
   "file_extension": ".py",
   "mimetype": "text/x-python",
   "name": "python",
   "nbconvert_exporter": "python",
   "pygments_lexer": "ipython3",
   "version": "3.9.16"
  }
 },
 "nbformat": 4,
 "nbformat_minor": 5
}
