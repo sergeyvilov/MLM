{
 "cells": [
  {
   "cell_type": "code",
   "execution_count": 1,
   "id": "ae43e306-e5f1-4831-bb06-cecdb288fd12",
   "metadata": {
    "tags": []
   },
   "outputs": [],
   "source": [
    "import pysam\n",
    "import pandas as pd\n",
    "\n",
    "import torch\n",
    "from torch.utils.data import DataLoader, Dataset\n",
    "from tqdm.notebook import tqdm\n",
    "\n",
    "from encoding_utils import sequence_encoders\n",
    "\n",
    "%load_ext autoreload\n",
    "%autoreload 2"
   ]
  },
  {
   "cell_type": "code",
   "execution_count": 2,
   "id": "8be2f56b-e9fb-4abc-9339-a335bc412afa",
   "metadata": {
    "tags": []
   },
   "outputs": [],
   "source": [
    "import helpers.models as models            #model architecture\n",
    "import helpers.train_eval as train_eval    #train and evaluation\n",
    "import helpers.misc as misc                #miscellaneous functions"
   ]
  },
  {
   "cell_type": "code",
   "execution_count": 3,
   "id": "2da57b52-7d6a-4311-ba88-55ccb0c3dbdd",
   "metadata": {
    "tags": []
   },
   "outputs": [],
   "source": [
    "from models.spec_dss import DSSResNet, DSSResNetEmb, SpecAdd"
   ]
  },
  {
   "cell_type": "code",
   "execution_count": 4,
   "id": "5a60afc4-a25d-4d59-b106-a2965fcd5722",
   "metadata": {
    "tags": []
   },
   "outputs": [],
   "source": [
    "data_dir = '/s/project/mll/sergey/effect_prediction/MLM/fasta/'\n",
    "\n",
    "fasta_fa = data_dir + '240_mammals/240_mammals.fa'\n",
    "fasta_fai = data_dir + '240_mammals/240_mammals.fa.fai'"
   ]
  },
  {
   "cell_type": "code",
   "execution_count": 5,
   "id": "597bf5fb-c432-4eec-93da-17d6f10af4e5",
   "metadata": {
    "tags": []
   },
   "outputs": [],
   "source": [
    "class SeqDataset(Dataset):\n",
    "    \n",
    "    def __init__(self, fasta_fa, seq_df, transform):\n",
    "        \n",
    "        self.fasta = pysam.FastaFile(fasta_fa)\n",
    "        \n",
    "        self.seq_df = seq_df\n",
    "        self.transform = transform\n",
    "        \n",
    "    def __len__(self):\n",
    "        \n",
    "        return len(self.seq_df)\n",
    "    \n",
    "    def __getitem__(self, idx):\n",
    "        \n",
    "        seq = self.fasta.fetch(seq_df.iloc[idx].seq_name)\n",
    "        \n",
    "        species_label = seq_df.iloc[idx].species_label\n",
    "        \n",
    "        masked_sequence, target_labels_masked, target_labels, mask, _ = self.transform(seq, motifs = {})\n",
    "        \n",
    "        masked_sequence = (masked_sequence, species_label)\n",
    "        \n",
    "        return masked_sequence, target_labels_masked, target_labels, mask\n",
    "    \n",
    "    def close(self):\n",
    "        self.fasta.close()"
   ]
  },
  {
   "cell_type": "code",
   "execution_count": 6,
   "id": "33a3e0f3-6619-4616-bd26-a0ef7a5bbd8b",
   "metadata": {
    "tags": []
   },
   "outputs": [],
   "source": [
    "seq_df = pd.read_csv(fasta_fai, header=None, sep='\\t', usecols=[0], names=['seq_name'])\n",
    "seq_df['species_name'] = seq_df.seq_name.apply(lambda x:x.split(':')[1])"
   ]
  },
  {
   "cell_type": "code",
   "execution_count": 7,
   "id": "34a3bb45-0bbb-4bed-8db1-12501ed1adda",
   "metadata": {
    "tags": []
   },
   "outputs": [],
   "source": [
    "species = seq_df.species_name.drop_duplicates().sort_values().tolist()\n",
    "species_encoding = {species_name:species_label for species_label, species_name in enumerate(species)}\n",
    "seq_df['species_label'] = seq_df.species_name.map(species_encoding)"
   ]
  },
  {
   "cell_type": "code",
   "execution_count": 8,
   "id": "35d7fff2-25bc-445a-af81-5649c1ff2356",
   "metadata": {
    "tags": []
   },
   "outputs": [],
   "source": [
    "N_train, N_test = 10000, 5000\n",
    "\n",
    "train_seq, test_seq = seq_df.iloc[:N_train],seq_df.iloc[N_train:N_train+N_test]"
   ]
  },
  {
   "cell_type": "code",
   "execution_count": 9,
   "id": "6091b5ab-dcdf-4709-97b9-a8dfd0896e93",
   "metadata": {
    "tags": []
   },
   "outputs": [],
   "source": [
    "seq_transform = sequence_encoders.SequenceDataEncoder(seq_len=200, total_len=200, mask_rate=0.15, split_mask=True,)"
   ]
  },
  {
   "cell_type": "code",
   "execution_count": 10,
   "id": "5c64f57e-fe38-46e1-bf1b-a2ed384ff047",
   "metadata": {
    "tags": []
   },
   "outputs": [],
   "source": [
    "train_dataset = SeqDataset(fasta_fa, train_seq, transform = seq_transform)\n",
    "test_dataset = SeqDataset(fasta_fa, test_seq, transform = seq_transform)"
   ]
  },
  {
   "cell_type": "code",
   "execution_count": 11,
   "id": "3a6cbdb1-f9d1-45d9-beb8-87d56fa97f2d",
   "metadata": {
    "tags": []
   },
   "outputs": [],
   "source": [
    "train_dataloader = DataLoader(dataset = train_dataset, batch_size = 16, num_workers = 4, collate_fn = None, shuffle = None)\n",
    "test_dataloader = DataLoader(dataset = test_dataset, batch_size = 16, num_workers = 4, collate_fn = None, shuffle = None)"
   ]
  },
  {
   "cell_type": "code",
   "execution_count": 12,
   "id": "be467bfd-d083-4c9a-b6de-00fddc076c8e",
   "metadata": {
    "tags": []
   },
   "outputs": [],
   "source": [
    "species_encoder = SpecAdd(embed = True, encoder = 'label', d_model = 128)"
   ]
  },
  {
   "cell_type": "code",
   "execution_count": 13,
   "id": "ad86179c-11e5-4b3b-a389-b8ab1b00bdbe",
   "metadata": {
    "tags": []
   },
   "outputs": [],
   "source": [
    "model = DSSResNetEmb(d_input = 5, d_output = 5, d_model = 128, n_layers = 4, \n",
    "                     dropout = 0.1, embed_before = True, species_encoder = species_encoder)"
   ]
  },
  {
   "cell_type": "code",
   "execution_count": 14,
   "id": "b9676b72-6f0c-4f59-a079-95dd145b3062",
   "metadata": {
    "tags": []
   },
   "outputs": [],
   "source": [
    "criterion = torch.nn.CrossEntropyLoss(reduction=\"mean\")\n",
    "\n",
    "x, y_mask, y, _  = next(iter(train_dataloader))"
   ]
  },
  {
   "cell_type": "code",
   "execution_count": 15,
   "id": "2c7cd4f6-2744-4250-bfa3-0bce1b478c4a",
   "metadata": {
    "tags": []
   },
   "outputs": [
    {
     "name": "stderr",
     "output_type": "stream",
     "text": [
      "/data/nasif12/home_if12/l_vilov/workspace/species-aware-DNA-LM/mammals_model/models/dss.py:335: UserWarning: Casting complex values to real discards the imaginary part (Triggered internally at /opt/conda/conda-bld/pytorch_1678402312629/work/aten/src/ATen/native/Copy.cpp:276.)\n",
      "  return einsum('chn,hnl->chl', W, S).float(), state                   # [C H L]\n",
      "/data/ouga/home/ag_gagneur/l_vilov/miniconda3/envs/svilov-spade/lib/python3.10/site-packages/torch/nn/functional.py:1338: UserWarning: dropout2d: Received a 3D input to dropout2d and assuming that channel-wise 1D dropout behavior is desired - input is interpreted as shape (N, C, L), where C is the channel dim. This behavior will change in a future release to interpret the input as one without a batch dimension, i.e. shape (C, H, W). To maintain the 1D channel-wise dropout behavior, please switch to using dropout1d instead.\n",
      "  warnings.warn(\"dropout2d: Received a 3D input to dropout2d and assuming that channel-wise \"\n"
     ]
    },
    {
     "data": {
      "text/plain": [
       "tensor([[2, 4, 2,  ..., 4, 4, 0],\n",
       "        [1, 3, 1,  ..., 4, 0, 0],\n",
       "        [2, 0, 0,  ..., 0, 0, 0],\n",
       "        ...,\n",
       "        [1, 1, 2,  ..., 4, 4, 1],\n",
       "        [1, 1, 1,  ..., 4, 4, 0],\n",
       "        [1, 1, 2,  ..., 1, 4, 2]])"
      ]
     },
     "execution_count": 15,
     "metadata": {},
     "output_type": "execute_result"
    }
   ],
   "source": [
    "\n",
    "logits, embeddings = model(x[0],x[1])\n",
    "\n",
    "\n",
    "criterion(logits, y_mask)\n",
    "\n",
    "torch.argmax(logits, dim=1)"
   ]
  },
  {
   "cell_type": "code",
   "execution_count": 3,
   "id": "4b6689f7-2379-4428-8258-fbeadb6508c5",
   "metadata": {
    "tags": []
   },
   "outputs": [],
   "source": [
    "fasta = pysam.FastaFile(train_fasta)"
   ]
  },
  {
   "cell_type": "code",
   "execution_count": 12,
   "id": "d6890584-f7ab-4c4e-a86e-059a36f0f2e9",
   "metadata": {
    "tags": []
   },
   "outputs": [],
   "source": [
    "seq = fasta.fetch('ENST00000318911.5_utr3_6_0_chr8_144097337_f:Acinonyx_jubatus:LLWD01000002.1:189')"
   ]
  },
  {
   "cell_type": "code",
   "execution_count": 14,
   "id": "6985aae3-da49-4be6-9071-ee0cc99143a9",
   "metadata": {
    "tags": []
   },
   "outputs": [],
   "source": [
    "seq = 'CCCTGCCCAACGTCTGCTTGCCGTCTTGCCTGAACAGGCCCGCAAGCCAAGGAGCCACCCTGGACCTGTTCAGGCCTCAGCTGGCCCGCTTGGCCAAGCTCCTCTTTCTTTGGGACAAGAGGGAAAGGGGCAAGAGACCAGGTTCTAGCTCCAGATCCTTCAGCACCCATCATGGAAATAAATTAAGTT'"
   ]
  },
  {
   "cell_type": "code",
   "execution_count": 39,
   "id": "bcd0d624-1ce8-4c63-8594-855ddd01c4e2",
   "metadata": {
    "tags": []
   },
   "outputs": [],
   "source": [
    "encoder = sequence_encoders.SequenceDataEncoder(seq_len=200,\n",
    "                total_len=200,\n",
    "                mask_rate=0.15,\n",
    "                split_mask=True,)"
   ]
  },
  {
   "cell_type": "code",
   "execution_count": 41,
   "id": "8ea92835-cadd-4827-bd50-eaa08bd2554d",
   "metadata": {
    "tags": []
   },
   "outputs": [
    {
     "name": "stdout",
     "output_type": "stream",
     "text": [
      "[0 0 0 0 0 0 0 0 0 0 0 0 0 0 0 0 0 0 0 0 0 0 0 0 0 0 0 0 0 0 0 0 0 1 0 0 0\n",
      " 0 0 0 0 0 0 0 0 0 0 0 0 0 0 0 0 1 0 0 0 0 0 0 0 1 0 0 0 0 0 0 0 0 0 0 0 1\n",
      " 0 0 0 0 0 0 0 0 0 0 0 0 0 1 1 0 1 0 0 0 0 0 0 0 0 1 0 0 0 0 0 0 1 0 0 0 0\n",
      " 0 0 0 0 0 1 1 0 1 0 0 0 0 0 1 0 1 0 0 1 0 1 0 0 0 0 0 0 1 0 0 0 0 0 1 0 0\n",
      " 0 0 0 0 0 0 0 0 0 1 0 0 0 0 0 0 0 0 0 0 0 0 0 0 0 0 0 0 0 0 0 0 0 0 0 0 0\n",
      " 0 0 0 0]\n"
     ]
    }
   ],
   "source": [
    "masked_sequence, target_labels_masked, target_labels, mask, motif_mask = encoder.__call__(seq, motifs=None)"
   ]
  },
  {
   "cell_type": "code",
   "execution_count": 9,
   "id": "9130583e-0a92-4b3a-974d-7db28e8466a0",
   "metadata": {
    "tags": []
   },
   "outputs": [
    {
     "data": {
      "text/plain": [
       "torch.Size([23])"
      ]
     },
     "execution_count": 9,
     "metadata": {},
     "output_type": "execute_result"
    }
   ],
   "source": [
    "target_labels_masked.shape"
   ]
  },
  {
   "cell_type": "code",
   "execution_count": 10,
   "id": "a2b0394a-0fca-44dc-bb4c-ef4e92f5f08c",
   "metadata": {
    "tags": []
   },
   "outputs": [
    {
     "data": {
      "text/plain": [
       "tensor([-100, -100, -100, -100, -100, -100, -100, -100, -100, -100, -100, -100,\n",
       "        -100, -100, -100, -100, -100, -100, -100, -100, -100, -100, -100])"
      ]
     },
     "execution_count": 10,
     "metadata": {},
     "output_type": "execute_result"
    }
   ],
   "source": [
    "target_labels_masked"
   ]
  },
  {
   "cell_type": "code",
   "execution_count": 11,
   "id": "820cbfcb-dfa4-4ab1-8055-f3ecf6f6f4a7",
   "metadata": {
    "tags": []
   },
   "outputs": [],
   "source": [
    "from utils.sequence_operations import *"
   ]
  },
  {
   "cell_type": "code",
   "execution_count": 32,
   "id": "1ec57f64-8650-409b-9918-0e57e92c2116",
   "metadata": {
    "tags": []
   },
   "outputs": [],
   "source": [
    "seq_labels, seq_one_hot = one_hot_encode(seq)"
   ]
  },
  {
   "cell_type": "code",
   "execution_count": 37,
   "id": "f58a730e-1250-481f-9709-d38324af8925",
   "metadata": {
    "tags": []
   },
   "outputs": [],
   "source": [
    "masked_seq, mask = random_masking(seq_one_hot,\n",
    "                            mask_rate=0.15,\n",
    "                            split_mask=False,\n",
    "                            frame=0)"
   ]
  },
  {
   "cell_type": "code",
   "execution_count": 38,
   "id": "174afb64-b8fc-4dee-8449-207ae932532c",
   "metadata": {
    "tags": []
   },
   "outputs": [
    {
     "data": {
      "text/plain": [
       "array([0, 0, 0, 1, 0, 0, 1, 1, 1, 0, 0, 0, 0, 0, 0, 0, 0, 0, 0, 0, 0, 0,\n",
       "       0, 0, 0, 0, 0, 0, 0, 0, 0, 0, 0, 0, 1, 1, 0, 0, 0, 0, 0, 0, 0, 0,\n",
       "       0, 0, 0, 0, 1, 0, 0, 0, 0, 0, 0, 0, 0, 0, 0, 0, 0, 1, 0, 0, 0, 0,\n",
       "       0, 0, 0, 0, 0, 0, 0, 0, 0, 0, 0, 0, 0, 0, 1, 0, 0, 0, 0, 0, 0, 0,\n",
       "       0, 0, 0, 0, 1, 0, 1, 0, 0, 1, 1, 0, 0, 0, 0, 0, 0, 0, 0, 1, 0, 0,\n",
       "       0, 1, 0, 0, 1, 0, 0, 0, 0, 0, 0, 0, 0, 0, 0, 0, 0, 0, 0, 0, 0, 0,\n",
       "       0, 0, 0, 1, 0, 1, 0, 0, 0, 0, 0, 0, 0, 1, 0, 0, 1, 1, 0, 0, 0, 0,\n",
       "       0, 0, 0, 0, 0, 0, 1, 0, 0, 0, 0, 0, 0, 1, 0, 0, 1, 1, 1, 0, 0, 0,\n",
       "       0, 0, 0, 0, 0, 1, 0, 0, 0, 0, 0, 0, 1])"
      ]
     },
     "execution_count": 38,
     "metadata": {},
     "output_type": "execute_result"
    }
   ],
   "source": [
    "mask"
   ]
  },
  {
   "cell_type": "code",
   "execution_count": null,
   "id": "d98947c0-6347-46f8-8ce3-5b88fdda4500",
   "metadata": {},
   "outputs": [],
   "source": []
  }
 ],
 "metadata": {
  "kernelspec": {
   "display_name": "Python [conda env:miniconda3-svilov-spade]",
   "language": "python",
   "name": "conda-env-miniconda3-svilov-spade-py"
  },
  "language_info": {
   "codemirror_mode": {
    "name": "ipython",
    "version": 3
   },
   "file_extension": ".py",
   "mimetype": "text/x-python",
   "name": "python",
   "nbconvert_exporter": "python",
   "pygments_lexer": "ipython3",
   "version": "3.10.9"
  }
 },
 "nbformat": 4,
 "nbformat_minor": 5
}
