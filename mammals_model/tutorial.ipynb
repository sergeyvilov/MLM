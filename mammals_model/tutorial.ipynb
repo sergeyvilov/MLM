{
 "cells": [
  {
   "cell_type": "code",
   "execution_count": 1,
   "id": "9ef08229-5db6-424e-8cc6-54bf176a8dc0",
   "metadata": {
    "tags": []
   },
   "outputs": [
    {
     "name": "stderr",
     "output_type": "stream",
     "text": [
      "Intel(R) Extension for Scikit-learn* enabled (https://github.com/intel/scikit-learn-intelex)\n"
     ]
    }
   ],
   "source": [
    "import itertools\n",
    "\n",
    "import numpy as np\n",
    "import pandas as pd\n",
    "\n",
    "from sklearnex import patch_sklearn\n",
    "patch_sklearn()\n",
    "\n",
    "import sklearn\n",
    "from sklearn.pipeline import make_pipeline\n",
    "from sklearn.model_selection import GroupKFold, GridSearchCV, RandomizedSearchCV, GroupShuffleSplit\n",
    "import sklearn.neural_network\n",
    "from sklearn.preprocessing import StandardScaler\n",
    "\n",
    "import matplotlib.pyplot as plt\n",
    "import matplotlib as mpl\n",
    "import seaborn as sns\n",
    "\n",
    "from statannotations.Annotator import Annotator\n",
    "\n",
    "from gensim.models import Word2Vec"
   ]
  },
  {
   "cell_type": "code",
   "execution_count": 2,
   "id": "c70c6f33-40a6-4ec3-b094-4b5c47b771d3",
   "metadata": {
    "tags": []
   },
   "outputs": [],
   "source": [
    "from IPython.display import Image\n",
    "from IPython.core.display import HTML "
   ]
  },
  {
   "cell_type": "code",
   "execution_count": 3,
   "id": "4784e76b-6108-4a98-8726-4c0ecd35c1d1",
   "metadata": {
    "tags": []
   },
   "outputs": [],
   "source": [
    "data_dir = '/s/project/mll/sergey/effect_prediction/MLM/griesemer/'"
   ]
  },
  {
   "cell_type": "markdown",
   "id": "54f22e37-011e-4788-a038-719f49e0bb73",
   "metadata": {},
   "source": [
    "# Load data"
   ]
  },
  {
   "cell_type": "code",
   "execution_count": 17,
   "id": "0b71a28b-a07d-4696-9db0-1c8901df3d42",
   "metadata": {
    "tags": []
   },
   "outputs": [],
   "source": [
    "mpra_df = pd.read_csv(data_dir + 'mpra_df.tsv', sep='\\t') #sequence info"
   ]
  },
  {
   "cell_type": "code",
   "execution_count": 18,
   "id": "2b5867aa-050c-4389-bb69-9493d0b0e60a",
   "metadata": {
    "tags": []
   },
   "outputs": [],
   "source": [
    "mlm_embeddings = np.load(data_dir + \"embeddings/seq_len_5000/embeddings.npy\") #masked language model embeddings"
   ]
  },
  {
   "cell_type": "code",
   "execution_count": 36,
   "id": "f39f6b60-12a3-48aa-9a7b-8dab7d4c083c",
   "metadata": {
    "tags": []
   },
   "outputs": [
    {
     "data": {
      "text/html": [
       "<div>\n",
       "<style scoped>\n",
       "    .dataframe tbody tr th:only-of-type {\n",
       "        vertical-align: middle;\n",
       "    }\n",
       "\n",
       "    .dataframe tbody tr th {\n",
       "        vertical-align: top;\n",
       "    }\n",
       "\n",
       "    .dataframe thead th {\n",
       "        text-align: right;\n",
       "    }\n",
       "</style>\n",
       "<table border=\"1\" class=\"dataframe\">\n",
       "  <thead>\n",
       "    <tr style=\"text-align: right;\">\n",
       "      <th></th>\n",
       "      <th>oligo_id</th>\n",
       "      <th>seq</th>\n",
       "      <th>min_free_energy</th>\n",
       "      <th>mpra_variant_id</th>\n",
       "      <th>ref_allele</th>\n",
       "      <th>alt_allele</th>\n",
       "      <th>gene_symbols</th>\n",
       "      <th>chrom</th>\n",
       "      <th>oligo_starts</th>\n",
       "      <th>oligo_ends</th>\n",
       "      <th>...</th>\n",
       "      <th>lfcSE_Ref_SKNSH</th>\n",
       "      <th>pvalue_Ref_SKNSH</th>\n",
       "      <th>padj_Ref_SKNSH</th>\n",
       "      <th>log2FoldChange_Alt_SKNSH</th>\n",
       "      <th>lfcSE_Alt_SKNSH</th>\n",
       "      <th>pvalue_Alt_SKNSH</th>\n",
       "      <th>padj_Alt_SKNSH</th>\n",
       "      <th>stop_codon_dist</th>\n",
       "      <th>group</th>\n",
       "      <th>Expression</th>\n",
       "    </tr>\n",
       "  </thead>\n",
       "  <tbody>\n",
       "    <tr>\n",
       "      <th>6</th>\n",
       "      <td>11_120356470_G_alt</td>\n",
       "      <td>GTGGCTCTTATGTGCCCAGGTGGTGTGGTCAGAGAGTGGATGGGCT...</td>\n",
       "      <td>-33.9</td>\n",
       "      <td>11_120356470_G</td>\n",
       "      <td>C</td>\n",
       "      <td>G</td>\n",
       "      <td>ARHGEF12</td>\n",
       "      <td>11</td>\n",
       "      <td>120356420</td>\n",
       "      <td>120356520</td>\n",
       "      <td>...</td>\n",
       "      <td>0,117082873</td>\n",
       "      <td>0,009557148</td>\n",
       "      <td>0,026791718</td>\n",
       "      <td>0,222661019</td>\n",
       "      <td>0,117645283</td>\n",
       "      <td>0,058404798</td>\n",
       "      <td>0,123769944</td>\n",
       "      <td>683.0</td>\n",
       "      <td>ARHGEF12</td>\n",
       "      <td>0.033228</td>\n",
       "    </tr>\n",
       "    <tr>\n",
       "      <th>7</th>\n",
       "      <td>11_120356470_G_ref</td>\n",
       "      <td>GTGGCTCTTATGTGCCCAGGTGGTGTGGTCAGAGAGTGGATGGGCT...</td>\n",
       "      <td>-35.1</td>\n",
       "      <td>11_120356470_G</td>\n",
       "      <td>C</td>\n",
       "      <td>G</td>\n",
       "      <td>ARHGEF12</td>\n",
       "      <td>11</td>\n",
       "      <td>120356420</td>\n",
       "      <td>120356520</td>\n",
       "      <td>...</td>\n",
       "      <td>0,117082873</td>\n",
       "      <td>0,009557148</td>\n",
       "      <td>0,026791718</td>\n",
       "      <td>0,222661019</td>\n",
       "      <td>0,117645283</td>\n",
       "      <td>0,058404798</td>\n",
       "      <td>0,123769944</td>\n",
       "      <td>683.0</td>\n",
       "      <td>ARHGEF12</td>\n",
       "      <td>0.145253</td>\n",
       "    </tr>\n",
       "    <tr>\n",
       "      <th>8</th>\n",
       "      <td>11_120356473_T_alt</td>\n",
       "      <td>GCTCTTATGTGCCCAGGTGGTGTGGTCAGAGAGTGGATGGGCTTCC...</td>\n",
       "      <td>-31.9</td>\n",
       "      <td>11_120356473_T</td>\n",
       "      <td>G</td>\n",
       "      <td>T</td>\n",
       "      <td>ARHGEF12</td>\n",
       "      <td>11</td>\n",
       "      <td>120356423</td>\n",
       "      <td>120356523</td>\n",
       "      <td>...</td>\n",
       "      <td>0,102805671</td>\n",
       "      <td>0,052414865</td>\n",
       "      <td>0,11308122</td>\n",
       "      <td>0,214577772</td>\n",
       "      <td>0,103220647</td>\n",
       "      <td>0,037633339</td>\n",
       "      <td>0,085874631</td>\n",
       "      <td>686.0</td>\n",
       "      <td>ARHGEF12</td>\n",
       "      <td>0.263987</td>\n",
       "    </tr>\n",
       "    <tr>\n",
       "      <th>9</th>\n",
       "      <td>11_120356473_T_ref</td>\n",
       "      <td>GCTCTTATGTGCCCAGGTGGTGTGGTCAGAGAGTGGATGGGCTTCC...</td>\n",
       "      <td>-31.9</td>\n",
       "      <td>11_120356473_T</td>\n",
       "      <td>G</td>\n",
       "      <td>T</td>\n",
       "      <td>ARHGEF12</td>\n",
       "      <td>11</td>\n",
       "      <td>120356423</td>\n",
       "      <td>120356523</td>\n",
       "      <td>...</td>\n",
       "      <td>0,102805671</td>\n",
       "      <td>0,052414865</td>\n",
       "      <td>0,11308122</td>\n",
       "      <td>0,214577772</td>\n",
       "      <td>0,103220647</td>\n",
       "      <td>0,037633339</td>\n",
       "      <td>0,085874631</td>\n",
       "      <td>686.0</td>\n",
       "      <td>ARHGEF12</td>\n",
       "      <td>0.303280</td>\n",
       "    </tr>\n",
       "    <tr>\n",
       "      <th>10</th>\n",
       "      <td>11_120356584_A_alt</td>\n",
       "      <td>ACATACTAAATAGCAGGCACTTGAAAATGGGTGTGTTTTCTTCCAT...</td>\n",
       "      <td>-22.9</td>\n",
       "      <td>11_120356584_A</td>\n",
       "      <td>G</td>\n",
       "      <td>A</td>\n",
       "      <td>ARHGEF12</td>\n",
       "      <td>11</td>\n",
       "      <td>120356534</td>\n",
       "      <td>120356634</td>\n",
       "      <td>...</td>\n",
       "      <td>0,273671744</td>\n",
       "      <td>1,82E-10</td>\n",
       "      <td>1,51E-09</td>\n",
       "      <td>-1,590228675</td>\n",
       "      <td>0,273585466</td>\n",
       "      <td>6,15E-09</td>\n",
       "      <td>4,42E-08</td>\n",
       "      <td>797.0</td>\n",
       "      <td>ARHGEF12</td>\n",
       "      <td>-0.931812</td>\n",
       "    </tr>\n",
       "  </tbody>\n",
       "</table>\n",
       "<p>5 rows × 85 columns</p>\n",
       "</div>"
      ],
      "text/plain": [
       "              oligo_id                                                seq  \\\n",
       "6   11_120356470_G_alt  GTGGCTCTTATGTGCCCAGGTGGTGTGGTCAGAGAGTGGATGGGCT...   \n",
       "7   11_120356470_G_ref  GTGGCTCTTATGTGCCCAGGTGGTGTGGTCAGAGAGTGGATGGGCT...   \n",
       "8   11_120356473_T_alt  GCTCTTATGTGCCCAGGTGGTGTGGTCAGAGAGTGGATGGGCTTCC...   \n",
       "9   11_120356473_T_ref  GCTCTTATGTGCCCAGGTGGTGTGGTCAGAGAGTGGATGGGCTTCC...   \n",
       "10  11_120356584_A_alt  ACATACTAAATAGCAGGCACTTGAAAATGGGTGTGTTTTCTTCCAT...   \n",
       "\n",
       "    min_free_energy mpra_variant_id ref_allele alt_allele gene_symbols  chrom  \\\n",
       "6             -33.9  11_120356470_G          C          G     ARHGEF12     11   \n",
       "7             -35.1  11_120356470_G          C          G     ARHGEF12     11   \n",
       "8             -31.9  11_120356473_T          G          T     ARHGEF12     11   \n",
       "9             -31.9  11_120356473_T          G          T     ARHGEF12     11   \n",
       "10            -22.9  11_120356584_A          G          A     ARHGEF12     11   \n",
       "\n",
       "    oligo_starts  oligo_ends  ... lfcSE_Ref_SKNSH pvalue_Ref_SKNSH  \\\n",
       "6      120356420   120356520  ...     0,117082873      0,009557148   \n",
       "7      120356420   120356520  ...     0,117082873      0,009557148   \n",
       "8      120356423   120356523  ...     0,102805671      0,052414865   \n",
       "9      120356423   120356523  ...     0,102805671      0,052414865   \n",
       "10     120356534   120356634  ...     0,273671744         1,82E-10   \n",
       "\n",
       "   padj_Ref_SKNSH log2FoldChange_Alt_SKNSH lfcSE_Alt_SKNSH pvalue_Alt_SKNSH  \\\n",
       "6     0,026791718              0,222661019     0,117645283      0,058404798   \n",
       "7     0,026791718              0,222661019     0,117645283      0,058404798   \n",
       "8      0,11308122              0,214577772     0,103220647      0,037633339   \n",
       "9      0,11308122              0,214577772     0,103220647      0,037633339   \n",
       "10       1,51E-09             -1,590228675     0,273585466         6,15E-09   \n",
       "\n",
       "   padj_Alt_SKNSH stop_codon_dist     group Expression  \n",
       "6     0,123769944           683.0  ARHGEF12   0.033228  \n",
       "7     0,123769944           683.0  ARHGEF12   0.145253  \n",
       "8     0,085874631           686.0  ARHGEF12   0.263987  \n",
       "9     0,085874631           686.0  ARHGEF12   0.303280  \n",
       "10       4,42E-08           797.0  ARHGEF12  -0.931812  \n",
       "\n",
       "[5 rows x 85 columns]"
      ]
     },
     "execution_count": 36,
     "metadata": {},
     "output_type": "execute_result"
    }
   ],
   "source": [
    "mpra_df.head()"
   ]
  },
  {
   "cell_type": "code",
   "execution_count": 19,
   "id": "bf375f64-9eaa-4b5c-b66e-974f7e8162f4",
   "metadata": {
    "tags": []
   },
   "outputs": [],
   "source": [
    "cell_type = 'HMEC' #HMEC,HEK293FT,HEPG2,K562,GM12878,SKNSH"
   ]
  },
  {
   "cell_type": "code",
   "execution_count": 20,
   "id": "e2087c04-fda8-4e65-bd42-a7b711443948",
   "metadata": {
    "tags": []
   },
   "outputs": [],
   "source": [
    "# Data Cleaning\n",
    "# Take only SNP mutations\n",
    "# Remove nan values in Expression column\n",
    "# Take only sequences with variants closer than 5000bp to the stop codon (mpra_df.stop_codon_dist<5000)\n",
    "\n",
    "is_snp = mpra_df.ref_allele.str.len() == mpra_df.alt_allele.str.len()\n",
    "\n",
    "flt = mpra_df[f'log2FoldChange_Skew_{cell_type}'].isna()  | (~is_snp) | (mpra_df.stop_codon_dist>5000) \n",
    "\n",
    "mpra_df = mpra_df[~flt]"
   ]
  },
  {
   "cell_type": "code",
   "execution_count": 22,
   "id": "6af3c0a0-e87e-4cde-97d2-5642d1360b0a",
   "metadata": {
    "tags": []
   },
   "outputs": [],
   "source": [
    "mpra_df['Expression'] = mpra_df.apply(lambda x: x[f'log2FoldChange_Alt_{cell_type}'] if x.oligo_id.endswith('_alt') else x[f'log2FoldChange_Ref_{cell_type}'], axis=1)   "
   ]
  },
  {
   "cell_type": "code",
   "execution_count": 23,
   "id": "e74e8acd-d468-43ce-9a9d-270adaa90929",
   "metadata": {
    "tags": []
   },
   "outputs": [],
   "source": [
    "# Conver Expression column to float\n",
    "mpra_df.Expression = mpra_df.Expression.apply(lambda x:x.replace(',','.') if type(x)==str else x).astype(float)"
   ]
  },
  {
   "cell_type": "code",
   "execution_count": 24,
   "id": "412e9e2f-d7ae-4503-9b4c-9a8904ab3ddf",
   "metadata": {
    "tags": []
   },
   "outputs": [],
   "source": [
    "def pearson_r(x,y):\n",
    "    '''\n",
    "    Compute Pearson r coefficient between samples x and y\n",
    "    '''\n",
    "    x = np.array(x)\n",
    "    y = np.array(y)\n",
    "    cov_xy = np.mean((x - x.mean()) * (y - y.mean()))\n",
    "    r = cov_xy / (x.std() * y.std())\n",
    "    return r\n",
    "\n",
    "def pearson_r2_scorer(estimator, X, y):\n",
    "    '''\n",
    "    Scikit-learn compatible pearson scorer\n",
    "    '''\n",
    "    y_pred = estimator.predict(X).reshape(-1)\n",
    "    #return scipy.stats.pearsonr(y, y_pred)[0] ** 2\n",
    "    return pearson_r(y, y_pred)**2"
   ]
  },
  {
   "cell_type": "code",
   "execution_count": 25,
   "id": "58f93c6f-1abf-4e40-80be-b07fab4f3a9c",
   "metadata": {
    "tags": []
   },
   "outputs": [],
   "source": [
    "def minseq_model(mpra_df):\n",
    "    \n",
    "    '''\n",
    "    Minimal sequence model from Griesemer et al. 2021\n",
    "    \n",
    "    Extracts following features from mpra_df:\n",
    "    --nucleotide counts for each base (+4) and maximum among them (+1)\n",
    "    --dinucleotide counts (+16) and maximum among them (+1)\n",
    "    --maximum homopolymer length for all bases (+4)\n",
    "    --maximum dinucleotide repeat length length for all bases (+16)\n",
    "    --sequence uniformity (+1)\n",
    "    --Minimal free energy (from RNA fold Software) (+1)\n",
    "    \n",
    "    Returns:\n",
    "    Feature matrix X\n",
    "    '''\n",
    "    \n",
    "    kmerizer1 = Kmerizer(k=1)\n",
    "\n",
    "    nucl_counts = np.stack(mpra_df.seq.apply(lambda seq: kmerizer1.kmerize(seq)))\n",
    "    max_nucl_counts_all = nucl_counts.max(axis=1)\n",
    "\n",
    "    kmerizer2 = Kmerizer(k=2)\n",
    "\n",
    "    dinucl_counts = np.stack(mpra_df.seq.apply(lambda seq: kmerizer2.kmerize(seq)))\n",
    "    max_dinucl_counts_all = dinucl_counts.max(axis=1)\n",
    "    \n",
    "    max_homopol_len = np.stack(mpra_df.seq.apply(lambda seq: max_repeat_length(seq,1)))\n",
    "    max_dinucl_len = np.stack(mpra_df.seq.apply(lambda seq: max_repeat_length(seq,2)))\n",
    "\n",
    "    seq_uniformity = mpra_df.seq.apply(lambda seq: np.sum([seq[i]==seq[i-1] for i in range(1,len(seq))])).values\n",
    "    min_free_energy = mpra_df['min_free_energy'].values\n",
    "    \n",
    "    X = np.hstack((nucl_counts,np.expand_dims(max_nucl_counts_all,axis=1),\n",
    "           dinucl_counts,np.expand_dims(max_dinucl_counts_all,axis=1),\n",
    "           max_homopol_len, max_dinucl_len,\n",
    "           np.expand_dims(seq_uniformity,axis=1),\n",
    "           np.expand_dims(min_free_energy,axis=1),\n",
    "           ))\n",
    "    \n",
    "    return X\n",
    "\n",
    "def word2vec_model(mpra_df):\n",
    "    \n",
    "    '''\n",
    "    Word2Vec model\n",
    "    \n",
    "    '''\n",
    "    \n",
    "    kmerizer_w2v = Kmerizer(k=4)\n",
    "    w2v_model = Word2Vec(sentences=mpra_df.seq.apply(lambda x: kmerizer_w2v.tokenize(x)), \n",
    "                         vector_size=128, window=5, min_count=1, workers=4, sg=1)\n",
    "\n",
    "    word2vec_emb = mpra_df.seq.apply(\n",
    "        lambda x: np.mean([w2v_model.wv[x]  for x in kmerizer_w2v.tokenize(x)],axis=0))\n",
    "\n",
    "    X = np.stack(word2vec_emb,axis=0)\n",
    "    \n",
    "    return X"
   ]
  },
  {
   "cell_type": "code",
   "execution_count": 26,
   "id": "75e8f6d3-c050-44bc-a44d-4db107712d0a",
   "metadata": {
    "tags": []
   },
   "outputs": [],
   "source": [
    "def get_embeddings(mpra_df):\n",
    "    '''\n",
    "    Compute embeddings using each model\n",
    "    \n",
    "    Returns:\n",
    "    Dictionary of feature matrices, dependent variable, groups for K-fold validation\n",
    "    '''\n",
    "\n",
    "    X_emb = mlm_embeddings[mpra_df.index] #Masked Language Model, take only embeddings that were not filtered out\n",
    "\n",
    "    kmerizer4 = Kmerizer(k=4)\n",
    "    X_4mer = np.stack(mpra_df.seq.apply(lambda x: kmerizer4.kmerize(x))) #4-mer model\n",
    "\n",
    "    X_minseq = minseq_model(mpra_df) #Griesemer minimal sequence model\n",
    "    \n",
    "    X_w2v = word2vec_model(mpra_df) #Word2Vec model\n",
    "    \n",
    "    min_free_energy = mpra_df['min_free_energy'].values\n",
    "    \n",
    "    #Only Griesemer model uses RNAfold minimal free energy ba default\n",
    "    #we add this feature to the other models to provide fair comparison\n",
    "    \n",
    "    X_emb = np.hstack((X_emb,np.expand_dims(min_free_energy,axis=1)))\n",
    "    X_4mer = np.hstack((X_4mer,np.expand_dims(min_free_energy,axis=1)))\n",
    "    X_w2v = np.hstack((X_w2v,np.expand_dims(min_free_energy,axis=1)))\n",
    "\n",
    "    data_matrices = {\"MLM\":X_emb,\n",
    "                 \"4-mer counts\":X_4mer,\n",
    "                 \"Word2Vec\": X_w2v,\n",
    "                 \"Griesemer et al.\": X_minseq,\n",
    "                }\n",
    "    \n",
    "    y = mpra_df['Expression'].values\n",
    "\n",
    "    groups = mpra_df['group'].values\n",
    "    \n",
    "    return data_matrices, y, groups"
   ]
  },
  {
   "cell_type": "code",
   "execution_count": 30,
   "id": "98fd8034-002b-4a07-9743-7ea56cd31f82",
   "metadata": {
    "tags": []
   },
   "outputs": [],
   "source": [
    "data_matrices, y, groups = get_embeddings(mpra_df)"
   ]
  },
  {
   "cell_type": "code",
   "execution_count": 49,
   "id": "0ad2b841-8217-4a23-b0c6-8a9e3ba724cd",
   "metadata": {
    "tags": []
   },
   "outputs": [],
   "source": [
    "def group_cv(clf, parameter_grid, strategy='grid', n_splits = 10, random_state = 1):\n",
    "    \n",
    "    '''\n",
    "    Group Cross-Validation\n",
    "    If parameter_grid!=None, Use Hyperparameters found in the 0th fold\n",
    "    \n",
    "    Parameters:\n",
    "    clf: Scikit-learn-compatible classifier\n",
    "    parameter grid: dictionary of parameter values for hyperparameter search\n",
    "    strategy: 'grid' for Grid Search or 'random' for Random Search\n",
    "    \n",
    "    Returns:\n",
    "    Pearson r^2 coefficient for all folds\n",
    "    '''\n",
    "\n",
    "    group_kfold = GroupKFold(n_splits=n_splits)\n",
    "\n",
    "    kfold_scores = []\n",
    "\n",
    "    for fold_idx, (train_idx, test_idx) in enumerate(group_kfold.split(X, y, groups)):\n",
    "        \n",
    "        #print(f'FOLD {fold_idx}')\n",
    "        \n",
    "        X_train, y_train, groups_train = X[train_idx,:], y[train_idx], groups[train_idx]\n",
    "        X_test, y_test = X[test_idx,:], y[test_idx]\n",
    "\n",
    "        if fold_idx==0 and parameter_grid!=None:\n",
    "            print('Performing hyperparameter search in FOLD 0')\n",
    "            if strategy=='grid':\n",
    "                gs = make_pipeline(StandardScaler(),\n",
    "                                            GridSearchCV(clf, parameter_grid, cv=3, verbose=4))\n",
    "                gs.fit(X_train, y_train, gridsearchcv__groups=groups_train)\n",
    "                best_params = gs['gridsearchcv'].best_params_\n",
    "            else:\n",
    "                rs = make_pipeline(StandardScaler(),\n",
    "                                            RandomizedSearchCV(clf, parameter_grid, cv=3, random_state=random_state))\n",
    "                rs.fit(X_train, y_train, randomizedsearchcv__groups=groups_train)\n",
    "                best_params = rs['randomizedsearchcv'].best_params_  \n",
    "            print(f'Found best parameters: {best_params}')\n",
    "        \n",
    "        if parameter_grid!=None:\n",
    "            clf.set_params(**best_params) #set parameters from the 0th fold\n",
    "        \n",
    "        #train \n",
    "        pipe = make_pipeline(StandardScaler(), clf)\n",
    "        pipe.fit(X_train, y_train)\n",
    "        \n",
    "        #inference\n",
    "        y_pred = pipe.predict(X_test)\n",
    "        fold_score = pearson_r(y_pred,y_test)**2\n",
    "        \n",
    "        kfold_scores.append(fold_score)\n",
    "        \n",
    "    return kfold_scores"
   ]
  },
  {
   "cell_type": "code",
   "execution_count": 53,
   "id": "c62f007a-f212-477d-9d35-0aa5d0204e9d",
   "metadata": {
    "tags": []
   },
   "outputs": [
    {
     "name": "stdout",
     "output_type": "stream",
     "text": [
      "MLM\n",
      "4-mer counts\n",
      "Word2Vec\n"
     ]
    },
    {
     "ename": "KeyboardInterrupt",
     "evalue": "",
     "output_type": "error",
     "traceback": [
      "\u001b[0;31m---------------------------------------------------------------------------\u001b[0m",
      "\u001b[0;31mKeyboardInterrupt\u001b[0m                         Traceback (most recent call last)",
      "Cell \u001b[0;32mIn[53], line 18\u001b[0m\n\u001b[1;32m     14\u001b[0m \u001b[38;5;28;01mfor\u001b[39;00m model, X \u001b[38;5;129;01min\u001b[39;00m data_matrices\u001b[38;5;241m.\u001b[39mitems():\n\u001b[1;32m     16\u001b[0m     \u001b[38;5;28mprint\u001b[39m(model)\n\u001b[0;32m---> 18\u001b[0m     r2 \u001b[38;5;241m=\u001b[39m \u001b[43mgroup_cv\u001b[49m\u001b[43m(\u001b[49m\u001b[43mclf\u001b[49m\u001b[43m,\u001b[49m\u001b[43mparameter_grid\u001b[49m\u001b[43m,\u001b[49m\u001b[43mstrategy\u001b[49m\u001b[38;5;241;43m=\u001b[39;49m\u001b[38;5;124;43m'\u001b[39;49m\u001b[38;5;124;43mgrid\u001b[39;49m\u001b[38;5;124;43m'\u001b[39;49m\u001b[43m)\u001b[49m\n\u001b[1;32m     20\u001b[0m     \u001b[38;5;28;01mfor\u001b[39;00m r2_val \u001b[38;5;129;01min\u001b[39;00m r2:\n\u001b[1;32m     21\u001b[0m         metrics_mpra\u001b[38;5;241m.\u001b[39mappend((model, r2_val))\n",
      "Cell \u001b[0;32mIn[49], line 46\u001b[0m, in \u001b[0;36mgroup_cv\u001b[0;34m(clf, parameter_grid, strategy, n_splits, random_state)\u001b[0m\n\u001b[1;32m     44\u001b[0m \u001b[38;5;66;03m#train \u001b[39;00m\n\u001b[1;32m     45\u001b[0m pipe \u001b[38;5;241m=\u001b[39m make_pipeline(StandardScaler(), clf)\n\u001b[0;32m---> 46\u001b[0m \u001b[43mpipe\u001b[49m\u001b[38;5;241;43m.\u001b[39;49m\u001b[43mfit\u001b[49m\u001b[43m(\u001b[49m\u001b[43mX_train\u001b[49m\u001b[43m,\u001b[49m\u001b[43m \u001b[49m\u001b[43my_train\u001b[49m\u001b[43m)\u001b[49m\n\u001b[1;32m     48\u001b[0m \u001b[38;5;66;03m#inference\u001b[39;00m\n\u001b[1;32m     49\u001b[0m y_pred \u001b[38;5;241m=\u001b[39m pipe\u001b[38;5;241m.\u001b[39mpredict(X_test)\n",
      "File \u001b[0;32m~/miniconda3/envs/svilov-spade/lib/python3.10/site-packages/sklearn/pipeline.py:406\u001b[0m, in \u001b[0;36mPipeline.fit\u001b[0;34m(self, X, y, **fit_params)\u001b[0m\n\u001b[1;32m    404\u001b[0m     \u001b[38;5;28;01mif\u001b[39;00m \u001b[38;5;28mself\u001b[39m\u001b[38;5;241m.\u001b[39m_final_estimator \u001b[38;5;241m!=\u001b[39m \u001b[38;5;124m\"\u001b[39m\u001b[38;5;124mpassthrough\u001b[39m\u001b[38;5;124m\"\u001b[39m:\n\u001b[1;32m    405\u001b[0m         fit_params_last_step \u001b[38;5;241m=\u001b[39m fit_params_steps[\u001b[38;5;28mself\u001b[39m\u001b[38;5;241m.\u001b[39msteps[\u001b[38;5;241m-\u001b[39m\u001b[38;5;241m1\u001b[39m][\u001b[38;5;241m0\u001b[39m]]\n\u001b[0;32m--> 406\u001b[0m         \u001b[38;5;28;43mself\u001b[39;49m\u001b[38;5;241;43m.\u001b[39;49m\u001b[43m_final_estimator\u001b[49m\u001b[38;5;241;43m.\u001b[39;49m\u001b[43mfit\u001b[49m\u001b[43m(\u001b[49m\u001b[43mXt\u001b[49m\u001b[43m,\u001b[49m\u001b[43m \u001b[49m\u001b[43my\u001b[49m\u001b[43m,\u001b[49m\u001b[43m \u001b[49m\u001b[38;5;241;43m*\u001b[39;49m\u001b[38;5;241;43m*\u001b[39;49m\u001b[43mfit_params_last_step\u001b[49m\u001b[43m)\u001b[49m\n\u001b[1;32m    408\u001b[0m \u001b[38;5;28;01mreturn\u001b[39;00m \u001b[38;5;28mself\u001b[39m\n",
      "File \u001b[0;32m~/miniconda3/envs/svilov-spade/lib/python3.10/site-packages/sklearnex/svm/svr.py:79\u001b[0m, in \u001b[0;36mSVR.fit\u001b[0;34m(self, X, y, sample_weight)\u001b[0m\n\u001b[1;32m     77\u001b[0m \u001b[38;5;28;01mif\u001b[39;00m sklearn_check_version(\u001b[38;5;124m\"\u001b[39m\u001b[38;5;124m1.0\u001b[39m\u001b[38;5;124m\"\u001b[39m):\n\u001b[1;32m     78\u001b[0m     \u001b[38;5;28mself\u001b[39m\u001b[38;5;241m.\u001b[39m_check_feature_names(X, reset\u001b[38;5;241m=\u001b[39m\u001b[38;5;28;01mTrue\u001b[39;00m)\n\u001b[0;32m---> 79\u001b[0m \u001b[43mdispatch\u001b[49m\u001b[43m(\u001b[49m\u001b[38;5;28;43mself\u001b[39;49m\u001b[43m,\u001b[49m\u001b[43m \u001b[49m\u001b[38;5;124;43m'\u001b[39;49m\u001b[38;5;124;43msvm.SVR.fit\u001b[39;49m\u001b[38;5;124;43m'\u001b[39;49m\u001b[43m,\u001b[49m\u001b[43m \u001b[49m\u001b[43m{\u001b[49m\n\u001b[1;32m     80\u001b[0m \u001b[43m    \u001b[49m\u001b[38;5;124;43m'\u001b[39;49m\u001b[38;5;124;43monedal\u001b[39;49m\u001b[38;5;124;43m'\u001b[39;49m\u001b[43m:\u001b[49m\u001b[43m \u001b[49m\u001b[38;5;28;43mself\u001b[39;49m\u001b[38;5;241;43m.\u001b[39;49m\u001b[38;5;18;43m__class__\u001b[39;49m\u001b[38;5;241;43m.\u001b[39;49m\u001b[43m_onedal_fit\u001b[49m\u001b[43m,\u001b[49m\n\u001b[1;32m     81\u001b[0m \u001b[43m    \u001b[49m\u001b[38;5;124;43m'\u001b[39;49m\u001b[38;5;124;43msklearn\u001b[39;49m\u001b[38;5;124;43m'\u001b[39;49m\u001b[43m:\u001b[49m\u001b[43m \u001b[49m\u001b[43msklearn_SVR\u001b[49m\u001b[38;5;241;43m.\u001b[39;49m\u001b[43mfit\u001b[49m\u001b[43m,\u001b[49m\n\u001b[1;32m     82\u001b[0m \u001b[43m\u001b[49m\u001b[43m}\u001b[49m\u001b[43m,\u001b[49m\u001b[43m \u001b[49m\u001b[43mX\u001b[49m\u001b[43m,\u001b[49m\u001b[43m \u001b[49m\u001b[43my\u001b[49m\u001b[43m,\u001b[49m\u001b[43m \u001b[49m\u001b[43msample_weight\u001b[49m\u001b[43m)\u001b[49m\n\u001b[1;32m     84\u001b[0m \u001b[38;5;28;01mreturn\u001b[39;00m \u001b[38;5;28mself\u001b[39m\n",
      "File \u001b[0;32m~/miniconda3/envs/svilov-spade/lib/python3.10/site-packages/sklearnex/_device_offload.py:163\u001b[0m, in \u001b[0;36mdispatch\u001b[0;34m(obj, method_name, branches, *args, **kwargs)\u001b[0m\n\u001b[1;32m    161\u001b[0m logging\u001b[38;5;241m.\u001b[39minfo(\u001b[38;5;124mf\u001b[39m\u001b[38;5;124m\"\u001b[39m\u001b[38;5;124msklearn.\u001b[39m\u001b[38;5;132;01m{\u001b[39;00mmethod_name\u001b[38;5;132;01m}\u001b[39;00m\u001b[38;5;124m: \u001b[39m\u001b[38;5;132;01m{\u001b[39;00mget_patch_message(backend, q, cpu_fallback)\u001b[38;5;132;01m}\u001b[39;00m\u001b[38;5;124m\"\u001b[39m)\n\u001b[1;32m    162\u001b[0m \u001b[38;5;28;01mif\u001b[39;00m backend \u001b[38;5;241m==\u001b[39m \u001b[38;5;124m'\u001b[39m\u001b[38;5;124monedal\u001b[39m\u001b[38;5;124m'\u001b[39m:\n\u001b[0;32m--> 163\u001b[0m     \u001b[38;5;28;01mreturn\u001b[39;00m \u001b[43mbranches\u001b[49m\u001b[43m[\u001b[49m\u001b[43mbackend\u001b[49m\u001b[43m]\u001b[49m\u001b[43m(\u001b[49m\u001b[43mobj\u001b[49m\u001b[43m,\u001b[49m\u001b[43m \u001b[49m\u001b[38;5;241;43m*\u001b[39;49m\u001b[43mhostargs\u001b[49m\u001b[43m,\u001b[49m\u001b[43m \u001b[49m\u001b[38;5;241;43m*\u001b[39;49m\u001b[38;5;241;43m*\u001b[39;49m\u001b[43mhostkwargs\u001b[49m\u001b[43m,\u001b[49m\u001b[43m \u001b[49m\u001b[43mqueue\u001b[49m\u001b[38;5;241;43m=\u001b[39;49m\u001b[43mq\u001b[49m\u001b[43m)\u001b[49m\n\u001b[1;32m    164\u001b[0m \u001b[38;5;28;01mif\u001b[39;00m backend \u001b[38;5;241m==\u001b[39m \u001b[38;5;124m'\u001b[39m\u001b[38;5;124msklearn\u001b[39m\u001b[38;5;124m'\u001b[39m:\n\u001b[1;32m    165\u001b[0m     \u001b[38;5;28;01mreturn\u001b[39;00m branches[backend](obj, \u001b[38;5;241m*\u001b[39mhostargs, \u001b[38;5;241m*\u001b[39m\u001b[38;5;241m*\u001b[39mhostkwargs)\n",
      "File \u001b[0;32m~/miniconda3/envs/svilov-spade/lib/python3.10/site-packages/sklearnex/svm/svr.py:135\u001b[0m, in \u001b[0;36mSVR._onedal_fit\u001b[0;34m(self, X, y, sample_weight, queue)\u001b[0m\n\u001b[1;32m    121\u001b[0m onedal_params \u001b[38;5;241m=\u001b[39m {\n\u001b[1;32m    122\u001b[0m     \u001b[38;5;124m'\u001b[39m\u001b[38;5;124mC\u001b[39m\u001b[38;5;124m'\u001b[39m: \u001b[38;5;28mself\u001b[39m\u001b[38;5;241m.\u001b[39mC,\n\u001b[1;32m    123\u001b[0m     \u001b[38;5;124m'\u001b[39m\u001b[38;5;124mepsilon\u001b[39m\u001b[38;5;124m'\u001b[39m: \u001b[38;5;28mself\u001b[39m\u001b[38;5;241m.\u001b[39mepsilon,\n\u001b[0;32m   (...)\u001b[0m\n\u001b[1;32m    131\u001b[0m     \u001b[38;5;124m'\u001b[39m\u001b[38;5;124mmax_iter\u001b[39m\u001b[38;5;124m'\u001b[39m: \u001b[38;5;28mself\u001b[39m\u001b[38;5;241m.\u001b[39mmax_iter,\n\u001b[1;32m    132\u001b[0m }\n\u001b[1;32m    134\u001b[0m \u001b[38;5;28mself\u001b[39m\u001b[38;5;241m.\u001b[39m_onedal_estimator \u001b[38;5;241m=\u001b[39m onedal_SVR(\u001b[38;5;241m*\u001b[39m\u001b[38;5;241m*\u001b[39monedal_params)\n\u001b[0;32m--> 135\u001b[0m \u001b[38;5;28;43mself\u001b[39;49m\u001b[38;5;241;43m.\u001b[39;49m\u001b[43m_onedal_estimator\u001b[49m\u001b[38;5;241;43m.\u001b[39;49m\u001b[43mfit\u001b[49m\u001b[43m(\u001b[49m\u001b[43mX\u001b[49m\u001b[43m,\u001b[49m\u001b[43m \u001b[49m\u001b[43my\u001b[49m\u001b[43m,\u001b[49m\u001b[43m \u001b[49m\u001b[43msample_weight\u001b[49m\u001b[43m,\u001b[49m\u001b[43m \u001b[49m\u001b[43mqueue\u001b[49m\u001b[38;5;241;43m=\u001b[39;49m\u001b[43mqueue\u001b[49m\u001b[43m)\u001b[49m\n\u001b[1;32m    136\u001b[0m \u001b[38;5;28mself\u001b[39m\u001b[38;5;241m.\u001b[39m_save_attributes()\n",
      "File \u001b[0;32m~/miniconda3/envs/svilov-spade/lib/python3.10/site-packages/onedal/svm/svm.py:386\u001b[0m, in \u001b[0;36mSVR.fit\u001b[0;34m(self, X, y, sample_weight, queue)\u001b[0m\n\u001b[1;32m    385\u001b[0m \u001b[38;5;28;01mdef\u001b[39;00m \u001b[38;5;21mfit\u001b[39m(\u001b[38;5;28mself\u001b[39m, X, y, sample_weight\u001b[38;5;241m=\u001b[39m\u001b[38;5;28;01mNone\u001b[39;00m, queue\u001b[38;5;241m=\u001b[39m\u001b[38;5;28;01mNone\u001b[39;00m):\n\u001b[0;32m--> 386\u001b[0m     \u001b[38;5;28;01mreturn\u001b[39;00m \u001b[38;5;28;43msuper\u001b[39;49m\u001b[43m(\u001b[49m\u001b[43m)\u001b[49m\u001b[38;5;241;43m.\u001b[39;49m\u001b[43m_fit\u001b[49m\u001b[43m(\u001b[49m\u001b[43mX\u001b[49m\u001b[43m,\u001b[49m\u001b[43m \u001b[49m\u001b[43my\u001b[49m\u001b[43m,\u001b[49m\u001b[43m \u001b[49m\u001b[43msample_weight\u001b[49m\u001b[43m,\u001b[49m\u001b[43m \u001b[49m\u001b[43m_backend\u001b[49m\u001b[38;5;241;43m.\u001b[39;49m\u001b[43msvm\u001b[49m\u001b[38;5;241;43m.\u001b[39;49m\u001b[43mregression\u001b[49m\u001b[43m,\u001b[49m\u001b[43m \u001b[49m\u001b[43mqueue\u001b[49m\u001b[43m)\u001b[49m\n",
      "File \u001b[0;32m~/miniconda3/envs/svilov-spade/lib/python3.10/site-packages/onedal/svm/svm.py:233\u001b[0m, in \u001b[0;36mBaseSVM._fit\u001b[0;34m(self, X, y, sample_weight, module, queue)\u001b[0m\n\u001b[1;32m    231\u001b[0m policy \u001b[38;5;241m=\u001b[39m _get_policy(queue, X, y, sample_weight)\n\u001b[1;32m    232\u001b[0m params \u001b[38;5;241m=\u001b[39m \u001b[38;5;28mself\u001b[39m\u001b[38;5;241m.\u001b[39m_get_onedal_params(X)\n\u001b[0;32m--> 233\u001b[0m result \u001b[38;5;241m=\u001b[39m \u001b[43mmodule\u001b[49m\u001b[38;5;241;43m.\u001b[39;49m\u001b[43mtrain\u001b[49m\u001b[43m(\u001b[49m\u001b[43mpolicy\u001b[49m\u001b[43m,\u001b[49m\u001b[43m \u001b[49m\u001b[43mparams\u001b[49m\u001b[43m,\u001b[49m\u001b[43m \u001b[49m\u001b[38;5;241;43m*\u001b[39;49m\u001b[43mto_table\u001b[49m\u001b[43m(\u001b[49m\u001b[43mX\u001b[49m\u001b[43m,\u001b[49m\u001b[43m \u001b[49m\u001b[43my\u001b[49m\u001b[43m,\u001b[49m\u001b[43m \u001b[49m\u001b[43msample_weight\u001b[49m\u001b[43m)\u001b[49m\u001b[43m)\u001b[49m\n\u001b[1;32m    235\u001b[0m \u001b[38;5;28;01mif\u001b[39;00m \u001b[38;5;28mself\u001b[39m\u001b[38;5;241m.\u001b[39m_sparse:\n\u001b[1;32m    236\u001b[0m     \u001b[38;5;28mself\u001b[39m\u001b[38;5;241m.\u001b[39mdual_coef_ \u001b[38;5;241m=\u001b[39m sp\u001b[38;5;241m.\u001b[39mcsr_matrix(from_table(result\u001b[38;5;241m.\u001b[39mcoeffs)\u001b[38;5;241m.\u001b[39mT)\n",
      "\u001b[0;31mKeyboardInterrupt\u001b[0m: "
     ]
    }
   ],
   "source": [
    "metrics_mpra = []\n",
    "\n",
    "clf = sklearn.linear_model.Ridge()\n",
    "parameter_grid = {'alpha':10.**np.arange(-10,10)}\n",
    "              \n",
    "clf = sklearn.neural_network.MLPRegressor(hidden_layer_sizes=(64,32,16,), alpha=2, batch_size=1000, learning_rate='constant', \n",
    "                 learning_rate_init=5e-4, max_iter=500, shuffle=False, random_state=None)\n",
    "parameter_grid = None\n",
    "\n",
    "\n",
    "clf = sklearn.svm.SVR(C=4, epsilon=0.1)\n",
    "parameter_grid = None#{'C':2.**np.arange(-5,5),'epsilon':10.**np.arange(-5,1)}\n",
    "\n",
    "for model, X in data_matrices.items():\n",
    "    \n",
    "    print(model)\n",
    "  \n",
    "    r2 = group_cv(clf,parameter_grid,strategy='grid')\n",
    "    \n",
    "    for r2_val in r2:\n",
    "        metrics_mpra.append((model, r2_val))\n",
    "\n",
    "metrics_mpra = pd.DataFrame(metrics_mpra, columns=['model','score'])"
   ]
  },
  {
   "cell_type": "code",
   "execution_count": 54,
   "id": "30f27804-2ca4-4b91-b11d-6b48743ee227",
   "metadata": {
    "tags": []
   },
   "outputs": [],
   "source": [
    "X = data_matrices['MLM']"
   ]
  },
  {
   "cell_type": "code",
   "execution_count": 274,
   "id": "2f48bce1-b41e-4d62-acac-54f7f9b72aca",
   "metadata": {},
   "outputs": [
    {
     "ename": "NameError",
     "evalue": "name 'cross_val_score' is not defined",
     "output_type": "error",
     "traceback": [
      "\u001b[0;31m---------------------------------------------------------------------------\u001b[0m",
      "\u001b[0;31mNameError\u001b[0m                                 Traceback (most recent call last)",
      "Cell \u001b[0;32mIn[274], line 3\u001b[0m\n\u001b[1;32m      1\u001b[0m pipe \u001b[38;5;241m=\u001b[39m make_pipeline(sklearn\u001b[38;5;241m.\u001b[39mpreprocessing\u001b[38;5;241m.\u001b[39mStandardScaler(), sklearn\u001b[38;5;241m.\u001b[39mlinear_model\u001b[38;5;241m.\u001b[39mRidgeCV(cv\u001b[38;5;241m=\u001b[39m\u001b[38;5;241m3\u001b[39m)) \u001b[38;5;66;03m#limit runtime\u001b[39;00m\n\u001b[1;32m      2\u001b[0m \u001b[38;5;66;03m#rmse = -cross_val_score(pipe,X,y,scoring=\"neg_root_mean_squared_error\",cv=sklearn.model_selection.GroupKFold(n_splits=10), groups=groups)#.mean()\u001b[39;00m\n\u001b[0;32m----> 3\u001b[0m r2 \u001b[38;5;241m=\u001b[39m \u001b[43mcross_val_score\u001b[49m(pipe,X,y,scoring\u001b[38;5;241m=\u001b[39mpearson_r2,cv\u001b[38;5;241m=\u001b[39msklearn\u001b[38;5;241m.\u001b[39mmodel_selection\u001b[38;5;241m.\u001b[39mGroupKFold(n_splits\u001b[38;5;241m=\u001b[39m\u001b[38;5;241m10\u001b[39m), groups\u001b[38;5;241m=\u001b[39mgroups, n_jobs\u001b[38;5;241m=\u001b[39m\u001b[38;5;241m-\u001b[39m\u001b[38;5;241m1\u001b[39m)\n",
      "\u001b[0;31mNameError\u001b[0m: name 'cross_val_score' is not defined"
     ]
    }
   ],
   "source": [
    "pipe = make_pipeline(sklearn.preprocessing.StandardScaler(), sklearn.linear_model.RidgeCV(cv=3)) #limit runtime\n",
    "#rmse = -cross_val_score(pipe,X,y,scoring=\"neg_root_mean_squared_error\",cv=sklearn.model_selection.GroupKFold(n_splits=10), groups=groups)#.mean()\n",
    "r2 = cross_val_score(pipe,X,y,scoring=pearson_r2,cv=sklearn.model_selection.GroupKFold(n_splits=10), groups=groups, n_jobs=-1)#.mean()\n"
   ]
  },
  {
   "cell_type": "code",
   "execution_count": 25,
   "id": "e1cc5aed-06be-45eb-9f24-c3fcf65fe618",
   "metadata": {
    "tags": []
   },
   "outputs": [],
   "source": []
  },
  {
   "cell_type": "code",
   "execution_count": 10,
   "id": "ca2a6a5e-3e6d-4046-adc6-cdc0cbb4f25a",
   "metadata": {
    "tags": []
   },
   "outputs": [],
   "source": []
  },
  {
   "cell_type": "code",
   "execution_count": 38,
   "id": "64fe0c91-fc89-43ef-9bc3-92e8a0b57d40",
   "metadata": {
    "tags": []
   },
   "outputs": [],
   "source": [
    "gss = GroupShuffleSplit(n_splits=1, train_size=.8, random_state=2)\n",
    "train_index, test_index = next(iter(gss.split(X, y, groups)))\n",
    "X_train, X_test, y_train, y_test = X[train_index,:],X[test_index,:],y[train_index],y[test_index]"
   ]
  },
  {
   "cell_type": "code",
   "execution_count": 291,
   "id": "5bfae3ac-8796-4dd3-9040-78cc011fae77",
   "metadata": {
    "tags": []
   },
   "outputs": [],
   "source": [
    "M = MLPRegressor(hidden_layer_sizes=(64,32,16,), alpha=2, batch_size=1000, learning_rate='constant', \n",
    "                 learning_rate_init=5e-4, max_iter=500, shuffle=False, random_state=None)"
   ]
  },
  {
   "cell_type": "code",
   "execution_count": 45,
   "id": "af62fca5-8b44-4ea7-a4e0-bfa4766637f5",
   "metadata": {
    "tags": []
   },
   "outputs": [],
   "source": [
    "M = sklearn.svm.SVR()"
   ]
  },
  {
   "cell_type": "code",
   "execution_count": 46,
   "id": "37d4639e-e6fc-4e8e-99f6-70f8ccdae319",
   "metadata": {
    "tags": []
   },
   "outputs": [
    {
     "data": {
      "text/html": [
       "<style>#sk-container-id-3 {color: black;background-color: white;}#sk-container-id-3 pre{padding: 0;}#sk-container-id-3 div.sk-toggleable {background-color: white;}#sk-container-id-3 label.sk-toggleable__label {cursor: pointer;display: block;width: 100%;margin-bottom: 0;padding: 0.3em;box-sizing: border-box;text-align: center;}#sk-container-id-3 label.sk-toggleable__label-arrow:before {content: \"▸\";float: left;margin-right: 0.25em;color: #696969;}#sk-container-id-3 label.sk-toggleable__label-arrow:hover:before {color: black;}#sk-container-id-3 div.sk-estimator:hover label.sk-toggleable__label-arrow:before {color: black;}#sk-container-id-3 div.sk-toggleable__content {max-height: 0;max-width: 0;overflow: hidden;text-align: left;background-color: #f0f8ff;}#sk-container-id-3 div.sk-toggleable__content pre {margin: 0.2em;color: black;border-radius: 0.25em;background-color: #f0f8ff;}#sk-container-id-3 input.sk-toggleable__control:checked~div.sk-toggleable__content {max-height: 200px;max-width: 100%;overflow: auto;}#sk-container-id-3 input.sk-toggleable__control:checked~label.sk-toggleable__label-arrow:before {content: \"▾\";}#sk-container-id-3 div.sk-estimator input.sk-toggleable__control:checked~label.sk-toggleable__label {background-color: #d4ebff;}#sk-container-id-3 div.sk-label input.sk-toggleable__control:checked~label.sk-toggleable__label {background-color: #d4ebff;}#sk-container-id-3 input.sk-hidden--visually {border: 0;clip: rect(1px 1px 1px 1px);clip: rect(1px, 1px, 1px, 1px);height: 1px;margin: -1px;overflow: hidden;padding: 0;position: absolute;width: 1px;}#sk-container-id-3 div.sk-estimator {font-family: monospace;background-color: #f0f8ff;border: 1px dotted black;border-radius: 0.25em;box-sizing: border-box;margin-bottom: 0.5em;}#sk-container-id-3 div.sk-estimator:hover {background-color: #d4ebff;}#sk-container-id-3 div.sk-parallel-item::after {content: \"\";width: 100%;border-bottom: 1px solid gray;flex-grow: 1;}#sk-container-id-3 div.sk-label:hover label.sk-toggleable__label {background-color: #d4ebff;}#sk-container-id-3 div.sk-serial::before {content: \"\";position: absolute;border-left: 1px solid gray;box-sizing: border-box;top: 0;bottom: 0;left: 50%;z-index: 0;}#sk-container-id-3 div.sk-serial {display: flex;flex-direction: column;align-items: center;background-color: white;padding-right: 0.2em;padding-left: 0.2em;position: relative;}#sk-container-id-3 div.sk-item {position: relative;z-index: 1;}#sk-container-id-3 div.sk-parallel {display: flex;align-items: stretch;justify-content: center;background-color: white;position: relative;}#sk-container-id-3 div.sk-item::before, #sk-container-id-3 div.sk-parallel-item::before {content: \"\";position: absolute;border-left: 1px solid gray;box-sizing: border-box;top: 0;bottom: 0;left: 50%;z-index: -1;}#sk-container-id-3 div.sk-parallel-item {display: flex;flex-direction: column;z-index: 1;position: relative;background-color: white;}#sk-container-id-3 div.sk-parallel-item:first-child::after {align-self: flex-end;width: 50%;}#sk-container-id-3 div.sk-parallel-item:last-child::after {align-self: flex-start;width: 50%;}#sk-container-id-3 div.sk-parallel-item:only-child::after {width: 0;}#sk-container-id-3 div.sk-dashed-wrapped {border: 1px dashed gray;margin: 0 0.4em 0.5em 0.4em;box-sizing: border-box;padding-bottom: 0.4em;background-color: white;}#sk-container-id-3 div.sk-label label {font-family: monospace;font-weight: bold;display: inline-block;line-height: 1.2em;}#sk-container-id-3 div.sk-label-container {text-align: center;}#sk-container-id-3 div.sk-container {/* jupyter's `normalize.less` sets `[hidden] { display: none; }` but bootstrap.min.css set `[hidden] { display: none !important; }` so we also need the `!important` here to be able to override the default hidden behavior on the sphinx rendered scikit-learn.org. See: https://github.com/scikit-learn/scikit-learn/issues/21755 */display: inline-block !important;position: relative;}#sk-container-id-3 div.sk-text-repr-fallback {display: none;}</style><div id=\"sk-container-id-3\" class=\"sk-top-container\"><div class=\"sk-text-repr-fallback\"><pre>SVR()</pre><b>In a Jupyter environment, please rerun this cell to show the HTML representation or trust the notebook. <br />On GitHub, the HTML representation is unable to render, please try loading this page with nbviewer.org.</b></div><div class=\"sk-container\" hidden><div class=\"sk-item\"><div class=\"sk-estimator sk-toggleable\"><input class=\"sk-toggleable__control sk-hidden--visually\" id=\"sk-estimator-id-3\" type=\"checkbox\" checked><label for=\"sk-estimator-id-3\" class=\"sk-toggleable__label sk-toggleable__label-arrow\">SVR</label><div class=\"sk-toggleable__content\"><pre>SVR()</pre></div></div></div></div></div>"
      ],
      "text/plain": [
       "SVR()"
      ]
     },
     "execution_count": 46,
     "metadata": {},
     "output_type": "execute_result"
    }
   ],
   "source": [
    "M.fit(X_train,y_train)"
   ]
  },
  {
   "cell_type": "code",
   "execution_count": 47,
   "id": "6ca3f394-e163-4aa0-9761-249abc23ce31",
   "metadata": {
    "tags": []
   },
   "outputs": [
    {
     "data": {
      "text/plain": [
       "0.21840541170974137"
      ]
     },
     "execution_count": 47,
     "metadata": {},
     "output_type": "execute_result"
    }
   ],
   "source": [
    "M.score(X_test,y_test)"
   ]
  },
  {
   "cell_type": "markdown",
   "id": "c6ec7164-adca-4eb1-a5bd-8767976a09af",
   "metadata": {},
   "source": [
    "# Comparing with other embeddings"
   ]
  },
  {
   "cell_type": "markdown",
   "id": "c1bbabec-a2a7-48ac-88b5-a7b45dca21e3",
   "metadata": {},
   "source": [
    "We also try to predict MPRA expression from alternative embeddings: 4-mer counts and a Word2Vec model.\n",
    "\n",
    "For this, we need to define some utility functions."
   ]
  },
  {
   "cell_type": "code",
   "execution_count": 28,
   "id": "2f2c93e0-559a-434c-a65c-e4384d7f0e70",
   "metadata": {
    "tags": []
   },
   "outputs": [],
   "source": [
    "class Kmerizer:\n",
    "    '''\n",
    "    Helper class to generate k-mers and Word2Vec embeddings\n",
    "    '''\n",
    "    \n",
    "    def __init__(self, k):\n",
    "        \n",
    "        self.k = k\n",
    "        \n",
    "        #generate all possible k-mers, e.g. \n",
    "        self.kmers = {\"\".join(x):i for i,x in zip(range(4**k), itertools.product(\"ACGT\",repeat=k))} \n",
    "        \n",
    "    def kmerize(self, seq):\n",
    "        '''\n",
    "        Count all k-mers in the sequence \n",
    "        Returns:\n",
    "        A list with counts corresponding to each possible k-mer from self.kmers\n",
    "        e.g. for k=2 and seq='ACTAC'\n",
    "        > [0, 2, 0, 0, 0, 0, 0, 1, 0, 0, 0, 0, 1, 0, 0, 0]\n",
    "        '''\n",
    "        counts = [0]*4**self.k\n",
    "        for i in range(len(seq) - self.k + 1): \n",
    "            kmer = seq[i:i+self.k]\n",
    "            counts[self.kmers[kmer]] += 1\n",
    "        return counts\n",
    "    \n",
    "    def tokenize(self, seq):\n",
    "        '''\n",
    "        Get all k-mers in the sequence\n",
    "        Returns:\n",
    "        A list of all k-mers\n",
    "        e.g. for 2-mers and seq='ACTAC' \n",
    "        > ['AC', 'CT', 'TA', 'AC']\n",
    "        '''\n",
    "        kmers = []\n",
    "        for i in range(len(seq) - self.k + 1): \n",
    "            kmer = seq[i:i+self.k]\n",
    "            kmers.append(kmer)\n",
    "        return kmers"
   ]
  },
  {
   "cell_type": "code",
   "execution_count": 29,
   "id": "fdd2d6cc-b2cd-449a-a3db-a34008d75683",
   "metadata": {
    "tags": []
   },
   "outputs": [],
   "source": [
    "def max_repeat_length(seq,k):\n",
    "    \n",
    "    '''\n",
    "    Get repeat lengths of all k-mers in sequence\n",
    "    Returns:\n",
    "    Array of maximal repeat lengths for all k-mers\n",
    "    '''\n",
    "\n",
    "    max_subseq_length = {\"\".join(x):0 for x in itertools.product(\"ACGT\",repeat=k)}\n",
    "\n",
    "    for start in range(k):\n",
    "        n_repeats=1 #each subsequence has at least 1 repeat\n",
    "        for seq_idx in range(start,len(seq)-k+1,k):\n",
    "            subseq = seq[seq_idx:seq_idx+k] #current subsequence\n",
    "            if subseq==seq[seq_idx+k:seq_idx+2*k]: #if repeated at the next position\n",
    "                n_repeats+=1 #increase repeats counter\n",
    "            else:\n",
    "                max_subseq_length[subseq] = max(max_subseq_length[subseq],n_repeats) #is the current subseq repeat longer?\n",
    "                n_repeats = 1 #reinitialize repeats counter\n",
    "                \n",
    "        max_subseq_length[subseq] = max(max_subseq_length[subseq],n_repeats) #end of the sequence\n",
    "       \n",
    "    repeat_length = np.array(list(max_subseq_length.values()))\n",
    "    \n",
    "    return repeat_length"
   ]
  },
  {
   "cell_type": "markdown",
   "id": "0339f16f-1dbb-4c17-9081-6e126bedf0a7",
   "metadata": {},
   "source": [
    "# Assessing model stability"
   ]
  },
  {
   "cell_type": "markdown",
   "id": "c7b1fea8-3189-473f-b847-9bedfb4cc934",
   "metadata": {
    "tags": []
   },
   "source": [
    "For a stable model, the predictions are robust with respect to small changes in the train set.\n",
    "\n",
    "To assess model stability, one performs repeated Cross-Validation: at each round the dataset is split into the same number of folds, but the fold contents is different each time. Then deviations in predictions for each test point are estimated.\n",
    "\n",
    "Example for classification:\n",
    "\n",
    "![Model stability](https://i.stack.imgur.com/vqyGM.png)"
   ]
  },
  {
   "cell_type": "code",
   "execution_count": null,
   "id": "6c8429ee-6336-4d9a-b238-c50a9c7dbf32",
   "metadata": {
    "tags": []
   },
   "outputs": [],
   "source": [
    "#pipe = make_pipeline(sklearn.preprocessing.StandardScaler(), \n",
    "#                     sklearn.svm.SVR(C=4, epsilon=0.1))\n",
    "\n",
    "\n",
    "pipe = make_pipeline(sklearn.preprocessing.StandardScaler(), \n",
    "                     sklearn.linear_model.RidgeCV(cv=3)) \n",
    "\n",
    "N_rounds = 100 #number of CV rounds\n",
    "N_splits = 10 #number of CV splits in each round\n",
    "\n",
    "N_instances = len(y) #total number of test points equals to dataset size\n",
    "\n",
    "cv_res = np.zeros((N_rounds*N_splits,N_instances)) #CV predictions for each point\n",
    "cv_res[:] = np.NaN \n",
    "\n",
    "cv_scores = [] #Pearson R^2 for each fold in each round, N_rounds X N_splits\n",
    "\n",
    "for round_idx in range(N_rounds):\n",
    "    \n",
    "    print(f'CV round {round_idx}')\n",
    "\n",
    "    gss = GroupShuffleSplit(n_splits=N_splits, train_size=.9, random_state = round_idx) #10-fold CV\n",
    "\n",
    "    for fold_idx, (train_idx, test_idx) in enumerate(gss.split(X, y, groups)):\n",
    "       \n",
    "        X_train, X_test, y_train, y_test = X[train_idx,:],X[test_idx,:],y[train_idx],y[test_idx]\n",
    "        \n",
    "        pipe.fit(X_train,y_train)\n",
    "        \n",
    "        y_pred = pipe.predict(X_test)\n",
    "            \n",
    "        cv_res[round_idx*N_splits+fold_idx,test_idx] = y_pred #predictions for test instances in this fold in this round\n",
    "        \n",
    "        cv_scores.append((pearson_r(y_pred,y_test)**2, round_idx)) #score for this fold in this round\n",
    "        \n",
    "cv_scores = pd.DataFrame(cv_scores, columns=['Pearson r^2', 'CV round'])"
   ]
  },
  {
   "cell_type": "code",
   "execution_count": 57,
   "id": "a88c0a09-ee62-4b59-bca9-63188f2936f2",
   "metadata": {
    "tags": []
   },
   "outputs": [
    {
     "data": {
      "image/png": "[encoded data removed]",
      "text/plain": [
       "<Figure size 400x400 with 1 Axes>"
      ]
     },
     "metadata": {},
     "output_type": "display_data"
    }
   ],
   "source": [
    "fig, ax = plt.subplots(figsize=(4,4))\n",
    "\n",
    "cv_scores['model'] = 'MLM'\n",
    "\n",
    "ax = sns.swarmplot(data=cv_scores[cv_scores['CV round']<10],y='Pearson r^2',x='model',hue=\"CV round\", palette=\"deep\")\n",
    "ax = sns.boxplot(data=cv_scores,y='Pearson r^2',x='model', boxprops={'facecolor':'None'})\n",
    "sns.move_legend(ax, \"upper left\", bbox_to_anchor=(1, 1))"
   ]
  },
  {
   "cell_type": "code",
   "execution_count": 58,
   "id": "f98ae0e0-af20-46cf-8955-ec5d9e99682f",
   "metadata": {
    "tags": []
   },
   "outputs": [],
   "source": [
    "y_pred_av = np.nanmean(cv_res,axis=0) #average prediction for each point (not necessarily correct)\n",
    "\n",
    "mae = np.nanmean(np.absolute(cv_res - y_pred_av)) #mean absolute error for each point across rounds\n",
    "\n",
    "mae_relative = np.absolute(mae/y_pred_av) #relative MAE w.r.t. average prediction"
   ]
  },
  {
   "cell_type": "code",
   "execution_count": 59,
   "id": "1a9420ca-a9b9-400c-befe-10b5f2f589c6",
   "metadata": {
    "tags": []
   },
   "outputs": [
    {
     "name": "stdout",
     "output_type": "stream",
     "text": [
      "25% of points deviate by less than  9% due to train set change\n",
      "50% of points deviate by less than 15% due to train set change\n",
      "75% of points deviate by less than 33% due to train set change\n",
      "90% of points deviate by less than 84% due to train set change\n"
     ]
    }
   ],
   "source": [
    "for pct in (25, 50, 75, 90):\n",
    "    percentile = np.percentile(mae_relative, pct)\n",
    "    print(f'{pct}% of points deviate by less than {round(percentile*100):2d}% due to train set change')"
   ]
  },
  {
   "cell_type": "markdown",
   "id": "6c670cfe-7459-4095-960d-1ea9a1272e54",
   "metadata": {},
   "source": [
    "When choosing models, we prefer stable ones.\n",
    "\n",
    "How to fight instability?\n",
    "\n",
    "- add regularization\n",
    "- use stable algorithms\n",
    "- perform feature engineering"
   ]
  },
  {
   "cell_type": "markdown",
   "id": "f57808a8-7620-4844-9ccc-f63c920cbc03",
   "metadata": {},
   "source": [
    "How to estimate generalization performance of an unstable model?"
   ]
  },
  {
   "cell_type": "code",
   "execution_count": 60,
   "id": "4cb7bb10-176f-4b4f-b120-9f0b57cd3446",
   "metadata": {
    "tags": []
   },
   "outputs": [],
   "source": [
    "score_per_round = cv_scores.groupby('CV round')['Pearson r^2'].mean()\n",
    "\n",
    "CV_rounds = np.arange(1,N_rounds+1)\n",
    "\n",
    "average_score = np.cumsum(score_per_round)/CV_rounds"
   ]
  },
  {
   "cell_type": "code",
   "execution_count": 61,
   "id": "cc7a48dc-44cf-439d-b729-682549d93ab2",
   "metadata": {
    "tags": []
   },
   "outputs": [
    {
     "data": {
      "image/png": "[encoded data removed]",
      "text/plain": [
       "<Figure size 640x480 with 1 Axes>"
      ]
     },
     "metadata": {},
     "output_type": "display_data"
    }
   ],
   "source": [
    "fig, ax = plt.subplots()\n",
    "\n",
    "ax.plot(CV_rounds, average_score, marker='o', markersize=2)\n",
    "ax.set_xlabel('Averaging CV rounds')\n",
    "ax.set_ylabel('Pearson r^2')\n",
    "ax.grid()"
   ]
  },
  {
   "cell_type": "markdown",
   "id": "bdc6b5b7-edc4-47f0-93e3-eeb109d9f236",
   "metadata": {
    "tags": []
   },
   "source": [
    "To get estimate generalization performance of an unstable model, one performs repeated K-fold CV. The score is then averaged over all folds and in rounds. The number of repeats can be determined by plotting the averaged performance score vs the number of rounds."
   ]
  },
  {
   "cell_type": "code",
   "execution_count": 73,
   "id": "4e6cdb11-22be-4596-a402-dfd262dae823",
   "metadata": {
    "tags": []
   },
   "outputs": [],
   "source": [
    "M = MLPRegressor(p_dropout=0.1,weight_decay=2)\n",
    "M.fit(X_train,y_train,X_test,y_test)\n"
   ]
  },
  {
   "cell_type": "code",
   "execution_count": 74,
   "id": "45a7fc9e-0ddc-478e-9f56-93e3e6784a71",
   "metadata": {
    "tags": []
   },
   "outputs": [
    {
     "data": {
      "image/png": "[encoded data removed]",
      "text/plain": [
       "<Figure size 640x480 with 1 Axes>"
      ]
     },
     "metadata": {},
     "output_type": "display_data"
    }
   ],
   "source": [
    "t,v = zip(*M.history)\n",
    "fig, ax = plt.subplots()\n",
    "ax.plot(v)\n",
    "ax.plot(t)\n",
    "ax.grid()"
   ]
  },
  {
   "cell_type": "code",
   "execution_count": 75,
   "id": "6c8f8412-4df0-4aae-bf6e-551dddada2c9",
   "metadata": {
    "tags": []
   },
   "outputs": [
    {
     "name": "stdout",
     "output_type": "stream",
     "text": [
      "MLM\n"
     ]
    },
    {
     "name": "stderr",
     "output_type": "stream",
     "text": [
      "/data/ouga/home/ag_gagneur/l_vilov/miniconda3/envs/svilov-spade/lib/python3.10/site-packages/torch/nn/modules/lazy.py:180: UserWarning: Lazy modules are a new feature under heavy development so changes to the API or functionality can happen at any moment.\n",
      "  warnings.warn('Lazy modules are a new feature under heavy development '\n",
      "/data/ouga/home/ag_gagneur/l_vilov/miniconda3/envs/svilov-spade/lib/python3.10/site-packages/torch/nn/modules/lazy.py:180: UserWarning: Lazy modules are a new feature under heavy development so changes to the API or functionality can happen at any moment.\n",
      "  warnings.warn('Lazy modules are a new feature under heavy development '\n",
      "/data/ouga/home/ag_gagneur/l_vilov/miniconda3/envs/svilov-spade/lib/python3.10/site-packages/torch/nn/modules/lazy.py:180: UserWarning: Lazy modules are a new feature under heavy development so changes to the API or functionality can happen at any moment.\n",
      "  warnings.warn('Lazy modules are a new feature under heavy development '\n",
      "/data/ouga/home/ag_gagneur/l_vilov/miniconda3/envs/svilov-spade/lib/python3.10/site-packages/torch/nn/modules/lazy.py:180: UserWarning: Lazy modules are a new feature under heavy development so changes to the API or functionality can happen at any moment.\n",
      "  warnings.warn('Lazy modules are a new feature under heavy development '\n",
      "/data/ouga/home/ag_gagneur/l_vilov/miniconda3/envs/svilov-spade/lib/python3.10/site-packages/torch/nn/modules/lazy.py:180: UserWarning: Lazy modules are a new feature under heavy development so changes to the API or functionality can happen at any moment.\n",
      "  warnings.warn('Lazy modules are a new feature under heavy development '\n",
      "/data/ouga/home/ag_gagneur/l_vilov/miniconda3/envs/svilov-spade/lib/python3.10/site-packages/torch/nn/modules/lazy.py:180: UserWarning: Lazy modules are a new feature under heavy development so changes to the API or functionality can happen at any moment.\n",
      "  warnings.warn('Lazy modules are a new feature under heavy development '\n",
      "/data/ouga/home/ag_gagneur/l_vilov/miniconda3/envs/svilov-spade/lib/python3.10/site-packages/torch/nn/modules/lazy.py:180: UserWarning: Lazy modules are a new feature under heavy development so changes to the API or functionality can happen at any moment.\n",
      "  warnings.warn('Lazy modules are a new feature under heavy development '\n",
      "/data/ouga/home/ag_gagneur/l_vilov/miniconda3/envs/svilov-spade/lib/python3.10/site-packages/torch/nn/modules/lazy.py:180: UserWarning: Lazy modules are a new feature under heavy development so changes to the API or functionality can happen at any moment.\n",
      "  warnings.warn('Lazy modules are a new feature under heavy development '\n",
      "/data/ouga/home/ag_gagneur/l_vilov/miniconda3/envs/svilov-spade/lib/python3.10/site-packages/torch/nn/modules/lazy.py:180: UserWarning: Lazy modules are a new feature under heavy development so changes to the API or functionality can happen at any moment.\n",
      "  warnings.warn('Lazy modules are a new feature under heavy development '\n",
      "/data/ouga/home/ag_gagneur/l_vilov/miniconda3/envs/svilov-spade/lib/python3.10/site-packages/torch/nn/modules/lazy.py:180: UserWarning: Lazy modules are a new feature under heavy development so changes to the API or functionality can happen at any moment.\n",
      "  warnings.warn('Lazy modules are a new feature under heavy development '\n"
     ]
    },
    {
     "name": "stdout",
     "output_type": "stream",
     "text": [
      "4-mer counts\n"
     ]
    },
    {
     "name": "stderr",
     "output_type": "stream",
     "text": [
      "/data/ouga/home/ag_gagneur/l_vilov/miniconda3/envs/svilov-spade/lib/python3.10/site-packages/torch/nn/modules/lazy.py:180: UserWarning: Lazy modules are a new feature under heavy development so changes to the API or functionality can happen at any moment.\n",
      "  warnings.warn('Lazy modules are a new feature under heavy development '\n",
      "/data/ouga/home/ag_gagneur/l_vilov/miniconda3/envs/svilov-spade/lib/python3.10/site-packages/torch/nn/modules/lazy.py:180: UserWarning: Lazy modules are a new feature under heavy development so changes to the API or functionality can happen at any moment.\n",
      "  warnings.warn('Lazy modules are a new feature under heavy development '\n",
      "/data/ouga/home/ag_gagneur/l_vilov/miniconda3/envs/svilov-spade/lib/python3.10/site-packages/torch/nn/modules/lazy.py:180: UserWarning: Lazy modules are a new feature under heavy development so changes to the API or functionality can happen at any moment.\n",
      "  warnings.warn('Lazy modules are a new feature under heavy development '\n",
      "/data/ouga/home/ag_gagneur/l_vilov/miniconda3/envs/svilov-spade/lib/python3.10/site-packages/torch/nn/modules/lazy.py:180: UserWarning: Lazy modules are a new feature under heavy development so changes to the API or functionality can happen at any moment.\n",
      "  warnings.warn('Lazy modules are a new feature under heavy development '\n",
      "/data/ouga/home/ag_gagneur/l_vilov/miniconda3/envs/svilov-spade/lib/python3.10/site-packages/torch/nn/modules/lazy.py:180: UserWarning: Lazy modules are a new feature under heavy development so changes to the API or functionality can happen at any moment.\n",
      "  warnings.warn('Lazy modules are a new feature under heavy development '\n",
      "/data/ouga/home/ag_gagneur/l_vilov/miniconda3/envs/svilov-spade/lib/python3.10/site-packages/torch/nn/modules/lazy.py:180: UserWarning: Lazy modules are a new feature under heavy development so changes to the API or functionality can happen at any moment.\n",
      "  warnings.warn('Lazy modules are a new feature under heavy development '\n",
      "/data/ouga/home/ag_gagneur/l_vilov/miniconda3/envs/svilov-spade/lib/python3.10/site-packages/torch/nn/modules/lazy.py:180: UserWarning: Lazy modules are a new feature under heavy development so changes to the API or functionality can happen at any moment.\n",
      "  warnings.warn('Lazy modules are a new feature under heavy development '\n",
      "/data/ouga/home/ag_gagneur/l_vilov/miniconda3/envs/svilov-spade/lib/python3.10/site-packages/torch/nn/modules/lazy.py:180: UserWarning: Lazy modules are a new feature under heavy development so changes to the API or functionality can happen at any moment.\n",
      "  warnings.warn('Lazy modules are a new feature under heavy development '\n",
      "/data/ouga/home/ag_gagneur/l_vilov/miniconda3/envs/svilov-spade/lib/python3.10/site-packages/torch/nn/modules/lazy.py:180: UserWarning: Lazy modules are a new feature under heavy development so changes to the API or functionality can happen at any moment.\n",
      "  warnings.warn('Lazy modules are a new feature under heavy development '\n",
      "/data/ouga/home/ag_gagneur/l_vilov/miniconda3/envs/svilov-spade/lib/python3.10/site-packages/torch/nn/modules/lazy.py:180: UserWarning: Lazy modules are a new feature under heavy development so changes to the API or functionality can happen at any moment.\n",
      "  warnings.warn('Lazy modules are a new feature under heavy development '\n"
     ]
    },
    {
     "name": "stdout",
     "output_type": "stream",
     "text": [
      "Word2Vec\n"
     ]
    },
    {
     "name": "stderr",
     "output_type": "stream",
     "text": [
      "/data/ouga/home/ag_gagneur/l_vilov/miniconda3/envs/svilov-spade/lib/python3.10/site-packages/torch/nn/modules/lazy.py:180: UserWarning: Lazy modules are a new feature under heavy development so changes to the API or functionality can happen at any moment.\n",
      "  warnings.warn('Lazy modules are a new feature under heavy development '\n",
      "/data/ouga/home/ag_gagneur/l_vilov/miniconda3/envs/svilov-spade/lib/python3.10/site-packages/torch/nn/modules/lazy.py:180: UserWarning: Lazy modules are a new feature under heavy development so changes to the API or functionality can happen at any moment.\n",
      "  warnings.warn('Lazy modules are a new feature under heavy development '\n",
      "/data/ouga/home/ag_gagneur/l_vilov/miniconda3/envs/svilov-spade/lib/python3.10/site-packages/torch/nn/modules/lazy.py:180: UserWarning: Lazy modules are a new feature under heavy development so changes to the API or functionality can happen at any moment.\n",
      "  warnings.warn('Lazy modules are a new feature under heavy development '\n",
      "/data/ouga/home/ag_gagneur/l_vilov/miniconda3/envs/svilov-spade/lib/python3.10/site-packages/torch/nn/modules/lazy.py:180: UserWarning: Lazy modules are a new feature under heavy development so changes to the API or functionality can happen at any moment.\n",
      "  warnings.warn('Lazy modules are a new feature under heavy development '\n",
      "/data/ouga/home/ag_gagneur/l_vilov/miniconda3/envs/svilov-spade/lib/python3.10/site-packages/torch/nn/modules/lazy.py:180: UserWarning: Lazy modules are a new feature under heavy development so changes to the API or functionality can happen at any moment.\n",
      "  warnings.warn('Lazy modules are a new feature under heavy development '\n",
      "/data/ouga/home/ag_gagneur/l_vilov/miniconda3/envs/svilov-spade/lib/python3.10/site-packages/torch/nn/modules/lazy.py:180: UserWarning: Lazy modules are a new feature under heavy development so changes to the API or functionality can happen at any moment.\n",
      "  warnings.warn('Lazy modules are a new feature under heavy development '\n",
      "/data/ouga/home/ag_gagneur/l_vilov/miniconda3/envs/svilov-spade/lib/python3.10/site-packages/torch/nn/modules/lazy.py:180: UserWarning: Lazy modules are a new feature under heavy development so changes to the API or functionality can happen at any moment.\n",
      "  warnings.warn('Lazy modules are a new feature under heavy development '\n",
      "/data/ouga/home/ag_gagneur/l_vilov/miniconda3/envs/svilov-spade/lib/python3.10/site-packages/torch/nn/modules/lazy.py:180: UserWarning: Lazy modules are a new feature under heavy development so changes to the API or functionality can happen at any moment.\n",
      "  warnings.warn('Lazy modules are a new feature under heavy development '\n",
      "/data/ouga/home/ag_gagneur/l_vilov/miniconda3/envs/svilov-spade/lib/python3.10/site-packages/torch/nn/modules/lazy.py:180: UserWarning: Lazy modules are a new feature under heavy development so changes to the API or functionality can happen at any moment.\n",
      "  warnings.warn('Lazy modules are a new feature under heavy development '\n",
      "/data/ouga/home/ag_gagneur/l_vilov/miniconda3/envs/svilov-spade/lib/python3.10/site-packages/torch/nn/modules/lazy.py:180: UserWarning: Lazy modules are a new feature under heavy development so changes to the API or functionality can happen at any moment.\n",
      "  warnings.warn('Lazy modules are a new feature under heavy development '\n"
     ]
    },
    {
     "name": "stdout",
     "output_type": "stream",
     "text": [
      "Griesemer et al.\n"
     ]
    },
    {
     "name": "stderr",
     "output_type": "stream",
     "text": [
      "/data/ouga/home/ag_gagneur/l_vilov/miniconda3/envs/svilov-spade/lib/python3.10/site-packages/torch/nn/modules/lazy.py:180: UserWarning: Lazy modules are a new feature under heavy development so changes to the API or functionality can happen at any moment.\n",
      "  warnings.warn('Lazy modules are a new feature under heavy development '\n",
      "/data/ouga/home/ag_gagneur/l_vilov/miniconda3/envs/svilov-spade/lib/python3.10/site-packages/torch/nn/modules/lazy.py:180: UserWarning: Lazy modules are a new feature under heavy development so changes to the API or functionality can happen at any moment.\n",
      "  warnings.warn('Lazy modules are a new feature under heavy development '\n",
      "/data/ouga/home/ag_gagneur/l_vilov/miniconda3/envs/svilov-spade/lib/python3.10/site-packages/torch/nn/modules/lazy.py:180: UserWarning: Lazy modules are a new feature under heavy development so changes to the API or functionality can happen at any moment.\n",
      "  warnings.warn('Lazy modules are a new feature under heavy development '\n",
      "/data/ouga/home/ag_gagneur/l_vilov/miniconda3/envs/svilov-spade/lib/python3.10/site-packages/torch/nn/modules/lazy.py:180: UserWarning: Lazy modules are a new feature under heavy development so changes to the API or functionality can happen at any moment.\n",
      "  warnings.warn('Lazy modules are a new feature under heavy development '\n",
      "/data/ouga/home/ag_gagneur/l_vilov/miniconda3/envs/svilov-spade/lib/python3.10/site-packages/torch/nn/modules/lazy.py:180: UserWarning: Lazy modules are a new feature under heavy development so changes to the API or functionality can happen at any moment.\n",
      "  warnings.warn('Lazy modules are a new feature under heavy development '\n",
      "/data/ouga/home/ag_gagneur/l_vilov/miniconda3/envs/svilov-spade/lib/python3.10/site-packages/torch/nn/modules/lazy.py:180: UserWarning: Lazy modules are a new feature under heavy development so changes to the API or functionality can happen at any moment.\n",
      "  warnings.warn('Lazy modules are a new feature under heavy development '\n",
      "/data/ouga/home/ag_gagneur/l_vilov/miniconda3/envs/svilov-spade/lib/python3.10/site-packages/torch/nn/modules/lazy.py:180: UserWarning: Lazy modules are a new feature under heavy development so changes to the API or functionality can happen at any moment.\n",
      "  warnings.warn('Lazy modules are a new feature under heavy development '\n",
      "/data/ouga/home/ag_gagneur/l_vilov/miniconda3/envs/svilov-spade/lib/python3.10/site-packages/torch/nn/modules/lazy.py:180: UserWarning: Lazy modules are a new feature under heavy development so changes to the API or functionality can happen at any moment.\n",
      "  warnings.warn('Lazy modules are a new feature under heavy development '\n",
      "/data/ouga/home/ag_gagneur/l_vilov/miniconda3/envs/svilov-spade/lib/python3.10/site-packages/torch/nn/modules/lazy.py:180: UserWarning: Lazy modules are a new feature under heavy development so changes to the API or functionality can happen at any moment.\n",
      "  warnings.warn('Lazy modules are a new feature under heavy development '\n",
      "/data/ouga/home/ag_gagneur/l_vilov/miniconda3/envs/svilov-spade/lib/python3.10/site-packages/torch/nn/modules/lazy.py:180: UserWarning: Lazy modules are a new feature under heavy development so changes to the API or functionality can happen at any moment.\n",
      "  warnings.warn('Lazy modules are a new feature under heavy development '\n"
     ]
    }
   ],
   "source": [
    "metrics_mpra = []\n",
    "\n",
    "clf = sklearn.linear_model.Ridge()\n",
    "parameter_grid = {'alpha':10.**np.arange(-10,10)}\n",
    "        \n",
    "#clf = sklearn.ensemble.RandomForestRegressor(n_estimators=1000,n_jobs=-1,min_samples_leaf=25)\n",
    "#parameter_grid = None\n",
    "\n",
    "        \n",
    "clf = MLPRegressor(p_dropout=0.1,weight_decay=2)\n",
    "parameter_grid = None\n",
    "\n",
    "\n",
    "for model, X in data_matrices.items():\n",
    "    \n",
    "    print(model)\n",
    "  \n",
    "    r2 = group_cv(clf,parameter_grid,strategy='grid')\n",
    "    \n",
    "    for r2_val in r2:\n",
    "        metrics_mpra.append((model, r2_val))\n",
    "\n",
    "metrics_mpra = pd.DataFrame(metrics_mpra, columns=['model','score'])"
   ]
  },
  {
   "cell_type": "code",
   "execution_count": 33,
   "id": "1ec9adfa-89ae-4f69-9491-7a9c3abf5ed3",
   "metadata": {
    "tags": []
   },
   "outputs": [
    {
     "data": {
      "text/html": [
       "<div>\n",
       "<style scoped>\n",
       "    .dataframe tbody tr th:only-of-type {\n",
       "        vertical-align: middle;\n",
       "    }\n",
       "\n",
       "    .dataframe tbody tr th {\n",
       "        vertical-align: top;\n",
       "    }\n",
       "\n",
       "    .dataframe thead th {\n",
       "        text-align: right;\n",
       "    }\n",
       "</style>\n",
       "<table border=\"1\" class=\"dataframe\">\n",
       "  <thead>\n",
       "    <tr style=\"text-align: right;\">\n",
       "      <th></th>\n",
       "      <th>score</th>\n",
       "    </tr>\n",
       "    <tr>\n",
       "      <th>model</th>\n",
       "      <th></th>\n",
       "    </tr>\n",
       "  </thead>\n",
       "  <tbody>\n",
       "    <tr>\n",
       "      <th>4-mer counts</th>\n",
       "      <td>0.158002</td>\n",
       "    </tr>\n",
       "    <tr>\n",
       "      <th>Griesemer et al.</th>\n",
       "      <td>0.185053</td>\n",
       "    </tr>\n",
       "    <tr>\n",
       "      <th>MLM</th>\n",
       "      <td>0.269795</td>\n",
       "    </tr>\n",
       "    <tr>\n",
       "      <th>Word2Vec</th>\n",
       "      <td>0.179525</td>\n",
       "    </tr>\n",
       "  </tbody>\n",
       "</table>\n",
       "</div>"
      ],
      "text/plain": [
       "                     score\n",
       "model                     \n",
       "4-mer counts      0.158002\n",
       "Griesemer et al.  0.185053\n",
       "MLM               0.269795\n",
       "Word2Vec          0.179525"
      ]
     },
     "execution_count": 33,
     "metadata": {},
     "output_type": "execute_result"
    }
   ],
   "source": [
    "metrics_mpra.groupby('model').mean()"
   ]
  },
  {
   "cell_type": "code",
   "execution_count": 34,
   "id": "7b128781-a0fd-44a6-bed9-a76363101c4c",
   "metadata": {
    "tags": []
   },
   "outputs": [],
   "source": [
    "mpl.rcParams.update({'xtick.labelsize': 14, 'ytick.labelsize': 14, \n",
    "                     'axes.titlesize':14, 'axes.labelsize':16})"
   ]
  },
  {
   "cell_type": "code",
   "execution_count": 35,
   "id": "7f2f71ed-7564-442e-8925-864e285e2f13",
   "metadata": {
    "tags": []
   },
   "outputs": [
    {
     "name": "stdout",
     "output_type": "stream",
     "text": [
      "p-value annotation legend:\n",
      "      ns: p <= 1.00e+00\n",
      "       *: 1.00e-02 < p <= 5.00e-02\n",
      "      **: 1.00e-03 < p <= 1.00e-02\n",
      "     ***: 1.00e-04 < p <= 1.00e-03\n",
      "    ****: p <= 1.00e-04\n",
      "\n",
      "MLM vs. 4-mer counts: Wilcoxon test (paired samples) with Benjamini-Hochberg correction, P_val:1.953e-03 Stat=0.000e+00\n",
      "MLM vs. Word2Vec: Wilcoxon test (paired samples) with Benjamini-Hochberg correction, P_val:1.953e-03 Stat=0.000e+00\n",
      "MLM vs. Griesemer et al.: Wilcoxon test (paired samples) with Benjamini-Hochberg correction, P_val:5.859e-03 Stat=2.000e+00\n"
     ]
    },
    {
     "data": {
      "image/png": "[encoded data removed]",
      "text/plain": [
       "<Figure size 500x500 with 1 Axes>"
      ]
     },
     "metadata": {},
     "output_type": "display_data"
    }
   ],
   "source": [
    "box_pairs=[\n",
    "    (\"MLM\", \"4-mer counts\"),\n",
    "    (\"MLM\", \"Word2Vec\"),\n",
    "    (\"MLM\", \"Griesemer et al.\"),\n",
    "    ]\n",
    "\n",
    "fig, ax = plt.subplots(figsize=(5,5), dpi=100)\n",
    "\n",
    "ax = sns.swarmplot(data=metrics_mpra, x=\"model\", y=\"score\") #scatter plot\n",
    "ax = sns.boxplot(data=metrics_mpra, x=\"model\", y=\"score\", boxprops={'facecolor':'None'})\n",
    "\n",
    "annotator = Annotator(ax, box_pairs, data=metrics_mpra, x=\"model\", y=\"score\")\n",
    "annotator.configure(test='Wilcoxon', text_format='star', loc='inside', comparisons_correction=\"BH\")\n",
    "#annotator.configure(test='t-test_paired', text_format='star', loc='inside', comparisons_correction=\"BH\")\n",
    "\n",
    "annotator.apply_and_annotate()\n",
    "\n",
    "ax.set_xlabel(\"\")\n",
    "ax.set_ylabel(\"Pearson R-squared\")\n",
    "ax.tick_params(rotation=30)\n",
    "ax.set_title(cell_type)\n",
    "ax.grid()\n",
    "\n",
    "#fig.savefig(\"../../../../Plots/Downstream_mpra.svg\") "
   ]
  },
  {
   "cell_type": "code",
   "execution_count": null,
   "id": "b2c492ed-f1a6-4a04-a054-bdc64cbbe2d7",
   "metadata": {},
   "outputs": [],
   "source": []
  },
  {
   "cell_type": "code",
   "execution_count": null,
   "id": "b3597dc0-5e0b-4626-b3cb-09eab5ec21e4",
   "metadata": {},
   "outputs": [],
   "source": []
  }
 ],
 "metadata": {
  "kernelspec": {
   "display_name": "Python [conda env:miniconda3-svilov-spade]",
   "language": "python",
   "name": "conda-env-miniconda3-svilov-spade-py"
  },
  "language_info": {
   "codemirror_mode": {
    "name": "ipython",
    "version": 3
   },
   "file_extension": ".py",
   "mimetype": "text/x-python",
   "name": "python",
   "nbconvert_exporter": "python",
   "pygments_lexer": "ipython3",
   "version": "3.10.9"
  }
 },
 "nbformat": 4,
 "nbformat_minor": 5
}
