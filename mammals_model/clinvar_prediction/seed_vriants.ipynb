{
 "cells": [
  {
   "cell_type": "code",
   "execution_count": 14,
   "id": "9c6fb9b6-e482-450b-909a-8e6ed7af2d62",
   "metadata": {
    "tags": []
   },
   "outputs": [],
   "source": [
    "import numpy as np\n",
    "import pandas as pd\n",
    "from collections import defaultdict\n",
    "from textwrap import wrap"
   ]
  },
  {
   "cell_type": "code",
   "execution_count": 15,
   "id": "d51c7a36-13f7-47c4-9af9-91bd26005907",
   "metadata": {
    "tags": []
   },
   "outputs": [],
   "source": [
    "data_dir = '/s/project/mll/sergey/effect_prediction/MLM/'"
   ]
  },
  {
   "cell_type": "code",
   "execution_count": 16,
   "id": "03c21006-18b2-4e34-986f-5e91d6cf8af3",
   "metadata": {},
   "outputs": [],
   "source": [
    "#3'UTR table\n",
    "\n",
    "utr_table = pd.read_csv(data_dir + 'UTR_coords/GRCh38_3_prime_UTR_clean-sorted.bed', sep='\\t',\n",
    "                       header = None, names=['seq_start','seq_end','seq_name','strand'], usecols=[1,2,3,5])"
   ]
  },
  {
   "cell_type": "code",
   "execution_count": 17,
   "id": "a8e325d2-6ba2-49f9-953b-c51e08e4921d",
   "metadata": {
    "tags": []
   },
   "outputs": [],
   "source": [
    "utr_variants = pd.read_csv(data_dir + 'clinvar/clinvar.3utr.tsv', sep='\\t', names=['chrom','pos','var_id','ref','alt','seq_name','label'])"
   ]
  },
  {
   "cell_type": "code",
   "execution_count": 18,
   "id": "07e62c63-7865-49f3-b40d-6af4b02b96fe",
   "metadata": {
    "tags": []
   },
   "outputs": [],
   "source": [
    "utr_variants.pos = utr_variants.pos-1 #to 0-based"
   ]
  },
  {
   "cell_type": "code",
   "execution_count": 19,
   "id": "bd0183ae-7333-4aec-bed1-46886588be1a",
   "metadata": {
    "tags": []
   },
   "outputs": [],
   "source": [
    "utr_variants = utr_variants[utr_variants.alt!='.'] #around 30 variants, not reliable"
   ]
  },
  {
   "cell_type": "code",
   "execution_count": 20,
   "id": "73c6d21b-4ce7-4874-ba2f-99736c4e55f5",
   "metadata": {
    "tags": []
   },
   "outputs": [],
   "source": [
    "utr_variants = utr_variants.merge(utr_table, how='left')"
   ]
  },
  {
   "cell_type": "code",
   "execution_count": 21,
   "id": "83d629f6-46b1-4cea-bbf7-ac721497a616",
   "metadata": {
    "tags": []
   },
   "outputs": [],
   "source": [
    "utr_variants['ref_len'] = utr_variants.ref.apply(len)\n",
    "utr_variants['alt_len'] = utr_variants.alt.apply(len)"
   ]
  },
  {
   "cell_type": "code",
   "execution_count": 22,
   "id": "3409cb5f-7630-4312-a91f-364997c32732",
   "metadata": {
    "tags": []
   },
   "outputs": [],
   "source": [
    "utr_variants = utr_variants[utr_variants[['ref_len','alt_len']].min(axis=1)==1] #remove MNP variants"
   ]
  },
  {
   "cell_type": "code",
   "execution_count": 23,
   "id": "be97bae2-62d8-4780-a195-4faf03abcf69",
   "metadata": {
    "tags": []
   },
   "outputs": [],
   "source": [
    "utr_variants['varlen'] = abs(utr_variants.ref_len - utr_variants.alt_len)\n",
    "utr_variants['dist_to_utr_start'] = utr_variants.apply(lambda x: x.varlen+x.pos-x.seq_start if x.strand=='+' else  x.varlen+x.seq_end-x.pos, axis=1)"
   ]
  },
  {
   "cell_type": "code",
   "execution_count": 24,
   "id": "5071a51c-896a-48f1-9fc8-5e4667fdd676",
   "metadata": {
    "tags": []
   },
   "outputs": [],
   "source": [
    "utr_variants = utr_variants[utr_variants.dist_to_utr_start<5000] #limit by the maximum sequence length on species-aware model"
   ]
  },
  {
   "cell_type": "code",
   "execution_count": 25,
   "id": "37a699bc-ef4c-48d0-b094-3708318bcdf8",
   "metadata": {
    "tags": []
   },
   "outputs": [],
   "source": [
    "utr_variants['is_del'] = False\n",
    "utr_variants.loc[utr_variants.ref_len > utr_variants.alt_len, 'is_del'] = True"
   ]
  },
  {
   "cell_type": "code",
   "execution_count": 182,
   "id": "7e42ab6a-1728-4e9d-ac21-1778a6a3bd5d",
   "metadata": {
    "tags": []
   },
   "outputs": [
    {
     "data": {
      "text/plain": [
       "21350"
      ]
     },
     "execution_count": 182,
     "metadata": {},
     "output_type": "execute_result"
    }
   ],
   "source": [
    "len(utr_variants)"
   ]
  },
  {
   "cell_type": "code",
   "execution_count": 183,
   "id": "8ad86f23-795e-45ac-8ff3-44128d18957f",
   "metadata": {
    "tags": []
   },
   "outputs": [],
   "source": [
    "human_fasta = data_dir + 'fasta/Homo_sapiens_no_reverse.fa'"
   ]
  },
  {
   "cell_type": "code",
   "execution_count": 184,
   "id": "6a13ca2b-b271-4635-bb50-b84c5395ed64",
   "metadata": {},
   "outputs": [],
   "source": [
    "human_utr = defaultdict(str)\n",
    "\n",
    "with open(human_fasta, 'r') as f:\n",
    "    for line in f:\n",
    "        if line.startswith('>'):\n",
    "            seq_name = line[1:].split(':')[0].rstrip()\n",
    "        else:\n",
    "            human_utr[seq_name] += line.upper().rstrip()"
   ]
  },
  {
   "cell_type": "code",
   "execution_count": 196,
   "id": "033970af-8a31-4c3c-8131-6ca6363d7e7e",
   "metadata": {},
   "outputs": [],
   "source": [
    "def reverse_complement(seq):\n",
    "    '''\n",
    "    Take sequence reverse complement\n",
    "    '''\n",
    "    compl_dict = {'A':'T', 'C':'G', 'G':'C', 'T':'A'}\n",
    "    compl_seq = ''.join([compl_dict.get(x,x) for x in seq])\n",
    "    rev_seq = compl_seq[::-1]\n",
    "    return rev_seq"
   ]
  },
  {
   "cell_type": "code",
   "execution_count": 203,
   "id": "152dab71-84cc-43f3-99e7-3841b8cf736a",
   "metadata": {},
   "outputs": [],
   "source": [
    "def extract_utr_seq(var):\n",
    "\n",
    "    seq = human_utr[var.seq_name]\n",
    "\n",
    "    seq = list(seq)\n",
    "    \n",
    "    varpos = int(var.pos - var.seq_start) #relative variant position in the sequence\n",
    "    \n",
    "    if not var.is_del:\n",
    "        if seq[varpos] != var.ref:\n",
    "            return (None, None)\n",
    "        else:\n",
    "            seq[varpos] = var.alt\n",
    "    else:\n",
    "        if ''.join(seq[varpos:varpos+len(var.ref)]) != var.ref:\n",
    "            return (None, None)\n",
    "        else:\n",
    "            seq[varpos+1:varpos+len(var.ref)] = ''\n",
    "                 \n",
    "    seq = ''.join(seq)\n",
    "\n",
    "    #for genes on the negative strand, take reverse complement\n",
    "    if var.strand=='-':\n",
    "        seq = reverse_complement(seq)\n",
    "\n",
    "    #FASTA sequence header\n",
    "    seq_header = f'>ClinvarID_{var.var_id}:Homo_sapiens'\n",
    "    \n",
    "    return seq_header, seq"
   ]
  },
  {
   "cell_type": "code",
   "execution_count": 204,
   "id": "6fe6566c-2974-43b0-8512-d3a1190daacd",
   "metadata": {},
   "outputs": [],
   "source": [
    "output_fasta = data_dir + 'clinvar/clinvar.fa'"
   ]
  },
  {
   "cell_type": "code",
   "execution_count": 205,
   "id": "c1e4f17a-3eee-415e-b154-a0552b10f6a7",
   "metadata": {},
   "outputs": [
    {
     "name": "stdout",
     "output_type": "stream",
     "text": [
      "Variants with mismatched reference: 40\n"
     ]
    }
   ],
   "source": [
    "n_mismatches = 0\n",
    "\n",
    "#write FASTA file with variants\n",
    "\n",
    "with open(output_fasta, 'w') as f:\n",
    "    for idx, var in utr_variants.iterrows():\n",
    "        seq_header, seq = extract_utr_seq(var)\n",
    "        if seq_header != None:\n",
    "            f.write(seq_header+'\\n')\n",
    "            for line in wrap(seq, 80): #wrap sequence with standard FASTA width\n",
    "                f.write(line+'\\n')\n",
    "        else:\n",
    "            n_mismatches += 1\n",
    "            \n",
    "print(f'Variants with mismatched reference: {n_mismatches//2}')"
   ]
  },
  {
   "cell_type": "code",
   "execution_count": 206,
   "id": "2b08ec41-9670-4492-966c-5608b2dfb5ee",
   "metadata": {},
   "outputs": [],
   "source": [
    "# index new FASTA file\n",
    "!/s/project/mll/sergey/variant_calling/tools/samtools/bin/samtools faidx {output_fasta}"
   ]
  },
  {
   "cell_type": "code",
   "execution_count": null,
   "id": "937f2b53-5e0e-4818-8fdb-ac5bd94d842a",
   "metadata": {},
   "outputs": [],
   "source": []
  }
 ],
 "metadata": {
  "kernelspec": {
   "display_name": "Python [conda env:miniconda3-svilov-python]",
   "language": "python",
   "name": "conda-env-miniconda3-svilov-python-py"
  },
  "language_info": {
   "codemirror_mode": {
    "name": "ipython",
    "version": 3
   },
   "file_extension": ".py",
   "mimetype": "text/x-python",
   "name": "python",
   "nbconvert_exporter": "python",
   "pygments_lexer": "ipython3",
   "version": "3.11.4"
  }
 },
 "nbformat": 4,
 "nbformat_minor": 5
}
