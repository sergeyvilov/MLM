{
 "cells": [
  {
   "cell_type": "code",
   "execution_count": 485,
   "id": "9c6fb9b6-e482-450b-909a-8e6ed7af2d62",
   "metadata": {
    "tags": []
   },
   "outputs": [],
   "source": [
    "import numpy as np\n",
    "import pandas as pd\n",
    "import pickle\n",
    "\n",
    "from collections import defaultdict\n",
    "\n",
    "import sklearn.metrics\n",
    "import matplotlib.pyplot as plt\n",
    "import matplotlib\n",
    "\n",
    "matplotlib.rcParams.update({'font.size': 16})"
   ]
  },
  {
   "cell_type": "code",
   "execution_count": 403,
   "id": "d51c7a36-13f7-47c4-9af9-91bd26005907",
   "metadata": {
    "tags": []
   },
   "outputs": [],
   "source": [
    "data_dir = '/s/project/mll/sergey/effect_prediction/MLM/'"
   ]
  },
  {
   "cell_type": "code",
   "execution_count": 582,
   "id": "83b4812a-2010-489a-b971-09a5d5cf61f3",
   "metadata": {
    "tags": []
   },
   "outputs": [],
   "source": [
    "#3'UTR table\n",
    "\n",
    "utr_table = pd.read_csv(data_dir + 'UTR_coords/GRCh38_3_prime_UTR_clean-sorted.bed', sep='\\t',\n",
    "                       header = None, names=['seq_start','seq_end','seq_name','strand'], usecols=[1,2,3,5])"
   ]
  },
  {
   "cell_type": "code",
   "execution_count": 583,
   "id": "a8e325d2-6ba2-49f9-953b-c51e08e4921d",
   "metadata": {
    "tags": []
   },
   "outputs": [],
   "source": [
    "utr_variants = pd.read_csv(data_dir + 'clinvar/clinvar.3utr.tsv', sep='\\t', names=['chrom','pos','var_id','ref','alt','seq_name','label'])"
   ]
  },
  {
   "cell_type": "code",
   "execution_count": 584,
   "id": "97ddea8f-d748-4224-9116-1bab2de24a44",
   "metadata": {},
   "outputs": [],
   "source": [
    "is_snp = utr_variants.ref.apply(len)==utr_variants.alt.apply(len)\n",
    "\n",
    "utr_variants['vartype'] = is_snp.map({True:'SNP',False:'INDEL'})"
   ]
  },
  {
   "cell_type": "code",
   "execution_count": 585,
   "id": "b91e6b26-cc44-4320-be8e-bd02c4ef1e73",
   "metadata": {
    "tags": []
   },
   "outputs": [],
   "source": [
    "utr_variants['varlen'] = abs(utr_variants.ref.apply(len) - utr_variants.alt.apply(len))"
   ]
  },
  {
   "cell_type": "code",
   "execution_count": 586,
   "id": "f4004e1d-01c8-4431-843f-7012996f1e67",
   "metadata": {
    "tags": []
   },
   "outputs": [],
   "source": [
    "utr_variants = utr_variants[utr_variants.label.isin(('Pathogenic','Benign'))]"
   ]
  },
  {
   "cell_type": "code",
   "execution_count": 587,
   "id": "937f2b53-5e0e-4818-8fdb-ac5bd94d842a",
   "metadata": {},
   "outputs": [],
   "source": [
    "utr_variants.label = utr_variants.label.apply(lambda x: 1 if 'athogenic' in x else 0)"
   ]
  },
  {
   "cell_type": "code",
   "execution_count": 588,
   "id": "4c5ef25f-dd25-43d1-a0cb-71ae70b9ba69",
   "metadata": {
    "tags": []
   },
   "outputs": [],
   "source": [
    "utr_variants = utr_variants[~utr_variants.seq_name.str.contains(',')]"
   ]
  },
  {
   "cell_type": "code",
   "execution_count": 589,
   "id": "cf08b40e-b8f0-4b2f-85fa-9c413feb6400",
   "metadata": {
    "tags": []
   },
   "outputs": [],
   "source": [
    "utr_variants = utr_variants.merge(utr_table, how='left')"
   ]
  },
  {
   "cell_type": "code",
   "execution_count": 590,
   "id": "63294530-09d9-4bd9-9716-7f79430c2068",
   "metadata": {
    "tags": []
   },
   "outputs": [],
   "source": [
    "#embeddings for intact 3'UTR sequences\n",
    "\n",
    "with open(data_dir + 'clinvar/species_aware_emb/all_3utr.pickle', 'rb') as f:\n",
    "            embeddings = pickle.load(f)\n",
    "            seqs =  pickle.load(f)\n",
    "            \n",
    "utr3_emb = {seq_name.split(':')[0]:embeddings[idx] for idx,seq_name in enumerate(seqs)}"
   ]
  },
  {
   "cell_type": "code",
   "execution_count": 591,
   "id": "34a17782-557c-4ab3-926b-a8bac9f82fb0",
   "metadata": {
    "tags": []
   },
   "outputs": [],
   "source": [
    "#embeddings for alternative sequences\n",
    "\n",
    "with open(data_dir + 'clinvar/species_aware_emb/clinvar.pickle', 'rb') as f:\n",
    "            embeddings = pickle.load(f)\n",
    "            seqs =  pickle.load(f)\n",
    "            \n",
    "clinvar_emb = {seq_name.split(':')[0]:embeddings[idx] for idx,seq_name in enumerate(seqs)}"
   ]
  },
  {
   "cell_type": "code",
   "execution_count": 592,
   "id": "1f8386de-214f-4180-87c8-f4f8a7ccc8b6",
   "metadata": {
    "tags": []
   },
   "outputs": [],
   "source": [
    "from numpy.linalg import norm\n",
    "\n",
    "def cosine(x,y):\n",
    "    '''\n",
    "    Compute cosine similarity btw 2 vectors\n",
    "    '''\n",
    "    if x is None or y is None:\n",
    "        return None\n",
    "    return  -np.dot(x,y)/(norm(x)*norm(y))"
   ]
  },
  {
   "cell_type": "code",
   "execution_count": 593,
   "id": "29067135-8d7c-4089-9eb6-54b15ec3abcc",
   "metadata": {
    "tags": []
   },
   "outputs": [],
   "source": [
    "utr_variants['y_pred'] = utr_variants.apply(lambda x: \n",
    "                                            cosine(utr3_emb.get(x.seq_name, None),\n",
    "                                                   clinvar_emb.get(f'ClinvarID_{x.var_id}', None)),axis=1)"
   ]
  },
  {
   "cell_type": "code",
   "execution_count": 594,
   "id": "fdd92475-0bec-47a6-8cf3-41cf9068632a",
   "metadata": {
    "tags": []
   },
   "outputs": [],
   "source": [
    "utr_variants = utr_variants[~utr_variants.y_pred.isna()]"
   ]
  },
  {
   "cell_type": "code",
   "execution_count": 595,
   "id": "c5ebb2db-7a19-46b0-b7c0-5230cc2982de",
   "metadata": {
    "tags": []
   },
   "outputs": [
    {
     "data": {
      "text/plain": [
       "0.5419233615534901"
      ]
     },
     "execution_count": 595,
     "metadata": {},
     "output_type": "execute_result"
    }
   ],
   "source": [
    "sklearn.metrics.roc_auc_score(utr_variants.label, utr_variants.y_pred)"
   ]
  },
  {
   "cell_type": "code",
   "execution_count": 596,
   "id": "62ddd35c-601c-4ea8-84c2-1e7e9808111c",
   "metadata": {
    "tags": []
   },
   "outputs": [],
   "source": [
    "res = []\n",
    "\n",
    "for seq1 in np.random.choice(list(utr3_emb.keys()),100):\n",
    "    for seq2 in np.random.choice(list(utr3_emb.keys()),100):\n",
    "        res.append(cosine(utr3_emb[seq1],utr3_emb[seq2]))"
   ]
  },
  {
   "cell_type": "code",
   "execution_count": 597,
   "id": "4641b1d0-9e81-442c-83bb-20292811f535",
   "metadata": {
    "tags": []
   },
   "outputs": [
    {
     "data": {
      "text/plain": [
       "Text(0, 0.5, 'counts')"
      ]
     },
     "execution_count": 597,
     "metadata": {},
     "output_type": "execute_result"
    },
    {
     "data": {
      "image/png": "[encoded data removed]",
      "text/plain": [
       "<Figure size 640x480 with 1 Axes>"
      ]
     },
     "metadata": {},
     "output_type": "display_data"
    }
   ],
   "source": [
    "fig, ax = plt.subplots()\n",
    "\n",
    "ax.hist(res, bins=np.arange(0.93,1.003,0.003), alpha=0.5, label = 'random pairs');\n",
    "ax.hist(-utr_variants.y_pred, bins=np.arange(0.93,1.003,0.003), alpha=0.5, label='ref/alt pairs');\n",
    "ax.legend(loc='upper left')\n",
    "ax.set_xlabel('cosine similarity')\n",
    "ax.set_ylabel('counts')"
   ]
  },
  {
   "cell_type": "code",
   "execution_count": 598,
   "id": "ed945534-737c-497f-ae01-8a1d3b42c288",
   "metadata": {
    "tags": []
   },
   "outputs": [
    {
     "name": "stdout",
     "output_type": "stream",
     "text": [
      "ROC AUC SNP: 0.5\n",
      "ROC AUC INDEL: 0.61\n"
     ]
    },
    {
     "data": {
      "image/png": "[encoded data removed]",
      "text/plain": [
       "<Figure size 1000x300 with 2 Axes>"
      ]
     },
     "metadata": {},
     "output_type": "display_data"
    }
   ],
   "source": [
    "\n",
    "fig, axes = plt.subplots(1,2, figsize=(10,3))\n",
    "\n",
    "ax = axes[0]\n",
    "\n",
    "for vartype in ('SNP','INDEL'):\n",
    "    precision, recall, prc_thr = sklearn.metrics.precision_recall_curve(utr_variants[utr_variants.vartype==vartype].label, \n",
    "                                                                        utr_variants[utr_variants.vartype==vartype].y_pred)\n",
    "    ax.plot(recall,precision, label=vartype)\n",
    "\n",
    "\n",
    "ax.set_xlabel('recall')\n",
    "ax.set_ylabel('precision')\n",
    "\n",
    "ax = axes[1]\n",
    "\n",
    "for vartype in ('SNP','INDEL'):\n",
    "    fpr, tpr, roc_thr = sklearn.metrics.roc_curve(utr_variants[utr_variants.vartype==vartype].label, \n",
    "                                                  utr_variants[utr_variants.vartype==vartype].y_pred)\n",
    "    ax.plot(fpr,tpr, label=vartype)\n",
    "    print(f'ROC AUC {vartype}: {sklearn.metrics.auc(fpr,tpr):.2}')\n",
    "\n",
    "ax.plot(fpr,fpr, '--',c='gray')\n",
    "ax.set_xlabel('FPR')\n",
    "ax.set_ylabel('TPR')\n",
    "\n",
    "fig.tight_layout()"
   ]
  },
  {
   "cell_type": "code",
   "execution_count": 599,
   "id": "f3659f7a-029c-47a7-a747-52871b3b19a3",
   "metadata": {
    "tags": []
   },
   "outputs": [
    {
     "data": {
      "text/html": [
       "<div>\n",
       "<style scoped>\n",
       "    .dataframe tbody tr th:only-of-type {\n",
       "        vertical-align: middle;\n",
       "    }\n",
       "\n",
       "    .dataframe tbody tr th {\n",
       "        vertical-align: top;\n",
       "    }\n",
       "\n",
       "    .dataframe thead th {\n",
       "        text-align: right;\n",
       "    }\n",
       "</style>\n",
       "<table border=\"1\" class=\"dataframe\">\n",
       "  <thead>\n",
       "    <tr style=\"text-align: right;\">\n",
       "      <th></th>\n",
       "      <th>min variant length</th>\n",
       "      <th>N variants</th>\n",
       "      <th>ROC AUC</th>\n",
       "    </tr>\n",
       "  </thead>\n",
       "  <tbody>\n",
       "    <tr>\n",
       "      <th>0</th>\n",
       "      <td>1</td>\n",
       "      <td>12345</td>\n",
       "      <td>0.54</td>\n",
       "    </tr>\n",
       "    <tr>\n",
       "      <th>1</th>\n",
       "      <td>2</td>\n",
       "      <td>1251</td>\n",
       "      <td>0.61</td>\n",
       "    </tr>\n",
       "    <tr>\n",
       "      <th>2</th>\n",
       "      <td>3</td>\n",
       "      <td>644</td>\n",
       "      <td>0.69</td>\n",
       "    </tr>\n",
       "    <tr>\n",
       "      <th>3</th>\n",
       "      <td>5</td>\n",
       "      <td>339</td>\n",
       "      <td>0.75</td>\n",
       "    </tr>\n",
       "    <tr>\n",
       "      <th>4</th>\n",
       "      <td>10</td>\n",
       "      <td>131</td>\n",
       "      <td>0.85</td>\n",
       "    </tr>\n",
       "    <tr>\n",
       "      <th>5</th>\n",
       "      <td>15</td>\n",
       "      <td>99</td>\n",
       "      <td>0.88</td>\n",
       "    </tr>\n",
       "  </tbody>\n",
       "</table>\n",
       "</div>"
      ],
      "text/plain": [
       "   min variant length  N variants ROC AUC\n",
       "0                   1       12345    0.54\n",
       "1                   2        1251    0.61\n",
       "2                   3         644    0.69\n",
       "3                   5         339    0.75\n",
       "4                  10         131    0.85\n",
       "5                  15          99    0.88"
      ]
     },
     "execution_count": 599,
     "metadata": {},
     "output_type": "execute_result"
    }
   ],
   "source": [
    "res = []\n",
    "\n",
    "for min_len in (1,2,3,5,10,15):\n",
    "    df = utr_variants[utr_variants.varlen>=min_len-1]\n",
    "    fpr, tpr, _ = sklearn.metrics.roc_curve(df.label, df.y_pred)\n",
    "    res.append((min_len,len(df),f'{sklearn.metrics.auc(fpr,tpr):.2}'))\n",
    "    \n",
    "pd.DataFrame(res, columns=['min variant length', 'N variants', 'ROC AUC'])"
   ]
  },
  {
   "cell_type": "code",
   "execution_count": null,
   "id": "26a1a02e-d34d-4bbc-8730-61a31fc60aac",
   "metadata": {},
   "outputs": [],
   "source": []
  }
 ],
 "metadata": {
  "kernelspec": {
   "display_name": "Python [conda env:miniconda3-svilov-python]",
   "language": "python",
   "name": "conda-env-miniconda3-svilov-python-py"
  },
  "language_info": {
   "codemirror_mode": {
    "name": "ipython",
    "version": 3
   },
   "file_extension": ".py",
   "mimetype": "text/x-python",
   "name": "python",
   "nbconvert_exporter": "python",
   "pygments_lexer": "ipython3",
   "version": "3.11.4"
  }
 },
 "nbformat": 4,
 "nbformat_minor": 5
}
