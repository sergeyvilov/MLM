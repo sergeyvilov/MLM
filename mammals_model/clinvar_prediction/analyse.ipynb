{
 "cells": [
  {
   "cell_type": "code",
   "execution_count": 31,
   "id": "9c6fb9b6-e482-450b-909a-8e6ed7af2d62",
   "metadata": {
    "tags": []
   },
   "outputs": [],
   "source": [
    "import numpy as np\n",
    "import pandas as pd\n",
    "import pickle\n",
    "\n",
    "from collections import defaultdict\n",
    "\n",
    "import sklearn.metrics"
   ]
  },
  {
   "cell_type": "code",
   "execution_count": 3,
   "id": "d51c7a36-13f7-47c4-9af9-91bd26005907",
   "metadata": {
    "tags": []
   },
   "outputs": [],
   "source": [
    "data_dir = '/s/project/mll/sergey/effect_prediction/MLM/'"
   ]
  },
  {
   "cell_type": "code",
   "execution_count": 141,
   "id": "a8e325d2-6ba2-49f9-953b-c51e08e4921d",
   "metadata": {
    "tags": []
   },
   "outputs": [],
   "source": [
    "utr_variants = pd.read_csv(data_dir + 'clinvar/clinvar.3utr.tsv', sep='\\t', names=['chrom','pos','var_id','ref','alt','seq_name','label'])"
   ]
  },
  {
   "cell_type": "code",
   "execution_count": 142,
   "id": "ca2a7cd7-86a1-4a37-aad5-ea29c20c3cce",
   "metadata": {
    "tags": []
   },
   "outputs": [
    {
     "data": {
      "text/html": [
       "<div>\n",
       "<style scoped>\n",
       "    .dataframe tbody tr th:only-of-type {\n",
       "        vertical-align: middle;\n",
       "    }\n",
       "\n",
       "    .dataframe tbody tr th {\n",
       "        vertical-align: top;\n",
       "    }\n",
       "\n",
       "    .dataframe thead th {\n",
       "        text-align: right;\n",
       "    }\n",
       "</style>\n",
       "<table border=\"1\" class=\"dataframe\">\n",
       "  <thead>\n",
       "    <tr style=\"text-align: right;\">\n",
       "      <th></th>\n",
       "      <th>chrom</th>\n",
       "      <th>pos</th>\n",
       "      <th>var_id</th>\n",
       "      <th>ref</th>\n",
       "      <th>alt</th>\n",
       "      <th>seq_name</th>\n",
       "      <th>label</th>\n",
       "    </tr>\n",
       "  </thead>\n",
       "  <tbody>\n",
       "    <tr>\n",
       "      <th>17</th>\n",
       "      <td>chr1</td>\n",
       "      <td>2405090</td>\n",
       "      <td>875342</td>\n",
       "      <td>G</td>\n",
       "      <td>A</td>\n",
       "      <td>ENST00000605895.6_utr3_6_0_chr1_2403125_f,ENST...</td>\n",
       "      <td>Likely_benign</td>\n",
       "    </tr>\n",
       "    <tr>\n",
       "      <th>18</th>\n",
       "      <td>chr1</td>\n",
       "      <td>2405171</td>\n",
       "      <td>875344</td>\n",
       "      <td>C</td>\n",
       "      <td>T</td>\n",
       "      <td>ENST00000605895.6_utr3_6_0_chr1_2403125_f,ENST...</td>\n",
       "      <td>Likely_benign</td>\n",
       "    </tr>\n",
       "    <tr>\n",
       "      <th>19</th>\n",
       "      <td>chr1</td>\n",
       "      <td>2405414</td>\n",
       "      <td>296265</td>\n",
       "      <td>C</td>\n",
       "      <td>T</td>\n",
       "      <td>ENST00000605895.6_utr3_6_0_chr1_2403125_f,ENST...</td>\n",
       "      <td>Benign</td>\n",
       "    </tr>\n",
       "    <tr>\n",
       "      <th>239</th>\n",
       "      <td>chr1</td>\n",
       "      <td>21822298</td>\n",
       "      <td>876262</td>\n",
       "      <td>T</td>\n",
       "      <td>G</td>\n",
       "      <td>ENST00000344642.7_utr3_4_0_chr1_21822216_f,ENS...</td>\n",
       "      <td>Likely_benign</td>\n",
       "    </tr>\n",
       "    <tr>\n",
       "      <th>240</th>\n",
       "      <td>chr1</td>\n",
       "      <td>21822324</td>\n",
       "      <td>295680</td>\n",
       "      <td>G</td>\n",
       "      <td>A</td>\n",
       "      <td>ENST00000344642.7_utr3_4_0_chr1_21822216_f,ENS...</td>\n",
       "      <td>Benign</td>\n",
       "    </tr>\n",
       "    <tr>\n",
       "      <th>...</th>\n",
       "      <td>...</td>\n",
       "      <td>...</td>\n",
       "      <td>...</td>\n",
       "      <td>...</td>\n",
       "      <td>...</td>\n",
       "      <td>...</td>\n",
       "      <td>...</td>\n",
       "    </tr>\n",
       "    <tr>\n",
       "      <th>22205</th>\n",
       "      <td>chrX</td>\n",
       "      <td>19360517</td>\n",
       "      <td>914970</td>\n",
       "      <td>G</td>\n",
       "      <td>A</td>\n",
       "      <td>ENST00000422285.7_utr3_10_0_chrX_19359654_f,EN...</td>\n",
       "      <td>Benign</td>\n",
       "    </tr>\n",
       "    <tr>\n",
       "      <th>22206</th>\n",
       "      <td>chrX</td>\n",
       "      <td>19360666</td>\n",
       "      <td>914971</td>\n",
       "      <td>C</td>\n",
       "      <td>A</td>\n",
       "      <td>ENST00000422285.7_utr3_10_0_chrX_19359654_f,EN...</td>\n",
       "      <td>Benign</td>\n",
       "    </tr>\n",
       "    <tr>\n",
       "      <th>22207</th>\n",
       "      <td>chrX</td>\n",
       "      <td>19360712</td>\n",
       "      <td>914972</td>\n",
       "      <td>G</td>\n",
       "      <td>A</td>\n",
       "      <td>ENST00000422285.7_utr3_10_0_chrX_19359654_f,EN...</td>\n",
       "      <td>Benign</td>\n",
       "    </tr>\n",
       "    <tr>\n",
       "      <th>22346</th>\n",
       "      <td>chrX</td>\n",
       "      <td>54446073</td>\n",
       "      <td>95076</td>\n",
       "      <td>G</td>\n",
       "      <td>A</td>\n",
       "      <td>ENST00000375151.5_utr3_4_0_chrX_54444551_f,ENS...</td>\n",
       "      <td>Benign</td>\n",
       "    </tr>\n",
       "    <tr>\n",
       "      <th>22370</th>\n",
       "      <td>chrX</td>\n",
       "      <td>55009056</td>\n",
       "      <td>913522</td>\n",
       "      <td>G</td>\n",
       "      <td>A</td>\n",
       "      <td>ENST00000374987.4_utr3_5_0_chrX_55007436_f,ENS...</td>\n",
       "      <td>Benign/Likely_benign</td>\n",
       "    </tr>\n",
       "  </tbody>\n",
       "</table>\n",
       "<p>307 rows × 7 columns</p>\n",
       "</div>"
      ],
      "text/plain": [
       "      chrom       pos  var_id ref alt  \\\n",
       "17     chr1   2405090  875342   G   A   \n",
       "18     chr1   2405171  875344   C   T   \n",
       "19     chr1   2405414  296265   C   T   \n",
       "239    chr1  21822298  876262   T   G   \n",
       "240    chr1  21822324  295680   G   A   \n",
       "...     ...       ...     ...  ..  ..   \n",
       "22205  chrX  19360517  914970   G   A   \n",
       "22206  chrX  19360666  914971   C   A   \n",
       "22207  chrX  19360712  914972   G   A   \n",
       "22346  chrX  54446073   95076   G   A   \n",
       "22370  chrX  55009056  913522   G   A   \n",
       "\n",
       "                                                seq_name                 label  \n",
       "17     ENST00000605895.6_utr3_6_0_chr1_2403125_f,ENST...         Likely_benign  \n",
       "18     ENST00000605895.6_utr3_6_0_chr1_2403125_f,ENST...         Likely_benign  \n",
       "19     ENST00000605895.6_utr3_6_0_chr1_2403125_f,ENST...                Benign  \n",
       "239    ENST00000344642.7_utr3_4_0_chr1_21822216_f,ENS...         Likely_benign  \n",
       "240    ENST00000344642.7_utr3_4_0_chr1_21822216_f,ENS...                Benign  \n",
       "...                                                  ...                   ...  \n",
       "22205  ENST00000422285.7_utr3_10_0_chrX_19359654_f,EN...                Benign  \n",
       "22206  ENST00000422285.7_utr3_10_0_chrX_19359654_f,EN...                Benign  \n",
       "22207  ENST00000422285.7_utr3_10_0_chrX_19359654_f,EN...                Benign  \n",
       "22346  ENST00000375151.5_utr3_4_0_chrX_54444551_f,ENS...                Benign  \n",
       "22370  ENST00000374987.4_utr3_5_0_chrX_55007436_f,ENS...  Benign/Likely_benign  \n",
       "\n",
       "[307 rows x 7 columns]"
      ]
     },
     "execution_count": 142,
     "metadata": {},
     "output_type": "execute_result"
    }
   ],
   "source": [
    "utr_variants[utr_variants.seq_name.str.contains(',')]"
   ]
  },
  {
   "cell_type": "code",
   "execution_count": 105,
   "id": "937f2b53-5e0e-4818-8fdb-ac5bd94d842a",
   "metadata": {},
   "outputs": [],
   "source": [
    "utr_variants.label = utr_variants.label.apply(lambda x: 1 if 'athogenic' in x else 0)"
   ]
  },
  {
   "cell_type": "code",
   "execution_count": 106,
   "id": "4c5ef25f-dd25-43d1-a0cb-71ae70b9ba69",
   "metadata": {
    "tags": []
   },
   "outputs": [],
   "source": [
    "utr_variants = utr_variants[~utr_variants.seq_name.str.contains(',')]"
   ]
  },
  {
   "cell_type": "code",
   "execution_count": 88,
   "id": "63294530-09d9-4bd9-9716-7f79430c2068",
   "metadata": {
    "tags": []
   },
   "outputs": [],
   "source": [
    "#embeddings for intact 3'UTR sequences\n",
    "\n",
    "with open(data_dir + 'clinvar/species_aware_emb/all_3utr.pickle', 'rb') as f:\n",
    "            embeddings = pickle.load(f)\n",
    "            seqs =  pickle.load(f)\n",
    "            \n",
    "utr3_emb = {seq_name.split(':')[0]:embeddings[idx] for idx,seq_name in enumerate(seqs)}"
   ]
  },
  {
   "cell_type": "code",
   "execution_count": 93,
   "id": "34a17782-557c-4ab3-926b-a8bac9f82fb0",
   "metadata": {
    "tags": []
   },
   "outputs": [],
   "source": [
    "#embeddings for alternative sequences\n",
    "\n",
    "with open(data_dir + 'clinvar/species_aware_emb/clinvar.pickle', 'rb') as f:\n",
    "            embeddings = pickle.load(f)\n",
    "            seqs =  pickle.load(f)\n",
    "            \n",
    "clinvar_emb = {seq_name.split(':')[0]:embeddings[idx] for idx,seq_name in enumerate(seqs)}"
   ]
  },
  {
   "cell_type": "code",
   "execution_count": 137,
   "id": "1f8386de-214f-4180-87c8-f4f8a7ccc8b6",
   "metadata": {
    "tags": []
   },
   "outputs": [],
   "source": [
    "from numpy.linalg import norm\n",
    "\n",
    "def cosine(x,y):\n",
    "    '''\n",
    "    Compute cosine similarity btw 2 vectors\n",
    "    '''\n",
    "    if x is None or y is None:\n",
    "        return None\n",
    "    return  np.dot(x,y)/(norm(x)*norm(y))"
   ]
  },
  {
   "cell_type": "code",
   "execution_count": 138,
   "id": "29067135-8d7c-4089-9eb6-54b15ec3abcc",
   "metadata": {
    "tags": []
   },
   "outputs": [],
   "source": [
    "utr_variants['y_pred'] = utr_variants.apply(lambda x: \n",
    "                                            cosine(utr3_emb.get(x.seq_name, None),\n",
    "                                                   clinvar_emb.get(f'ClinvarID_{x.var_id}', None)),axis=1)"
   ]
  },
  {
   "cell_type": "code",
   "execution_count": 139,
   "id": "59f7a84d-5947-429f-af2f-ead3c3ebab43",
   "metadata": {
    "tags": []
   },
   "outputs": [],
   "source": [
    "utr_variants = utr_variants[~utr_variants.y_pred.isna()]"
   ]
  },
  {
   "cell_type": "code",
   "execution_count": 140,
   "id": "c5ebb2db-7a19-46b0-b7c0-5230cc2982de",
   "metadata": {
    "tags": []
   },
   "outputs": [
    {
     "data": {
      "text/plain": [
       "0.4791287429862864"
      ]
     },
     "execution_count": 140,
     "metadata": {},
     "output_type": "execute_result"
    }
   ],
   "source": [
    "sklearn.metrics.roc_auc_score(utr_variants.label, utr_variants.y_pred)"
   ]
  }
 ],
 "metadata": {
  "kernelspec": {
   "display_name": "Python [conda env:miniconda3-svilov-python]",
   "language": "python",
   "name": "conda-env-miniconda3-svilov-python-py"
  },
  "language_info": {
   "codemirror_mode": {
    "name": "ipython",
    "version": 3
   },
   "file_extension": ".py",
   "mimetype": "text/x-python",
   "name": "python",
   "nbconvert_exporter": "python",
   "pygments_lexer": "ipython3",
   "version": "3.11.4"
  }
 },
 "nbformat": 4,
 "nbformat_minor": 5
}
