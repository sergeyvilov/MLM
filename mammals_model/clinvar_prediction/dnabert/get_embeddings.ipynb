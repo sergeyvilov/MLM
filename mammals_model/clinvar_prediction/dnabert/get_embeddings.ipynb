{
 "cells": [
  {
   "cell_type": "code",
   "execution_count": 38,
   "id": "510a0e8f-e901-42a3-a69f-bf17e442533f",
   "metadata": {
    "tags": []
   },
   "outputs": [],
   "source": [
    "import torch\n",
    "import sys\n",
    "import pandas as pd\n",
    "from tqdm import tqdm\n",
    "import pickle\n",
    "\n",
    "sys.path.append('DNABERT/')\n",
    "\n",
    "from src.transformers import DNATokenizer \n",
    "from transformers import BertModel, BertConfig"
   ]
  },
  {
   "cell_type": "code",
   "execution_count": null,
   "id": "0a2714fb-2719-4779-b666-6b05db9a4792",
   "metadata": {},
   "outputs": [],
   "source": [
    "dir_to_pretrained_model = \"/s/project/mll/sergey/effect_prediction/MLM/dnabert/default/6-new-12w-0/\"\n",
    "\n",
    "config = BertConfig.from_pretrained('https://raw.githubusercontent.com/jerryji1993/DNABERT/master/src/transformers/dnabert-config/bert-config-6/config.json')\n",
    "tokenizer = DNATokenizer.from_pretrained('dna6')\n",
    "model = BertModel.from_pretrained(dir_to_pretrained_model, config=config)"
   ]
  },
  {
   "cell_type": "code",
   "execution_count": 13,
   "id": "f7abf836-86b4-457d-a382-efb163dd8fb4",
   "metadata": {
    "tags": []
   },
   "outputs": [],
   "source": [
    "def kmers_stride1(seq, k=6):\n",
    "    # splits a sequence into overlapping k-mers\n",
    "    return [seq[i:i + k] for i in range(0, len(seq)-k+1)] "
   ]
  },
  {
   "cell_type": "code",
   "execution_count": 56,
   "id": "b13b4f29-6685-4369-b8bf-ae7de5b26eac",
   "metadata": {
    "tags": []
   },
   "outputs": [],
   "source": [
    "def get_embedding(seq):\n",
    "\n",
    "    seq_kmer = kmers_stride1(seq)\n",
    "\n",
    "    with torch.no_grad():\n",
    "        model_input = tokenizer.encode_plus(seq_kmer, add_special_tokens=True, padding='max_length', max_length=512)[\"input_ids\"]\n",
    "        model_input = torch.tensor(model_input, dtype=torch.long)\n",
    "        model_input = model_input.unsqueeze(0)   # to generate a fake batch with batch size one\n",
    "\n",
    "        output = model(model_input)\n",
    "        \n",
    "    return output[1][0].cpu().numpy()"
   ]
  },
  {
   "cell_type": "code",
   "execution_count": 57,
   "id": "60cc33f5-6755-4362-a313-a11d5efbe286",
   "metadata": {
    "tags": []
   },
   "outputs": [],
   "source": [
    "data_dir = '/s/project/mll/sergey/effect_prediction/MLM/clinvar/dnabert/default/'"
   ]
  },
  {
   "cell_type": "code",
   "execution_count": 58,
   "id": "2d05eb61-88ef-4668-938d-eb8cf6d540f6",
   "metadata": {
    "tags": []
   },
   "outputs": [],
   "source": [
    "seqs_df = pd.read_csv(data_dir + 'seqs.csv')"
   ]
  },
  {
   "cell_type": "code",
   "execution_count": 59,
   "id": "70788d7b-f9d2-4661-8be8-7ef4d5b9ce51",
   "metadata": {},
   "outputs": [
    {
     "name": "stderr",
     "output_type": "stream",
     "text": [
      "100%|██████████| 21270/21270 [2:58:10<00:00,  1.99it/s]  \n"
     ]
    }
   ],
   "source": [
    "all_embd = {}\n",
    "\n",
    "for _, var in tqdm(seqs_df.iterrows(), total=len(seqs_df)):\n",
    "    emb_ref = get_embedding(var.refseq)\n",
    "    emb_alt = get_embedding(var.altseq)\n",
    "    all_embd[var.var_id] = (emb_ref,emb_alt)"
   ]
  },
  {
   "cell_type": "code",
   "execution_count": 60,
   "id": "ec88bf96-2ecd-43b8-bccc-09b96bfa7511",
   "metadata": {
    "tags": []
   },
   "outputs": [],
   "source": [
    "with open(data_dir + 'embeddings.pickle', 'wb') as f:\n",
    "    pickle.dump(all_embd,f)"
   ]
  },
  {
   "cell_type": "code",
   "execution_count": 62,
   "id": "2bc11562-a072-4fb7-a01e-7505193549f0",
   "metadata": {
    "tags": []
   },
   "outputs": [
    {
     "name": "stdout",
     "output_type": "stream",
     "text": [
      "Done\n"
     ]
    }
   ],
   "source": [
    "print('Done')"
   ]
  },
  {
   "cell_type": "code",
   "execution_count": null,
   "id": "49d58177-72c9-476c-8c6d-67e3eaad4a43",
   "metadata": {},
   "outputs": [],
   "source": []
  }
 ],
 "metadata": {
  "kernelspec": {
   "display_name": "Python [conda env:miniconda3-svilov-mlm]",
   "language": "python",
   "name": "conda-env-miniconda3-svilov-mlm-py"
  },
  "language_info": {
   "codemirror_mode": {
    "name": "ipython",
    "version": 3
   },
   "file_extension": ".py",
   "mimetype": "text/x-python",
   "name": "python",
   "nbconvert_exporter": "python",
   "pygments_lexer": "ipython3",
   "version": "3.9.16"
  }
 },
 "nbformat": 4,
 "nbformat_minor": 5
}
