{
 "cells": [
  {
   "cell_type": "code",
   "execution_count": 1,
   "id": "9c6fb9b6-e482-450b-909a-8e6ed7af2d62",
   "metadata": {
    "tags": []
   },
   "outputs": [],
   "source": [
    "import numpy as np\n",
    "import pandas as pd\n",
    "import pickle\n",
    "\n",
    "from collections import defaultdict\n",
    "\n",
    "import sklearn.metrics\n",
    "import matplotlib.pyplot as plt\n",
    "import matplotlib\n",
    "\n",
    "matplotlib.rcParams.update({'font.size': 16})"
   ]
  },
  {
   "cell_type": "code",
   "execution_count": 2,
   "id": "d51c7a36-13f7-47c4-9af9-91bd26005907",
   "metadata": {
    "tags": []
   },
   "outputs": [],
   "source": [
    "data_dir = '/s/project/mll/sergey/effect_prediction/MLM/'"
   ]
  },
  {
   "cell_type": "code",
   "execution_count": 3,
   "id": "83b4812a-2010-489a-b971-09a5d5cf61f3",
   "metadata": {
    "tags": []
   },
   "outputs": [],
   "source": [
    "#3'UTR table\n",
    "\n",
    "utr_table = pd.read_csv(data_dir + 'UTR_coords/GRCh38_3_prime_UTR_clean-sorted.bed', sep='\\t',\n",
    "                       header = None, names=['seq_start','seq_end','seq_name','strand'], usecols=[1,2,3,5])"
   ]
  },
  {
   "cell_type": "code",
   "execution_count": 4,
   "id": "a8e325d2-6ba2-49f9-953b-c51e08e4921d",
   "metadata": {
    "tags": []
   },
   "outputs": [],
   "source": [
    "utr_variants = pd.read_csv(data_dir + 'clinvar/clinvar.3utr.tsv', sep='\\t', names=['chrom','pos','var_id','ref','alt','seq_name','label','Phylop100','PhyloP241'])"
   ]
  },
  {
   "cell_type": "code",
   "execution_count": 5,
   "id": "97ddea8f-d748-4224-9116-1bab2de24a44",
   "metadata": {},
   "outputs": [],
   "source": [
    "is_snp = (utr_variants.ref.apply(len)==1) & (utr_variants.alt.apply(len)==1)\n",
    "\n",
    "utr_variants['vartype'] = is_snp.map({True:'SNP',False:'INDEL'})"
   ]
  },
  {
   "cell_type": "code",
   "execution_count": 6,
   "id": "b91e6b26-cc44-4320-be8e-bd02c4ef1e73",
   "metadata": {
    "tags": []
   },
   "outputs": [],
   "source": [
    "utr_variants['varlen'] = abs(utr_variants.ref.apply(len) - utr_variants.alt.apply(len))"
   ]
  },
  {
   "cell_type": "code",
   "execution_count": 7,
   "id": "f4004e1d-01c8-4431-843f-7012996f1e67",
   "metadata": {
    "tags": []
   },
   "outputs": [],
   "source": [
    "utr_variants = utr_variants[utr_variants.label.isin(('Pathogenic','Benign'))]"
   ]
  },
  {
   "cell_type": "code",
   "execution_count": 8,
   "id": "937f2b53-5e0e-4818-8fdb-ac5bd94d842a",
   "metadata": {},
   "outputs": [],
   "source": [
    "utr_variants.label = utr_variants.label.apply(lambda x: 1 if 'athogenic' in x else 0)"
   ]
  },
  {
   "cell_type": "code",
   "execution_count": 9,
   "id": "4c5ef25f-dd25-43d1-a0cb-71ae70b9ba69",
   "metadata": {
    "tags": []
   },
   "outputs": [],
   "source": [
    "utr_variants = utr_variants[~utr_variants.seq_name.str.contains(',')]"
   ]
  },
  {
   "cell_type": "code",
   "execution_count": 10,
   "id": "cf08b40e-b8f0-4b2f-85fa-9c413feb6400",
   "metadata": {
    "tags": []
   },
   "outputs": [],
   "source": [
    "utr_variants = utr_variants.merge(utr_table, how='left')"
   ]
  },
  {
   "cell_type": "code",
   "execution_count": 15,
   "id": "1f8386de-214f-4180-87c8-f4f8a7ccc8b6",
   "metadata": {
    "tags": []
   },
   "outputs": [],
   "source": [
    "from numpy.linalg import norm\n",
    "\n",
    "def cosine(x,y):\n",
    "    '''\n",
    "    Compute cosine similarity btw 2 vectors\n",
    "    '''\n",
    "    if x is None or y is None:\n",
    "        return None\n",
    "    return  -np.dot(x,y)/(norm(x)*norm(y))"
   ]
  },
  {
   "cell_type": "code",
   "execution_count": 36,
   "id": "63294530-09d9-4bd9-9716-7f79430c2068",
   "metadata": {
    "tags": []
   },
   "outputs": [],
   "source": [
    "with open(data_dir + 'clinvar/dnabert/embeddings.pickle', 'rb') as f:\n",
    "            embeddings = pickle.load(f)\n",
    "        \n",
    "embeddings = list(zip(embeddings.keys(),map(lambda x:cosine(*x), embeddings.values())))\n",
    "embeddings_df = pd.DataFrame(embeddings, columns=['var_id','y_pred'])"
   ]
  },
  {
   "cell_type": "code",
   "execution_count": 37,
   "id": "047e524e-56db-4123-9991-3ab2bef140a8",
   "metadata": {
    "tags": []
   },
   "outputs": [],
   "source": [
    "utr_variants = utr_variants.merge(embeddings_df, how='left')"
   ]
  },
  {
   "cell_type": "code",
   "execution_count": 38,
   "id": "fdd92475-0bec-47a6-8cf3-41cf9068632a",
   "metadata": {
    "tags": []
   },
   "outputs": [],
   "source": [
    "utr_variants = utr_variants[~utr_variants.y_pred.isna()]"
   ]
  },
  {
   "cell_type": "code",
   "execution_count": 39,
   "id": "c5ebb2db-7a19-46b0-b7c0-5230cc2982de",
   "metadata": {
    "tags": []
   },
   "outputs": [
    {
     "data": {
      "text/plain": [
       "0.679802166731456"
      ]
     },
     "execution_count": 39,
     "metadata": {},
     "output_type": "execute_result"
    }
   ],
   "source": [
    "sklearn.metrics.roc_auc_score(utr_variants.label, utr_variants.y_pred)"
   ]
  },
  {
   "cell_type": "code",
   "execution_count": 40,
   "id": "62ddd35c-601c-4ea8-84c2-1e7e9808111c",
   "metadata": {
    "tags": []
   },
   "outputs": [
    {
     "ename": "NameError",
     "evalue": "name 'utr3_emb' is not defined",
     "output_type": "error",
     "traceback": [
      "\u001b[0;31m---------------------------------------------------------------------------\u001b[0m",
      "\u001b[0;31mNameError\u001b[0m                                 Traceback (most recent call last)",
      "Cell \u001b[0;32mIn[40], line 3\u001b[0m\n\u001b[1;32m      1\u001b[0m res \u001b[38;5;241m=\u001b[39m []\n\u001b[0;32m----> 3\u001b[0m \u001b[38;5;28;01mfor\u001b[39;00m seq1 \u001b[38;5;129;01min\u001b[39;00m np\u001b[38;5;241m.\u001b[39mrandom\u001b[38;5;241m.\u001b[39mchoice(\u001b[38;5;28mlist\u001b[39m(\u001b[43mutr3_emb\u001b[49m\u001b[38;5;241m.\u001b[39mkeys()),\u001b[38;5;241m100\u001b[39m):\n\u001b[1;32m      4\u001b[0m     \u001b[38;5;28;01mfor\u001b[39;00m seq2 \u001b[38;5;129;01min\u001b[39;00m np\u001b[38;5;241m.\u001b[39mrandom\u001b[38;5;241m.\u001b[39mchoice(\u001b[38;5;28mlist\u001b[39m(utr3_emb\u001b[38;5;241m.\u001b[39mkeys()),\u001b[38;5;241m100\u001b[39m):\n\u001b[1;32m      5\u001b[0m         res\u001b[38;5;241m.\u001b[39mappend(cosine(utr3_emb[seq1],utr3_emb[seq2]))\n",
      "\u001b[0;31mNameError\u001b[0m: name 'utr3_emb' is not defined"
     ]
    }
   ],
   "source": [
    "res = []\n",
    "\n",
    "for seq1 in np.random.choice(list(utr3_emb.keys()),100):\n",
    "    for seq2 in np.random.choice(list(utr3_emb.keys()),100):\n",
    "        res.append(cosine(utr3_emb[seq1],utr3_emb[seq2]))"
   ]
  },
  {
   "cell_type": "code",
   "execution_count": 19,
   "id": "4641b1d0-9e81-442c-83bb-20292811f535",
   "metadata": {
    "tags": []
   },
   "outputs": [
    {
     "data": {
      "text/plain": [
       "Text(0, 0.5, 'counts')"
      ]
     },
     "execution_count": 19,
     "metadata": {},
     "output_type": "execute_result"
    },
    {
     "data": {
      "image/png": "[encoded data removed]",
      "text/plain": [
       "<Figure size 640x480 with 1 Axes>"
      ]
     },
     "metadata": {},
     "output_type": "display_data"
    }
   ],
   "source": [
    "fig, ax = plt.subplots()\n",
    "\n",
    "ax.hist(-np.array(res), bins=np.arange(0.93,1.003,0.003), alpha=0.5, label = 'random pairs');\n",
    "ax.hist(-utr_variants.y_pred, bins=np.arange(0.93,1.003,0.003), alpha=0.5, label='ref/alt pairs');\n",
    "ax.legend(loc='upper left')\n",
    "ax.set_xlabel('cosine similarity')\n",
    "ax.set_ylabel('counts')"
   ]
  },
  {
   "cell_type": "code",
   "execution_count": 46,
   "id": "ed945534-737c-497f-ae01-8a1d3b42c288",
   "metadata": {
    "tags": []
   },
   "outputs": [
    {
     "name": "stdout",
     "output_type": "stream",
     "text": [
      "ROC AUC SNP: 0.49\n",
      "ROC AUC INDEL: 0.55\n"
     ]
    },
    {
     "data": {
      "image/png": "[encoded data removed]",
      "text/plain": [
       "<Figure size 1000x300 with 2 Axes>"
      ]
     },
     "metadata": {},
     "output_type": "display_data"
    }
   ],
   "source": [
    "\n",
    "fig, axes = plt.subplots(1,2, figsize=(10,3))\n",
    "\n",
    "ax = axes[0]\n",
    "\n",
    "for vartype in ('SNP','INDEL'):\n",
    "    precision, recall, prc_thr = sklearn.metrics.precision_recall_curve(utr_variants[utr_variants.vartype==vartype].label, \n",
    "                                                                        utr_variants[utr_variants.vartype==vartype].y_pred)\n",
    "    ax.plot(recall,precision, label=vartype)\n",
    "\n",
    "\n",
    "ax.set_xlabel('recall')\n",
    "ax.set_ylabel('precision')\n",
    "\n",
    "ax = axes[1]\n",
    "\n",
    "for vartype in ('SNP','INDEL'):\n",
    "    fpr, tpr, roc_thr = sklearn.metrics.roc_curve(utr_variants[utr_variants.vartype==vartype].label, \n",
    "                                                  utr_variants[utr_variants.vartype==vartype].y_pred)\n",
    "    ax.plot(fpr,tpr, label=vartype)\n",
    "    print(f'ROC AUC {vartype}: {sklearn.metrics.auc(fpr,tpr):.2}')\n",
    "\n",
    "ax.plot(fpr,fpr, '--',c='gray')\n",
    "ax.set_xlabel('FPR')\n",
    "ax.set_ylabel('TPR')\n",
    "\n",
    "fig.tight_layout()"
   ]
  },
  {
   "cell_type": "code",
   "execution_count": 43,
   "id": "f3659f7a-029c-47a7-a747-52871b3b19a3",
   "metadata": {
    "tags": []
   },
   "outputs": [
    {
     "data": {
      "text/html": [
       "<div>\n",
       "<style scoped>\n",
       "    .dataframe tbody tr th:only-of-type {\n",
       "        vertical-align: middle;\n",
       "    }\n",
       "\n",
       "    .dataframe tbody tr th {\n",
       "        vertical-align: top;\n",
       "    }\n",
       "\n",
       "    .dataframe thead th {\n",
       "        text-align: right;\n",
       "    }\n",
       "</style>\n",
       "<table border=\"1\" class=\"dataframe\">\n",
       "  <thead>\n",
       "    <tr style=\"text-align: right;\">\n",
       "      <th></th>\n",
       "      <th>INDEL length</th>\n",
       "      <th>N variants</th>\n",
       "      <th>ROC AUC</th>\n",
       "    </tr>\n",
       "  </thead>\n",
       "  <tbody>\n",
       "    <tr>\n",
       "      <th>0</th>\n",
       "      <td>≥1</td>\n",
       "      <td>1256</td>\n",
       "      <td>0.55</td>\n",
       "    </tr>\n",
       "    <tr>\n",
       "      <th>1</th>\n",
       "      <td>≥2</td>\n",
       "      <td>646</td>\n",
       "      <td>0.6</td>\n",
       "    </tr>\n",
       "    <tr>\n",
       "      <th>2</th>\n",
       "      <td>≥3</td>\n",
       "      <td>422</td>\n",
       "      <td>0.64</td>\n",
       "    </tr>\n",
       "    <tr>\n",
       "      <th>3</th>\n",
       "      <td>≥5</td>\n",
       "      <td>219</td>\n",
       "      <td>0.74</td>\n",
       "    </tr>\n",
       "    <tr>\n",
       "      <th>4</th>\n",
       "      <td>≥10</td>\n",
       "      <td>124</td>\n",
       "      <td>0.77</td>\n",
       "    </tr>\n",
       "    <tr>\n",
       "      <th>5</th>\n",
       "      <td>≥15</td>\n",
       "      <td>89</td>\n",
       "      <td>0.79</td>\n",
       "    </tr>\n",
       "  </tbody>\n",
       "</table>\n",
       "</div>"
      ],
      "text/plain": [
       "  INDEL length  N variants ROC AUC\n",
       "0           ≥1        1256    0.55\n",
       "1           ≥2         646     0.6\n",
       "2           ≥3         422    0.64\n",
       "3           ≥5         219    0.74\n",
       "4          ≥10         124    0.77\n",
       "5          ≥15          89    0.79"
      ]
     },
     "execution_count": 43,
     "metadata": {},
     "output_type": "execute_result"
    }
   ],
   "source": [
    "res = []\n",
    "\n",
    "for min_len in (1,2,3,5,10,15):\n",
    "    df = utr_variants[utr_variants.varlen>=min_len]\n",
    "    fpr, tpr, _ = sklearn.metrics.roc_curve(df.label, df.y_pred)\n",
    "    res.append((f'≥{min_len}',len(df),f'{sklearn.metrics.auc(fpr,tpr):.2}'))\n",
    "    \n",
    "pd.DataFrame(res, columns=['INDEL length', 'N variants', 'ROC AUC'])"
   ]
  },
  {
   "cell_type": "code",
   "execution_count": null,
   "id": "26a1a02e-d34d-4bbc-8730-61a31fc60aac",
   "metadata": {},
   "outputs": [],
   "source": []
  }
 ],
 "metadata": {
  "kernelspec": {
   "display_name": "Python [conda env:miniconda3-svilov-python]",
   "language": "python",
   "name": "conda-env-miniconda3-svilov-python-py"
  },
  "language_info": {
   "codemirror_mode": {
    "name": "ipython",
    "version": 3
   },
   "file_extension": ".py",
   "mimetype": "text/x-python",
   "name": "python",
   "nbconvert_exporter": "python",
   "pygments_lexer": "ipython3",
   "version": "3.11.4"
  }
 },
 "nbformat": 4,
 "nbformat_minor": 5
}
