{
 "cells": [
  {
   "cell_type": "markdown",
   "id": "991495f7-c561-410f-8faf-8a1f0bd444aa",
   "metadata": {},
   "source": [
    "Temperature scaling for DNABERT model\n",
    "\n",
    "looks for optimal temperature based on logits and true sequence"
   ]
  },
  {
   "cell_type": "code",
   "execution_count": 1,
   "id": "a1e9497f-74bf-4332-a614-c84758c17b96",
   "metadata": {
    "tags": []
   },
   "outputs": [],
   "source": [
    "import numpy as np\n",
    "import pandas as pd\n",
    "\n",
    "from glob import glob\n",
    "\n",
    "import torch\n",
    "from torch import nn, optim\n",
    "from torch.nn import functional as F"
   ]
  },
  {
   "cell_type": "code",
   "execution_count": 2,
   "id": "e6171ad7-84e6-44b2-8b53-e14da7012cf3",
   "metadata": {
    "tags": []
   },
   "outputs": [],
   "source": [
    "data_dir = '/s/project/mll/sergey/effect_prediction/MLM/'"
   ]
  },
  {
   "cell_type": "code",
   "execution_count": 6,
   "id": "33a5bbe7-2314-4e45-8b50-1afeead3aff0",
   "metadata": {
    "tags": []
   },
   "outputs": [],
   "source": [
    "res_path = data_dir + 'clinvar/dnabert/default/preds/'"
   ]
  },
  {
   "cell_type": "code",
   "execution_count": 9,
   "id": "d76fd8aa-9737-4199-8261-4676fa630b1f",
   "metadata": {
    "tags": []
   },
   "outputs": [],
   "source": [
    "mapping = {'A':0,'C':1,'G':2,'T':3}"
   ]
  },
  {
   "cell_type": "code",
   "execution_count": 10,
   "id": "8fac8542-830b-4e2e-b173-d53239225587",
   "metadata": {
    "tags": []
   },
   "outputs": [],
   "source": [
    "def get_dnabert_logits(res_path):\n",
    "    '''\n",
    "    collects logits and sequences\n",
    "    returns one long sequence and predictions for it\n",
    "    '''\n",
    "    logits = []\n",
    "    targets = []\n",
    "    for logits_file in glob(res_path + 'logits*.npy'):\n",
    "        seq_matching = pd.read_csv(logits_file.replace('/logits_','/seq_').replace('.npy','.csv')).set_index('seq_name').squeeze()\n",
    "        logits.extend(np.load(logits_file))\n",
    "        targets.extend(seq_matching.values.tolist())\n",
    "    targets = ''.join(targets)\n",
    "    targets = list(map(lambda x: mapping[x], targets))\n",
    "    logits = np.vstack(logits)\n",
    "    return logits, targets"
   ]
  },
  {
   "cell_type": "code",
   "execution_count": 11,
   "id": "0a914192-f53f-4832-953b-7418654ec24e",
   "metadata": {
    "tags": []
   },
   "outputs": [],
   "source": [
    "logits, targets = get_dnabert_logits(res_path)\n",
    "\n",
    "logits = torch.tensor(logits)\n",
    "targets = torch.tensor(targets)"
   ]
  },
  {
   "cell_type": "code",
   "execution_count": 12,
   "id": "ca1c5377-c7d3-4c78-a820-745fc11d4988",
   "metadata": {
    "tags": []
   },
   "outputs": [],
   "source": [
    "temperature = nn.Parameter(torch.ones(1) * 1.5)"
   ]
  },
  {
   "cell_type": "code",
   "execution_count": 13,
   "id": "a50814db-a3cf-42b1-9bdf-5ff51b9bef68",
   "metadata": {
    "tags": []
   },
   "outputs": [],
   "source": [
    "optimizer = optim.LBFGS([temperature], lr=0.1, max_iter=500)\n",
    "nll_criterion = nn.CrossEntropyLoss()"
   ]
  },
  {
   "cell_type": "code",
   "execution_count": 14,
   "id": "c7526f73-2ee0-457b-9267-3c9af1543ccf",
   "metadata": {
    "tags": []
   },
   "outputs": [
    {
     "data": {
      "text/plain": [
       "tensor(593.2281, grad_fn=<NllLossBackward0>)"
      ]
     },
     "execution_count": 14,
     "metadata": {},
     "output_type": "execute_result"
    }
   ],
   "source": [
    "def eval():\n",
    "    optimizer.zero_grad()\n",
    "    loss = nll_criterion(logits/temperature, targets)\n",
    "    loss.backward()\n",
    "    return loss\n",
    "\n",
    "optimizer.step(eval)"
   ]
  },
  {
   "cell_type": "code",
   "execution_count": 15,
   "id": "c8f6589d-c3b0-4388-8421-2f5765d1b3a0",
   "metadata": {
    "tags": []
   },
   "outputs": [
    {
     "data": {
      "text/plain": [
       "tensor(889.8412)"
      ]
     },
     "execution_count": 15,
     "metadata": {},
     "output_type": "execute_result"
    }
   ],
   "source": [
    "nll_criterion(logits, targets)"
   ]
  },
  {
   "cell_type": "code",
   "execution_count": 16,
   "id": "8023811b-d606-49b2-b23e-6aced243f265",
   "metadata": {
    "tags": []
   },
   "outputs": [
    {
     "data": {
      "text/plain": [
       "tensor(1.6082, grad_fn=<NllLossBackward0>)"
      ]
     },
     "execution_count": 16,
     "metadata": {},
     "output_type": "execute_result"
    }
   ],
   "source": [
    "nll_criterion(logits/temperature, targets)"
   ]
  },
  {
   "cell_type": "code",
   "execution_count": 17,
   "id": "9f0d8013-44ad-4348-ba54-516f776fbd3a",
   "metadata": {
    "tags": []
   },
   "outputs": [
    {
     "data": {
      "text/plain": [
       "Parameter containing:\n",
       "tensor([9486.8828], requires_grad=True)"
      ]
     },
     "execution_count": 17,
     "metadata": {},
     "output_type": "execute_result"
    }
   ],
   "source": [
    "temperature"
   ]
  }
 ],
 "metadata": {
  "kernelspec": {
   "display_name": "Python [conda env:miniconda3-svilov-mlm]",
   "language": "python",
   "name": "conda-env-miniconda3-svilov-mlm-py"
  },
  "language_info": {
   "codemirror_mode": {
    "name": "ipython",
    "version": 3
   },
   "file_extension": ".py",
   "mimetype": "text/x-python",
   "name": "python",
   "nbconvert_exporter": "python",
   "pygments_lexer": "ipython3",
   "version": "3.9.16"
  }
 },
 "nbformat": 4,
 "nbformat_minor": 5
}
