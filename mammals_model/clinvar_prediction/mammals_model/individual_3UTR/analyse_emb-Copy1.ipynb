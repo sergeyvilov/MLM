{
 "cells": [
  {
   "cell_type": "code",
   "execution_count": 27,
   "id": "9c6fb9b6-e482-450b-909a-8e6ed7af2d62",
   "metadata": {
    "tags": []
   },
   "outputs": [],
   "source": [
    "import numpy as np\n",
    "import pandas as pd\n",
    "import pickle\n",
    "\n",
    "from collections import defaultdict\n",
    "\n",
    "import sklearn.metrics\n",
    "import matplotlib.pyplot as plt\n",
    "import matplotlib\n",
    "\n",
    "matplotlib.rcParams.update({'font.size': 16})"
   ]
  },
  {
   "cell_type": "code",
   "execution_count": 28,
   "id": "d51c7a36-13f7-47c4-9af9-91bd26005907",
   "metadata": {
    "tags": []
   },
   "outputs": [],
   "source": [
    "data_dir = '/s/project/mll/sergey/effect_prediction/MLM/'"
   ]
  },
  {
   "cell_type": "code",
   "execution_count": 29,
   "id": "03c21006-18b2-4e34-986f-5e91d6cf8af3",
   "metadata": {},
   "outputs": [],
   "source": [
    "#3'UTR table\n",
    "\n",
    "utr_table = pd.read_csv(data_dir + 'UTR_coords/GRCh38_3_prime_UTR_clean-sorted.bed', sep='\\t',\n",
    "                       header = None, names=['seq_start','seq_end','seq_name','strand'], usecols=[1,2,3,5])"
   ]
  },
  {
   "cell_type": "code",
   "execution_count": 30,
   "id": "a8e325d2-6ba2-49f9-953b-c51e08e4921d",
   "metadata": {
    "tags": []
   },
   "outputs": [],
   "source": [
    "utr_variants = pd.read_csv(data_dir + 'clinvar/clinvar.3utr.tsv', sep='\\t', names=['chrom','pos','var_id','ref','alt','seq_name','label'])"
   ]
  },
  {
   "cell_type": "code",
   "execution_count": 31,
   "id": "07e62c63-7865-49f3-b40d-6af4b02b96fe",
   "metadata": {
    "tags": []
   },
   "outputs": [],
   "source": [
    "utr_variants.pos = utr_variants.pos-1 #to 0-based"
   ]
  },
  {
   "cell_type": "code",
   "execution_count": 32,
   "id": "bd0183ae-7333-4aec-bed1-46886588be1a",
   "metadata": {
    "tags": []
   },
   "outputs": [],
   "source": [
    "utr_variants = utr_variants[utr_variants.alt!='.'] #around 30 variants, not reliable"
   ]
  },
  {
   "cell_type": "code",
   "execution_count": 33,
   "id": "90f7c850-1da0-4875-adba-a07d858bac10",
   "metadata": {
    "tags": []
   },
   "outputs": [],
   "source": [
    "utr_variants = utr_variants[utr_variants.label.isin(('Pathogenic','Benign'))]\n",
    "\n",
    "utr_variants.label = utr_variants.label.apply(lambda x: 1 if 'athogenic' in x else 0)"
   ]
  },
  {
   "cell_type": "code",
   "execution_count": 34,
   "id": "3a5e9446-5c86-410e-ac4d-4a9e6eac4a16",
   "metadata": {
    "tags": []
   },
   "outputs": [],
   "source": [
    "is_snp = (utr_variants.ref.apply(len)==1) & (utr_variants.alt.apply(len)==1)\n",
    "\n",
    "utr_variants = utr_variants[is_snp]"
   ]
  },
  {
   "cell_type": "code",
   "execution_count": 35,
   "id": "73c6d21b-4ce7-4874-ba2f-99736c4e55f5",
   "metadata": {
    "tags": []
   },
   "outputs": [],
   "source": [
    "utr_variants = utr_variants.merge(utr_table, how='left')"
   ]
  },
  {
   "cell_type": "code",
   "execution_count": 36,
   "id": "be97bae2-62d8-4780-a195-4faf03abcf69",
   "metadata": {
    "tags": []
   },
   "outputs": [],
   "source": [
    "dist_to_utr_start = utr_variants.apply(lambda x: x.pos-x.seq_start if x.strand=='+' \n",
    "                                                       else  x.seq_end-x.pos, axis=1)"
   ]
  },
  {
   "cell_type": "code",
   "execution_count": 37,
   "id": "5071a51c-896a-48f1-9fc8-5e4667fdd676",
   "metadata": {
    "tags": []
   },
   "outputs": [],
   "source": [
    "utr_variants = utr_variants[dist_to_utr_start<5000] #limit by the maximum sequence length on species-aware model"
   ]
  },
  {
   "cell_type": "code",
   "execution_count": 38,
   "id": "a6186e33-61a3-448f-9ec8-e424c0808c8b",
   "metadata": {
    "tags": []
   },
   "outputs": [],
   "source": [
    "utr_variants['varpos'] = utr_variants.apply(lambda x:x.pos-x.seq_start if x.strand=='+' else  x.seq_end-x.pos, axis=1)"
   ]
  },
  {
   "cell_type": "code",
   "execution_count": 39,
   "id": "63294530-09d9-4bd9-9716-7f79430c2068",
   "metadata": {
    "tags": []
   },
   "outputs": [],
   "source": [
    "\n",
    "with open(data_dir + 'individual_3UTR/embeddings.pickle', 'rb') as f:\n",
    "            embeddings = pickle.load(f)\n",
    "            seqs =  pickle.load(f)\n",
    "            \n",
    "utr3_emb = {seq_name:embeddings[idx] for idx,seq_name in enumerate(seqs)}"
   ]
  },
  {
   "cell_type": "code",
   "execution_count": 49,
   "id": "3386ad90-25d9-4cd7-8d2f-9878b33b4b93",
   "metadata": {
    "tags": []
   },
   "outputs": [
    {
     "data": {
      "text/plain": [
       "'/s/project/mll/sergey/effect_prediction/MLM/individual_3UTR/embeddings.pickle'"
      ]
     },
     "execution_count": 49,
     "metadata": {},
     "output_type": "execute_result"
    }
   ],
   "source": [
    "data_dir + 'individual_3UTR/embeddings.pickle'"
   ]
  },
  {
   "cell_type": "code",
   "execution_count": 40,
   "id": "b94ec013-020f-47b7-a0ec-01a47744d18b",
   "metadata": {
    "tags": []
   },
   "outputs": [],
   "source": [
    "res  = []\n",
    "\n",
    "refseq_emb = embeddings[0]\n",
    "\n",
    "for embedding,seq in zip(embeddings[1:],seqs[1:]):\n",
    "    res.append((*seq.split(':'),embedding))"
   ]
  },
  {
   "cell_type": "code",
   "execution_count": 41,
   "id": "d73e8eb2-eef0-450b-aca4-011bf009c2d6",
   "metadata": {
    "tags": []
   },
   "outputs": [],
   "source": [
    "emb_df = pd.DataFrame(res,columns=['seq_name','varpos','ref','alt','embed'])\n",
    "emb_df.varpos = emb_df.varpos.astype(float)"
   ]
  },
  {
   "cell_type": "code",
   "execution_count": 42,
   "id": "408f95bb-d3b9-4ee6-8c23-8a90395e278f",
   "metadata": {
    "tags": []
   },
   "outputs": [],
   "source": [
    "emb_df['score'] =  emb_df.embed.apply(lambda x: cosine(x,refseq_emb))"
   ]
  },
  {
   "cell_type": "code",
   "execution_count": 43,
   "id": "97ae2dd1-8c11-467d-bc3f-d80bece16039",
   "metadata": {
    "tags": []
   },
   "outputs": [],
   "source": [
    "utr3_emb_clinvar = emb_df.merge(utr_variants)"
   ]
  },
  {
   "cell_type": "code",
   "execution_count": 44,
   "id": "a60319c5-d9a4-4e0a-bf72-6fdc03e112be",
   "metadata": {
    "tags": []
   },
   "outputs": [
    {
     "data": {
      "text/plain": [
       "0.6203703703703703"
      ]
     },
     "execution_count": 44,
     "metadata": {},
     "output_type": "execute_result"
    }
   ],
   "source": [
    "sklearn.metrics.roc_auc_score(utr3_emb_clinvar.label,utr3_emb_clinvar.score)"
   ]
  },
  {
   "cell_type": "code",
   "execution_count": 45,
   "id": "539da82f-bc87-4dbc-8d7d-a63f201e59e7",
   "metadata": {
    "tags": []
   },
   "outputs": [
    {
     "data": {
      "text/plain": [
       "[<matplotlib.lines.Line2D at 0x1521f0e50950>]"
      ]
     },
     "execution_count": 45,
     "metadata": {},
     "output_type": "execute_result"
    },
    {
     "data": {
      "image/png": "[encoded data removed]",
      "text/plain": [
       "<Figure size 640x480 with 1 Axes>"
      ]
     },
     "metadata": {},
     "output_type": "display_data"
    }
   ],
   "source": [
    "fpr, tpr, _ = sklearn.metrics.roc_curve(utr3_emb_clinvar.label,utr3_emb_clinvar.score)\n",
    "\n",
    "plt.plot(fpr,tpr,marker='o')"
   ]
  },
  {
   "cell_type": "code",
   "execution_count": 17,
   "id": "1f8386de-214f-4180-87c8-f4f8a7ccc8b6",
   "metadata": {
    "tags": []
   },
   "outputs": [],
   "source": [
    "from numpy.linalg import norm\n",
    "\n",
    "def cosine(x,y):\n",
    "    '''\n",
    "    Compute cosine similarity btw 2 vectors\n",
    "    '''\n",
    "    if x is None or y is None:\n",
    "        return None\n",
    "    return  -np.dot(x,y)/(norm(x)*norm(y))"
   ]
  },
  {
   "cell_type": "code",
   "execution_count": 14,
   "id": "29067135-8d7c-4089-9eb6-54b15ec3abcc",
   "metadata": {
    "tags": []
   },
   "outputs": [],
   "source": [
    "utr_variants['y_pred'] = utr_variants.apply(lambda x: \n",
    "                                            cosine(utr3_emb.get(x.seq_name, None),\n",
    "                                                   clinvar_emb.get(f'ClinvarID_{x.var_id}', None)),axis=1)"
   ]
  },
  {
   "cell_type": "code",
   "execution_count": 15,
   "id": "fdd92475-0bec-47a6-8cf3-41cf9068632a",
   "metadata": {
    "tags": []
   },
   "outputs": [],
   "source": [
    "utr_variants = utr_variants[~utr_variants.y_pred.isna()]"
   ]
  },
  {
   "cell_type": "code",
   "execution_count": 16,
   "id": "c5ebb2db-7a19-46b0-b7c0-5230cc2982de",
   "metadata": {
    "tags": []
   },
   "outputs": [
    {
     "data": {
      "text/plain": [
       "0.5419233615534901"
      ]
     },
     "execution_count": 16,
     "metadata": {},
     "output_type": "execute_result"
    }
   ],
   "source": [
    "sklearn.metrics.roc_auc_score(utr_variants.label, utr_variants.y_pred)\n",
    "\n"
   ]
  },
  {
   "cell_type": "code",
   "execution_count": 46,
   "id": "62ddd35c-601c-4ea8-84c2-1e7e9808111c",
   "metadata": {
    "tags": []
   },
   "outputs": [],
   "source": [
    "res = []\n",
    "\n",
    "for seq1 in np.random.choice(list(utr3_emb.keys()),100):\n",
    "    for seq2 in np.random.choice(list(utr3_emb.keys()),100):\n",
    "        #res.append(cosine(utr3_emb[seq1],utr3_emb[seq2]))\n",
    "        #res.append(((utr3_emb[seq1]-utr3_emb[seq2])**2).mean())\n",
    "        res.append(((utr3_emb[seq1]-utr3_emb[seq2])**2).mean())"
   ]
  },
  {
   "cell_type": "code",
   "execution_count": 47,
   "id": "4641b1d0-9e81-442c-83bb-20292811f535",
   "metadata": {
    "tags": []
   },
   "outputs": [
    {
     "data": {
      "text/plain": [
       "Text(0, 0.5, 'counts')"
      ]
     },
     "execution_count": 47,
     "metadata": {},
     "output_type": "execute_result"
    },
    {
     "data": {
      "image/png": "[encoded data removed]",
      "text/plain": [
       "<Figure size 640x480 with 1 Axes>"
      ]
     },
     "metadata": {},
     "output_type": "display_data"
    }
   ],
   "source": [
    "fig, ax = plt.subplots()\n",
    "\n",
    "ax.hist(-np.array(res), alpha=0.5, label = 'random pairs');\n",
    "#ax.hist(-utr_variants.y_pred, bins=np.arange(0.93,1.003,0.003), alpha=0.5, label='ref/alt pairs');\n",
    "ax.legend(loc='upper left')\n",
    "ax.set_xlabel('cosine similarity')\n",
    "ax.set_ylabel('counts')"
   ]
  },
  {
   "cell_type": "code",
   "execution_count": 19,
   "id": "ed945534-737c-497f-ae01-8a1d3b42c288",
   "metadata": {
    "tags": []
   },
   "outputs": [
    {
     "name": "stdout",
     "output_type": "stream",
     "text": [
      "ROC AUC SNP: 0.5\n",
      "ROC AUC INDEL: 0.61\n"
     ]
    },
    {
     "data": {
      "image/png": "[encoded data removed]",
      "text/plain": [
       "<Figure size 1000x300 with 2 Axes>"
      ]
     },
     "metadata": {},
     "output_type": "display_data"
    }
   ],
   "source": [
    "\n",
    "fig, axes = plt.subplots(1,2, figsize=(10,3))\n",
    "\n",
    "ax = axes[0]\n",
    "\n",
    "for vartype in ('SNP','INDEL'):\n",
    "    precision, recall, prc_thr = sklearn.metrics.precision_recall_curve(utr_variants[utr_variants.vartype==vartype].label, \n",
    "                                                                        utr_variants[utr_variants.vartype==vartype].y_pred)\n",
    "    ax.plot(recall,precision, label=vartype)\n",
    "\n",
    "\n",
    "ax.set_xlabel('recall')\n",
    "ax.set_ylabel('precision')\n",
    "\n",
    "ax = axes[1]\n",
    "\n",
    "for vartype in ('SNP','INDEL'):\n",
    "    fpr, tpr, roc_thr = sklearn.metrics.roc_curve(utr_variants[utr_variants.vartype==vartype].label, \n",
    "                                                  utr_variants[utr_variants.vartype==vartype].y_pred)\n",
    "    ax.plot(fpr,tpr, label=vartype)\n",
    "    print(f'ROC AUC {vartype}: {sklearn.metrics.auc(fpr,tpr):.2}')\n",
    "\n",
    "ax.plot(fpr,fpr, '--',c='gray')\n",
    "ax.set_xlabel('FPR')\n",
    "ax.set_ylabel('TPR')\n",
    "\n",
    "fig.tight_layout()"
   ]
  },
  {
   "cell_type": "code",
   "execution_count": 21,
   "id": "f3659f7a-029c-47a7-a747-52871b3b19a3",
   "metadata": {
    "tags": []
   },
   "outputs": [
    {
     "data": {
      "text/html": [
       "<div>\n",
       "<style scoped>\n",
       "    .dataframe tbody tr th:only-of-type {\n",
       "        vertical-align: middle;\n",
       "    }\n",
       "\n",
       "    .dataframe tbody tr th {\n",
       "        vertical-align: top;\n",
       "    }\n",
       "\n",
       "    .dataframe thead th {\n",
       "        text-align: right;\n",
       "    }\n",
       "</style>\n",
       "<table border=\"1\" class=\"dataframe\">\n",
       "  <thead>\n",
       "    <tr style=\"text-align: right;\">\n",
       "      <th></th>\n",
       "      <th>INDEL length</th>\n",
       "      <th>N variants</th>\n",
       "      <th>ROC AUC</th>\n",
       "    </tr>\n",
       "  </thead>\n",
       "  <tbody>\n",
       "    <tr>\n",
       "      <th>0</th>\n",
       "      <td>≥1</td>\n",
       "      <td>1251</td>\n",
       "      <td>0.61</td>\n",
       "    </tr>\n",
       "    <tr>\n",
       "      <th>1</th>\n",
       "      <td>≥2</td>\n",
       "      <td>644</td>\n",
       "      <td>0.69</td>\n",
       "    </tr>\n",
       "    <tr>\n",
       "      <th>2</th>\n",
       "      <td>≥3</td>\n",
       "      <td>421</td>\n",
       "      <td>0.76</td>\n",
       "    </tr>\n",
       "    <tr>\n",
       "      <th>3</th>\n",
       "      <td>≥5</td>\n",
       "      <td>219</td>\n",
       "      <td>0.79</td>\n",
       "    </tr>\n",
       "    <tr>\n",
       "      <th>4</th>\n",
       "      <td>≥10</td>\n",
       "      <td>124</td>\n",
       "      <td>0.85</td>\n",
       "    </tr>\n",
       "    <tr>\n",
       "      <th>5</th>\n",
       "      <td>≥15</td>\n",
       "      <td>89</td>\n",
       "      <td>0.93</td>\n",
       "    </tr>\n",
       "  </tbody>\n",
       "</table>\n",
       "</div>"
      ],
      "text/plain": [
       "  INDEL length  N variants ROC AUC\n",
       "0           ≥1        1251    0.61\n",
       "1           ≥2         644    0.69\n",
       "2           ≥3         421    0.76\n",
       "3           ≥5         219    0.79\n",
       "4          ≥10         124    0.85\n",
       "5          ≥15          89    0.93"
      ]
     },
     "execution_count": 21,
     "metadata": {},
     "output_type": "execute_result"
    }
   ],
   "source": [
    "res = []\n",
    "\n",
    "for min_len in (1,2,3,5,10,15):\n",
    "    df = utr_variants[utr_variants.varlen>=min_len]\n",
    "    fpr, tpr, _ = sklearn.metrics.roc_curve(df.label, df.y_pred)\n",
    "    res.append((f'≥{min_len}',len(df),f'{sklearn.metrics.auc(fpr,tpr):.2}'))\n",
    "    \n",
    "pd.DataFrame(res, columns=['INDEL length', 'N variants', 'ROC AUC'])"
   ]
  },
  {
   "cell_type": "code",
   "execution_count": null,
   "id": "26a1a02e-d34d-4bbc-8730-61a31fc60aac",
   "metadata": {},
   "outputs": [],
   "source": []
  }
 ],
 "metadata": {
  "kernelspec": {
   "display_name": "Python [conda env:miniconda3-svilov-python]",
   "language": "python",
   "name": "conda-env-miniconda3-svilov-python-py"
  },
  "language_info": {
   "codemirror_mode": {
    "name": "ipython",
    "version": 3
   },
   "file_extension": ".py",
   "mimetype": "text/x-python",
   "name": "python",
   "nbconvert_exporter": "python",
   "pygments_lexer": "ipython3",
   "version": "3.11.4"
  }
 },
 "nbformat": 4,
 "nbformat_minor": 5
}
