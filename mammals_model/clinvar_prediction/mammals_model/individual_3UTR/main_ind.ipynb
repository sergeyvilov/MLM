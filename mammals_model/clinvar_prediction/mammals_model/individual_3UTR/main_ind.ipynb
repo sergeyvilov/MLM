{
 "cells": [
  {
   "cell_type": "code",
   "execution_count": 5,
   "id": "ae43e306-e5f1-4831-bb06-cecdb288fd12",
   "metadata": {
    "tags": []
   },
   "outputs": [
    {
     "name": "stdout",
     "output_type": "stream",
     "text": [
      "The autoreload extension is already loaded. To reload it, use:\n",
      "  %reload_ext autoreload\n"
     ]
    }
   ],
   "source": [
    "import numpy as np\n",
    "import pandas as pd\n",
    "import pickle\n",
    "\n",
    "import re\n",
    "\n",
    "import os\n",
    "import gc\n",
    "import sys\n",
    "\n",
    "import pysam\n",
    "\n",
    "import torch\n",
    "from torch.utils.data import DataLoader, Dataset\n",
    "\n",
    "from tqdm import tqdm\n",
    "\n",
    "sys.path.append('../../')\n",
    "\n",
    "%load_ext autoreload\n",
    "%autoreload 2"
   ]
  },
  {
   "cell_type": "code",
   "execution_count": 6,
   "id": "8be2f56b-e9fb-4abc-9339-a335bc412afa",
   "metadata": {
    "tags": []
   },
   "outputs": [],
   "source": [
    "from encoding_utils import sequence_encoders\n",
    "\n",
    "import helpers.train_eval as train_eval    #train and evaluation\n",
    "import helpers.misc as misc                #miscellaneous functions\n",
    "from helpers.metrics import MaskedAccuracy\n",
    "from helpers.temperature_scaling import ModelWithTemperature\n",
    "\n",
    "from models.spec_dss import DSSResNet, DSSResNetEmb, SpecAdd"
   ]
  },
  {
   "cell_type": "code",
   "execution_count": 7,
   "id": "73f455b8-053b-47d6-9206-d09fa0d11fe7",
   "metadata": {
    "tags": []
   },
   "outputs": [],
   "source": [
    "datadir = '/s/project/mll/sergey/effect_prediction/MLM/'"
   ]
  },
  {
   "cell_type": "code",
   "execution_count": 9,
   "id": "597bf5fb-c432-4eec-93da-17d6f10af4e5",
   "metadata": {
    "tags": []
   },
   "outputs": [],
   "source": [
    "class SeqDataset(Dataset):\n",
    "    \n",
    "    def __init__(self, fasta_fa, seq_df, transform):\n",
    "        \n",
    "        if fasta_fa:\n",
    "            self.fasta = pysam.FastaFile(fasta_fa)\n",
    "        else:\n",
    "             self.fasta = None\n",
    "        \n",
    "        self.seq_df = seq_df\n",
    "        self.transform = transform\n",
    "        \n",
    "    def __len__(self):\n",
    "        \n",
    "        return len(self.seq_df)\n",
    "    \n",
    "    def __getitem__(self, idx):\n",
    "        \n",
    "        if self.fasta:\n",
    "            seq = self.fasta.fetch(self.seq_df.iloc[idx].seq_name).upper()\n",
    "        else:\n",
    "            seq = self.seq_df.iloc[idx].seq.upper()\n",
    "                \n",
    "        species_label = self.seq_df.iloc[idx].species_label\n",
    "        \n",
    "        seq = seq.replace('-','')\n",
    "                \n",
    "        masked_sequence, target_labels_masked, target_labels, _, _ = self.transform(seq, motifs = {})\n",
    "        \n",
    "        masked_sequence = (masked_sequence, species_label)\n",
    "            \n",
    "        return masked_sequence, target_labels_masked, target_labels, seq\n",
    "    \n",
    "    def close(self):\n",
    "        self.fasta.close()"
   ]
  },
  {
   "cell_type": "code",
   "execution_count": 10,
   "id": "1b717766-416d-4f5d-96d2-9e8e2051e704",
   "metadata": {
    "tags": []
   },
   "outputs": [
    {
     "name": "stdout",
     "output_type": "stream",
     "text": [
      "\n",
      "CUDA device: CPU\n",
      "\n"
     ]
    },
    {
     "name": "stderr",
     "output_type": "stream",
     "text": [
      "/data/ouga/home/ag_gagneur/l_vilov/miniconda3/envs/svilov-mlm/lib/python3.9/site-packages/torch/cuda/__init__.py:80: UserWarning: CUDA initialization: CUDA unknown error - this may be due to an incorrectly set up environment, e.g. changing env variable CUDA_VISIBLE_DEVICES after program start. Setting the available devices to be zero. (Triggered internally at  /opt/conda/conda-bld/pytorch_1639180487213/work/c10/cuda/CUDAFunctions.cpp:112.)\n",
      "  return torch._C._cuda_getDeviceCount() > 0\n"
     ]
    }
   ],
   "source": [
    "if torch.cuda.is_available():\n",
    "    device = torch.device('cuda')\n",
    "    print('\\nCUDA device: GPU\\n')\n",
    "else:\n",
    "    device = torch.device('cpu')\n",
    "    print('\\nCUDA device: CPU\\n')\n",
    "    #raise Exception('CUDA is not found')"
   ]
  },
  {
   "cell_type": "code",
   "execution_count": 11,
   "id": "1958cd83-205c-4a97-9852-08ab25b458ef",
   "metadata": {
    "tags": []
   },
   "outputs": [],
   "source": [
    "gc.collect()\n",
    "torch.cuda.empty_cache()"
   ]
  },
  {
   "cell_type": "code",
   "execution_count": 12,
   "id": "57f907e3-c581-41a5-80d1-034c93d2917f",
   "metadata": {},
   "outputs": [],
   "source": [
    "input_params = misc.dotdict({})\n",
    "\n",
    "input_params.species_list = datadir + 'fasta/240_mammals/240_species.txt'\n",
    "\n",
    "input_params.output_dir = './test'\n",
    "\n",
    "input_params.seq_len = 5000\n",
    "\n",
    "input_params.tot_epochs = 100\n",
    "\n",
    "input_params.d_model = 32\n",
    "input_params.n_layers = 4\n",
    "input_params.dropout = 0.\n",
    "\n",
    "input_params.batch_size = 32\n",
    "input_params.learning_rate = 1e-4\n",
    "input_params.weight_decay = 0#5e-4"
   ]
  },
  {
   "cell_type": "code",
   "execution_count": 13,
   "id": "0d1c2232-ae06-464c-b548-a061382486eb",
   "metadata": {
    "tags": []
   },
   "outputs": [],
   "source": [
    "input_params.fasta = datadir + 'aligned/data/3_prime_UTR/366/ENST00000381365.4_utr3_2_0_chr17_4900534_f.fa'"
   ]
  },
  {
   "cell_type": "code",
   "execution_count": 14,
   "id": "33a3e0f3-6619-4616-bd26-a0ef7a5bbd8b",
   "metadata": {
    "tags": []
   },
   "outputs": [],
   "source": [
    "seq_df = pd.read_csv(input_params.fasta + '.fai', header=None, sep='\\t', usecols=[0], names=['seq_name'])\n",
    "\n",
    "seq_df['species_name'] = seq_df.seq_name.apply(lambda x:x.split(':')[1])\n",
    "\n",
    "species_encoding = pd.read_csv(input_params.species_list, header=None).squeeze().to_dict()\n",
    "\n",
    "species_encoding = {species:idx for idx,species in species_encoding.items()}\n",
    "species_encoding['Homo_sapiens'] = species_encoding['Pan_troglodytes']\n",
    "\n",
    "seq_df['species_label'] = seq_df.species_name.map(species_encoding)\n",
    "\n",
    "test_df = seq_df[seq_df.species_name=='Homo_sapiens'] #for training and calibration\n",
    "train_df = seq_df[seq_df.species_name!='Homo_sapiens'] #for probas"
   ]
  },
  {
   "cell_type": "code",
   "execution_count": 70,
   "id": "8ab767db-1b19-492d-a8d2-65681d2c33c4",
   "metadata": {
    "tags": []
   },
   "outputs": [],
   "source": [
    "refseq = pysam.FastaFile(input_params.fasta).fetch(seq_df.seq_name.iloc[0]).upper()"
   ]
  },
  {
   "cell_type": "code",
   "execution_count": 71,
   "id": "8e2693df-3f6a-49c0-a366-6dbbb5f39a82",
   "metadata": {
    "tags": []
   },
   "outputs": [],
   "source": [
    "utr_name = seq_df.iloc[0].seq_name.split(':')[0]\n",
    "\n",
    "seqs = []\n",
    "\n",
    "#generate all possible mutations\n",
    "for seq_idx,ref in enumerate(refseq):\n",
    "    for alt in 'ACGT':\n",
    "        if alt!=ref:\n",
    "            altseq = list(refseq)\n",
    "            altseq[seq_idx] = alt\n",
    "            seqs.append((f'{utr_name}:{seq_idx}:{ref}:{alt}',''.join(altseq)))"
   ]
  },
  {
   "cell_type": "code",
   "execution_count": 72,
   "id": "c11594c3-aba8-4145-8671-7e41e32df79d",
   "metadata": {
    "tags": []
   },
   "outputs": [],
   "source": [
    "background_df = pd.DataFrame(seqs,columns=['seq_name','seq'])\n",
    "background_df = background_df.sample(n=min(3000,len(seqs)), random_state=1) #background for embeddings"
   ]
  },
  {
   "cell_type": "code",
   "execution_count": 73,
   "id": "4287aa29-50cd-4431-9855-8b31ff733b21",
   "metadata": {
    "tags": []
   },
   "outputs": [],
   "source": [
    "clinvar_fa = datadir + 'clinvar/clinvar.fa'\n",
    "\n",
    "clinvar_df = pd.read_csv(clinvar_fa + '.fai', header=None, sep='\\t', usecols=[0], names=['seq_name'])\n",
    "clinvar_df['utr_name'] = clinvar_df.seq_name.apply(lambda x:x.split(':')[-1])\n",
    "clinvar_seqs = clinvar_df[clinvar_df.utr_name==utr_name].seq_name\n",
    "\n",
    "clinvar_fa = pysam.FastaFile(clinvar_fa)\n",
    "\n",
    "clinvar_vars = []\n",
    "\n",
    "for seq_name in clinvar_seqs:\n",
    "    seq = clinvar_fa.fetch(seq_name)\n",
    "    clinvar_id = seq_name.split(':')[0]\n",
    "    clinvar_vars.append((f'{utr_name}:{clinvar_id}',seq))\n",
    "\n",
    "clinvar_vars = pd.DataFrame(clinvar_vars,columns=['seq_name','seq'])"
   ]
  },
  {
   "cell_type": "code",
   "execution_count": 74,
   "id": "204e72c8-be78-4df2-aade-6e17371702e2",
   "metadata": {
    "tags": []
   },
   "outputs": [],
   "source": [
    "embedding_df = pd.concat([background_df, clinvar_vars])\n",
    "\n",
    "embedding_df.loc[len(embedding_df)] = {'seq_name':f'{utr_name}:0:ref:ref', 'seq':refseq} #reference embedding\n",
    "\n",
    "embedding_df['species_label'] = species_encoding['Pan_troglodytes']\n",
    "embedding_df['species_name'] = 'Homo_sapiens'"
   ]
  },
  {
   "cell_type": "code",
   "execution_count": 284,
   "id": "98ce1c8b-d70c-4fe7-ac01-e86fd30a8dea",
   "metadata": {
    "tags": []
   },
   "outputs": [],
   "source": [
    "if not input_params.test:\n",
    "    \n",
    "    #Train and Validate\n",
    "    \n",
    "    seq_transform = sequence_encoders.SequenceDataEncoder(seq_len = input_params.seq_len, total_len = input_params.seq_len, \n",
    "                                                      mask_rate = 0.15, split_mask = True)\n",
    "    \n",
    "    N_train = int(len(seq_df)*(1-input_params.val_fraction))       \n",
    "    train_df, test_df = seq_df.iloc[:N_train], seq_df.iloc[N_train:]\n",
    "                  \n",
    "    train_fold = np.repeat(list(range(input_params.train_splits)),repeats = N_train // input_params.train_splits + 1 )\n",
    "    train_df['train_fold'] = train_fold[:N_train]\n",
    "\n",
    "    train_dataset = SeqDataset(input_params.fasta, train_df, transform = seq_transform)\n",
    "    train_dataloader = DataLoader(dataset = train_dataset, batch_size = input_params.batch_size, num_workers = 2, collate_fn = None, shuffle = False)\n",
    "\n",
    "    test_dataset = SeqDataset(input_params.fasta, test_df, transform = seq_transform)\n",
    "    test_dataloader = DataLoader(dataset = test_dataset, batch_size = input_params.batch_size, num_workers = 2, collate_fn = None, shuffle = False)\n",
    "\n",
    "elif input_params.get_embeddings or input_params.get_motif_acc:\n",
    "    \n",
    "    #Test and get sequence embeddings (MPRA)\n",
    "    \n",
    "    seq_transform = sequence_encoders.RollingMasker(mask_stride = 50, frame = 0)\n",
    "        \n",
    "    test_dataset = SeqDataset(input_params.fasta, seq_df, transform = seq_transform)\n",
    "    test_dataloader = DataLoader(dataset = test_dataset, batch_size = 1, num_workers = 1, collate_fn = None, shuffle = False)\n",
    "    \n",
    "else:\n",
    "    \n",
    "    #Test\n",
    "    \n",
    "    seq_transform = sequence_encoders.SequenceDataEncoder(seq_len = input_params.seq_len, total_len = input_params.seq_len, \n",
    "                                                      mask_rate = 0.15, split_mask = True, frame = 0)\n",
    "    \n",
    "    test_dataset = SeqDataset(input_params.fasta, seq_df, transform = seq_transform)\n",
    "    test_dataloader = DataLoader(dataset = test_dataset, batch_size = input_params.batch_size, num_workers = 2, collate_fn = None, shuffle = False)"
   ]
  },
  {
   "cell_type": "code",
   "execution_count": 271,
   "id": "ad86179c-11e5-4b3b-a389-b8ab1b00bdbe",
   "metadata": {
    "tags": []
   },
   "outputs": [],
   "source": [
    "species_encoder = SpecAdd(embed = True, encoder = 'label', d_model = input_params.d_model)\n",
    "\n",
    "model = DSSResNetEmb(d_input = 5, d_output = 5, d_model = input_params.d_model, n_layers = input_params.n_layers, \n",
    "                     dropout = input_params.dropout, embed_before = True, species_encoder = species_encoder)\n",
    "\n",
    "model = model.to(device) \n",
    "\n",
    "model_params = [p for p in model.parameters() if p.requires_grad]\n",
    "\n",
    "optimizer = torch.optim.Adam(model_params, lr = input_params.learning_rate, weight_decay = input_params.weight_decay)"
   ]
  },
  {
   "cell_type": "code",
   "execution_count": 272,
   "id": "ec227158-c405-4dc7-8f6a-38a83009d725",
   "metadata": {},
   "outputs": [],
   "source": [
    "last_epoch = 0\n",
    "\n",
    "if input_params.model_weight:\n",
    "\n",
    "    if torch.cuda.is_available():\n",
    "        #load on gpu\n",
    "        model.load_state_dict(torch.load(input_params.model_weight))\n",
    "        if input_params.optimizer_weight:\n",
    "            optimizer.load_state_dict(torch.load(input_params.optimizer_weight))\n",
    "    else:\n",
    "        #load on cpu\n",
    "        model.load_state_dict(torch.load(input_params.model_weight, map_location=torch.device('cpu')))\n",
    "        if input_params.optimizer_weight:\n",
    "            optimizer.load_state_dict(torch.load(input_params.optimizer_weight, map_location=torch.device('cpu')))\n",
    "\n",
    "    last_epoch = int(input_params.model_weight.split('_')[-3]) #infer previous epoch from input_params.model_weight\n",
    "\n",
    "weights_dir = os.path.join(input_params.output_dir, 'weights') #dir to save model weights at save_at epochs\n",
    "\n",
    "if input_params.save_at:\n",
    "    os.makedirs(weights_dir, exist_ok = True)"
   ]
  },
  {
   "cell_type": "code",
   "execution_count": 273,
   "id": "9f68efaa-d4a6-424f-a169-6d0d9046ec9e",
   "metadata": {
    "tags": []
   },
   "outputs": [],
   "source": [
    "def metrics_to_str(metrics):\n",
    "    loss, total_acc, masked_acc = metrics\n",
    "    return f'loss: {loss:.4}, total acc: {total_acc:.3f}, masked acc: {masked_acc:.3f}'"
   ]
  },
  {
   "cell_type": "code",
   "execution_count": 285,
   "id": "fd086013-fd62-4964-8ccc-8b9d928d727d",
   "metadata": {
    "tags": []
   },
   "outputs": [
    {
     "name": "stdout",
     "output_type": "stream",
     "text": [
      "EPOCH 11: Test/Inference...\n"
     ]
    },
    {
     "name": "stderr",
     "output_type": "stream",
     "text": [
      "acc: 0.79, masked acc: 0.27, loss: 1.577: 100%|███████████████████████████████████████████████████████████████████████████████████████████████████████████████████████████████████████████████████████████████████████████████████████████████████████████████████████████████████████████████████████████████████████████████████████████████████████████████████████████████████████████████████████████████████████████████████████████████████████████████████████████████████████████████████████████████████████████████████████████████████████████████████████████████████████████████████████████████████████████████████████████████████████████████████████████████████████| 18134/18134 [21:03<00:00, 14.35it/s]\n"
     ]
    },
    {
     "name": "stdout",
     "output_type": "stream",
     "text": [
      "epoch 11 - test, loss: 1.577, total acc: 0.790, masked acc: 0.267\n",
      "\n",
      "peak GPU memory allocation: 26613 Mb\n",
      "Done\n"
     ]
    }
   ],
   "source": [
    "from IPython.display import clear_output\n",
    "\n",
    "clear_output()\n",
    "\n",
    "#from utils.misc import print    #print function that displays time\n",
    "\n",
    "if not input_params.test:\n",
    "\n",
    "    for epoch in range(last_epoch+1, input_params.tot_epochs+1):\n",
    "\n",
    "        print(f'EPOCH {epoch}: Training...')\n",
    "\n",
    "        train_dataset.seq_df = train_df[train_df.train_fold == (epoch-1) % input_params.train_splits]\n",
    "        print(f'using train samples: {list(train_dataset.seq_df.index[[0,-1]])}')\n",
    "\n",
    "        train_metrics = train_eval.model_train(model, optimizer, train_dataloader, device,\n",
    "                            silent = False)\n",
    "\n",
    "        print(f'epoch {epoch} - train, {metrics_to_str(train_metrics)}')\n",
    "\n",
    "        if epoch in input_params.save_at: #save model weights\n",
    "\n",
    "            misc.save_model_weights(model, optimizer, weights_dir, epoch)\n",
    "\n",
    "        if input_params.val_fraction>0 and ( epoch==input_params.tot_epochs or\n",
    "                            (input_params.validate_every and epoch%input_params.validate_every==0)):\n",
    "\n",
    "            print(f'EPOCH {epoch}: Validating...')\n",
    "\n",
    "            val_metrics, *_ =  train_eval.model_eval(model, optimizer, test_dataloader, device,\n",
    "                    silent = False)\n",
    "\n",
    "            print(f'epoch {epoch} - validation, {metrics_to_str(val_metrics)}')\n",
    "            \n",
    "    if input_params.temp_scaling:\n",
    "        \n",
    "        scaled_model = ModelWithTemperature(model)\n",
    "        scaled_model.set_temperature(train_dataloader);\n",
    "        model = scaled_model\n",
    "\n",
    "else:\n",
    "\n",
    "    print(f'EPOCH {last_epoch}: Test/Inference...')\n",
    "\n",
    "    test_metrics, test_embeddings, motif_probas =  train_eval.model_eval(model, optimizer, test_dataloader, device, \n",
    "                                                          get_embeddings = input_params.get_embeddings, \n",
    "                                                          get_motif_acc = input_params.get_motif_acc, \n",
    "                                                          silent = False)\n",
    "    \n",
    "    \n",
    "\n",
    "    print(f'epoch {last_epoch} - test, {metrics_to_str(test_metrics)}')\n",
    "\n",
    "    if input_params.get_embeddings:\n",
    "        \n",
    "        os.makedirs(input_params.output_dir, exist_ok = True)\n",
    "\n",
    "        with open(input_params.output_dir + '/embeddings.pickle', 'wb') as f:\n",
    "            #test_embeddings = np.vstack(test_embeddings)\n",
    "            pickle.dump(test_embeddings,f)\n",
    "            pickle.dump(seq_df.seq_name.tolist(),f)\n",
    "            \n",
    "    if input_params.get_motif_acc:\n",
    "        \n",
    "        os.makedirs(input_params.output_dir, exist_ok = True)\n",
    "\n",
    "        with open(input_params.output_dir + '/probas.pickle', 'wb') as f:\n",
    "            pickle.dump(motif_probas, f) #seq_index,motif,motif_start,avg_target_proba\n",
    "\n",
    "        #seq_df.seq_name.to_csv(input_params.output_dir + '/seq_index.csv') #save index seqeunce matchin for 1st column of motif_probas \n",
    "\n",
    "print()\n",
    "print(f'peak GPU memory allocation: {round(torch.cuda.max_memory_allocated(device)/1024/1024)} Mb')\n",
    "print('Done')"
   ]
  },
  {
   "cell_type": "code",
   "execution_count": 275,
   "id": "7bb3411d-4df5-4195-ae33-0501c595e593",
   "metadata": {
    "tags": []
   },
   "outputs": [
    {
     "name": "stdout",
     "output_type": "stream",
     "text": [
      "Before temperature - NLL: 2.382, ECE: 0.418\n",
      "Optimal temperature: 21.870\n",
      "After temperature - NLL: 1.607, ECE: 0.055\n"
     ]
    }
   ],
   "source": [
    "from helpers.temperature_scaling import ModelWithTemperature\n",
    "\n",
    "scaled_model = ModelWithTemperature(model)\n",
    "scaled_model.set_temperature(val_dataloader);"
   ]
  },
  {
   "cell_type": "code",
   "execution_count": 276,
   "id": "501d2803-8ca1-4440-95fa-2741f3fb8fc8",
   "metadata": {
    "tags": []
   },
   "outputs": [],
   "source": [
    "model=scaled_model"
   ]
  },
  {
   "cell_type": "code",
   "execution_count": 274,
   "id": "424e2751-991e-48dc-9a8c-fbe0d673bad2",
   "metadata": {
    "tags": []
   },
   "outputs": [],
   "source": [
    "seq_transform = sequence_encoders.RollingMasker(mask_stride = 50, frame = 0)\n",
    "     \n",
    "val_fasta = datadir + 'fasta/240_mammals/240_mammals.shuffled.fa'\n",
    "val_df = pd.read_csv(val_fasta + '.fai', header=None, sep='\\t', usecols=[0], names=['seq_name'])\n",
    "val_df['species_name'] = val_df.seq_name.apply(lambda x:x.split(':')[1])\n",
    "val_df['species_label'] = 181\n",
    "\n",
    "val_df = val_df[val_df.species_name=='Pan_troglodytes'].sample(n=1000, random_state=1)\n",
    "\n",
    "val_dataset = SeqDataset(val_fasta, val_df, transform = seq_transform)\n",
    "val_dataloader = DataLoader(dataset = val_dataset, batch_size = 1, num_workers = 1, collate_fn = None, shuffle = False)"
   ]
  },
  {
   "cell_type": "code",
   "execution_count": null,
   "id": "97fa34f8-7f27-4be4-b562-5b684365ee02",
   "metadata": {},
   "outputs": [],
   "source": []
  }
 ],
 "metadata": {
  "kernelspec": {
   "display_name": "Python [conda env:miniconda3-svilov-mlm]",
   "language": "python",
   "name": "conda-env-miniconda3-svilov-mlm-py"
  },
  "language_info": {
   "codemirror_mode": {
    "name": "ipython",
    "version": 3
   },
   "file_extension": ".py",
   "mimetype": "text/x-python",
   "name": "python",
   "nbconvert_exporter": "python",
   "pygments_lexer": "ipython3",
   "version": "3.9.16"
  }
 },
 "nbformat": 4,
 "nbformat_minor": 5
}
