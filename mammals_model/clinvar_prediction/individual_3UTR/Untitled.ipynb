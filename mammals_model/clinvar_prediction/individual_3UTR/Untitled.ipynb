{
 "cells": [
  {
   "cell_type": "code",
   "execution_count": 13,
   "id": "edb3f28b-5516-466a-bd8d-604a73acc0e4",
   "metadata": {
    "tags": []
   },
   "outputs": [],
   "source": [
    "import numpy as np\n",
    "import pandas as pd\n",
    "from glob import glob\n",
    "import os"
   ]
  },
  {
   "cell_type": "code",
   "execution_count": 14,
   "id": "3635ccd0-dcef-4e58-85d1-0c28d5a7fcb4",
   "metadata": {
    "tags": []
   },
   "outputs": [],
   "source": [
    "data_dir = '/s/project/mll/sergey/effect_prediction/MLM/'"
   ]
  },
  {
   "cell_type": "code",
   "execution_count": 15,
   "id": "3be747d0-b390-445a-aa9d-76258c21455f",
   "metadata": {},
   "outputs": [],
   "source": [
    "utr_variants = pd.read_csv(data_dir + 'clinvar/clinvar.3utr.tsv', sep='\\t',\n",
    "                           names=['chrom','pos','var_id','ref','alt','seq_name','label'])"
   ]
  },
  {
   "cell_type": "code",
   "execution_count": 33,
   "id": "06a9a309-00fc-46b3-a58a-67f23bdb8a61",
   "metadata": {
    "tags": []
   },
   "outputs": [],
   "source": [
    "utr_variants['seq_name'] = utr_variants.seq_name.apply(lambda x: x.split(',') if ',' in x else x)"
   ]
  },
  {
   "cell_type": "code",
   "execution_count": 34,
   "id": "308dbd0e-8e00-481a-8a1f-803e1e7d129f",
   "metadata": {
    "tags": []
   },
   "outputs": [],
   "source": [
    "utr_variants = utr_variants.explode('seq_name')"
   ]
  },
  {
   "cell_type": "code",
   "execution_count": 20,
   "id": "3dca8b0a-652f-4091-b23d-ef276d64ce8f",
   "metadata": {
    "tags": []
   },
   "outputs": [],
   "source": [
    "# all 3'UTR FASTA alignments are distributed across subfolders\n",
    "# find all FASTA files and their subfolders\n",
    "\n",
    "fasta_path = data_dir + 'aligned/data/3_prime_UTR/'\n",
    "\n",
    "fasta_dirs = {}\n",
    "\n",
    "for file in glob(fasta_path + '**/*.fa', recursive=True):\n",
    "    relative_path = os.path.relpath(file, fasta_path)\n",
    "    folder, seq_id = relative_path.split('/')\n",
    "    seq_id = seq_id.replace('.fa','')\n",
    "    fasta_dirs[seq_id] = folder"
   ]
  },
  {
   "cell_type": "code",
   "execution_count": 35,
   "id": "ef8cfa02-5387-4e5a-aff9-3d9caa5cb7ce",
   "metadata": {
    "tags": []
   },
   "outputs": [],
   "source": [
    "utr_variants['dir'] = utr_variants.seq_name.map(fasta_dirs)"
   ]
  },
  {
   "cell_type": "code",
   "execution_count": 36,
   "id": "beb0053c-0476-43e3-b6da-d005dd970b08",
   "metadata": {},
   "outputs": [],
   "source": [
    "df = utr_variants[['seq_name','dir']].drop_duplicates()"
   ]
  },
  {
   "cell_type": "code",
   "execution_count": 37,
   "id": "d02909e2-bb30-47a3-93e3-7ce986c0dc37",
   "metadata": {
    "tags": []
   },
   "outputs": [],
   "source": [
    "(df.dir + '/' + df.seq_name + '.fa').to_csv(data_dir + '/individual_3UTR/seq_list.txt', header=None, index=None)"
   ]
  },
  {
   "cell_type": "code",
   "execution_count": null,
   "id": "1cc0473a-898f-4b9b-b2d9-c82287cb6420",
   "metadata": {},
   "outputs": [],
   "source": []
  }
 ],
 "metadata": {
  "kernelspec": {
   "display_name": "Python [conda env:miniconda3-svilov-python]",
   "language": "python",
   "name": "conda-env-miniconda3-svilov-python-py"
  },
  "language_info": {
   "codemirror_mode": {
    "name": "ipython",
    "version": 3
   },
   "file_extension": ".py",
   "mimetype": "text/x-python",
   "name": "python",
   "nbconvert_exporter": "python",
   "pygments_lexer": "ipython3",
   "version": "3.11.4"
  }
 },
 "nbformat": 4,
 "nbformat_minor": 5
}
