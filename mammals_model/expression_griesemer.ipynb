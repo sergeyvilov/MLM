{
 "cells": [
  {
   "cell_type": "code",
   "execution_count": 1,
   "id": "9ef08229-5db6-424e-8cc6-54bf176a8dc0",
   "metadata": {
    "tags": []
   },
   "outputs": [
    {
     "name": "stderr",
     "output_type": "stream",
     "text": [
      "Intel(R) Extension for Scikit-learn* enabled (https://github.com/intel/scikit-learn-intelex)\n"
     ]
    }
   ],
   "source": [
    "import itertools\n",
    "\n",
    "import numpy as np\n",
    "import pandas as pd\n",
    "\n",
    "from sklearnex import patch_sklearn\n",
    "patch_sklearn()\n",
    "\n",
    "import sklearn\n",
    "from sklearn.pipeline import make_pipeline\n",
    "from sklearn.model_selection import GroupKFold, GridSearchCV, RandomizedSearchCV\n",
    "from sklearn.preprocessing import StandardScaler\n",
    "\n",
    "import matplotlib.pyplot as plt\n",
    "import matplotlib as mpl\n",
    "import seaborn as sns\n",
    "\n",
    "from statannotations.Annotator import Annotator\n",
    "\n",
    "from gensim.models import Word2Vec"
   ]
  },
  {
   "cell_type": "code",
   "execution_count": 2,
   "id": "c70c6f33-40a6-4ec3-b094-4b5c47b771d3",
   "metadata": {
    "tags": []
   },
   "outputs": [],
   "source": [
    "from IPython.display import Image\n",
    "from IPython.core.display import HTML "
   ]
  },
  {
   "cell_type": "code",
   "execution_count": 3,
   "id": "4784e76b-6108-4a98-8726-4c0ecd35c1d1",
   "metadata": {
    "tags": []
   },
   "outputs": [],
   "source": [
    "data_dir = '/s/project/mll/sergey/effect_prediction/MLM/griesemer/'"
   ]
  },
  {
   "cell_type": "markdown",
   "id": "c8f6f437-387c-4f15-a288-c993e9c20756",
   "metadata": {},
   "source": [
    "# Combine all info together"
   ]
  },
  {
   "cell_type": "code",
   "execution_count": 3,
   "id": "d55aecf5-748a-409e-85b1-6b8698db8d6a",
   "metadata": {
    "tags": []
   },
   "outputs": [],
   "source": [
    "expression_df = pd.read_csv(data_dir + 'paper_supplementary/Variant_MPRAu_Results.txt', sep='\\t')\n",
    "oligo_info_df = pd.read_csv(data_dir + 'paper_supplementary/Oligo_Variant_Info.txt', sep='\\t')"
   ]
  },
  {
   "cell_type": "code",
   "execution_count": 4,
   "id": "b755af9a-04b3-4142-8fe2-53ef2eb7c56e",
   "metadata": {
    "tags": []
   },
   "outputs": [],
   "source": [
    "#Add seqeunces from FASTA file\n",
    "\n",
    "fasta_fa = data_dir + 'fasta/GRCh38_UTR_variants.fa'\n",
    "\n",
    "seq = {}\n",
    "\n",
    "with open(fasta_fa, 'r') as f:\n",
    "    for line in f:\n",
    "        if line.startswith('>'):\n",
    "            oligo_id = line[1:].replace(':Homo_sapiens\\n','')\n",
    "            seq[oligo_id] = ''\n",
    "        else:\n",
    "            seq[oligo_id] += line.rstrip()\n",
    "\n",
    "mpra_df = pd.DataFrame(seq.items(), columns=['oligo_id', 'seq'])"
   ]
  },
  {
   "cell_type": "code",
   "execution_count": 5,
   "id": "aed718af-396b-45a5-b376-79c0a9a4d402",
   "metadata": {
    "tags": []
   },
   "outputs": [],
   "source": [
    "utr_variants = pd.read_csv(data_dir + '/GRCh38_UTR_variants.tsv', sep='\\t')"
   ]
  },
  {
   "cell_type": "code",
   "execution_count": 6,
   "id": "e5db0348-07d1-4501-a61c-435b96179df8",
   "metadata": {
    "tags": []
   },
   "outputs": [],
   "source": [
    "#distance between variant and stop codon, different calculations for positive and negative genes\n",
    "\n",
    "utr_variants['stop_codon_dist'] = utr_variants.apply(lambda x: x.var_start-x.human_UTR_start if x.strand=='+' else\n",
    "                  x.human_UTR_end - x.var_start, axis=1) "
   ]
  },
  {
   "cell_type": "code",
   "execution_count": 7,
   "id": "ec45cbb9-87ae-47fb-87ef-5ab00e3cf4f3",
   "metadata": {
    "tags": []
   },
   "outputs": [],
   "source": [
    "#minimal free energy from RNAfold software, recalculate each time when FASTA file changes!\n",
    "\n",
    "mpra_df['min_free_energy'] = pd.read_csv(data_dir + \n",
    "'fasta/GRCh38_UTR_variants.free_energy.tsv', header=None).squeeze() "
   ]
  },
  {
   "cell_type": "code",
   "execution_count": 8,
   "id": "8c9eb567-727a-429b-b108-98a72f446517",
   "metadata": {
    "tags": []
   },
   "outputs": [
    {
     "data": {
      "text/plain": [
       "Index(['oligo_id', 'seq', 'min_free_energy', 'mpra_variant_id', 'ref_allele',\n",
       "       'alt_allele', 'gene_symbols', 'chrom', 'oligo_starts', 'oligo_ends',\n",
       "       'log2FoldChange_Skew_HEK293FT', 'lfcSE_Skew_HEK293FT',\n",
       "       'pvalue_Skew_HEK293FT', 'padj_Skew_HEK293FT',\n",
       "       'log2FoldChange_Ref_HEK293FT', 'lfcSE_Ref_HEK293FT',\n",
       "       'pvalue_Ref_HEK293FT', 'padj_Ref_HEK293FT',\n",
       "       'log2FoldChange_Alt_HEK293FT', 'lfcSE_Alt_HEK293FT',\n",
       "       'pvalue_Alt_HEK293FT', 'padj_Alt_HEK293FT', 'log2FoldChange_Skew_HEPG2',\n",
       "       'lfcSE_Skew_HEPG2', 'pvalue_Skew_HEPG2', 'padj_Skew_HEPG2',\n",
       "       'log2FoldChange_Ref_HEPG2', 'lfcSE_Ref_HEPG2', 'pvalue_Ref_HEPG2',\n",
       "       'padj_Ref_HEPG2', 'log2FoldChange_Alt_HEPG2', 'lfcSE_Alt_HEPG2',\n",
       "       'pvalue_Alt_HEPG2', 'padj_Alt_HEPG2', 'log2FoldChange_Skew_HMEC',\n",
       "       'lfcSE_Skew_HMEC', 'pvalue_Skew_HMEC', 'padj_Skew_HMEC',\n",
       "       'log2FoldChange_Ref_HMEC', 'lfcSE_Ref_HMEC', 'pvalue_Ref_HMEC',\n",
       "       'padj_Ref_HMEC', 'log2FoldChange_Alt_HMEC', 'lfcSE_Alt_HMEC',\n",
       "       'pvalue_Alt_HMEC', 'padj_Alt_HMEC', 'log2FoldChange_Skew_K562',\n",
       "       'lfcSE_Skew_K562', 'pvalue_Skew_K562', 'padj_Skew_K562',\n",
       "       'log2FoldChange_Ref_K562', 'lfcSE_Ref_K562', 'pvalue_Ref_K562',\n",
       "       'padj_Ref_K562', 'log2FoldChange_Alt_K562', 'lfcSE_Alt_K562',\n",
       "       'pvalue_Alt_K562', 'padj_Alt_K562', 'log2FoldChange_Skew_GM12878',\n",
       "       'lfcSE_Skew_GM12878', 'pvalue_Skew_GM12878', 'padj_Skew_GM12878',\n",
       "       'log2FoldChange_Ref_GM12878', 'lfcSE_Ref_GM12878', 'pvalue_Ref_GM12878',\n",
       "       'padj_Ref_GM12878', 'log2FoldChange_Alt_GM12878', 'lfcSE_Alt_GM12878',\n",
       "       'pvalue_Alt_GM12878', 'padj_Alt_GM12878', 'log2FoldChange_Skew_SKNSH',\n",
       "       'lfcSE_Skew_SKNSH', 'pvalue_Skew_SKNSH', 'padj_Skew_SKNSH',\n",
       "       'log2FoldChange_Ref_SKNSH', 'lfcSE_Ref_SKNSH', 'pvalue_Ref_SKNSH',\n",
       "       'padj_Ref_SKNSH', 'log2FoldChange_Alt_SKNSH', 'lfcSE_Alt_SKNSH',\n",
       "       'pvalue_Alt_SKNSH', 'padj_Alt_SKNSH', 'stop_codon_dist'],\n",
       "      dtype='object')"
      ]
     },
     "execution_count": 8,
     "metadata": {},
     "output_type": "execute_result"
    }
   ],
   "source": [
    "#combine all information together\n",
    "\n",
    "mpra_df = mpra_df.merge(oligo_info_df[['oligo_id','mpra_variant_id','ref_allele','alt_allele', 'gene_symbols','chrom', 'oligo_starts', 'oligo_ends']]).merge(expression_df).merge(utr_variants[['mpra_variant_id','stop_codon_dist']].drop_duplicates())\n",
    "\n",
    "mpra_df.columns"
   ]
  },
  {
   "cell_type": "code",
   "execution_count": 9,
   "id": "c3dbb53d-df19-4d5d-abb0-082df2b8af8c",
   "metadata": {
    "tags": []
   },
   "outputs": [],
   "source": [
    "# Define Groups for Group K-fold based on genes\n",
    "\n",
    "mpra_df['group'] = mpra_df['gene_symbols']"
   ]
  },
  {
   "cell_type": "code",
   "execution_count": 10,
   "id": "91efddef-1cef-40e9-9dc7-3e82031b3173",
   "metadata": {
    "tags": []
   },
   "outputs": [],
   "source": [
    "#Very few 3'UTR regions are shared between genes\n",
    "#The corresponding oligos should have the same group label\n",
    "\n",
    "df = mpra_df.sort_values(by=['chrom','oligo_starts','oligo_ends']).drop_duplicates(subset=['mpra_variant_id']).reset_index(drop=True)\n",
    "\n",
    "df['other_mpra_variant_id'] = ''\n",
    "\n",
    "for row_idx in range(len(df)-1):\n",
    "    next_row_idx = row_idx+1\n",
    "    while df.loc[row_idx].chrom==df.loc[next_row_idx].chrom and df.loc[next_row_idx].oligo_starts<df.loc[row_idx].oligo_ends:\n",
    "        if df.loc[row_idx].gene_symbols != df.loc[next_row_idx].gene_symbols:\n",
    "            df.loc[row_idx,'other_mpra_variant_id'] += df.loc[next_row_idx,'mpra_variant_id'] + ','\n",
    "        next_row_idx+=1\n",
    "        \n",
    "df = df.loc[df.other_mpra_variant_id!='',['mpra_variant_id','other_mpra_variant_id']]  \n",
    "\n",
    "for mpra_variant_id, other_mpra_variant_ids in df.values.tolist():\n",
    "    for other_mpra_variant_id in other_mpra_variant_ids.rstrip(',').split(','):\n",
    "        mpra_df.loc[mpra_df.mpra_variant_id==other_mpra_variant_id,'group'] = mpra_df.loc[mpra_df.mpra_variant_id==mpra_variant_id,'group'].iloc[0]"
   ]
  },
  {
   "cell_type": "code",
   "execution_count": 11,
   "id": "0a0c3087-3651-4f1f-8c5d-6dbc3df20c52",
   "metadata": {
    "tags": []
   },
   "outputs": [],
   "source": [
    "#mpra_df.to_csv(data_dir + 'mpra_df.tsv', index=None, sep='\\t')"
   ]
  },
  {
   "cell_type": "markdown",
   "id": "3abf5e1d-cccc-4a7d-86a9-0abf0d76f1d6",
   "metadata": {},
   "source": [
    "# Utility functions"
   ]
  },
  {
   "cell_type": "code",
   "execution_count": 4,
   "id": "c5ce82f2-6fd9-4deb-b0a6-f850efafe743",
   "metadata": {
    "tags": []
   },
   "outputs": [],
   "source": [
    "class Kmerizer:\n",
    "    '''\n",
    "    Helper class for k-mers and Word2Vec embeddings\n",
    "    '''\n",
    "    \n",
    "    def __init__(self, k):\n",
    "        \n",
    "        self.k = k\n",
    "        self.kmers = {\"\".join(x):i for i,x in zip(range(4**k), itertools.product(\"ACGT\",repeat=k))} #generate all possible k-mers\n",
    "        \n",
    "    def kmerize(self, seq):\n",
    "        '''\n",
    "        Count all k-mers in the sequence \n",
    "        Returns:\n",
    "        A list with counts corresponding to each possible k-mer from self.kmers\n",
    "        e.g. for k=2 and seq='ACTAC'\n",
    "        > [0, 2, 0, 0, 0, 0, 0, 1, 0, 0, 0, 0, 1, 0, 0, 0]\n",
    "        '''\n",
    "        counts = [0]*4**self.k\n",
    "        for i in range(len(seq) - self.k + 1): \n",
    "            kmer = seq[i:i+self.k]\n",
    "            counts[self.kmers[kmer]] += 1\n",
    "        return counts\n",
    "    \n",
    "    def tokenize(self, seq):\n",
    "        '''\n",
    "        Get all k-mers in the sequence\n",
    "        Returns:\n",
    "        A list of all k-mers\n",
    "        e.g. for 2-mers and seq='ACTAC' \n",
    "        > ['AC', 'CT', 'TA', 'AC']\n",
    "        '''\n",
    "        kmers = []\n",
    "        for i in range(len(seq) - self.k + 1): \n",
    "            kmer = seq[i:i+self.k]\n",
    "            kmers.append(kmer)\n",
    "        return kmers"
   ]
  },
  {
   "cell_type": "code",
   "execution_count": 5,
   "id": "412e9e2f-d7ae-4503-9b4c-9a8904ab3ddf",
   "metadata": {
    "tags": []
   },
   "outputs": [],
   "source": [
    "def pearson_r(x,y):\n",
    "    '''\n",
    "    Compute Pearson r coefficient between samples x and y\n",
    "    '''\n",
    "    x = np.array(x)\n",
    "    y = np.array(y)\n",
    "    cov_xy = np.mean((x - x.mean()) * (y - y.mean()))\n",
    "    r = cov_xy / (x.std() * y.std())\n",
    "    return r\n",
    "\n",
    "def pearson_r2_scorer(estimator, X, y):\n",
    "    '''\n",
    "    Scikit-learn compatible pearson scorer\n",
    "    '''\n",
    "    y_pred = estimator.predict(X).reshape(-1)\n",
    "    #return scipy.stats.pearsonr(y, y_pred)[0] ** 2\n",
    "    return pearson_r(y, y_pred)**2"
   ]
  },
  {
   "cell_type": "code",
   "execution_count": 6,
   "id": "e53833c1-a86c-4be3-9d98-f6f35785dd22",
   "metadata": {
    "tags": []
   },
   "outputs": [],
   "source": [
    "def max_repeat_length(seq,k):\n",
    "    \n",
    "    '''\n",
    "    Get repeat lengths of all k-mers in sequence\n",
    "    Returns:\n",
    "    Array of maximal repeat lengths for all k-mers\n",
    "    '''\n",
    "\n",
    "    max_subseq_length = {\"\".join(x):0 for x in itertools.product(\"ACGT\",repeat=k)}\n",
    "\n",
    "    for start in range(k):\n",
    "        n_repeats=1 #each subsequence has at least 1 repeat\n",
    "        for seq_idx in range(start,len(seq)-k+1,k):\n",
    "            subseq = seq[seq_idx:seq_idx+k] #current subsequence\n",
    "            if subseq==seq[seq_idx+k:seq_idx+2*k]: #if repeated at the next position\n",
    "                n_repeats+=1 #increase repeats counter\n",
    "            else:\n",
    "                max_subseq_length[subseq] = max(max_subseq_length[subseq],n_repeats) #is the current subseq repeat longer?\n",
    "                n_repeats = 1 #reinitialize repeats counter\n",
    "                \n",
    "        max_subseq_length[subseq] = max(max_subseq_length[subseq],n_repeats) #end of the sequence\n",
    "       \n",
    "    repeat_length = np.array(list(max_subseq_length.values()))\n",
    "    \n",
    "    return repeat_length"
   ]
  },
  {
   "cell_type": "markdown",
   "id": "54f22e37-011e-4788-a038-719f49e0bb73",
   "metadata": {},
   "source": [
    "# Load data"
   ]
  },
  {
   "cell_type": "code",
   "execution_count": 6,
   "id": "0b71a28b-a07d-4696-9db0-1c8901df3d42",
   "metadata": {
    "tags": []
   },
   "outputs": [],
   "source": [
    "mpra_df = pd.read_csv(data_dir + 'mpra_df.tsv', sep='\\t') #sequence info"
   ]
  },
  {
   "cell_type": "code",
   "execution_count": 7,
   "id": "2b5867aa-050c-4389-bb69-9493d0b0e60a",
   "metadata": {
    "tags": []
   },
   "outputs": [],
   "source": [
    "mlm_embeddings = np.load(data_dir + \"embeddings/seq_len_5000/embeddings.npy\") #masked language model embeddings"
   ]
  },
  {
   "cell_type": "code",
   "execution_count": 8,
   "id": "bf375f64-9eaa-4b5c-b66e-974f7e8162f4",
   "metadata": {
    "tags": []
   },
   "outputs": [],
   "source": [
    "cell_type = 'HMEC' #HMEC,HEK293FT,HEPG2,K562,GM12878,SKNSH"
   ]
  },
  {
   "cell_type": "code",
   "execution_count": 9,
   "id": "e2087c04-fda8-4e65-bd42-a7b711443948",
   "metadata": {
    "tags": []
   },
   "outputs": [],
   "source": [
    "#Data Cleaning\n",
    "# Take only SNP mutations\n",
    "# Remove nan values in Expression column\n",
    "\n",
    "is_snp = mpra_df.ref_allele.str.len() == mpra_df.alt_allele.str.len()\n",
    "\n",
    "flt = mpra_df[f'log2FoldChange_Skew_{cell_type}'].isna()  | (~is_snp) | (mpra_df.stop_codon_dist>5000) #| mpra_df.oligo_id.str.contains('_ref$')\n",
    "\n",
    "mpra_df = mpra_df[~flt]"
   ]
  },
  {
   "cell_type": "code",
   "execution_count": 10,
   "id": "61839dc2-292a-42f2-90b8-389fa9fe75fc",
   "metadata": {
    "tags": []
   },
   "outputs": [],
   "source": [
    "#predict Log2FC skew between Ref and Alt alleles or just treat ref and alt seqeunces equally\n",
    "\n",
    "predict_skew = False "
   ]
  },
  {
   "cell_type": "code",
   "execution_count": 11,
   "id": "6af3c0a0-e87e-4cde-97d2-5642d1360b0a",
   "metadata": {
    "tags": []
   },
   "outputs": [],
   "source": [
    "if predict_skew:\n",
    "    mpra_df['Expression'] = mpra_df[f'log2FoldChange_Skew_{cell_type}']\n",
    "    mpra_df['seqtype'] = mpra_df.apply(lambda x: 'REF' if x.oligo_id.endswith('_ref') else 'ALT',axis=1)\n",
    "    assert (mpra_df.loc[mpra_df.seqtype=='REF','mpra_variant_id'].values==\\\n",
    "         mpra_df.loc[mpra_df.seqtype=='ALT','mpra_variant_id'].values).mean()==1\n",
    "else:\n",
    "    mpra_df['Expression'] = mpra_df.apply(lambda x: x[f'log2FoldChange_Alt_{cell_type}'] if x.oligo_id.endswith('_alt') else x[f'log2FoldChange_Ref_{cell_type}'], axis=1)   "
   ]
  },
  {
   "cell_type": "code",
   "execution_count": 12,
   "id": "e74e8acd-d468-43ce-9a9d-270adaa90929",
   "metadata": {
    "tags": []
   },
   "outputs": [],
   "source": [
    "# Conver Expression column to float\n",
    "\n",
    "mpra_df.Expression = mpra_df.Expression.apply(lambda x:x.replace(',','.') if type(x)==str else x).astype(float)"
   ]
  },
  {
   "cell_type": "code",
   "execution_count": 13,
   "id": "58f93c6f-1abf-4e40-80be-b07fab4f3a9c",
   "metadata": {
    "tags": []
   },
   "outputs": [],
   "source": [
    "def minseq_model(mpra_df):\n",
    "    \n",
    "    '''\n",
    "    Minimal sequence model from Griesemer et al. 2021\n",
    "    \n",
    "    Extracts following features from mpra_df:\n",
    "    --nucleotide counts for each base (+4) and maximum among them (+1)\n",
    "    --dinucleotide counts (+16) and maximum among them (+1)\n",
    "    --maximum homopolymer length for all bases (+4)\n",
    "    --maximum dinucleotide repeat length length for all bases (+16)\n",
    "    --sequence uniformity (+1)\n",
    "    --Minimal free energy (from RNA fold Software) (+1)\n",
    "    \n",
    "    Returns:\n",
    "    Feature matrix X\n",
    "    '''\n",
    "    \n",
    "    kmerizer1 = Kmerizer(k=1)\n",
    "\n",
    "    nucl_counts = np.stack(mpra_df.seq.apply(lambda seq: kmerizer1.kmerize(seq)))\n",
    "    max_nucl_counts_all = nucl_counts.max(axis=1)\n",
    "\n",
    "    kmerizer2 = Kmerizer(k=2)\n",
    "\n",
    "    dinucl_counts = np.stack(mpra_df.seq.apply(lambda seq: kmerizer2.kmerize(seq)))\n",
    "    max_dinucl_counts_all = dinucl_counts.max(axis=1)\n",
    "    \n",
    "    max_homopol_len = np.stack(mpra_df.seq.apply(lambda seq: max_repeat_length(seq,1)))\n",
    "    max_dinucl_len = np.stack(mpra_df.seq.apply(lambda seq: max_repeat_length(seq,2)))\n",
    "\n",
    "    seq_uniformity = mpra_df.seq.apply(lambda seq: np.sum([seq[i]==seq[i-1] for i in range(1,len(seq))])).values\n",
    "    min_free_energy = mpra_df['min_free_energy'].values\n",
    "    \n",
    "    X = np.hstack((nucl_counts,np.expand_dims(max_nucl_counts_all,axis=1),\n",
    "           dinucl_counts,np.expand_dims(max_dinucl_counts_all,axis=1),\n",
    "           max_homopol_len, max_dinucl_len,\n",
    "           np.expand_dims(seq_uniformity,axis=1),\n",
    "           np.expand_dims(min_free_energy,axis=1),\n",
    "           ))\n",
    "    \n",
    "    return X\n",
    "\n",
    "def word2vec_model(mpra_df):\n",
    "    \n",
    "    '''\n",
    "    Word2Vec model\n",
    "    \n",
    "    '''\n",
    "    \n",
    "    kmerizer_w2v = Kmerizer(k=4)\n",
    "    w2v_model = Word2Vec(sentences=mpra_df.seq.apply(lambda x: kmerizer_w2v.tokenize(x)), \n",
    "                         vector_size=128, window=5, min_count=1, workers=4, sg=1)\n",
    "\n",
    "    word2vec_emb = mpra_df.seq.apply(\n",
    "        lambda x: np.mean([w2v_model.wv[x]  for x in kmerizer_w2v.tokenize(x)],axis=0))\n",
    "\n",
    "    X = np.stack(word2vec_emb,axis=0)\n",
    "    \n",
    "    return X"
   ]
  },
  {
   "cell_type": "code",
   "execution_count": 14,
   "id": "75e8f6d3-c050-44bc-a44d-4db107712d0a",
   "metadata": {
    "tags": []
   },
   "outputs": [],
   "source": [
    "def get_embeddings(mpra_df):\n",
    "    '''\n",
    "    Compute embeddings using each model\n",
    "    \n",
    "    Returns:\n",
    "    Dictionary of feature matrices, dependent variable, groups for K-fold validation\n",
    "    '''\n",
    "\n",
    "    X_emb = mlm_embeddings[mpra_df.index] #Masked Language Model, take only embeddings that were not filtered out\n",
    "\n",
    "    kmerizer4 = Kmerizer(k=4)\n",
    "    X_4mer = np.stack(mpra_df.seq.apply(lambda x: kmerizer4.kmerize(x))) #4-mer model\n",
    "\n",
    "    X_minseq = minseq_model(mpra_df) #Griesemer minimal sequence model\n",
    "    \n",
    "    X_w2v = word2vec_model(mpra_df) #Word2Vec model\n",
    "    \n",
    "    min_free_energy = mpra_df['min_free_energy'].values\n",
    "    \n",
    "    #Only Griesemer model uses RNAfold minimal free energy ba default\n",
    "    #we add this feature to the other models to provide fair comparison\n",
    "    \n",
    "    X_emb = np.hstack((X_emb,np.expand_dims(min_free_energy,axis=1)))\n",
    "    X_4mer = np.hstack((X_4mer,np.expand_dims(min_free_energy,axis=1)))\n",
    "    X_w2v = np.hstack((X_w2v,np.expand_dims(min_free_energy,axis=1)))\n",
    "\n",
    "    data_matrices = {\"MLM\":X_emb,\n",
    "                 \"4-mer counts\":X_4mer,\n",
    "                 \"Word2Vec\": X_w2v,\n",
    "                 \"Griesemer et al.\": X_minseq,\n",
    "                }\n",
    "    \n",
    "    y = mpra_df['Expression'].values\n",
    "\n",
    "    groups = mpra_df['group'].values\n",
    "    \n",
    "    return data_matrices, y, groups"
   ]
  },
  {
   "cell_type": "code",
   "execution_count": 15,
   "id": "98fd8034-002b-4a07-9743-7ea56cd31f82",
   "metadata": {
    "tags": []
   },
   "outputs": [],
   "source": [
    "if predict_skew:\n",
    "    #Generate separate embeddings for Ref and Alt seqeunces and merge them\n",
    "    data_matrices_ref, _, _ = get_embeddings(mpra_df[mpra_df.seqtype=='REF'])\n",
    "    data_matrices_alt, y, groups = get_embeddings(mpra_df[mpra_df.seqtype=='ALT'])\n",
    "    data_matrices = {model:np.hstack((data_matrices_ref[model],data_matrices_alt[model])) for model in data_matrices_ref}\n",
    "else:\n",
    "    data_matrices, y, groups = get_embeddings(mpra_df)"
   ]
  },
  {
   "cell_type": "code",
   "execution_count": 16,
   "id": "011094e2-ca9c-42a4-82fa-ae4e318bd179",
   "metadata": {
    "tags": []
   },
   "outputs": [],
   "source": [
    "from torch import nn\n",
    "from torch.optim import AdamW\n",
    "import torch\n",
    "\n",
    "class MLPRegressor():\n",
    "    def __init__(self, hidden_layer_sizes=(64,32,16,), \n",
    "                 p_dropout=0, weight_decay=0, lr=0.0005,\n",
    "                batch_size = 1000, N_epochs = 500, **kwargs):\n",
    "                \n",
    "        self.hidden_layer_sizes = hidden_layer_sizes\n",
    "        self.p_dropout = p_dropout\n",
    "        self.weight_decay = weight_decay\n",
    "        self.lr = lr\n",
    "        \n",
    "        self.batch_size = batch_size\n",
    "        self.N_epochs = N_epochs\n",
    "        \n",
    "        self.loss_fn = nn.MSELoss()\n",
    "\n",
    "    def init_model(self):\n",
    "        \n",
    "        #define model architecture\n",
    "        model_layers = []\n",
    "        for layer_size in self.hidden_layer_sizes:\n",
    "            model_layers.extend((nn.LazyLinear(layer_size), nn.Dropout(self.p_dropout), nn.ReLU(),))\n",
    "        model_layers.append(nn.LazyLinear(1))\n",
    "        self.model = nn.Sequential(*model_layers)\n",
    "        \n",
    "        #initialize optimizer\n",
    "        self.optimizer = AdamW(self.model.parameters(), weight_decay=self.weight_decay, lr=self.lr)\n",
    "    \n",
    "    def scorer(self, y_true, y_pred):\n",
    "        y_true = y_true.detach().numpy()[:,0]\n",
    "        y_pred = y_pred.detach().numpy()[:,0]\n",
    "        return pearson_r(y_true, y_pred) ** 2 \n",
    "    \n",
    "    def fit(self, X_train, y_train, X_val=None, y_val=None):\n",
    "        \n",
    "        X_train = torch.tensor(X_train, dtype=torch.float32)\n",
    "        y_train = torch.tensor(y_train, dtype=torch.float32).reshape(-1, 1)\n",
    "        if not X_val is None:\n",
    "            X_val = torch.tensor(X_val, dtype=torch.float32)\n",
    "            y_val = torch.tensor(y_val, dtype=torch.float32).reshape(-1, 1)\n",
    "        \n",
    "        self.init_model()\n",
    "        \n",
    "        self.history = [] #history for train and validation metrics\n",
    "        \n",
    "        batches_per_epoch = int(np.ceil(len(X_train)//self.batch_size))\n",
    "        \n",
    "        self.model.train()\n",
    "        \n",
    "        for epoch in range(self.N_epochs):\n",
    "            train_score, val_score = 0, 0\n",
    "            for batch_idx in range(batches_per_epoch):\n",
    "                # take a batch\n",
    "                X_batch = X_train[batch_idx*self.batch_size:(batch_idx+1)*self.batch_size]\n",
    "                y_batch = y_train[batch_idx*self.batch_size:(batch_idx+1)*self.batch_size]\n",
    "                # forward pass\n",
    "                y_pred = self.model(X_batch)\n",
    "                loss = self.loss_fn(y_pred, y_batch)\n",
    "                # backward pass\n",
    "                self.optimizer.zero_grad()\n",
    "                loss.backward()\n",
    "                # update weights\n",
    "                self.optimizer.step()\n",
    "                train_score += self.scorer(y_batch, y_pred)/batches_per_epoch\n",
    "            if not X_val is None:\n",
    "                self.model.eval()\n",
    "                y_pred = self.model(X_val)\n",
    "                val_score = self.scorer(y_val, y_pred)\n",
    "            self.history.append((train_score,val_score))\n",
    "        \n",
    "    def predict(self, X):\n",
    "        \n",
    "        self.model.eval()\n",
    "        \n",
    "        X = torch.tensor(X, dtype=torch.float32)\n",
    "        \n",
    "        y_pred = self.model(X)\n",
    "        y_pred = y_pred.detach().numpy()[:,0]\n",
    "        return y_pred\n",
    "        \n",
    "    def set_params(self, **kwargs):\n",
    "        \n",
    "        self.__dict__.update(kwargs)\n",
    "        \n",
    "    def score(self, X, y_true):\n",
    "        \n",
    "        X = torch.tensor(X, dtype=torch.float32)\n",
    "        y_true = torch.tensor(y_true, dtype=torch.float32).reshape(-1, 1)\n",
    "        \n",
    "        y_pred = self.predict(X)\n",
    "        return self.scorer(y_true,y_pred)\n",
    "    \n",
    "#M = MLPRegressor(p_dropout=0.1,weight_decay=1e-3,batch_size=1000)\n",
    "#M.set_params(N_epochs=500)\n",
    "#M.fit(X_train,y_train,X_test,y_test)"
   ]
  },
  {
   "cell_type": "code",
   "execution_count": 17,
   "id": "0ad2b841-8217-4a23-b0c6-8a9e3ba724cd",
   "metadata": {
    "tags": []
   },
   "outputs": [],
   "source": [
    "def group_cv(clf, parameter_grid, strategy='grid', n_splits = 10, random_state = 1):\n",
    "    \n",
    "    '''\n",
    "    Group Cross-Validation\n",
    "    If parameter_grid!=None, Use Hyperparameters found in the 0th fold\n",
    "    \n",
    "    Parameters:\n",
    "    clf: Scikit-learn-compatible classifier\n",
    "    parameter grid: dictionary of parameter values for hyperparameter search\n",
    "    strategy: 'grid' for Grid Search or 'random' for Random Search\n",
    "    \n",
    "    Returns:\n",
    "    Pearson r^2 coefficient for all folds\n",
    "    '''\n",
    "\n",
    "    group_kfold = GroupKFold(n_splits=n_splits)\n",
    "\n",
    "    kfold_scores = []\n",
    "\n",
    "    for fold_idx, (train_idx, test_idx) in enumerate(group_kfold.split(X, y, groups)):\n",
    "        \n",
    "        #print(f'FOLD {fold_idx}')\n",
    "        \n",
    "        X_train, y_train, groups_train = X[train_idx,:], y[train_idx], groups[train_idx]\n",
    "        X_test, y_test = X[test_idx,:], y[test_idx]\n",
    "\n",
    "        if fold_idx==0 and parameter_grid!=None:\n",
    "            print('Performing hyperparameter search in FOLD 0')\n",
    "            if strategy=='grid':\n",
    "                gs = make_pipeline(StandardScaler(),\n",
    "                                            GridSearchCV(clf, parameter_grid, cv=3))\n",
    "                gs.fit(X_train, y_train, gridsearchcv__groups=groups_train)\n",
    "                best_params = gs['gridsearchcv'].best_params_\n",
    "            else:\n",
    "                rs = make_pipeline(StandardScaler(),\n",
    "                                            RandomizedSearchCV(clf, parameter_grid, cv=3, random_state=random_state))\n",
    "                rs.fit(X_train, y_train, randomizedsearchcv__groups=groups_train)\n",
    "                best_params = rs['randomizedsearchcv'].best_params_  \n",
    "            print(f'Found best parameters: {best_params}')\n",
    "        \n",
    "        if parameter_grid!=None:\n",
    "            clf.set_params(**best_params) #set parameters from the 0th fold\n",
    "        \n",
    "        #train \n",
    "        pipe = make_pipeline(StandardScaler(), clf)\n",
    "        pipe.fit(X_train, y_train)\n",
    "        \n",
    "        #inference\n",
    "        y_pred = pipe.predict(X_test)\n",
    "        fold_score = pearson_r(y_pred,y_test)**2\n",
    "        \n",
    "        kfold_scores.append(fold_score)\n",
    "        \n",
    "    return kfold_scores"
   ]
  },
  {
   "cell_type": "code",
   "execution_count": 22,
   "id": "30f27804-2ca4-4b91-b11d-6b48743ee227",
   "metadata": {
    "tags": []
   },
   "outputs": [],
   "source": [
    "X = data_matrices['MLM']"
   ]
  },
  {
   "cell_type": "code",
   "execution_count": null,
   "id": "2f48bce1-b41e-4d62-acac-54f7f9b72aca",
   "metadata": {},
   "outputs": [],
   "source": [
    "pipe = make_pipeline(sklearn.preprocessing.StandardScaler(), sklearn.linear_model.RidgeCV(cv=3)) #limit runtime\n",
    "#rmse = -cross_val_score(pipe,X,y,scoring=\"neg_root_mean_squared_error\",cv=sklearn.model_selection.GroupKFold(n_splits=10), groups=groups)#.mean()\n",
    "r2 = cross_val_score(pipe,X,y,scoring=pearson_r2,cv=sklearn.model_selection.GroupKFold(n_splits=10), groups=groups, n_jobs=-1)#.mean()\n"
   ]
  },
  {
   "cell_type": "code",
   "execution_count": 55,
   "id": "e1cc5aed-06be-45eb-9f24-c3fcf65fe618",
   "metadata": {
    "tags": []
   },
   "outputs": [],
   "source": [
    "from sklearn.model_selection import GroupShuffleSplit\n"
   ]
  },
  {
   "cell_type": "markdown",
   "id": "0339f16f-1dbb-4c17-9081-6e126bedf0a7",
   "metadata": {},
   "source": [
    "# Assessing model stability"
   ]
  },
  {
   "cell_type": "markdown",
   "id": "c7b1fea8-3189-473f-b847-9bedfb4cc934",
   "metadata": {
    "tags": []
   },
   "source": [
    "For a stable model, the predictions are robust with respect to small changes in the train set.\n",
    "\n",
    "To assess model stability, one performs repeated Cross-Validation: at each round the dataset is split into the same number of folds, but the fold contents is different. Then deviations in predictions for each test point are estimated.\n",
    "\n",
    "Example for classification:\n",
    "\n",
    "![Model stability](https://i.stack.imgur.com/vqyGM.png)"
   ]
  },
  {
   "cell_type": "code",
   "execution_count": 233,
   "id": "6c8429ee-6336-4d9a-b238-c50a9c7dbf32",
   "metadata": {
    "tags": []
   },
   "outputs": [],
   "source": [
    "N_rounds = 100 #number of CV rounds\n",
    "N_splits = 10 #number of CV splits in each round\n",
    "\n",
    "pipe = make_pipeline(sklearn.preprocessing.StandardScaler(), \n",
    "                     sklearn.linear_model.RidgeCV(cv=3)) \n",
    "\n",
    "N_instances = len(y) #total number of test points equals to dataset size\n",
    "\n",
    "cv_res = np.zeros((N_rounds*N_splits,N_instances)) #CV predictions for each point\n",
    "cv_res[:] = np.NaN \n",
    "\n",
    "cv_scores = [] #Pearson R^2 for each fold in each round, N_rounds X N_splits\n",
    "\n",
    "for round_idx in range(N_rounds):\n",
    "\n",
    "    gss = GroupShuffleSplit(n_splits=N_splits, train_size=.9, random_state = round_idx) #10-fold CV\n",
    "\n",
    "    for fold_idx, (train_idx, test_idx) in enumerate(gss.split(X, y, groups)):\n",
    "       \n",
    "        X_train, X_test, y_train, y_test = X[train_idx,:],X[test_idx,:],y[train_idx],y[test_idx]\n",
    "        \n",
    "        pipe.fit(X_train,y_train)\n",
    "        \n",
    "        y_pred = pipe.predict(X_test)\n",
    "            \n",
    "        cv_res[round_idx*N_splits+fold_idx,test_idx] = y_pred #predictions for test instances in this fold in this round\n",
    "        \n",
    "        cv_scores.append((pearson_r(y_pred,y_test)**2, round_idx)) #score for this fold in this round\n",
    "        \n",
    "cv_scores = pd.DataFrame(cv_scores, columns=['Pearson r^2', 'CV round'])"
   ]
  },
  {
   "cell_type": "code",
   "execution_count": 242,
   "id": "a88c0a09-ee62-4b59-bca9-63188f2936f2",
   "metadata": {
    "tags": []
   },
   "outputs": [
    {
     "data": {
      "image/png": "[encoded data removed]",
      "text/plain": [
       "<Figure size 400x400 with 1 Axes>"
      ]
     },
     "metadata": {},
     "output_type": "display_data"
    }
   ],
   "source": [
    "fig, ax = plt.subplots(figsize=(4,4))\n",
    "\n",
    "cv_scores['model'] = 'MLM'\n",
    "\n",
    "ax = sns.swarmplot(data=cv_scores[cv_scores['CV round']<10],y='Pearson r^2',x='model',hue=\"CV round\", palette=\"deep\")\n",
    "ax = sns.boxplot(data=cv_scores,y='Pearson r^2',x='model', boxprops={'facecolor':'None'})\n",
    "sns.move_legend(ax, \"upper left\", bbox_to_anchor=(1, 1))"
   ]
  },
  {
   "cell_type": "code",
   "execution_count": 255,
   "id": "f98ae0e0-af20-46cf-8955-ec5d9e99682f",
   "metadata": {
    "tags": []
   },
   "outputs": [],
   "source": [
    "y_pred_av = np.nanmean(cv_res,axis=0) #average prediction for each point (not necessarily correct)\n",
    "\n",
    "mae = np.nanmean(np.absolute(cv_res - y_pred_av)) #mean absolute error for each point across rounds\n",
    "\n",
    "mae_relative = np.absolute(mae/y_pred_av) #relative MAE w.r.t. average prediction"
   ]
  },
  {
   "cell_type": "code",
   "execution_count": 260,
   "id": "1a9420ca-a9b9-400c-befe-10b5f2f589c6",
   "metadata": {
    "tags": []
   },
   "outputs": [
    {
     "name": "stdout",
     "output_type": "stream",
     "text": [
      "25% of points deviate by less than  5% due to train set change\n",
      "50% of points deviate by less than  9% due to train set change\n",
      "75% of points deviate by less than 19% due to train set change\n",
      "90% of points deviate by less than 49% due to train set change\n"
     ]
    }
   ],
   "source": [
    "for pct in (25, 50, 75, 90):\n",
    "    percentile = np.percentile(mae_relative, pct)\n",
    "    print(f'{pct}% of points deviate by less than {round(percentile*100):2d}% due to train set change')"
   ]
  },
  {
   "cell_type": "markdown",
   "id": "6c670cfe-7459-4095-960d-1ea9a1272e54",
   "metadata": {},
   "source": [
    "The model is quite unstable: mild variations in the train set lead to considerabel variations in predicted value for each test instance.\n",
    "When choosing models, we prefer stable ones.\n",
    "\n",
    "How to fight instability?\n",
    "\n",
    "- add regularization\n",
    "- use stable algorithms\n",
    "- perform feature engineering"
   ]
  },
  {
   "cell_type": "markdown",
   "id": "f57808a8-7620-4844-9ccc-f63c920cbc03",
   "metadata": {},
   "source": [
    "How to estimate generalization performance of an unstable model?"
   ]
  },
  {
   "cell_type": "code",
   "execution_count": 234,
   "id": "4cb7bb10-176f-4b4f-b120-9f0b57cd3446",
   "metadata": {
    "tags": []
   },
   "outputs": [],
   "source": [
    "score_per_round = cv_scores.groupby('CV round')['Pearson r^2'].mean()\n",
    "\n",
    "CV_rounds = np.arange(1,N_rounds+1)\n",
    "\n",
    "average_score = np.cumsum(score_per_round)/CV_rounds"
   ]
  },
  {
   "cell_type": "code",
   "execution_count": 261,
   "id": "cc7a48dc-44cf-439d-b729-682549d93ab2",
   "metadata": {
    "tags": []
   },
   "outputs": [
    {
     "data": {
      "image/png": "[encoded data removed]",
      "text/plain": [
       "<Figure size 640x480 with 1 Axes>"
      ]
     },
     "metadata": {},
     "output_type": "display_data"
    }
   ],
   "source": [
    "fig, ax = plt.subplots()\n",
    "\n",
    "ax.plot(CV_rounds, average_score, marker='o', markersize=2)\n",
    "ax.set_xlabel('Averaging CV rounds')\n",
    "ax.set_ylabel('Pearson r^2')\n",
    "ax.grid()"
   ]
  },
  {
   "cell_type": "code",
   "execution_count": 61,
   "id": "820f385f-0044-42a0-a121-6f37d5ca4c3c",
   "metadata": {
    "tags": []
   },
   "outputs": [],
   "source": [
    "mp=np.nanmean(y_pred,axis=0)"
   ]
  },
  {
   "cell_type": "code",
   "execution_count": 73,
   "id": "4e6cdb11-22be-4596-a402-dfd262dae823",
   "metadata": {
    "tags": []
   },
   "outputs": [],
   "source": [
    "M = MLPRegressor(p_dropout=0.1,weight_decay=2)\n",
    "M.fit(X_train,y_train,X_test,y_test)\n"
   ]
  },
  {
   "cell_type": "code",
   "execution_count": 74,
   "id": "45a7fc9e-0ddc-478e-9f56-93e3e6784a71",
   "metadata": {
    "tags": []
   },
   "outputs": [
    {
     "data": {
      "image/png": "[encoded data removed]",
      "text/plain": [
       "<Figure size 640x480 with 1 Axes>"
      ]
     },
     "metadata": {},
     "output_type": "display_data"
    }
   ],
   "source": [
    "t,v = zip(*M.history)\n",
    "fig, ax = plt.subplots()\n",
    "ax.plot(v)\n",
    "ax.plot(t)\n",
    "ax.grid()"
   ]
  },
  {
   "cell_type": "code",
   "execution_count": 75,
   "id": "6c8f8412-4df0-4aae-bf6e-551dddada2c9",
   "metadata": {
    "tags": []
   },
   "outputs": [
    {
     "name": "stdout",
     "output_type": "stream",
     "text": [
      "MLM\n"
     ]
    },
    {
     "name": "stderr",
     "output_type": "stream",
     "text": [
      "/data/ouga/home/ag_gagneur/l_vilov/miniconda3/envs/svilov-spade/lib/python3.10/site-packages/torch/nn/modules/lazy.py:180: UserWarning: Lazy modules are a new feature under heavy development so changes to the API or functionality can happen at any moment.\n",
      "  warnings.warn('Lazy modules are a new feature under heavy development '\n",
      "/data/ouga/home/ag_gagneur/l_vilov/miniconda3/envs/svilov-spade/lib/python3.10/site-packages/torch/nn/modules/lazy.py:180: UserWarning: Lazy modules are a new feature under heavy development so changes to the API or functionality can happen at any moment.\n",
      "  warnings.warn('Lazy modules are a new feature under heavy development '\n",
      "/data/ouga/home/ag_gagneur/l_vilov/miniconda3/envs/svilov-spade/lib/python3.10/site-packages/torch/nn/modules/lazy.py:180: UserWarning: Lazy modules are a new feature under heavy development so changes to the API or functionality can happen at any moment.\n",
      "  warnings.warn('Lazy modules are a new feature under heavy development '\n",
      "/data/ouga/home/ag_gagneur/l_vilov/miniconda3/envs/svilov-spade/lib/python3.10/site-packages/torch/nn/modules/lazy.py:180: UserWarning: Lazy modules are a new feature under heavy development so changes to the API or functionality can happen at any moment.\n",
      "  warnings.warn('Lazy modules are a new feature under heavy development '\n",
      "/data/ouga/home/ag_gagneur/l_vilov/miniconda3/envs/svilov-spade/lib/python3.10/site-packages/torch/nn/modules/lazy.py:180: UserWarning: Lazy modules are a new feature under heavy development so changes to the API or functionality can happen at any moment.\n",
      "  warnings.warn('Lazy modules are a new feature under heavy development '\n",
      "/data/ouga/home/ag_gagneur/l_vilov/miniconda3/envs/svilov-spade/lib/python3.10/site-packages/torch/nn/modules/lazy.py:180: UserWarning: Lazy modules are a new feature under heavy development so changes to the API or functionality can happen at any moment.\n",
      "  warnings.warn('Lazy modules are a new feature under heavy development '\n",
      "/data/ouga/home/ag_gagneur/l_vilov/miniconda3/envs/svilov-spade/lib/python3.10/site-packages/torch/nn/modules/lazy.py:180: UserWarning: Lazy modules are a new feature under heavy development so changes to the API or functionality can happen at any moment.\n",
      "  warnings.warn('Lazy modules are a new feature under heavy development '\n",
      "/data/ouga/home/ag_gagneur/l_vilov/miniconda3/envs/svilov-spade/lib/python3.10/site-packages/torch/nn/modules/lazy.py:180: UserWarning: Lazy modules are a new feature under heavy development so changes to the API or functionality can happen at any moment.\n",
      "  warnings.warn('Lazy modules are a new feature under heavy development '\n",
      "/data/ouga/home/ag_gagneur/l_vilov/miniconda3/envs/svilov-spade/lib/python3.10/site-packages/torch/nn/modules/lazy.py:180: UserWarning: Lazy modules are a new feature under heavy development so changes to the API or functionality can happen at any moment.\n",
      "  warnings.warn('Lazy modules are a new feature under heavy development '\n",
      "/data/ouga/home/ag_gagneur/l_vilov/miniconda3/envs/svilov-spade/lib/python3.10/site-packages/torch/nn/modules/lazy.py:180: UserWarning: Lazy modules are a new feature under heavy development so changes to the API or functionality can happen at any moment.\n",
      "  warnings.warn('Lazy modules are a new feature under heavy development '\n"
     ]
    },
    {
     "name": "stdout",
     "output_type": "stream",
     "text": [
      "4-mer counts\n"
     ]
    },
    {
     "name": "stderr",
     "output_type": "stream",
     "text": [
      "/data/ouga/home/ag_gagneur/l_vilov/miniconda3/envs/svilov-spade/lib/python3.10/site-packages/torch/nn/modules/lazy.py:180: UserWarning: Lazy modules are a new feature under heavy development so changes to the API or functionality can happen at any moment.\n",
      "  warnings.warn('Lazy modules are a new feature under heavy development '\n",
      "/data/ouga/home/ag_gagneur/l_vilov/miniconda3/envs/svilov-spade/lib/python3.10/site-packages/torch/nn/modules/lazy.py:180: UserWarning: Lazy modules are a new feature under heavy development so changes to the API or functionality can happen at any moment.\n",
      "  warnings.warn('Lazy modules are a new feature under heavy development '\n",
      "/data/ouga/home/ag_gagneur/l_vilov/miniconda3/envs/svilov-spade/lib/python3.10/site-packages/torch/nn/modules/lazy.py:180: UserWarning: Lazy modules are a new feature under heavy development so changes to the API or functionality can happen at any moment.\n",
      "  warnings.warn('Lazy modules are a new feature under heavy development '\n",
      "/data/ouga/home/ag_gagneur/l_vilov/miniconda3/envs/svilov-spade/lib/python3.10/site-packages/torch/nn/modules/lazy.py:180: UserWarning: Lazy modules are a new feature under heavy development so changes to the API or functionality can happen at any moment.\n",
      "  warnings.warn('Lazy modules are a new feature under heavy development '\n",
      "/data/ouga/home/ag_gagneur/l_vilov/miniconda3/envs/svilov-spade/lib/python3.10/site-packages/torch/nn/modules/lazy.py:180: UserWarning: Lazy modules are a new feature under heavy development so changes to the API or functionality can happen at any moment.\n",
      "  warnings.warn('Lazy modules are a new feature under heavy development '\n",
      "/data/ouga/home/ag_gagneur/l_vilov/miniconda3/envs/svilov-spade/lib/python3.10/site-packages/torch/nn/modules/lazy.py:180: UserWarning: Lazy modules are a new feature under heavy development so changes to the API or functionality can happen at any moment.\n",
      "  warnings.warn('Lazy modules are a new feature under heavy development '\n",
      "/data/ouga/home/ag_gagneur/l_vilov/miniconda3/envs/svilov-spade/lib/python3.10/site-packages/torch/nn/modules/lazy.py:180: UserWarning: Lazy modules are a new feature under heavy development so changes to the API or functionality can happen at any moment.\n",
      "  warnings.warn('Lazy modules are a new feature under heavy development '\n",
      "/data/ouga/home/ag_gagneur/l_vilov/miniconda3/envs/svilov-spade/lib/python3.10/site-packages/torch/nn/modules/lazy.py:180: UserWarning: Lazy modules are a new feature under heavy development so changes to the API or functionality can happen at any moment.\n",
      "  warnings.warn('Lazy modules are a new feature under heavy development '\n",
      "/data/ouga/home/ag_gagneur/l_vilov/miniconda3/envs/svilov-spade/lib/python3.10/site-packages/torch/nn/modules/lazy.py:180: UserWarning: Lazy modules are a new feature under heavy development so changes to the API or functionality can happen at any moment.\n",
      "  warnings.warn('Lazy modules are a new feature under heavy development '\n",
      "/data/ouga/home/ag_gagneur/l_vilov/miniconda3/envs/svilov-spade/lib/python3.10/site-packages/torch/nn/modules/lazy.py:180: UserWarning: Lazy modules are a new feature under heavy development so changes to the API or functionality can happen at any moment.\n",
      "  warnings.warn('Lazy modules are a new feature under heavy development '\n"
     ]
    },
    {
     "name": "stdout",
     "output_type": "stream",
     "text": [
      "Word2Vec\n"
     ]
    },
    {
     "name": "stderr",
     "output_type": "stream",
     "text": [
      "/data/ouga/home/ag_gagneur/l_vilov/miniconda3/envs/svilov-spade/lib/python3.10/site-packages/torch/nn/modules/lazy.py:180: UserWarning: Lazy modules are a new feature under heavy development so changes to the API or functionality can happen at any moment.\n",
      "  warnings.warn('Lazy modules are a new feature under heavy development '\n",
      "/data/ouga/home/ag_gagneur/l_vilov/miniconda3/envs/svilov-spade/lib/python3.10/site-packages/torch/nn/modules/lazy.py:180: UserWarning: Lazy modules are a new feature under heavy development so changes to the API or functionality can happen at any moment.\n",
      "  warnings.warn('Lazy modules are a new feature under heavy development '\n",
      "/data/ouga/home/ag_gagneur/l_vilov/miniconda3/envs/svilov-spade/lib/python3.10/site-packages/torch/nn/modules/lazy.py:180: UserWarning: Lazy modules are a new feature under heavy development so changes to the API or functionality can happen at any moment.\n",
      "  warnings.warn('Lazy modules are a new feature under heavy development '\n",
      "/data/ouga/home/ag_gagneur/l_vilov/miniconda3/envs/svilov-spade/lib/python3.10/site-packages/torch/nn/modules/lazy.py:180: UserWarning: Lazy modules are a new feature under heavy development so changes to the API or functionality can happen at any moment.\n",
      "  warnings.warn('Lazy modules are a new feature under heavy development '\n",
      "/data/ouga/home/ag_gagneur/l_vilov/miniconda3/envs/svilov-spade/lib/python3.10/site-packages/torch/nn/modules/lazy.py:180: UserWarning: Lazy modules are a new feature under heavy development so changes to the API or functionality can happen at any moment.\n",
      "  warnings.warn('Lazy modules are a new feature under heavy development '\n",
      "/data/ouga/home/ag_gagneur/l_vilov/miniconda3/envs/svilov-spade/lib/python3.10/site-packages/torch/nn/modules/lazy.py:180: UserWarning: Lazy modules are a new feature under heavy development so changes to the API or functionality can happen at any moment.\n",
      "  warnings.warn('Lazy modules are a new feature under heavy development '\n",
      "/data/ouga/home/ag_gagneur/l_vilov/miniconda3/envs/svilov-spade/lib/python3.10/site-packages/torch/nn/modules/lazy.py:180: UserWarning: Lazy modules are a new feature under heavy development so changes to the API or functionality can happen at any moment.\n",
      "  warnings.warn('Lazy modules are a new feature under heavy development '\n",
      "/data/ouga/home/ag_gagneur/l_vilov/miniconda3/envs/svilov-spade/lib/python3.10/site-packages/torch/nn/modules/lazy.py:180: UserWarning: Lazy modules are a new feature under heavy development so changes to the API or functionality can happen at any moment.\n",
      "  warnings.warn('Lazy modules are a new feature under heavy development '\n",
      "/data/ouga/home/ag_gagneur/l_vilov/miniconda3/envs/svilov-spade/lib/python3.10/site-packages/torch/nn/modules/lazy.py:180: UserWarning: Lazy modules are a new feature under heavy development so changes to the API or functionality can happen at any moment.\n",
      "  warnings.warn('Lazy modules are a new feature under heavy development '\n",
      "/data/ouga/home/ag_gagneur/l_vilov/miniconda3/envs/svilov-spade/lib/python3.10/site-packages/torch/nn/modules/lazy.py:180: UserWarning: Lazy modules are a new feature under heavy development so changes to the API or functionality can happen at any moment.\n",
      "  warnings.warn('Lazy modules are a new feature under heavy development '\n"
     ]
    },
    {
     "name": "stdout",
     "output_type": "stream",
     "text": [
      "Griesemer et al.\n"
     ]
    },
    {
     "name": "stderr",
     "output_type": "stream",
     "text": [
      "/data/ouga/home/ag_gagneur/l_vilov/miniconda3/envs/svilov-spade/lib/python3.10/site-packages/torch/nn/modules/lazy.py:180: UserWarning: Lazy modules are a new feature under heavy development so changes to the API or functionality can happen at any moment.\n",
      "  warnings.warn('Lazy modules are a new feature under heavy development '\n",
      "/data/ouga/home/ag_gagneur/l_vilov/miniconda3/envs/svilov-spade/lib/python3.10/site-packages/torch/nn/modules/lazy.py:180: UserWarning: Lazy modules are a new feature under heavy development so changes to the API or functionality can happen at any moment.\n",
      "  warnings.warn('Lazy modules are a new feature under heavy development '\n",
      "/data/ouga/home/ag_gagneur/l_vilov/miniconda3/envs/svilov-spade/lib/python3.10/site-packages/torch/nn/modules/lazy.py:180: UserWarning: Lazy modules are a new feature under heavy development so changes to the API or functionality can happen at any moment.\n",
      "  warnings.warn('Lazy modules are a new feature under heavy development '\n",
      "/data/ouga/home/ag_gagneur/l_vilov/miniconda3/envs/svilov-spade/lib/python3.10/site-packages/torch/nn/modules/lazy.py:180: UserWarning: Lazy modules are a new feature under heavy development so changes to the API or functionality can happen at any moment.\n",
      "  warnings.warn('Lazy modules are a new feature under heavy development '\n",
      "/data/ouga/home/ag_gagneur/l_vilov/miniconda3/envs/svilov-spade/lib/python3.10/site-packages/torch/nn/modules/lazy.py:180: UserWarning: Lazy modules are a new feature under heavy development so changes to the API or functionality can happen at any moment.\n",
      "  warnings.warn('Lazy modules are a new feature under heavy development '\n",
      "/data/ouga/home/ag_gagneur/l_vilov/miniconda3/envs/svilov-spade/lib/python3.10/site-packages/torch/nn/modules/lazy.py:180: UserWarning: Lazy modules are a new feature under heavy development so changes to the API or functionality can happen at any moment.\n",
      "  warnings.warn('Lazy modules are a new feature under heavy development '\n",
      "/data/ouga/home/ag_gagneur/l_vilov/miniconda3/envs/svilov-spade/lib/python3.10/site-packages/torch/nn/modules/lazy.py:180: UserWarning: Lazy modules are a new feature under heavy development so changes to the API or functionality can happen at any moment.\n",
      "  warnings.warn('Lazy modules are a new feature under heavy development '\n",
      "/data/ouga/home/ag_gagneur/l_vilov/miniconda3/envs/svilov-spade/lib/python3.10/site-packages/torch/nn/modules/lazy.py:180: UserWarning: Lazy modules are a new feature under heavy development so changes to the API or functionality can happen at any moment.\n",
      "  warnings.warn('Lazy modules are a new feature under heavy development '\n",
      "/data/ouga/home/ag_gagneur/l_vilov/miniconda3/envs/svilov-spade/lib/python3.10/site-packages/torch/nn/modules/lazy.py:180: UserWarning: Lazy modules are a new feature under heavy development so changes to the API or functionality can happen at any moment.\n",
      "  warnings.warn('Lazy modules are a new feature under heavy development '\n",
      "/data/ouga/home/ag_gagneur/l_vilov/miniconda3/envs/svilov-spade/lib/python3.10/site-packages/torch/nn/modules/lazy.py:180: UserWarning: Lazy modules are a new feature under heavy development so changes to the API or functionality can happen at any moment.\n",
      "  warnings.warn('Lazy modules are a new feature under heavy development '\n"
     ]
    }
   ],
   "source": [
    "metrics_mpra = []\n",
    "\n",
    "clf = sklearn.linear_model.Ridge()\n",
    "parameter_grid = {'alpha':10.**np.arange(-10,10)}\n",
    "        \n",
    "#clf = sklearn.ensemble.RandomForestRegressor(n_estimators=1000,n_jobs=-1,min_samples_leaf=25)\n",
    "#parameter_grid = None\n",
    "\n",
    "        \n",
    "clf = MLPRegressor(p_dropout=0.1,weight_decay=2)\n",
    "parameter_grid = None\n",
    "\n",
    "\n",
    "clf = sklearn.linear_model.Ridge()\n",
    "parameter_grid = {'alpha':10.**np.arange(-10,10)}\n",
    "              \n",
    "clf = sklearn.neural_network.MLPRegressor(hidden_layer_sizes=(64,32,16,), alpha=2, batch_size=1000, learning_rate='constant', \n",
    "                 learning_rate_init=5e-4, max_iter=500, shuffle=False, random_state=None)\n",
    "parameter_grid = None\n",
    "\n",
    "\n",
    "clf = sklearn.svm.SVR(C=4, epsilon=0.1)\n",
    "parameter_grid = None#{'C':2.**np.arange(-5,5),'epsilon':10.**np.arange(-5,1)}\n",
    "\n",
    "for model, X in data_matrices.items():\n",
    "    \n",
    "    print(model)\n",
    "  \n",
    "    r2 = group_cv(clf,parameter_grid,strategy='grid')\n",
    "    \n",
    "    for r2_val in r2:\n",
    "        metrics_mpra.append((model, r2_val))\n",
    "\n",
    "metrics_mpra = pd.DataFrame(metrics_mpra, columns=['model','score'])"
   ]
  },
  {
   "cell_type": "code",
   "execution_count": 76,
   "id": "1ec9adfa-89ae-4f69-9491-7a9c3abf5ed3",
   "metadata": {
    "tags": []
   },
   "outputs": [
    {
     "data": {
      "text/html": [
       "<div>\n",
       "<style scoped>\n",
       "    .dataframe tbody tr th:only-of-type {\n",
       "        vertical-align: middle;\n",
       "    }\n",
       "\n",
       "    .dataframe tbody tr th {\n",
       "        vertical-align: top;\n",
       "    }\n",
       "\n",
       "    .dataframe thead th {\n",
       "        text-align: right;\n",
       "    }\n",
       "</style>\n",
       "<table border=\"1\" class=\"dataframe\">\n",
       "  <thead>\n",
       "    <tr style=\"text-align: right;\">\n",
       "      <th></th>\n",
       "      <th>score</th>\n",
       "    </tr>\n",
       "    <tr>\n",
       "      <th>model</th>\n",
       "      <th></th>\n",
       "    </tr>\n",
       "  </thead>\n",
       "  <tbody>\n",
       "    <tr>\n",
       "      <th>4-mer counts</th>\n",
       "      <td>0.210851</td>\n",
       "    </tr>\n",
       "    <tr>\n",
       "      <th>Griesemer et al.</th>\n",
       "      <td>0.262618</td>\n",
       "    </tr>\n",
       "    <tr>\n",
       "      <th>MLM</th>\n",
       "      <td>0.311119</td>\n",
       "    </tr>\n",
       "    <tr>\n",
       "      <th>Word2Vec</th>\n",
       "      <td>0.243512</td>\n",
       "    </tr>\n",
       "  </tbody>\n",
       "</table>\n",
       "</div>"
      ],
      "text/plain": [
       "                     score\n",
       "model                     \n",
       "4-mer counts      0.210851\n",
       "Griesemer et al.  0.262618\n",
       "MLM               0.311119\n",
       "Word2Vec          0.243512"
      ]
     },
     "execution_count": 76,
     "metadata": {},
     "output_type": "execute_result"
    }
   ],
   "source": [
    "metrics_mpra.groupby('model').mean()"
   ]
  },
  {
   "cell_type": "code",
   "execution_count": 198,
   "id": "7b128781-a0fd-44a6-bed9-a76363101c4c",
   "metadata": {
    "tags": []
   },
   "outputs": [],
   "source": [
    "mpl.rcParams.update({'xtick.labelsize': 14, 'ytick.labelsize': 14, \n",
    "                     'axes.titlesize':14, 'axes.labelsize':16})"
   ]
  },
  {
   "cell_type": "code",
   "execution_count": 78,
   "id": "7f2f71ed-7564-442e-8925-864e285e2f13",
   "metadata": {
    "tags": []
   },
   "outputs": [
    {
     "name": "stdout",
     "output_type": "stream",
     "text": [
      "p-value annotation legend:\n",
      "      ns: p <= 1.00e+00\n",
      "       *: 1.00e-02 < p <= 5.00e-02\n",
      "      **: 1.00e-03 < p <= 1.00e-02\n",
      "     ***: 1.00e-04 < p <= 1.00e-03\n",
      "    ****: p <= 1.00e-04\n",
      "\n",
      "MLM vs. 4-mer counts: Wilcoxon test (paired samples) with Benjamini-Hochberg correction, P_val:1.953e-03 Stat=0.000e+00\n",
      "MLM vs. Word2Vec: Wilcoxon test (paired samples) with Benjamini-Hochberg correction, P_val:1.953e-03 Stat=0.000e+00\n",
      "MLM vs. Griesemer et al.: Wilcoxon test (paired samples) with Benjamini-Hochberg correction, P_val:9.766e-03 Stat=3.000e+00\n"
     ]
    },
    {
     "data": {
      "image/png": "[encoded data removed]",
      "text/plain": [
       "<Figure size 500x500 with 1 Axes>"
      ]
     },
     "metadata": {},
     "output_type": "display_data"
    }
   ],
   "source": [
    "box_pairs=[\n",
    "    (\"MLM\", \"4-mer counts\"),\n",
    "    (\"MLM\", \"Word2Vec\"),\n",
    "    (\"MLM\", \"Griesemer et al.\"),\n",
    "    ]\n",
    "\n",
    "fig, ax = plt.subplots(figsize=(5,5), dpi=100)\n",
    "\n",
    "ax = sns.swarmplot(data=metrics_mpra, x=\"model\", y=\"score\") #scatter plot\n",
    "ax = sns.boxplot(data=metrics_mpra, x=\"model\", y=\"score\", boxprops={'facecolor':'None'})\n",
    "\n",
    "annotator = Annotator(ax, box_pairs, data=metrics_mpra, x=\"model\", y=\"score\")\n",
    "annotator.configure(test='Wilcoxon', text_format='star', loc='inside', comparisons_correction=\"BH\")\n",
    "#annotator.configure(test='t-test_paired', text_format='star', loc='inside', comparisons_correction=\"BH\")\n",
    "\n",
    "annotator.apply_and_annotate()\n",
    "\n",
    "ax.set_xlabel(\"\")\n",
    "ax.set_ylabel(\"Pearson R-squared\")\n",
    "ax.tick_params(rotation=30)\n",
    "ax.set_title(cell_type)\n",
    "ax.grid()\n",
    "\n",
    "#fig.savefig(\"../../../../Plots/Downstream_mpra.svg\") "
   ]
  },
  {
   "cell_type": "code",
   "execution_count": null,
   "id": "b2c492ed-f1a6-4a04-a054-bdc64cbbe2d7",
   "metadata": {},
   "outputs": [],
   "source": []
  },
  {
   "cell_type": "code",
   "execution_count": null,
   "id": "b3597dc0-5e0b-4626-b3cb-09eab5ec21e4",
   "metadata": {},
   "outputs": [],
   "source": []
  }
 ],
 "metadata": {
  "kernelspec": {
   "display_name": "Python [conda env:miniconda3-svilov-spade]",
   "language": "python",
   "name": "conda-env-miniconda3-svilov-spade-py"
  },
  "language_info": {
   "codemirror_mode": {
    "name": "ipython",
    "version": 3
   },
   "file_extension": ".py",
   "mimetype": "text/x-python",
   "name": "python",
   "nbconvert_exporter": "python",
   "pygments_lexer": "ipython3",
   "version": "3.10.9"
  }
 },
 "nbformat": 4,
 "nbformat_minor": 5
}
