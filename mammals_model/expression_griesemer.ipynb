{
 "cells": [
  {
   "cell_type": "code",
   "execution_count": 2,
   "id": "9ef08229-5db6-424e-8cc6-54bf176a8dc0",
   "metadata": {
    "tags": []
   },
   "outputs": [
    {
     "name": "stderr",
     "output_type": "stream",
     "text": [
      "Intel(R) Extension for Scikit-learn* enabled (https://github.com/intel/scikit-learn-intelex)\n"
     ]
    }
   ],
   "source": [
    "import math\n",
    "import itertools\n",
    "\n",
    "import numpy as np\n",
    "import pandas as pd\n",
    "import scipy\n",
    "\n",
    "import statsmodels\n",
    "import statsmodels.api as sm\n",
    "import statsmodels.formula.api as smf\n",
    "\n",
    "from sklearnex import patch_sklearn\n",
    "patch_sklearn()\n",
    "\n",
    "import sklearn\n",
    "from sklearn import ensemble\n",
    "from sklearn import pipeline\n",
    "from sklearn.model_selection import cross_val_score, cross_validate, cross_val_predict\n",
    "from sklearn.cross_decomposition import PLSRegression\n",
    "from sklearn.metrics.pairwise import cosine_similarity\n",
    "import patsy\n",
    "\n",
    "import matplotlib.pyplot as plt\n",
    "import matplotlib as mpl\n",
    "from matplotlib import cm\n",
    "from matplotlib.colors import ListedColormap, LinearSegmentedColormap\n",
    "import seaborn as sns\n",
    "#import statannot\n",
    "import statannotations\n",
    "from statannotations.Annotator import Annotator\n",
    "from statannotations.stats.StatTest import StatTest\n",
    "#import plotnine as p9\n",
    "\n",
    "import Bio.motifs as motifs"
   ]
  },
  {
   "cell_type": "code",
   "execution_count": 3,
   "id": "e9be9d0c-c1d7-41c6-a784-b469314e6f3c",
   "metadata": {
    "tags": []
   },
   "outputs": [],
   "source": [
    "import gensim\n",
    "\n",
    "from gensim.test.utils import common_texts\n",
    "\n",
    "from gensim.models import Word2Vec\n",
    "from gensim.models import Doc2Vec\n",
    "from gensim.models.doc2vec import TaggedDocument"
   ]
  },
  {
   "cell_type": "code",
   "execution_count": 4,
   "id": "c5ce82f2-6fd9-4deb-b0a6-f850efafe743",
   "metadata": {
    "tags": []
   },
   "outputs": [],
   "source": [
    "class Kmerizer:\n",
    "    \n",
    "    def __init__(self, k, log=False, divide=False, leave_one_out=False):\n",
    "        self.k = k\n",
    "        if leave_one_out:\n",
    "            self.kmers = {\"\".join(x):i for i,x in zip(range(4**k), [x for x in itertools.product(\"ACGT\",repeat=k)][:-1])}\n",
    "        else:\n",
    "            self.kmers = {\"\".join(x):i for i,x in zip(range(4**k), itertools.product(\"ACGT\",repeat=k))}\n",
    "        self.log = log\n",
    "        self.divide = divide\n",
    "        \n",
    "    def kmerize(self, seq):\n",
    "        counts = np.zeros(4**self.k)\n",
    "        i = 0\n",
    "        while i < len(seq) - self.k + 1: \n",
    "            kmer = seq[i:i+self.k]\n",
    "            counts[self.kmers[kmer]] += 1\n",
    "            i += 1\n",
    "        if self.divide:\n",
    "            counts = counts/len(seq)\n",
    "        if self.log:\n",
    "            counts = np.log(counts + 1)\n",
    "        return counts\n",
    "    \n",
    "    def tokenize(self, seq, jump=False):\n",
    "        kmers = []\n",
    "        i = 0\n",
    "        while i < len(seq) - self.k + 1: \n",
    "            kmer = seq[i:i+self.k]\n",
    "            kmers.append(kmer)\n",
    "            if jump:\n",
    "                i += self.k\n",
    "            else:\n",
    "                i += 1\n",
    "        return kmers\n",
    "    \n",
    "kmerizer1 = Kmerizer(k=1)\n",
    "kmerizer2 = Kmerizer(k=2)\n",
    "kmerizer3 = Kmerizer(k=3)\n",
    "kmerizer4 = Kmerizer(k=4)\n",
    "kmerizer5 = Kmerizer(k=5)\n",
    "kmerizer6 = Kmerizer(k=6)\n",
    "kmerizer7 = Kmerizer(k=7)"
   ]
  },
  {
   "cell_type": "code",
   "execution_count": 5,
   "id": "e53833c1-a86c-4be3-9d98-f6f35785dd22",
   "metadata": {
    "tags": []
   },
   "outputs": [],
   "source": [
    "def max_repeat_length(seq,k):\n",
    "    \n",
    "    '''\n",
    "    Get repeat lengths of all k-mers in sequence\n",
    "    '''\n",
    "\n",
    "    max_subseq_lenght = {\"\".join(x):0 for x in itertools.product(\"ACGT\",repeat=k)}\n",
    "\n",
    "    for start in range(k):\n",
    "        c=1\n",
    "        for seq_idx in range(start,len(seq)-k+1,k):\n",
    "            bp = seq[seq_idx:seq_idx+k] #repeated sequence\n",
    "            if bp==seq[seq_idx+k:seq_idx+2*k]:\n",
    "                c+=1\n",
    "            else:\n",
    "                max_subseq_lenght[bp] = max(max_subseq_lenght[bp],c)\n",
    "                c = 1\n",
    "                \n",
    "        max_subseq_lenght[bp] = max(max_subseq_lenght[bp],c)\n",
    "       \n",
    "    repeat_length = np.array(list(max_subseq_lenght.values()))\n",
    "    \n",
    "    return repeat_length"
   ]
  },
  {
   "cell_type": "code",
   "execution_count": 41,
   "id": "4a9f9e2c-9054-491d-ab03-a1dc49d8ce56",
   "metadata": {
    "tags": []
   },
   "outputs": [],
   "source": [
    "def pearson_scorer(estimator, X, y):\n",
    "    y_pred = estimator.predict(X)\n",
    "    if len(y_pred.shape) == 2:\n",
    "        y_pred = y_pred.reshape(-1)\n",
    "    return scipy.stats.pearsonr(y, y_pred)[0]\n",
    "\n",
    "def pearson_r2(estimator, X, y):\n",
    "    y_pred = estimator.predict(X)\n",
    "    #print(estimator[1].alpha_)\n",
    "    if len(y_pred.shape) == 2:\n",
    "        y_pred = y_pred.reshape(-1)\n",
    "    return scipy.stats.pearsonr(y, y_pred)[0] ** 2\n",
    "\n",
    "def pearson_r2_metric(y_true, y_pred):\n",
    "    return scipy.stats.pearsonr(y_true, y_pred)[0] ** 2\n",
    "\n",
    "def bootstrap_normal(x, y):\n",
    "    x, y = np.array(x), np.array(y)\n",
    "    z_val = np.abs(((x - y).mean())/((x - y).std()))\n",
    "    return z_val, (1 - scipy.stats.norm.cdf(z_val) + scipy.stats.norm.cdf(-z_val))\n",
    "\n",
    "custom_long_name = 'Bootstrap Normal'\n",
    "custom_short_name = 'Normal'\n",
    "custom_func = bootstrap_normal\n",
    "bstrap_normal_test = StatTest(custom_func, custom_long_name, custom_short_name)\n",
    "\n",
    "def bootstrap_empirical(x, y):\n",
    "    x, y = np.array(x), np.array(y)\n",
    "    diffs = (x - y)\n",
    "    stat = np.sum(diffs < 0) \n",
    "    p = (stat + 1)/(len(x) + 1)\n",
    "    #if np.median(diffs) > 0:\n",
    "    #    stat = np.sum(diffs < 0) \n",
    "    #    p = 2*(stat + 1)/(len(x) + 1)\n",
    "    #else:\n",
    "    #    stat = np.sum(diffs > 0) \n",
    "    #    p = 2*(stat + 1)/(len(x) + 1)\n",
    "    return stat, p\n",
    "\n",
    "custom_long_name = 'Bootstrap Empirical'\n",
    "custom_short_name = 'Empirical'\n",
    "custom_func = bootstrap_empirical\n",
    "bstrap_empirical_test = StatTest(custom_func, custom_long_name, custom_short_name)"
   ]
  },
  {
   "cell_type": "code",
   "execution_count": 106,
   "id": "d55aecf5-748a-409e-85b1-6b8698db8d6a",
   "metadata": {
    "tags": []
   },
   "outputs": [],
   "source": [
    "data_dir = '/s/project/mll/sergey/effect_prediction/MLM/griesemer/'\n",
    "\n",
    "expression_df = pd.read_csv(data_dir + 'paper_supplementary/Variant_MPRAu_Results.txt', sep='\\t')\n",
    "oligo_info_df = pd.read_csv(data_dir + 'paper_supplementary/Oligo_Variant_Info.txt', sep='\\t')"
   ]
  },
  {
   "cell_type": "code",
   "execution_count": 107,
   "id": "b755af9a-04b3-4142-8fe2-53ef2eb7c56e",
   "metadata": {
    "tags": []
   },
   "outputs": [],
   "source": [
    "fasta_fa = data_dir + 'fasta/GRCh38_UTR_variants.fa'\n",
    "\n",
    "seq = {}\n",
    "\n",
    "with open(fasta_fa, 'r') as f:\n",
    "    for line in f:\n",
    "        if line.startswith('>'):\n",
    "            oligo_id = line[1:].replace(':Homo_sapiens\\n','')\n",
    "            seq[oligo_id] = ''\n",
    "        else:\n",
    "            seq[oligo_id] += line.rstrip()\n",
    "\n",
    "mpra_df = pd.DataFrame(seq.items(), columns=['oligo_id', 'seq'])"
   ]
  },
  {
   "cell_type": "code",
   "execution_count": 108,
   "id": "aed718af-396b-45a5-b376-79c0a9a4d402",
   "metadata": {
    "tags": []
   },
   "outputs": [],
   "source": [
    "utr_variants = pd.read_csv(data_dir + '/GRCh38_UTR_variants.tsv', sep='\\t')"
   ]
  },
  {
   "cell_type": "code",
   "execution_count": 109,
   "id": "e5db0348-07d1-4501-a61c-435b96179df8",
   "metadata": {
    "tags": []
   },
   "outputs": [],
   "source": [
    "utr_variants['stop_codon_dist'] = utr_variants.apply(lambda x: x.var_start-x.human_UTR_start if x.strand=='+' else\n",
    "                  x.human_UTR_end - x.var_start, axis=1)"
   ]
  },
  {
   "cell_type": "code",
   "execution_count": 110,
   "id": "ec45cbb9-87ae-47fb-87ef-5ab00e3cf4f3",
   "metadata": {
    "tags": []
   },
   "outputs": [],
   "source": [
    "mpra_df['min_free_energy'] = pd.read_csv(data_dir + \n",
    "                                         'fasta/GRCh38_UTR_variants.free_energy.tsv', header=None).squeeze()"
   ]
  },
  {
   "cell_type": "code",
   "execution_count": 111,
   "id": "8c9eb567-727a-429b-b108-98a72f446517",
   "metadata": {
    "tags": []
   },
   "outputs": [
    {
     "data": {
      "text/plain": [
       "Index(['oligo_id', 'seq', 'min_free_energy', 'mpra_variant_id', 'ref_allele',\n",
       "       'alt_allele', 'gene_symbols', 'chrom', 'oligo_starts', 'oligo_ends',\n",
       "       'log2FoldChange_Skew_HEK293FT', 'lfcSE_Skew_HEK293FT',\n",
       "       'pvalue_Skew_HEK293FT', 'padj_Skew_HEK293FT',\n",
       "       'log2FoldChange_Ref_HEK293FT', 'lfcSE_Ref_HEK293FT',\n",
       "       'pvalue_Ref_HEK293FT', 'padj_Ref_HEK293FT',\n",
       "       'log2FoldChange_Alt_HEK293FT', 'lfcSE_Alt_HEK293FT',\n",
       "       'pvalue_Alt_HEK293FT', 'padj_Alt_HEK293FT', 'log2FoldChange_Skew_HEPG2',\n",
       "       'lfcSE_Skew_HEPG2', 'pvalue_Skew_HEPG2', 'padj_Skew_HEPG2',\n",
       "       'log2FoldChange_Ref_HEPG2', 'lfcSE_Ref_HEPG2', 'pvalue_Ref_HEPG2',\n",
       "       'padj_Ref_HEPG2', 'log2FoldChange_Alt_HEPG2', 'lfcSE_Alt_HEPG2',\n",
       "       'pvalue_Alt_HEPG2', 'padj_Alt_HEPG2', 'log2FoldChange_Skew_HMEC',\n",
       "       'lfcSE_Skew_HMEC', 'pvalue_Skew_HMEC', 'padj_Skew_HMEC',\n",
       "       'log2FoldChange_Ref_HMEC', 'lfcSE_Ref_HMEC', 'pvalue_Ref_HMEC',\n",
       "       'padj_Ref_HMEC', 'log2FoldChange_Alt_HMEC', 'lfcSE_Alt_HMEC',\n",
       "       'pvalue_Alt_HMEC', 'padj_Alt_HMEC', 'log2FoldChange_Skew_K562',\n",
       "       'lfcSE_Skew_K562', 'pvalue_Skew_K562', 'padj_Skew_K562',\n",
       "       'log2FoldChange_Ref_K562', 'lfcSE_Ref_K562', 'pvalue_Ref_K562',\n",
       "       'padj_Ref_K562', 'log2FoldChange_Alt_K562', 'lfcSE_Alt_K562',\n",
       "       'pvalue_Alt_K562', 'padj_Alt_K562', 'log2FoldChange_Skew_GM12878',\n",
       "       'lfcSE_Skew_GM12878', 'pvalue_Skew_GM12878', 'padj_Skew_GM12878',\n",
       "       'log2FoldChange_Ref_GM12878', 'lfcSE_Ref_GM12878', 'pvalue_Ref_GM12878',\n",
       "       'padj_Ref_GM12878', 'log2FoldChange_Alt_GM12878', 'lfcSE_Alt_GM12878',\n",
       "       'pvalue_Alt_GM12878', 'padj_Alt_GM12878', 'log2FoldChange_Skew_SKNSH',\n",
       "       'lfcSE_Skew_SKNSH', 'pvalue_Skew_SKNSH', 'padj_Skew_SKNSH',\n",
       "       'log2FoldChange_Ref_SKNSH', 'lfcSE_Ref_SKNSH', 'pvalue_Ref_SKNSH',\n",
       "       'padj_Ref_SKNSH', 'log2FoldChange_Alt_SKNSH', 'lfcSE_Alt_SKNSH',\n",
       "       'pvalue_Alt_SKNSH', 'padj_Alt_SKNSH', 'stop_codon_dist'],\n",
       "      dtype='object')"
      ]
     },
     "execution_count": 111,
     "metadata": {},
     "output_type": "execute_result"
    }
   ],
   "source": [
    "mpra_df = mpra_df.merge(oligo_info_df[['oligo_id','mpra_variant_id','ref_allele','alt_allele', 'gene_symbols','chrom', 'oligo_starts', 'oligo_ends']]).merge(expression_df).merge(utr_variants[['mpra_variant_id','stop_codon_dist']].drop_duplicates())\n",
    "\n",
    "mpra_df.columns"
   ]
  },
  {
   "cell_type": "code",
   "execution_count": 112,
   "id": "c3dbb53d-df19-4d5d-abb0-082df2b8af8c",
   "metadata": {
    "tags": []
   },
   "outputs": [],
   "source": [
    "mpra_df['group'] = mpra_df['gene_symbols']"
   ]
  },
  {
   "cell_type": "code",
   "execution_count": 113,
   "id": "91efddef-1cef-40e9-9dc7-3e82031b3173",
   "metadata": {
    "tags": []
   },
   "outputs": [],
   "source": [
    "df = mpra_df.sort_values(by=['chrom','oligo_starts','oligo_ends']).drop_duplicates(subset=['mpra_variant_id']).reset_index(drop=True)\n",
    "\n",
    "df['other_mpra_variant_id'] = ''\n",
    "\n",
    "for row_idx in range(len(df)-1):\n",
    "    next_row_idx = row_idx+1\n",
    "    while df.loc[row_idx].chrom==df.loc[next_row_idx].chrom and df.loc[next_row_idx].oligo_starts<df.loc[row_idx].oligo_ends:\n",
    "        if df.loc[row_idx].gene_symbols != df.loc[next_row_idx].gene_symbols:\n",
    "            df.loc[row_idx,'other_mpra_variant_id'] += df.loc[next_row_idx,'mpra_variant_id'] + ','\n",
    "        next_row_idx+=1\n",
    "        \n",
    "df = df.loc[df.other_mpra_variant_id!='',['mpra_variant_id','other_mpra_variant_id']]  \n",
    "\n",
    "for mpra_variant_id, other_mpra_variant_ids in df.values.tolist():\n",
    "    for other_mpra_variant_id in other_mpra_variant_ids.rstrip(',').split(','):\n",
    "        mpra_df.loc[mpra_df.mpra_variant_id==other_mpra_variant_id,'group'] = mpra_df.loc[mpra_df.mpra_variant_id==mpra_variant_id,'group'].iloc[0]"
   ]
  },
  {
   "cell_type": "code",
   "execution_count": 114,
   "id": "2b5867aa-050c-4389-bb69-9493d0b0e60a",
   "metadata": {
    "tags": []
   },
   "outputs": [],
   "source": [
    "emb_mpra = np.load(data_dir + \"embeddings/seq_len_5000/embeddings.npy\")"
   ]
  },
  {
   "cell_type": "code",
   "execution_count": 115,
   "id": "bf375f64-9eaa-4b5c-b66e-974f7e8162f4",
   "metadata": {
    "tags": []
   },
   "outputs": [],
   "source": [
    "cell_type = 'GM12878' #HMEC,HEK293FT,HEPG2,K562,GM12878,SKNSH"
   ]
  },
  {
   "cell_type": "code",
   "execution_count": 139,
   "id": "4c31483d-7d13-483f-8e5a-d53a41a06cc6",
   "metadata": {
    "tags": []
   },
   "outputs": [],
   "source": [
    "predict_skew = True"
   ]
  },
  {
   "cell_type": "code",
   "execution_count": 140,
   "id": "e2087c04-fda8-4e65-bd42-a7b711443948",
   "metadata": {
    "tags": []
   },
   "outputs": [],
   "source": [
    "is_snp = mpra_df.ref_allele.str.len() == mpra_df.alt_allele.str.len()\n",
    "\n",
    "flt = mpra_df[f'log2FoldChange_Skew_{cell_type}'].isna()  | (~is_snp) | (mpra_df.stop_codon_dist>5000) #| mpra_df.oligo_id.str.contains('_ref$')\n",
    "\n",
    "mpra_df = mpra_df[~flt]"
   ]
  },
  {
   "cell_type": "code",
   "execution_count": 141,
   "id": "6af3c0a0-e87e-4cde-97d2-5642d1360b0a",
   "metadata": {
    "tags": []
   },
   "outputs": [],
   "source": [
    "if predict_skew:\n",
    "    mpra_df['Expression'] = mpra_df[f'log2FoldChange_Skew_{cell_type}']\n",
    "    mpra_df['seqtype'] = mpra_df.apply(lambda x: 'REF' if x.oligo_id.endswith('_ref') else 'ALT',axis=1)\n",
    "    assert (mpra_df.loc[mpra_df.seqtype=='REF','mpra_variant_id'].values==\\\n",
    "         mpra_df.loc[mpra_df.seqtype=='ALT','mpra_variant_id'].values).mean()==1\n",
    "else:\n",
    "    mpra_df['Expression'] = mpra_df.apply(lambda x: x[f'log2FoldChange_Alt_{cell_type}'] if x.oligo_id.endswith('_alt') else x[f'log2FoldChange_Ref_{cell_type}'], axis=1)   "
   ]
  },
  {
   "cell_type": "code",
   "execution_count": 142,
   "id": "e74e8acd-d468-43ce-9a9d-270adaa90929",
   "metadata": {
    "tags": []
   },
   "outputs": [],
   "source": [
    "mpra_df.Expression = mpra_df.Expression.apply(lambda x:x.replace(',','.') if type(x)==str else x).astype(float)"
   ]
  },
  {
   "cell_type": "code",
   "execution_count": 143,
   "id": "58f93c6f-1abf-4e40-80be-b07fab4f3a9c",
   "metadata": {
    "tags": []
   },
   "outputs": [],
   "source": [
    "def minseq_model(mpra_df):\n",
    "\n",
    "    nucl_counts = np.stack(mpra_df.seq.apply(lambda seq: kmerizer1.kmerize(seq)))\n",
    "    max_nucl_counts_all = nucl_counts.max(axis=1)\n",
    "\n",
    "    dinucl_counts = np.stack(mpra_df.seq.apply(lambda seq: kmerizer2.kmerize(seq)))\n",
    "    max_dinucl_counts_all = dinucl_counts.max(axis=1)\n",
    "    \n",
    "    max_homopol_len = np.stack(mpra_df.seq.apply(lambda seq: max_repeat_length(seq,1)))\n",
    "    max_dinucl_len = np.stack(mpra_df.seq.apply(lambda seq: max_repeat_length(seq,2)))\n",
    "\n",
    "    seq_uniformity = mpra_df.seq.apply(lambda seq: np.sum([seq[i]==seq[i-1] for i in range(1,len(seq))])).values\n",
    "    min_free_energy = mpra_df['min_free_energy'].values\n",
    "    \n",
    "    X = np.hstack((nucl_counts,np.expand_dims(max_nucl_counts_all,axis=1),\n",
    "           dinucl_counts,np.expand_dims(max_dinucl_counts_all,axis=1),\n",
    "           max_homopol_len, max_dinucl_len,\n",
    "           np.expand_dims(seq_uniformity,axis=1),\n",
    "           np.expand_dims(min_free_energy,axis=1),\n",
    "           ))\n",
    "    \n",
    "    return X\n",
    "\n",
    "def word2vec_model(mpra_df):\n",
    "    \n",
    "    kmerizer_w2v = Kmerizer(k=4)\n",
    "    w2v_model = Word2Vec(sentences=mpra_df.seq.apply(lambda x: kmerizer_w2v.tokenize(x, jump=False)), \n",
    "                         vector_size=128, window=5, min_count=1, workers=4, sg=1)\n",
    "\n",
    "    word2vec_emb = mpra_df.seq.apply(\n",
    "        lambda x: np.mean([w2v_model.wv[x]  for x in kmerizer_w2v.tokenize(x, jump=False)],axis=0))\n",
    "\n",
    "    X = np.stack(word2vec_emb,axis=0)#np.stack(doc2vec_emb,axis=0)\n",
    "    \n",
    "    return X"
   ]
  },
  {
   "cell_type": "code",
   "execution_count": 144,
   "id": "75e8f6d3-c050-44bc-a44d-4db107712d0a",
   "metadata": {
    "tags": []
   },
   "outputs": [],
   "source": [
    "def get_embeddings(mpra_df):\n",
    "\n",
    "    X_emb = emb_mpra[mpra_df.index]\n",
    "\n",
    "    #GC_content_UTR3 = (mpra_df.seq.str.count('G') + mpra_df.seq.str.count('C'))/mpra_df.seq.str.len()\n",
    "    #X_gc = np.expand_dims(GC_content_UTR3.values,axis=1)\n",
    "\n",
    "    #X_2mer = np.stack(mpra_df.seq.apply(lambda x: kmerizer2.kmerize(x)))\n",
    "    #X_3mer = np.stack(mpra_df.seq.apply(lambda x: kmerizer3.kmerize(x)))\n",
    "    X_4mer = np.stack(mpra_df.seq.apply(lambda x: kmerizer4.kmerize(x)))\n",
    "    #X_5mer = np.stack(mpra_df.seq.apply(lambda x: kmerizer5.kmerize(x)))\n",
    "    #X_6mer = np.stack(mpra_df.seq.apply(lambda x: kmerizer6.kmerize(x)))\n",
    "\n",
    "    X_minseq = minseq_model(mpra_df)\n",
    "    X_w2v = word2vec_model(mpra_df)\n",
    "    \n",
    "    min_free_energy = mpra_df['min_free_energy'].values\n",
    "    \n",
    "    X_emb = np.hstack((X_emb,np.expand_dims(min_free_energy,axis=1)))\n",
    "    X_4mer = np.hstack((X_4mer,np.expand_dims(min_free_energy,axis=1)))\n",
    "    X_w2v = np.hstack((X_w2v,np.expand_dims(min_free_energy,axis=1)))\n",
    "\n",
    "    data_matrices = {\"MLM\":X_emb,\n",
    "                 \"4-mer counts\":X_4mer,\n",
    "                 \"Word2Vec\": X_w2v,\n",
    "                 \"Griesemer et al.\": X_minseq,\n",
    "                }\n",
    "    \n",
    "    y = mpra_df['Expression'].values\n",
    "\n",
    "    groups = mpra_df['group'].values\n",
    "    \n",
    "    return data_matrices, y, groups"
   ]
  },
  {
   "cell_type": "code",
   "execution_count": 145,
   "id": "98fd8034-002b-4a07-9743-7ea56cd31f82",
   "metadata": {
    "tags": []
   },
   "outputs": [],
   "source": [
    "if predict_skew:\n",
    "    data_matrices_ref, _, _ = get_embeddings(mpra_df[mpra_df.seqtype=='REF'])\n",
    "    data_matrices_alt, y, groups = get_embeddings(mpra_df[mpra_df.seqtype=='ALT'])\n",
    "    data_matrices = {model:np.hstack((data_matrices_ref[model],data_matrices_alt[model])) for model in data_matrices_ref}\n",
    "else:\n",
    "    data_matrices, y, groups = get_embeddings(mpra_df)\n",
    "    "
   ]
  },
  {
   "cell_type": "code",
   "execution_count": 146,
   "id": "f3a3bee5-d678-4c0c-83d5-0e6c6102afad",
   "metadata": {
    "tags": []
   },
   "outputs": [],
   "source": [
    "#y = (y<-0.5).astype(int)"
   ]
  },
  {
   "cell_type": "code",
   "execution_count": 147,
   "id": "13cfca33-b026-4fe5-838a-070c63bc8896",
   "metadata": {
    "tags": []
   },
   "outputs": [],
   "source": [
    "from IPython.display import clear_output\n",
    "\n",
    "metrics_mpra = []\n",
    "\n",
    "for model,X in data_matrices.items():\n",
    "    print(model)\n",
    "    #pipe = pipeline.make_pipeline(sklearn.preprocessing.StandardScaler(), sklearn.linear_model.RidgeCV(cv=3,alphas=10.**np.arange(-10,10))) #limit runtime\n",
    "    #pipe = pipeline.make_pipeline(sklearn.preprocessing.StandardScaler(), sklearn.linear_model.LogisticRegressionCV(max_iter=500,class_weight='balanced',scoring='roc_auc')) #limit runtime\n",
    "    pipe = sklearn.ensemble.RandomForestRegressor(n_estimators=1000,min_samples_split=10,n_jobs=-1)\n",
    "    #pipe = sklearn.ensemble.GradientBoostingRegressor(n_estimators=300)\n",
    "    #pipe = sklearn.ensemble.GradientBoostingClassifier()\n",
    "\n",
    "    #pipe = sklearn.ensemble.RandomForestClassifier(class_weight='balanced')\n",
    "    #rmse = -cross_val_score(pipe,X,y,scoring=\"neg_root_mean_squared_error\",cv=sklearn.model_selection.GroupKFold(n_splits=10), groups=groups)#.mean()\n",
    "    r2 = cross_val_score(pipe,X,y,scoring=pearson_r2,cv=sklearn.model_selection.GroupKFold(n_splits=10), groups=groups, n_jobs=-1)#.mean()\n",
    "    for r2_val in r2:\n",
    "        metrics_mpra.append({\"model\":model, \"score\":r2_val})\n",
    "\n",
    "metrics_mpra = pd.DataFrame(metrics_mpra)\n",
    "\n",
    "clear_output()"
   ]
  },
  {
   "cell_type": "code",
   "execution_count": 148,
   "id": "1ec9adfa-89ae-4f69-9491-7a9c3abf5ed3",
   "metadata": {
    "tags": []
   },
   "outputs": [
    {
     "data": {
      "text/html": [
       "<div>\n",
       "<style scoped>\n",
       "    .dataframe tbody tr th:only-of-type {\n",
       "        vertical-align: middle;\n",
       "    }\n",
       "\n",
       "    .dataframe tbody tr th {\n",
       "        vertical-align: top;\n",
       "    }\n",
       "\n",
       "    .dataframe thead th {\n",
       "        text-align: right;\n",
       "    }\n",
       "</style>\n",
       "<table border=\"1\" class=\"dataframe\">\n",
       "  <thead>\n",
       "    <tr style=\"text-align: right;\">\n",
       "      <th></th>\n",
       "      <th>score</th>\n",
       "    </tr>\n",
       "    <tr>\n",
       "      <th>model</th>\n",
       "      <th></th>\n",
       "    </tr>\n",
       "  </thead>\n",
       "  <tbody>\n",
       "    <tr>\n",
       "      <th>4-mer counts</th>\n",
       "      <td>0.012022</td>\n",
       "    </tr>\n",
       "    <tr>\n",
       "      <th>Griesemer et al.</th>\n",
       "      <td>0.016685</td>\n",
       "    </tr>\n",
       "    <tr>\n",
       "      <th>MLM</th>\n",
       "      <td>0.026276</td>\n",
       "    </tr>\n",
       "    <tr>\n",
       "      <th>Word2Vec</th>\n",
       "      <td>0.018535</td>\n",
       "    </tr>\n",
       "  </tbody>\n",
       "</table>\n",
       "</div>"
      ],
      "text/plain": [
       "                     score\n",
       "model                     \n",
       "4-mer counts      0.012022\n",
       "Griesemer et al.  0.016685\n",
       "MLM               0.026276\n",
       "Word2Vec          0.018535"
      ]
     },
     "execution_count": 148,
     "metadata": {},
     "output_type": "execute_result"
    }
   ],
   "source": [
    "metrics_mpra.groupby('model').mean()"
   ]
  },
  {
   "cell_type": "code",
   "execution_count": 149,
   "id": "7b128781-a0fd-44a6-bed9-a76363101c4c",
   "metadata": {
    "tags": []
   },
   "outputs": [],
   "source": [
    "mpl.rcParams.update({'xtick.labelsize': 14, 'ytick.labelsize': 14, \n",
    "                     'axes.titlesize':14, 'axes.labelsize':16})"
   ]
  },
  {
   "cell_type": "code",
   "execution_count": 150,
   "id": "fddbba3a-ef54-4d49-b6c3-db42eaf014a3",
   "metadata": {
    "tags": []
   },
   "outputs": [
    {
     "name": "stdout",
     "output_type": "stream",
     "text": [
      "p-value annotation legend:\n",
      "      ns: p <= 1.00e+00\n",
      "       *: 1.00e-02 < p <= 5.00e-02\n",
      "      **: 1.00e-03 < p <= 1.00e-02\n",
      "     ***: 1.00e-04 < p <= 1.00e-03\n",
      "    ****: p <= 1.00e-04\n",
      "\n",
      "MLM vs. 4-mer counts: Wilcoxon test (paired samples) with Benjamini-Hochberg correction, P_val:3.711e-02 (ns) Stat=7.000e+00\n",
      "MLM vs. Word2Vec: Wilcoxon test (paired samples) with Benjamini-Hochberg correction, P_val:1.934e-01 Stat=1.400e+01\n",
      "MLM vs. Griesemer et al.: Wilcoxon test (paired samples) with Benjamini-Hochberg correction, P_val:1.309e-01 Stat=1.200e+01\n"
     ]
    },
    {
     "data": {
      "image/png": "[encoded data removed]",
      "text/plain": [
       "<Figure size 500x500 with 1 Axes>"
      ]
     },
     "metadata": {},
     "output_type": "display_data"
    }
   ],
   "source": [
    "statplot_df = metrics_mpra\n",
    "\n",
    "x = \"model\"\n",
    "y = \"score\"\n",
    "y_lab = \"Pearson R-squared\"\n",
    "\n",
    "box_pairs=[\n",
    "    (\"MLM\", \"4-mer counts\"),\n",
    "    (\"MLM\", \"Word2Vec\"),\n",
    "    (\"MLM\", \"Griesemer et al.\"),\n",
    "    ]\n",
    "\n",
    "fig, ax = plt.subplots(figsize=(5,5), dpi=100)\n",
    "\n",
    "ax = sns.swarmplot(data=statplot_df, x=x, y=y)\n",
    "ax = sns.boxplot(data=statplot_df, x=x, y=y, boxprops={'facecolor':'None'})\n",
    "\n",
    "annotator = Annotator(ax, box_pairs, data=statplot_df, x=x, y=y)\n",
    "annotator.configure(test='Wilcoxon', text_format='star', loc='inside', comparisons_correction=\"BH\")\n",
    "#annotator.configure(test='t-test_paired', text_format='star', loc='inside', comparisons_correction=\"BH\")\n",
    "\n",
    "annotator.apply_and_annotate()\n",
    "\n",
    "ax.set_xlabel(\"\")\n",
    "ax.set_ylabel(y_lab)\n",
    "ax.tick_params(rotation=30)\n",
    "ax.set_title(cell_type)\n",
    "ax.grid()\n",
    "\n",
    "plt.tight_layout()\n",
    "\n",
    "\n",
    "#fig.savefig(\"../../../../Plots/Downstream_mpra.svg\") "
   ]
  },
  {
   "cell_type": "code",
   "execution_count": null,
   "id": "b2c492ed-f1a6-4a04-a054-bdc64cbbe2d7",
   "metadata": {},
   "outputs": [],
   "source": []
  },
  {
   "cell_type": "code",
   "execution_count": null,
   "id": "b3597dc0-5e0b-4626-b3cb-09eab5ec21e4",
   "metadata": {},
   "outputs": [],
   "source": []
  }
 ],
 "metadata": {
  "kernelspec": {
   "display_name": "Python [conda env:miniconda3-svilov-spade]",
   "language": "python",
   "name": "conda-env-miniconda3-svilov-spade-py"
  },
  "language_info": {
   "codemirror_mode": {
    "name": "ipython",
    "version": 3
   },
   "file_extension": ".py",
   "mimetype": "text/x-python",
   "name": "python",
   "nbconvert_exporter": "python",
   "pygments_lexer": "ipython3",
   "version": "3.10.9"
  }
 },
 "nbformat": 4,
 "nbformat_minor": 5
}
