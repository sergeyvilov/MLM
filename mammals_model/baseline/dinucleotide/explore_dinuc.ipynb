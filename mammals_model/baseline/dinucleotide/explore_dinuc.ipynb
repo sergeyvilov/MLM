{
 "cells": [
  {
   "cell_type": "code",
   "execution_count": 3,
   "metadata": {
    "id": "1TK2pn7T85z5",
    "tags": []
   },
   "outputs": [
    {
     "name": "stdout",
     "output_type": "stream",
     "text": [
      "The autoreload extension is already loaded. To reload it, use:\n",
      "  %reload_ext autoreload\n"
     ]
    }
   ],
   "source": [
    "%load_ext autoreload\n",
    "%autoreload 2\n",
    "\n",
    "import sys, os\n",
    "\n",
    "import gc\n",
    "import pysam\n",
    "import pandas as pd\n",
    "import re\n",
    "import torch\n",
    "\n",
    "import numpy as np\n",
    "\n",
    "#from markov_model import *\n",
    "from markov_for_dinuc import *\n",
    "\n",
    "import pickle"
   ]
  },
  {
   "cell_type": "code",
   "execution_count": 4,
   "metadata": {
    "id": "7wJoXm4JxIP8",
    "tags": []
   },
   "outputs": [],
   "source": [
    "dinucl = [\"AA\", \"AC\", \"AT\", \"AG\", \"CA\", \"CC\", \"CT\", \"CG\", \"TA\", \"TC\", \"TT\", \"TG\", \"GA\", \"GC\", \"GG\", \"GT\"]\n",
    "count_dinuc = dict((el, 0) for el in dinucl)"
   ]
  },
  {
   "cell_type": "code",
   "execution_count": 6,
   "metadata": {
    "colab": {
     "base_uri": "https://localhost:8080/"
    },
    "id": "zYIVJA2BxQKo",
    "outputId": "f5aa5281-65eb-4e6b-b6a0-ebbe9a34e87b"
   },
   "outputs": [
    {
     "ename": "KeyboardInterrupt",
     "evalue": "",
     "output_type": "error",
     "traceback": [
      "\u001b[0;31m---------------------------------------------------------------------------\u001b[0m",
      "\u001b[0;31mKeyboardInterrupt\u001b[0m                         Traceback (most recent call last)",
      "Cell \u001b[0;32mIn[6], line 6\u001b[0m\n\u001b[1;32m      4\u001b[0m \u001b[39mfor\u001b[39;00m i \u001b[39min\u001b[39;00m \u001b[39mrange\u001b[39m(\u001b[39mlen\u001b[39m(record\u001b[39m.\u001b[39mseq)\u001b[39m-\u001b[39m\u001b[39m1\u001b[39m):\n\u001b[1;32m      5\u001b[0m     pair\u001b[39m=\u001b[39mrecord\u001b[39m.\u001b[39mseq[i:i\u001b[39m+\u001b[39m\u001b[39m2\u001b[39m]\n\u001b[0;32m----> 6\u001b[0m     \u001b[39mif\u001b[39;00m pair \u001b[39m==\u001b[39;49m nucleotide:\n\u001b[1;32m      7\u001b[0m         count \u001b[39m+\u001b[39m\u001b[39m=\u001b[39m \u001b[39m1\u001b[39m\n\u001b[1;32m      8\u001b[0m count_dinuc[nucleotide] \u001b[39m+\u001b[39m\u001b[39m=\u001b[39m count\n",
      "File \u001b[0;32m~/.local/lib/anaconda3/envs/ML4RG-mlm/lib/python3.9/site-packages/Bio/Seq.py:419\u001b[0m, in \u001b[0;36m_SeqAbstractBaseClass.__eq__\u001b[0;34m(self, other)\u001b[0m\n\u001b[1;32m    384\u001b[0m \u001b[39mdef\u001b[39;00m \u001b[39m__eq__\u001b[39m(\u001b[39mself\u001b[39m, other):\n\u001b[1;32m    385\u001b[0m \u001b[39m    \u001b[39m\u001b[39m\"\"\"Compare the sequence to another sequence or a string.\u001b[39;00m\n\u001b[1;32m    386\u001b[0m \n\u001b[1;32m    387\u001b[0m \u001b[39m    Sequences are equal to each other if their sequence contents is\u001b[39;00m\n\u001b[0;32m   (...)\u001b[0m\n\u001b[1;32m    417\u001b[0m \u001b[39m    True\u001b[39;00m\n\u001b[1;32m    418\u001b[0m \u001b[39m    \"\"\"\u001b[39;00m\n\u001b[0;32m--> 419\u001b[0m     \u001b[39mif\u001b[39;00m \u001b[39misinstance\u001b[39m(other, _SeqAbstractBaseClass):\n\u001b[1;32m    420\u001b[0m         \u001b[39mreturn\u001b[39;00m \u001b[39mself\u001b[39m\u001b[39m.\u001b[39m_data \u001b[39m==\u001b[39m other\u001b[39m.\u001b[39m_data\n\u001b[1;32m    421\u001b[0m     \u001b[39melif\u001b[39;00m \u001b[39misinstance\u001b[39m(other, \u001b[39mstr\u001b[39m):\n",
      "\u001b[0;31mKeyboardInterrupt\u001b[0m: "
     ]
    }
   ],
   "source": [
    "for record in SeqIO.parse('../../../test/Homo_sapiens_3prime_UTR.fa', 'fasta'):\n",
    "    for nucleotide in count_dinuc:\n",
    "        count = 0\n",
    "        for i in range(len(record.seq)-1):\n",
    "            pair=record.seq[i:i+2]\n",
    "            if pair == nucleotide:\n",
    "                count += 1\n",
    "        count_dinuc[nucleotide] += count\n",
    "print('\\n'.join(['{}: {}'.format(i,count_dinuc[i]) for i in count_dinuc]))"
   ]
  },
  {
   "cell_type": "code",
   "execution_count": 8,
   "metadata": {
    "id": "vvq2OU4YxytZ"
   },
   "outputs": [],
   "source": [
    "s_di = sum(count_dinuc.values())\n",
    "a2 = {k: v / 4989147 for k, v in count_dinuc.items()}"
   ]
  },
  {
   "cell_type": "code",
   "execution_count": 7,
   "metadata": {
    "colab": {
     "base_uri": "https://localhost:8080/"
    },
    "id": "-QdBZIsYx-pH",
    "outputId": "a2dee9a2-95d6-453e-beb3-1300046f5870"
   },
   "outputs": [
    {
     "name": "stdout",
     "output_type": "stream",
     "text": [
      "A: 5919083\n",
      "C: 4863209\n",
      "T: 6414380\n",
      "G: 4935864\n"
     ]
    }
   ],
   "source": [
    "count_nucletides = dict([(i,0) for i in \"ACTG\"])\n",
    "for record in SeqIO.parse('../../../test/Homo_sapiens_3prime_UTR.fa', 'fasta'):\n",
    "    for nucleotide in count_nucletides:\n",
    "        count_nucletides[nucleotide] += record.seq.count(nucleotide)\n",
    "print('\\n'.join(['{}: {}'.format(i,count_nucletides[i]) for i in count_nucletides]))"
   ]
  },
  {
   "cell_type": "code",
   "execution_count": 9,
   "metadata": {
    "id": "uogBjagwyAel"
   },
   "outputs": [],
   "source": [
    "s = sum(count_nucletides.values())\n",
    "a = {k: v / s for k, v in count_nucletides.items()}"
   ]
  },
  {
   "cell_type": "code",
   "execution_count": 10,
   "metadata": {
    "colab": {
     "base_uri": "https://localhost:8080/"
    },
    "id": "6jdwyCvp1mgK",
    "outputId": "a21f13aa-0748-4eee-8a27-1d4534002f3a"
   },
   "outputs": [
    {
     "data": {
      "text/plain": [
       "{'A': 0.26743808301046024,\n",
       " 'C': 0.21973121381119634,\n",
       " 'T': 0.2898167656883061,\n",
       " 'G': 0.22301393749003728}"
      ]
     },
     "execution_count": 10,
     "metadata": {},
     "output_type": "execute_result"
    }
   ],
   "source": [
    "a"
   ]
  },
  {
   "cell_type": "markdown",
   "metadata": {
    "id": "W1qMFGvrN3AB"
   },
   "source": [
    "Example script usage ^^"
   ]
  },
  {
   "cell_type": "code",
   "execution_count": null,
   "metadata": {
    "id": "JfBjjIh4M1_R"
   },
   "outputs": [],
   "source": [
    "#!cd ML4RG-2023-project && python main.py --test --fasta ../Homo_sapiens_3prime_UTR.fa --species_list 240_species.txt --output_dir ./test --model_weight ../MLM_mammals_species_aware_5000_weights"
   ]
  },
  {
   "cell_type": "code",
   "execution_count": 9,
   "metadata": {
    "colab": {
     "base_uri": "https://localhost:8080/",
     "height": 423
    },
    "id": "6UHmq-xyfO05",
    "outputId": "88fd89c0-5a44-4208-f7d2-58dd4ea38b14"
   },
   "outputs": [
    {
     "data": {
      "text/html": [
       "<div>\n",
       "<style scoped>\n",
       "    .dataframe tbody tr th:only-of-type {\n",
       "        vertical-align: middle;\n",
       "    }\n",
       "\n",
       "    .dataframe tbody tr th {\n",
       "        vertical-align: top;\n",
       "    }\n",
       "\n",
       "    .dataframe thead th {\n",
       "        text-align: right;\n",
       "    }\n",
       "</style>\n",
       "<table border=\"1\" class=\"dataframe\">\n",
       "  <thead>\n",
       "    <tr style=\"text-align: right;\">\n",
       "      <th></th>\n",
       "      <th>3-UTR</th>\n",
       "    </tr>\n",
       "  </thead>\n",
       "  <tbody>\n",
       "    <tr>\n",
       "      <th>0</th>\n",
       "      <td>CCCCCAGAACCAGTGGGACAAACTGCCTCCTGGAGGTTTTTAGAAA...</td>\n",
       "    </tr>\n",
       "    <tr>\n",
       "      <th>1</th>\n",
       "      <td>TATTGAGCCCTCAGAGAGTCCACAGTCCCTCCTCTCAGTTCAGTCT...</td>\n",
       "    </tr>\n",
       "    <tr>\n",
       "      <th>2</th>\n",
       "      <td>TATTCATTCCAACTGCTGCCCCTCTGTCTGCCTGGCTGAGATGCAT...</td>\n",
       "    </tr>\n",
       "    <tr>\n",
       "      <th>3</th>\n",
       "      <td>AACGGTGCGTTTGGCCAAAAAGAATCTGCATTTAGCACAAAAAAAA...</td>\n",
       "    </tr>\n",
       "    <tr>\n",
       "      <th>4</th>\n",
       "      <td>TAGTTTCTAACTGTCGGACCCGTCTGTAAACCAAGGACTATGAATA...</td>\n",
       "    </tr>\n",
       "    <tr>\n",
       "      <th>...</th>\n",
       "      <td>...</td>\n",
       "    </tr>\n",
       "    <tr>\n",
       "      <th>1809</th>\n",
       "      <td>AGCAAGCATTGAAAATAATAGTTATTGCATACCAATCCTTGTTTGC...</td>\n",
       "    </tr>\n",
       "    <tr>\n",
       "      <th>1810</th>\n",
       "      <td>AGCAAGCATTGAAAATAATAGTTATTGCATACCAATCCTTGTTTGC...</td>\n",
       "    </tr>\n",
       "    <tr>\n",
       "      <th>1811</th>\n",
       "      <td>GCCTACTTCATCTCAGGACCCGCCCAAGAGTGGCCGCGGCTTTGGG...</td>\n",
       "    </tr>\n",
       "    <tr>\n",
       "      <th>1812</th>\n",
       "      <td>TTGTCAGTCTGTCTGCTCAGGACACAAGAACTAAGGGGCAACAAAT...</td>\n",
       "    </tr>\n",
       "    <tr>\n",
       "      <th>1813</th>\n",
       "      <td>CTTTATAGTGGCACAAACGCTTCAGAGACACACAATTATAAGAGAC...</td>\n",
       "    </tr>\n",
       "  </tbody>\n",
       "</table>\n",
       "<p>1814 rows × 1 columns</p>\n",
       "</div>"
      ],
      "text/plain": [
       "                                                  3-UTR\n",
       "0     CCCCCAGAACCAGTGGGACAAACTGCCTCCTGGAGGTTTTTAGAAA...\n",
       "1     TATTGAGCCCTCAGAGAGTCCACAGTCCCTCCTCTCAGTTCAGTCT...\n",
       "2     TATTCATTCCAACTGCTGCCCCTCTGTCTGCCTGGCTGAGATGCAT...\n",
       "3     AACGGTGCGTTTGGCCAAAAAGAATCTGCATTTAGCACAAAAAAAA...\n",
       "4     TAGTTTCTAACTGTCGGACCCGTCTGTAAACCAAGGACTATGAATA...\n",
       "...                                                 ...\n",
       "1809  AGCAAGCATTGAAAATAATAGTTATTGCATACCAATCCTTGTTTGC...\n",
       "1810  AGCAAGCATTGAAAATAATAGTTATTGCATACCAATCCTTGTTTGC...\n",
       "1811  GCCTACTTCATCTCAGGACCCGCCCAAGAGTGGCCGCGGCTTTGGG...\n",
       "1812  TTGTCAGTCTGTCTGCTCAGGACACAAGAACTAAGGGGCAACAAAT...\n",
       "1813  CTTTATAGTGGCACAAACGCTTCAGAGACACACAATTATAAGAGAC...\n",
       "\n",
       "[1814 rows x 1 columns]"
      ]
     },
     "execution_count": 9,
     "metadata": {},
     "output_type": "execute_result"
    }
   ],
   "source": [
    "file_path = 'test_df.pickle'\n",
    "if os.path.exists(file_path):\n",
    "    with open(file_path, 'rb') as f:\n",
    "        train_df = pickle.load(f)\n",
    "else:\n",
    "    # load the fasta file and select the train data\n",
    "    fasta_file = \"../../../test/Homo_sapiens_3prime_UTR.fa\"\n",
    "    sequences = []\n",
    "    for s in SeqIO.parse(fasta_file, \"fasta\"):\n",
    "        sequences.append(str(s.seq).upper())\n",
    "    # get the train fraction\n",
    "    val_fraction = 0.1\n",
    "    N_train = int(len(sequences)*(1-val_fraction))\n",
    "    test_data = sequences[N_train:]\n",
    "    # store it as a dataframe\n",
    "    test_df = pd.DataFrame({'3-UTR':test_data})\n",
    "    with open(file_path, 'wb') as f:\n",
    "        pickle.dump(test_df, f)\n",
    "test_df"
   ]
  },
  {
   "cell_type": "code",
   "execution_count": 10,
   "metadata": {
    "colab": {
     "base_uri": "https://localhost:8080/",
     "height": 423
    },
    "id": "fmffSnZkfqSw",
    "outputId": "5934c70e-252c-4aba-ed39-334efce50f57"
   },
   "outputs": [
    {
     "data": {
      "text/html": [
       "<div>\n",
       "<style scoped>\n",
       "    .dataframe tbody tr th:only-of-type {\n",
       "        vertical-align: middle;\n",
       "    }\n",
       "\n",
       "    .dataframe tbody tr th {\n",
       "        vertical-align: top;\n",
       "    }\n",
       "\n",
       "    .dataframe thead th {\n",
       "        text-align: right;\n",
       "    }\n",
       "</style>\n",
       "<table border=\"1\" class=\"dataframe\">\n",
       "  <thead>\n",
       "    <tr style=\"text-align: right;\">\n",
       "      <th></th>\n",
       "      <th>3-UTR</th>\n",
       "    </tr>\n",
       "  </thead>\n",
       "  <tbody>\n",
       "    <tr>\n",
       "      <th>0</th>\n",
       "      <td>ATCTTATATAACTGTGAGATTAATCTCAGATAATGACACAAAATAT...</td>\n",
       "    </tr>\n",
       "    <tr>\n",
       "      <th>1</th>\n",
       "      <td>GGTTGCCGGGGGTAGGGGTGGGGCCACACAAATCTCCAGGAGCCAC...</td>\n",
       "    </tr>\n",
       "    <tr>\n",
       "      <th>2</th>\n",
       "      <td>GGCAGCCCATCTGGGGGGCCTGTAGGGGCTGCCGGGCTGGTGGCCA...</td>\n",
       "    </tr>\n",
       "    <tr>\n",
       "      <th>3</th>\n",
       "      <td>CCCACCTACCACCAGAGGCCTGCAGCCTCCCACATGCCTTAAGGGG...</td>\n",
       "    </tr>\n",
       "    <tr>\n",
       "      <th>4</th>\n",
       "      <td>TGGCCGCGGTGAGGTGGGTTCTCAGGACCACCCTCGCCAAGCTCCA...</td>\n",
       "    </tr>\n",
       "    <tr>\n",
       "      <th>...</th>\n",
       "      <td>...</td>\n",
       "    </tr>\n",
       "    <tr>\n",
       "      <th>16315</th>\n",
       "      <td>CCGTATGAAGATGTCCTGTTAAATTTACAACACTAACGATGTAGAC...</td>\n",
       "    </tr>\n",
       "    <tr>\n",
       "      <th>16316</th>\n",
       "      <td>ACACACCCCCGAAAAACACAAGACCGACCCAAAATCTAGAGGAAAG...</td>\n",
       "    </tr>\n",
       "    <tr>\n",
       "      <th>16317</th>\n",
       "      <td>AGAAGCTAAAAGGAAAGAAAATAAATCTATCAAAATTACCCTAAAC...</td>\n",
       "    </tr>\n",
       "    <tr>\n",
       "      <th>16318</th>\n",
       "      <td>CTTCACTTTTGGGCTCAAGGACTGTGTGAACCAACAAGGGGCCAGT...</td>\n",
       "    </tr>\n",
       "    <tr>\n",
       "      <th>16319</th>\n",
       "      <td>TAGACAATGAGCTGCGAAAAGACTCCTGGTTCCCCTGTTGATTTGT...</td>\n",
       "    </tr>\n",
       "  </tbody>\n",
       "</table>\n",
       "<p>16320 rows × 1 columns</p>\n",
       "</div>"
      ],
      "text/plain": [
       "                                                   3-UTR\n",
       "0      ATCTTATATAACTGTGAGATTAATCTCAGATAATGACACAAAATAT...\n",
       "1      GGTTGCCGGGGGTAGGGGTGGGGCCACACAAATCTCCAGGAGCCAC...\n",
       "2      GGCAGCCCATCTGGGGGGCCTGTAGGGGCTGCCGGGCTGGTGGCCA...\n",
       "3      CCCACCTACCACCAGAGGCCTGCAGCCTCCCACATGCCTTAAGGGG...\n",
       "4      TGGCCGCGGTGAGGTGGGTTCTCAGGACCACCCTCGCCAAGCTCCA...\n",
       "...                                                  ...\n",
       "16315  CCGTATGAAGATGTCCTGTTAAATTTACAACACTAACGATGTAGAC...\n",
       "16316  ACACACCCCCGAAAAACACAAGACCGACCCAAAATCTAGAGGAAAG...\n",
       "16317  AGAAGCTAAAAGGAAAGAAAATAAATCTATCAAAATTACCCTAAAC...\n",
       "16318  CTTCACTTTTGGGCTCAAGGACTGTGTGAACCAACAAGGGGCCAGT...\n",
       "16319  TAGACAATGAGCTGCGAAAAGACTCCTGGTTCCCCTGTTGATTTGT...\n",
       "\n",
       "[16320 rows x 1 columns]"
      ]
     },
     "execution_count": 10,
     "metadata": {},
     "output_type": "execute_result"
    }
   ],
   "source": [
    "file_path = 'train_df.pickle'\n",
    "if os.path.exists(file_path):\n",
    "    with open(file_path, 'rb') as f:\n",
    "        train_df = pickle.load(f)\n",
    "else:\n",
    "    # load the fasta file and select the train data\n",
    "    fasta_file = \"../../../test/Homo_sapiens_3prime_UTR.fa\"\n",
    "    sequences = []\n",
    "    for s in SeqIO.parse(fasta_file, \"fasta\"):\n",
    "        sequences.append(str(s.seq).upper())\n",
    "    # get the train fraction\n",
    "    val_fraction = 0.1\n",
    "    N_train = int(len(sequences)*(1-val_fraction))\n",
    "    train_data = sequences[:N_train]\n",
    "    # store it as a dataframe\n",
    "    train_df = pd.DataFrame({'3-UTR':train_data})\n",
    "    with open(file_path, 'wb') as f:\n",
    "        pickle.dump(train_df, f)\n",
    "train_df"
   ]
  },
  {
   "cell_type": "code",
   "execution_count": 11,
   "metadata": {
    "colab": {
     "base_uri": "https://localhost:8080/"
    },
    "id": "PR-13KWugbg5",
    "outputId": "4d3f6d40-7906-45ea-f9e5-061cb5a4232d"
   },
   "outputs": [
    {
     "name": "stderr",
     "output_type": "stream",
     "text": [
      "  0%|          | 0/16320 [00:00<?, ?it/s]100%|██████████| 16320/16320 [01:05<00:00, 250.06it/s]\n"
     ]
    }
   ],
   "source": [
    "file_path = 'kmer_train.pickle'\n",
    "if os.path.exists(file_path):\n",
    "    with open(file_path, 'rb') as f:\n",
    "        kmer_train = pickle.load(f)\n",
    "else:\n",
    "    # get the frequency counts of all motifs till 11mer\n",
    "    kmer_train = KmerCountNew(2,pseudocount=0.1)\n",
    "    kmer_train.compute_counts(train_df['3-UTR'])\n",
    "    kmer_train.kmer_counts_dict\n",
    "\n",
    "    # save dictionary pickle file\n",
    "    with open('kmer_train.pickle', 'wb') as f:\n",
    "        pickle.dump(kmer_train, f)"
   ]
  },
  {
   "cell_type": "code",
   "execution_count": null,
   "metadata": {},
   "outputs": [],
   "source": []
  },
  {
   "cell_type": "code",
   "execution_count": 13,
   "metadata": {
    "id": "zCB_kARvtzKl"
   },
   "outputs": [],
   "source": [
    "dinuc_dist = np.array([[[0.26743808301046024,0.21973121381119634, 0.22301393749003728, 0.2898167656883061],\n",
    "        [0.        , 0.        , 0.        , 0.        ],\n",
    "        [0.        , 0.        , 0.        , 0.        ],\n",
    "        [0.        , 0.        , 0.        , 0.        ]],\n",
    "\n",
    "       [[0.2968737832744875, 0.18507058520226632, 0.26581813454136444,0.26581813454136444],\n",
    "        [0.32053421022722217, 0.2803858410399341, 0.0554500543745703, 0.34362989435827346],\n",
    "        [0.26000757243673117, 0.2138329457921364, 0.26097487205728753, 0.24694501885793302],\n",
    "        [0.20207800866762973, 0.20690293271757126, 0.27748861612369985, 0.3135304424910991]]])"
   ]
  },
  {
   "cell_type": "code",
   "execution_count": 14,
   "metadata": {
    "id": "c6ujG9KfR9YC"
   },
   "outputs": [],
   "source": [
    "chain = MarkovChainNew(kmer_train, dinuc_dist)"
   ]
  },
  {
   "cell_type": "code",
   "execution_count": 15,
   "metadata": {
    "colab": {
     "base_uri": "https://localhost:8080/"
    },
    "id": "4eZqho3GSQN_",
    "outputId": "c45130a3-39df-4b20-baf4-f8fb5c490f31"
   },
   "outputs": [
    {
     "data": {
      "text/plain": [
       "array([[[0.26743808, 0.21973121, 0.22301394, 0.28981677],\n",
       "        [0.        , 0.        , 0.        , 0.        ],\n",
       "        [0.        , 0.        , 0.        , 0.        ],\n",
       "        [0.        , 0.        , 0.        , 0.        ]],\n",
       "\n",
       "       [[0.29687378, 0.18507059, 0.26581813, 0.26581813],\n",
       "        [0.32053421, 0.28038584, 0.05545005, 0.34362989],\n",
       "        [0.26000757, 0.21383295, 0.26097487, 0.24694502],\n",
       "        [0.20207801, 0.20690293, 0.27748862, 0.31353044]]])"
      ]
     },
     "execution_count": 15,
     "metadata": {},
     "output_type": "execute_result"
    }
   ],
   "source": [
    "chain.markov_matrix"
   ]
  },
  {
   "cell_type": "code",
   "execution_count": 16,
   "metadata": {
    "colab": {
     "base_uri": "https://localhost:8080/"
    },
    "id": "ZwhJlh8mUcgM",
    "outputId": "9558b16f-27ff-4f27-8a8c-1f3dcc4d952e"
   },
   "outputs": [
    {
     "data": {
      "text/plain": [
       "array([[0.26743808, 0.21973121, 0.22301394, 0.28981677],\n",
       "       [0.29687378, 0.18507059, 0.26581813, 0.26581813],\n",
       "       [0.29687378, 0.18507059, 0.26581813, 0.26581813],\n",
       "       [0.29687378, 0.18507059, 0.26581813, 0.26581813],\n",
       "       [0.32053421, 0.28038584, 0.05545005, 0.34362989]])"
      ]
     },
     "execution_count": 16,
     "metadata": {},
     "output_type": "execute_result"
    }
   ],
   "source": [
    "chain.impute_for_seq(\"AAACT\", 1)"
   ]
  },
  {
   "cell_type": "code",
   "execution_count": 17,
   "metadata": {
    "id": "_LEJKkAugzF8"
   },
   "outputs": [],
   "source": [
    "markov_model = MarkovModelNew(\n",
    "    kmer_train,\n",
    "    markov_matrix_path=\"markov_model.npy\",\n",
    "    order=1,\n",
    "    bidirectional=False,\n",
    "    test_df_path='test_df.pickle',\n",
    "    dinuc_dist = dinuc_dist)"
   ]
  },
  {
   "cell_type": "code",
   "execution_count": 18,
   "metadata": {
    "id": "IiUmjmZcg3b1"
   },
   "outputs": [],
   "source": [
    "markov_model.test()"
   ]
  },
  {
   "cell_type": "code",
   "execution_count": 27,
   "metadata": {
    "id": "j2tttZdnW-U7"
   },
   "outputs": [],
   "source": [
    "!cp -r \"/content/prbs.pt\" \"/content/drive/MyDrive/MLRG2023\""
   ]
  }
 ],
 "metadata": {
  "accelerator": "GPU",
  "colab": {
   "gpuType": "T4",
   "provenance": []
  },
  "kernelspec": {
   "display_name": "Python [conda env:miniconda3-svilov-mlm]",
   "language": "python",
   "name": "conda-env-miniconda3-svilov-mlm-py"
  },
  "language_info": {
   "codemirror_mode": {
    "name": "ipython",
    "version": 3
   },
   "file_extension": ".py",
   "mimetype": "text/x-python",
   "name": "python",
   "nbconvert_exporter": "python",
   "pygments_lexer": "ipython3",
   "version": "3.9.16"
  }
 },
 "nbformat": 4,
 "nbformat_minor": 4
}
