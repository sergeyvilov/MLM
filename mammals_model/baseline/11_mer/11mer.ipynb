{
 "cells": [
  {
   "cell_type": "markdown",
   "metadata": {},
   "source": [
    "# 11-mer\n",
    "The goal of this notebook is to reproduce the 11-mer model.\n",
    "While investigating the plotting notebook in the original repository it was found that the 11-mer model actually is the best markov model. In the config file for the best markov model in the results folder it can be seen, that it is a bidirectional markov model of order 5.\n",
    "\n",
    "In this notebook no splitting of the data wil be performed, ie. the whole dataset will be used for training and testing."
   ]
  },
  {
   "cell_type": "markdown",
   "metadata": {},
   "source": [
    "```\n",
    "CONFIG\n",
    "├── datamodule\n",
    "│   └── _target_: src.datamodules.motif_datamodule.MotifDataModule                                                                         \n",
    "│       _recursive_: false                                                                                                                 \n",
    "│       dataset:                                                                                                                           \n",
    "│         _target_: src.datamodules.dna_datasets.CSVDataset                                                                                \n",
    "│       data:                                                                                                                              \n",
    "│         train_file: /s/project/semi_supervised_multispecies/all_fungi_reference/fungi/Annotation/Sequences/AAA_Concatenated/Scer_half_lif\n",
    "│         test_file: /s/project/semi_supervised_multispecies/all_fungi_reference/fungi/Annotation/Sequences/AAA_Concatenated/Scer_half_life\n",
    "│         seq_position: UTR3_seq                                                                                                           \n",
    "│       transforms:                                                                                                                        \n",
    "│         _target_: src.datamodules.sequence_encoders.SequenceDataEncoder                                                                  \n",
    "│         seq_len: 300                                                                                                                     \n",
    "│         total_len: 303                                                                                                                   \n",
    "│         mask_rate: 0.1                                                                                                                   \n",
    "│       test_transforms:                                                                                                                   \n",
    "│         _target_: src.datamodules.sequence_encoders.RollingMasker                                                                        \n",
    "│         mask_stride: 50                                                                                                                  \n",
    "│         frame: 0                                                                                                                         \n",
    "│       batched_dataset: true                                                                                                              \n",
    "│       batch_size: 1                                                                                                                      \n",
    "│       train_val_test_split:                                                                                                              \n",
    "│       - 55000                                                                                                                            \n",
    "│       - 5000                                                                                                                             \n",
    "│       - 10000                                                                                                                            \n",
    "│       num_workers: 16                                                                                                                    \n",
    "│       pin_memory: true                                                                                                                   \n",
    "│       persistent_workers: true                                                                                                           \n",
    "│                                                                                                                                          \n",
    "├── model\n",
    "│   └── _target_: src.models.baseline.markov_model.MarkovModel                                                                             \n",
    "│       halflife_df_path: /s/project/semi_supervised_multispecies/all_fungi_reference/fungi/Annotation/Sequences/AAA_Concatenated/Scer_half\n",
    "│       markov_matrix_path: /s/project/semi_supervised_multispecies/Downstream/NearestNeighbour/markov_bimatrix_all.npy                    \n",
    "│       order: 5                                                                                                                           \n",
    "│       bidirectional: true                                                                                                                \n",
    "│                                                                                                                                          \n",
    "├── callbacks\n",
    "│   └── {}                                                                                                                                 \n",
    "│                                                                                                                                          \n",
    "├── trainer\n",
    "│   └── _target_: pytorch_lightning.Trainer                                                                                                \n",
    "│       gpus: 1                                                                                                                            \n",
    "│       min_epochs: 1                                                                                                                      \n",
    "│       max_epochs: 50                                                                                                                     \n",
    "│       resume_from_checkpoint: null                                                                                                       \n",
    "│                                                                                                                                          \n",
    "├── original_work_dir\n",
    "│   └── /data/nasif12/home_if12/gankin/motif-modeling                                                                                      \n",
    "├── data_dir\n",
    "│   └── /s/project/semi_supervised_multispecies/all_fungi_reference/fungi/Annotation/Sequences/AAA_Concatenated/                           \n",
    "├── print_config\n",
    "│   └── True                                                                                                                               \n",
    "├── ignore_warnings\n",
    "│   └── True                                                                                                                               \n",
    "├── seed\n",
    "│   └── None                                                                                                                               \n",
    "├── name\n",
    "│   └── default                                                                                                                            \n",
    "├── ckpt_path\n",
    "│   └── /s/project/semi_supervised_multispecies/dgbackup/outputs/outputs/2022-11-10/12-29-46/motif-training/3vvsocva/checkpoints/epoch=49-s\n",
    "├── base_ssm\n",
    "│   └── /s/project/semi_supervised_multispecies/dgbackup/outputs/outputs/2022-07-29/15-54-24/motif-training/3dvk81nk/checkpoints/epoch=49-s\n",
    "├── base_ssm_frame\n",
    "│   └── /s/project/semi_supervised_multispecies/dgbackup/outputs/outputs/2022-07-30/19-35-37/motif-training/1iqkna36/checkpoints/epoch=49-s\n",
    "├── spec_sacc_schizzo_out\n",
    "│   └── /s/project/semi_supervised_multispecies/dgbackup/outputs/outputs/2022-10-15/14-51-12/motif-training/1yesuk16/checkpoints/epoch=49-s\n",
    "├── spec_on_all\n",
    "│   └── /s/project/semi_supervised_multispecies/dgbackup/outputs/outputs/2022-11-03/22-02-00/motif-training/20p1vu1v/checkpoints/epoch=49-s\n",
    "└── spec_sacc_out\n",
    "    └── /s/project/semi_supervised_multispecies/dgbackup/outputs/outputs/2022-11-10/12-29-46/motif-training/3vvsocva/checkpoints/epoch=49-s\n",
    "```"
   ]
  },
  {
   "cell_type": "markdown",
   "metadata": {},
   "source": [
    "# Imports"
   ]
  },
  {
   "cell_type": "code",
   "execution_count": 1,
   "metadata": {},
   "outputs": [],
   "source": [
    "%load_ext autoreload\n",
    "%autoreload 2\n",
    "\n",
    "import sys, os\n",
    "sys.path.insert(0, '../..')\n",
    "\n",
    "import gc\n",
    "import pysam\n",
    "import pandas as pd\n",
    "import re\n",
    "import torch\n",
    "from torch.utils.data import DataLoader, Dataset\n",
    "import matplotlib.pyplot as plt\n",
    "import numpy as np\n",
    "\n",
    "\n",
    "import helpers.train_eval as train_eval    #train and evaluation\n",
    "import helpers.misc as misc                #miscellaneous functions\n",
    "\n",
    "import encoding_utils.sequence_encoders as sequence_encoders\n",
    "import encoding_utils.sequence_utils as sequence_utils\n",
    "from models.spec_dss import DSSResNet, DSSResNetEmb, SpecAdd\n",
    "from models.baseline.markov_model import *\n",
    "\n",
    "from Bio import SeqIO"
   ]
  },
  {
   "cell_type": "markdown",
   "metadata": {},
   "source": [
    "# Data"
   ]
  },
  {
   "cell_type": "code",
   "execution_count": 3,
   "metadata": {},
   "outputs": [
    {
     "data": {
      "text/html": [
       "<div>\n",
       "<style scoped>\n",
       "    .dataframe tbody tr th:only-of-type {\n",
       "        vertical-align: middle;\n",
       "    }\n",
       "\n",
       "    .dataframe tbody tr th {\n",
       "        vertical-align: top;\n",
       "    }\n",
       "\n",
       "    .dataframe thead th {\n",
       "        text-align: right;\n",
       "    }\n",
       "</style>\n",
       "<table border=\"1\" class=\"dataframe\">\n",
       "  <thead>\n",
       "    <tr style=\"text-align: right;\">\n",
       "      <th></th>\n",
       "      <th>3-UTR</th>\n",
       "    </tr>\n",
       "  </thead>\n",
       "  <tbody>\n",
       "    <tr>\n",
       "      <th>0</th>\n",
       "      <td>ATCTTATATAACTGTGAGATTAATCTCAGATAATGACACAAAATAT...</td>\n",
       "    </tr>\n",
       "    <tr>\n",
       "      <th>1</th>\n",
       "      <td>GGTTGCCGGGGGTAGGGGTGGGGCCACACAAATCTCCAGGAGCCAC...</td>\n",
       "    </tr>\n",
       "    <tr>\n",
       "      <th>2</th>\n",
       "      <td>GGCAGCCCATCTGGGGGGCCTGTAGGGGCTGCCGGGCTGGTGGCCA...</td>\n",
       "    </tr>\n",
       "    <tr>\n",
       "      <th>3</th>\n",
       "      <td>CCCACCTACCACCAGAGGCCTGCAGCCTCCCACATGCCTTAAGGGG...</td>\n",
       "    </tr>\n",
       "    <tr>\n",
       "      <th>4</th>\n",
       "      <td>TGGCCGCGGTGAGGTGGGTTCTCAGGACCACCCTCGCCAAGCTCCA...</td>\n",
       "    </tr>\n",
       "    <tr>\n",
       "      <th>...</th>\n",
       "      <td>...</td>\n",
       "    </tr>\n",
       "    <tr>\n",
       "      <th>16315</th>\n",
       "      <td>CCGTATGAAGATGTCCTGTTAAATTTACAACACTAACGATGTAGAC...</td>\n",
       "    </tr>\n",
       "    <tr>\n",
       "      <th>16316</th>\n",
       "      <td>ACACACCCCCGAAAAACACAAGACCGACCCAAAATCTAGAGGAAAG...</td>\n",
       "    </tr>\n",
       "    <tr>\n",
       "      <th>16317</th>\n",
       "      <td>AGAAGCTAAAAGGAAAGAAAATAAATCTATCAAAATTACCCTAAAC...</td>\n",
       "    </tr>\n",
       "    <tr>\n",
       "      <th>16318</th>\n",
       "      <td>CTTCACTTTTGGGCTCAAGGACTGTGTGAACCAACAAGGGGCCAGT...</td>\n",
       "    </tr>\n",
       "    <tr>\n",
       "      <th>16319</th>\n",
       "      <td>TAGACAATGAGCTGCGAAAAGACTCCTGGTTCCCCTGTTGATTTGT...</td>\n",
       "    </tr>\n",
       "  </tbody>\n",
       "</table>\n",
       "<p>16320 rows × 1 columns</p>\n",
       "</div>"
      ],
      "text/plain": [
       "                                                   3-UTR\n",
       "0      ATCTTATATAACTGTGAGATTAATCTCAGATAATGACACAAAATAT...\n",
       "1      GGTTGCCGGGGGTAGGGGTGGGGCCACACAAATCTCCAGGAGCCAC...\n",
       "2      GGCAGCCCATCTGGGGGGCCTGTAGGGGCTGCCGGGCTGGTGGCCA...\n",
       "3      CCCACCTACCACCAGAGGCCTGCAGCCTCCCACATGCCTTAAGGGG...\n",
       "4      TGGCCGCGGTGAGGTGGGTTCTCAGGACCACCCTCGCCAAGCTCCA...\n",
       "...                                                  ...\n",
       "16315  CCGTATGAAGATGTCCTGTTAAATTTACAACACTAACGATGTAGAC...\n",
       "16316  ACACACCCCCGAAAAACACAAGACCGACCCAAAATCTAGAGGAAAG...\n",
       "16317  AGAAGCTAAAAGGAAAGAAAATAAATCTATCAAAATTACCCTAAAC...\n",
       "16318  CTTCACTTTTGGGCTCAAGGACTGTGTGAACCAACAAGGGGCCAGT...\n",
       "16319  TAGACAATGAGCTGCGAAAAGACTCCTGGTTCCCCTGTTGATTTGT...\n",
       "\n",
       "[16320 rows x 1 columns]"
      ]
     },
     "execution_count": 3,
     "metadata": {},
     "output_type": "execute_result"
    }
   ],
   "source": [
    "# load the train data if it exists\n",
    "file_path = 'train_df.pickle'\n",
    "if os.path.exists(file_path):\n",
    "    with open(file_path, 'rb') as f:\n",
    "        train_df = pickle.load(f)\n",
    "else:\n",
    "    # load the fasta file and select the train data\n",
    "    fasta_file = \"../../../test/Homo_sapiens_3prime_UTR.fa\"\n",
    "    sequences = []\n",
    "    for s in SeqIO.parse(fasta_file, \"fasta\"):\n",
    "        sequences.append(str(s.seq).upper())\n",
    "    # get the train fraction\n",
    "    val_fraction = 0.1\n",
    "    N_train = int(len(sequences)*(1-val_fraction))\n",
    "    train_data = sequences[:N_train]\n",
    "    # store it as a dataframe\n",
    "    train_df = pd.DataFrame({'3-UTR':train_data})\n",
    "    with open(file_path, 'wb') as f:\n",
    "        pickle.dump(train_df, f)\n",
    "train_df"
   ]
  },
  {
   "cell_type": "code",
   "execution_count": 4,
   "metadata": {},
   "outputs": [
    {
     "data": {
      "text/html": [
       "<div>\n",
       "<style scoped>\n",
       "    .dataframe tbody tr th:only-of-type {\n",
       "        vertical-align: middle;\n",
       "    }\n",
       "\n",
       "    .dataframe tbody tr th {\n",
       "        vertical-align: top;\n",
       "    }\n",
       "\n",
       "    .dataframe thead th {\n",
       "        text-align: right;\n",
       "    }\n",
       "</style>\n",
       "<table border=\"1\" class=\"dataframe\">\n",
       "  <thead>\n",
       "    <tr style=\"text-align: right;\">\n",
       "      <th></th>\n",
       "      <th>3-UTR</th>\n",
       "    </tr>\n",
       "  </thead>\n",
       "  <tbody>\n",
       "    <tr>\n",
       "      <th>0</th>\n",
       "      <td>CCCCCAGAACCAGTGGGACAAACTGCCTCCTGGAGGTTTTTAGAAA...</td>\n",
       "    </tr>\n",
       "    <tr>\n",
       "      <th>1</th>\n",
       "      <td>TATTGAGCCCTCAGAGAGTCCACAGTCCCTCCTCTCAGTTCAGTCT...</td>\n",
       "    </tr>\n",
       "    <tr>\n",
       "      <th>2</th>\n",
       "      <td>TATTCATTCCAACTGCTGCCCCTCTGTCTGCCTGGCTGAGATGCAT...</td>\n",
       "    </tr>\n",
       "    <tr>\n",
       "      <th>3</th>\n",
       "      <td>AACGGTGCGTTTGGCCAAAAAGAATCTGCATTTAGCACAAAAAAAA...</td>\n",
       "    </tr>\n",
       "    <tr>\n",
       "      <th>4</th>\n",
       "      <td>TAGTTTCTAACTGTCGGACCCGTCTGTAAACCAAGGACTATGAATA...</td>\n",
       "    </tr>\n",
       "    <tr>\n",
       "      <th>...</th>\n",
       "      <td>...</td>\n",
       "    </tr>\n",
       "    <tr>\n",
       "      <th>1809</th>\n",
       "      <td>AGCAAGCATTGAAAATAATAGTTATTGCATACCAATCCTTGTTTGC...</td>\n",
       "    </tr>\n",
       "    <tr>\n",
       "      <th>1810</th>\n",
       "      <td>AGCAAGCATTGAAAATAATAGTTATTGCATACCAATCCTTGTTTGC...</td>\n",
       "    </tr>\n",
       "    <tr>\n",
       "      <th>1811</th>\n",
       "      <td>GCCTACTTCATCTCAGGACCCGCCCAAGAGTGGCCGCGGCTTTGGG...</td>\n",
       "    </tr>\n",
       "    <tr>\n",
       "      <th>1812</th>\n",
       "      <td>TTGTCAGTCTGTCTGCTCAGGACACAAGAACTAAGGGGCAACAAAT...</td>\n",
       "    </tr>\n",
       "    <tr>\n",
       "      <th>1813</th>\n",
       "      <td>CTTTATAGTGGCACAAACGCTTCAGAGACACACAATTATAAGAGAC...</td>\n",
       "    </tr>\n",
       "  </tbody>\n",
       "</table>\n",
       "<p>1814 rows × 1 columns</p>\n",
       "</div>"
      ],
      "text/plain": [
       "                                                  3-UTR\n",
       "0     CCCCCAGAACCAGTGGGACAAACTGCCTCCTGGAGGTTTTTAGAAA...\n",
       "1     TATTGAGCCCTCAGAGAGTCCACAGTCCCTCCTCTCAGTTCAGTCT...\n",
       "2     TATTCATTCCAACTGCTGCCCCTCTGTCTGCCTGGCTGAGATGCAT...\n",
       "3     AACGGTGCGTTTGGCCAAAAAGAATCTGCATTTAGCACAAAAAAAA...\n",
       "4     TAGTTTCTAACTGTCGGACCCGTCTGTAAACCAAGGACTATGAATA...\n",
       "...                                                 ...\n",
       "1809  AGCAAGCATTGAAAATAATAGTTATTGCATACCAATCCTTGTTTGC...\n",
       "1810  AGCAAGCATTGAAAATAATAGTTATTGCATACCAATCCTTGTTTGC...\n",
       "1811  GCCTACTTCATCTCAGGACCCGCCCAAGAGTGGCCGCGGCTTTGGG...\n",
       "1812  TTGTCAGTCTGTCTGCTCAGGACACAAGAACTAAGGGGCAACAAAT...\n",
       "1813  CTTTATAGTGGCACAAACGCTTCAGAGACACACAATTATAAGAGAC...\n",
       "\n",
       "[1814 rows x 1 columns]"
      ]
     },
     "execution_count": 4,
     "metadata": {},
     "output_type": "execute_result"
    }
   ],
   "source": [
    "# load the test data if it exists\n",
    "file_path = 'test_df.pickle'\n",
    "if os.path.exists(file_path):\n",
    "    with open(file_path, 'rb') as f:\n",
    "        test_df = pickle.load(f)\n",
    "else:\n",
    "    # load the fasta file and select the train data\n",
    "    fasta_file = \"../../../test/Homo_sapiens_3prime_UTR.fa\"\n",
    "    sequences = []\n",
    "    for s in SeqIO.parse(fasta_file, \"fasta\"):\n",
    "        sequences.append(str(s.seq).upper())\n",
    "    # get the train fraction\n",
    "    val_fraction = 0.1\n",
    "    N_train = int(len(sequences)*(1-val_fraction))\n",
    "    test_data = sequences[N_train:]\n",
    "    # store it as a dataframe\n",
    "    test_df = pd.DataFrame({'3-UTR':test_data})\n",
    "    with open(file_path, 'wb') as f:\n",
    "        pickle.dump(test_df, f)\n",
    "test_df"
   ]
  },
  {
   "cell_type": "code",
   "execution_count": 8,
   "metadata": {},
   "outputs": [
    {
     "name": "stdout",
     "output_type": "stream",
     "text": [
      "{'fixed_length': 5, 'exclude_random': [('A1CF', 'AATTA', 0), ('BOLL', 'TTTTT', 1), ('CELF1', 'TATGT', 2), ('CNOT4', 'ACACA', 3), ('DAZAP1', 'ATATA', 4), ('EIF4G2', 'GTTGC', 5), ('ESRP1', 'GGGGG', 6), ('FUBP3', 'TATAT', 7), ('HNRNPA0', 'TATAG', 8), ('HNRNPD', 'TATTA', 9), ('HNRNPDL', 'TAATT', 10), ('HNRNPK', 'GCCCA', 11), ('KHDRBS2', 'ATAAA', 12), ('KHSRP', 'TGTAT', 13), ('MBNL1', 'CGCTT', 14), ('MSI1', 'TAGTT', 15), ('NOVA1', 'TTCAT', 16), ('NUPL2', 'AAAAA', 17), ('PCBP1', 'GCCCC', 18), ('PCBP2', 'CCCCC', 19), ('PCBP4', 'ATCCC', 20), ('PRR3', 'ATAAG', 21), ('PTBP3', 'TTTCT', 22), ('RBFOX2', 'GCATG', 23), ('RBM22', 'ACCGG', 24), ('RBM24', 'GTGTG', 25), ('RBM4', 'GCGCG', 26), ('RBM41', 'TACTT', 27), ('RBM45', 'ACGCA', 28), ('RBM47', 'AATCA', 29), ('RBM6', 'CGTCC', 30), ('RC3H1', 'ATATT', 31), ('SF1', 'TAACA', 32), ('SFPQ', 'TGTAA', 33), ('SNRPA', 'TGCAC', 34), ('SRSF10', 'AGCAG', 35), ('SRSF11', 'AGGGG', 36), ('SRSF8', 'GCAGC', 37), ('SRSF9', 'AGGAG', 38), ('TARDBP', 'GTATG', 39), ('TRA2A', 'GAAGA', 40), ('UNK', 'TTAGT', 41), ('ZCRB1', 'TTAAT', 42), ('ZFP36', 'TATTT', 43), ('ZNF326', 'GGATG', 44), ('CELF1', 'TTTGT', 45), ('CNOT4', 'ACAGA', 46), ('CPEB1', 'TTTTA', 47), ('EIF4G2', 'GCGAG', 48), ('ELAVL4', 'TTATT', 49), ('ESRP1', 'GGTGG', 50), ('HNRNPA0', 'ATTAG', 51), ('HNRNPC', 'ATTTT', 52), ('HNRNPDL', 'TAATA', 53), ('HNRNPK', 'CACGC', 54), ('HNRNPL', 'ACATA', 55), ('IGF2BP1', 'ATACA', 56), ('IGF2BP2', 'CAACA', 57), ('KHDRBS2', 'TTAAA', 58), ('KHSRP', 'TGTTT', 59), ('MBNL1', 'GCTGC', 60), ('NUPL2', 'AAAAG', 61), ('PABPN1L', 'AAAAT', 62), ('PCBP2', 'CCCCA', 63), ('PCBP4', 'TTCCC', 64), ('PTBP3', 'TCTTT', 65), ('RALY', 'TTCTT', 66), ('RBFOX2', 'GCACG', 67), ('RBM22', 'TCCGG', 68), ('RBM23', 'CCTCC', 69), ('RBM24', 'GTGTT', 70), ('RBM25', 'GGGGC', 71), ('RBM4', 'GCGCA', 72), ('RBM41', 'TACAT', 73), ('RBM4B', 'CGCGG', 74), ('RBM6', 'GTCCC', 75), ('RC3H1', 'TTATA', 76), ('SF1', 'TAACC', 77), ('SFPQ', 'GTAAG', 78), ('SNRPA', 'GCACA', 79), ('SRSF8', 'GCAGT', 80), ('SRSF9', 'AGGAA', 81), ('TRA2A', 'AAGAA', 82), ('ZCRB1', 'ATTAA', 83), ('ZNF326', 'GATCG', 84), ('CELF1', 'TGTGT', 85), ('DAZAP1', 'TATAA', 86), ('EIF4G2', 'CGCCG', 87), ('ESRP1', 'GGGGT', 88), ('EWSR1', 'GGGTG', 89), ('FUBP3', 'TTTAT', 90), ('HNRNPA0', 'TTTAG', 91), ('HNRNPA2B1', 'GGGTA', 92), ('HNRNPDL', 'TAAAT', 93), ('HNRNPF', 'TGGGG', 94), ('IGF2BP1', 'CATCA', 95), ('KHDRBS3', 'TAAAA', 96), ('MBNL1', 'CGCGC', 97), ('PRR3', 'ATGAG', 98), ('PTBP3', 'CTATC', 99), ('PUF60', 'TCTCT', 100), ('PUM1', 'TGTAC', 101), ('RBM22', 'TACCG', 102), ('RBM4', 'GCGTA', 103), ('RBM41', 'TACGT', 104), ('RBM47', 'ATAAT', 105), ('RBM4B', 'GCGGG', 106), ('RBM6', 'TCCAC', 107), ('SFPQ', 'TAGTG', 108), ('SNRPA', 'AGCAC', 109), ('SRSF10', 'CAGCA', 110), ('SRSF11', 'AGGGA', 111), ('SRSF2', 'TGCAG', 112), ('SRSF5', 'GCGCC', 113), ('TARDBP', 'GAATG', 114), ('TRNAU1AP', 'ATTTA', 115), ('ZCRB1', 'TTTAA', 116), ('ZNF326', 'CGGAC', 117), ('CELF1', 'TGTCT', 118), ('CNOT4', 'ACAGT', 119), ('DAZAP1', 'ATAGT', 120), ('EIF4G2', 'GGTCG', 121), ('EWSR1', 'AGGTG', 122), ('FUBP3', 'ATTAT', 123), ('HNRNPF', 'GGGAG', 124), ('MBNL1', 'TGCTT', 125), ('RALY', 'CTTTT', 126), ('RBM4', 'GCGTG', 127), ('RBM47', 'AAATT', 128), ('SFPQ', 'GTAAT', 129), ('SNRPA', 'CGCAC', 130), ('SRSF11', 'AGAGG', 131), ('SRSF2', 'TCCAG', 132), ('SRSF9', 'TGGAG', 133), ('TARDBP', 'GAGTG', 134), ('ZCRB1', 'CTTAA', 135), ('ZNF326', 'ATTCC', 136), ('CNOT4', 'CACAG', 137), ('HNRNPF', 'AGGGT', 138), ('PTBP3', 'CTTCT', 139), ('RBM4', 'CGCGT', 140), ('RBM6', 'ATCCA', 141), ('SFPQ', 'AGTAA', 142), ('SRSF9', 'GGGAA', 143), ('ZNF326', 'GGACG', 144), ('CNOT4', 'ACAGC', 145), ('MBNL1', 'CGCTA', 146), ('PTBP3', 'TCTAT', 147), ('RBM25', 'GGGGA', 148), ('RBM4', 'GCGCT', 149), ('RBM6', 'CCACC', 150), ('ZNF326', 'GGGAC', 151), ('RBM4', 'TGCGT', 152), ('SRSF8', 'GCCGC', 153)]}\n"
     ]
    }
   ],
   "source": [
    "sequences = list(test_df[\"3-UTR\"])\n",
    "with open(\"../../data/exclude_motifs.pickle\", \"rb\") as f:\n",
    "    config = pickle.load(f)\n",
    "print(config)\n"
   ]
  },
  {
   "cell_type": "markdown",
   "metadata": {},
   "source": [
    "# Model"
   ]
  },
  {
   "cell_type": "code",
   "execution_count": 7,
   "metadata": {},
   "outputs": [
    {
     "name": "stderr",
     "output_type": "stream",
     "text": [
      "100%|██████████| 16320/16320 [06:56<00:00, 39.15it/s] \n"
     ]
    }
   ],
   "source": [
    "# training here refers to calculating the 11mer frequencies\n",
    "file_path = 'kmer_train.pickle'\n",
    "if os.path.exists(file_path):\n",
    "    with open(file_path, 'rb') as f:\n",
    "        kmer_train = pickle.load(f)\n",
    "else: \n",
    "    # get the frequency counts of all motifs till 11mer\n",
    "    kmer_train = KmerCount(11,pseudocount=0.1)\n",
    "    kmer_train.compute_counts(train_df['3-UTR'])\n",
    "    kmer_train.kmer_counts_dict\n",
    "\n",
    "    # save dictionary pickle file\n",
    "    with open('kmer_train.pickle', 'wb') as f:\n",
    "        pickle.dump(kmer_train, f)"
   ]
  },
  {
   "cell_type": "code",
   "execution_count": 8,
   "metadata": {},
   "outputs": [],
   "source": [
    "# initialize a bidirectional markov model of order 5\n",
    "markov_model = MarkovModel(\n",
    "    kmer_train,\n",
    "    markov_matrix_path=\"markov_model.npy\",\n",
    "    order=5,\n",
    "    bidirectional=True,\n",
    "    test_df_path='test_df.pickle'\n",
    ")"
   ]
  },
  {
   "cell_type": "code",
   "execution_count": 9,
   "metadata": {},
   "outputs": [
    {
     "name": "stderr",
     "output_type": "stream",
     "text": [
      "/home/lukas/Projects/ML4RG-2023-project/results/11mer/../../models/baseline/markov_model.py:154: RuntimeWarning: invalid value encountered in divide\n",
      "  self.markov_matrix[order,:,:] = self.markov_matrix[order,:,:]/np.sum(self.markov_matrix[order,:,:],axis=1)[:,np.newaxis]\n"
     ]
    }
   ],
   "source": [
    "# calculate the markov matrix using the 11mer counts\n",
    "markov_model.model.compile_from_counts()"
   ]
  },
  {
   "cell_type": "code",
   "execution_count": 10,
   "metadata": {},
   "outputs": [],
   "source": [
    "# generate the result files needed for plotting using the test data\n",
    "markov_model.test()"
   ]
  },
  {
   "cell_type": "code",
   "execution_count": null,
   "metadata": {},
   "outputs": [],
   "source": []
  }
 ],
 "metadata": {
  "kernelspec": {
   "display_name": "Python 3 (ipykernel)",
   "language": "python",
   "name": "python3"
  },
  "language_info": {
   "codemirror_mode": {
    "name": "ipython",
    "version": 3
   },
   "file_extension": ".py",
   "mimetype": "text/x-python",
   "name": "python",
   "nbconvert_exporter": "python",
   "pygments_lexer": "ipython3",
   "version": "3.8.13"
  },
  "vscode": {
   "interpreter": {
    "hash": "7231443d2c6613b194813e6f98d913231f722dc8bb3ac4a1397dcf3c267e4542"
   }
  }
 },
 "nbformat": 4,
 "nbformat_minor": 4
}
