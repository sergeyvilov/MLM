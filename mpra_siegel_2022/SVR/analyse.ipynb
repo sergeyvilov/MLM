{
 "cells": [
  {
   "cell_type": "code",
   "execution_count": 1,
   "id": "675d33de-ab99-477c-940c-fa2631fe7212",
   "metadata": {
    "tags": []
   },
   "outputs": [],
   "source": [
    "import numpy as np\n",
    "import pandas as pd\n",
    "import scipy\n",
    "import sklearn.metrics\n",
    "import os\n",
    "\n",
    "import matplotlib.pyplot as plt\n",
    "import matplotlib as mpl\n",
    "import seaborn as sns\n",
    "\n",
    "from scipy import stats\n",
    "import statsmodels.stats.multicomp as mc\n",
    "\n",
    "from statannotations.Annotator import Annotator"
   ]
  },
  {
   "cell_type": "code",
   "execution_count": 2,
   "id": "82c157d3-f18c-4f89-8adf-69f06cbcf277",
   "metadata": {
    "tags": []
   },
   "outputs": [],
   "source": [
    "mpl.rcParams.update({'xtick.labelsize': 14, 'ytick.labelsize': 14, \n",
    "                     'axes.titlesize':14, 'axes.labelsize':16}) #default font sizes for plots"
   ]
  },
  {
   "cell_type": "markdown",
   "id": "c73a321e-15a2-45ca-843d-4ef3f738dcd8",
   "metadata": {},
   "source": [
    "# Auxiliary functions"
   ]
  },
  {
   "cell_type": "code",
   "execution_count": 7,
   "id": "f0898be5-7d4e-40ca-967a-013f9cfba159",
   "metadata": {
    "tags": []
   },
   "outputs": [],
   "source": [
    "def compute_score(df):\n",
    "    return scipy.stats.pearsonr(df.y_true,df.y_pred)[0]\n",
    "\n",
    "def get_best_models(df, alpha=0.05):\n",
    "    \n",
    "    error = (df.y_true-df.y_pred)**2 #squared residuals  \n",
    "\n",
    "    comp1 = mc.MultiComparison(error, df['model'])\n",
    "    tbl, a1, a2 = comp1.allpairtest(stats.wilcoxon, method= \"bonf\") #Wilcoxon test with Bonferroni correction\n",
    "\n",
    "    models_stats = pd.DataFrame(a2).set_index(['group1','group2']) #see if the difference between pairs of models is significant\n",
    "    \n",
    "    #we ignore default Bonferroni correction as it is for wrong number of pairs in the study\n",
    "    models_stats.reject = models_stats.pval<alpha\n",
    "\n",
    "    per_model_scores = df.groupby('model').apply(compute_score).sort_values(ascending=False) #compute score based on all predictions for a given model\n",
    "\n",
    "    sorted_models = per_model_scores.keys() #get models ranking list, scoring in descending order\n",
    "\n",
    "    best_models = [sorted_models[0]] #always include best model\n",
    "\n",
    "    #loop over the list and add models until the difference between current and subsequent models is significant\n",
    "    for model_idx in range(len(sorted_models)-1):\n",
    "\n",
    "        #two keys are possible for a given pair of models\n",
    "        idx_2models = (sorted_models[model_idx], sorted_models[model_idx+1]) \n",
    "        idx_2models_swap = (sorted_models[model_idx+1], sorted_models[model_idx])\n",
    "\n",
    "        if ((idx_2models in models_stats.index and models_stats.loc[idx_2models].reject==False) \n",
    "                or (idx_2models_swap in models_stats.index and models_stats.loc[idx_2models_swap].reject==False)):\n",
    "                    best_models.append(sorted_models[model_idx+1])\n",
    "        else:\n",
    "            #as soon as significant difference is detected, dont add models to the best models list\n",
    "            break\n",
    "            \n",
    "    return best_models\n",
    "\n",
    "def highlight_ns(x, best_models):\n",
    "    #make the best model and models with insignificant difference with the best model bold\n",
    "    cell_type, response = x.name\n",
    "    return ['font-weight: bold' if model in best_models[(cell_type,response)] else ''\n",
    "                for model in x.index]"
   ]
  },
  {
   "cell_type": "markdown",
   "id": "e430f7c8-7cd0-4194-8bf7-26c19cc0efa1",
   "metadata": {},
   "source": [
    "# Collect predictions"
   ]
  },
  {
   "cell_type": "code",
   "execution_count": 8,
   "id": "c6b77ddf-2b51-4a9f-ace6-d16c65a03fc9",
   "metadata": {
    "tags": []
   },
   "outputs": [],
   "source": [
    "data_dir = '/s/project/mll/sergey/effect_prediction/MLM/siegel_2022/SVR/'"
   ]
  },
  {
   "cell_type": "code",
   "execution_count": 9,
   "id": "ba0d9e61-0bcf-4d8b-ba1b-6af7f5a88922",
   "metadata": {
    "tags": []
   },
   "outputs": [],
   "source": [
    "models = ['MLM','4mers','5mers','word2vec','effective_length']"
   ]
  },
  {
   "cell_type": "code",
   "execution_count": 10,
   "id": "eb820876-4815-409b-b40d-90bbc8979907",
   "metadata": {},
   "outputs": [],
   "source": [
    "res = {}\n",
    "\n",
    "for response in ('stability', 'steady_state'):\n",
    "    for cell_type in ('Jurkat', 'Beas2B'):\n",
    "        res[(response,cell_type)] = []\n",
    "        for model in models:\n",
    "            res_tsv = data_dir + f'{cell_type}-{response}-{model}.tsv'\n",
    "            if os.path.isfile(res_tsv):\n",
    "                df = pd.read_csv(res_tsv, sep='\\t', skiprows=1, usecols=[2,7,8,36,38,39],names=['ids','iscontrol','parent_control_oligo','y_true','chrom','y_pred'])\n",
    "                df['model'] = model\n",
    "                res[(response,cell_type)].append(df)\n",
    "        if len(res[(response,cell_type)])>0:\n",
    "            res[(response,cell_type)] = pd.concat(res[(response,cell_type)])"
   ]
  },
  {
   "cell_type": "markdown",
   "id": "cdb0255f-9780-42e4-8eca-39e3b0327c55",
   "metadata": {},
   "source": [
    "# Visualize per fold scores"
   ]
  },
  {
   "cell_type": "code",
   "execution_count": 11,
   "id": "6a0bb4e2-a130-4ab7-bc89-2a1092b063dc",
   "metadata": {
    "tags": []
   },
   "outputs": [],
   "source": [
    "per_fold_scores = res[('stability','Jurkat')].groupby(['model','chrom']).apply(compute_score).rename('score')"
   ]
  },
  {
   "cell_type": "code",
   "execution_count": 12,
   "id": "790ca27d-bd42-4d7c-8d3c-6d826cfd51bb",
   "metadata": {
    "tags": []
   },
   "outputs": [],
   "source": [
    "per_fold_scores = per_fold_scores.reset_index().sort_values(by=['model','chrom'])"
   ]
  },
  {
   "cell_type": "code",
   "execution_count": 13,
   "id": "11d34644-508e-432f-b1e1-64ac648ce1ba",
   "metadata": {
    "tags": []
   },
   "outputs": [
    {
     "name": "stdout",
     "output_type": "stream",
     "text": [
      "p-value annotation legend:\n",
      "      ns: p <= 1.00e+00\n",
      "       *: 1.00e-02 < p <= 5.00e-02\n",
      "      **: 1.00e-03 < p <= 1.00e-02\n",
      "     ***: 1.00e-04 < p <= 1.00e-03\n",
      "    ****: p <= 1.00e-04\n",
      "\n",
      "MLM vs. 4mers: Wilcoxon test (paired samples) with Benjamini-Hochberg correction, P_val:4.530e-06 Stat=7.000e+00\n",
      "MLM vs. 5mers: Wilcoxon test (paired samples) with Benjamini-Hochberg correction, P_val:1.192e-06 Stat=3.000e+00\n",
      "MLM vs. word2vec: Wilcoxon test (paired samples) with Benjamini-Hochberg correction, P_val:5.517e-04 Stat=3.100e+01\n",
      "MLM vs. effective_length: Wilcoxon test (paired samples) with Benjamini-Hochberg correction, P_val:5.625e-02 Stat=7.500e+01\n"
     ]
    },
    {
     "data": {
      "image/png": "[encoded data removed]",
      "text/plain": [
       "<Figure size 400x400 with 1 Axes>"
      ]
     },
     "metadata": {},
     "output_type": "display_data"
    }
   ],
   "source": [
    "fig, ax = plt.subplots(figsize=(4,4))\n",
    "\n",
    "ax = sns.swarmplot(data=per_fold_scores, x=\"model\", y=\"score\", order=models, ) #scatter plot\n",
    "ax = sns.boxplot(data=per_fold_scores, x=\"model\", y=\"score\", order=models, boxprops={'facecolor':'None'})\n",
    "\n",
    "box_pairs=[ ('MLM', '4mers'), ('MLM', '5mers'),('MLM', 'word2vec'),('MLM', 'effective_length')]\n",
    "\n",
    "annotator = Annotator(ax, box_pairs, data=per_fold_scores, x=\"model\", y=\"score\", order=models)\n",
    "annotator.configure(test='Wilcoxon', text_format='star', loc='inside', comparisons_correction=\"BH\")\n",
    "#annotator.configure(test='t-test_paired', text_format='star', loc='inside', comparisons_correction=\"BH\")\n",
    "\n",
    "annotator.apply_and_annotate()\n",
    "\n",
    "ax.set_xlabel(\"\")\n",
    "ax.set_ylabel(\"score\")\n",
    "ax.tick_params(rotation=30)\n",
    "ax.grid()"
   ]
  },
  {
   "cell_type": "markdown",
   "id": "a94c3ead-7e46-4560-8393-ec5f7b0df7da",
   "metadata": {},
   "source": [
    "# Stability and Steady state prediction"
   ]
  },
  {
   "cell_type": "code",
   "execution_count": 14,
   "id": "1d9172f3-beb1-4cbc-80a5-58af28b553a2",
   "metadata": {
    "tags": []
   },
   "outputs": [
    {
     "data": {
      "text/html": [
       "<style type=\"text/css\">\n",
       "#T_c9d1a_row0_col0, #T_c9d1a_row0_col2, #T_c9d1a_row0_col3, #T_c9d1a_row1_col0, #T_c9d1a_row1_col1, #T_c9d1a_row1_col3, #T_c9d1a_row2_col0, #T_c9d1a_row2_col1, #T_c9d1a_row2_col3, #T_c9d1a_row3_col0, #T_c9d1a_row3_col1, #T_c9d1a_row3_col3, #T_c9d1a_row4_col3 {\n",
       "  font-weight: bold;\n",
       "}\n",
       "</style>\n",
       "<table id=\"T_c9d1a\">\n",
       "  <thead>\n",
       "    <tr>\n",
       "      <th class=\"blank level0\" >&nbsp;</th>\n",
       "      <th id=\"T_c9d1a_level0_col0\" class=\"col_heading level0 col0\" colspan=\"2\">Jurkat</th>\n",
       "      <th id=\"T_c9d1a_level0_col2\" class=\"col_heading level0 col2\" colspan=\"2\">Beas2B</th>\n",
       "    </tr>\n",
       "    <tr>\n",
       "      <th class=\"blank level1\" >&nbsp;</th>\n",
       "      <th id=\"T_c9d1a_level1_col0\" class=\"col_heading level1 col0\" >steady_state</th>\n",
       "      <th id=\"T_c9d1a_level1_col1\" class=\"col_heading level1 col1\" >stability</th>\n",
       "      <th id=\"T_c9d1a_level1_col2\" class=\"col_heading level1 col2\" >steady_state</th>\n",
       "      <th id=\"T_c9d1a_level1_col3\" class=\"col_heading level1 col3\" >stability</th>\n",
       "    </tr>\n",
       "    <tr>\n",
       "      <th class=\"index_name level0\" >model</th>\n",
       "      <th class=\"blank col0\" >&nbsp;</th>\n",
       "      <th class=\"blank col1\" >&nbsp;</th>\n",
       "      <th class=\"blank col2\" >&nbsp;</th>\n",
       "      <th class=\"blank col3\" >&nbsp;</th>\n",
       "    </tr>\n",
       "  </thead>\n",
       "  <tbody>\n",
       "    <tr>\n",
       "      <th id=\"T_c9d1a_level0_row0\" class=\"row_heading level0 row0\" >MLM</th>\n",
       "      <td id=\"T_c9d1a_row0_col0\" class=\"data row0 col0\" >0.22</td>\n",
       "      <td id=\"T_c9d1a_row0_col1\" class=\"data row0 col1\" >0.36</td>\n",
       "      <td id=\"T_c9d1a_row0_col2\" class=\"data row0 col2\" >0.32</td>\n",
       "      <td id=\"T_c9d1a_row0_col3\" class=\"data row0 col3\" >0.48</td>\n",
       "    </tr>\n",
       "    <tr>\n",
       "      <th id=\"T_c9d1a_level0_row1\" class=\"row_heading level0 row1\" >4mers</th>\n",
       "      <td id=\"T_c9d1a_row1_col0\" class=\"data row1 col0\" >0.21</td>\n",
       "      <td id=\"T_c9d1a_row1_col1\" class=\"data row1 col1\" >0.44</td>\n",
       "      <td id=\"T_c9d1a_row1_col2\" class=\"data row1 col2\" >0.22</td>\n",
       "      <td id=\"T_c9d1a_row1_col3\" class=\"data row1 col3\" >0.48</td>\n",
       "    </tr>\n",
       "    <tr>\n",
       "      <th id=\"T_c9d1a_level0_row2\" class=\"row_heading level0 row2\" >5mers</th>\n",
       "      <td id=\"T_c9d1a_row2_col0\" class=\"data row2 col0\" >0.20</td>\n",
       "      <td id=\"T_c9d1a_row2_col1\" class=\"data row2 col1\" >0.45</td>\n",
       "      <td id=\"T_c9d1a_row2_col2\" class=\"data row2 col2\" >0.20</td>\n",
       "      <td id=\"T_c9d1a_row2_col3\" class=\"data row2 col3\" >0.49</td>\n",
       "    </tr>\n",
       "    <tr>\n",
       "      <th id=\"T_c9d1a_level0_row3\" class=\"row_heading level0 row3\" >word2vec</th>\n",
       "      <td id=\"T_c9d1a_row3_col0\" class=\"data row3 col0\" >0.19</td>\n",
       "      <td id=\"T_c9d1a_row3_col1\" class=\"data row3 col1\" >0.42</td>\n",
       "      <td id=\"T_c9d1a_row3_col2\" class=\"data row3 col2\" >0.24</td>\n",
       "      <td id=\"T_c9d1a_row3_col3\" class=\"data row3 col3\" >0.44</td>\n",
       "    </tr>\n",
       "    <tr>\n",
       "      <th id=\"T_c9d1a_level0_row4\" class=\"row_heading level0 row4\" >effective_length</th>\n",
       "      <td id=\"T_c9d1a_row4_col0\" class=\"data row4 col0\" >0.11</td>\n",
       "      <td id=\"T_c9d1a_row4_col1\" class=\"data row4 col1\" >0.34</td>\n",
       "      <td id=\"T_c9d1a_row4_col2\" class=\"data row4 col2\" >0.23</td>\n",
       "      <td id=\"T_c9d1a_row4_col3\" class=\"data row4 col3\" >0.47</td>\n",
       "    </tr>\n",
       "  </tbody>\n",
       "</table>\n"
      ],
      "text/plain": [
       "<pandas.io.formats.style.Styler at 0x150aca377d50>"
      ]
     },
     "execution_count": 14,
     "metadata": {},
     "output_type": "execute_result"
    }
   ],
   "source": [
    "preds_res = {}\n",
    "best_models = {}\n",
    "\n",
    "alpha = 0.05/(5*2*2) #significance level with Bonferroni correction (5 models x 2 cell types x 2 response types)\n",
    "\n",
    "for cell_type in ('Jurkat', 'Beas2B'):\n",
    "    \n",
    "    for response in ('steady_state','stability'):\n",
    "        \n",
    "        #per_fold_scores = res[(response,cell_type)].groupby(\n",
    "        #    ['model','chrom']).apply(compute_score).rename('score').reset_index()\n",
    "        \n",
    "        #preds_res[(cell_type,response)] = per_fold_scores.groupby('model').score.mean()\n",
    "        \n",
    "        preds_res[(cell_type,response)] = res[(response,cell_type)].groupby('model').apply(compute_score)\n",
    "        best_models[(cell_type,response)] = get_best_models(res[(response,cell_type)], alpha=alpha)\n",
    "        \n",
    "preds_res = pd.DataFrame(preds_res).applymap(lambda x:f'{x:.2f}')\n",
    "\n",
    "preds_res.loc[models].round(2).style.apply(lambda x: highlight_ns(x, best_models))"
   ]
  },
  {
   "cell_type": "markdown",
   "id": "5c861565-4113-43b4-8201-8f556f751623",
   "metadata": {},
   "source": [
    "# Differential expression"
   ]
  },
  {
   "cell_type": "markdown",
   "id": "8d997331-b784-42ec-a769-bdfd11881be6",
   "metadata": {},
   "source": [
    "'To predict the effect of mutations, we simply subtract the18\n",
    "predicted expression or decay time of the wild-type from the19\n",
    "predicted expression or decay time of the mutant; we do not20\n",
    "train and test on the difference data directly.'\n",
    "\n",
    "see Siegel, David A., et al. \"Massively parallel analysis of human 3′ UTRs reveals that AU-rich element length and registration predict mRNA destabilization.\" G3 12.1 (2022): jkab404.\n",
    "\n",
    "Rabani, Michal, et al. \"A massively parallel reporter assay of 3′ UTR sequences identifies in vivo rules for mRNA degradation.\" Molecular cell 68.6 (2017): 1083-1094."
   ]
  },
  {
   "cell_type": "code",
   "execution_count": 93,
   "id": "97f116e6-1738-4c1c-bf98-645102bcea01",
   "metadata": {
    "tags": []
   },
   "outputs": [
    {
     "data": {
      "text/html": [
       "<style type=\"text/css\">\n",
       "#T_e5b32_row0_col0, #T_e5b32_row0_col1, #T_e5b32_row0_col2, #T_e5b32_row0_col3, #T_e5b32_row1_col0, #T_e5b32_row1_col1, #T_e5b32_row1_col2, #T_e5b32_row1_col3, #T_e5b32_row2_col0, #T_e5b32_row2_col1, #T_e5b32_row2_col2, #T_e5b32_row2_col3, #T_e5b32_row3_col0, #T_e5b32_row3_col1, #T_e5b32_row3_col2, #T_e5b32_row3_col3, #T_e5b32_row4_col0, #T_e5b32_row4_col1, #T_e5b32_row4_col2, #T_e5b32_row4_col3 {\n",
       "  font-weight: bold;\n",
       "}\n",
       "</style>\n",
       "<table id=\"T_e5b32\">\n",
       "  <thead>\n",
       "    <tr>\n",
       "      <th class=\"blank level0\" >&nbsp;</th>\n",
       "      <th id=\"T_e5b32_level0_col0\" class=\"col_heading level0 col0\" colspan=\"2\">Jurkat</th>\n",
       "      <th id=\"T_e5b32_level0_col2\" class=\"col_heading level0 col2\" colspan=\"2\">Beas2B</th>\n",
       "    </tr>\n",
       "    <tr>\n",
       "      <th class=\"blank level1\" >&nbsp;</th>\n",
       "      <th id=\"T_e5b32_level1_col0\" class=\"col_heading level1 col0\" >steady_state</th>\n",
       "      <th id=\"T_e5b32_level1_col1\" class=\"col_heading level1 col1\" >stability</th>\n",
       "      <th id=\"T_e5b32_level1_col2\" class=\"col_heading level1 col2\" >steady_state</th>\n",
       "      <th id=\"T_e5b32_level1_col3\" class=\"col_heading level1 col3\" >stability</th>\n",
       "    </tr>\n",
       "    <tr>\n",
       "      <th class=\"index_name level0\" >model</th>\n",
       "      <th class=\"blank col0\" >&nbsp;</th>\n",
       "      <th class=\"blank col1\" >&nbsp;</th>\n",
       "      <th class=\"blank col2\" >&nbsp;</th>\n",
       "      <th class=\"blank col3\" >&nbsp;</th>\n",
       "    </tr>\n",
       "  </thead>\n",
       "  <tbody>\n",
       "    <tr>\n",
       "      <th id=\"T_e5b32_level0_row0\" class=\"row_heading level0 row0\" >MLM</th>\n",
       "      <td id=\"T_e5b32_row0_col0\" class=\"data row0 col0\" >0.02</td>\n",
       "      <td id=\"T_e5b32_row0_col1\" class=\"data row0 col1\" >0.09</td>\n",
       "      <td id=\"T_e5b32_row0_col2\" class=\"data row0 col2\" >0.10</td>\n",
       "      <td id=\"T_e5b32_row0_col3\" class=\"data row0 col3\" >0.28</td>\n",
       "    </tr>\n",
       "    <tr>\n",
       "      <th id=\"T_e5b32_level0_row1\" class=\"row_heading level0 row1\" >4mers</th>\n",
       "      <td id=\"T_e5b32_row1_col0\" class=\"data row1 col0\" >0.03</td>\n",
       "      <td id=\"T_e5b32_row1_col1\" class=\"data row1 col1\" >0.07</td>\n",
       "      <td id=\"T_e5b32_row1_col2\" class=\"data row1 col2\" >0.03</td>\n",
       "      <td id=\"T_e5b32_row1_col3\" class=\"data row1 col3\" >0.19</td>\n",
       "    </tr>\n",
       "    <tr>\n",
       "      <th id=\"T_e5b32_level0_row2\" class=\"row_heading level0 row2\" >5mers</th>\n",
       "      <td id=\"T_e5b32_row2_col0\" class=\"data row2 col0\" >0.02</td>\n",
       "      <td id=\"T_e5b32_row2_col1\" class=\"data row2 col1\" >0.10</td>\n",
       "      <td id=\"T_e5b32_row2_col2\" class=\"data row2 col2\" >0.01</td>\n",
       "      <td id=\"T_e5b32_row2_col3\" class=\"data row2 col3\" >0.21</td>\n",
       "    </tr>\n",
       "    <tr>\n",
       "      <th id=\"T_e5b32_level0_row3\" class=\"row_heading level0 row3\" >word2vec</th>\n",
       "      <td id=\"T_e5b32_row3_col0\" class=\"data row3 col0\" >0.03</td>\n",
       "      <td id=\"T_e5b32_row3_col1\" class=\"data row3 col1\" >0.07</td>\n",
       "      <td id=\"T_e5b32_row3_col2\" class=\"data row3 col2\" >0.04</td>\n",
       "      <td id=\"T_e5b32_row3_col3\" class=\"data row3 col3\" >0.22</td>\n",
       "    </tr>\n",
       "    <tr>\n",
       "      <th id=\"T_e5b32_level0_row4\" class=\"row_heading level0 row4\" >effective_length</th>\n",
       "      <td id=\"T_e5b32_row4_col0\" class=\"data row4 col0\" >0.07</td>\n",
       "      <td id=\"T_e5b32_row4_col1\" class=\"data row4 col1\" >0.11</td>\n",
       "      <td id=\"T_e5b32_row4_col2\" class=\"data row4 col2\" >0.06</td>\n",
       "      <td id=\"T_e5b32_row4_col3\" class=\"data row4 col3\" >0.28</td>\n",
       "    </tr>\n",
       "  </tbody>\n",
       "</table>\n"
      ],
      "text/plain": [
       "<pandas.io.formats.style.Styler at 0x14aaa660e710>"
      ]
     },
     "execution_count": 93,
     "metadata": {},
     "output_type": "execute_result"
    }
   ],
   "source": [
    "preds_res = {}\n",
    "best_models = {}\n",
    "\n",
    "alpha = 0.05/(5*2*2) #significance level with Bonferroni correction (5 models x 2 cell types x 2 response types)\n",
    "\n",
    "for cell_type in ('Jurkat', 'Beas2B'):\n",
    "    \n",
    "    for response in ('steady_state','stability'):\n",
    "        \n",
    "        df = res[(response,cell_type)]\n",
    "\n",
    "        ref_df = df[df.iscontrol==1]\n",
    "        alt_df = df[df.iscontrol==0]\n",
    "\n",
    "        delta_df = alt_df.merge(ref_df, on =['parent_control_oligo','model'], suffixes=('_alt','_ref'))\n",
    "\n",
    "        delta_df['y_true'] = delta_df.y_true_alt - delta_df.y_true_ref\n",
    "        delta_df['y_pred'] = delta_df.y_pred_alt - delta_df.y_pred_ref\n",
    "\n",
    "        delta_df = delta_df[~delta_df.y_true.isna()]\n",
    "\n",
    "        preds_res[(cell_type,response)] = delta_df.groupby('model').apply(compute_score)\n",
    "        best_models[(cell_type,response)] = get_best_models(delta_df, alpha=alpha)\n",
    "\n",
    "preds_res = pd.DataFrame(preds_res).applymap(lambda x:f'{x:.2f}')\n",
    "preds_res.loc[models].round(2).style.apply(lambda x: highlight_ns(x, best_models))"
   ]
  },
  {
   "cell_type": "code",
   "execution_count": null,
   "id": "410c5d00-8d34-497d-b0a8-4066fe43424d",
   "metadata": {},
   "outputs": [],
   "source": []
  }
 ],
 "metadata": {
  "kernelspec": {
   "display_name": "Python [conda env:miniconda3-svilov-python]",
   "language": "python",
   "name": "conda-env-miniconda3-svilov-python-py"
  },
  "language_info": {
   "codemirror_mode": {
    "name": "ipython",
    "version": 3
   },
   "file_extension": ".py",
   "mimetype": "text/x-python",
   "name": "python",
   "nbconvert_exporter": "python",
   "pygments_lexer": "ipython3",
   "version": "3.11.4"
  }
 },
 "nbformat": 4,
 "nbformat_minor": 5
}
