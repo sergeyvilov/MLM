{
 "cells": [
  {
   "cell_type": "code",
   "execution_count": 1,
   "id": "c20d5284-43a5-4c57-9006-828f0883a2b7",
   "metadata": {
    "tags": []
   },
   "outputs": [
    {
     "name": "stderr",
     "output_type": "stream",
     "text": [
      "Intel(R) Extension for Scikit-learn* enabled (https://github.com/intel/scikit-learn-intelex)\n"
     ]
    }
   ],
   "source": [
    "import numpy as np\n",
    "import pandas as pd\n",
    "\n",
    "import os\n",
    "import sys\n",
    "\n",
    "from sklearnex import patch_sklearn\n",
    "patch_sklearn()\n",
    "\n",
    "import sklearn\n",
    "\n",
    "import sklearn.pipeline \n",
    "import sklearn.model_selection\n",
    "import sklearn.metrics\n",
    "import sklearn.linear_model\n",
    "\n",
    "from sklearn.preprocessing import StandardScaler\n",
    "\n",
    "import optuna\n",
    "\n",
    "sys.path.append(\"/data/ouga/home/ag_gagneur/l_vilov/workspace/species-aware-DNA-LM/mpra_griesemer/utils\") \n",
    "\n",
    "from models import *\n",
    "from misc import dotdict\n",
    "\n",
    "import scipy.stats\n",
    "import pickle"
   ]
  },
  {
   "cell_type": "code",
   "execution_count": 2,
   "id": "2e82215c-3d72-4985-acbf-fd521ff920d3",
   "metadata": {
    "tags": []
   },
   "outputs": [],
   "source": [
    "data_dir = '/s/project/mll/sergey/effect_prediction/MLM/siegel_2022/'"
   ]
  },
  {
   "cell_type": "code",
   "execution_count": 18,
   "id": "62141475-833c-4454-9c27-137e8d7686f0",
   "metadata": {
    "tags": []
   },
   "outputs": [],
   "source": [
    "input_params = dotdict({})\n",
    "\n",
    "input_params.cell_type = 'Jurkat' #Beas2B or Jurkat\n",
    "input_params.response = 'stability' #response variable: steady_state or stability\n",
    "\n",
    "input_params.model = 'MLM' #embedding name, can be \"MLM\" \"word2vec\" \"griesemer\" or \"Nmers\" where N is an integer\n",
    "\n",
    "input_params.output_dir = './test' #output folder\n",
    "\n",
    "input_params.N_trials = 1000 #number of optuna trials\n",
    "input_params.keep_first = True #perform hpp search only at the first split, then use these hyperparameters\n",
    "\n",
    "input_params.N_splits = 100 #number of GroupShuffleSplits\n",
    "input_params.N_CVsplits = 5 #number of CV splits for hyperparameter search\n",
    "input_params.seed = 1 #seed fot GroupShuffleSplit"
   ]
  },
  {
   "cell_type": "code",
   "execution_count": 19,
   "id": "b876caad-6e6f-46b4-a7f4-a24323af5bac",
   "metadata": {
    "tags": []
   },
   "outputs": [],
   "source": [
    "mpra_df = pd.read_csv(data_dir + f'{input_params.cell_type}.tsv', sep='\\t') #sequence info\n",
    "\n",
    "mlm_embeddings = np.load(data_dir + \"embeddings/seq_len_5000/embeddings.npy\") #masked language model embeddings"
   ]
  },
  {
   "cell_type": "code",
   "execution_count": 20,
   "id": "de90457a-aa06-4fc6-aeeb-f4da36a750d0",
   "metadata": {
    "tags": []
   },
   "outputs": [],
   "source": [
    "#Some of the CXCL7 padding sequences have AREs -- we can account for these if desired...\n",
    "\n",
    "#cxcl7_list = ['SUPV3L1|10:70968792-70968830','TRPT1|11:63991271-63991346','ART4|12:14982266-14982303','POLE2|14:50116899-50116969','NMRAL1|16:4511716-4511779','ADPRM|17:10614462-10614520','NUP85|17:73231775-73231829','PPP1R15A|19:49379231-49379294','PQLC3|2:11300834-11300874','FASTKD1|2:170386287-170386333','TFPI|2:188343337-188343401','YBEY|21:47717549-47717616','ALG1L|3:125648118-125648193','HELQ|4:84328529-84328604','TMEM171|5:72427558-72427617','IL4|5:132018280-132018347','PCDHA11|5:140251122-140251185','PCDHA12|5:140257437-140257474','GIN1|5:102423545-102423600','HLA-DQA1|6:32610542-32610561','CCDC132|7:92905660-92905721','NAPRT|8:144656955-144657006']\n",
    "#mpra_df['CXCL7_ARE'] = mpra_df.region.apply(lambda x:x in cxcl7_list)"
   ]
  },
  {
   "cell_type": "code",
   "execution_count": 21,
   "id": "e2e898ea-18cc-4ea6-b763-607725d4771f",
   "metadata": {
    "tags": []
   },
   "outputs": [],
   "source": [
    "regions_utr_map = pd.read_csv(data_dir + 'regions_hg38/regions_3UTR_GRCh38.bed', sep='\\t',\n",
    "                             names = ['region_start','region_end','ids','utr_start','utr_end','strand']) #mapping between regions and 3'UTR coordinates\n",
    "\n",
    "regions_utr_map = regions_utr_map[(regions_utr_map.region_start>=regions_utr_map.utr_start) & \n",
    "    (regions_utr_map.region_end<=regions_utr_map.utr_end)].drop_duplicates() #region should be entirely within 3'UTR\n",
    "\n",
    "regions_utr_map = regions_utr_map.drop_duplicates(subset='ids', keep=False) #remove variants assign to multiple 3'UTR\n",
    "\n",
    "regions_utr_map['stop_codon_dist'] = regions_utr_map.apply(lambda x: x.region_end-x.utr_start \n",
    "                      if x.strand=='+' else x.utr_end - x.region_start, axis=1) #distance to the stop codon, must be below 5000 for MLM"
   ]
  },
  {
   "cell_type": "code",
   "execution_count": 22,
   "id": "49630d1c-95b2-449f-be03-2ac0a019502f",
   "metadata": {
    "tags": []
   },
   "outputs": [],
   "source": [
    "mpra_df = mpra_df.merge(regions_utr_map[['ids','stop_codon_dist']], how='left')"
   ]
  },
  {
   "cell_type": "code",
   "execution_count": 23,
   "id": "767511e2-06e5-41f6-b249-dc991c2a7e5c",
   "metadata": {
    "tags": []
   },
   "outputs": [],
   "source": [
    "if input_params.response == 'steady_state':\n",
    "    mpra_df['Expression'] = mpra_df.ratios_T0_GC_resid\n",
    "elif input_params.response == 'stability':\n",
    "    mpra_df['Expression'] = mpra_df.ratios_T4T0_GC_resid"
   ]
  },
  {
   "cell_type": "code",
   "execution_count": 24,
   "id": "6b828e6c-4968-492b-9730-430440126c51",
   "metadata": {
    "tags": []
   },
   "outputs": [],
   "source": [
    "mpra_df.drop_duplicates(inplace=True)\n",
    "\n",
    "flt = (mpra_df.Expression.isna()) | (mpra_df.ARE_length_perfect.isna()) | (mpra_df.stop_codon_dist.isna()) | (mpra_df.stop_codon_dist>5000) | (~mpra_df.issnp.astype(bool))\n",
    "\n",
    "mpra_df = mpra_df[~flt]\n",
    "\n",
    "mlm_embeddings = mlm_embeddings[mpra_df.index]"
   ]
  },
  {
   "cell_type": "code",
   "execution_count": 25,
   "id": "10921255-df86-427d-a7c1-c140df67f05d",
   "metadata": {
    "tags": []
   },
   "outputs": [],
   "source": [
    "mpra_df['group'] = mpra_df.region.apply(lambda x:x.split('|')[1].split(':')[0])"
   ]
  },
  {
   "cell_type": "code",
   "execution_count": 26,
   "id": "90ca9f16-a4a4-49fd-a1a5-6a32e1b43a5a",
   "metadata": {
    "tags": []
   },
   "outputs": [],
   "source": [
    "if input_params.model=='MLM':\n",
    "\n",
    "    X = mlm_embeddings\n",
    "\n",
    "elif 'mers' in input_params.model:\n",
    "    \n",
    "    k = int(input_params.model[0])\n",
    "        \n",
    "    kmerizer = Kmerizer(k=k)\n",
    "    X = np.stack(mpra_df.seq.apply(lambda x: kmerizer.kmerize(x))) \n",
    "        \n",
    "elif input_params.model=='word2vec':\n",
    "        \n",
    "    X = word2vec_model(mpra_df)\n",
    "\n",
    "elif input_params.model=='effective_length':\n",
    "    \n",
    "    X = mpra_df.ARE_registration_perfect + mpra_df.ARE_length_perfect\n",
    "    X = np.expand_dims(X.values,1)\n",
    "\n",
    "#X = np.hstack((X,np.expand_dims(mpra_df.min_free_energy.values,axis=1)))\n",
    "\n",
    "y = mpra_df['Expression'].values\n",
    "groups = mpra_df['group'].values"
   ]
  },
  {
   "cell_type": "code",
   "execution_count": 27,
   "id": "3fc5beaf-d2ee-45ad-a40f-309609edff82",
   "metadata": {
    "tags": []
   },
   "outputs": [],
   "source": [
    "def hpp_search(X,y,groups,cv_splits = 5):\n",
    "    \n",
    "    '''\n",
    "    Perform Hyperparameter Search using OPTUNA Bayesian Optimisation strategy\n",
    "    \n",
    "    The bets hyperparameters should maximize coefficient of determination (R2)\n",
    "    \n",
    "    The hyperparameter range should first be adjused with grid search to make the BO algorithm converge in reasonable time\n",
    "    '''\n",
    "\n",
    "    def objective(trial):\n",
    "\n",
    "        C = trial.suggest_float(\"C\", 1e-2, 1, log=True)\n",
    "        epsilon = trial.suggest_float(\"epsilon\", 1e-5, 1, log=True)\n",
    "        gamma = trial.suggest_float(\"gamma\", 1e-5, 1, log=True)\n",
    "\n",
    "        clf = sklearn.svm.SVR(C=C, epsilon=epsilon, gamma=gamma)\n",
    "\n",
    "        pipe = sklearn.pipeline.make_pipeline(sklearn.preprocessing.StandardScaler(),clf)\n",
    "\n",
    "        cv_score = sklearn.model_selection.cross_val_score(pipe, X, y, groups=groups, \n",
    "                     cv = sklearn.model_selection.GroupKFold(n_splits = cv_splits), scoring = 'r2', n_jobs = -1)\n",
    "        \n",
    "        av_score = cv_score.mean()\n",
    "        \n",
    "        return av_score\n",
    "    \n",
    "    study = optuna.create_study(direction = \"maximize\")\n",
    "\n",
    "    study.optimize(objective, n_trials = input_params.N_trials)\n",
    "    \n",
    "    best_params = study.best_params\n",
    "    \n",
    "    return best_params"
   ]
  },
  {
   "cell_type": "code",
   "execution_count": null,
   "id": "3cd15461-1efb-4ad0-b8c5-f11efba5760a",
   "metadata": {
    "tags": []
   },
   "outputs": [],
   "source": [
    "#cv_res = np.zeros((input_params.N_splits,len(y))) #predictions for each point in each split\n",
    "cv_res = np.zeros((len(set(groups)),len(y))) #predictions for each point in each split\n",
    "cv_res[:] = np.NaN \n",
    "\n",
    "#cv_res_lasso = np.zeros((input_params.N_splits,len(y))) #predictions for each point in each split\n",
    "cv_res_lasso = np.zeros((len(set(groups)),len(y))) #predictions for each point in each split\n",
    "cv_res_lasso[:] = np.NaN \n",
    "\n",
    "cv_scores = [] #scores and best hyperparameters for each split\n",
    "\n",
    "#gss = sklearn.model_selection.LeaveOneGroupOut() \n",
    "\n",
    "input_params.N_splits=10\n",
    "\n",
    "gss = sklearn.model_selection.LeaveOneGroupOut() \n",
    "\n",
    "best_hpp = {'C': 0.12227907014412719, 'epsilon': 0.002017028863020407, 'gamma': 0.0017418739573905068}#MLM\n",
    "best_hpp = {'C': 0.06074046127798098, 'epsilon': 0.032758360822165884, 'gamma': 0.0005466435051403621} #5mers\n",
    "\n",
    "#best_hpp = {'alpha':1e-5}\n",
    "\n",
    "for round_idx, (train_idx, test_idx) in enumerate(gss.split(X, y, groups)):\n",
    "        \n",
    "        X_train, X_test, y_train, y_test = X[train_idx,:],X[test_idx,:],y[train_idx],y[test_idx]\n",
    "        \n",
    "        if round_idx==0 or input_params.keep_first==False:\n",
    "            #perform only ones if input_params.keep_first==True\n",
    "            best_hpp = hpp_search(X_train,y_train,groups[train_idx],cv_splits = input_params.N_CVsplits)\n",
    "        \n",
    "        pipe = sklearn.pipeline.make_pipeline(sklearn.preprocessing.StandardScaler(),\n",
    "                                              sklearn.svm.SVR(**best_hpp))\n",
    "        \n",
    "        #pipe = sklearn.pipeline.make_pipeline(sklearn.preprocessing.StandardScaler(),\n",
    "        #                                      sklearn.linear_model.Lasso(**best_hpp))\n",
    "        \n",
    "        pipe.fit(X_train,y_train)\n",
    "                    \n",
    "        y_pred = pipe.predict(X_test) \n",
    "        \n",
    "        cv_res[round_idx,test_idx] = y_pred\n",
    "        \n",
    "        group_kfold = sklearn.model_selection.GroupKFold(n_splits=input_params.N_CVsplits).split(X_train,y_train,groups[train_idx])\n",
    "        pipe_lasso = sklearn.pipeline.make_pipeline(sklearn.preprocessing.StandardScaler(), sklearn.linear_model.LassoCV(cv=group_kfold, alphas=10.**np.arange(-6,0))) \n",
    "        pipe_lasso.fit(X_train,y_train)\n",
    "        y_pred_lasso = pipe_lasso.predict(X_test)\n",
    "        \n",
    "        cv_res_lasso[round_idx,test_idx] = y_pred_lasso\n",
    "\n",
    "        cv_scores.append({'round':round_idx,\n",
    "                          'chrom':groups[test_idx][0],\n",
    "                         'r2_svr':sklearn.metrics.r2_score(y_test,y_pred),\n",
    "                         'pearson_r_svr':scipy.stats.pearsonr(y_test,y_pred)[0],\n",
    "                         'r2_lasso':sklearn.metrics.r2_score(y_test,y_pred_lasso),\n",
    "                         'pearson_r_lasso':scipy.stats.pearsonr(y_test,y_pred_lasso)[0]\n",
    "                         }|best_hpp)\n",
    "        \n",
    "cv_scores = pd.DataFrame(cv_scores)"
   ]
  },
  {
   "cell_type": "code",
   "execution_count": 492,
   "id": "0b29d75f-44b1-4f67-a00d-4c8ada975935",
   "metadata": {
    "tags": []
   },
   "outputs": [
    {
     "data": {
      "text/plain": [
       "0.2038695562423924"
      ]
     },
     "execution_count": 492,
     "metadata": {},
     "output_type": "execute_result"
    }
   ],
   "source": [
    "cv_scores.pearson_r_svr.mean()"
   ]
  },
  {
   "cell_type": "code",
   "execution_count": 426,
   "id": "026607b1-b03d-4935-bcd7-7c6b75dd7dc9",
   "metadata": {
    "tags": []
   },
   "outputs": [],
   "source": [
    "from sklearn.model_selection import cross_val_score"
   ]
  },
  {
   "cell_type": "code",
   "execution_count": 427,
   "id": "f9e63190-f4b8-4130-ba2f-47fe4d22a84f",
   "metadata": {
    "tags": []
   },
   "outputs": [],
   "source": [
    "def pearson_r(estimator, X, y):\n",
    "    y_pred = estimator.predict(X)\n",
    "    #print(estimator[1].alpha_)\n",
    "    if len(y_pred.shape) == 2:\n",
    "        y_pred = y_pred.reshape(-1)\n",
    "    return scipy.stats.pearsonr(y, y_pred)[0]"
   ]
  },
  {
   "cell_type": "code",
   "execution_count": null,
   "id": "2b661bd4-8fcf-44e3-b258-441b63151f96",
   "metadata": {
    "tags": []
   },
   "outputs": [],
   "source": [
    "pipe = sklearn.pipeline.make_pipeline(sklearn.preprocessing.StandardScaler(), sklearn.linear_model.LassoCV(cv=3, alphas=10.**np.arange(-6,0))) \n",
    "#limit runtime\n",
    "r2 = cross_val_score(pipe,X[train_idx],y[train_idx],scoring=pearson_r,\n",
    "                     cv=sklearn.model_selection.GroupKFold(n_splits=10), groups=groups[train_idx], n_jobs=-1)#.mean()"
   ]
  },
  {
   "cell_type": "code",
   "execution_count": 472,
   "id": "a414b297-c570-423a-8d94-a28d07570ae3",
   "metadata": {
    "tags": []
   },
   "outputs": [
    {
     "data": {
      "text/plain": [
       "0.496721636952289"
      ]
     },
     "execution_count": 472,
     "metadata": {},
     "output_type": "execute_result"
    }
   ],
   "source": [
    "np.mean(r2)"
   ]
  },
  {
   "cell_type": "code",
   "execution_count": null,
   "id": "cc33c8ba-5c3a-49b2-ac80-ee3598ad66d2",
   "metadata": {
    "tags": []
   },
   "outputs": [],
   "source": [
    "os.makedirs(input_params.output_dir, exist_ok=True) #make output dir\n",
    "\n",
    "cv_scores.to_csv(input_params.output_dir + '/cv_scores.tsv', sep='\\t', index=None) #save scores\n",
    "\n",
    "with open(input_params.output_dir + '/cv_res.npy', 'wb') as f:\n",
    "    np.save(f, cv_res) #save predictions at each round"
   ]
  },
  {
   "cell_type": "code",
   "execution_count": null,
   "id": "ea3b490b-5b1e-473c-82c8-7fb445c1cbb9",
   "metadata": {},
   "outputs": [],
   "source": []
  }
 ],
 "metadata": {
  "kernelspec": {
   "display_name": "Python [conda env:miniconda3-svilov-mlm]",
   "language": "python",
   "name": "conda-env-miniconda3-svilov-mlm-py"
  },
  "language_info": {
   "codemirror_mode": {
    "name": "ipython",
    "version": 3
   },
   "file_extension": ".py",
   "mimetype": "text/x-python",
   "name": "python",
   "nbconvert_exporter": "python",
   "pygments_lexer": "ipython3",
   "version": "3.9.16"
  }
 },
 "nbformat": 4,
 "nbformat_minor": 5
}
