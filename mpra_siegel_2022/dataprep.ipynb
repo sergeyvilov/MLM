{
 "cells": [
  {
   "cell_type": "markdown",
   "id": "6dbc4120-0889-46f8-9817-7d6b9b9ba2cc",
   "metadata": {},
   "source": [
    "Siegel, David A., et al. \"Massively parallel analysis of human 3′ UTRs reveals that AU-rich element length and registration predict mRNA destabilization.\" G3 12.1 (2022): jkab404."
   ]
  },
  {
   "cell_type": "code",
   "execution_count": 20,
   "id": "e5096b4c-649e-46fe-ab34-3de7727db3a3",
   "metadata": {
    "tags": []
   },
   "outputs": [],
   "source": [
    "import numpy as np\n",
    "import pandas as pd\n",
    "from textwrap import wrap"
   ]
  },
  {
   "cell_type": "code",
   "execution_count": 2,
   "id": "bf27f09b-4632-425c-aed7-eea5d459a5b5",
   "metadata": {
    "tags": []
   },
   "outputs": [],
   "source": [
    "data_dir = '/s/project/mll/sergey/effect_prediction/MLM/siegel_2022/'"
   ]
  },
  {
   "cell_type": "code",
   "execution_count": 3,
   "id": "24dcdc9c-9c69-47c1-9821-dcb39e5a9365",
   "metadata": {
    "tags": []
   },
   "outputs": [],
   "source": [
    "cell_type = 'Jurkat' #  Beas2B or Jurkat"
   ]
  },
  {
   "cell_type": "code",
   "execution_count": 4,
   "id": "74fe10ad-0a84-43ec-989b-814665dfaa13",
   "metadata": {
    "tags": []
   },
   "outputs": [],
   "source": [
    "df = pd.read_csv(data_dir + f'supl/sequence_level_data_{cell_type}.csv')"
   ]
  },
  {
   "cell_type": "code",
   "execution_count": 5,
   "id": "047ed3a4-b94e-40a6-bc92-34a130600333",
   "metadata": {
    "tags": []
   },
   "outputs": [],
   "source": [
    "df = df[~df.parent_control_oligo.isna()] #remove variants with unknown reference"
   ]
  },
  {
   "cell_type": "code",
   "execution_count": 6,
   "id": "3c67f371-afdd-4b89-ba69-80f705bda1ac",
   "metadata": {
    "tags": []
   },
   "outputs": [],
   "source": [
    "ref_df = df[df.iscontrol==1].set_index('ids') #reference id to index\n",
    "alt_df = df[df.iscontrol==0]\n",
    "\n",
    "ref_df = ref_df.loc[alt_df.parent_control_oligo].reset_index() #get the reference for each alternative\n",
    "\n",
    "#now ref_df and alt_df are of the same length"
   ]
  },
  {
   "cell_type": "code",
   "execution_count": 7,
   "id": "d1ca9872-1408-40cd-a88b-93fb8b551543",
   "metadata": {
    "tags": []
   },
   "outputs": [],
   "source": [
    "alt_df.index = range(0,len(alt_df)*2,2) #index from 0 to -1\n",
    "\n",
    "ref_df.index = range(1,1+len(ref_df)*2,2)#index from 1 to -1"
   ]
  },
  {
   "cell_type": "code",
   "execution_count": 8,
   "id": "41bc4181-1a41-4594-a1c8-fc9942fac7ed",
   "metadata": {
    "tags": []
   },
   "outputs": [],
   "source": [
    "ref_df.issnp = alt_df.issnp.values"
   ]
  },
  {
   "cell_type": "code",
   "execution_count": 9,
   "id": "eabdd0ec-7971-4dc5-879b-f41c665f85c6",
   "metadata": {
    "tags": []
   },
   "outputs": [],
   "source": [
    "df = pd.concat([alt_df,ref_df]).sort_index() #now alternative and reference sequences alternate"
   ]
  },
  {
   "cell_type": "code",
   "execution_count": 10,
   "id": "e3ddfc26-7bd0-4c77-bc16-9f2893461a8c",
   "metadata": {
    "tags": []
   },
   "outputs": [],
   "source": [
    "df.to_csv(data_dir + cell_type + '.tsv', sep='\\t', index=None)"
   ]
  },
  {
   "cell_type": "code",
   "execution_count": 21,
   "id": "005d4060-43fa-46ac-8eec-848cbaefa10f",
   "metadata": {
    "tags": []
   },
   "outputs": [],
   "source": [
    "output_fasta = data_dir + 'fasta.fa'"
   ]
  },
  {
   "cell_type": "code",
   "execution_count": 22,
   "id": "3bf52c1e-7255-4eef-ace3-0439af9b6a69",
   "metadata": {},
   "outputs": [],
   "source": [
    "#sequences are identical for both cell types\n",
    "\n",
    "with open(output_fasta, 'w') as f:\n",
    "    for seq_id, seq in enumerate(df.seq):\n",
    "        f.write(f'>id_{seq_id}:Homo_sapiens\\n')\n",
    "        for line in wrap(seq, 80): #wrap sequence with standard FASTA width\n",
    "            f.write(line+'\\n')\n",
    "\n",
    "#don't forget to index with samtools faidx!"
   ]
  },
  {
   "cell_type": "code",
   "execution_count": 24,
   "id": "2e099fb3-04fe-4685-8268-cc2661bfc5b8",
   "metadata": {
    "tags": []
   },
   "outputs": [],
   "source": [
    "!rm {data_dir}/sequences.tsv"
   ]
  },
  {
   "cell_type": "code",
   "execution_count": null,
   "id": "49b64adc-0ca2-431d-a587-7fb8ba120b1c",
   "metadata": {},
   "outputs": [],
   "source": []
  }
 ],
 "metadata": {
  "kernelspec": {
   "display_name": "Python [conda env:miniconda3-svilov-spade]",
   "language": "python",
   "name": "conda-env-miniconda3-svilov-spade-py"
  },
  "language_info": {
   "codemirror_mode": {
    "name": "ipython",
    "version": 3
   },
   "file_extension": ".py",
   "mimetype": "text/x-python",
   "name": "python",
   "nbconvert_exporter": "python",
   "pygments_lexer": "ipython3",
   "version": "3.10.9"
  }
 },
 "nbformat": 4,
 "nbformat_minor": 5
}
