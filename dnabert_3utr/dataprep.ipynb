{
 "cells": [
  {
   "cell_type": "code",
   "execution_count": 3,
   "id": "50faab0a-f6da-4093-aebc-6e7f384e646e",
   "metadata": {
    "tags": []
   },
   "outputs": [],
   "source": [
    "data_dir = '/s/project/mll/sergey/effect_prediction/MLM/'"
   ]
  },
  {
   "cell_type": "code",
   "execution_count": 4,
   "id": "a8221548-052a-48aa-a449-9be900094e54",
   "metadata": {
    "tags": []
   },
   "outputs": [],
   "source": [
    "train_fasta = data_dir + 'fasta/240_mammals/240_mammals.shuffled.fa'\n",
    "test_fasta = data_dir + 'fasta/240_mammals/species/Homo_sapiens.fa'\n",
    "\n",
    "output_dir = data_dir + 'dnabert_3utr/data/'"
   ]
  },
  {
   "cell_type": "code",
   "execution_count": null,
   "id": "5d3cee49-1fdb-4506-84ad-fd79558ba7e3",
   "metadata": {},
   "outputs": [],
   "source": [
    "print(f'output dir: {output_dir}')"
   ]
  },
  {
   "cell_type": "code",
   "execution_count": 16,
   "id": "1682b57e-9dbb-4b1e-a8e1-040fb3f33434",
   "metadata": {
    "tags": []
   },
   "outputs": [],
   "source": [
    "def kmers_stride1(seq, k=6):\n",
    "    # splits a sequence into overlapping k-mers\n",
    "    return [seq[i:i + k] for i in range(0, len(seq)-k+1)] \n",
    "\n",
    "def chunkstring(string, length):\n",
    "    # chunks a string into segments of length\n",
    "    return (string[0+i:length+i] for i in range(0, len(string), length))"
   ]
  },
  {
   "cell_type": "code",
   "execution_count": 22,
   "id": "ce8a40cb-bd1d-4905-aa11-3662fee86846",
   "metadata": {
    "tags": []
   },
   "outputs": [],
   "source": [
    "def dump_seq(seq, f_out):\n",
    "    for seq_chunk in chunkstring(seq, 510):\n",
    "        if len(seq_chunk)<5:\n",
    "            break\n",
    "        k_mers = kmers_stride1(seq_chunk)\n",
    "        seq_chunk = ' '.join(k_mers)\n",
    "        f_out.write(seq_chunk + '\\n')\n",
    "\n",
    "\n",
    "def convert_sequences(input_fasta, dnabert_txt):\n",
    "    \n",
    "    seq = ''\n",
    "    \n",
    "    c = 0\n",
    "    \n",
    "    with open(input_fasta, 'r') as f_in:\n",
    "        with open(dnabert_txt, 'w') as f_out:\n",
    "            for line in f_in:\n",
    "                if line.startswith('>'):\n",
    "                    dump_seq(seq,f_out)\n",
    "                    seq = ''\n",
    "                    c+=1\n",
    "                    if c%10000==0:\n",
    "                        print(f'{c} sequences processed')\n",
    "                else: \n",
    "                    seq += line.rstrip().upper()\n",
    "            dump_seq(seq,f_out)"
   ]
  },
  {
   "cell_type": "code",
   "execution_count": null,
   "id": "a4254e92-d81c-4ae1-a304-18610ff210e7",
   "metadata": {},
   "outputs": [],
   "source": [
    "print(f'converting test FASTA: {test_fasta}')\n",
    "\n",
    "convert_sequences(test_fasta,output_dir + 'Homo_sapiens_6kmer.txt')\n",
    "\n",
    "print(f'converting train FASTA: {train_fasta}')\n",
    "\n",
    "convert_sequences(train_fasta,output_dir + '240_species_shuffled_6kmer.txt')"
   ]
  }
 ],
 "metadata": {
  "kernelspec": {
   "display_name": "Python [conda env:miniconda3-svilov-python]",
   "language": "python",
   "name": "conda-env-miniconda3-svilov-python-py"
  },
  "language_info": {
   "codemirror_mode": {
    "name": "ipython",
    "version": 3
   },
   "file_extension": ".py",
   "mimetype": "text/x-python",
   "name": "python",
   "nbconvert_exporter": "python",
   "pygments_lexer": "ipython3",
   "version": "3.11.4"
  }
 },
 "nbformat": 4,
 "nbformat_minor": 5
}
