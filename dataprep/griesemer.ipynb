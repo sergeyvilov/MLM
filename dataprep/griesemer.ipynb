{
 "cells": [
  {
   "cell_type": "markdown",
   "id": "75561052-b25e-4db1-92cb-d0ea7a513f22",
   "metadata": {
    "tags": []
   },
   "source": [
    "Find corresponding human 3'UTR regions for each Oligo variant from Griesemer et al. paper:\n",
    "\n",
    "https://www.sciencedirect.com/science/article/pii/S0092867421009995\n",
    "\n",
    "* consider only SNPs\n",
    "* apparently, in Griesemer not only protein-coding genes were considered, so we loose some variants"
   ]
  },
  {
   "cell_type": "code",
   "execution_count": 1,
   "id": "90d58e30-2e3e-408d-ae47-f14002f02bcf",
   "metadata": {
    "tags": []
   },
   "outputs": [],
   "source": [
    "import pandas as pd\n",
    "import numpy as np"
   ]
  },
  {
   "cell_type": "code",
   "execution_count": 2,
   "id": "637d4f83-f88d-4c16-9020-ea38e9339b1b",
   "metadata": {
    "tags": []
   },
   "outputs": [],
   "source": [
    "#clean human 3'UTR, see GRCh38_3_prime_UTR_clean.ipynb\n",
    "\n",
    "human_utr_df = pd.read_csv('/s/project/mll/sergey/MLM/UTR_coords/GRCh38_3_prime_UTR_clean.bed', sep='\\t', \n",
    "                       names = ['chrom','human_UTR_start','human_UTR_end','UTR_ID',\n",
    "                               'score','strand','transcript_ID','canonical','HGNC_Symbol','UTR_len'])"
   ]
  },
  {
   "cell_type": "code",
   "execution_count": 3,
   "id": "575e3b1d-32ad-414e-8756-67a88e2aa571",
   "metadata": {
    "tags": []
   },
   "outputs": [
    {
     "data": {
      "text/html": [
       "<div>\n",
       "<style scoped>\n",
       "    .dataframe tbody tr th:only-of-type {\n",
       "        vertical-align: middle;\n",
       "    }\n",
       "\n",
       "    .dataframe tbody tr th {\n",
       "        vertical-align: top;\n",
       "    }\n",
       "\n",
       "    .dataframe thead th {\n",
       "        text-align: right;\n",
       "    }\n",
       "</style>\n",
       "<table border=\"1\" class=\"dataframe\">\n",
       "  <thead>\n",
       "    <tr style=\"text-align: right;\">\n",
       "      <th></th>\n",
       "      <th>chrom</th>\n",
       "      <th>human_UTR_start</th>\n",
       "      <th>human_UTR_end</th>\n",
       "      <th>UTR_ID</th>\n",
       "      <th>score</th>\n",
       "      <th>strand</th>\n",
       "      <th>transcript_ID</th>\n",
       "      <th>canonical</th>\n",
       "      <th>HGNC_Symbol</th>\n",
       "      <th>UTR_len</th>\n",
       "    </tr>\n",
       "  </thead>\n",
       "  <tbody>\n",
       "    <tr>\n",
       "      <th>564</th>\n",
       "      <td>chr1</td>\n",
       "      <td>70008</td>\n",
       "      <td>71585</td>\n",
       "      <td>ENST00000641515.2_utr3_2_0_chr1_70009_f</td>\n",
       "      <td>0</td>\n",
       "      <td>+</td>\n",
       "      <td>ENST00000641515</td>\n",
       "      <td>1.0</td>\n",
       "      <td>OR4F5</td>\n",
       "      <td>1577</td>\n",
       "    </tr>\n",
       "    <tr>\n",
       "      <th>565</th>\n",
       "      <td>chr1</td>\n",
       "      <td>944153</td>\n",
       "      <td>944574</td>\n",
       "      <td>ENST00000616016.5_utr3_13_0_chr1_944154_f</td>\n",
       "      <td>0</td>\n",
       "      <td>+</td>\n",
       "      <td>ENST00000616016</td>\n",
       "      <td>1.0</td>\n",
       "      <td>SAMD11</td>\n",
       "      <td>421</td>\n",
       "    </tr>\n",
       "    <tr>\n",
       "      <th>566</th>\n",
       "      <td>chr1</td>\n",
       "      <td>944202</td>\n",
       "      <td>944693</td>\n",
       "      <td>ENST00000327044.7_utr3_18_0_chr1_944203_r</td>\n",
       "      <td>0</td>\n",
       "      <td>-</td>\n",
       "      <td>ENST00000327044</td>\n",
       "      <td>1.0</td>\n",
       "      <td>NOC2L</td>\n",
       "      <td>491</td>\n",
       "    </tr>\n",
       "    <tr>\n",
       "      <th>567</th>\n",
       "      <td>chr1</td>\n",
       "      <td>965191</td>\n",
       "      <td>965719</td>\n",
       "      <td>ENST00000338591.8_utr3_11_0_chr1_965192_f</td>\n",
       "      <td>0</td>\n",
       "      <td>+</td>\n",
       "      <td>ENST00000338591</td>\n",
       "      <td>1.0</td>\n",
       "      <td>KLHL17</td>\n",
       "      <td>528</td>\n",
       "    </tr>\n",
       "    <tr>\n",
       "      <th>568</th>\n",
       "      <td>chr1</td>\n",
       "      <td>974575</td>\n",
       "      <td>975865</td>\n",
       "      <td>ENST00000379410.8_utr3_15_0_chr1_974576_f</td>\n",
       "      <td>0</td>\n",
       "      <td>+</td>\n",
       "      <td>ENST00000379410</td>\n",
       "      <td>1.0</td>\n",
       "      <td>PLEKHN1</td>\n",
       "      <td>1290</td>\n",
       "    </tr>\n",
       "  </tbody>\n",
       "</table>\n",
       "</div>"
      ],
      "text/plain": [
       "    chrom  human_UTR_start  human_UTR_end  \\\n",
       "564  chr1            70008          71585   \n",
       "565  chr1           944153         944574   \n",
       "566  chr1           944202         944693   \n",
       "567  chr1           965191         965719   \n",
       "568  chr1           974575         975865   \n",
       "\n",
       "                                        UTR_ID  score strand    transcript_ID  \\\n",
       "564    ENST00000641515.2_utr3_2_0_chr1_70009_f      0      +  ENST00000641515   \n",
       "565  ENST00000616016.5_utr3_13_0_chr1_944154_f      0      +  ENST00000616016   \n",
       "566  ENST00000327044.7_utr3_18_0_chr1_944203_r      0      -  ENST00000327044   \n",
       "567  ENST00000338591.8_utr3_11_0_chr1_965192_f      0      +  ENST00000338591   \n",
       "568  ENST00000379410.8_utr3_15_0_chr1_974576_f      0      +  ENST00000379410   \n",
       "\n",
       "     canonical HGNC_Symbol  UTR_len  \n",
       "564        1.0       OR4F5     1577  \n",
       "565        1.0      SAMD11      421  \n",
       "566        1.0       NOC2L      491  \n",
       "567        1.0      KLHL17      528  \n",
       "568        1.0     PLEKHN1     1290  "
      ]
     },
     "execution_count": 3,
     "metadata": {},
     "output_type": "execute_result"
    }
   ],
   "source": [
    "human_utr_df.sort_values(by=['chrom','human_UTR_start'], inplace=True) #IMPORTANT to use searchsorted function below\n",
    "\n",
    "human_utr_df.head()"
   ]
  },
  {
   "cell_type": "code",
   "execution_count": 9,
   "id": "28d4ba29-3701-45cb-b74f-b3bf052cbce6",
   "metadata": {
    "tags": []
   },
   "outputs": [
    {
     "data": {
      "text/html": [
       "<div>\n",
       "<style scoped>\n",
       "    .dataframe tbody tr th:only-of-type {\n",
       "        vertical-align: middle;\n",
       "    }\n",
       "\n",
       "    .dataframe tbody tr th {\n",
       "        vertical-align: top;\n",
       "    }\n",
       "\n",
       "    .dataframe thead th {\n",
       "        text-align: right;\n",
       "    }\n",
       "</style>\n",
       "<table border=\"1\" class=\"dataframe\">\n",
       "  <thead>\n",
       "    <tr style=\"text-align: right;\">\n",
       "      <th></th>\n",
       "      <th>chrom</th>\n",
       "      <th>var_start</th>\n",
       "      <th>var_end</th>\n",
       "      <th>ref</th>\n",
       "      <th>alt</th>\n",
       "      <th>mpra_variant_id</th>\n",
       "      <th>variant_id</th>\n",
       "    </tr>\n",
       "  </thead>\n",
       "  <tbody>\n",
       "    <tr>\n",
       "      <th>2</th>\n",
       "      <td>chr1</td>\n",
       "      <td>965591</td>\n",
       "      <td>965592</td>\n",
       "      <td>T</td>\n",
       "      <td>G</td>\n",
       "      <td>r</td>\n",
       "      <td>rs9697711</td>\n",
       "    </tr>\n",
       "    <tr>\n",
       "      <th>4</th>\n",
       "      <td>chr1</td>\n",
       "      <td>965642</td>\n",
       "      <td>965643</td>\n",
       "      <td>T</td>\n",
       "      <td>C</td>\n",
       "      <td>r</td>\n",
       "      <td>rs13303351</td>\n",
       "    </tr>\n",
       "    <tr>\n",
       "      <th>8</th>\n",
       "      <td>chr1</td>\n",
       "      <td>975013</td>\n",
       "      <td>975014</td>\n",
       "      <td>C</td>\n",
       "      <td>T</td>\n",
       "      <td>r</td>\n",
       "      <td>rs28477686</td>\n",
       "    </tr>\n",
       "    <tr>\n",
       "      <th>10</th>\n",
       "      <td>chr1</td>\n",
       "      <td>975028</td>\n",
       "      <td>975029</td>\n",
       "      <td>T</td>\n",
       "      <td>C</td>\n",
       "      <td>r</td>\n",
       "      <td>rs28536514</td>\n",
       "    </tr>\n",
       "    <tr>\n",
       "      <th>12</th>\n",
       "      <td>chr1</td>\n",
       "      <td>975057</td>\n",
       "      <td>975058</td>\n",
       "      <td>A</td>\n",
       "      <td>G</td>\n",
       "      <td>r</td>\n",
       "      <td>rs6685581</td>\n",
       "    </tr>\n",
       "  </tbody>\n",
       "</table>\n",
       "</div>"
      ],
      "text/plain": [
       "   chrom  var_start  var_end ref alt mpra_variant_id  variant_id\n",
       "2   chr1     965591   965592   T   G               r   rs9697711\n",
       "4   chr1     965642   965643   T   C               r  rs13303351\n",
       "8   chr1     975013   975014   C   T               r  rs28477686\n",
       "10  chr1     975028   975029   T   C               r  rs28536514\n",
       "12  chr1     975057   975058   A   G               r   rs6685581"
      ]
     },
     "execution_count": 9,
     "metadata": {},
     "output_type": "execute_result"
    }
   ],
   "source": [
    "griesemer_bed = pd.read_csv('/s/project/mll/sergey/MLM/griesemer_data/Oligo_Variant_Info_GRCh38.bed', \n",
    "                            sep='\\t',names=['chrom','var_start','var_end','ref','alt','mpra_variant_id','variant_id']).drop_duplicates() #supplementary info to the paper\n",
    "\n",
    "is_snp = griesemer_bed.ref.str.len()==griesemer_bed.alt.str.len()\n",
    "\n",
    "griesemer_bed = griesemer_bed[is_snp] #take only SNP variants\n",
    "\n",
    "griesemer_bed.head()"
   ]
  },
  {
   "cell_type": "code",
   "execution_count": 10,
   "id": "f5fafb3e-7fb5-4374-932d-f3125ad4bdcf",
   "metadata": {
    "tags": []
   },
   "outputs": [],
   "source": [
    "# for each oligo variant, look for human UTR region containing this variant\n",
    "\n",
    "res = []\n",
    "\n",
    "for chrom in griesemer_bed.chrom.unique():\n",
    "    chrom_utr_df = human_utr_df[human_utr_df.chrom==chrom]\n",
    "    for _, row in griesemer_bed[griesemer_bed.chrom==chrom].iterrows():\n",
    "        var_start = row.var_start\n",
    "        utr_idx = np.searchsorted(chrom_utr_df.human_UTR_start,var_start,'right')-1\n",
    "        while utr_idx<len(chrom_utr_df) and var_start>=chrom_utr_df.iloc[utr_idx].human_UTR_start:\n",
    "            if var_start<chrom_utr_df.iloc[utr_idx].human_UTR_end:\n",
    "                row['UTR_ID'] = chrom_utr_df.iloc[utr_idx].UTR_ID\n",
    "                res.append(row)\n",
    "                break\n",
    "            utr_idx+=1\n",
    "        #else:\n",
    "        #    print(row.chrom, row.var_start)"
   ]
  },
  {
   "cell_type": "code",
   "execution_count": 13,
   "id": "a7069476-004a-405d-bba8-3b7fbd2a9d0c",
   "metadata": {
    "tags": []
   },
   "outputs": [],
   "source": [
    "utr_variants = pd.DataFrame(res).merge(human_utr_df)"
   ]
  },
  {
   "cell_type": "code",
   "execution_count": 20,
   "id": "5699f55c-14af-4bc8-9852-a3c455c217b3",
   "metadata": {
    "tags": []
   },
   "outputs": [
    {
     "name": "stderr",
     "output_type": "stream",
     "text": [
      "/scratch/tmp/l_vilov/ipykernel_3126392/203680839.py:4: SettingWithCopyWarning: \n",
      "A value is trying to be set on a copy of a slice from a DataFrame.\n",
      "Try using .loc[row_indexer,col_indexer] = value instead\n",
      "\n",
      "See the caveats in the documentation: https://pandas.pydata.org/pandas-docs/stable/user_guide/indexing.html#returning-a-view-versus-a-copy\n",
      "  plus_genes['stop_codon_dist'] = plus_genes.var_start - plus_genes.human_UTR_start\n",
      "/scratch/tmp/l_vilov/ipykernel_3126392/203680839.py:5: SettingWithCopyWarning: \n",
      "A value is trying to be set on a copy of a slice from a DataFrame.\n",
      "Try using .loc[row_indexer,col_indexer] = value instead\n",
      "\n",
      "See the caveats in the documentation: https://pandas.pydata.org/pandas-docs/stable/user_guide/indexing.html#returning-a-view-versus-a-copy\n",
      "  minus_genes['stop_codon_dist'] = minus_genes.human_UTR_end - minus_genes.var_start\n"
     ]
    },
    {
     "data": {
      "text/plain": [
       "count     8148.000000\n",
       "mean      1664.254664\n",
       "std       1955.698236\n",
       "min          0.000000\n",
       "25%        392.000000\n",
       "50%       1018.500000\n",
       "75%       2175.500000\n",
       "max      21917.000000\n",
       "Name: stop_codon_dist, dtype: float64"
      ]
     },
     "execution_count": 20,
     "metadata": {},
     "output_type": "execute_result"
    }
   ],
   "source": [
    "# get distance distribution between the variant and the stop codon\n",
    "\n",
    "plus_genes = utr_variants[utr_variants.strand=='+']\n",
    "minus_genes = utr_variants[utr_variants.strand=='-']\n",
    "\n",
    "plus_genes['stop_codon_dist'] = plus_genes.var_start - plus_genes.human_UTR_start\n",
    "minus_genes['stop_codon_dist'] = minus_genes.human_UTR_end - minus_genes.var_start\n",
    "\n",
    "stop_codon_dist = pd.concat([plus_genes,minus_genes]).stop_codon_dist\n",
    "\n",
    "stop_codon_dist.describe()"
   ]
  },
  {
   "cell_type": "code",
   "execution_count": null,
   "id": "0c7b9d76-dd74-4f9e-b699-dacfb08faa90",
   "metadata": {},
   "outputs": [],
   "source": []
  }
 ],
 "metadata": {
  "kernelspec": {
   "display_name": "Python [conda env:miniconda3-svilov-spade]",
   "language": "python",
   "name": "conda-env-miniconda3-svilov-spade-py"
  },
  "language_info": {
   "codemirror_mode": {
    "name": "ipython",
    "version": 3
   },
   "file_extension": ".py",
   "mimetype": "text/x-python",
   "name": "python",
   "nbconvert_exporter": "python",
   "pygments_lexer": "ipython3",
   "version": "3.10.9"
  }
 },
 "nbformat": 4,
 "nbformat_minor": 5
}
