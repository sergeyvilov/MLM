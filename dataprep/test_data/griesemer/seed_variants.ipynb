{
 "cells": [
  {
   "cell_type": "code",
   "execution_count": 88,
   "id": "90d58e30-2e3e-408d-ae47-f14002f02bcf",
   "metadata": {
    "tags": []
   },
   "outputs": [],
   "source": [
    "import pandas as pd\n",
    "import numpy as np\n",
    "import pysam\n",
    "from textwrap import wrap"
   ]
  },
  {
   "cell_type": "code",
   "execution_count": null,
   "id": "744a0576-7d8f-4de5-a94b-ef5610d0829c",
   "metadata": {},
   "outputs": [],
   "source": [
    "add_seq_primers = False"
   ]
  },
  {
   "cell_type": "code",
   "execution_count": 3,
   "id": "89256bce-e1c8-4233-9ab6-2f7d84d9603b",
   "metadata": {
    "tags": []
   },
   "outputs": [],
   "source": [
    "datadir = '/s/project/mll/sergey/effect_prediction/MLM/'"
   ]
  },
  {
   "cell_type": "code",
   "execution_count": 84,
   "id": "1cd5755b-f029-42ff-9b5e-641f932ec2db",
   "metadata": {
    "tags": []
   },
   "outputs": [],
   "source": [
    "output_fasta = datadir + 'griesemer/fasta/GRCh38_UTR_variants.fa'"
   ]
  },
  {
   "cell_type": "code",
   "execution_count": 7,
   "id": "85c8bd19-6452-4e4b-aa24-75a8b6e06f0c",
   "metadata": {
    "tags": []
   },
   "outputs": [],
   "source": [
    "human_fasta = pysam.FastaFile(datadir + 'fasta/Homo_sapiens_no_reverse.fa')"
   ]
  },
  {
   "cell_type": "code",
   "execution_count": 79,
   "id": "5250fea8-0783-4495-90a7-3b2a80498a27",
   "metadata": {},
   "outputs": [],
   "source": [
    "utr_variants = pd.read_csv(datadir + 'griesemer/GRCh38_UTR_variants.tsv', sep='\\t') #all positions are 0-based [start, end)"
   ]
  },
  {
   "cell_type": "code",
   "execution_count": 80,
   "id": "01806468-757f-4b4f-99b2-858992bee41a",
   "metadata": {
    "tags": []
   },
   "outputs": [],
   "source": [
    "utr_variants = utr_variants[utr_variants.other_var_in_oligo_window.isna()] #seeding multiple variants into oligo sequence isn't currently supported"
   ]
  },
  {
   "cell_type": "code",
   "execution_count": 81,
   "id": "0207d5c1-1e11-4adf-a234-9bb2d1cb8a67",
   "metadata": {
    "tags": []
   },
   "outputs": [],
   "source": [
    "utr_variants['vartype'] = utr_variants.apply(lambda x: 'SNP' if len(x.ref)==len(x.alt) else\n",
    "                                            'DEL' if len(x.ref)>len(x.alt) else 'INS', axis=1)"
   ]
  },
  {
   "cell_type": "code",
   "execution_count": 82,
   "id": "dd6ef19e-1e79-451a-826f-7d2faa5d00b2",
   "metadata": {
    "tags": []
   },
   "outputs": [],
   "source": [
    "#utr_variants['stop_codon_dist'] = utr_variants.apply(lambda x: x.var_start-x.human_UTR_start if x.strand=='+' else\n",
    "#                  x.human_UTR_end - x.var_start, axis=1)"
   ]
  },
  {
   "cell_type": "code",
   "execution_count": 28,
   "id": "05558df4-3249-43cd-8ca8-86ac837a5c69",
   "metadata": {
    "tags": []
   },
   "outputs": [],
   "source": [
    "def reverse_complement(seq):\n",
    "    '''\n",
    "    Take sequence reverse complement\n",
    "    '''\n",
    "    compl_dict = {'A':'T', 'C':'G', 'G':'C', 'T':'A'}\n",
    "    compl_seq = ''.join([compl_dict.get(x,x) for x in seq])\n",
    "    rev_seq = compl_seq[::-1]\n",
    "    return rev_seq"
   ]
  },
  {
   "cell_type": "code",
   "execution_count": null,
   "id": "855ab61b-812d-4ee3-9592-b36c68f8d5e5",
   "metadata": {},
   "outputs": [],
   "source": [
    "#oligo primers, don't think we need to include them\n",
    "\n",
    "primer_5_end = 'CGAGCTCGCTAGCCT'\n",
    "primer_3_end = 'AGATCGGAAGAGCGTCG'"
   ]
  },
  {
   "cell_type": "code",
   "execution_count": 76,
   "id": "94b7f666-6cb5-414e-bda6-bc97a4f9c322",
   "metadata": {
    "tags": []
   },
   "outputs": [],
   "source": [
    "def extract_utr_seq(oligo):\n",
    "\n",
    "    seq = human_fasta.fetch(oligo.UTR_ID).upper()\n",
    "    \n",
    "    #oligo position within UTR region\n",
    "    oligo_start = int(oligo.oligo_start - oligo.human_UTR_start)\n",
    "    oligo_end = int(oligo.oligo_end - oligo.human_UTR_start)\n",
    "    #extract oligo seqeunce, no primers here\n",
    "    seq = seq[oligo_start:oligo_end]\n",
    "\n",
    "    varpos = int(oligo.var_start - oligo.oligo_start) #variant position w.r.t. oligo coordinates\n",
    "\n",
    "    #detect reference mismatches\n",
    "    if oligo.vartype != 'DEL' and seq[varpos] != oligo.ref:\n",
    "        return (None,None)\n",
    "    elif oligo.vartype == 'DEL' and seq[varpos:varpos+len(oligo.ref)] != oligo.ref:\n",
    "        return (None,None)\n",
    "            \n",
    "    #seed variant if alt sequence\n",
    "    if oligo.tag == 'alt':\n",
    "\n",
    "        if oligo.vartype!='DEL':\n",
    "            seq = seq[:varpos] + oligo.alt + seq[varpos+1:]\n",
    "        else:\n",
    "            seq = seq[:varpos] + oligo.alt + seq[varpos+len(oligo.ref):]\n",
    "\n",
    "    if add_seq_primers:\n",
    "        seq = primer_5_end + seq + primer_3_end\n",
    "\n",
    "    #for genes on the negative strand, take reverse complement\n",
    "    if oligo.strand=='-':\n",
    "        seq = reverse_complement(seq)\n",
    "\n",
    "    #FASTA sequence header\n",
    "    seq_header = f'>{oligo.mpra_variant_id}_{oligo.tag}_{oligo.vartype}:Homo_sapiens:{len(seq)}'\n",
    "    \n",
    "    return seq_header, seq"
   ]
  },
  {
   "cell_type": "code",
   "execution_count": 98,
   "id": "516e4b40-4fcf-440b-9f56-3e08335c95a4",
   "metadata": {},
   "outputs": [
    {
     "name": "stdout",
     "output_type": "stream",
     "text": [
      "Variants with miscmatched reference: 54\n"
     ]
    }
   ],
   "source": [
    "n_mismatches = 0\n",
    "\n",
    "#write FASTA file with variants\n",
    "\n",
    "with open(output_fasta, 'w') as f:\n",
    "    for idx, oligo in utr_variants.iterrows():\n",
    "        seq_header, seq = extract_utr_seq(oligo)\n",
    "        if seq_header != None:\n",
    "            f.write(seq_header+'\\n')\n",
    "            for line in wrap(seq, 80): #wrap sequence with standard FASTA width\n",
    "                f.write(line+'\\n')\n",
    "        else:\n",
    "            n_mismatches += 1\n",
    "            \n",
    "print(f'Variants with mismatched reference: {n_mismatches//2}')"
   ]
  },
  {
   "cell_type": "code",
   "execution_count": 99,
   "id": "4cde2da0-1a4d-4502-af10-ca21e0e7ca9c",
   "metadata": {
    "tags": []
   },
   "outputs": [],
   "source": [
    "# index new FASTA file\n",
    "!/s/project/mll/sergey/variant_calling/tools/samtools/bin/samtools faidx {output_fasta}"
   ]
  },
  {
   "cell_type": "code",
   "execution_count": null,
   "id": "949f35da-70d0-4b5c-8d38-e93873b375b6",
   "metadata": {},
   "outputs": [],
   "source": []
  }
 ],
 "metadata": {
  "kernelspec": {
   "display_name": "Python [conda env:miniconda3-svilov-spade]",
   "language": "python",
   "name": "conda-env-miniconda3-svilov-spade-py"
  },
  "language_info": {
   "codemirror_mode": {
    "name": "ipython",
    "version": 3
   },
   "file_extension": ".py",
   "mimetype": "text/x-python",
   "name": "python",
   "nbconvert_exporter": "python",
   "pygments_lexer": "ipython3",
   "version": "3.10.9"
  }
 },
 "nbformat": 4,
 "nbformat_minor": 5
}
