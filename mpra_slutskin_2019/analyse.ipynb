{
 "cells": [
  {
   "cell_type": "code",
   "execution_count": 28,
   "id": "6ae57f2b-5695-48ac-bede-f781309193ff",
   "metadata": {
    "tags": []
   },
   "outputs": [],
   "source": [
    "import numpy as np\n",
    "import pandas as pd\n",
    "\n",
    "import matplotlib.pyplot as plt\n",
    "import matplotlib as mpl\n",
    "import seaborn as sns\n",
    "import scipy.stats\n",
    "import statsmodels.stats.multicomp as mc"
   ]
  },
  {
   "cell_type": "code",
   "execution_count": 29,
   "id": "2efc4c6f-38a8-4a62-863b-8bd7b52d29ff",
   "metadata": {
    "tags": []
   },
   "outputs": [],
   "source": [
    "data_dir = '/s/project/mll/sergey/effect_prediction/MLM/slutskin_2019/'"
   ]
  },
  {
   "cell_type": "code",
   "execution_count": 56,
   "id": "058cf442-049c-454f-b426-1b23e8690615",
   "metadata": {
    "tags": []
   },
   "outputs": [],
   "source": [
    "models = {'MLM':'SVR_K562/MLM/', 'Word2Vec':'SVR_K562/word2vec/', 'Slutskin et al.': 'PolyApredictors/',\n",
    "          '4-mer':'SVR_K562/4mers/','5-mer':'SVR_K562/5mers/','6-mer':'SVR_K562/6mers/'}\n",
    "\n",
    "df = pd.read_csv(data_dir + 'SVR_K562/MLM/all_predictions.tsv', sep='\\t')\n",
    "IDs = df[df.Fold=='Test'].ID"
   ]
  },
  {
   "cell_type": "code",
   "execution_count": 53,
   "id": "a9eb57ff-4490-4d92-a0e9-6180e97543a6",
   "metadata": {
    "tags": []
   },
   "outputs": [],
   "source": [
    "models = {'MLM':'SVR/MLM/', 'Word2Vec':'SVR/word2vec/', 'Slutskin et al.': 'PolyApredictors/',\n",
    "          '4-mer':'SVR/4mers/','5-mer':'SVR/5mers/','6-mer':'SVR/6mers/'}\n",
    "\n",
    "df = pd.read_csv(data_dir + 'SVR/MLM/all_predictions.tsv', sep='\\t')\n",
    "IDs = df[df.Fold=='Test'].ID"
   ]
  },
  {
   "cell_type": "code",
   "execution_count": 46,
   "id": "7d4d137c-4be4-49bc-96be-9f18d087418e",
   "metadata": {
    "tags": []
   },
   "outputs": [],
   "source": [
    "preds_mpra = []\n",
    "\n",
    "for model, path in models.items():\n",
    "    df = pd.read_csv(data_dir + path + 'all_predictions.tsv', sep='\\t')\n",
    "    df = df.set_index('ID').loc[IDs]\n",
    "    df['model'] = model\n",
    "    preds_mpra.append(df[['model','Expression','y_pred']])\n",
    "    \n",
    "preds_mpra = pd.concat(preds_mpra)"
   ]
  },
  {
   "cell_type": "code",
   "execution_count": 47,
   "id": "9e83af45-d6ad-4fd6-9a2e-f552914f8e19",
   "metadata": {
    "tags": []
   },
   "outputs": [],
   "source": [
    "preds_mpra['error'] = (preds_mpra.y_pred-preds_mpra.Expression)**2 #squared residuals"
   ]
  },
  {
   "cell_type": "code",
   "execution_count": 48,
   "id": "9c5eecd5-4c03-48cf-8fff-c3e42cf97594",
   "metadata": {
    "tags": []
   },
   "outputs": [
    {
     "data": {
      "text/plain": [
       "model\n",
       "4-mer              6.126599\n",
       "5-mer              6.668723\n",
       "6-mer              7.243197\n",
       "MLM                6.640968\n",
       "Slutskin et al.    5.108866\n",
       "Word2Vec           6.399019\n",
       "Name: error, dtype: float64"
      ]
     },
     "execution_count": 48,
     "metadata": {},
     "output_type": "execute_result"
    }
   ],
   "source": [
    "preds_mpra.groupby('model').error.mean()"
   ]
  },
  {
   "cell_type": "code",
   "execution_count": 49,
   "id": "c70348c3-a45a-489b-8b85-ae0b226178fa",
   "metadata": {
    "tags": []
   },
   "outputs": [
    {
     "data": {
      "text/html": [
       "<table class=\"simpletable\">\n",
       "<caption>Test Multiple Comparison wilcoxon \n",
       "FWER=0.05 method=bonf\n",
       "alphacSidak=0.00, alphacBonf=0.003</caption>\n",
       "<tr>\n",
       "      <th>group1</th>          <th>group2</th>       <th>stat</th>    <th>pval</th>  <th>pval_corr</th> <th>reject</th>\n",
       "</tr>\n",
       "<tr>\n",
       "       <td>4-mer</td>           <td>5-mer</td>      <td>63276.0</td> <td>0.0319</td>  <td>0.4779</td>    <td>False</td>\n",
       "</tr>\n",
       "<tr>\n",
       "       <td>4-mer</td>           <td>6-mer</td>      <td>56982.0</td> <td>0.0001</td>  <td>0.0013</td>    <td>True</td> \n",
       "</tr>\n",
       "<tr>\n",
       "       <td>4-mer</td>            <td>MLM</td>       <td>70215.0</td> <td>0.8493</td>    <td>1.0</td>     <td>False</td>\n",
       "</tr>\n",
       "<tr>\n",
       "       <td>4-mer</td>      <td>Slutskin et al.</td> <td>69333.0</td> <td>0.6609</td>    <td>1.0</td>     <td>False</td>\n",
       "</tr>\n",
       "<tr>\n",
       "       <td>4-mer</td>         <td>Word2Vec</td>     <td>70120.0</td> <td>0.8284</td>    <td>1.0</td>     <td>False</td>\n",
       "</tr>\n",
       "<tr>\n",
       "       <td>5-mer</td>           <td>6-mer</td>      <td>61506.0</td> <td>0.0082</td>  <td>0.1225</td>    <td>False</td>\n",
       "</tr>\n",
       "<tr>\n",
       "       <td>5-mer</td>            <td>MLM</td>       <td>64538.0</td> <td>0.0734</td>    <td>1.0</td>     <td>False</td>\n",
       "</tr>\n",
       "<tr>\n",
       "       <td>5-mer</td>      <td>Slutskin et al.</td> <td>63129.0</td> <td>0.0287</td>  <td>0.4305</td>    <td>False</td>\n",
       "</tr>\n",
       "<tr>\n",
       "       <td>5-mer</td>         <td>Word2Vec</td>     <td>65036.0</td> <td>0.0989</td>    <td>1.0</td>     <td>False</td>\n",
       "</tr>\n",
       "<tr>\n",
       "       <td>6-mer</td>            <td>MLM</td>       <td>59808.0</td> <td>0.0018</td>  <td>0.0268</td>    <td>True</td> \n",
       "</tr>\n",
       "<tr>\n",
       "       <td>6-mer</td>      <td>Slutskin et al.</td> <td>53721.0</td>   <td>0.0</td>     <td>0.0</td>     <td>True</td> \n",
       "</tr>\n",
       "<tr>\n",
       "       <td>6-mer</td>         <td>Word2Vec</td>     <td>58405.0</td> <td>0.0004</td>  <td>0.0065</td>    <td>True</td> \n",
       "</tr>\n",
       "<tr>\n",
       "        <td>MLM</td>       <td>Slutskin et al.</td> <td>68799.0</td> <td>0.5557</td>    <td>1.0</td>     <td>False</td>\n",
       "</tr>\n",
       "<tr>\n",
       "        <td>MLM</td>          <td>Word2Vec</td>     <td>69138.0</td> <td>0.6216</td>    <td>1.0</td>     <td>False</td>\n",
       "</tr>\n",
       "<tr>\n",
       "  <td>Slutskin et al.</td>    <td>Word2Vec</td>     <td>68949.0</td> <td>0.5844</td>    <td>1.0</td>     <td>False</td>\n",
       "</tr>\n",
       "</table>"
      ],
      "text/latex": [
       "\\begin{center}\n",
       "\\begin{tabular}{cccccc}\n",
       "\\toprule\n",
       "\\textbf{group1} & \\textbf{group2} & \\textbf{stat} & \\textbf{pval} & \\textbf{pval\\_corr} & \\textbf{reject}  \\\\\n",
       "\\midrule\n",
       "     4-mer      &      5-mer      &    63276.0    &     0.0319    &        0.4779       &      False       \\\\\n",
       "     4-mer      &      6-mer      &    56982.0    &     0.0001    &        0.0013       &       True       \\\\\n",
       "     4-mer      &       MLM       &    70215.0    &     0.8493    &         1.0         &      False       \\\\\n",
       "     4-mer      & Slutskin et al. &    69333.0    &     0.6609    &         1.0         &      False       \\\\\n",
       "     4-mer      &     Word2Vec    &    70120.0    &     0.8284    &         1.0         &      False       \\\\\n",
       "     5-mer      &      6-mer      &    61506.0    &     0.0082    &        0.1225       &      False       \\\\\n",
       "     5-mer      &       MLM       &    64538.0    &     0.0734    &         1.0         &      False       \\\\\n",
       "     5-mer      & Slutskin et al. &    63129.0    &     0.0287    &        0.4305       &      False       \\\\\n",
       "     5-mer      &     Word2Vec    &    65036.0    &     0.0989    &         1.0         &      False       \\\\\n",
       "     6-mer      &       MLM       &    59808.0    &     0.0018    &        0.0268       &       True       \\\\\n",
       "     6-mer      & Slutskin et al. &    53721.0    &      0.0      &         0.0         &       True       \\\\\n",
       "     6-mer      &     Word2Vec    &    58405.0    &     0.0004    &        0.0065       &       True       \\\\\n",
       "      MLM       & Slutskin et al. &    68799.0    &     0.5557    &         1.0         &      False       \\\\\n",
       "      MLM       &     Word2Vec    &    69138.0    &     0.6216    &         1.0         &      False       \\\\\n",
       "Slutskin et al. &     Word2Vec    &    68949.0    &     0.5844    &         1.0         &      False       \\\\\n",
       "\\bottomrule\n",
       "\\end{tabular}\n",
       "%\\caption{Test Multiple Comparison wilcoxon \n",
       "FWER=0.05 method=bonf\n",
       "alphacSidak=0.00, alphacBonf=0.003}\n",
       "\\end{center}"
      ],
      "text/plain": [
       "<class 'statsmodels.iolib.table.SimpleTable'>"
      ]
     },
     "execution_count": 49,
     "metadata": {},
     "output_type": "execute_result"
    }
   ],
   "source": [
    "comp1 = mc.MultiComparison(preds_mpra['error'], preds_mpra['model'])\n",
    "tbl, a1, a2 = comp1.allpairtest(scipy.stats.wilcoxon, method= \"bonf\")\n",
    "\n",
    "tbl"
   ]
  },
  {
   "cell_type": "code",
   "execution_count": 50,
   "id": "3be6b7e8-ba13-4b6e-932b-f9be2163dafc",
   "metadata": {
    "tags": []
   },
   "outputs": [
    {
     "data": {
      "text/plain": [
       "model\n",
       "4-mer              0.815425\n",
       "5-mer              0.797158\n",
       "6-mer              0.777396\n",
       "MLM                0.799936\n",
       "Slutskin et al.    0.860808\n",
       "Word2Vec           0.806947\n",
       "dtype: float64"
      ]
     },
     "execution_count": 50,
     "metadata": {},
     "output_type": "execute_result"
    }
   ],
   "source": [
    "preds_mpra.groupby('model').apply(lambda x:scipy.stats.pearsonr(x.Expression,x.y_pred)[0])"
   ]
  },
  {
   "cell_type": "code",
   "execution_count": 44,
   "id": "d5e237c9-4590-4f40-80de-a1656bb847ce",
   "metadata": {},
   "outputs": [
    {
     "data": {
      "text/plain": [
       "model\n",
       "4-mer              0.718848\n",
       "5-mer              0.727535\n",
       "6-mer              0.686466\n",
       "MLM                0.710272\n",
       "Slutskin et al.    0.829661\n",
       "Word2Vec           0.720999\n",
       "dtype: float64"
      ]
     },
     "execution_count": 44,
     "metadata": {},
     "output_type": "execute_result"
    }
   ],
   "source": [
    "preds_mpra.groupby('model').apply(lambda x:scipy.stats.pearsonr(x.Expression,x.y_pred)[0])"
   ]
  },
  {
   "cell_type": "code",
   "execution_count": null,
   "id": "af75dc4a-3b2a-4345-acf3-6d193e910ac9",
   "metadata": {},
   "outputs": [],
   "source": []
  }
 ],
 "metadata": {
  "kernelspec": {
   "display_name": "Python [conda env:miniconda3-svilov-python]",
   "language": "python",
   "name": "conda-env-miniconda3-svilov-python-py"
  },
  "language_info": {
   "codemirror_mode": {
    "name": "ipython",
    "version": 3
   },
   "file_extension": ".py",
   "mimetype": "text/x-python",
   "name": "python",
   "nbconvert_exporter": "python",
   "pygments_lexer": "ipython3",
   "version": "3.11.4"
  }
 },
 "nbformat": 4,
 "nbformat_minor": 5
}
