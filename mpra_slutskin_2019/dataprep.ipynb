{
 "cells": [
  {
   "cell_type": "markdown",
   "id": "31df3464-2255-496c-9778-751ec3fc674e",
   "metadata": {},
   "source": [
    "Prepare data from\n",
    "\n",
    "Slutskin, Ilya Vainberg, Adina Weinberger, and Eran Segal. \"Sequence determinants of polyadenylation-mediated regulation.\" Genome research 29.10 (2019): 1635-1647."
   ]
  },
  {
   "cell_type": "markdown",
   "id": "d96fe1e3-db03-4a1d-bf00-2604f1d96765",
   "metadata": {},
   "source": [
    "# Make FASTA\n",
    "\n",
    "make FASTA file out of sequences from supplementary table 9"
   ]
  },
  {
   "cell_type": "code",
   "execution_count": 1,
   "id": "5c72dcd7-e3b5-48b4-bb50-d91211d55900",
   "metadata": {
    "tags": []
   },
   "outputs": [],
   "source": [
    "import numpy as np\n",
    "import pandas as pd\n",
    "from textwrap import wrap"
   ]
  },
  {
   "cell_type": "code",
   "execution_count": 2,
   "id": "64a549dd-94d5-4dae-b7e6-cba43deb270c",
   "metadata": {
    "tags": []
   },
   "outputs": [],
   "source": [
    "data_dir = '/s/project/mll/sergey/effect_prediction/MLM/slutskin_2019/'"
   ]
  },
  {
   "cell_type": "code",
   "execution_count": 3,
   "id": "4e155fc9-9da1-4ac2-a370-ff1d61de0f5a",
   "metadata": {
    "tags": []
   },
   "outputs": [],
   "source": [
    "supt9 = pd.read_csv(data_dir + 'supl/Supplemental_Table_9.tab', sep='\\t', skiprows=1, dtype={'Fold':str})"
   ]
  },
  {
   "cell_type": "code",
   "execution_count": 4,
   "id": "8c1b0385-0904-4d30-aa4f-74f495f0411f",
   "metadata": {
    "tags": []
   },
   "outputs": [],
   "source": [
    "output_fasta = data_dir + 'fasta_reversecompl.fa'"
   ]
  },
  {
   "cell_type": "code",
   "execution_count": 5,
   "id": "e644774f-8547-471b-bf77-fe8e5e6dd82a",
   "metadata": {
    "tags": []
   },
   "outputs": [],
   "source": [
    "def reverse_complement(seq):\n",
    "    '''\n",
    "    Take sequence reverse complement\n",
    "    '''\n",
    "    compl_dict = {'A':'T', 'C':'G', 'G':'C', 'T':'A'}\n",
    "    compl_seq = ''.join([compl_dict.get(x,x) for x in seq])\n",
    "    rev_seq = compl_seq[::-1]\n",
    "    return rev_seq"
   ]
  },
  {
   "cell_type": "code",
   "execution_count": 6,
   "id": "c6fad0b1-5e36-4852-8e27-4a66c21d39da",
   "metadata": {
    "tags": []
   },
   "outputs": [],
   "source": [
    "with open(output_fasta, 'w') as f:\n",
    "    for seq_id, seq in supt9[['ID','Sequence']].values:\n",
    "        f.write(f'>id_{seq_id}:Homo_sapiens\\n')\n",
    "        seq = reverse_complement(seq)\n",
    "        for line in wrap(seq, 80): #wrap sequence with standard FASTA width\n",
    "            f.write(line+'\\n')\n",
    "\n",
    "#don't forget to index with samtools faidx!"
   ]
  },
  {
   "cell_type": "code",
   "execution_count": 7,
   "id": "681c77cd-1324-488c-9a5a-b9c00f28fa56",
   "metadata": {
    "tags": []
   },
   "outputs": [],
   "source": [
    "supt2 = pd.read_csv(data_dir + 'supl/Supplemental_Table_2.tab', sep='\\t', skiprows=1, dtype={'Fold':str})\n",
    "supt4 = pd.read_csv(data_dir + 'supl/Supplemental_Table_4.tab', sep='\\t', skiprows=1, dtype={'Fold':str})"
   ]
  },
  {
   "cell_type": "code",
   "execution_count": 16,
   "id": "3e99fb7f-9ec5-4c33-927a-714debf7a406",
   "metadata": {
    "tags": []
   },
   "outputs": [
    {
     "data": {
      "text/plain": [
       "Pos\n",
       "WT    572\n",
       "Name: count, dtype: int64"
      ]
     },
     "execution_count": 16,
     "metadata": {},
     "output_type": "execute_result"
    }
   ],
   "source": [
    "supt4[supt4.ID.isin(supt2[supt2.Source!='K562'].ID)].Pos.value_counts()"
   ]
  },
  {
   "cell_type": "code",
   "execution_count": 6,
   "id": "739bbef1-8487-428e-a122-617016f86ce4",
   "metadata": {
    "tags": []
   },
   "outputs": [
    {
     "data": {
      "text/html": [
       "<div>\n",
       "<style scoped>\n",
       "    .dataframe tbody tr th:only-of-type {\n",
       "        vertical-align: middle;\n",
       "    }\n",
       "\n",
       "    .dataframe tbody tr th {\n",
       "        vertical-align: top;\n",
       "    }\n",
       "\n",
       "    .dataframe thead th {\n",
       "        text-align: right;\n",
       "    }\n",
       "</style>\n",
       "<table border=\"1\" class=\"dataframe\">\n",
       "  <thead>\n",
       "    <tr style=\"text-align: right;\">\n",
       "      <th></th>\n",
       "      <th>ID</th>\n",
       "      <th>Source</th>\n",
       "      <th>Name</th>\n",
       "      <th>Expression</th>\n",
       "    </tr>\n",
       "  </thead>\n",
       "  <tbody>\n",
       "    <tr>\n",
       "      <th>4486</th>\n",
       "      <td>36277</td>\n",
       "      <td>K562</td>\n",
       "      <td>RID6668</td>\n",
       "      <td>-8.169925</td>\n",
       "    </tr>\n",
       "  </tbody>\n",
       "</table>\n",
       "</div>"
      ],
      "text/plain": [
       "         ID Source     Name  Expression\n",
       "4486  36277   K562  RID6668   -8.169925"
      ]
     },
     "execution_count": 6,
     "metadata": {},
     "output_type": "execute_result"
    }
   ],
   "source": [
    "supt2[supt2.ID==36277]"
   ]
  },
  {
   "cell_type": "code",
   "execution_count": 8,
   "id": "73fe93f2-f712-41cd-abfb-e08cbd9cfa0d",
   "metadata": {
    "tags": []
   },
   "outputs": [],
   "source": [
    "df = supt9[supt9.ID.isin(supt2[supt2.Source=='K562'].ID)]"
   ]
  },
  {
   "cell_type": "code",
   "execution_count": null,
   "id": "74ea5cae-ccbe-4110-ad4e-aca2fbcad6a6",
   "metadata": {},
   "outputs": [],
   "source": [
    "wild_type_id = supt4[supt4.Pos=='WT'].ID\n",
    "wild_type_seq = supt9[supt9.ID.isin(wild_type_id)][['ID','Fold','Sequence']]"
   ]
  },
  {
   "cell_type": "code",
   "execution_count": null,
   "id": "95b81b28-0885-4148-827d-050d4da57d15",
   "metadata": {},
   "outputs": [],
   "source": []
  },
  {
   "cell_type": "code",
   "execution_count": 16,
   "id": "bd264100-d68a-46ff-8293-199163800abb",
   "metadata": {
    "tags": []
   },
   "outputs": [],
   "source": [
    "wild_type_id = supt4[supt4.Pos=='WT'].ID\n",
    "wild_type_seq = supt9[supt9.ID.isin(wild_type_id)][['ID','Fold','Sequence']]"
   ]
  },
  {
   "cell_type": "code",
   "execution_count": null,
   "id": "e314fb2c-c521-46d1-befa-380e71748672",
   "metadata": {},
   "outputs": [],
   "source": []
  },
  {
   "cell_type": "code",
   "execution_count": 63,
   "id": "a72956ac-d658-4937-8800-7c61ccc2cbb8",
   "metadata": {
    "tags": []
   },
   "outputs": [],
   "source": [
    "for fold in ('0','1','2','3','4','5','6','7','8','9','10','Test'):\n",
    "    wild_type_fold = wild_type_seq.drop(columns='Fold').set_index('ID').squeeze()\n",
    "    fold_seqs = supt9[supt9.Fold==fold].Sequence\n",
    "    for idx, seq in fold_seqs.items():\n",
    "        min_diff = 10000\n",
    "        for wt_ID, wt_seq in wild_type_fold.items():\n",
    "            diff_counter =  is_wt(seq,wt_seq)\n",
    "            min_diff = min(diff_counter,min_diff)\n",
    "        supt9.at[idx,'group'] = min_diff"
   ]
  },
  {
   "cell_type": "code",
   "execution_count": 59,
   "id": "0d97ed3a-0c84-4356-9381-a1fa8d9ee97e",
   "metadata": {
    "tags": []
   },
   "outputs": [],
   "source": [
    "def is_wt(seq,wt_seq):\n",
    "\n",
    "    diff_counter = 0\n",
    "    flag = 0\n",
    "\n",
    "    for c_seq, c_wt in zip(seq, wt_seq):\n",
    "        if c_seq!=c_wt:\n",
    "            if flag==1:\n",
    "                diff_counter = 1000\n",
    "                break\n",
    "            diff_counter += 1\n",
    "        if diff_counter>0 and c_seq==c_wt:\n",
    "            flag = 1\n",
    "    \n",
    "    return diff_counter"
   ]
  },
  {
   "cell_type": "code",
   "execution_count": 52,
   "id": "c8e83d87-09e2-409d-ae7d-f70430920a3a",
   "metadata": {
    "tags": []
   },
   "outputs": [
    {
     "name": "stdout",
     "output_type": "stream",
     "text": [
      "129\n"
     ]
    },
    {
     "data": {
      "text/plain": [
       "False"
      ]
     },
     "execution_count": 52,
     "metadata": {},
     "output_type": "execute_result"
    }
   ],
   "source": [
    "is_wt(seq,wt_seq)"
   ]
  },
  {
   "cell_type": "code",
   "execution_count": 65,
   "id": "bc84c673-6fec-44d6-8db1-77e75290a922",
   "metadata": {
    "tags": []
   },
   "outputs": [
    {
     "data": {
      "text/plain": [
       "0"
      ]
     },
     "execution_count": 65,
     "metadata": {},
     "output_type": "execute_result"
    }
   ],
   "source": [
    "(supt9.group==20).sum()"
   ]
  },
  {
   "cell_type": "code",
   "execution_count": null,
   "id": "babf2362-e5a7-4b8a-b20f-9d806cc7a2e3",
   "metadata": {},
   "outputs": [],
   "source": []
  }
 ],
 "metadata": {
  "kernelspec": {
   "display_name": "Python [conda env:miniconda3-svilov-python]",
   "language": "python",
   "name": "conda-env-miniconda3-svilov-python-py"
  },
  "language_info": {
   "codemirror_mode": {
    "name": "ipython",
    "version": 3
   },
   "file_extension": ".py",
   "mimetype": "text/x-python",
   "name": "python",
   "nbconvert_exporter": "python",
   "pygments_lexer": "ipython3",
   "version": "3.11.4"
  }
 },
 "nbformat": 4,
 "nbformat_minor": 5
}
