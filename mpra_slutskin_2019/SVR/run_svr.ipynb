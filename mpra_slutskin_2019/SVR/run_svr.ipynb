{
 "cells": [
  {
   "cell_type": "code",
   "execution_count": 2,
   "id": "c20d5284-43a5-4c57-9006-828f0883a2b7",
   "metadata": {
    "tags": []
   },
   "outputs": [
    {
     "name": "stderr",
     "output_type": "stream",
     "text": [
      "Intel(R) Extension for Scikit-learn* enabled (https://github.com/intel/scikit-learn-intelex)\n"
     ]
    }
   ],
   "source": [
    "import numpy as np\n",
    "import pandas as pd\n",
    "import pickle\n",
    "\n",
    "import os\n",
    "import sys\n",
    "\n",
    "from sklearnex import patch_sklearn\n",
    "patch_sklearn()\n",
    "\n",
    "import sklearn\n",
    "\n",
    "import sklearn.pipeline \n",
    "import sklearn.model_selection\n",
    "import sklearn.metrics\n",
    "\n",
    "from sklearn.preprocessing import StandardScaler\n",
    "\n",
    "import optuna\n",
    "\n",
    "sys.path.append(\"/data/ouga/home/ag_gagneur/l_vilov/workspace/species-aware-DNA-LM/mpra_griesemer/utils\") \n",
    "\n",
    "from models import *\n",
    "from misc import dotdict\n",
    "from multiprocessing import Pool\n",
    "import scipy"
   ]
  },
  {
   "cell_type": "code",
   "execution_count": 3,
   "id": "2e82215c-3d72-4985-acbf-fd521ff920d3",
   "metadata": {
    "tags": []
   },
   "outputs": [],
   "source": [
    "data_dir = '/s/project/mll/sergey/effect_prediction/MLM/slutskin_2019/'"
   ]
  },
  {
   "cell_type": "code",
   "execution_count": 4,
   "id": "62141475-833c-4454-9c27-137e8d7686f0",
   "metadata": {
    "tags": []
   },
   "outputs": [],
   "source": [
    "input_params = dotdict({})\n",
    "\n",
    "input_params.model = 'MLM' #embedding name, can be \"MLM\" \"word2vec\" \"griesemer\" or \"Nmers\" where N is an integer\n",
    "\n",
    "input_params.output_dir = './test' #output folder\n",
    "\n",
    "input_params.N_trials = 1000\n",
    "\n",
    "input_params.n_jobs = 8"
   ]
  },
  {
   "cell_type": "code",
   "execution_count": 5,
   "id": "b876caad-6e6f-46b4-a7f4-a24323af5bac",
   "metadata": {
    "tags": []
   },
   "outputs": [],
   "source": [
    "mpra_df = pd.read_csv(data_dir + 'supl/Supplemental_Table_9.tab', sep='\\t', skiprows=1, dtype={'Fold':str}, usecols=[0,1,2,3]) #sequence info\n",
    "\n",
    "mlm_embeddings = np.load(data_dir + \"embeddings/seq_len_5000/embeddings.npy\") #masked language model embeddings"
   ]
  },
  {
   "cell_type": "code",
   "execution_count": 6,
   "id": "7d4f61cc-6c06-43cc-91df-f530dd2cea67",
   "metadata": {
    "tags": []
   },
   "outputs": [],
   "source": [
    "flt = mpra_df.Expression.isna()\n",
    "\n",
    "mpra_df = mpra_df[~flt]\n",
    "mlm_embeddings = mlm_embeddings[~flt]\n",
    "\n",
    "mpra_df = mpra_df.rename(columns={'Sequence':'seq'}).reset_index(drop=True)"
   ]
  },
  {
   "cell_type": "code",
   "execution_count": 7,
   "id": "90ca9f16-a4a4-49fd-a1a5-6a32e1b43a5a",
   "metadata": {
    "tags": []
   },
   "outputs": [],
   "source": [
    "if input_params.model=='MLM':\n",
    "\n",
    "    X = mlm_embeddings\n",
    "\n",
    "elif 'mers' in input_params.model:\n",
    "    \n",
    "    k = int(input_params.model[0])\n",
    "        \n",
    "    kmerizer = Kmerizer(k=k)\n",
    "    X = np.stack(mpra_df.seq.apply(lambda x: kmerizer.kmerize(x))) \n",
    "        \n",
    "elif input_params.model=='word2vec':\n",
    "        \n",
    "    X = word2vec_model(mpra_df)\n",
    "\n",
    "#X = np.hstack((X,np.expand_dims(mpra_df.min_free_energy.values,axis=1)))\n",
    "\n",
    "y = mpra_df['Expression'].values"
   ]
  },
  {
   "cell_type": "code",
   "execution_count": 8,
   "id": "3fc5beaf-d2ee-45ad-a40f-309609edff82",
   "metadata": {
    "tags": []
   },
   "outputs": [],
   "source": [
    "def apply_SVR(args):\n",
    "        \n",
    "    fold_idx, test_hpp = args \n",
    "\n",
    "    test_idx = mpra_df[mpra_df.Fold==str(fold_idx)].index\n",
    "    train_idx = mpra_df[(mpra_df.Fold!=str(fold_idx))&(mpra_df.Fold!='Test')].index\n",
    "\n",
    "    pipe = sklearn.pipeline.make_pipeline(sklearn.preprocessing.StandardScaler(),\n",
    "                                                  sklearn.svm.SVR(**test_hpp))\n",
    "    pipe.fit(X[train_idx],y[train_idx])\n",
    "\n",
    "    R2_score = pipe.score(X[test_idx],y[test_idx])\n",
    "        \n",
    "    return R2_score\n",
    "\n",
    "\n",
    "def hpp_search(X,y, mpra_df, cv_splits = 10):\n",
    "    \n",
    "    '''\n",
    "    Perform Hyperparameter Search using OPTUNA Bayesian Optimisation strategy\n",
    "    \n",
    "    The bets hyperparameters should maximize coefficient of determination (R2)\n",
    "    \n",
    "    The hyperparameter range should first be adjused with grid search to make the BO algorithm converge in reasonable time\n",
    "    '''\n",
    "\n",
    "\n",
    "    def objective(trial):\n",
    "\n",
    "        C = trial.suggest_float(\"C\", 1e-4, 1e4, log=True)\n",
    "        epsilon = trial.suggest_float(\"epsilon\", 1e-5, 1, log=True)\n",
    "        gamma = trial.suggest_float(\"gamma\", 1e-5, 1, log=True)\n",
    "\n",
    "        test_hpp = {'C':C, 'epsilon':epsilon, 'gamma':gamma}\n",
    "        \n",
    "        pool = Pool(processes=input_params.n_jobs,maxtasksperchild=5)\n",
    "\n",
    "        cv_scores = []\n",
    "        \n",
    "        params = ((fold_idx, test_hpp) for fold_idx in range(cv_splits))\n",
    "        \n",
    "        for res in pool.imap(apply_SVR,params):\n",
    "            cv_scores.append(res)\n",
    "     \n",
    "        pool.close()\n",
    "        pool.join()\n",
    "    \n",
    "        return np.mean(cv_scores)\n",
    "    \n",
    "    study = optuna.create_study(direction = \"maximize\")\n",
    "\n",
    "    study.optimize(objective, n_trials = input_params.N_trials)\n",
    "    \n",
    "    best_params = study.best_params\n",
    "    \n",
    "    return best_params"
   ]
  },
  {
   "cell_type": "code",
   "execution_count": 9,
   "id": "7a2ea3cd-045e-428d-8fc0-ff089a837085",
   "metadata": {
    "tags": []
   },
   "outputs": [],
   "source": [
    "def compute_metrics(y_true,y_pred):\n",
    "    R2 = sklearn.metrics.r2_score(y_true,y_pred)\n",
    "    Pearson_r = scipy.stats.pearsonr(y_true,y_pred)[0]\n",
    "    return f'R2 {R2:.3f}, Pearson r: {Pearson_r:.3f}'"
   ]
  },
  {
   "cell_type": "code",
   "execution_count": 25,
   "id": "fd09cc51-f620-4e82-840d-9696b500d229",
   "metadata": {
    "tags": []
   },
   "outputs": [
    {
     "name": "stdout",
     "output_type": "stream",
     "text": [
      "Train R2 -0.120, Pearson r: 0.294\n",
      "Test R2 -0.181, Pearson r: 0.001\n"
     ]
    }
   ],
   "source": [
    "#best_hpp = hpp_search(X,y,mpra_df)\n",
    "\n",
    "best_hpp = {}\n",
    "\n",
    "pipe = sklearn.pipeline.make_pipeline(sklearn.preprocessing.StandardScaler(),\n",
    "                    sklearn.svm.SVR(**best_hpp))\n",
    "\n",
    "test_idx = mpra_df[mpra_df.Fold=='Test'].index\n",
    "train_idx = mpra_df[(mpra_df.Fold!='Test')].index\n",
    "        \n",
    "X_train, X_test, y_train, y_test = X[train_idx,:],X[test_idx,:],y[train_idx],y[test_idx]\n",
    "\n",
    "pipe.fit(X_train,y_train)\n",
    "\n",
    "y_pred_train = pipe.predict(X_train)\n",
    "y_pred_test = pipe.predict(X_test)\n",
    "\n",
    "print(f'Train {compute_metrics(y_train, y_pred_train)}')\n",
    "print(f'Test {compute_metrics(y_test, y_pred_test)}')"
   ]
  },
  {
   "cell_type": "code",
   "execution_count": 11,
   "id": "cc33c8ba-5c3a-49b2-ac80-ee3598ad66d2",
   "metadata": {
    "tags": []
   },
   "outputs": [],
   "source": [
    "os.makedirs(input_params.output_dir, exist_ok=True) #make output dir\n",
    "\n",
    "with open(input_params.output_dir + '/best_model.pickle', 'wb') as f:\n",
    "    pickle.dump(pipe, f)"
   ]
  },
  {
   "cell_type": "code",
   "execution_count": 17,
   "id": "c460b84d-4de7-4994-99ec-d8962dd105e5",
   "metadata": {
    "tags": []
   },
   "outputs": [],
   "source": [
    "mpra_df.loc[train_idx,'y_pred'] = y_pred_train\n",
    "mpra_df.loc[test_idx,'y_pred'] = y_pred_test"
   ]
  },
  {
   "cell_type": "code",
   "execution_count": 19,
   "id": "cc64370d-9e8c-463a-89c7-12f173be535c",
   "metadata": {
    "tags": []
   },
   "outputs": [],
   "source": [
    "mpra_df.to_csv(input_params.output_dir + '/all_predictions.tsv',sep='\\t',index=None)"
   ]
  },
  {
   "cell_type": "code",
   "execution_count": 20,
   "id": "b8a075d6-c46b-443d-bc24-894d896355c6",
   "metadata": {
    "tags": []
   },
   "outputs": [],
   "source": [
    "!rm -r ./test"
   ]
  },
  {
   "cell_type": "code",
   "execution_count": null,
   "id": "79cc269d-aca8-4874-9bb7-c9093c023b51",
   "metadata": {},
   "outputs": [],
   "source": []
  }
 ],
 "metadata": {
  "kernelspec": {
   "display_name": "Python [conda env:miniconda3-svilov-spade]",
   "language": "python",
   "name": "conda-env-miniconda3-svilov-spade-py"
  },
  "language_info": {
   "codemirror_mode": {
    "name": "ipython",
    "version": 3
   },
   "file_extension": ".py",
   "mimetype": "text/x-python",
   "name": "python",
   "nbconvert_exporter": "python",
   "pygments_lexer": "ipython3",
   "version": "3.10.9"
  }
 },
 "nbformat": 4,
 "nbformat_minor": 5
}
